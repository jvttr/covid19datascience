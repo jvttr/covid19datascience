{
 "cells": [
  {
   "cell_type": "code",
   "execution_count": 1,
   "metadata": {},
   "outputs": [],
   "source": [
    "from sys import exit\n",
    "import numpy as np\n",
    "import pandas as pd\n",
    "from os.path import dirname, join, isfile, isdir\n",
    "from os import makedirs\n",
    "from datetime import datetime, timedelta\n",
    "from hashlib import sha256\n",
    "import codecs\n",
    "\n",
    "\n",
    "from bulletin.data.tb_pacientes import TbPacientes\n",
    "from bulletin.data.casos_confirmados import CasosConfirmados\n",
    "from bulletin.commom.utils import Timer, auto_fit_columns\n",
    "from bulletin.commom import static\n",
    "from bulletin.commom.normalize import *\n",
    "\n",
    "pd.set_option('display.max_columns', None)\n",
    "\n",
    "output = join(\"output\",\"correcoes\",\"casos_confirmados\")\n",
    "\n",
    "if not isdir(output):\n",
    "    makedirs(output)\n",
    "\n",
    "timer = Timer()"
   ]
  },
  {
   "cell_type": "code",
   "execution_count": 2,
   "metadata": {},
   "outputs": [
    {
     "output_type": "stream",
     "name": "stdout",
     "text": [
      "Casos confirmados excluidos: 19\n",
      "Obitos confirmados excluidos: 0\n"
     ]
    },
    {
     "output_type": "execute_result",
     "data": {
      "text/plain": [
       "235.14104676246643"
      ]
     },
     "metadata": {},
     "execution_count": 2
    }
   ],
   "source": [
    "timer.reset()\n",
    "casos_confirmados = CasosConfirmados()\n",
    "casos_confirmados.update()\n",
    "timer.stop()"
   ]
  },
  {
   "cell_type": "code",
   "execution_count": 3,
   "metadata": {},
   "outputs": [
    {
     "name": "stdout",
     "output_type": "stream",
     "text": [
      "492654;8977\n"
     ]
    },
    {
     "data": {
      "text/html": [
       "<div>\n",
       "<style scoped>\n",
       "    .dataframe tbody tr th:only-of-type {\n",
       "        vertical-align: middle;\n",
       "    }\n",
       "\n",
       "    .dataframe tbody tr th {\n",
       "        vertical-align: top;\n",
       "    }\n",
       "\n",
       "    .dataframe thead th {\n",
       "        text-align: right;\n",
       "    }\n",
       "</style>\n",
       "<table border=\"1\" class=\"dataframe\">\n",
       "  <thead>\n",
       "    <tr style=\"text-align: right;\">\n",
       "      <th></th>\n",
       "      <th>ordem</th>\n",
       "      <th>ibge7</th>\n",
       "      <th>nome</th>\n",
       "      <th>sexo</th>\n",
       "      <th>idade</th>\n",
       "      <th>municipio</th>\n",
       "      <th>rs</th>\n",
       "      <th>data_do_obito</th>\n",
       "      <th>data_comunicacao_obito</th>\n",
       "      <th>hash</th>\n",
       "      <th>hash_less</th>\n",
       "      <th>hash_more</th>\n",
       "    </tr>\n",
       "  </thead>\n",
       "  <tbody>\n",
       "    <tr>\n",
       "      <th>35</th>\n",
       "      <td>36</td>\n",
       "      <td>4101507</td>\n",
       "      <td>DARCY SEGUNDINO VENDRAMETTO</td>\n",
       "      <td>M</td>\n",
       "      <td>80</td>\n",
       "      <td>ARAPONGAS</td>\n",
       "      <td>16</td>\n",
       "      <td>2020-04-13</td>\n",
       "      <td>2020-04-13</td>\n",
       "      <td>a15c8f8f197d352b6eac190488a1d15111d4d1d0bad6c0...</td>\n",
       "      <td>f35d863c1b8e9bd9de4228cf43cf004f603b519a4f47c6...</td>\n",
       "      <td>4e3d0bc9efb935be41cec27c9aac614659338647e77db5...</td>\n",
       "    </tr>\n",
       "    <tr>\n",
       "      <th>121</th>\n",
       "      <td>122</td>\n",
       "      <td>4125506</td>\n",
       "      <td>IVO DA SILVA</td>\n",
       "      <td>M</td>\n",
       "      <td>58</td>\n",
       "      <td>SAO JOSE DOS PINHAIS</td>\n",
       "      <td>02</td>\n",
       "      <td>2020-05-10</td>\n",
       "      <td>2020-05-10</td>\n",
       "      <td>3991e73c627a9c2d9733712d3c165c70d2e4abd741f673...</td>\n",
       "      <td>1e7c3b497de76e3d3197b4abedcd4e1477b27c13a74f40...</td>\n",
       "      <td>e80a92ec671a99460e206c265a18632675836daeb40c4f...</td>\n",
       "    </tr>\n",
       "    <tr>\n",
       "      <th>138</th>\n",
       "      <td>139</td>\n",
       "      <td>4125506</td>\n",
       "      <td>APARECIDA GOMES DE MORAIS</td>\n",
       "      <td>F</td>\n",
       "      <td>76</td>\n",
       "      <td>SAO JOSE DOS PINHAIS</td>\n",
       "      <td>02</td>\n",
       "      <td>2020-05-17</td>\n",
       "      <td>2020-05-17</td>\n",
       "      <td>313650146b427513f8bc41be2868fc69e2e7b9233475e5...</td>\n",
       "      <td>c355f2e582d11373a325a1283a6fceed26f60c74e135a7...</td>\n",
       "      <td>a2d155d27985674063b30e6d8429c6292033a3b6cad637...</td>\n",
       "    </tr>\n",
       "    <tr>\n",
       "      <th>141</th>\n",
       "      <td>142</td>\n",
       "      <td>4104808</td>\n",
       "      <td>LUIZ AUGUSTO DOS SANTOS</td>\n",
       "      <td>M</td>\n",
       "      <td>86</td>\n",
       "      <td>CASCAVEL</td>\n",
       "      <td>10</td>\n",
       "      <td>2020-05-17</td>\n",
       "      <td>2020-05-17</td>\n",
       "      <td>7eb71abeceff1162a3ffde053469c02e3c8aceea703613...</td>\n",
       "      <td>0e0c629e8da27cdf6099685b61ca8c2dc747e948c77da5...</td>\n",
       "      <td>950990602728837e8d8d81f83f36439ae91b62cfba3fb8...</td>\n",
       "    </tr>\n",
       "    <tr>\n",
       "      <th>144</th>\n",
       "      <td>145</td>\n",
       "      <td>4118402</td>\n",
       "      <td>JOSE PAULO DIAS DA SILVA</td>\n",
       "      <td>M</td>\n",
       "      <td>54</td>\n",
       "      <td>PARANAVAI</td>\n",
       "      <td>14</td>\n",
       "      <td>2020-05-18</td>\n",
       "      <td>2020-05-18</td>\n",
       "      <td>ec6c8e5594b396d402ccbca1622a670ba9f7be567c81e8...</td>\n",
       "      <td>b320ed171c02ee86fa6f052f13c4917ba27cf47158ae87...</td>\n",
       "      <td>07677d0055c3eaae3bea4e4866703fb1fe8a22786d7307...</td>\n",
       "    </tr>\n",
       "    <tr>\n",
       "      <th>...</th>\n",
       "      <td>...</td>\n",
       "      <td>...</td>\n",
       "      <td>...</td>\n",
       "      <td>...</td>\n",
       "      <td>...</td>\n",
       "      <td>...</td>\n",
       "      <td>...</td>\n",
       "      <td>...</td>\n",
       "      <td>...</td>\n",
       "      <td>...</td>\n",
       "      <td>...</td>\n",
       "      <td>...</td>\n",
       "    </tr>\n",
       "    <tr>\n",
       "      <th>5244</th>\n",
       "      <td>5245</td>\n",
       "      <td>4119905</td>\n",
       "      <td>CELSO CERQUEIRA LIMA</td>\n",
       "      <td>M</td>\n",
       "      <td>56</td>\n",
       "      <td>PONTA GROSSA</td>\n",
       "      <td>03</td>\n",
       "      <td>2020-10-15</td>\n",
       "      <td>2020-10-15</td>\n",
       "      <td>e99244b09d39fa9aa7da7e00c353992738e4b06bb22a7e...</td>\n",
       "      <td>62d07c867784ed4cc1f28f579dc1c4bafb74e91a924c81...</td>\n",
       "      <td>f865d08b26ce6122c040d0838e261769d892f24305b47c...</td>\n",
       "    </tr>\n",
       "    <tr>\n",
       "      <th>5876</th>\n",
       "      <td>5877</td>\n",
       "      <td>4104808</td>\n",
       "      <td>JOSE ROBERTO MOREIRA</td>\n",
       "      <td>M</td>\n",
       "      <td>69</td>\n",
       "      <td>CASCAVEL</td>\n",
       "      <td>10</td>\n",
       "      <td>2020-11-13</td>\n",
       "      <td>2020-11-13</td>\n",
       "      <td>be11790a4c5fd810efc513d5d9e7a0b7dfab607aeab6ea...</td>\n",
       "      <td>0dea58202456a05b9b0d587d67e15be3a79f16c5b5b89b...</td>\n",
       "      <td>b254060c26304bc3262110ad799a37a54d398588794240...</td>\n",
       "    </tr>\n",
       "    <tr>\n",
       "      <th>5966</th>\n",
       "      <td>5967</td>\n",
       "      <td>4105805</td>\n",
       "      <td>SELMA NUNES SCHMIDT</td>\n",
       "      <td>F</td>\n",
       "      <td>72</td>\n",
       "      <td>COLOMBO</td>\n",
       "      <td>02</td>\n",
       "      <td>2020-11-16</td>\n",
       "      <td>2020-11-16</td>\n",
       "      <td>5ded8218caed084150c747ca250e6b73b976919f945864...</td>\n",
       "      <td>2f9fef0bf77c03e79f0e351afd4e10b8ab4caf44801564...</td>\n",
       "      <td>b817b9f64b56e7b8e01d9562875f02cf57800b610a38e1...</td>\n",
       "    </tr>\n",
       "    <tr>\n",
       "      <th>6143</th>\n",
       "      <td>6144</td>\n",
       "      <td>4104808</td>\n",
       "      <td>SARA DE SOUZA PADILHA</td>\n",
       "      <td>F</td>\n",
       "      <td>64</td>\n",
       "      <td>CASCAVEL</td>\n",
       "      <td>10</td>\n",
       "      <td>2020-11-23</td>\n",
       "      <td>2020-11-25</td>\n",
       "      <td>654e91ee7f226934e5ab8f657130a0f56e8c2612de293c...</td>\n",
       "      <td>32eb43614b559bbc653efa263c1fa9801e09129f548606...</td>\n",
       "      <td>68289e7664494e54214fc3bba8b660d1a20624c7d898ab...</td>\n",
       "    </tr>\n",
       "    <tr>\n",
       "      <th>6700</th>\n",
       "      <td>6701</td>\n",
       "      <td>4108304</td>\n",
       "      <td>JOSADAQUE EVANGELISTA DA SILVA</td>\n",
       "      <td>M</td>\n",
       "      <td>58</td>\n",
       "      <td>FOZ DO IGUACU</td>\n",
       "      <td>09</td>\n",
       "      <td>2020-12-05</td>\n",
       "      <td>2020-12-09</td>\n",
       "      <td>5495d38319d2fe2c0dd9e108c3d432f4a3079425a53ff9...</td>\n",
       "      <td>82d61b04e1dd2e6aba4496447b13a42ad0083982a4aa19...</td>\n",
       "      <td>fb1ed053d26e77e1a5c1dec06dac2123256d08649a9881...</td>\n",
       "    </tr>\n",
       "  </tbody>\n",
       "</table>\n",
       "<p>65 rows × 12 columns</p>\n",
       "</div>"
      ],
      "text/plain": [
       "Empty DataFrame\n",
       "Columns: [ordem, ibge7, nome, sexo, idade, municipio, rs, data_do_obito, excluir, hash, hash_less, hash_more, hash_dt_obito]\n",
       "Index: []"
      ],
      "text/html": "<div>\n<style scoped>\n    .dataframe tbody tr th:only-of-type {\n        vertical-align: middle;\n    }\n\n    .dataframe tbody tr th {\n        vertical-align: top;\n    }\n\n    .dataframe thead th {\n        text-align: right;\n    }\n</style>\n<table border=\"1\" class=\"dataframe\">\n  <thead>\n    <tr style=\"text-align: right;\">\n      <th></th>\n      <th>ordem</th>\n      <th>ibge7</th>\n      <th>nome</th>\n      <th>sexo</th>\n      <th>idade</th>\n      <th>municipio</th>\n      <th>rs</th>\n      <th>data_do_obito</th>\n      <th>excluir</th>\n      <th>hash</th>\n      <th>hash_less</th>\n      <th>hash_more</th>\n      <th>hash_dt_obito</th>\n    </tr>\n  </thead>\n  <tbody>\n  </tbody>\n</table>\n</div>"
     },
     "execution_count": 5,
     "metadata": {},
     "execution_count": 3
    }
   ],
   "source": [
    "# casos = casos_confirmados.fix_mun_resid_casos('mun_atend')\n",
    "# obitos = casos_confirmados.fix_mun_resid_obitos()\n",
    "casos = casos_confirmados.get_casos()\n",
    "casos = casos.drop(columns=['obito','data_obito','excluir'])\n",
    "obitos = casos_confirmados.get_obitos()\n",
    "\n",
    "print(f\"{len(casos)};{len(obitos)}\")\n",
    "obitos.loc[~obitos['hash'].isin(casos['hash'])]"
   ]
  },
  {
   "cell_type": "code",
   "execution_count": 4,
   "metadata": {},
   "outputs": [],
   "source": [
    "obitos.loc[obitos['hash'].isin(casos['hash_less']),'idade'] += 1\n",
    "obitos.loc[obitos['hash'].isin(casos['hash_less']),'hash'] = obitos.loc[obitos['hash'].isin(casos['hash_less'])].apply(lambda row: normalize_hash(row['nome'])+str(row['idade'])+normalize_hash(row['municipio']), axis=1)"
   ]
  },
  {
   "cell_type": "code",
   "execution_count": 5,
   "metadata": {},
   "outputs": [],
   "source": [
    "obitos.loc[obitos['hash'].isin(casos['hash_more']),'idade'] -= 1\n",
    "obitos.loc[obitos['hash'].isin(casos['hash_more']),'hash'] = obitos.loc[obitos['hash'].isin(casos['hash_more'])].apply(lambda row: normalize_hash(row['nome'])+str(row['idade'])+normalize_hash(row['municipio']), axis=1)"
   ]
  },
  {
   "cell_type": "code",
   "execution_count": 6,
   "metadata": {},
   "outputs": [
    {
     "output_type": "execute_result",
     "data": {
      "text/plain": [
       "Empty DataFrame\n",
       "Columns: [ordem, ibge7, nome, sexo, idade, municipio, rs, data_do_obito, excluir, hash, hash_less, hash_more, hash_dt_obito]\n",
       "Index: []"
      ],
      "text/html": "<div>\n<style scoped>\n    .dataframe tbody tr th:only-of-type {\n        vertical-align: middle;\n    }\n\n    .dataframe tbody tr th {\n        vertical-align: top;\n    }\n\n    .dataframe thead th {\n        text-align: right;\n    }\n</style>\n<table border=\"1\" class=\"dataframe\">\n  <thead>\n    <tr style=\"text-align: right;\">\n      <th></th>\n      <th>ordem</th>\n      <th>ibge7</th>\n      <th>nome</th>\n      <th>sexo</th>\n      <th>idade</th>\n      <th>municipio</th>\n      <th>rs</th>\n      <th>data_do_obito</th>\n      <th>excluir</th>\n      <th>hash</th>\n      <th>hash_less</th>\n      <th>hash_more</th>\n      <th>hash_dt_obito</th>\n    </tr>\n  </thead>\n  <tbody>\n  </tbody>\n</table>\n</div>"
     },
     "metadata": {},
     "execution_count": 6
    }
   ],
   "source": [
    "obitos.loc[~obitos['hash'].isin(casos['hash'])]"
   ]
  },
  {
   "cell_type": "code",
   "execution_count": 7,
   "metadata": {},
   "outputs": [
    {
     "output_type": "stream",
     "name": "stdout",
     "text": [
      "492654;8977\n"
     ]
    }
   ],
   "source": [
    "obitos = obitos.rename(columns={'data_do_obito': 'data_obito'})\n",
    "obitos['obito'] = 'SIM'\n",
    "\n",
    "casos = pd.merge(left=casos, right=obitos[['obito','data_obito','hash']], on='hash', how='left')\n",
    "\n",
    "casos.loc[casos['obito'].isnull(), 'obito'] = 'NAO'\n",
    "casos.loc[(casos['obito']==\"SIM\") & (casos.duplicated('hash')), 'obito'] = 'NAO'\n",
    "casos.loc[(casos['obito']==\"SIM\") & (casos.duplicated('hash')), 'data_obito'] = pd.NaT\n",
    "\n",
    "print(f\"{len(casos)};{len(casos.loc[casos['obito']=='SIM'])}\")"
   ]
  },
  {
   "cell_type": "code",
   "execution_count": 8,
   "metadata": {},
   "outputs": [],
   "source": [
    "def get_better(cc):\n",
    "    scores = np.zeros(len(cc))\n",
    "\n",
    "    for i, (_, cc_row) in enumerate(cc.iterrows()):\n",
    "        # if cc_row['obito'] == 'SIM':\n",
    "        scores[i] = i\n",
    "\n",
    "    i = np.argmax(scores)\n",
    "    return cc.iloc[i].name"
   ]
  },
  {
   "cell_type": "code",
   "execution_count": 9,
   "metadata": {},
   "outputs": [],
   "source": [
    "casos['nome_hash'] = casos['nome'].apply(normalize_hash)\n",
    "new_casos = casos.sort_values('nome_hash')[['ordem','ibge7','nome','sexo','idade','mun_resid','mun_atend','rs','laboratorio','dt_diag','comunicacao','is','obito','data_obito','nome_hash','hash_dt_diag']]\n",
    "\n",
    "obitos['nome_hash'] = obitos['nome'].apply(normalize_hash)\n",
    "new_obitos = obitos.sort_values('nome_hash')[['ordem','ibge7','nome','sexo','idade','municipio','rs','data_obito','nome_hash','hash_dt_obito']]"
   ]
  },
  {
   "cell_type": "code",
   "execution_count": 10,
   "metadata": {},
   "outputs": [],
   "source": [
    "casos_duplicados = new_casos.loc[new_casos.duplicated('hash_dt_diag',keep=False)].sort_values('nome_hash')\n",
    "\n",
    "writer = pd.ExcelWriter(join(output,'casos_duplicados.xlsx'),\n",
    "                        engine='xlsxwriter',\n",
    "                        datetime_format='dd/mm/yyyy',\n",
    "                        date_format='dd/mm/yyyy')\n",
    "\n",
    "casos_duplicados.to_excel(writer,sheet_name=\"casos_duplicados\",index=None)\n",
    "worksheet = writer.sheets[\"casos_duplicados\"]\n",
    "auto_fit_columns(worksheet,casos_duplicados)\n",
    "\n",
    "writer.save()\n",
    "writer.close()"
   ]
  },
  {
   "cell_type": "code",
   "execution_count": 11,
   "metadata": {},
   "outputs": [],
   "source": [
    "casos['excluir'] = 'NAO'\n",
    "manter = []\n",
    "casos_duplicados = casos_duplicados.sort_values('ordem')\n",
    "\n",
    "for cc_group in casos_duplicados.groupby('hash_dt_diag'):\n",
    "    \n",
    "    idx = get_better(cc_group[1])\n",
    "    manter.append(idx)\n",
    "\n",
    "duplicados = set(casos_duplicados.index.tolist())\n",
    "duplicados = duplicados - set(manter)\n",
    "\n",
    "casos.loc[duplicados,'excluir'] = 'SIM'"
   ]
  },
  {
   "cell_type": "code",
   "execution_count": 12,
   "metadata": {},
   "outputs": [],
   "source": [
    "obitos_duplicados = new_obitos.loc[new_obitos.duplicated('hash_dt_obito',keep=False)].sort_values('nome_hash')\n",
    "\n",
    "writer = pd.ExcelWriter(join(output,'obitos_duplicados.xlsx'),\n",
    "                        engine='xlsxwriter',\n",
    "                        datetime_format='dd/mm/yyyy',\n",
    "                        date_format='dd/mm/yyyy')\n",
    "\n",
    "obitos_duplicados.to_excel(writer,sheet_name=\"obitos_duplicados\",index=None)\n",
    "worksheet = writer.sheets[\"obitos_duplicados\"]\n",
    "auto_fit_columns(worksheet,obitos_duplicados)\n",
    "\n",
    "writer.save()\n",
    "writer.close()"
   ]
  },
  {
   "cell_type": "code",
   "execution_count": 13,
   "metadata": {},
   "outputs": [],
   "source": [
    "obitos['excluir'] = 'NAO'\n",
    "manter = []\n",
    "obitos_duplicados = obitos_duplicados.sort_values('ordem')\n",
    "\n",
    "for cc_group in obitos_duplicados.groupby('hash_dt_obito'):\n",
    "    \n",
    "    idx = get_better(cc_group[1])\n",
    "    manter.append(idx)\n",
    "\n",
    "duplicados = set(obitos_duplicados.index.tolist())\n",
    "duplicados = duplicados - set(manter)\n",
    "\n",
    "obitos.loc[duplicados,'excluir'] = 'SIM'"
   ]
  },
  {
   "cell_type": "code",
   "execution_count": 14,
   "metadata": {},
   "outputs": [],
   "source": [
    "new_casos = casos[['ordem','ibge7','nome','sexo','idade','mun_resid','mun_atend','rs','laboratorio','dt_diag','comunicacao','is','obito','data_obito','excluir']]\n",
    "new_obitos = obitos[['ordem','ibge7','nome','sexo','idade','municipio','rs','data_obito','excluir']]"
   ]
  },
  {
   "cell_type": "code",
   "execution_count": 15,
   "metadata": {},
   "outputs": [],
   "source": [
    "writer = pd.ExcelWriter(join(output,\"Casos confirmados.xlsx\"),\n",
    "                        engine='xlsxwriter',\n",
    "                        datetime_format='dd/mm/yyyy',\n",
    "                        date_format='dd/mm/yyyy')\n",
    "\n",
    "new_casos.to_excel(writer,sheet_name='Casos confirmados',index=None)\n",
    "new_obitos.to_excel(writer,sheet_name='Obitos',index=None)\n",
    "\n",
    "writer.save()\n",
    "writer.close()"
   ]
  },
  {
   "cell_type": "code",
   "execution_count": 16,
   "metadata": {},
   "outputs": [],
   "source": [
    "writer = pd.ExcelWriter(join(output,f\"Casos Confirmados Regionais.xlsx\"),\n",
    "                        engine='xlsxwriter',\n",
    "                        datetime_format='dd/mm/yyyy',\n",
    "                        date_format='dd/mm/yyyy')\n",
    "\n",
    "for grupo_casos, grupo_obitos in zip(new_casos.groupby('rs'),new_obitos.groupby('rs')):\n",
    "    grupo_casos[1].to_excel(writer,sheet_name=f\"casos_rs{grupo_casos[0]}\",index=None)\n",
    "    grupo_obitos[1].to_excel(writer,sheet_name=f\"obitos_rs{grupo_casos[0]}\",index=None)\n",
    "    worksheet = writer.sheets[f\"casos_rs{grupo_casos[0]}\"]\n",
    "    auto_fit_columns(worksheet,grupo_casos[1])\n",
    "    worksheet = writer.sheets[f\"obitos_rs{grupo_casos[0]}\"]\n",
    "    auto_fit_columns(worksheet,grupo_obitos[1])\n",
    "\n",
    "new_casos.loc[new_casos['rs'].isnull()].to_excel(writer,sheet_name='casos_fora',index=None)\n",
    "new_obitos.loc[new_obitos['rs'].isnull()].to_excel(writer,sheet_name='obitos_fora',index=None)\n",
    "\n",
    "writer.save()\n",
    "writer.close()"
   ]
  }
 ],
 "metadata": {
  "kernelspec": {
   "display_name": "Python 3",
   "language": "python",
   "name": "python3"
  },
  "language_info": {
   "codemirror_mode": {
    "name": "ipython",
    "version": 3
   },
   "file_extension": ".py",
   "mimetype": "text/x-python",
   "name": "python",
   "nbconvert_exporter": "python",
   "pygments_lexer": "ipython3",
   "version": "3.8.5"
  }
 },
 "nbformat": 4,
 "nbformat_minor": 4
}
