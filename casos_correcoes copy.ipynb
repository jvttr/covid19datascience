{
 "metadata": {
  "language_info": {
   "codemirror_mode": {
    "name": "ipython",
    "version": 3
   },
   "file_extension": ".py",
   "mimetype": "text/x-python",
   "name": "python",
   "nbconvert_exporter": "python",
   "pygments_lexer": "ipython3",
   "version": "3.8.5-final"
  },
  "orig_nbformat": 2,
  "kernelspec": {
   "name": "python3",
   "display_name": "Python 3",
   "language": "python"
  }
 },
 "nbformat": 4,
 "nbformat_minor": 2,
 "cells": [
  {
   "cell_type": "code",
   "execution_count": 1,
   "metadata": {},
   "outputs": [],
   "source": [
    "from sys import exit\n",
    "import numpy as np\n",
    "import pandas as pd\n",
    "from os.path import dirname, join, isfile, isdir\n",
    "from os import makedirs\n",
    "from datetime import datetime, timedelta\n",
    "from hashlib import sha256\n",
    "import codecs\n",
    "\n",
    "\n",
    "from bulletin.data.tb_pacientes import TbPacientes\n",
    "from bulletin.data.casos_confirmados import CasosConfirmados\n",
    "from bulletin.commom.utils import Timer, auto_fit_columns\n",
    "from bulletin.commom import static\n",
    "from bulletin.commom.normalize import *\n",
    "\n",
    "pd.set_option('display.max_columns', None)\n",
    "\n",
    "output = join(\"output\",\"correcoes\",\"casos_confirmados\")\n",
    "\n",
    "if not isdir(output):\n",
    "    makedirs(output)\n",
    "\n",
    "timer = Timer()"
   ]
  },
  {
   "cell_type": "code",
   "execution_count": 2,
   "metadata": {},
   "outputs": [
    {
     "output_type": "execute_result",
     "data": {
      "text/plain": [
       "1.1080374717712402"
      ]
     },
     "metadata": {},
     "execution_count": 2
    }
   ],
   "source": [
    "timer.reset()\n",
    "casos_confirmados = CasosConfirmados()\n",
    "# casos_confirmados.update()\n",
    "timer.stop()"
   ]
  },
  {
   "cell_type": "code",
   "execution_count": 3,
   "metadata": {},
   "outputs": [
    {
     "output_type": "stream",
     "name": "stdout",
     "text": [
      "486843;8916\n"
     ]
    },
    {
     "output_type": "execute_result",
     "data": {
      "text/plain": [
       "     ordem    ibge7                          nome sexo  idade  \\\n",
       "35      36  4118501                 ADAO DA SILVA    M     70   \n",
       "121    122  4125506                  IVO DA SILVA    M     57   \n",
       "138    139  4125506     APARECIDA GOMES DE MORAIS    F     76   \n",
       "143    144  4126678  VANILDA GONCALVES DOS SANTOS    F     38   \n",
       "144    145  4118402      JOSE PAULO DIAS DA SILVA    M     53   \n",
       "...    ...      ...                           ...  ...    ...   \n",
       "5233  5244  4119905          CELSO CERQUEIRA LIMA    M     56   \n",
       "5273  5284  4101804                  ADEMIR LEMOS    M     67   \n",
       "5313  5324  4104204            ANTONIO KICHILEVCZ    M     86   \n",
       "5342  5353  4119152          NILSON SUTIL SANTANA    M     49   \n",
       "5454  5465  4104204        LUIZ FERNANDO SALMORIA    M     56   \n",
       "\n",
       "                 municipio  rs data_do_obito  \\\n",
       "35             PATO BRANCO  07    2020-04-13   \n",
       "121   SAO JOSE DOS PINHAIS  02    2020-05-10   \n",
       "138   SAO JOSE DOS PINHAIS  02    2020-05-17   \n",
       "143               TAMARANA  17    2020-05-17   \n",
       "144              PARANAVAI  14    2020-05-18   \n",
       "...                    ...  ..           ...   \n",
       "5233          PONTA GROSSA  03    2020-10-15   \n",
       "5273             ARAUCARIA  02    2020-10-17   \n",
       "5313           CAMPO LARGO  02    2020-10-19   \n",
       "5342               PINHAIS  02    2020-10-20   \n",
       "5454           CAMPO LARGO  02    2020-10-25   \n",
       "\n",
       "                                           hash  \\\n",
       "35                      ADAODASILVA70PATOBRANCO   \n",
       "121               IVODASILVA57SAOJOSEDOSPINHAIS   \n",
       "138   APARECIDAGOMESDEMORAIS76SAOJOSEDOSPINHAIS   \n",
       "143         VANILDAGONCALVESDOSSANTOS38TAMARANA   \n",
       "144             JOSEPAULODIASDASILVA53PARANAVAI   \n",
       "...                                         ...   \n",
       "5233            CELSOCERQUEIRALIMA56PONTAGROSSA   \n",
       "5273                     ADEMIRLEMOS67ARAUCARIA   \n",
       "5313              ANTONIOKICHILEVCZ86CAMPOLARGO   \n",
       "5342                NILSONSUTILSANTANA49PINHAIS   \n",
       "5454           LUIZFERNANDOSALMORIA56CAMPOLARGO   \n",
       "\n",
       "                                      hash_less  \\\n",
       "35                      ADAODASILVA69PATOBRANCO   \n",
       "121               IVODASILVA56SAOJOSEDOSPINHAIS   \n",
       "138   APARECIDAGOMESDEMORAIS75SAOJOSEDOSPINHAIS   \n",
       "143         VANILDAGONCALVESDOSSANTOS37TAMARANA   \n",
       "144             JOSEPAULODIASDASILVA52PARANAVAI   \n",
       "...                                         ...   \n",
       "5233            CELSOCERQUEIRALIMA55PONTAGROSSA   \n",
       "5273                     ADEMIRLEMOS66ARAUCARIA   \n",
       "5313              ANTONIOKICHILEVCZ85CAMPOLARGO   \n",
       "5342                NILSONSUTILSANTANA48PINHAIS   \n",
       "5454           LUIZFERNANDOSALMORIA55CAMPOLARGO   \n",
       "\n",
       "                                      hash_more  \\\n",
       "35                      ADAODASILVA71PATOBRANCO   \n",
       "121               IVODASILVA58SAOJOSEDOSPINHAIS   \n",
       "138   APARECIDAGOMESDEMORAIS77SAOJOSEDOSPINHAIS   \n",
       "143         VANILDAGONCALVESDOSSANTOS39TAMARANA   \n",
       "144             JOSEPAULODIASDASILVA54PARANAVAI   \n",
       "...                                         ...   \n",
       "5233            CELSOCERQUEIRALIMA57PONTAGROSSA   \n",
       "5273                     ADEMIRLEMOS68ARAUCARIA   \n",
       "5313              ANTONIOKICHILEVCZ87CAMPOLARGO   \n",
       "5342                NILSONSUTILSANTANA50PINHAIS   \n",
       "5454           LUIZFERNANDOSALMORIA57CAMPOLARGO   \n",
       "\n",
       "                                hash_dt_obito  \n",
       "35                  ADAODASILVA20200413000000  \n",
       "121                  IVODASILVA20200510000000  \n",
       "138      APARECIDAGOMESDEMORAIS20200517000000  \n",
       "143   VANILDAGONCALVESDOSSANTOS20200517000000  \n",
       "144        JOSEPAULODIASDASILVA20200518000000  \n",
       "...                                       ...  \n",
       "5233         CELSOCERQUEIRALIMA20201015000000  \n",
       "5273                ADEMIRLEMOS20201017000000  \n",
       "5313          ANTONIOKICHILEVCZ20201019000000  \n",
       "5342         NILSONSUTILSANTANA20201020000000  \n",
       "5454       LUIZFERNANDOSALMORIA20201025000000  \n",
       "\n",
       "[65 rows x 12 columns]"
      ],
      "text/html": "<div>\n<style scoped>\n    .dataframe tbody tr th:only-of-type {\n        vertical-align: middle;\n    }\n\n    .dataframe tbody tr th {\n        vertical-align: top;\n    }\n\n    .dataframe thead th {\n        text-align: right;\n    }\n</style>\n<table border=\"1\" class=\"dataframe\">\n  <thead>\n    <tr style=\"text-align: right;\">\n      <th></th>\n      <th>ordem</th>\n      <th>ibge7</th>\n      <th>nome</th>\n      <th>sexo</th>\n      <th>idade</th>\n      <th>municipio</th>\n      <th>rs</th>\n      <th>data_do_obito</th>\n      <th>hash</th>\n      <th>hash_less</th>\n      <th>hash_more</th>\n      <th>hash_dt_obito</th>\n    </tr>\n  </thead>\n  <tbody>\n    <tr>\n      <th>35</th>\n      <td>36</td>\n      <td>4118501</td>\n      <td>ADAO DA SILVA</td>\n      <td>M</td>\n      <td>70</td>\n      <td>PATO BRANCO</td>\n      <td>07</td>\n      <td>2020-04-13</td>\n      <td>ADAODASILVA70PATOBRANCO</td>\n      <td>ADAODASILVA69PATOBRANCO</td>\n      <td>ADAODASILVA71PATOBRANCO</td>\n      <td>ADAODASILVA20200413000000</td>\n    </tr>\n    <tr>\n      <th>121</th>\n      <td>122</td>\n      <td>4125506</td>\n      <td>IVO DA SILVA</td>\n      <td>M</td>\n      <td>57</td>\n      <td>SAO JOSE DOS PINHAIS</td>\n      <td>02</td>\n      <td>2020-05-10</td>\n      <td>IVODASILVA57SAOJOSEDOSPINHAIS</td>\n      <td>IVODASILVA56SAOJOSEDOSPINHAIS</td>\n      <td>IVODASILVA58SAOJOSEDOSPINHAIS</td>\n      <td>IVODASILVA20200510000000</td>\n    </tr>\n    <tr>\n      <th>138</th>\n      <td>139</td>\n      <td>4125506</td>\n      <td>APARECIDA GOMES DE MORAIS</td>\n      <td>F</td>\n      <td>76</td>\n      <td>SAO JOSE DOS PINHAIS</td>\n      <td>02</td>\n      <td>2020-05-17</td>\n      <td>APARECIDAGOMESDEMORAIS76SAOJOSEDOSPINHAIS</td>\n      <td>APARECIDAGOMESDEMORAIS75SAOJOSEDOSPINHAIS</td>\n      <td>APARECIDAGOMESDEMORAIS77SAOJOSEDOSPINHAIS</td>\n      <td>APARECIDAGOMESDEMORAIS20200517000000</td>\n    </tr>\n    <tr>\n      <th>143</th>\n      <td>144</td>\n      <td>4126678</td>\n      <td>VANILDA GONCALVES DOS SANTOS</td>\n      <td>F</td>\n      <td>38</td>\n      <td>TAMARANA</td>\n      <td>17</td>\n      <td>2020-05-17</td>\n      <td>VANILDAGONCALVESDOSSANTOS38TAMARANA</td>\n      <td>VANILDAGONCALVESDOSSANTOS37TAMARANA</td>\n      <td>VANILDAGONCALVESDOSSANTOS39TAMARANA</td>\n      <td>VANILDAGONCALVESDOSSANTOS20200517000000</td>\n    </tr>\n    <tr>\n      <th>144</th>\n      <td>145</td>\n      <td>4118402</td>\n      <td>JOSE PAULO DIAS DA SILVA</td>\n      <td>M</td>\n      <td>53</td>\n      <td>PARANAVAI</td>\n      <td>14</td>\n      <td>2020-05-18</td>\n      <td>JOSEPAULODIASDASILVA53PARANAVAI</td>\n      <td>JOSEPAULODIASDASILVA52PARANAVAI</td>\n      <td>JOSEPAULODIASDASILVA54PARANAVAI</td>\n      <td>JOSEPAULODIASDASILVA20200518000000</td>\n    </tr>\n    <tr>\n      <th>...</th>\n      <td>...</td>\n      <td>...</td>\n      <td>...</td>\n      <td>...</td>\n      <td>...</td>\n      <td>...</td>\n      <td>...</td>\n      <td>...</td>\n      <td>...</td>\n      <td>...</td>\n      <td>...</td>\n      <td>...</td>\n    </tr>\n    <tr>\n      <th>5233</th>\n      <td>5244</td>\n      <td>4119905</td>\n      <td>CELSO CERQUEIRA LIMA</td>\n      <td>M</td>\n      <td>56</td>\n      <td>PONTA GROSSA</td>\n      <td>03</td>\n      <td>2020-10-15</td>\n      <td>CELSOCERQUEIRALIMA56PONTAGROSSA</td>\n      <td>CELSOCERQUEIRALIMA55PONTAGROSSA</td>\n      <td>CELSOCERQUEIRALIMA57PONTAGROSSA</td>\n      <td>CELSOCERQUEIRALIMA20201015000000</td>\n    </tr>\n    <tr>\n      <th>5273</th>\n      <td>5284</td>\n      <td>4101804</td>\n      <td>ADEMIR LEMOS</td>\n      <td>M</td>\n      <td>67</td>\n      <td>ARAUCARIA</td>\n      <td>02</td>\n      <td>2020-10-17</td>\n      <td>ADEMIRLEMOS67ARAUCARIA</td>\n      <td>ADEMIRLEMOS66ARAUCARIA</td>\n      <td>ADEMIRLEMOS68ARAUCARIA</td>\n      <td>ADEMIRLEMOS20201017000000</td>\n    </tr>\n    <tr>\n      <th>5313</th>\n      <td>5324</td>\n      <td>4104204</td>\n      <td>ANTONIO KICHILEVCZ</td>\n      <td>M</td>\n      <td>86</td>\n      <td>CAMPO LARGO</td>\n      <td>02</td>\n      <td>2020-10-19</td>\n      <td>ANTONIOKICHILEVCZ86CAMPOLARGO</td>\n      <td>ANTONIOKICHILEVCZ85CAMPOLARGO</td>\n      <td>ANTONIOKICHILEVCZ87CAMPOLARGO</td>\n      <td>ANTONIOKICHILEVCZ20201019000000</td>\n    </tr>\n    <tr>\n      <th>5342</th>\n      <td>5353</td>\n      <td>4119152</td>\n      <td>NILSON SUTIL SANTANA</td>\n      <td>M</td>\n      <td>49</td>\n      <td>PINHAIS</td>\n      <td>02</td>\n      <td>2020-10-20</td>\n      <td>NILSONSUTILSANTANA49PINHAIS</td>\n      <td>NILSONSUTILSANTANA48PINHAIS</td>\n      <td>NILSONSUTILSANTANA50PINHAIS</td>\n      <td>NILSONSUTILSANTANA20201020000000</td>\n    </tr>\n    <tr>\n      <th>5454</th>\n      <td>5465</td>\n      <td>4104204</td>\n      <td>LUIZ FERNANDO SALMORIA</td>\n      <td>M</td>\n      <td>56</td>\n      <td>CAMPO LARGO</td>\n      <td>02</td>\n      <td>2020-10-25</td>\n      <td>LUIZFERNANDOSALMORIA56CAMPOLARGO</td>\n      <td>LUIZFERNANDOSALMORIA55CAMPOLARGO</td>\n      <td>LUIZFERNANDOSALMORIA57CAMPOLARGO</td>\n      <td>LUIZFERNANDOSALMORIA20201025000000</td>\n    </tr>\n  </tbody>\n</table>\n<p>65 rows × 12 columns</p>\n</div>"
     },
     "metadata": {},
     "execution_count": 3
    }
   ],
   "source": [
    "# casos = casos_confirmados.fix_mun_resid_casos('mun_atend')\n",
    "# obitos = casos_confirmados.fix_mun_resid_obitos()\n",
    "casos = casos_confirmados.get_casos()\n",
    "casos = casos.drop(columns=['obito','data_obito','excluir'])\n",
    "obitos = casos_confirmados.get_obitos()\n",
    "\n",
    "print(f\"{len(casos)};{len(obitos)}\")\n",
    "obitos.loc[~obitos['hash'].isin(casos['hash'])]"
   ]
  },
  {
   "cell_type": "code",
   "execution_count": 4,
   "metadata": {},
   "outputs": [],
   "source": [
    "obitos.loc[obitos['hash'].isin(casos['hash_less']),'idade'] += 1\n",
    "obitos.loc[obitos['hash'].isin(casos['hash_less']),'hash'] = obitos.loc[obitos['hash'].isin(casos['hash_less'])].apply(lambda row: normalize_hash(row['nome'])+str(row['idade'])+normalize_hash(row['municipio']), axis=1)"
   ]
  },
  {
   "cell_type": "code",
   "execution_count": 5,
   "metadata": {},
   "outputs": [],
   "source": [
    "obitos.loc[obitos['hash'].isin(casos['hash_more']),'idade'] -= 1\n",
    "obitos.loc[obitos['hash'].isin(casos['hash_more']),'hash'] = obitos.loc[obitos['hash'].isin(casos['hash_more'])].apply(lambda row: normalize_hash(row['nome'])+str(row['idade'])+normalize_hash(row['municipio']), axis=1)"
   ]
  },
  {
   "cell_type": "code",
   "execution_count": 6,
   "metadata": {},
   "outputs": [
    {
     "output_type": "execute_result",
     "data": {
      "text/plain": [
       "Empty DataFrame\n",
       "Columns: [ordem, ibge7, nome, sexo, idade, municipio, rs, data_do_obito, hash, hash_less, hash_more, hash_dt_obito]\n",
       "Index: []"
      ],
      "text/html": "<div>\n<style scoped>\n    .dataframe tbody tr th:only-of-type {\n        vertical-align: middle;\n    }\n\n    .dataframe tbody tr th {\n        vertical-align: top;\n    }\n\n    .dataframe thead th {\n        text-align: right;\n    }\n</style>\n<table border=\"1\" class=\"dataframe\">\n  <thead>\n    <tr style=\"text-align: right;\">\n      <th></th>\n      <th>ordem</th>\n      <th>ibge7</th>\n      <th>nome</th>\n      <th>sexo</th>\n      <th>idade</th>\n      <th>municipio</th>\n      <th>rs</th>\n      <th>data_do_obito</th>\n      <th>hash</th>\n      <th>hash_less</th>\n      <th>hash_more</th>\n      <th>hash_dt_obito</th>\n    </tr>\n  </thead>\n  <tbody>\n  </tbody>\n</table>\n</div>"
     },
     "metadata": {},
     "execution_count": 6
    }
   ],
   "source": [
    "obitos.loc[~obitos['hash'].isin(casos['hash'])]"
   ]
  },
  {
   "cell_type": "code",
   "execution_count": 7,
   "metadata": {},
   "outputs": [
    {
     "output_type": "stream",
     "name": "stdout",
     "text": [
      "486843;8916\n"
     ]
    }
   ],
   "source": [
    "obitos = obitos.rename(columns={'data_do_obito': 'data_obito'})\n",
    "obitos['obito'] = 'SIM'\n",
    "\n",
    "casos = pd.merge(left=casos, right=obitos[['obito','data_obito','hash']], on='hash', how='left')\n",
    "\n",
    "casos.loc[casos['obito'].isnull(), 'obito'] = 'NAO'\n",
    "casos.loc[(casos['obito']==\"SIM\") & (casos.duplicated('hash')), 'obito'] = 'NAO'\n",
    "casos.loc[(casos['obito']==\"SIM\") & (casos.duplicated('hash')), 'data_obito'] = pd.NaT\n",
    "\n",
    "print(f\"{len(casos)};{len(casos.loc[casos['obito']=='SIM'])}\")"
   ]
  },
  {
   "cell_type": "code",
   "execution_count": 8,
   "metadata": {},
   "outputs": [],
   "source": [
    "def get_better(cc):\n",
    "    scores = np.zeros(len(cc))\n",
    "\n",
    "    for i, (_, cc_row) in enumerate(cc.iterrows()):\n",
    "        # if cc_row['obito'] == 'SIM':\n",
    "        scores[i] = i\n",
    "\n",
    "    i = np.argmax(scores)\n",
    "    return cc.iloc[i].name"
   ]
  },
  {
   "cell_type": "code",
   "execution_count": 9,
   "metadata": {},
   "outputs": [],
   "source": [
    "casos['nome_hash'] = casos['nome'].apply(normalize_hash)\n",
    "new_casos = casos.sort_values('nome_hash')[['ordem','ibge7','nome','sexo','idade','mun_resid','mun_atend','rs','laboratorio','dt_diag','comunicacao','is','obito','data_obito','nome_hash','hash_dt_diag']]\n",
    "\n",
    "obitos['nome_hash'] = obitos['nome'].apply(normalize_hash)\n",
    "new_obitos = obitos.sort_values('nome_hash')[['ordem','ibge7','nome','sexo','idade','municipio','rs','data_obito','nome_hash','hash_dt_obito']]"
   ]
  },
  {
   "cell_type": "code",
   "execution_count": 10,
   "metadata": {},
   "outputs": [],
   "source": [
    "casos_duplicados = new_casos.loc[new_casos.duplicated('hash_dt_diag',keep=False)].sort_values('nome_hash')\n",
    "\n",
    "writer = pd.ExcelWriter(join(output,'casos_duplicados.xlsx'),\n",
    "                        engine='xlsxwriter',\n",
    "                        datetime_format='dd/mm/yyyy',\n",
    "                        date_format='dd/mm/yyyy')\n",
    "\n",
    "casos_duplicados.to_excel(writer,sheet_name=\"casos_duplicados\",index=None)\n",
    "worksheet = writer.sheets[\"casos_duplicados\"]\n",
    "auto_fit_columns(worksheet,casos_duplicados)\n",
    "\n",
    "writer.save()\n",
    "writer.close()"
   ]
  },
  {
   "cell_type": "code",
   "execution_count": 11,
   "metadata": {},
   "outputs": [],
   "source": [
    "casos['excluir'] = 'NAO'\n",
    "manter = []\n",
    "casos_duplicados = casos_duplicados.sort_values('ordem')\n",
    "\n",
    "for cc_group in casos_duplicados.groupby('hash_dt_diag'):\n",
    "    \n",
    "    idx = get_better(cc_group[1])\n",
    "    manter.append(idx)\n",
    "\n",
    "duplicados = set(casos_duplicados.index.tolist())\n",
    "duplicados = duplicados - set(manter)\n",
    "\n",
    "casos.loc[duplicados,'excluir'] = 'SIM'"
   ]
  },
  {
   "cell_type": "code",
   "execution_count": 12,
   "metadata": {},
   "outputs": [],
   "source": [
    "obitos_duplicados = new_obitos.loc[new_obitos.duplicated('hash_dt_obito',keep=False)].sort_values('nome_hash')\n",
    "\n",
    "writer = pd.ExcelWriter(join(output,'obitos_duplicados.xlsx'),\n",
    "                        engine='xlsxwriter',\n",
    "                        datetime_format='dd/mm/yyyy',\n",
    "                        date_format='dd/mm/yyyy')\n",
    "\n",
    "obitos_duplicados.to_excel(writer,sheet_name=\"obitos_duplicados\",index=None)\n",
    "worksheet = writer.sheets[\"obitos_duplicados\"]\n",
    "auto_fit_columns(worksheet,obitos_duplicados)\n",
    "\n",
    "writer.save()\n",
    "writer.close()"
   ]
  },
  {
   "cell_type": "code",
   "execution_count": 13,
   "metadata": {},
   "outputs": [],
   "source": [
    "obitos['excluir'] = 'NAO'\n",
    "manter = []\n",
    "obitos_duplicados = obitos_duplicados.sort_values('ordem')\n",
    "\n",
    "for cc_group in obitos_duplicados.groupby('hash_dt_obito'):\n",
    "    \n",
    "    idx = get_better(cc_group[1])\n",
    "    manter.append(idx)\n",
    "\n",
    "duplicados = set(obitos_duplicados.index.tolist())\n",
    "duplicados = duplicados - set(manter)\n",
    "\n",
    "obitos.loc[duplicados,'excluir'] = 'SIM'"
   ]
  },
  {
   "cell_type": "code",
   "execution_count": 14,
   "metadata": {},
   "outputs": [],
   "source": [
    "new_casos = casos[['ordem','ibge7','nome','sexo','idade','mun_resid','mun_atend','rs','laboratorio','dt_diag','comunicacao','is','obito','data_obito','excluir']]\n",
    "new_obitos = obitos[['ordem','ibge7','nome','sexo','idade','municipio','rs','data_obito','excluir']]"
   ]
  },
  {
   "cell_type": "code",
   "execution_count": 15,
   "metadata": {},
   "outputs": [],
   "source": [
    "writer = pd.ExcelWriter(join(output,\"Casos confirmados.xlsx\"),\n",
    "                        engine='xlsxwriter',\n",
    "                        datetime_format='dd/mm/yyyy',\n",
    "                        date_format='dd/mm/yyyy')\n",
    "\n",
    "new_casos.to_excel(writer,sheet_name='Casos confirmados',index=None)\n",
    "new_obitos.to_excel(writer,sheet_name='Obitos',index=None)\n",
    "\n",
    "writer.save()\n",
    "writer.close()"
   ]
  },
  {
   "cell_type": "code",
   "execution_count": 16,
   "metadata": {},
   "outputs": [],
   "source": [
    "writer = pd.ExcelWriter(join(output,f\"Casos Confirmados Regionais.xlsx\"),\n",
    "                        engine='xlsxwriter',\n",
    "                        datetime_format='dd/mm/yyyy',\n",
    "                        date_format='dd/mm/yyyy')\n",
    "\n",
    "for grupo_casos, grupo_obitos in zip(new_casos.groupby('rs'),new_obitos.groupby('rs')):\n",
    "    grupo_casos[1].to_excel(writer,sheet_name=f\"casos_rs{grupo_casos[0]}\",index=None)\n",
    "    grupo_obitos[1].to_excel(writer,sheet_name=f\"obitos_rs{grupo_casos[0]}\",index=None)\n",
    "    worksheet = writer.sheets[f\"casos_rs{grupo_casos[0]}\"]\n",
    "    auto_fit_columns(worksheet,grupo_casos[1])\n",
    "    worksheet = writer.sheets[f\"obitos_rs{grupo_casos[0]}\"]\n",
    "    auto_fit_columns(worksheet,grupo_obitos[1])\n",
    "\n",
    "new_casos.loc[new_casos['rs'].isnull()].to_excel(writer,sheet_name='casos_fora',index=None)\n",
    "new_obitos.loc[new_obitos['rs'].isnull()].to_excel(writer,sheet_name='obitos_fora',index=None)\n",
    "\n",
    "writer.save()\n",
    "writer.close()"
   ]
  }
 ]
}