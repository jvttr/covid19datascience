{
 "metadata": {
  "language_info": {
   "codemirror_mode": {
    "name": "ipython",
    "version": 3
   },
   "file_extension": ".py",
   "mimetype": "text/x-python",
   "name": "python",
   "nbconvert_exporter": "python",
   "pygments_lexer": "ipython3",
   "version": "3.8.5-final"
  },
  "orig_nbformat": 2,
  "kernelspec": {
   "name": "python3",
   "display_name": "Python 3",
   "language": "python"
  }
 },
 "nbformat": 4,
 "nbformat_minor": 2,
 "cells": [
  {
   "cell_type": "code",
   "execution_count": 1,
   "metadata": {},
   "outputs": [],
   "source": [
    "from sys import exit\n",
    "import numpy as np\n",
    "import pandas as pd\n",
    "from os.path import dirname, join, isfile, isdir\n",
    "from os import makedirs\n",
    "from datetime import datetime, timedelta\n",
    "from hashlib import sha256\n",
    "import codecs\n",
    "\n",
    "\n",
    "from bulletin.data.tb_pacientes import TbPacientes\n",
    "from bulletin.data.casos_confirmados import CasosConfirmados\n",
    "from bulletin.commom.utils import Timer\n",
    "from bulletin.commom import static\n",
    "from bulletin.commom.normalize import *\n",
    "\n",
    "pd.set_option('display.max_columns', None)\n",
    "\n",
    "output = join(\"output\",\"correcoes\",\"casos_confirmados\")\n",
    "\n",
    "if not isdir(output):\n",
    "    makedirs(output)\n",
    "\n",
    "timer = Timer()"
   ]
  },
  {
   "cell_type": "code",
   "execution_count": 2,
   "metadata": {},
   "outputs": [
    {
     "output_type": "execute_result",
     "data": {
      "text/plain": [
       "1.09208083152771"
      ]
     },
     "metadata": {},
     "execution_count": 2
    }
   ],
   "source": [
    "timer.reset()\n",
    "casos_confirmados = CasosConfirmados()\n",
    "casos_confirmados.update()\n",
    "timer.stop()"
   ]
  },
  {
   "cell_type": "code",
   "execution_count": 5,
   "metadata": {},
   "outputs": [
    {
     "output_type": "stream",
     "name": "stdout",
     "text": [
      "425374;8155\n"
     ]
    },
    {
     "output_type": "execute_result",
     "data": {
      "text/plain": [
       "      ordem    ibge7                            nome sexo  idade  \\\n",
       "35       36  4101507     DARCY SEGUNDINO VENDRAMETTO    M     80   \n",
       "121     122  4125506                    IVO DA SILVA    M     58   \n",
       "138     139  4125506       APARECIDA GOMES DE MORAIS    F     76   \n",
       "141     142  4104808         LUIZ AUGUSTO DOS SANTOS    M     86   \n",
       "144     145  4118402        JOSE PAULO DIAS DA SILVA    M     54   \n",
       "...     ...      ...                             ...  ...    ...   \n",
       "5244   5245  4119905            CELSO CERQUEIRA LIMA    M     56   \n",
       "5876   5877  4104808            JOSE ROBERTO MOREIRA    M     69   \n",
       "5966   5967  4105805             SELMA NUNES SCHMIDT    F     72   \n",
       "6143   6144  4104808           SARA DE SOUZA PADILHA    F     64   \n",
       "6700   6701  4108304  JOSADAQUE EVANGELISTA DA SILVA    M     58   \n",
       "\n",
       "                 municipio  rs data_do_obito data_comunicacao_obito  \\\n",
       "35               ARAPONGAS  16    2020-04-13             2020-04-13   \n",
       "121   SAO JOSE DOS PINHAIS  02    2020-05-10             2020-05-10   \n",
       "138   SAO JOSE DOS PINHAIS  02    2020-05-17             2020-05-17   \n",
       "141               CASCAVEL  10    2020-05-17             2020-05-17   \n",
       "144              PARANAVAI  14    2020-05-18             2020-05-18   \n",
       "...                    ...  ..           ...                    ...   \n",
       "5244          PONTA GROSSA  03    2020-10-15             2020-10-15   \n",
       "5876              CASCAVEL  10    2020-11-13             2020-11-13   \n",
       "5966               COLOMBO  02    2020-11-16             2020-11-16   \n",
       "6143              CASCAVEL  10    2020-11-23             2020-11-25   \n",
       "6700         FOZ DO IGUACU  09    2020-12-05             2020-12-09   \n",
       "\n",
       "                                                   hash  \\\n",
       "35    a15c8f8f197d352b6eac190488a1d15111d4d1d0bad6c0...   \n",
       "121   3991e73c627a9c2d9733712d3c165c70d2e4abd741f673...   \n",
       "138   313650146b427513f8bc41be2868fc69e2e7b9233475e5...   \n",
       "141   7eb71abeceff1162a3ffde053469c02e3c8aceea703613...   \n",
       "144   ec6c8e5594b396d402ccbca1622a670ba9f7be567c81e8...   \n",
       "...                                                 ...   \n",
       "5244  e99244b09d39fa9aa7da7e00c353992738e4b06bb22a7e...   \n",
       "5876  be11790a4c5fd810efc513d5d9e7a0b7dfab607aeab6ea...   \n",
       "5966  5ded8218caed084150c747ca250e6b73b976919f945864...   \n",
       "6143  654e91ee7f226934e5ab8f657130a0f56e8c2612de293c...   \n",
       "6700  5495d38319d2fe2c0dd9e108c3d432f4a3079425a53ff9...   \n",
       "\n",
       "                                              hash_less  \\\n",
       "35    f35d863c1b8e9bd9de4228cf43cf004f603b519a4f47c6...   \n",
       "121   1e7c3b497de76e3d3197b4abedcd4e1477b27c13a74f40...   \n",
       "138   c355f2e582d11373a325a1283a6fceed26f60c74e135a7...   \n",
       "141   0e0c629e8da27cdf6099685b61ca8c2dc747e948c77da5...   \n",
       "144   b320ed171c02ee86fa6f052f13c4917ba27cf47158ae87...   \n",
       "...                                                 ...   \n",
       "5244  62d07c867784ed4cc1f28f579dc1c4bafb74e91a924c81...   \n",
       "5876  0dea58202456a05b9b0d587d67e15be3a79f16c5b5b89b...   \n",
       "5966  2f9fef0bf77c03e79f0e351afd4e10b8ab4caf44801564...   \n",
       "6143  32eb43614b559bbc653efa263c1fa9801e09129f548606...   \n",
       "6700  82d61b04e1dd2e6aba4496447b13a42ad0083982a4aa19...   \n",
       "\n",
       "                                              hash_more  \n",
       "35    4e3d0bc9efb935be41cec27c9aac614659338647e77db5...  \n",
       "121   e80a92ec671a99460e206c265a18632675836daeb40c4f...  \n",
       "138   a2d155d27985674063b30e6d8429c6292033a3b6cad637...  \n",
       "141   950990602728837e8d8d81f83f36439ae91b62cfba3fb8...  \n",
       "144   07677d0055c3eaae3bea4e4866703fb1fe8a22786d7307...  \n",
       "...                                                 ...  \n",
       "5244  f865d08b26ce6122c040d0838e261769d892f24305b47c...  \n",
       "5876  b254060c26304bc3262110ad799a37a54d398588794240...  \n",
       "5966  b817b9f64b56e7b8e01d9562875f02cf57800b610a38e1...  \n",
       "6143  68289e7664494e54214fc3bba8b660d1a20624c7d898ab...  \n",
       "6700  fb1ed053d26e77e1a5c1dec06dac2123256d08649a9881...  \n",
       "\n",
       "[65 rows x 12 columns]"
      ],
      "text/html": "<div>\n<style scoped>\n    .dataframe tbody tr th:only-of-type {\n        vertical-align: middle;\n    }\n\n    .dataframe tbody tr th {\n        vertical-align: top;\n    }\n\n    .dataframe thead th {\n        text-align: right;\n    }\n</style>\n<table border=\"1\" class=\"dataframe\">\n  <thead>\n    <tr style=\"text-align: right;\">\n      <th></th>\n      <th>ordem</th>\n      <th>ibge7</th>\n      <th>nome</th>\n      <th>sexo</th>\n      <th>idade</th>\n      <th>municipio</th>\n      <th>rs</th>\n      <th>data_do_obito</th>\n      <th>data_comunicacao_obito</th>\n      <th>hash</th>\n      <th>hash_less</th>\n      <th>hash_more</th>\n    </tr>\n  </thead>\n  <tbody>\n    <tr>\n      <th>35</th>\n      <td>36</td>\n      <td>4101507</td>\n      <td>DARCY SEGUNDINO VENDRAMETTO</td>\n      <td>M</td>\n      <td>80</td>\n      <td>ARAPONGAS</td>\n      <td>16</td>\n      <td>2020-04-13</td>\n      <td>2020-04-13</td>\n      <td>a15c8f8f197d352b6eac190488a1d15111d4d1d0bad6c0...</td>\n      <td>f35d863c1b8e9bd9de4228cf43cf004f603b519a4f47c6...</td>\n      <td>4e3d0bc9efb935be41cec27c9aac614659338647e77db5...</td>\n    </tr>\n    <tr>\n      <th>121</th>\n      <td>122</td>\n      <td>4125506</td>\n      <td>IVO DA SILVA</td>\n      <td>M</td>\n      <td>58</td>\n      <td>SAO JOSE DOS PINHAIS</td>\n      <td>02</td>\n      <td>2020-05-10</td>\n      <td>2020-05-10</td>\n      <td>3991e73c627a9c2d9733712d3c165c70d2e4abd741f673...</td>\n      <td>1e7c3b497de76e3d3197b4abedcd4e1477b27c13a74f40...</td>\n      <td>e80a92ec671a99460e206c265a18632675836daeb40c4f...</td>\n    </tr>\n    <tr>\n      <th>138</th>\n      <td>139</td>\n      <td>4125506</td>\n      <td>APARECIDA GOMES DE MORAIS</td>\n      <td>F</td>\n      <td>76</td>\n      <td>SAO JOSE DOS PINHAIS</td>\n      <td>02</td>\n      <td>2020-05-17</td>\n      <td>2020-05-17</td>\n      <td>313650146b427513f8bc41be2868fc69e2e7b9233475e5...</td>\n      <td>c355f2e582d11373a325a1283a6fceed26f60c74e135a7...</td>\n      <td>a2d155d27985674063b30e6d8429c6292033a3b6cad637...</td>\n    </tr>\n    <tr>\n      <th>141</th>\n      <td>142</td>\n      <td>4104808</td>\n      <td>LUIZ AUGUSTO DOS SANTOS</td>\n      <td>M</td>\n      <td>86</td>\n      <td>CASCAVEL</td>\n      <td>10</td>\n      <td>2020-05-17</td>\n      <td>2020-05-17</td>\n      <td>7eb71abeceff1162a3ffde053469c02e3c8aceea703613...</td>\n      <td>0e0c629e8da27cdf6099685b61ca8c2dc747e948c77da5...</td>\n      <td>950990602728837e8d8d81f83f36439ae91b62cfba3fb8...</td>\n    </tr>\n    <tr>\n      <th>144</th>\n      <td>145</td>\n      <td>4118402</td>\n      <td>JOSE PAULO DIAS DA SILVA</td>\n      <td>M</td>\n      <td>54</td>\n      <td>PARANAVAI</td>\n      <td>14</td>\n      <td>2020-05-18</td>\n      <td>2020-05-18</td>\n      <td>ec6c8e5594b396d402ccbca1622a670ba9f7be567c81e8...</td>\n      <td>b320ed171c02ee86fa6f052f13c4917ba27cf47158ae87...</td>\n      <td>07677d0055c3eaae3bea4e4866703fb1fe8a22786d7307...</td>\n    </tr>\n    <tr>\n      <th>...</th>\n      <td>...</td>\n      <td>...</td>\n      <td>...</td>\n      <td>...</td>\n      <td>...</td>\n      <td>...</td>\n      <td>...</td>\n      <td>...</td>\n      <td>...</td>\n      <td>...</td>\n      <td>...</td>\n      <td>...</td>\n    </tr>\n    <tr>\n      <th>5244</th>\n      <td>5245</td>\n      <td>4119905</td>\n      <td>CELSO CERQUEIRA LIMA</td>\n      <td>M</td>\n      <td>56</td>\n      <td>PONTA GROSSA</td>\n      <td>03</td>\n      <td>2020-10-15</td>\n      <td>2020-10-15</td>\n      <td>e99244b09d39fa9aa7da7e00c353992738e4b06bb22a7e...</td>\n      <td>62d07c867784ed4cc1f28f579dc1c4bafb74e91a924c81...</td>\n      <td>f865d08b26ce6122c040d0838e261769d892f24305b47c...</td>\n    </tr>\n    <tr>\n      <th>5876</th>\n      <td>5877</td>\n      <td>4104808</td>\n      <td>JOSE ROBERTO MOREIRA</td>\n      <td>M</td>\n      <td>69</td>\n      <td>CASCAVEL</td>\n      <td>10</td>\n      <td>2020-11-13</td>\n      <td>2020-11-13</td>\n      <td>be11790a4c5fd810efc513d5d9e7a0b7dfab607aeab6ea...</td>\n      <td>0dea58202456a05b9b0d587d67e15be3a79f16c5b5b89b...</td>\n      <td>b254060c26304bc3262110ad799a37a54d398588794240...</td>\n    </tr>\n    <tr>\n      <th>5966</th>\n      <td>5967</td>\n      <td>4105805</td>\n      <td>SELMA NUNES SCHMIDT</td>\n      <td>F</td>\n      <td>72</td>\n      <td>COLOMBO</td>\n      <td>02</td>\n      <td>2020-11-16</td>\n      <td>2020-11-16</td>\n      <td>5ded8218caed084150c747ca250e6b73b976919f945864...</td>\n      <td>2f9fef0bf77c03e79f0e351afd4e10b8ab4caf44801564...</td>\n      <td>b817b9f64b56e7b8e01d9562875f02cf57800b610a38e1...</td>\n    </tr>\n    <tr>\n      <th>6143</th>\n      <td>6144</td>\n      <td>4104808</td>\n      <td>SARA DE SOUZA PADILHA</td>\n      <td>F</td>\n      <td>64</td>\n      <td>CASCAVEL</td>\n      <td>10</td>\n      <td>2020-11-23</td>\n      <td>2020-11-25</td>\n      <td>654e91ee7f226934e5ab8f657130a0f56e8c2612de293c...</td>\n      <td>32eb43614b559bbc653efa263c1fa9801e09129f548606...</td>\n      <td>68289e7664494e54214fc3bba8b660d1a20624c7d898ab...</td>\n    </tr>\n    <tr>\n      <th>6700</th>\n      <td>6701</td>\n      <td>4108304</td>\n      <td>JOSADAQUE EVANGELISTA DA SILVA</td>\n      <td>M</td>\n      <td>58</td>\n      <td>FOZ DO IGUACU</td>\n      <td>09</td>\n      <td>2020-12-05</td>\n      <td>2020-12-09</td>\n      <td>5495d38319d2fe2c0dd9e108c3d432f4a3079425a53ff9...</td>\n      <td>82d61b04e1dd2e6aba4496447b13a42ad0083982a4aa19...</td>\n      <td>fb1ed053d26e77e1a5c1dec06dac2123256d08649a9881...</td>\n    </tr>\n  </tbody>\n</table>\n<p>65 rows × 12 columns</p>\n</div>"
     },
     "metadata": {},
     "execution_count": 5
    }
   ],
   "source": [
    "# casos = casos_confirmados.fix_mun_resid_casos('mun_atend')\n",
    "# obitos = casos_confirmados.fix_mun_resid_obitos()\n",
    "casos = casos_confirmados.get_casos()\n",
    "casos = casos.drop(columns=['obito','data_obito','excluir'])\n",
    "obitos = casos_confirmados.get_obitos()\n",
    "\n",
    "print(f\"{len(casos)};{len(obitos)}\")\n",
    "obitos.loc[~obitos['hash'].isin(casos['hash'])]"
   ]
  },
  {
   "cell_type": "code",
   "execution_count": 4,
   "metadata": {},
   "outputs": [
    {
     "output_type": "error",
     "ename": "SystemExit",
     "evalue": "",
     "traceback": [
      "An exception has occurred, use %tb to see the full traceback.\n",
      "\u001b[1;31mSystemExit\u001b[0m\n"
     ]
    }
   ],
   "source": [
    "exit()\n",
    "# excluir.to_excel('duplicados_exclusao.xlsx')\n",
    "# today = datetime.today()\n",
    "\n",
    "# with codecs.open(join('output','relatorios',f\"relatorio_exclusao.txt\"),\"w\",\"utf-8-sig\") as relatorio:\n",
    "#     relatorio.write(f\"Alterações {today.strftime('%d/%m/%Y')}\\n\")\n",
    "#     relatorio.write(f\"Foram excluido {len(excluir)} casos duplicados no decorrer de 2020\\n\\n\")\n",
    "\n",
    "#     relatorio.write(f\"Por municipio foram:\\n\")\n",
    "#     for mun, df in excluir.groupby('mun_resid'):\n",
    "#         relatorio.write(f\"{mun}\\t{len(df)}\\n\")\n",
    "\n",
    "#     relatorio.write(f\"Por data de divulgação foram:\\n\")\n",
    "#     for data, df in excluir.groupby('dt_diag'):\n",
    "#         relatorio.write(f\"{data.strftime('%d/%m/%Y')}\\t{len(df)}\\n\")\n",
    "\n",
    "#     relatorio.write(f\"\\n\\n\")\n",
    "#     for idx, row in excluir.iterrows():\n",
    "#         relatorio.write(f\"Um caso confirmado ({row['sexo'],row['idade']}) no dia {row['dt_diag'].dt.strftime('%d/%m/%Y')} em {row['mun_resid']} foi excluido por duplicidade.\\n\")\n",
    "\n"
   ]
  },
  {
   "cell_type": "code",
   "execution_count": null,
   "metadata": {},
   "outputs": [],
   "source": [
    "obitos = obitos.rename(columns={'data_do_obito': 'data_obito'})\n",
    "obitos['obito'] = 'SIM'\n",
    "\n",
    "casos = pd.merge(left=casos, right=obitos[['obito','data_obito','hash']], on='hash', how='left')\n",
    "\n",
    "casos.loc[casos['obito'].isnull(), 'obito'] = 'NAO'\n",
    "casos.loc[(casos['obito']==\"SIM\") & (casos.duplicated('hash')), 'obito'] = 'NAO'\n",
    "casos.loc[(casos['obito']==\"SIM\") & (casos.duplicated('hash')), 'data_obito'] = pd.NaT\n",
    "\n",
    "print(f\"{len(casos)};{len(casos.loc[casos['obito']=='SIM'])}\")"
   ]
  },
  {
   "cell_type": "code",
   "execution_count": null,
   "metadata": {},
   "outputs": [],
   "source": [
    "casos['excluir'] = 'NAO'\n",
    "\n",
    "print(f\"Duplicados com a mesma idade: {casos.loc[casos.duplicated('hash', keep=False)].shape}\")\n",
    "print(f\"Duplicados com idade menos 1: {casos.loc[casos['hash_less'].isin(casos['hash'])].shape}\")\n",
    "casos.loc[casos['hash_less'].isin(casos['hash']), 'hash'] = casos.loc[casos['hash_less'].isin(casos['hash']), 'hash_less']\n",
    "print(f\"Duplicados com idade mais 1: {casos.loc[casos['hash_more'].isin(casos['hash'])].shape}\")\n",
    "casos.loc[casos['hash_more'].isin(casos['hash']), 'hash'] = casos.loc[casos['hash_more'].isin(casos['hash']), 'hash_more']\n",
    "print(f\"todos os duplicados: {casos.loc[casos.duplicated('hash', keep=False)].shape}\")\n",
    "duplicados = casos.loc[casos.duplicated('hash', keep=False)]\n",
    "print(f\"Valores unicos: {len(duplicados.groupby('hash'))}\")"
   ]
  },
  {
   "cell_type": "code",
   "execution_count": null,
   "metadata": {},
   "outputs": [],
   "source": [
    "def get_better(cc):\n",
    "    scores = np.zeros(len(cc))\n",
    "\n",
    "    for i, (_, cc_row) in enumerate(cc.iterrows()):\n",
    "\n",
    "        if cc_row['obito'] == 'SIM':\n",
    "            scores[i] = 1\n",
    "\n",
    "    i = np.argmax(scores)\n",
    "    return cc.iloc[i].name"
   ]
  },
  {
   "cell_type": "code",
   "execution_count": null,
   "metadata": {},
   "outputs": [],
   "source": [
    "manter = []\n",
    "for cc_group in duplicados.groupby('hash'):\n",
    "    \n",
    "    idx = get_better(cc_group[1])\n",
    "    manter.append(idx)"
   ]
  },
  {
   "cell_type": "code",
   "execution_count": null,
   "metadata": {},
   "outputs": [],
   "source": [
    "duplicados = set(duplicados.index.tolist())\n",
    "duplicados = duplicados - set(manter)\n",
    "\n",
    "casos.loc[duplicados,'excluir'] = 'SIM'\n",
    "casos.loc[duplicados,'hash'] = None\n",
    "casos.loc[duplicados,'hash_less'] = None\n",
    "casos.loc[duplicados,'hash_more'] = None"
   ]
  },
  {
   "cell_type": "code",
   "execution_count": null,
   "metadata": {},
   "outputs": [],
   "source": [
    "print(casos.loc[casos['excluir']=='SIM'].shape)"
   ]
  },
  {
   "cell_type": "code",
   "execution_count": null,
   "metadata": {},
   "outputs": [],
   "source": [
    "new_casos = casos[['ordem','ibge7','nome','sexo','idade','mun_resid','mun_atend','rs','laboratorio','dt_diag','comunicacao','is','obito','data_obito','data_comunicacao_obito','excluir']]\n",
    "new_obitos = obitos[['ordem','ibge7','nome','sexo','idade','municipio','rs','data_obito','data_comunicacao_obito']]"
   ]
  },
  {
   "cell_type": "code",
   "execution_count": null,
   "metadata": {},
   "outputs": [],
   "source": [
    "writer = pd.ExcelWriter(join(output,\"Casos confirmados.xlsx\"),\n",
    "                        engine='xlsxwriter',\n",
    "                        datetime_format='dd/mm/yyyy',\n",
    "                        date_format='dd/mm/yyyy')\n",
    "\n",
    "new_casos.to_excel(writer,sheet_name='Casos confirmados',index=None)\n",
    "new_obitos.to_excel(writer,sheet_name='Obitos',index=None)\n",
    "\n",
    "writer.save()\n",
    "writer.close()"
   ]
  },
  {
   "cell_type": "code",
   "execution_count": null,
   "metadata": {},
   "outputs": [],
   "source": [
    "exit()\n",
    "# new_casos = casos[['ordem','ibge7','nome','sexo','idade','mun_resid','mun_atend','rs','laboratorio','dt_diag','comunicacao','is']]\n",
    "for grupo_casos, grupo_obitos in zip(new_casos.groupby('rs'),new_obitos.groupby('rs')):\n",
    "    writer = pd.ExcelWriter(join(output,f\"casos_confirmados_{int(grupo_casos[0])}a_regional.xlsx\"),\n",
    "                            engine='xlsxwriter',\n",
    "                            datetime_format='dd/mm/yyyy',\n",
    "                            date_format='dd/mm/yyyy')\n",
    "\n",
    "    grupo_casos[1].to_excel(writer,sheet_name='Casos confirmados',index=None)\n",
    "    grupo_obitos[1].to_excel(writer,sheet_name='Obitos',index=None)\n",
    "\n",
    "    writer.save()\n",
    "    writer.close()"
   ]
  },
  {
   "cell_type": "code",
   "execution_count": null,
   "metadata": {},
   "outputs": [],
   "source": [
    "writer = pd.ExcelWriter(join(output,f\"casos_confirmados_nao_residentes.xlsx\"),\n",
    "                        engine='xlsxwriter',\n",
    "                        datetime_format='dd/mm/yyyy',\n",
    "                        date_format='dd/mm/yyyy')\n",
    "\n",
    "new_casos.loc[new_casos['rs'].isnull()].to_excel(writer,sheet_name='Casos confirmados',index=None)\n",
    "new_obitos.loc[new_obitos['rs'].isnull()].to_excel(writer,sheet_name='Obitos',index=None)\n",
    "\n",
    "writer.save()\n",
    "writer.close()"
   ]
  },
  {
   "cell_type": "code",
   "execution_count": null,
   "metadata": {},
   "outputs": [],
   "source": [
    "casosc['nome_hash'] = casosc['nome'].apply(normalize_hash)\n",
    "casost['nome_hash'] = casost['nome'].apply(normalize_hash)\n",
    "casosc = casosc.sort_values('nome_hash')\n",
    "casost = casost.sort_values('nome_hash')\n",
    "all(casosc['nome_hash'].values == casost['nome_hash'].values)\n",
    "casost.loc[casost['status'].notnull(),'status'] = 'RECUPERADO'"
   ]
  }
 ]
}