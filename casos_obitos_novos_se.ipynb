{
 "metadata": {
  "language_info": {
   "codemirror_mode": {
    "name": "ipython",
    "version": 3
   },
   "file_extension": ".py",
   "mimetype": "text/x-python",
   "name": "python",
   "nbconvert_exporter": "python",
   "pygments_lexer": "ipython3",
   "version": "3.8.5-final"
  },
  "orig_nbformat": 2,
  "kernelspec": {
   "name": "python3",
   "display_name": "Python 3.8.5 64-bit (conda)",
   "metadata": {
    "interpreter": {
     "hash": "b3ba2566441a7c06988d0923437866b63cedc61552a5af99d1f4fb67d367b25f"
    }
   }
  }
 },
 "nbformat": 4,
 "nbformat_minor": 2,
 "cells": [
  {
   "cell_type": "code",
   "execution_count": 1,
   "metadata": {},
   "outputs": [],
   "source": [
    "import pandas as pd\n",
    "from matplotlib import pyplot\n",
    "from epiweeks import Week\n",
    "from datetime import date, datetime\n",
    "from os.path import dirname, join, isfile, isdir\n",
    "\n",
    "from bulletin.commom import static\n",
    "from bulletin.commom.normalize import normalize_text, normalize_number, normalize_hash, normalize_cpf, normalize_igbe\n",
    "from bulletin.commom.utils import isvaliddate\n",
    "\n",
    "from bulletin.commom.utils import Timer, auto_fit_columns"
   ]
  },
  {
   "cell_type": "code",
   "execution_count": 2,
   "metadata": {},
   "outputs": [],
   "source": [
    "municipios = static.municipios[['ibge','municipio','populacao']].copy()\n",
    "municipios['ibge'] = municipios['ibge'].apply(str)\n",
    "\n",
    "regionais = static.regionais[['ibge','nm_macro','nu_reg','nm_reg']].copy()\n",
    "regionais['ibge'] = regionais['ibge'].apply(str)\n",
    "regionais = regionais.rename(columns={'nu_reg':'rs'})"
   ]
  },
  {
   "cell_type": "code",
   "execution_count": 3,
   "metadata": {},
   "outputs": [],
   "source": [
    "casos = pd.read_excel('input/casoseobitos.xlsx','casos',converters={\n",
    "        'ibge': normalize_igbe\n",
    "    }\n",
    ")"
   ]
  },
  {
   "cell_type": "code",
   "execution_count": 4,
   "metadata": {},
   "outputs": [],
   "source": [
    "obitos = pd.read_excel('input/casoseobitos.xlsx','obitos',converters={\n",
    "        'ibge': normalize_igbe\n",
    "    }\n",
    ")"
   ]
  },
  {
   "cell_type": "code",
   "execution_count": 5,
   "metadata": {},
   "outputs": [
    {
     "output_type": "execute_result",
     "data": {
      "text/plain": [
       "          ibge    dt_diag  nm_macro  rs             nm_reg  \\\n",
       "0       410550 2020-03-12  NOROESTE  13           CIANORTE   \n",
       "1       410690 2020-03-12     LESTE   2      METROPOLITANA   \n",
       "2       410690 2020-03-12     LESTE   2      METROPOLITANA   \n",
       "3       410690 2020-03-16     LESTE   2      METROPOLITANA   \n",
       "4       410690 2020-03-18     LESTE   2      METROPOLITANA   \n",
       "...        ...        ...       ...  ..                ...   \n",
       "612678  410830 2021-02-17     OESTE   9      FOZ DO IGUACU   \n",
       "612679  412820 2021-02-20     LESTE   6   UNIAO DA VITORIA   \n",
       "612680  410490 2021-02-21     LESTE   3       PONTA GROSSA   \n",
       "612681  411725 2021-02-22     OESTE   8  FRANCISCO BELTRAO   \n",
       "612682  410030 2021-02-19     LESTE   2      METROPOLITANA   \n",
       "\n",
       "                   municipio  populacao   ano  se  \n",
       "0                   Cianorte      83816  2020  11  \n",
       "1                   Curitiba    1948626  2020  11  \n",
       "2                   Curitiba    1948626  2020  11  \n",
       "3                   Curitiba    1948626  2020  12  \n",
       "4                   Curitiba    1948626  2020  12  \n",
       "...                      ...        ...   ...  ..  \n",
       "612678         Foz do Iguaçu     258248  2021   7  \n",
       "612679      União da Vitória      57913  2021   7  \n",
       "612680                Castro      71809  2021   8  \n",
       "612681  Nova Prata do Iguaçu      10544  2021   8  \n",
       "612682         Agudos do Sul       9470  2021   7  \n",
       "\n",
       "[612683 rows x 9 columns]"
      ],
      "text/html": "<div>\n<style scoped>\n    .dataframe tbody tr th:only-of-type {\n        vertical-align: middle;\n    }\n\n    .dataframe tbody tr th {\n        vertical-align: top;\n    }\n\n    .dataframe thead th {\n        text-align: right;\n    }\n</style>\n<table border=\"1\" class=\"dataframe\">\n  <thead>\n    <tr style=\"text-align: right;\">\n      <th></th>\n      <th>ibge</th>\n      <th>dt_diag</th>\n      <th>nm_macro</th>\n      <th>rs</th>\n      <th>nm_reg</th>\n      <th>municipio</th>\n      <th>populacao</th>\n      <th>ano</th>\n      <th>se</th>\n    </tr>\n  </thead>\n  <tbody>\n    <tr>\n      <th>0</th>\n      <td>410550</td>\n      <td>2020-03-12</td>\n      <td>NOROESTE</td>\n      <td>13</td>\n      <td>CIANORTE</td>\n      <td>Cianorte</td>\n      <td>83816</td>\n      <td>2020</td>\n      <td>11</td>\n    </tr>\n    <tr>\n      <th>1</th>\n      <td>410690</td>\n      <td>2020-03-12</td>\n      <td>LESTE</td>\n      <td>2</td>\n      <td>METROPOLITANA</td>\n      <td>Curitiba</td>\n      <td>1948626</td>\n      <td>2020</td>\n      <td>11</td>\n    </tr>\n    <tr>\n      <th>2</th>\n      <td>410690</td>\n      <td>2020-03-12</td>\n      <td>LESTE</td>\n      <td>2</td>\n      <td>METROPOLITANA</td>\n      <td>Curitiba</td>\n      <td>1948626</td>\n      <td>2020</td>\n      <td>11</td>\n    </tr>\n    <tr>\n      <th>3</th>\n      <td>410690</td>\n      <td>2020-03-16</td>\n      <td>LESTE</td>\n      <td>2</td>\n      <td>METROPOLITANA</td>\n      <td>Curitiba</td>\n      <td>1948626</td>\n      <td>2020</td>\n      <td>12</td>\n    </tr>\n    <tr>\n      <th>4</th>\n      <td>410690</td>\n      <td>2020-03-18</td>\n      <td>LESTE</td>\n      <td>2</td>\n      <td>METROPOLITANA</td>\n      <td>Curitiba</td>\n      <td>1948626</td>\n      <td>2020</td>\n      <td>12</td>\n    </tr>\n    <tr>\n      <th>...</th>\n      <td>...</td>\n      <td>...</td>\n      <td>...</td>\n      <td>...</td>\n      <td>...</td>\n      <td>...</td>\n      <td>...</td>\n      <td>...</td>\n      <td>...</td>\n    </tr>\n    <tr>\n      <th>612678</th>\n      <td>410830</td>\n      <td>2021-02-17</td>\n      <td>OESTE</td>\n      <td>9</td>\n      <td>FOZ DO IGUACU</td>\n      <td>Foz do Iguaçu</td>\n      <td>258248</td>\n      <td>2021</td>\n      <td>7</td>\n    </tr>\n    <tr>\n      <th>612679</th>\n      <td>412820</td>\n      <td>2021-02-20</td>\n      <td>LESTE</td>\n      <td>6</td>\n      <td>UNIAO DA VITORIA</td>\n      <td>União da Vitória</td>\n      <td>57913</td>\n      <td>2021</td>\n      <td>7</td>\n    </tr>\n    <tr>\n      <th>612680</th>\n      <td>410490</td>\n      <td>2021-02-21</td>\n      <td>LESTE</td>\n      <td>3</td>\n      <td>PONTA GROSSA</td>\n      <td>Castro</td>\n      <td>71809</td>\n      <td>2021</td>\n      <td>8</td>\n    </tr>\n    <tr>\n      <th>612681</th>\n      <td>411725</td>\n      <td>2021-02-22</td>\n      <td>OESTE</td>\n      <td>8</td>\n      <td>FRANCISCO BELTRAO</td>\n      <td>Nova Prata do Iguaçu</td>\n      <td>10544</td>\n      <td>2021</td>\n      <td>8</td>\n    </tr>\n    <tr>\n      <th>612682</th>\n      <td>410030</td>\n      <td>2021-02-19</td>\n      <td>LESTE</td>\n      <td>2</td>\n      <td>METROPOLITANA</td>\n      <td>Agudos do Sul</td>\n      <td>9470</td>\n      <td>2021</td>\n      <td>7</td>\n    </tr>\n  </tbody>\n</table>\n<p>612683 rows × 9 columns</p>\n</div>"
     },
     "metadata": {},
     "execution_count": 5
    }
   ],
   "source": [
    "casos = pd.merge(left=casos, right=regionais, how='left', on='ibge')\n",
    "casos = pd.merge(left=casos, right=municipios, how='left', on='ibge')\n",
    "casos['ano'] = casos.apply(lambda row: Week.fromdate(row['dt_diag']).year, axis=1)\n",
    "casos['se'] = casos.apply(lambda row: Week.fromdate(row['dt_diag']).week, axis=1)\n",
    "\n",
    "casos"
   ]
  },
  {
   "cell_type": "code",
   "execution_count": 6,
   "metadata": {},
   "outputs": [
    {
     "output_type": "execute_result",
     "data": {
      "text/plain": [
       "         ibge data_obito  nm_macro  rs          nm_reg         municipio  \\\n",
       "0      411520 2020-03-25  NOROESTE  15         MARINGA           Maringá   \n",
       "1      411520 2020-03-26  NOROESTE  15         MARINGA           Maringá   \n",
       "2      410430 2020-03-31  NOROESTE  11    CAMPO MOURAO      Campo Mourão   \n",
       "3      410690 2020-04-02     LESTE   2   METROPOLITANA          Curitiba   \n",
       "4      410550 2020-04-03  NOROESTE  13        CIANORTE          Cianorte   \n",
       "...       ...        ...       ...  ..             ...               ...   \n",
       "11065  412170 2021-02-11     LESTE  21  TELEMACO BORBA           Reserva   \n",
       "11066  412170 2021-02-17     LESTE  21  TELEMACO BORBA           Reserva   \n",
       "11067  412090 2021-02-21     OESTE  10        CASCAVEL  Quedas do Iguaçu   \n",
       "11068  410480 2021-02-21     OESTE  10        CASCAVEL          Cascavel   \n",
       "11069  410940 2021-02-16     LESTE   5      GUARAPUAVA        Guarapuava   \n",
       "\n",
       "       populacao   ano  se  \n",
       "0         430157  2020  13  \n",
       "1         430157  2020  13  \n",
       "2          95488  2020  14  \n",
       "3        1948626  2020  14  \n",
       "4          83816  2020  14  \n",
       "...          ...   ...  ..  \n",
       "11065      26825  2021   6  \n",
       "11066      26825  2021   7  \n",
       "11067      34409  2021   8  \n",
       "11068     332333  2021   8  \n",
       "11069     182644  2021   7  \n",
       "\n",
       "[11070 rows x 9 columns]"
      ],
      "text/html": "<div>\n<style scoped>\n    .dataframe tbody tr th:only-of-type {\n        vertical-align: middle;\n    }\n\n    .dataframe tbody tr th {\n        vertical-align: top;\n    }\n\n    .dataframe thead th {\n        text-align: right;\n    }\n</style>\n<table border=\"1\" class=\"dataframe\">\n  <thead>\n    <tr style=\"text-align: right;\">\n      <th></th>\n      <th>ibge</th>\n      <th>data_obito</th>\n      <th>nm_macro</th>\n      <th>rs</th>\n      <th>nm_reg</th>\n      <th>municipio</th>\n      <th>populacao</th>\n      <th>ano</th>\n      <th>se</th>\n    </tr>\n  </thead>\n  <tbody>\n    <tr>\n      <th>0</th>\n      <td>411520</td>\n      <td>2020-03-25</td>\n      <td>NOROESTE</td>\n      <td>15</td>\n      <td>MARINGA</td>\n      <td>Maringá</td>\n      <td>430157</td>\n      <td>2020</td>\n      <td>13</td>\n    </tr>\n    <tr>\n      <th>1</th>\n      <td>411520</td>\n      <td>2020-03-26</td>\n      <td>NOROESTE</td>\n      <td>15</td>\n      <td>MARINGA</td>\n      <td>Maringá</td>\n      <td>430157</td>\n      <td>2020</td>\n      <td>13</td>\n    </tr>\n    <tr>\n      <th>2</th>\n      <td>410430</td>\n      <td>2020-03-31</td>\n      <td>NOROESTE</td>\n      <td>11</td>\n      <td>CAMPO MOURAO</td>\n      <td>Campo Mourão</td>\n      <td>95488</td>\n      <td>2020</td>\n      <td>14</td>\n    </tr>\n    <tr>\n      <th>3</th>\n      <td>410690</td>\n      <td>2020-04-02</td>\n      <td>LESTE</td>\n      <td>2</td>\n      <td>METROPOLITANA</td>\n      <td>Curitiba</td>\n      <td>1948626</td>\n      <td>2020</td>\n      <td>14</td>\n    </tr>\n    <tr>\n      <th>4</th>\n      <td>410550</td>\n      <td>2020-04-03</td>\n      <td>NOROESTE</td>\n      <td>13</td>\n      <td>CIANORTE</td>\n      <td>Cianorte</td>\n      <td>83816</td>\n      <td>2020</td>\n      <td>14</td>\n    </tr>\n    <tr>\n      <th>...</th>\n      <td>...</td>\n      <td>...</td>\n      <td>...</td>\n      <td>...</td>\n      <td>...</td>\n      <td>...</td>\n      <td>...</td>\n      <td>...</td>\n      <td>...</td>\n    </tr>\n    <tr>\n      <th>11065</th>\n      <td>412170</td>\n      <td>2021-02-11</td>\n      <td>LESTE</td>\n      <td>21</td>\n      <td>TELEMACO BORBA</td>\n      <td>Reserva</td>\n      <td>26825</td>\n      <td>2021</td>\n      <td>6</td>\n    </tr>\n    <tr>\n      <th>11066</th>\n      <td>412170</td>\n      <td>2021-02-17</td>\n      <td>LESTE</td>\n      <td>21</td>\n      <td>TELEMACO BORBA</td>\n      <td>Reserva</td>\n      <td>26825</td>\n      <td>2021</td>\n      <td>7</td>\n    </tr>\n    <tr>\n      <th>11067</th>\n      <td>412090</td>\n      <td>2021-02-21</td>\n      <td>OESTE</td>\n      <td>10</td>\n      <td>CASCAVEL</td>\n      <td>Quedas do Iguaçu</td>\n      <td>34409</td>\n      <td>2021</td>\n      <td>8</td>\n    </tr>\n    <tr>\n      <th>11068</th>\n      <td>410480</td>\n      <td>2021-02-21</td>\n      <td>OESTE</td>\n      <td>10</td>\n      <td>CASCAVEL</td>\n      <td>Cascavel</td>\n      <td>332333</td>\n      <td>2021</td>\n      <td>8</td>\n    </tr>\n    <tr>\n      <th>11069</th>\n      <td>410940</td>\n      <td>2021-02-16</td>\n      <td>LESTE</td>\n      <td>5</td>\n      <td>GUARAPUAVA</td>\n      <td>Guarapuava</td>\n      <td>182644</td>\n      <td>2021</td>\n      <td>7</td>\n    </tr>\n  </tbody>\n</table>\n<p>11070 rows × 9 columns</p>\n</div>"
     },
     "metadata": {},
     "execution_count": 6
    }
   ],
   "source": [
    "obitos = pd.merge(left=obitos, right=regionais, how='left', on='ibge')\n",
    "obitos = pd.merge(left=obitos, right=municipios, how='left', on='ibge')\n",
    "obitos['ano'] = obitos.apply(lambda row: Week.fromdate(row['data_obito']).year, axis=1)\n",
    "obitos['se'] = obitos.apply(lambda row: Week.fromdate(row['data_obito']).week, axis=1)\n",
    "\n",
    "obitos"
   ]
  },
  {
   "cell_type": "code",
   "execution_count": 7,
   "metadata": {},
   "outputs": [
    {
     "output_type": "execute_result",
     "data": {
      "text/plain": [
       "        ano  se  nm_macro  rs         nm_reg    ibge                municipio  \\\n",
       "0      2020  11     LESTE   2  METROPOLITANA  410690                 Curitiba   \n",
       "1      2020  11  NOROESTE  13       CIANORTE  410550                 Cianorte   \n",
       "2      2020  11  NOROESTE  15        MARINGA  411520                  Maringá   \n",
       "3      2020  12     LESTE   1      PARANAGUA  411820                Paranaguá   \n",
       "4      2020  12     LESTE   2  METROPOLITANA  410420              Campo Largo   \n",
       "...     ...  ..       ...  ..            ...     ...                      ...   \n",
       "13874  2021   8     OESTE  20         TOLEDO  411460  Marechal Cândido Rondon   \n",
       "13875  2021   8     OESTE  20         TOLEDO  412085            Quatro Pontes   \n",
       "13876  2021   8     OESTE  20         TOLEDO  412740               Terra Roxa   \n",
       "13877  2021   8     OESTE  20         TOLEDO  412770                   Toledo   \n",
       "13878  2021   8     OESTE  20         TOLEDO  412795                  Tupãssi   \n",
       "\n",
       "       populacao  casos  coef_incidencia  \n",
       "0        1948626     10         0.513182  \n",
       "1          83816      1         1.193090  \n",
       "2         430157      1         0.232473  \n",
       "3         156174      1         0.640311  \n",
       "4         133865      1         0.747021  \n",
       "...          ...    ...              ...  \n",
       "13874      53495     11        20.562669  \n",
       "13875       4029      1        24.820055  \n",
       "13876      17522      2        11.414222  \n",
       "13877     142645      1         0.701041  \n",
       "13878       8109      1        12.331977  \n",
       "\n",
       "[13879 rows x 10 columns]"
      ],
      "text/html": "<div>\n<style scoped>\n    .dataframe tbody tr th:only-of-type {\n        vertical-align: middle;\n    }\n\n    .dataframe tbody tr th {\n        vertical-align: top;\n    }\n\n    .dataframe thead th {\n        text-align: right;\n    }\n</style>\n<table border=\"1\" class=\"dataframe\">\n  <thead>\n    <tr style=\"text-align: right;\">\n      <th></th>\n      <th>ano</th>\n      <th>se</th>\n      <th>nm_macro</th>\n      <th>rs</th>\n      <th>nm_reg</th>\n      <th>ibge</th>\n      <th>municipio</th>\n      <th>populacao</th>\n      <th>casos</th>\n      <th>coef_incidencia</th>\n    </tr>\n  </thead>\n  <tbody>\n    <tr>\n      <th>0</th>\n      <td>2020</td>\n      <td>11</td>\n      <td>LESTE</td>\n      <td>2</td>\n      <td>METROPOLITANA</td>\n      <td>410690</td>\n      <td>Curitiba</td>\n      <td>1948626</td>\n      <td>10</td>\n      <td>0.513182</td>\n    </tr>\n    <tr>\n      <th>1</th>\n      <td>2020</td>\n      <td>11</td>\n      <td>NOROESTE</td>\n      <td>13</td>\n      <td>CIANORTE</td>\n      <td>410550</td>\n      <td>Cianorte</td>\n      <td>83816</td>\n      <td>1</td>\n      <td>1.193090</td>\n    </tr>\n    <tr>\n      <th>2</th>\n      <td>2020</td>\n      <td>11</td>\n      <td>NOROESTE</td>\n      <td>15</td>\n      <td>MARINGA</td>\n      <td>411520</td>\n      <td>Maringá</td>\n      <td>430157</td>\n      <td>1</td>\n      <td>0.232473</td>\n    </tr>\n    <tr>\n      <th>3</th>\n      <td>2020</td>\n      <td>12</td>\n      <td>LESTE</td>\n      <td>1</td>\n      <td>PARANAGUA</td>\n      <td>411820</td>\n      <td>Paranaguá</td>\n      <td>156174</td>\n      <td>1</td>\n      <td>0.640311</td>\n    </tr>\n    <tr>\n      <th>4</th>\n      <td>2020</td>\n      <td>12</td>\n      <td>LESTE</td>\n      <td>2</td>\n      <td>METROPOLITANA</td>\n      <td>410420</td>\n      <td>Campo Largo</td>\n      <td>133865</td>\n      <td>1</td>\n      <td>0.747021</td>\n    </tr>\n    <tr>\n      <th>...</th>\n      <td>...</td>\n      <td>...</td>\n      <td>...</td>\n      <td>...</td>\n      <td>...</td>\n      <td>...</td>\n      <td>...</td>\n      <td>...</td>\n      <td>...</td>\n      <td>...</td>\n    </tr>\n    <tr>\n      <th>13874</th>\n      <td>2021</td>\n      <td>8</td>\n      <td>OESTE</td>\n      <td>20</td>\n      <td>TOLEDO</td>\n      <td>411460</td>\n      <td>Marechal Cândido Rondon</td>\n      <td>53495</td>\n      <td>11</td>\n      <td>20.562669</td>\n    </tr>\n    <tr>\n      <th>13875</th>\n      <td>2021</td>\n      <td>8</td>\n      <td>OESTE</td>\n      <td>20</td>\n      <td>TOLEDO</td>\n      <td>412085</td>\n      <td>Quatro Pontes</td>\n      <td>4029</td>\n      <td>1</td>\n      <td>24.820055</td>\n    </tr>\n    <tr>\n      <th>13876</th>\n      <td>2021</td>\n      <td>8</td>\n      <td>OESTE</td>\n      <td>20</td>\n      <td>TOLEDO</td>\n      <td>412740</td>\n      <td>Terra Roxa</td>\n      <td>17522</td>\n      <td>2</td>\n      <td>11.414222</td>\n    </tr>\n    <tr>\n      <th>13877</th>\n      <td>2021</td>\n      <td>8</td>\n      <td>OESTE</td>\n      <td>20</td>\n      <td>TOLEDO</td>\n      <td>412770</td>\n      <td>Toledo</td>\n      <td>142645</td>\n      <td>1</td>\n      <td>0.701041</td>\n    </tr>\n    <tr>\n      <th>13878</th>\n      <td>2021</td>\n      <td>8</td>\n      <td>OESTE</td>\n      <td>20</td>\n      <td>TOLEDO</td>\n      <td>412795</td>\n      <td>Tupãssi</td>\n      <td>8109</td>\n      <td>1</td>\n      <td>12.331977</td>\n    </tr>\n  </tbody>\n</table>\n<p>13879 rows × 10 columns</p>\n</div>"
     },
     "metadata": {},
     "execution_count": 7
    }
   ],
   "source": [
    "casos = casos.groupby(['ano','se','nm_macro','rs','nm_reg','ibge','municipio','populacao'])[['dt_diag']].count().rename(columns={'dt_diag':'casos'})\n",
    "casos.reset_index(inplace=True)\n",
    "casos['coef_incidencia'] = casos.apply(lambda x: x['casos']/x['populacao']*100000, axis=1)\n",
    "\n",
    "casos"
   ]
  },
  {
   "cell_type": "code",
   "execution_count": 8,
   "metadata": {},
   "outputs": [
    {
     "output_type": "execute_result",
     "data": {
      "text/plain": [
       "       ano  se  nm_macro  rs         nm_reg    ibge               municipio  \\\n",
       "0     2020  13  NOROESTE  15        MARINGA  411520                 Maringá   \n",
       "1     2020  14     LESTE   2  METROPOLITANA  410690                Curitiba   \n",
       "2     2020  14  NOROESTE  11   CAMPO MOURAO  410430            Campo Mourão   \n",
       "3     2020  14  NOROESTE  13       CIANORTE  410550                Cianorte   \n",
       "4     2020  14     NORTE  17       LONDRINA  411370                Londrina   \n",
       "...    ...  ..       ...  ..            ...     ...                     ...   \n",
       "3491  2021   8     NORTE  19    JACAREZINHO  412850          Wenceslau Braz   \n",
       "3492  2021   8     OESTE  10       CASCAVEL  410305  Boa Vista da Aparecida   \n",
       "3493  2021   8     OESTE  10       CASCAVEL  410480                Cascavel   \n",
       "3494  2021   8     OESTE  10       CASCAVEL  412090        Quedas do Iguaçu   \n",
       "3495  2021   8     OESTE  20         TOLEDO  410880                  Guaíra   \n",
       "\n",
       "      populacao  obitos  coef_mortalidade  \n",
       "0        430157       3          0.697420  \n",
       "1       1948626       1          0.051318  \n",
       "2         95488       3          3.141756  \n",
       "3         83816       2          2.386179  \n",
       "4        575377       1          0.173799  \n",
       "...         ...     ...               ...  \n",
       "3491      19386       1          5.158362  \n",
       "3492       7540       1         13.262599  \n",
       "3493     332333       2          0.601806  \n",
       "3494      34409       1          2.906216  \n",
       "3495      33310       1          3.002101  \n",
       "\n",
       "[3496 rows x 10 columns]"
      ],
      "text/html": "<div>\n<style scoped>\n    .dataframe tbody tr th:only-of-type {\n        vertical-align: middle;\n    }\n\n    .dataframe tbody tr th {\n        vertical-align: top;\n    }\n\n    .dataframe thead th {\n        text-align: right;\n    }\n</style>\n<table border=\"1\" class=\"dataframe\">\n  <thead>\n    <tr style=\"text-align: right;\">\n      <th></th>\n      <th>ano</th>\n      <th>se</th>\n      <th>nm_macro</th>\n      <th>rs</th>\n      <th>nm_reg</th>\n      <th>ibge</th>\n      <th>municipio</th>\n      <th>populacao</th>\n      <th>obitos</th>\n      <th>coef_mortalidade</th>\n    </tr>\n  </thead>\n  <tbody>\n    <tr>\n      <th>0</th>\n      <td>2020</td>\n      <td>13</td>\n      <td>NOROESTE</td>\n      <td>15</td>\n      <td>MARINGA</td>\n      <td>411520</td>\n      <td>Maringá</td>\n      <td>430157</td>\n      <td>3</td>\n      <td>0.697420</td>\n    </tr>\n    <tr>\n      <th>1</th>\n      <td>2020</td>\n      <td>14</td>\n      <td>LESTE</td>\n      <td>2</td>\n      <td>METROPOLITANA</td>\n      <td>410690</td>\n      <td>Curitiba</td>\n      <td>1948626</td>\n      <td>1</td>\n      <td>0.051318</td>\n    </tr>\n    <tr>\n      <th>2</th>\n      <td>2020</td>\n      <td>14</td>\n      <td>NOROESTE</td>\n      <td>11</td>\n      <td>CAMPO MOURAO</td>\n      <td>410430</td>\n      <td>Campo Mourão</td>\n      <td>95488</td>\n      <td>3</td>\n      <td>3.141756</td>\n    </tr>\n    <tr>\n      <th>3</th>\n      <td>2020</td>\n      <td>14</td>\n      <td>NOROESTE</td>\n      <td>13</td>\n      <td>CIANORTE</td>\n      <td>410550</td>\n      <td>Cianorte</td>\n      <td>83816</td>\n      <td>2</td>\n      <td>2.386179</td>\n    </tr>\n    <tr>\n      <th>4</th>\n      <td>2020</td>\n      <td>14</td>\n      <td>NORTE</td>\n      <td>17</td>\n      <td>LONDRINA</td>\n      <td>411370</td>\n      <td>Londrina</td>\n      <td>575377</td>\n      <td>1</td>\n      <td>0.173799</td>\n    </tr>\n    <tr>\n      <th>...</th>\n      <td>...</td>\n      <td>...</td>\n      <td>...</td>\n      <td>...</td>\n      <td>...</td>\n      <td>...</td>\n      <td>...</td>\n      <td>...</td>\n      <td>...</td>\n      <td>...</td>\n    </tr>\n    <tr>\n      <th>3491</th>\n      <td>2021</td>\n      <td>8</td>\n      <td>NORTE</td>\n      <td>19</td>\n      <td>JACAREZINHO</td>\n      <td>412850</td>\n      <td>Wenceslau Braz</td>\n      <td>19386</td>\n      <td>1</td>\n      <td>5.158362</td>\n    </tr>\n    <tr>\n      <th>3492</th>\n      <td>2021</td>\n      <td>8</td>\n      <td>OESTE</td>\n      <td>10</td>\n      <td>CASCAVEL</td>\n      <td>410305</td>\n      <td>Boa Vista da Aparecida</td>\n      <td>7540</td>\n      <td>1</td>\n      <td>13.262599</td>\n    </tr>\n    <tr>\n      <th>3493</th>\n      <td>2021</td>\n      <td>8</td>\n      <td>OESTE</td>\n      <td>10</td>\n      <td>CASCAVEL</td>\n      <td>410480</td>\n      <td>Cascavel</td>\n      <td>332333</td>\n      <td>2</td>\n      <td>0.601806</td>\n    </tr>\n    <tr>\n      <th>3494</th>\n      <td>2021</td>\n      <td>8</td>\n      <td>OESTE</td>\n      <td>10</td>\n      <td>CASCAVEL</td>\n      <td>412090</td>\n      <td>Quedas do Iguaçu</td>\n      <td>34409</td>\n      <td>1</td>\n      <td>2.906216</td>\n    </tr>\n    <tr>\n      <th>3495</th>\n      <td>2021</td>\n      <td>8</td>\n      <td>OESTE</td>\n      <td>20</td>\n      <td>TOLEDO</td>\n      <td>410880</td>\n      <td>Guaíra</td>\n      <td>33310</td>\n      <td>1</td>\n      <td>3.002101</td>\n    </tr>\n  </tbody>\n</table>\n<p>3496 rows × 10 columns</p>\n</div>"
     },
     "metadata": {},
     "execution_count": 8
    }
   ],
   "source": [
    "obitos = obitos.groupby(['ano','se','nm_macro','rs','nm_reg','ibge','municipio','populacao'])[['data_obito']].count().rename(columns={'data_obito':'obitos'})\n",
    "obitos.reset_index(inplace=True)\n",
    "obitos['coef_mortalidade'] = obitos.apply(lambda x: x['obitos']/x['populacao']*100000, axis=1)\n",
    "\n",
    "obitos"
   ]
  },
  {
   "cell_type": "code",
   "execution_count": 9,
   "metadata": {},
   "outputs": [
    {
     "output_type": "execute_result",
     "data": {
      "text/plain": [
       "        ano  se  nm_macro  rs             nm_reg    ibge  \\\n",
       "0      2020  11     LESTE   2      METROPOLITANA  410690   \n",
       "1      2020  11  NOROESTE  13           CIANORTE  410550   \n",
       "2      2020  11  NOROESTE  15            MARINGA  411520   \n",
       "3      2020  12     LESTE   1          PARANAGUA  411820   \n",
       "4      2020  12     LESTE   2      METROPOLITANA  410420   \n",
       "...     ...  ..       ...  ..                ...     ...   \n",
       "13945  2021   4     OESTE   7        PATO BRANCO  412665   \n",
       "13946  2021   5  NOROESTE  14          PARANAVAI  411830   \n",
       "13947  2021   5     NORTE  17           LONDRINA  412033   \n",
       "13948  2021   7  NOROESTE  14          PARANAVAI  412420   \n",
       "13949  2021   7     OESTE   8  FRANCISCO BELTRAO  411435   \n",
       "\n",
       "                    municipio  populacao  casos  coef_incidencia  obitos  \\\n",
       "0                    Curitiba    1948626     10         0.513182       0   \n",
       "1                    Cianorte      83816      1         1.193090       0   \n",
       "2                     Maringá     430157      1         0.232473       0   \n",
       "3                   Paranaguá     156174      1         0.640311       0   \n",
       "4                 Campo Largo     133865      1         0.747021       0   \n",
       "...                       ...        ...    ...              ...     ...   \n",
       "13945                  Sulina       2930      0         0.000000       1   \n",
       "13946             Paranapoema       3241      0         0.000000       1   \n",
       "13947          Prado Ferreira       3780      0         0.000000       1   \n",
       "13948  Santo Antônio do Caiuá       2626      0         0.000000       1   \n",
       "13949           Manfrinópolis       2506      0         0.000000       1   \n",
       "\n",
       "       coef_mortalidade  coef_letalidade  \n",
       "0              0.000000              0.0  \n",
       "1              0.000000              0.0  \n",
       "2              0.000000              0.0  \n",
       "3              0.000000              0.0  \n",
       "4              0.000000              0.0  \n",
       "...                 ...              ...  \n",
       "13945         34.129693              0.0  \n",
       "13946         30.854674              0.0  \n",
       "13947         26.455026              0.0  \n",
       "13948         38.080731              0.0  \n",
       "13949         39.904230              0.0  \n",
       "\n",
       "[13950 rows x 13 columns]"
      ],
      "text/html": "<div>\n<style scoped>\n    .dataframe tbody tr th:only-of-type {\n        vertical-align: middle;\n    }\n\n    .dataframe tbody tr th {\n        vertical-align: top;\n    }\n\n    .dataframe thead th {\n        text-align: right;\n    }\n</style>\n<table border=\"1\" class=\"dataframe\">\n  <thead>\n    <tr style=\"text-align: right;\">\n      <th></th>\n      <th>ano</th>\n      <th>se</th>\n      <th>nm_macro</th>\n      <th>rs</th>\n      <th>nm_reg</th>\n      <th>ibge</th>\n      <th>municipio</th>\n      <th>populacao</th>\n      <th>casos</th>\n      <th>coef_incidencia</th>\n      <th>obitos</th>\n      <th>coef_mortalidade</th>\n      <th>coef_letalidade</th>\n    </tr>\n  </thead>\n  <tbody>\n    <tr>\n      <th>0</th>\n      <td>2020</td>\n      <td>11</td>\n      <td>LESTE</td>\n      <td>2</td>\n      <td>METROPOLITANA</td>\n      <td>410690</td>\n      <td>Curitiba</td>\n      <td>1948626</td>\n      <td>10</td>\n      <td>0.513182</td>\n      <td>0</td>\n      <td>0.000000</td>\n      <td>0.0</td>\n    </tr>\n    <tr>\n      <th>1</th>\n      <td>2020</td>\n      <td>11</td>\n      <td>NOROESTE</td>\n      <td>13</td>\n      <td>CIANORTE</td>\n      <td>410550</td>\n      <td>Cianorte</td>\n      <td>83816</td>\n      <td>1</td>\n      <td>1.193090</td>\n      <td>0</td>\n      <td>0.000000</td>\n      <td>0.0</td>\n    </tr>\n    <tr>\n      <th>2</th>\n      <td>2020</td>\n      <td>11</td>\n      <td>NOROESTE</td>\n      <td>15</td>\n      <td>MARINGA</td>\n      <td>411520</td>\n      <td>Maringá</td>\n      <td>430157</td>\n      <td>1</td>\n      <td>0.232473</td>\n      <td>0</td>\n      <td>0.000000</td>\n      <td>0.0</td>\n    </tr>\n    <tr>\n      <th>3</th>\n      <td>2020</td>\n      <td>12</td>\n      <td>LESTE</td>\n      <td>1</td>\n      <td>PARANAGUA</td>\n      <td>411820</td>\n      <td>Paranaguá</td>\n      <td>156174</td>\n      <td>1</td>\n      <td>0.640311</td>\n      <td>0</td>\n      <td>0.000000</td>\n      <td>0.0</td>\n    </tr>\n    <tr>\n      <th>4</th>\n      <td>2020</td>\n      <td>12</td>\n      <td>LESTE</td>\n      <td>2</td>\n      <td>METROPOLITANA</td>\n      <td>410420</td>\n      <td>Campo Largo</td>\n      <td>133865</td>\n      <td>1</td>\n      <td>0.747021</td>\n      <td>0</td>\n      <td>0.000000</td>\n      <td>0.0</td>\n    </tr>\n    <tr>\n      <th>...</th>\n      <td>...</td>\n      <td>...</td>\n      <td>...</td>\n      <td>...</td>\n      <td>...</td>\n      <td>...</td>\n      <td>...</td>\n      <td>...</td>\n      <td>...</td>\n      <td>...</td>\n      <td>...</td>\n      <td>...</td>\n      <td>...</td>\n    </tr>\n    <tr>\n      <th>13945</th>\n      <td>2021</td>\n      <td>4</td>\n      <td>OESTE</td>\n      <td>7</td>\n      <td>PATO BRANCO</td>\n      <td>412665</td>\n      <td>Sulina</td>\n      <td>2930</td>\n      <td>0</td>\n      <td>0.000000</td>\n      <td>1</td>\n      <td>34.129693</td>\n      <td>0.0</td>\n    </tr>\n    <tr>\n      <th>13946</th>\n      <td>2021</td>\n      <td>5</td>\n      <td>NOROESTE</td>\n      <td>14</td>\n      <td>PARANAVAI</td>\n      <td>411830</td>\n      <td>Paranapoema</td>\n      <td>3241</td>\n      <td>0</td>\n      <td>0.000000</td>\n      <td>1</td>\n      <td>30.854674</td>\n      <td>0.0</td>\n    </tr>\n    <tr>\n      <th>13947</th>\n      <td>2021</td>\n      <td>5</td>\n      <td>NORTE</td>\n      <td>17</td>\n      <td>LONDRINA</td>\n      <td>412033</td>\n      <td>Prado Ferreira</td>\n      <td>3780</td>\n      <td>0</td>\n      <td>0.000000</td>\n      <td>1</td>\n      <td>26.455026</td>\n      <td>0.0</td>\n    </tr>\n    <tr>\n      <th>13948</th>\n      <td>2021</td>\n      <td>7</td>\n      <td>NOROESTE</td>\n      <td>14</td>\n      <td>PARANAVAI</td>\n      <td>412420</td>\n      <td>Santo Antônio do Caiuá</td>\n      <td>2626</td>\n      <td>0</td>\n      <td>0.000000</td>\n      <td>1</td>\n      <td>38.080731</td>\n      <td>0.0</td>\n    </tr>\n    <tr>\n      <th>13949</th>\n      <td>2021</td>\n      <td>7</td>\n      <td>OESTE</td>\n      <td>8</td>\n      <td>FRANCISCO BELTRAO</td>\n      <td>411435</td>\n      <td>Manfrinópolis</td>\n      <td>2506</td>\n      <td>0</td>\n      <td>0.000000</td>\n      <td>1</td>\n      <td>39.904230</td>\n      <td>0.0</td>\n    </tr>\n  </tbody>\n</table>\n<p>13950 rows × 13 columns</p>\n</div>"
     },
     "metadata": {},
     "execution_count": 9
    }
   ],
   "source": [
    "casoseobitos = pd.merge(casos,obitos,how='outer').fillna(0)\n",
    "casoseobitos['coef_letalidade'] = casoseobitos.apply(lambda x: x['obitos']/x['casos']*100000 if x['casos'] != 0 else 0, axis=1)\n",
    "casoseobitos['casos'] = casoseobitos['casos'].apply(int)\n",
    "casoseobitos['obitos'] = casoseobitos['obitos'].apply(int)\n",
    "casoseobitos"
   ]
  },
  {
   "cell_type": "code",
   "execution_count": null,
   "metadata": {},
   "outputs": [],
   "source": [
    "# casoseobitos.groupby([''])"
   ]
  },
  {
   "cell_type": "code",
   "execution_count": 11,
   "metadata": {},
   "outputs": [],
   "source": [
    "writer = pd.ExcelWriter(join('output','casoseobitos.xlsx'),\n",
    "                        engine='xlsxwriter',\n",
    "                        datetime_format='dd/mm/yyyy',\n",
    "                        date_format='dd/mm/yyyy')\n",
    "\n",
    "casoseobitos.to_excel(writer,'casoseobitos')\n",
    "worksheet = writer.sheets['casoseobitos']\n",
    "auto_fit_columns(worksheet,casoseobitos)\n",
    "\n",
    "writer.save()\n",
    "writer.close()"
   ]
  },
  {
   "cell_type": "code",
   "execution_count": null,
   "metadata": {},
   "outputs": [],
   "source": []
  }
 ]
}