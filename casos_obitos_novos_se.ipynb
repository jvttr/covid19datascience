{
 "metadata": {
  "language_info": {
   "codemirror_mode": {
    "name": "ipython",
    "version": 3
   },
   "file_extension": ".py",
   "mimetype": "text/x-python",
   "name": "python",
   "nbconvert_exporter": "python",
   "pygments_lexer": "ipython3",
   "version": "3.8.5-final"
  },
  "orig_nbformat": 2,
  "kernelspec": {
   "name": "python3",
   "display_name": "Python 3.8.5 64-bit (conda)",
   "metadata": {
    "interpreter": {
     "hash": "b3ba2566441a7c06988d0923437866b63cedc61552a5af99d1f4fb67d367b25f"
    }
   }
  }
 },
 "nbformat": 4,
 "nbformat_minor": 2,
 "cells": [
  {
   "cell_type": "code",
   "execution_count": 276,
   "metadata": {},
   "outputs": [],
   "source": [
    "import pandas as pd\n",
    "import numpy as np\n",
    "from matplotlib import pyplot\n",
    "from epiweeks import Week\n",
    "from datetime import date, datetime\n",
    "from os.path import dirname, join, isfile, isdir\n",
    "\n",
    "from bulletin.commom import static\n",
    "from bulletin.commom.normalize import normalize_text, normalize_number, normalize_hash, normalize_cpf, normalize_igbe\n",
    "from bulletin.commom.utils import isvaliddate\n",
    "\n",
    "from bulletin.commom.utils import Timer, auto_fit_columns"
   ]
  },
  {
   "cell_type": "code",
   "execution_count": 277,
   "metadata": {},
   "outputs": [],
   "source": [
    "municipios = static.municipios.loc[static.municipios['uf']=='PR',['ibge','municipio','populacao']].copy()\n",
    "municipios['ibge'] = municipios['ibge'].apply(str)\n",
    "\n",
    "regionais = static.regionais[['ibge','nm_macro','nu_reg','nm_reg']].copy()\n",
    "regionais['ibge'] = regionais['ibge'].apply(str)\n",
    "regionais = regionais.rename(columns={'nu_reg':'rs'})\n",
    "\n",
    "populacao_macro = pd.merge(regionais,municipios,on='ibge',how='inner').groupby('nm_macro')[['populacao']].sum()\n",
    "populacao_rs = pd.merge(regionais,municipios,on='ibge',how='inner').groupby('rs')[['populacao']].sum()\n",
    "populacao_mun = municipios"
   ]
  },
  {
   "cell_type": "code",
   "execution_count": 278,
   "metadata": {},
   "outputs": [],
   "source": [
    "casos = pd.read_excel('input/casoseobitos.xlsx','casos',converters={\n",
    "        'ibge': normalize_igbe\n",
    "    }\n",
    ")\n"
   ]
  },
  {
   "cell_type": "code",
   "execution_count": 279,
   "metadata": {},
   "outputs": [],
   "source": [
    "casos = pd.merge(left=casos, right=regionais, how='left', on='ibge')\n",
    "casos = pd.merge(left=casos, right=municipios, how='left', on='ibge')\n",
    "casos['ano'] = casos.apply(lambda row: Week.fromdate(row['dt_diag']).year, axis=1)\n",
    "casos['mes'] = casos.apply(lambda row: static.meses[Week.fromdate(row['dt_diag']).startdate().month-1], axis=1)\n",
    "casos['se'] = casos.apply(lambda row: Week.fromdate(row['dt_diag']).week, axis=1)"
   ]
  },
  {
   "cell_type": "code",
   "execution_count": 280,
   "metadata": {},
   "outputs": [],
   "source": [
    "casos_macro = casos.groupby(['ano','mes','se','nm_macro'])[['dt_diag']].count().rename(columns={'dt_diag':'casos'})\n",
    "casos_macro = casos_macro.unstack(level=[0,1,2]).swaplevel(0, 1, axis=1).swaplevel(1, 2, axis=1).swaplevel(2, 3, axis=1).fillna(0).astype(int)\n",
    "casos_macro = casos_macro.xs('casos', axis=1, level= 3)\n",
    "casos_macro['total'] = casos_macro.sum(axis=1)\n",
    "\n",
    "tuples = [ (macro,populacao) for macro, populacao in zip(casos_macro.index,populacao_macro['populacao'].values) ]\n",
    "casos_macro = casos_macro.set_index(pd.MultiIndex.from_tuples(tuples, names=[\"macro\", \"populacao\"]))"
   ]
  },
  {
   "cell_type": "code",
   "execution_count": 281,
   "metadata": {},
   "outputs": [],
   "source": [
    "casos_rs = casos.groupby(['ano','mes','se','nm_macro','rs','nm_reg'])[['dt_diag']].count().rename(columns={'dt_diag':'casos'})\n",
    "\n",
    "casos_rs = casos_rs.unstack(level=[0,1,2]).swaplevel(0, 1, axis=1).swaplevel(1, 2, axis=1).swaplevel(2, 3, axis=1).fillna(0).astype(int)\n",
    "casos_rs = casos_rs.xs('casos', axis=1, level= 3)\n",
    "casos_rs['total'] = casos_rs.sum(axis=1)\n",
    "\n",
    "tuples = [ ( macro, rs, nm_rs, populacao) for (macro, rs, nm_rs), populacao in zip(casos_rs.index,populacao_rs['populacao'].values) ]\n",
    "casos_rs = casos_rs.set_index(pd.MultiIndex.from_tuples(tuples, names=[\"macro\",\"rs\",\"nome\",\"populacao\"]))"
   ]
  },
  {
   "cell_type": "code",
   "execution_count": 282,
   "metadata": {},
   "outputs": [],
   "source": [
    "casos_mun = casos.groupby(['ano','mes','se','nm_macro','rs','nm_reg','ibge','municipio','populacao'])[['dt_diag']].count().rename(columns={'dt_diag':'casos'})\n",
    "\n",
    "casos_mun = casos_mun.unstack(level=[0,1,2]).swaplevel(0, 1, axis=1).swaplevel(1, 2, axis=1).swaplevel(2, 3, axis=1).fillna(0).astype(int)\n",
    "casos_mun = casos_mun.xs('casos', axis=1, level= 3)\n",
    "casos_mun['total'] = casos_mun.sum(axis=1)"
   ]
  },
  {
   "cell_type": "code",
   "execution_count": 283,
   "metadata": {},
   "outputs": [],
   "source": [
    "obitos = pd.read_excel('input/casoseobitos.xlsx','obitos',converters={\n",
    "        'ibge': normalize_igbe\n",
    "    }\n",
    ")\n"
   ]
  },
  {
   "cell_type": "code",
   "execution_count": 284,
   "metadata": {},
   "outputs": [],
   "source": [
    "obitos = pd.merge(left=obitos, right=regionais, how='left', on='ibge')\n",
    "obitos = pd.merge(left=obitos, right=municipios, how='left', on='ibge')\n",
    "obitos['ano'] = obitos.apply(lambda row: Week.fromdate(row['data_obito']).year, axis=1)\n",
    "obitos['mes'] = obitos.apply(lambda row: static.meses[Week.fromdate(row['data_obito']).startdate().month-1], axis=1)\n",
    "obitos['se'] = obitos.apply(lambda row: Week.fromdate(row['data_obito']).week, axis=1)"
   ]
  },
  {
   "cell_type": "code",
   "execution_count": 285,
   "metadata": {},
   "outputs": [],
   "source": [
    "# obitos_macro = obitos.groupby(['ano','mes','se','nm_macro'])[['data_obito']].count().rename(columns={'data_obito':'obitos'})\n",
    "# obitos_macro = obitos_macro.unstack(level=[0,1,2]).swaplevel(0, 1, axis=1).swaplevel(1, 2, axis=1).swaplevel(2, 3, axis=1).fillna(0).astype(int)\n",
    "# obitos_macro = obitos_macro.xs('obitos', axis=1, level= 3)\n",
    "# obitos_macro['total'] = obitos_macro.sum(axis=1)\n",
    "\n",
    "# tuples = [ (macro,populacao) for macro, populacao in zip(obitos_macro.index,populacao_macro['populacao'].values) ]\n",
    "# obitos_macro = obitos_macro.set_index(pd.MultiIndex.from_tuples(tuples, names=[\"macro\", \"populacao\"]))"
   ]
  },
  {
   "cell_type": "code",
   "execution_count": 286,
   "metadata": {},
   "outputs": [],
   "source": [
    "# obitos_rs = obitos.groupby(['ano','mes','se','nm_macro','rs','nm_reg'])[['data_obito']].count().rename(columns={'data_obito':'obitos'})\n",
    "\n",
    "# obitos_rs = obitos_rs.unstack(level=[0,1,2]).swaplevel(0, 1, axis=1).swaplevel(1, 2, axis=1).swaplevel(2, 3, axis=1).fillna(0).astype(int)\n",
    "# obitos_rs = obitos_rs.xs('obitos', axis=1, level= 3)\n",
    "# obitos_rs['total'] = obitos_rs.sum(axis=1)\n",
    "\n",
    "# tuples = [ ( macro, rs, nm_rs, populacao) for (macro, rs, nm_rs), populacao in zip(obitos_rs.index,populacao_rs['populacao'].values) ]\n",
    "# obitos_rs = obitos_rs.set_index(pd.MultiIndex.from_tuples(tuples, names=[\"macro\",\"rs\",\"nome\",\"populacao\"]))"
   ]
  },
  {
   "cell_type": "code",
   "execution_count": 287,
   "metadata": {},
   "outputs": [],
   "source": [
    "# obitos_mun = obitos.groupby(['ano','mes','se','nm_macro','rs','nm_reg','ibge','municipio','populacao'])[['data_obito']].count().rename(columns={'data_obito':'obitos'})\n",
    "\n",
    "# obitos_mun = obitos_mun.unstack(level=[0,1,2]).swaplevel(0, 1, axis=1).swaplevel(1, 2, axis=1).swaplevel(2, 3, axis=1).fillna(0).astype(int)\n",
    "# obitos_mun = obitos_mun.xs('obitos', axis=1, level= 3)\n",
    "# obitos_mun['total'] = obitos_mun.sum(axis=1)"
   ]
  },
  {
   "cell_type": "code",
   "execution_count": 288,
   "metadata": {},
   "outputs": [],
   "source": [
    "# sheets = { 'casos_macro': casos_macro, 'casos_rs': casos_rs,'casos_mun': casos_mun, 'obitos_macro': obitos_macro,'obitos_rs': obitos_rs,'obitos_mun': obitos_mun }\n",
    "\n",
    "# writer = pd.ExcelWriter(join('output','casos_obitos.xlsx'),\n",
    "#                         engine='xlsxwriter',\n",
    "#                         datetime_format='dd/mm/yyyy',\n",
    "#                         date_format='dd/mm/yyyy')\n",
    "\n",
    "\n",
    "# for sheet_name, sheet in sheets.items():\n",
    "#     sheet.to_excel(writer,sheet_name)\n",
    "#     worksheet = writer.sheets[sheet_name]\n",
    "#     auto_fit_columns(worksheet,sheet)\n",
    "\n",
    "# writer.save()\n",
    "# writer.close()"
   ]
  },
  {
   "cell_type": "code",
   "execution_count": 290,
   "metadata": {},
   "outputs": [],
   "source": [
    "writer = pd.ExcelWriter(join('output','dados_fontes.xlsx'),\n",
    "                        engine='xlsxwriter',\n",
    "                        datetime_format='dd/mm/yyyy',\n",
    "                        date_format='dd/mm/yyyy')\n",
    "\n",
    "populacao_macro.to_excel(writer,'populacao_macro')\n",
    "worksheet = writer.sheets['populacao_macro']\n",
    "auto_fit_columns(worksheet,populacao_macro)\n",
    "\n",
    "populacao_rs.to_excel(writer,'populacao_rs')\n",
    "worksheet = writer.sheets['populacao_rs']\n",
    "auto_fit_columns(worksheet,populacao_rs)\n",
    "\n",
    "populacao_mun.to_excel(writer,'populacao_mun',index=False)\n",
    "worksheet = writer.sheets['populacao_mun']\n",
    "auto_fit_columns(worksheet,populacao_mun)\n",
    "\n",
    "casos.to_excel(writer,'casos',index=False)\n",
    "worksheet = writer.sheets['casos']\n",
    "auto_fit_columns(worksheet,casos)\n",
    "\n",
    "obitos.to_excel(writer,'obitos',index=False)\n",
    "worksheet = writer.sheets['obitos']\n",
    "auto_fit_columns(worksheet,obitos)\n",
    "\n",
    "writer.save()\n",
    "writer.close()"
   ]
  },
  {
   "cell_type": "code",
   "execution_count": null,
   "metadata": {},
   "outputs": [],
   "source": []
  }
 ]
}