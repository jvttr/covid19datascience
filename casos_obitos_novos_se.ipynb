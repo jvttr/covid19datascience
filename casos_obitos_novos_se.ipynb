{
 "metadata": {
  "language_info": {
   "codemirror_mode": {
    "name": "ipython",
    "version": 3
   },
   "file_extension": ".py",
   "mimetype": "text/x-python",
   "name": "python",
   "nbconvert_exporter": "python",
   "pygments_lexer": "ipython3",
   "version": "3.8.5-final"
  },
  "orig_nbformat": 2,
  "kernelspec": {
   "name": "python3",
   "display_name": "Python 3.8.5 64-bit (conda)",
   "metadata": {
    "interpreter": {
     "hash": "b3ba2566441a7c06988d0923437866b63cedc61552a5af99d1f4fb67d367b25f"
    }
   }
  }
 },
 "nbformat": 4,
 "nbformat_minor": 2,
 "cells": [
  {
   "cell_type": "code",
   "execution_count": 1,
   "metadata": {},
   "outputs": [],
   "source": [
    "import pandas as pd\n",
    "from matplotlib import pyplot\n",
    "from epiweeks import Week\n",
    "from datetime import date, datetime\n",
    "from os.path import dirname, join, isfile, isdir\n",
    "\n",
    "from bulletin.commom import static\n",
    "from bulletin.commom.normalize import normalize_text, normalize_number, normalize_hash, normalize_cpf, normalize_igbe\n",
    "from bulletin.commom.utils import isvaliddate\n",
    "\n",
    "from bulletin.commom.utils import Timer, auto_fit_columns"
   ]
  },
  {
   "cell_type": "code",
   "execution_count": 2,
   "metadata": {},
   "outputs": [],
   "source": [
    "municipios = static.municipios[['ibge','municipio','populacao']].copy()\n",
    "municipios['ibge'] = municipios['ibge'].apply(str)\n",
    "\n",
    "regionais = static.regionais[['ibge','nm_macro','nu_reg','nm_reg']].copy()\n",
    "regionais['ibge'] = regionais['ibge'].apply(str)\n",
    "regionais = regionais.rename(columns={'nu_reg':'rs'})"
   ]
  },
  {
   "cell_type": "code",
   "execution_count": 3,
   "metadata": {},
   "outputs": [],
   "source": [
    "casos = pd.read_excel('input/casoseobitos.xlsx','casos',converters={\n",
    "        'ibge': normalize_igbe\n",
    "    }\n",
    ")"
   ]
  },
  {
   "cell_type": "code",
   "execution_count": 4,
   "metadata": {},
   "outputs": [],
   "source": [
    "obitos = pd.read_excel('input/casoseobitos.xlsx','obitos',converters={\n",
    "        'ibge': normalize_igbe\n",
    "    }\n",
    ")"
   ]
  },
  {
   "cell_type": "code",
   "execution_count": 5,
   "metadata": {},
   "outputs": [],
   "source": [
    "casos = pd.merge(left=casos, right=regionais, how='left', on='ibge')\n",
    "casos = pd.merge(left=casos, right=municipios, how='left', on='ibge')\n",
    "casos['ano'] = casos.apply(lambda row: Week.fromdate(row['dt_diag']).year, axis=1)\n",
    "casos['se'] = casos.apply(lambda row: Week.fromdate(row['dt_diag']).week, axis=1)"
   ]
  },
  {
   "cell_type": "code",
   "execution_count": 6,
   "metadata": {},
   "outputs": [],
   "source": [
    "obitos = pd.merge(left=obitos, right=regionais, how='left', on='ibge')\n",
    "obitos = pd.merge(left=obitos, right=municipios, how='left', on='ibge')\n",
    "obitos['ano'] = obitos.apply(lambda row: Week.fromdate(row['data_obito']).year, axis=1)\n",
    "obitos['se'] = obitos.apply(lambda row: Week.fromdate(row['data_obito']).week, axis=1)"
   ]
  },
  {
   "cell_type": "code",
   "execution_count": 7,
   "metadata": {},
   "outputs": [
    {
     "output_type": "execute_result",
     "data": {
      "text/plain": [
       "        ano  se  nm_macro  rs         nm_reg    ibge                municipio  \\\n",
       "0      2020  11     LESTE   2  METROPOLITANA  410690                 Curitiba   \n",
       "1      2020  11  NOROESTE  13       CIANORTE  410550                 Cianorte   \n",
       "2      2020  11  NOROESTE  15        MARINGA  411520                  Maringá   \n",
       "3      2020  12     LESTE   1      PARANAGUA  411820                Paranaguá   \n",
       "4      2020  12     LESTE   2  METROPOLITANA  410420              Campo Largo   \n",
       "...     ...  ..       ...  ..            ...     ...                      ...   \n",
       "13874  2021   8     OESTE  20         TOLEDO  411460  Marechal Cândido Rondon   \n",
       "13875  2021   8     OESTE  20         TOLEDO  412085            Quatro Pontes   \n",
       "13876  2021   8     OESTE  20         TOLEDO  412740               Terra Roxa   \n",
       "13877  2021   8     OESTE  20         TOLEDO  412770                   Toledo   \n",
       "13878  2021   8     OESTE  20         TOLEDO  412795                  Tupãssi   \n",
       "\n",
       "       populacao  casos  coef_incidencia  \n",
       "0        1948626     10         0.513182  \n",
       "1          83816      1         1.193090  \n",
       "2         430157      1         0.232473  \n",
       "3         156174      1         0.640311  \n",
       "4         133865      1         0.747021  \n",
       "...          ...    ...              ...  \n",
       "13874      53495     11        20.562669  \n",
       "13875       4029      1        24.820055  \n",
       "13876      17522      2        11.414222  \n",
       "13877     142645      1         0.701041  \n",
       "13878       8109      1        12.331977  \n",
       "\n",
       "[13879 rows x 10 columns]"
      ],
      "text/html": "<div>\n<style scoped>\n    .dataframe tbody tr th:only-of-type {\n        vertical-align: middle;\n    }\n\n    .dataframe tbody tr th {\n        vertical-align: top;\n    }\n\n    .dataframe thead th {\n        text-align: right;\n    }\n</style>\n<table border=\"1\" class=\"dataframe\">\n  <thead>\n    <tr style=\"text-align: right;\">\n      <th></th>\n      <th>ano</th>\n      <th>se</th>\n      <th>nm_macro</th>\n      <th>rs</th>\n      <th>nm_reg</th>\n      <th>ibge</th>\n      <th>municipio</th>\n      <th>populacao</th>\n      <th>casos</th>\n      <th>coef_incidencia</th>\n    </tr>\n  </thead>\n  <tbody>\n    <tr>\n      <th>0</th>\n      <td>2020</td>\n      <td>11</td>\n      <td>LESTE</td>\n      <td>2</td>\n      <td>METROPOLITANA</td>\n      <td>410690</td>\n      <td>Curitiba</td>\n      <td>1948626</td>\n      <td>10</td>\n      <td>0.513182</td>\n    </tr>\n    <tr>\n      <th>1</th>\n      <td>2020</td>\n      <td>11</td>\n      <td>NOROESTE</td>\n      <td>13</td>\n      <td>CIANORTE</td>\n      <td>410550</td>\n      <td>Cianorte</td>\n      <td>83816</td>\n      <td>1</td>\n      <td>1.193090</td>\n    </tr>\n    <tr>\n      <th>2</th>\n      <td>2020</td>\n      <td>11</td>\n      <td>NOROESTE</td>\n      <td>15</td>\n      <td>MARINGA</td>\n      <td>411520</td>\n      <td>Maringá</td>\n      <td>430157</td>\n      <td>1</td>\n      <td>0.232473</td>\n    </tr>\n    <tr>\n      <th>3</th>\n      <td>2020</td>\n      <td>12</td>\n      <td>LESTE</td>\n      <td>1</td>\n      <td>PARANAGUA</td>\n      <td>411820</td>\n      <td>Paranaguá</td>\n      <td>156174</td>\n      <td>1</td>\n      <td>0.640311</td>\n    </tr>\n    <tr>\n      <th>4</th>\n      <td>2020</td>\n      <td>12</td>\n      <td>LESTE</td>\n      <td>2</td>\n      <td>METROPOLITANA</td>\n      <td>410420</td>\n      <td>Campo Largo</td>\n      <td>133865</td>\n      <td>1</td>\n      <td>0.747021</td>\n    </tr>\n    <tr>\n      <th>...</th>\n      <td>...</td>\n      <td>...</td>\n      <td>...</td>\n      <td>...</td>\n      <td>...</td>\n      <td>...</td>\n      <td>...</td>\n      <td>...</td>\n      <td>...</td>\n      <td>...</td>\n    </tr>\n    <tr>\n      <th>13874</th>\n      <td>2021</td>\n      <td>8</td>\n      <td>OESTE</td>\n      <td>20</td>\n      <td>TOLEDO</td>\n      <td>411460</td>\n      <td>Marechal Cândido Rondon</td>\n      <td>53495</td>\n      <td>11</td>\n      <td>20.562669</td>\n    </tr>\n    <tr>\n      <th>13875</th>\n      <td>2021</td>\n      <td>8</td>\n      <td>OESTE</td>\n      <td>20</td>\n      <td>TOLEDO</td>\n      <td>412085</td>\n      <td>Quatro Pontes</td>\n      <td>4029</td>\n      <td>1</td>\n      <td>24.820055</td>\n    </tr>\n    <tr>\n      <th>13876</th>\n      <td>2021</td>\n      <td>8</td>\n      <td>OESTE</td>\n      <td>20</td>\n      <td>TOLEDO</td>\n      <td>412740</td>\n      <td>Terra Roxa</td>\n      <td>17522</td>\n      <td>2</td>\n      <td>11.414222</td>\n    </tr>\n    <tr>\n      <th>13877</th>\n      <td>2021</td>\n      <td>8</td>\n      <td>OESTE</td>\n      <td>20</td>\n      <td>TOLEDO</td>\n      <td>412770</td>\n      <td>Toledo</td>\n      <td>142645</td>\n      <td>1</td>\n      <td>0.701041</td>\n    </tr>\n    <tr>\n      <th>13878</th>\n      <td>2021</td>\n      <td>8</td>\n      <td>OESTE</td>\n      <td>20</td>\n      <td>TOLEDO</td>\n      <td>412795</td>\n      <td>Tupãssi</td>\n      <td>8109</td>\n      <td>1</td>\n      <td>12.331977</td>\n    </tr>\n  </tbody>\n</table>\n<p>13879 rows × 10 columns</p>\n</div>"
     },
     "metadata": {},
     "execution_count": 7
    }
   ],
   "source": [
    "casos = casos.groupby(['ano','se','nm_macro','rs','nm_reg','ibge','municipio','populacao'])[['dt_diag']].count().rename(columns={'dt_diag':'casos'})\n",
    "casos.reset_index(inplace=True)\n",
    "casos['coef_incidencia'] = casos.apply(lambda x: x['casos']/x['populacao']*100000, axis=1)\n",
    "\n",
    "casos"
   ]
  },
  {
   "cell_type": "code",
   "execution_count": 8,
   "metadata": {},
   "outputs": [
    {
     "output_type": "execute_result",
     "data": {
      "text/plain": [
       "       ano  se  nm_macro  rs         nm_reg    ibge               municipio  \\\n",
       "0     2020  13  NOROESTE  15        MARINGA  411520                 Maringá   \n",
       "1     2020  14     LESTE   2  METROPOLITANA  410690                Curitiba   \n",
       "2     2020  14  NOROESTE  11   CAMPO MOURAO  410430            Campo Mourão   \n",
       "3     2020  14  NOROESTE  13       CIANORTE  410550                Cianorte   \n",
       "4     2020  14     NORTE  17       LONDRINA  411370                Londrina   \n",
       "...    ...  ..       ...  ..            ...     ...                     ...   \n",
       "3491  2021   8     NORTE  19    JACAREZINHO  412850          Wenceslau Braz   \n",
       "3492  2021   8     OESTE  10       CASCAVEL  410305  Boa Vista da Aparecida   \n",
       "3493  2021   8     OESTE  10       CASCAVEL  410480                Cascavel   \n",
       "3494  2021   8     OESTE  10       CASCAVEL  412090        Quedas do Iguaçu   \n",
       "3495  2021   8     OESTE  20         TOLEDO  410880                  Guaíra   \n",
       "\n",
       "      populacao  obitos  coef_mortalidade  \n",
       "0        430157       3          0.697420  \n",
       "1       1948626       1          0.051318  \n",
       "2         95488       3          3.141756  \n",
       "3         83816       2          2.386179  \n",
       "4        575377       1          0.173799  \n",
       "...         ...     ...               ...  \n",
       "3491      19386       1          5.158362  \n",
       "3492       7540       1         13.262599  \n",
       "3493     332333       2          0.601806  \n",
       "3494      34409       1          2.906216  \n",
       "3495      33310       1          3.002101  \n",
       "\n",
       "[3496 rows x 10 columns]"
      ],
      "text/html": "<div>\n<style scoped>\n    .dataframe tbody tr th:only-of-type {\n        vertical-align: middle;\n    }\n\n    .dataframe tbody tr th {\n        vertical-align: top;\n    }\n\n    .dataframe thead th {\n        text-align: right;\n    }\n</style>\n<table border=\"1\" class=\"dataframe\">\n  <thead>\n    <tr style=\"text-align: right;\">\n      <th></th>\n      <th>ano</th>\n      <th>se</th>\n      <th>nm_macro</th>\n      <th>rs</th>\n      <th>nm_reg</th>\n      <th>ibge</th>\n      <th>municipio</th>\n      <th>populacao</th>\n      <th>obitos</th>\n      <th>coef_mortalidade</th>\n    </tr>\n  </thead>\n  <tbody>\n    <tr>\n      <th>0</th>\n      <td>2020</td>\n      <td>13</td>\n      <td>NOROESTE</td>\n      <td>15</td>\n      <td>MARINGA</td>\n      <td>411520</td>\n      <td>Maringá</td>\n      <td>430157</td>\n      <td>3</td>\n      <td>0.697420</td>\n    </tr>\n    <tr>\n      <th>1</th>\n      <td>2020</td>\n      <td>14</td>\n      <td>LESTE</td>\n      <td>2</td>\n      <td>METROPOLITANA</td>\n      <td>410690</td>\n      <td>Curitiba</td>\n      <td>1948626</td>\n      <td>1</td>\n      <td>0.051318</td>\n    </tr>\n    <tr>\n      <th>2</th>\n      <td>2020</td>\n      <td>14</td>\n      <td>NOROESTE</td>\n      <td>11</td>\n      <td>CAMPO MOURAO</td>\n      <td>410430</td>\n      <td>Campo Mourão</td>\n      <td>95488</td>\n      <td>3</td>\n      <td>3.141756</td>\n    </tr>\n    <tr>\n      <th>3</th>\n      <td>2020</td>\n      <td>14</td>\n      <td>NOROESTE</td>\n      <td>13</td>\n      <td>CIANORTE</td>\n      <td>410550</td>\n      <td>Cianorte</td>\n      <td>83816</td>\n      <td>2</td>\n      <td>2.386179</td>\n    </tr>\n    <tr>\n      <th>4</th>\n      <td>2020</td>\n      <td>14</td>\n      <td>NORTE</td>\n      <td>17</td>\n      <td>LONDRINA</td>\n      <td>411370</td>\n      <td>Londrina</td>\n      <td>575377</td>\n      <td>1</td>\n      <td>0.173799</td>\n    </tr>\n    <tr>\n      <th>...</th>\n      <td>...</td>\n      <td>...</td>\n      <td>...</td>\n      <td>...</td>\n      <td>...</td>\n      <td>...</td>\n      <td>...</td>\n      <td>...</td>\n      <td>...</td>\n      <td>...</td>\n    </tr>\n    <tr>\n      <th>3491</th>\n      <td>2021</td>\n      <td>8</td>\n      <td>NORTE</td>\n      <td>19</td>\n      <td>JACAREZINHO</td>\n      <td>412850</td>\n      <td>Wenceslau Braz</td>\n      <td>19386</td>\n      <td>1</td>\n      <td>5.158362</td>\n    </tr>\n    <tr>\n      <th>3492</th>\n      <td>2021</td>\n      <td>8</td>\n      <td>OESTE</td>\n      <td>10</td>\n      <td>CASCAVEL</td>\n      <td>410305</td>\n      <td>Boa Vista da Aparecida</td>\n      <td>7540</td>\n      <td>1</td>\n      <td>13.262599</td>\n    </tr>\n    <tr>\n      <th>3493</th>\n      <td>2021</td>\n      <td>8</td>\n      <td>OESTE</td>\n      <td>10</td>\n      <td>CASCAVEL</td>\n      <td>410480</td>\n      <td>Cascavel</td>\n      <td>332333</td>\n      <td>2</td>\n      <td>0.601806</td>\n    </tr>\n    <tr>\n      <th>3494</th>\n      <td>2021</td>\n      <td>8</td>\n      <td>OESTE</td>\n      <td>10</td>\n      <td>CASCAVEL</td>\n      <td>412090</td>\n      <td>Quedas do Iguaçu</td>\n      <td>34409</td>\n      <td>1</td>\n      <td>2.906216</td>\n    </tr>\n    <tr>\n      <th>3495</th>\n      <td>2021</td>\n      <td>8</td>\n      <td>OESTE</td>\n      <td>20</td>\n      <td>TOLEDO</td>\n      <td>410880</td>\n      <td>Guaíra</td>\n      <td>33310</td>\n      <td>1</td>\n      <td>3.002101</td>\n    </tr>\n  </tbody>\n</table>\n<p>3496 rows × 10 columns</p>\n</div>"
     },
     "metadata": {},
     "execution_count": 8
    }
   ],
   "source": [
    "obitos = obitos.groupby(['ano','se','nm_macro','rs','nm_reg','ibge','municipio','populacao'])[['data_obito']].count().rename(columns={'data_obito':'obitos'})\n",
    "obitos.reset_index(inplace=True)\n",
    "obitos['coef_mortalidade'] = obitos.apply(lambda x: x['obitos']/x['populacao']*100000, axis=1)\n",
    "\n",
    "obitos"
   ]
  },
  {
   "cell_type": "code",
   "execution_count": 9,
   "metadata": {},
   "outputs": [
    {
     "output_type": "execute_result",
     "data": {
      "text/plain": [
       "        ano  se  nm_macro  rs             nm_reg    ibge  \\\n",
       "0      2020  11     LESTE   2      METROPOLITANA  410690   \n",
       "1      2020  11  NOROESTE  13           CIANORTE  410550   \n",
       "2      2020  11  NOROESTE  15            MARINGA  411520   \n",
       "3      2020  12     LESTE   1          PARANAGUA  411820   \n",
       "4      2020  12     LESTE   2      METROPOLITANA  410420   \n",
       "...     ...  ..       ...  ..                ...     ...   \n",
       "13945  2021   4     OESTE   7        PATO BRANCO  412665   \n",
       "13946  2021   5  NOROESTE  14          PARANAVAI  411830   \n",
       "13947  2021   5     NORTE  17           LONDRINA  412033   \n",
       "13948  2021   7  NOROESTE  14          PARANAVAI  412420   \n",
       "13949  2021   7     OESTE   8  FRANCISCO BELTRAO  411435   \n",
       "\n",
       "                    municipio  populacao  casos  coef_incidencia  obitos  \\\n",
       "0                    Curitiba    1948626     10         0.513182       0   \n",
       "1                    Cianorte      83816      1         1.193090       0   \n",
       "2                     Maringá     430157      1         0.232473       0   \n",
       "3                   Paranaguá     156174      1         0.640311       0   \n",
       "4                 Campo Largo     133865      1         0.747021       0   \n",
       "...                       ...        ...    ...              ...     ...   \n",
       "13945                  Sulina       2930      0         0.000000       1   \n",
       "13946             Paranapoema       3241      0         0.000000       1   \n",
       "13947          Prado Ferreira       3780      0         0.000000       1   \n",
       "13948  Santo Antônio do Caiuá       2626      0         0.000000       1   \n",
       "13949           Manfrinópolis       2506      0         0.000000       1   \n",
       "\n",
       "       coef_mortalidade  coef_letalidade  \n",
       "0              0.000000              0.0  \n",
       "1              0.000000              0.0  \n",
       "2              0.000000              0.0  \n",
       "3              0.000000              0.0  \n",
       "4              0.000000              0.0  \n",
       "...                 ...              ...  \n",
       "13945         34.129693              0.0  \n",
       "13946         30.854674              0.0  \n",
       "13947         26.455026              0.0  \n",
       "13948         38.080731              0.0  \n",
       "13949         39.904230              0.0  \n",
       "\n",
       "[13950 rows x 13 columns]"
      ],
      "text/html": "<div>\n<style scoped>\n    .dataframe tbody tr th:only-of-type {\n        vertical-align: middle;\n    }\n\n    .dataframe tbody tr th {\n        vertical-align: top;\n    }\n\n    .dataframe thead th {\n        text-align: right;\n    }\n</style>\n<table border=\"1\" class=\"dataframe\">\n  <thead>\n    <tr style=\"text-align: right;\">\n      <th></th>\n      <th>ano</th>\n      <th>se</th>\n      <th>nm_macro</th>\n      <th>rs</th>\n      <th>nm_reg</th>\n      <th>ibge</th>\n      <th>municipio</th>\n      <th>populacao</th>\n      <th>casos</th>\n      <th>coef_incidencia</th>\n      <th>obitos</th>\n      <th>coef_mortalidade</th>\n      <th>coef_letalidade</th>\n    </tr>\n  </thead>\n  <tbody>\n    <tr>\n      <th>0</th>\n      <td>2020</td>\n      <td>11</td>\n      <td>LESTE</td>\n      <td>2</td>\n      <td>METROPOLITANA</td>\n      <td>410690</td>\n      <td>Curitiba</td>\n      <td>1948626</td>\n      <td>10</td>\n      <td>0.513182</td>\n      <td>0</td>\n      <td>0.000000</td>\n      <td>0.0</td>\n    </tr>\n    <tr>\n      <th>1</th>\n      <td>2020</td>\n      <td>11</td>\n      <td>NOROESTE</td>\n      <td>13</td>\n      <td>CIANORTE</td>\n      <td>410550</td>\n      <td>Cianorte</td>\n      <td>83816</td>\n      <td>1</td>\n      <td>1.193090</td>\n      <td>0</td>\n      <td>0.000000</td>\n      <td>0.0</td>\n    </tr>\n    <tr>\n      <th>2</th>\n      <td>2020</td>\n      <td>11</td>\n      <td>NOROESTE</td>\n      <td>15</td>\n      <td>MARINGA</td>\n      <td>411520</td>\n      <td>Maringá</td>\n      <td>430157</td>\n      <td>1</td>\n      <td>0.232473</td>\n      <td>0</td>\n      <td>0.000000</td>\n      <td>0.0</td>\n    </tr>\n    <tr>\n      <th>3</th>\n      <td>2020</td>\n      <td>12</td>\n      <td>LESTE</td>\n      <td>1</td>\n      <td>PARANAGUA</td>\n      <td>411820</td>\n      <td>Paranaguá</td>\n      <td>156174</td>\n      <td>1</td>\n      <td>0.640311</td>\n      <td>0</td>\n      <td>0.000000</td>\n      <td>0.0</td>\n    </tr>\n    <tr>\n      <th>4</th>\n      <td>2020</td>\n      <td>12</td>\n      <td>LESTE</td>\n      <td>2</td>\n      <td>METROPOLITANA</td>\n      <td>410420</td>\n      <td>Campo Largo</td>\n      <td>133865</td>\n      <td>1</td>\n      <td>0.747021</td>\n      <td>0</td>\n      <td>0.000000</td>\n      <td>0.0</td>\n    </tr>\n    <tr>\n      <th>...</th>\n      <td>...</td>\n      <td>...</td>\n      <td>...</td>\n      <td>...</td>\n      <td>...</td>\n      <td>...</td>\n      <td>...</td>\n      <td>...</td>\n      <td>...</td>\n      <td>...</td>\n      <td>...</td>\n      <td>...</td>\n      <td>...</td>\n    </tr>\n    <tr>\n      <th>13945</th>\n      <td>2021</td>\n      <td>4</td>\n      <td>OESTE</td>\n      <td>7</td>\n      <td>PATO BRANCO</td>\n      <td>412665</td>\n      <td>Sulina</td>\n      <td>2930</td>\n      <td>0</td>\n      <td>0.000000</td>\n      <td>1</td>\n      <td>34.129693</td>\n      <td>0.0</td>\n    </tr>\n    <tr>\n      <th>13946</th>\n      <td>2021</td>\n      <td>5</td>\n      <td>NOROESTE</td>\n      <td>14</td>\n      <td>PARANAVAI</td>\n      <td>411830</td>\n      <td>Paranapoema</td>\n      <td>3241</td>\n      <td>0</td>\n      <td>0.000000</td>\n      <td>1</td>\n      <td>30.854674</td>\n      <td>0.0</td>\n    </tr>\n    <tr>\n      <th>13947</th>\n      <td>2021</td>\n      <td>5</td>\n      <td>NORTE</td>\n      <td>17</td>\n      <td>LONDRINA</td>\n      <td>412033</td>\n      <td>Prado Ferreira</td>\n      <td>3780</td>\n      <td>0</td>\n      <td>0.000000</td>\n      <td>1</td>\n      <td>26.455026</td>\n      <td>0.0</td>\n    </tr>\n    <tr>\n      <th>13948</th>\n      <td>2021</td>\n      <td>7</td>\n      <td>NOROESTE</td>\n      <td>14</td>\n      <td>PARANAVAI</td>\n      <td>412420</td>\n      <td>Santo Antônio do Caiuá</td>\n      <td>2626</td>\n      <td>0</td>\n      <td>0.000000</td>\n      <td>1</td>\n      <td>38.080731</td>\n      <td>0.0</td>\n    </tr>\n    <tr>\n      <th>13949</th>\n      <td>2021</td>\n      <td>7</td>\n      <td>OESTE</td>\n      <td>8</td>\n      <td>FRANCISCO BELTRAO</td>\n      <td>411435</td>\n      <td>Manfrinópolis</td>\n      <td>2506</td>\n      <td>0</td>\n      <td>0.000000</td>\n      <td>1</td>\n      <td>39.904230</td>\n      <td>0.0</td>\n    </tr>\n  </tbody>\n</table>\n<p>13950 rows × 13 columns</p>\n</div>"
     },
     "metadata": {},
     "execution_count": 9
    }
   ],
   "source": [
    "casos_obitos = pd.merge(casos,obitos,how='outer').fillna(0)\n",
    "casos_obitos['coef_letalidade'] = casos_obitos.apply(lambda x: x['obitos']/x['casos'] if x['casos'] != 0 else 0, axis=1)\n",
    "casos_obitos['casos'] = casos_obitos['casos'].apply(int)\n",
    "casos_obitos['obitos'] = casos_obitos['obitos'].apply(int)\n",
    "casos_obitos"
   ]
  },
  {
   "cell_type": "code",
   "execution_count": 11,
   "metadata": {},
   "outputs": [
    {
     "output_type": "execute_result",
     "data": {
      "text/plain": [
       "                                       casos  obitos  coef_incidencia  \\\n",
       "ano  se nm_macro rs nm_reg                                              \n",
       "2020 11 LESTE    2  METROPOLITANA         10       0         0.513182   \n",
       "        NOROESTE 13 CIANORTE               1       0         1.193090   \n",
       "                 15 MARINGA                1       0         0.232473   \n",
       "     12 LESTE    1   PARANAGUA             1       0         0.640311   \n",
       "                 2  METROPOLITANA         53       0         2.391717   \n",
       "...                                      ...     ...              ...   \n",
       "2021 8  OESTE    7  PATO BRANCO           74       0        37.664017   \n",
       "                 8  FRANCISCO BELTRAO    120       0        38.463881   \n",
       "                 9  FOZ DO IGUACU         49       0        18.172850   \n",
       "                 10 CASCAVEL              44       4         8.434322   \n",
       "                 20 TOLEDO                22       1         7.522653   \n",
       "\n",
       "                                       coef_mortalidade  coef_letalidade  \n",
       "ano  se nm_macro rs nm_reg                                                \n",
       "2020 11 LESTE    2  METROPOLITANA              0.000000         0.000000  \n",
       "        NOROESTE 13 CIANORTE                   0.000000         0.000000  \n",
       "                 15 MARINGA                    0.000000         0.000000  \n",
       "     12 LESTE    1   PARANAGUA                 0.000000         0.000000  \n",
       "                 2  METROPOLITANA              0.000000         0.000000  \n",
       "...                                                 ...              ...  \n",
       "2021 8  OESTE    7  PATO BRANCO                0.000000         0.000000  \n",
       "                 8  FRANCISCO BELTRAO          0.000000         0.000000  \n",
       "                 9  FOZ DO IGUACU              0.000000         0.000000  \n",
       "                 10 CASCAVEL                   0.766757         0.090909  \n",
       "                 20 TOLEDO                     0.341939         0.045455  \n",
       "\n",
       "[1070 rows x 5 columns]"
      ],
      "text/html": "<div>\n<style scoped>\n    .dataframe tbody tr th:only-of-type {\n        vertical-align: middle;\n    }\n\n    .dataframe tbody tr th {\n        vertical-align: top;\n    }\n\n    .dataframe thead th {\n        text-align: right;\n    }\n</style>\n<table border=\"1\" class=\"dataframe\">\n  <thead>\n    <tr style=\"text-align: right;\">\n      <th></th>\n      <th></th>\n      <th></th>\n      <th></th>\n      <th></th>\n      <th>casos</th>\n      <th>obitos</th>\n      <th>coef_incidencia</th>\n      <th>coef_mortalidade</th>\n      <th>coef_letalidade</th>\n    </tr>\n    <tr>\n      <th>ano</th>\n      <th>se</th>\n      <th>nm_macro</th>\n      <th>rs</th>\n      <th>nm_reg</th>\n      <th></th>\n      <th></th>\n      <th></th>\n      <th></th>\n      <th></th>\n    </tr>\n  </thead>\n  <tbody>\n    <tr>\n      <th rowspan=\"5\" valign=\"top\">2020</th>\n      <th rowspan=\"3\" valign=\"top\">11</th>\n      <th>LESTE</th>\n      <th>2</th>\n      <th>METROPOLITANA</th>\n      <td>10</td>\n      <td>0</td>\n      <td>0.513182</td>\n      <td>0.000000</td>\n      <td>0.000000</td>\n    </tr>\n    <tr>\n      <th rowspan=\"2\" valign=\"top\">NOROESTE</th>\n      <th>13</th>\n      <th>CIANORTE</th>\n      <td>1</td>\n      <td>0</td>\n      <td>1.193090</td>\n      <td>0.000000</td>\n      <td>0.000000</td>\n    </tr>\n    <tr>\n      <th>15</th>\n      <th>MARINGA</th>\n      <td>1</td>\n      <td>0</td>\n      <td>0.232473</td>\n      <td>0.000000</td>\n      <td>0.000000</td>\n    </tr>\n    <tr>\n      <th rowspan=\"2\" valign=\"top\">12</th>\n      <th rowspan=\"2\" valign=\"top\">LESTE</th>\n      <th>1</th>\n      <th>PARANAGUA</th>\n      <td>1</td>\n      <td>0</td>\n      <td>0.640311</td>\n      <td>0.000000</td>\n      <td>0.000000</td>\n    </tr>\n    <tr>\n      <th>2</th>\n      <th>METROPOLITANA</th>\n      <td>53</td>\n      <td>0</td>\n      <td>2.391717</td>\n      <td>0.000000</td>\n      <td>0.000000</td>\n    </tr>\n    <tr>\n      <th>...</th>\n      <th>...</th>\n      <th>...</th>\n      <th>...</th>\n      <th>...</th>\n      <td>...</td>\n      <td>...</td>\n      <td>...</td>\n      <td>...</td>\n      <td>...</td>\n    </tr>\n    <tr>\n      <th rowspan=\"5\" valign=\"top\">2021</th>\n      <th rowspan=\"5\" valign=\"top\">8</th>\n      <th rowspan=\"5\" valign=\"top\">OESTE</th>\n      <th>7</th>\n      <th>PATO BRANCO</th>\n      <td>74</td>\n      <td>0</td>\n      <td>37.664017</td>\n      <td>0.000000</td>\n      <td>0.000000</td>\n    </tr>\n    <tr>\n      <th>8</th>\n      <th>FRANCISCO BELTRAO</th>\n      <td>120</td>\n      <td>0</td>\n      <td>38.463881</td>\n      <td>0.000000</td>\n      <td>0.000000</td>\n    </tr>\n    <tr>\n      <th>9</th>\n      <th>FOZ DO IGUACU</th>\n      <td>49</td>\n      <td>0</td>\n      <td>18.172850</td>\n      <td>0.000000</td>\n      <td>0.000000</td>\n    </tr>\n    <tr>\n      <th>10</th>\n      <th>CASCAVEL</th>\n      <td>44</td>\n      <td>4</td>\n      <td>8.434322</td>\n      <td>0.766757</td>\n      <td>0.090909</td>\n    </tr>\n    <tr>\n      <th>20</th>\n      <th>TOLEDO</th>\n      <td>22</td>\n      <td>1</td>\n      <td>7.522653</td>\n      <td>0.341939</td>\n      <td>0.045455</td>\n    </tr>\n  </tbody>\n</table>\n<p>1070 rows × 5 columns</p>\n</div>"
     },
     "metadata": {},
     "execution_count": 11
    }
   ],
   "source": [
    "casos_obitos_regionais = casos_obitos.groupby(['ano','se','nm_macro','rs','nm_reg'])[['populacao','casos','obitos']].sum()\n",
    "\n",
    "casos_obitos_regionais['coef_incidencia'] = casos_obitos_regionais.apply(lambda x: x['casos']/x['populacao']*100000, axis=1)\n",
    "casos_obitos_regionais['coef_mortalidade'] = casos_obitos_regionais.apply(lambda x: x['obitos']/x['populacao']*100000, axis=1)\n",
    "casos_obitos_regionais['coef_letalidade'] = casos_obitos_regionais.apply(lambda x: x['obitos']/x['casos'] if x['casos'] != 0 else 0, axis=1)\n",
    "casos_obitos_regionais = casos_obitos_regionais.drop(columns=['populacao'])\n",
    "casos_obitos_regionais"
   ]
  },
  {
   "cell_type": "code",
   "execution_count": 13,
   "metadata": {},
   "outputs": [],
   "source": [
    "writer = pd.ExcelWriter(join('output','coeficientes.xlsx'),\n",
    "                        engine='xlsxwriter',\n",
    "                        datetime_format='dd/mm/yyyy',\n",
    "                        date_format='dd/mm/yyyy')\n",
    "\n",
    "casos_obitos.to_excel(writer,f\"municipios\")\n",
    "worksheet = writer.sheets[f\"municipios\"]\n",
    "auto_fit_columns(worksheet,casos_obitos)\n",
    "\n",
    "casos_obitos_regionais.to_excel(writer,f\"regionais\")\n",
    "worksheet = writer.sheets[f\"regionais\"]\n",
    "auto_fit_columns(worksheet,casos_obitos_regionais)\n",
    "\n",
    "writer.save()\n",
    "writer.close()"
   ]
  }
 ]
}