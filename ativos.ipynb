{
 "cells": [
  {
   "cell_type": "code",
   "execution_count": 1,
   "metadata": {},
   "outputs": [],
   "source": [
    "from os.path import dirname, join, isfile, isdir\n",
    "from datetime import datetime, timedelta\n",
    "from unidecode import unidecode\n",
    "from hashlib import sha256\n",
    "from os import makedirs\n",
    "from sys import exit\n",
    "import pandas as pd\n",
    "import codecs\n",
    "\n",
    "from bulletin import __file__ as __root__\n",
    "from bulletin.data.casos_confirmados import CasosConfirmados\n",
    "from bulletin.data.notifica import Notifica\n",
    "from bulletin.commom import static\n",
    "from bulletin.commom.normalize import normalize_text, normalize_labels, normalize_number, normalize_municipios, normalize_igbe, normalize_hash, data_hash\n",
    "from bulletin.commom.utils import Timer, auto_fit_columns\n",
    "\n",
    "pd.set_option('display.max_columns', None)\n",
    "output = join(\"output\",\"correcoes\",\"casos_ativos\")\n",
    "\n",
    "\n",
    "if not isdir(output):\n",
    "    makedirs(output)"
   ]
  },
  {
   "cell_type": "code",
   "execution_count": 2,
   "metadata": {},
   "outputs": [],
   "source": [
    "ativos = pd.read_excel(join(\"input\",\"ativos.xlsx\"), \n",
    "    converters = {\n",
    "        'IBGE_RES_PR': normalize_igbe,\n",
    "        'Nome': normalize_text,\n",
    "        'Sexo': normalize_text,\n",
    "        'Idade': lambda x: normalize_number(x,fill=0),\n",
    "        'Mun Resid': normalize_text,\n",
    "        'Mun atend': normalize_text,\n",
    "        'RS': lambda x: normalize_number(x,fill=99),\n",
    "        'Laboratório': normalize_text },\n",
    "    parse_dates=False )\n",
    "\n",
    "ativos.columns = [ normalize_labels(x) for x in ativos.columns ]\n",
    "ativos = ativos.rename(columns={'ibge_res_pr': 'ibge'})\n",
    "\n",
    "ativos = ativos.drop(index=ativos.loc[ativos['rs']==99].index, columns=['mun_resid'])\n",
    "ativos['rs'] = ativos['rs'].apply(lambda x: str(x).zfill(2))\n",
    "\n",
    "municipios = static.municipios[['ibge','municipio']].copy().rename(columns={'municipio':'mun_resid'})\n",
    "municipios['ibge'] = municipios['ibge'].apply(str) \n",
    "municipios['municipio'] = municipios['ibge'].apply(normalize_text)\n",
    "\n",
    "ativos = pd.merge(ativos,municipios,how=\"left\",on=\"ibge\")\n",
    "\n",
    "ativos['ordem'] = [ x for x in range(1,len(ativos)+1) ]\n",
    "\n",
    "ativos = ativos[['ordem','rs','ibge','mun_resid','nome','sexo','idade','mun_atend','dt_notificacao','dias_apos_notificacao']]"
   ]
  },
  {
   "cell_type": "code",
   "execution_count": 3,
   "metadata": {},
   "outputs": [],
   "source": [
    "ativos = ativos.sort_values('dias_apos_notificacao',ascending=False)"
   ]
  },
  {
   "cell_type": "code",
   "execution_count": 4,
   "metadata": {},
   "outputs": [],
   "source": [
    "ativos['até 20 dias'] = 0\n",
    "ativos['após 20 dias'] = 0\n",
    "ativos.loc[ativos['dias_apos_notificacao']<21,'até 20 dias'] = 1\n",
    "ativos.loc[ativos['dias_apos_notificacao']>20,'após 20 dias'] = 1"
   ]
  },
  {
   "cell_type": "code",
   "execution_count": 5,
   "metadata": {},
   "outputs": [],
   "source": [
    "writer = pd.ExcelWriter(join(output,f\"ativos_PR.xlsx\"),\n",
    "                    engine='xlsxwriter',\n",
    "                    datetime_format='dd/mm/yyyy',\n",
    "                    date_format='dd/mm/yyyy')\n",
    "\n",
    "totaisPR = ativos.groupby(['rs','ibge','mun_resid'])[['até 20 dias','após 20 dias']].sum()\n",
    "\n",
    "totaisPR.to_excel(writer,f\"Totais PR\")\n",
    "worksheet = writer.sheets[f\"Totais PR\"]\n",
    "auto_fit_columns(worksheet,totaisPR)\n",
    "\n",
    "ativos = ativos.sort_values('dias_apos_notificacao',ascending=False)\n",
    "ativos[['ordem','rs','ibge','mun_resid','nome','sexo','idade','mun_atend','dt_notificacao','dias_apos_notificacao']].to_excel(writer,f\"Geral\")\n",
    "worksheet = writer.sheets[f\"Geral\"]\n",
    "auto_fit_columns(worksheet,ativos[['ordem','rs','ibge','mun_resid','nome','sexo','idade','mun_atend','dt_notificacao','dias_apos_notificacao']])\n",
    "\n",
    "writer.save()"
   ]
  },
  {
   "cell_type": "code",
   "execution_count": 6,
   "metadata": {
    "tags": []
   },
   "outputs": [
    {
     "ename": "KeyError",
     "evalue": "\"Columns not found: 'após 20 dias', 'até 20 dias'\"",
     "output_type": "error",
     "traceback": [
      "\u001b[1;31m---------------------------------------------------------------------------\u001b[0m",
      "\u001b[1;31mKeyError\u001b[0m                                  Traceback (most recent call last)",
      "\u001b[1;32m<ipython-input-6-1c9dc9b88783>\u001b[0m in \u001b[0;36m<module>\u001b[1;34m\u001b[0m\n\u001b[0;32m      5\u001b[0m                         date_format='dd/mm/yyyy')\n\u001b[0;32m      6\u001b[0m \u001b[1;33m\u001b[0m\u001b[0m\n\u001b[1;32m----> 7\u001b[1;33m     \u001b[0mtotais_rs\u001b[0m \u001b[1;33m=\u001b[0m \u001b[0mdf_rs\u001b[0m\u001b[1;33m.\u001b[0m\u001b[0mgroupby\u001b[0m\u001b[1;33m(\u001b[0m\u001b[1;33m[\u001b[0m\u001b[1;34m'rs'\u001b[0m\u001b[1;33m,\u001b[0m\u001b[1;34m'ibge'\u001b[0m\u001b[1;33m,\u001b[0m\u001b[1;34m'mun_resid'\u001b[0m\u001b[1;33m]\u001b[0m\u001b[1;33m)\u001b[0m\u001b[1;33m[\u001b[0m\u001b[1;33m[\u001b[0m\u001b[1;34m'até 20 dias'\u001b[0m\u001b[1;33m,\u001b[0m\u001b[1;34m'após 20 dias'\u001b[0m\u001b[1;33m]\u001b[0m\u001b[1;33m]\u001b[0m\u001b[1;33m.\u001b[0m\u001b[0msum\u001b[0m\u001b[1;33m(\u001b[0m\u001b[1;33m)\u001b[0m\u001b[1;33m\u001b[0m\u001b[1;33m\u001b[0m\u001b[0m\n\u001b[0m\u001b[0;32m      8\u001b[0m     \u001b[0mtotais_rs\u001b[0m\u001b[1;33m.\u001b[0m\u001b[0mto_excel\u001b[0m\u001b[1;33m(\u001b[0m\u001b[0mwriter\u001b[0m\u001b[1;33m,\u001b[0m\u001b[1;34mf\"totais\"\u001b[0m\u001b[1;33m)\u001b[0m\u001b[1;33m\u001b[0m\u001b[1;33m\u001b[0m\u001b[0m\n\u001b[0;32m      9\u001b[0m     \u001b[0mworksheet\u001b[0m \u001b[1;33m=\u001b[0m \u001b[0mwriter\u001b[0m\u001b[1;33m.\u001b[0m\u001b[0msheets\u001b[0m\u001b[1;33m[\u001b[0m\u001b[1;34mf\"totais\"\u001b[0m\u001b[1;33m]\u001b[0m\u001b[1;33m\u001b[0m\u001b[1;33m\u001b[0m\u001b[0m\n",
      "\u001b[1;32m~\\Anaconda3\\lib\\site-packages\\pandas\\core\\groupby\\generic.py\u001b[0m in \u001b[0;36m__getitem__\u001b[1;34m(self, key)\u001b[0m\n\u001b[0;32m   1648\u001b[0m                 \u001b[0mstacklevel\u001b[0m\u001b[1;33m=\u001b[0m\u001b[1;36m2\u001b[0m\u001b[1;33m,\u001b[0m\u001b[1;33m\u001b[0m\u001b[1;33m\u001b[0m\u001b[0m\n\u001b[0;32m   1649\u001b[0m             )\n\u001b[1;32m-> 1650\u001b[1;33m         \u001b[1;32mreturn\u001b[0m \u001b[0msuper\u001b[0m\u001b[1;33m(\u001b[0m\u001b[1;33m)\u001b[0m\u001b[1;33m.\u001b[0m\u001b[0m__getitem__\u001b[0m\u001b[1;33m(\u001b[0m\u001b[0mkey\u001b[0m\u001b[1;33m)\u001b[0m\u001b[1;33m\u001b[0m\u001b[1;33m\u001b[0m\u001b[0m\n\u001b[0m\u001b[0;32m   1651\u001b[0m \u001b[1;33m\u001b[0m\u001b[0m\n\u001b[0;32m   1652\u001b[0m     \u001b[1;32mdef\u001b[0m \u001b[0m_gotitem\u001b[0m\u001b[1;33m(\u001b[0m\u001b[0mself\u001b[0m\u001b[1;33m,\u001b[0m \u001b[0mkey\u001b[0m\u001b[1;33m,\u001b[0m \u001b[0mndim\u001b[0m\u001b[1;33m:\u001b[0m \u001b[0mint\u001b[0m\u001b[1;33m,\u001b[0m \u001b[0msubset\u001b[0m\u001b[1;33m=\u001b[0m\u001b[1;32mNone\u001b[0m\u001b[1;33m)\u001b[0m\u001b[1;33m:\u001b[0m\u001b[1;33m\u001b[0m\u001b[1;33m\u001b[0m\u001b[0m\n",
      "\u001b[1;32m~\\Anaconda3\\lib\\site-packages\\pandas\\core\\base.py\u001b[0m in \u001b[0;36m__getitem__\u001b[1;34m(self, key)\u001b[0m\n\u001b[0;32m    216\u001b[0m             \u001b[1;32mif\u001b[0m \u001b[0mlen\u001b[0m\u001b[1;33m(\u001b[0m\u001b[0mself\u001b[0m\u001b[1;33m.\u001b[0m\u001b[0mobj\u001b[0m\u001b[1;33m.\u001b[0m\u001b[0mcolumns\u001b[0m\u001b[1;33m.\u001b[0m\u001b[0mintersection\u001b[0m\u001b[1;33m(\u001b[0m\u001b[0mkey\u001b[0m\u001b[1;33m)\u001b[0m\u001b[1;33m)\u001b[0m \u001b[1;33m!=\u001b[0m \u001b[0mlen\u001b[0m\u001b[1;33m(\u001b[0m\u001b[0mkey\u001b[0m\u001b[1;33m)\u001b[0m\u001b[1;33m:\u001b[0m\u001b[1;33m\u001b[0m\u001b[1;33m\u001b[0m\u001b[0m\n\u001b[0;32m    217\u001b[0m                 \u001b[0mbad_keys\u001b[0m \u001b[1;33m=\u001b[0m \u001b[0mlist\u001b[0m\u001b[1;33m(\u001b[0m\u001b[0mset\u001b[0m\u001b[1;33m(\u001b[0m\u001b[0mkey\u001b[0m\u001b[1;33m)\u001b[0m\u001b[1;33m.\u001b[0m\u001b[0mdifference\u001b[0m\u001b[1;33m(\u001b[0m\u001b[0mself\u001b[0m\u001b[1;33m.\u001b[0m\u001b[0mobj\u001b[0m\u001b[1;33m.\u001b[0m\u001b[0mcolumns\u001b[0m\u001b[1;33m)\u001b[0m\u001b[1;33m)\u001b[0m\u001b[1;33m\u001b[0m\u001b[1;33m\u001b[0m\u001b[0m\n\u001b[1;32m--> 218\u001b[1;33m                 \u001b[1;32mraise\u001b[0m \u001b[0mKeyError\u001b[0m\u001b[1;33m(\u001b[0m\u001b[1;34mf\"Columns not found: {str(bad_keys)[1:-1]}\"\u001b[0m\u001b[1;33m)\u001b[0m\u001b[1;33m\u001b[0m\u001b[1;33m\u001b[0m\u001b[0m\n\u001b[0m\u001b[0;32m    219\u001b[0m             \u001b[1;32mreturn\u001b[0m \u001b[0mself\u001b[0m\u001b[1;33m.\u001b[0m\u001b[0m_gotitem\u001b[0m\u001b[1;33m(\u001b[0m\u001b[0mlist\u001b[0m\u001b[1;33m(\u001b[0m\u001b[0mkey\u001b[0m\u001b[1;33m)\u001b[0m\u001b[1;33m,\u001b[0m \u001b[0mndim\u001b[0m\u001b[1;33m=\u001b[0m\u001b[1;36m2\u001b[0m\u001b[1;33m)\u001b[0m\u001b[1;33m\u001b[0m\u001b[1;33m\u001b[0m\u001b[0m\n\u001b[0;32m    220\u001b[0m \u001b[1;33m\u001b[0m\u001b[0m\n",
      "\u001b[1;31mKeyError\u001b[0m: \"Columns not found: 'após 20 dias', 'até 20 dias'\""
     ]
    }
   ],
   "source": [
    "for rs, df_rs in ativos.groupby('rs'):\n",
    "    writer = pd.ExcelWriter(join(output,f\"ativos_{int(rs)}rs.xlsx\"),\n",
    "                        engine='xlsxwriter',\n",
    "                        datetime_format='dd/mm/yyyy',\n",
    "                        date_format='dd/mm/yyyy')\n",
    "\n",
    "    totais_rs = df_rs.groupby(['rs','ibge','mun_resid'])[['até 20 dias','após 20 dias']].sum()\n",
    "    totais_rs.to_excel(writer,f\"totais\")\n",
    "    worksheet = writer.sheets[f\"totais\"]\n",
    "    auto_fit_columns(worksheet,totais_rs)\n",
    "    \n",
    "    df_rs = df_rs[['ordem','rs','ibge','mun_resid','nome','sexo','idade','mun_atend','dt_notificacao','dias_apos_notificacao']]\n",
    "    \n",
    "    df_rs.to_excel(writer,'geral',index=False)\n",
    "    worksheet = writer.sheets[f\"geral\"]\n",
    "    auto_fit_columns(worksheet,df_rs)\n",
    "\n",
    "    for ibge, df_ibge in df_rs.groupby('ibge'):\n",
    "        df_ibge.to_excel(writer,f\"{ibge}\",index=False)\n",
    "        worksheet = writer.sheets[f\"{ibge}\"]\n",
    "        auto_fit_columns(worksheet,df_ibge)\n",
    "\n",
    "    writer.save()"
   ]
  },
  {
   "cell_type": "code",
   "execution_count": null,
   "metadata": {},
   "outputs": [],
   "source": []
  }
 ],
 "metadata": {
  "kernelspec": {
   "display_name": "Python 3",
   "language": "python",
   "name": "python3"
  },
  "language_info": {
   "codemirror_mode": {
    "name": "ipython",
    "version": 3
   },
   "file_extension": ".py",
   "mimetype": "text/x-python",
   "name": "python",
   "nbconvert_exporter": "python",
   "pygments_lexer": "ipython3",
   "version": "3.8.5"
  }
 },
 "nbformat": 4,
 "nbformat_minor": 2
}
