{
 "metadata": {
  "language_info": {
   "codemirror_mode": {
    "name": "ipython",
    "version": 3
   },
   "file_extension": ".py",
   "mimetype": "text/x-python",
   "name": "python",
   "nbconvert_exporter": "python",
   "pygments_lexer": "ipython3",
   "version": "3.8.5-final"
  },
  "orig_nbformat": 2,
  "kernelspec": {
   "name": "python3",
   "display_name": "Python 3",
   "language": "python"
  }
 },
 "nbformat": 4,
 "nbformat_minor": 2,
 "cells": [
  {
   "cell_type": "code",
   "execution_count": 1,
   "metadata": {},
   "outputs": [
    {
     "output_type": "stream",
     "name": "stdout",
     "text": [
      "criou\n"
     ]
    }
   ],
   "source": [
    "from os.path import dirname, join, isfile, isdir\n",
    "from datetime import datetime, timedelta\n",
    "from unidecode import unidecode\n",
    "from hashlib import sha256\n",
    "from os import makedirs\n",
    "from sys import exit\n",
    "import pandas as pd\n",
    "import codecs\n",
    "\n",
    "\n",
    "from bulletin import __file__ as __root__\n",
    "from bulletin.data.casos_confirmados import CasosConfirmados\n",
    "from bulletin.data.notifica import Notifica\n",
    "from bulletin.commom import static\n",
    "from bulletin.commom.normalize import normalize_text, normalize_labels, normalize_number, normalize_municipios, normalize_igbe, normalize_hash, data_hash\n",
    "from bulletin.commom.utils import Timer, auto_fit_columns\n",
    "\n",
    "pd.set_option('display.max_columns', None)\n",
    "output = join(\"output\",\"correcoes\",\"casos_ativos\")\n",
    "\n",
    "\n",
    "if not isdir(output):\n",
    "    makedirs(output)"
   ]
  },
  {
   "cell_type": "code",
   "execution_count": 26,
   "metadata": {},
   "outputs": [],
   "source": [
    "ativos = pd.read_excel(join(\"input\",\"ativos.xlsx\"), \n",
    "    converters = {\n",
    "        'IBGE_RES_PR': normalize_igbe,\n",
    "        'Nome': normalize_text,\n",
    "        'Sexo': normalize_text,\n",
    "        'Idade': lambda x: normalize_number(x,fill=0),\n",
    "        'Mun Resid': normalize_text,\n",
    "        'Mun atend': normalize_text,\n",
    "        'RS': lambda x: normalize_number(x,fill=99),\n",
    "        'Laboratório': normalize_text },\n",
    "    parse_dates=False )\n",
    "\n",
    "ativos.columns = [ normalize_labels(x) for x in ativos.columns ]\n",
    "ativos = ativos.rename(columns={'ibge_res_pr': 'ibge'})\n",
    "\n",
    "ativos['rs'] = ativos['rs'].apply(lambda x: str(x).zfill(2) if x != 99 else None)\n",
    "\n",
    "ativos['ordem'] = [ x for x in range(1,len(ativos)+1) ]\n",
    "ativos = ativos[['ordem','rs','ibge','mun_resid','nome','sexo','idade','mun_atend','dt_notificacao','dias_apos_notificacao']]"
   ]
  },
  {
   "cell_type": "code",
   "execution_count": 30,
   "metadata": {
    "tags": []
   },
   "outputs": [],
   "source": [
    "for rs, df_rs in ativos.groupby('rs'):\n",
    "    writer = pd.ExcelWriter(join(output,f\"ativos_{int(rs)}rs.xlsx\"),\n",
    "                        engine='xlsxwriter',\n",
    "                        datetime_format='dd/mm/yyyy',\n",
    "                        date_format='dd/mm/yyyy')\n",
    "\n",
    "    df_rs = df_rs.sort_values('dias_apos_notificacao',ascending=False)\n",
    "    df_rs.to_excel(writer,'geral',index=False)\n",
    "    worksheet = writer.sheets[f\"geral\"]\n",
    "    auto_fit_columns(worksheet,df_rs)\n",
    "\n",
    "    for ibge, df_ibge in df_rs.groupby('ibge'):\n",
    "        df_ibge.to_excel(writer,f\"{ibge}\",index=False)\n",
    "        worksheet = writer.sheets[f\"{ibge}\"]\n",
    "        auto_fit_columns(worksheet,df_ibge)\n",
    "\n",
    "    writer.save()\n",
    "    writer.close()"
   ]
  },
  {
   "cell_type": "code",
   "execution_count": 27,
   "metadata": {},
   "outputs": [
    {
     "output_type": "execute_result",
     "data": {
      "text/plain": [
       "    ordem\n",
       "rs       \n",
       "01   5472\n",
       "02  30905\n",
       "03  11590\n",
       "04   1512\n",
       "05   4861\n",
       "06   1041\n",
       "07   2122\n",
       "08   2509\n",
       "09   7198\n",
       "10   2126\n",
       "11   3117\n",
       "12   5114\n",
       "13    868\n",
       "14   1623\n",
       "15   8023\n",
       "16   5294\n",
       "17  21674\n",
       "18   1250\n",
       "19   1946\n",
       "20   2248\n",
       "21   4150\n",
       "22    504"
      ],
      "text/html": "<div>\n<style scoped>\n    .dataframe tbody tr th:only-of-type {\n        vertical-align: middle;\n    }\n\n    .dataframe tbody tr th {\n        vertical-align: top;\n    }\n\n    .dataframe thead th {\n        text-align: right;\n    }\n</style>\n<table border=\"1\" class=\"dataframe\">\n  <thead>\n    <tr style=\"text-align: right;\">\n      <th></th>\n      <th>ordem</th>\n    </tr>\n    <tr>\n      <th>rs</th>\n      <th></th>\n    </tr>\n  </thead>\n  <tbody>\n    <tr>\n      <th>01</th>\n      <td>5472</td>\n    </tr>\n    <tr>\n      <th>02</th>\n      <td>30905</td>\n    </tr>\n    <tr>\n      <th>03</th>\n      <td>11590</td>\n    </tr>\n    <tr>\n      <th>04</th>\n      <td>1512</td>\n    </tr>\n    <tr>\n      <th>05</th>\n      <td>4861</td>\n    </tr>\n    <tr>\n      <th>06</th>\n      <td>1041</td>\n    </tr>\n    <tr>\n      <th>07</th>\n      <td>2122</td>\n    </tr>\n    <tr>\n      <th>08</th>\n      <td>2509</td>\n    </tr>\n    <tr>\n      <th>09</th>\n      <td>7198</td>\n    </tr>\n    <tr>\n      <th>10</th>\n      <td>2126</td>\n    </tr>\n    <tr>\n      <th>11</th>\n      <td>3117</td>\n    </tr>\n    <tr>\n      <th>12</th>\n      <td>5114</td>\n    </tr>\n    <tr>\n      <th>13</th>\n      <td>868</td>\n    </tr>\n    <tr>\n      <th>14</th>\n      <td>1623</td>\n    </tr>\n    <tr>\n      <th>15</th>\n      <td>8023</td>\n    </tr>\n    <tr>\n      <th>16</th>\n      <td>5294</td>\n    </tr>\n    <tr>\n      <th>17</th>\n      <td>21674</td>\n    </tr>\n    <tr>\n      <th>18</th>\n      <td>1250</td>\n    </tr>\n    <tr>\n      <th>19</th>\n      <td>1946</td>\n    </tr>\n    <tr>\n      <th>20</th>\n      <td>2248</td>\n    </tr>\n    <tr>\n      <th>21</th>\n      <td>4150</td>\n    </tr>\n    <tr>\n      <th>22</th>\n      <td>504</td>\n    </tr>\n  </tbody>\n</table>\n</div>"
     },
     "metadata": {},
     "execution_count": 27
    }
   ],
   "source": [
    "ativos.groupby('rs')[['ordem']].count()"
   ]
  }
 ]
}