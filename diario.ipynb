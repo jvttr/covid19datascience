{
 "cells": [
  {
   "cell_type": "code",
   "execution_count": 1,
   "metadata": {},
   "outputs": [],
   "source": [
    "from sys import exit\n",
    "import pandas as pd\n",
    "from datetime import datetime, timedelta\n",
    "\n",
    "from bulletin.data.notifica import Notifica\n",
    "from bulletin.data.casos_confirmados import CasosConfirmados\n",
    "from bulletin.commom import static, normalize\n",
    "\n",
    "pd.set_option('display.max_columns', None)"
   ]
  },
  {
   "cell_type": "code",
   "execution_count": 2,
   "metadata": {},
   "outputs": [],
   "source": [
    "hoje = datetime.today()\n",
    "ontem = hoje - timedelta(1)\n",
    "anteontem = ontem - timedelta(1)"
   ]
  },
  {
   "cell_type": "code",
   "execution_count": 3,
   "metadata": {},
   "outputs": [
    {
     "name": "stdout",
     "output_type": "stream",
     "text": [
      "saved checksum: 7581c927b7bd6d4be378e4e5f38ec97eb10549338a433fa6bc009540989d01cc\n",
      "current checksum: 7581c927b7bd6d4be378e4e5f38ec97eb10549338a433fa6bc009540989d01cc\n",
      "Tudo certo, nenhuma alteração detectada\n",
      "C:\\sesa-covid19\\bulletin\\tmp\\notifica.pkl carregado\n"
     ]
    },
    {
     "data": {
      "text/plain": [
       "(242422, 179536, 4659, 56538, 43)"
      ]
     },
     "execution_count": 3,
     "metadata": {},
     "output_type": "execute_result"
    }
   ],
   "source": [
    "notifica = Notifica()\n",
    "# notifica.update()\n",
    "notifica.shape()"
   ]
  },
  {
   "cell_type": "code",
   "execution_count": 4,
   "metadata": {},
   "outputs": [
    {
     "name": "stdout",
     "output_type": "stream",
     "text": [
      "saved checksum: 1aac57e7fe34d6f0dcbcb085c82746125d53bd5cb189aa34ba3f6d26b5795952\n",
      "current checksum: 1aac57e7fe34d6f0dcbcb085c82746125d53bd5cb189aa34ba3f6d26b5795952\n",
      "Tudo certo, nenhuma alteração detectada\n",
      "{'casos': 'C:\\\\sesa-covid19\\\\bulletin\\\\tmp\\\\casos.pkl', 'obitos': 'C:\\\\sesa-covid19\\\\bulletin\\\\tmp\\\\obitos.pkl'} carregado\n"
     ]
    },
    {
     "data": {
      "text/plain": [
       "(277707, 6129)"
      ]
     },
     "execution_count": 4,
     "metadata": {},
     "output_type": "execute_result"
    }
   ],
   "source": [
    "casos_confirmados = CasosConfirmados()\n",
    "# casos_confirmados.update()\n",
    "casos_confirmados.shape()"
   ]
  },
  {
   "cell_type": "code",
   "execution_count": 13,
   "metadata": {},
   "outputs": [],
   "source": [
    "recuperados = notifica.get_recuperados()\n",
    "recuperados[['nome_origem','mun_resid','ibge_residencia','paciente','sexo','idade','data_notificacao']].sort_values('paciente').to_excel('recuperados.xlsx')"
   ]
  },
  {
   "cell_type": "code",
   "execution_count": null,
   "metadata": {},
   "outputs": [],
   "source": [
    "notifica.filter_date(anteontem)"
   ]
  },
  {
   "cell_type": "code",
   "execution_count": null,
   "metadata": {},
   "outputs": [],
   "source": [
    "notifica_novos_casos = notifica.get_casos()"
   ]
  },
  {
   "cell_type": "code",
   "execution_count": null,
   "metadata": {},
   "outputs": [],
   "source": [
    "notifica_novos_obitos = notifica.get_obitos()"
   ]
  },
  {
   "cell_type": "code",
   "execution_count": null,
   "metadata": {},
   "outputs": [],
   "source": [
    "novos_casos = casos_confirmados.novos_casos(notifica_novos_casos)"
   ]
  },
  {
   "cell_type": "code",
   "execution_count": null,
   "metadata": {},
   "outputs": [],
   "source": [
    "novos_obitos = casos_confirmados.novos_obitos(novos_casos, notifica_novos_obitos)"
   ]
  },
  {
   "cell_type": "code",
   "execution_count": null,
   "metadata": {},
   "outputs": [],
   "source": [
    "casos_confirmados.relatorio(novos_casos, novos_obitos)"
   ]
  }
 ],
 "metadata": {
  "kernelspec": {
   "display_name": "Python 3",
   "language": "python",
   "name": "python3"
  },
  "language_info": {
   "codemirror_mode": {
    "name": "ipython",
    "version": 3
   },
   "file_extension": ".py",
   "mimetype": "text/x-python",
   "name": "python",
   "nbconvert_exporter": "python",
   "pygments_lexer": "ipython3",
   "version": "3.8.5"
  }
 },
 "nbformat": 4,
 "nbformat_minor": 4
}
