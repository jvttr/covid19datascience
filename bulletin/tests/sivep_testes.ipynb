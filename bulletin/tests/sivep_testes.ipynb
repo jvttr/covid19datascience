{
 "cells": [
  {
   "cell_type": "code",
   "execution_count": 1,
   "metadata": {},
   "outputs": [],
   "source": [
    "from os.path import dirname, join, isdir\n",
    "from datetime import datetime\n",
    "from os import makedirs\n",
    "import pandas as pd\n",
    "from simpledbf import Dbf5\n",
    "from bulletin import __file__ as __root__\n",
    "from bulletin.commom import static\n",
    "\n",
    "pd.set_option('display.max_columns', None)"
   ]
  },
  {
   "cell_type": "code",
   "execution_count": 2,
   "metadata": {},
   "outputs": [],
   "source": [
    "srag = Dbf5(join('input','dbf','SRAG2020.dbf'), codec = 'cp860').to_dataframe()\n",
    "srag2 = Dbf5(join('input','dbf','SRAG2021.dbf'), codec = 'cp860').to_dataframe()"
   ]
  },
  {
   "cell_type": "code",
   "execution_count": 3,
   "metadata": {},
   "outputs": [],
   "source": [
    "srag = srag.append(srag2, ignore_index=True)"
   ]
  },
  {
   "cell_type": "code",
   "execution_count": 4,
   "metadata": {},
   "outputs": [],
   "source": [
    "srag = srag[['NU_NOTIFIC', 'DT_NOTIFIC', 'DT_SIN_PRI', 'SG_UF_NOT', 'CO_MUN_NOT', 'ID_UNIDADE',\n",
    "    'NU_CPF', 'NM_PACIENT', 'CS_SEXO', 'DT_NASC', 'NU_IDADE_N', 'TP_IDADE', 'CS_GESTANT',\n",
    "    'CS_RACA', 'CS_ETINIA', 'NM_MAE_PAC', 'NU_CEP', 'ID_PAIS', 'SG_UF',\n",
    "    'CO_MUN_RES', 'NM_BAIRRO', 'NM_LOGRADO', 'NU_NUMERO', 'FEBRE', 'TOSSE',\n",
    "    'GARGANTA', 'DISPNEIA', 'DESC_RESP', 'SATURACAO', 'DIARREIA', 'VOMITO',\n",
    "    'OUTRO_SIN', 'PUERPERA', 'CARDIOPATI', 'SIND_DOWN', 'HEPATICA', 'DIABETES',\n",
    "    'NEUROLOGIC', 'PNEUMOPATI', 'IMUNODEPRE', 'RENAL', 'OBESIDADE', 'OUT_MORBI',\n",
    "    'ANTIVIRAL', 'TP_ANTIVIR', 'HOSPITAL', 'UTI', 'RAIOX_RES', 'AMOSTRA', \n",
    "    'DT_COLETA', 'REQUI_GAL', 'DT_PCR', 'TP_FLU_PCR', 'PCR_PARA1',\n",
    "    'PCR_PARA2', 'PCR_PARA3', 'PCR_PARA4', 'PCR_ADENO', 'PCR_METAP', 'PCR_RESUL',\n",
    "    'PCR_RINO', 'PCR_OUTRO', 'LAB_PCR', 'CLASSI_FIN', 'CRITERIO', 'EVOLUCAO',\n",
    "    'DT_EVOLUCA', 'DT_ENCERRA', 'NOME_PROF', 'HISTO_VGM', 'LO_PS_VGM', 'DT_VGM',\n",
    "    'DT_RT_VGM', 'PCR_SARS2', 'PAC_COCBO', 'PERD_OLFT', 'PERD_PALA', 'TOMO_RES', 'NU_DO']]"
   ]
  },
  {
   "cell_type": "code",
   "execution_count": 5,
   "metadata": {},
   "outputs": [],
   "source": [
    "srag = srag.rename(\n",
    "    columns={\n",
    "        'NU_NOTIFIC': 'id',\n",
    "        'LAB_PCR': 'lab_executor',\n",
    "        'DT_NOTIFIC': 'data_notificacao',\n",
    "        'DT_SIN_PRI': 'data_1o_sintomas',\n",
    "        'CO_MUN_NOT': 'ibge_unidade_notifica',\n",
    "        'ID_UNIDADE': 'nome_unidade_notifica',\n",
    "        'NU_CPF': 'cpf',\n",
    "        'NM_PACIENT': 'paciente',\n",
    "        'CS_SEXO': 'sexo',\n",
    "        'DT_NASC': 'data_nascimento',\n",
    "        'CS_RACA': 'raca_cor',\n",
    "        'NM_MAE_PAC': 'nome_mae',\n",
    "        'NU_CEP': 'cep_residencia',\n",
    "        'CO_MUN_RES': 'ibge_residencia',\n",
    "        'NM_BAIRRO': 'bairro_residencia',\n",
    "        'NM_LOGRADO': 'logradouro_residencia',\n",
    "        'NU_NUMERO': 'numero_residencia',\n",
    "        'FEBRE': 'febre',\n",
    "        'TOSSE': 'tosse',\n",
    "        'GARGANTA': 'dor_garganta',\n",
    "        'DISPNEIA': 'dispneia',\n",
    "        'SATURACAO': 'saturacao_o2',\n",
    "        'DIARREIA': 'diarreia',\n",
    "        'VOMITO': 'nausea_vomitos',\n",
    "        'OUTRO_SIN': 'outros_sintomas',\n",
    "        'PUERPERA': 'puerperio',\n",
    "        'CARDIOPATI': 'doenca_cardiovascular',\n",
    "        'SIND_DOWN': 'sindrome_down',\n",
    "        'HEPATICA': 'doenca_hepatica',\n",
    "        'DIABETES': 'diabetes',\n",
    "        'NEUROLOGIC': 'doenca_neurologica',\n",
    "        'PNEUMOPATI': 'doenca_pulmonar',\n",
    "        'IMUNODEPRE': 'imunodeficiencia',\n",
    "        'RENAL': 'doenca_renal',\n",
    "        'OBESIDADE': 'obesidade',\n",
    "        'OUT_MORBI': 'outras_morbidades',\n",
    "        'HOSPITAL': 'hospitalizado',\n",
    "        'AMOSTRA': 'coleta_amostra',\n",
    "        'DT_COLETA': 'data_coleta',\n",
    "        'REQUI_GAL': 'requisicao',\n",
    "        'DT_PCR': 'data_liberacao',\n",
    "        'DT_EVOLUCA': 'data_cura_obito',\n",
    "        'DT_ENCERRA': 'data_encerramento',\n",
    "        'NOME_PROF': 'nome_notificador',\n",
    "        'HISTO_VGM': 'historico_viagem',\n",
    "        'LO_PS_VGM': 'local_viagem',\n",
    "        'DT_VGM': 'data_ida_local',\n",
    "        'DT_RT_VGM': 'data_retorno_local',\n",
    "        'PERD_OLFT': 'perda_olfato_paladar',\n",
    "        'NU_DO': 'numero_do',\n",
    "        'PAC_COCBO': 'cod_cbo'\n",
    "    })"
   ]
  },
  {
   "cell_type": "code",
   "execution_count": 6,
   "metadata": {},
   "outputs": [],
   "source": [
    "srag.loc[srag['EVOLUCAO'] == '1', 'evolucao'] = '1'\n",
    "srag.loc[srag['EVOLUCAO'] == '2', 'evolucao'] = '2'\n",
    "srag.loc[srag['EVOLUCAO'] == '3', 'evolucao'] = '4'\n",
    "srag.loc[srag['EVOLUCAO'] == '9', 'evolucao'] = '3'\n",
    "srag.loc[srag['EVOLUCAO'].isnull(), 'evolucao'] = '3'"
   ]
  },
  {
   "cell_type": "code",
   "execution_count": 7,
   "metadata": {},
   "outputs": [],
   "source": [
    "srag.loc[(srag['TP_IDADE'] == '1') | (srag['TP_IDADE'] == '2'), 'idade'] = 0\n",
    "srag['NU_IDADE_N'] = pd.to_numeric(srag['NU_IDADE_N'], downcast = 'integer')\n",
    "srag.loc[srag['TP_IDADE'] == '3', 'idade'] = srag['NU_IDADE_N']"
   ]
  },
  {
   "cell_type": "code",
   "execution_count": 8,
   "metadata": {},
   "outputs": [],
   "source": [
    "srag.loc[srag['ANTIVIRAL'] == '1', 'uso_antiviral'] = '1'\n",
    "srag.loc[srag['ANTIVIRAL'] == '2', 'uso_antiviral'] = '2'\n",
    "srag.loc[srag['ANTIVIRAL'] == '9', 'uso_antiviral'] = '0'\n",
    "srag.loc[srag['TP_ANTIVIR'] == '1', 'uso_antiviral'] = '3'\n",
    "srag.loc[srag['TP_ANTIVIR'] == '2', 'uso_antiviral'] = '0'\n",
    "srag.loc[srag['TP_ANTIVIR'] == '3', 'uso_antiviral'] = '0'\n",
    "srag.loc[(srag['TP_ANTIVIR'].isnull()) | (srag['ANTIVIRAL'].isnull()), 'uso_antiviral'] = '0'"
   ]
  },
  {
   "cell_type": "code",
   "execution_count": 9,
   "metadata": {},
   "outputs": [],
   "source": [
    "srag.loc[srag['RAIOX_RES'] == '1', 'raiox_torax'] = '1'\n",
    "srag.loc[srag['RAIOX_RES'] == '4', 'raiox_torax'] = '2'\n",
    "srag.loc[srag['RAIOX_RES'] == '2', 'raiox_torax'] = '3'\n",
    "srag.loc[srag['RAIOX_RES'] == '3', 'raiox_torax'] = '4'\n",
    "srag.loc[srag['RAIOX_RES'] == '5', 'raiox_torax'] = '5'\n",
    "srag.loc[(srag['RAIOX_RES'].isnull()) | (srag['RAIOX_RES'] == '6') | (srag['RAIOX_RES'] == '9'), 'raiox_torax'] = '0'"
   ]
  },
  {
   "cell_type": "code",
   "execution_count": 10,
   "metadata": {},
   "outputs": [],
   "source": [
    "srag.loc[srag['CLASSI_FIN'] == '1', 'classificacao_final'] = '3'\n",
    "srag.loc[srag['CLASSI_FIN'] == '2', 'classificacao_final'] = '3'\n",
    "srag.loc[srag['CLASSI_FIN'] == '3', 'classificacao_final'] = '3'\n",
    "srag.loc[srag['CLASSI_FIN'] == '4', 'classificacao_final'] = '5'\n",
    "srag.loc[srag['CLASSI_FIN'] == '5', 'classificacao_final'] = '2'\n",
    "srag.loc[srag['CLASSI_FIN'].isnull(), 'classificacao_final'] = '1'"
   ]
  },
  {
   "cell_type": "code",
   "execution_count": 11,
   "metadata": {},
   "outputs": [],
   "source": [
    "srag.loc[srag['CRITERIO'] == '1', 'criterio_classificacao'] = '1'\n",
    "srag.loc[srag['CRITERIO'] == '2', 'criterio_classificacao'] = '2'\n",
    "srag.loc[srag['CRITERIO'] == '3', 'criterio_classificacao'] = '6'\n",
    "srag.loc[srag['CRITERIO'] == '4', 'criterio_classificacao'] = '5'\n",
    "srag.loc[srag['CRITERIO'].isnull(), 'criterio_classificacao'] = '3'"
   ]
  },
  {
   "cell_type": "code",
   "execution_count": 12,
   "metadata": {},
   "outputs": [],
   "source": [
    "srag.loc[srag['TOMO_RES'] == 1, 'tomografia'] = '1'\n",
    "srag.loc[((srag['TOMO_RES'] == 2) | (srag['TOMO_RES'] == 3) |\n",
    "         (srag['TOMO_RES'] == 4) | (srag['TOMO_RES'] == 5)), 'tomografia'] = '4'\n",
    "srag.loc[((srag['TOMO_RES'] == 6) | (srag['TOMO_RES'] == 9) | (srag['TOMO_RES'] == 0)), 'tomografia'] = '0'"
   ]
  },
  {
   "cell_type": "code",
   "execution_count": 13,
   "metadata": {},
   "outputs": [],
   "source": [
    "srag.loc[srag['CS_GESTANT'] == '0', 'gestante'] = '3'\n",
    "srag.loc[(srag['CS_GESTANT'] == '1') | (srag['CS_GESTANT'] == '2') | (srag['CS_GESTANT'] == '3') |\n",
    "         (srag['CS_GESTANT'] == '4'), 'gestante'] = '1'\n",
    "srag.loc[srag['CS_GESTANT'] == '5', 'gestante'] = '2'\n",
    "srag.loc[(srag['CS_GESTANT'] == '6') | (srag['CS_GESTANT'] == '9'), 'gestante'] = '3'"
   ]
  },
  {
   "cell_type": "code",
   "execution_count": 14,
   "metadata": {},
   "outputs": [],
   "source": [
    "srag.loc[srag['CS_GESTANT'] == '1', 'periodo_gestacao'] = '1'\n",
    "srag.loc[srag['CS_GESTANT'] == '2', 'periodo_gestacao'] = '2'\n",
    "srag.loc[srag['CS_GESTANT'] == '3', 'periodo_gestacao'] = '3'\n",
    "srag.loc[srag['CS_GESTANT'] == '4', 'periodo_gestacao'] = '4'\n",
    "srag.loc[(srag['gestante'] == '2') | (srag['gestante'] == '3'), 'periodo_gestacao'] = '0'"
   ]
  },
  {
   "cell_type": "code",
   "execution_count": 15,
   "metadata": {},
   "outputs": [
    {
     "name": "stderr",
     "output_type": "stream",
     "text": [
      "C:\\ProgramData\\Anaconda3\\lib\\site-packages\\pandas\\core\\ops\\array_ops.py:253: FutureWarning: elementwise comparison failed; returning scalar instead, but in the future will perform elementwise comparison\n",
      "  res_values = method(rvalues)\n"
     ]
    }
   ],
   "source": [
    "srag.loc[srag['PCR_RESUL'] == '1', 'resultado'] = '12'\n",
    "srag.loc[srag['PCR_RESUL'] == '2', 'resultado'] = '13'\n",
    "srag.loc[srag['PCR_RESUL'] == '3', 'resultado'] = '14'\n",
    "srag.loc[((srag['PCR_RESUL'] == '4') | (srag['PCR_RESUL'] == '5') | (srag['PCR_RESUL'] == '9') |\n",
    "        (srag['PCR_RESUL'].isnull())), 'resultado'] = ''\n",
    "srag.loc[srag['TP_FLU_PCR'] == '1', 'resultado'] = '1'\n",
    "srag.loc[srag['TP_FLU_PCR'] == '2', 'resultado'] = '2'\n",
    "srag.loc[srag['PCR_PARA1'] == '1', 'resultado'] = '5'\n",
    "srag.loc[srag['PCR_PARA2'] == '1', 'resultado'] = '5'\n",
    "srag.loc[srag['PCR_PARA3'] == '1', 'resultado'] = '5'\n",
    "srag.loc[srag['PCR_PARA4'] == '1', 'resultado'] = '5'\n",
    "srag.loc[srag['PCR_ADENO'] == '1', 'resultado'] = '3'\n",
    "srag.loc[srag['PCR_METAP'] == '1', 'resultado'] = '7'\n",
    "srag.loc[srag['PCR_RINO'] == '1', 'resultado'] = '6'\n",
    "srag.loc[srag['PCR_OUTRO'] == '1', 'resultado'] = '10'\n",
    "srag.loc[srag['PCR_SARS2'] == '1', 'resultado'] = '9'"
   ]
  },
  {
   "cell_type": "code",
   "execution_count": 16,
   "metadata": {},
   "outputs": [],
   "source": [
    "srag.loc[srag['raca_cor'] == '3', 'raca_cor'] = '-1'\n",
    "srag.loc[srag['raca_cor'] == '4', 'raca_cor'] = '3'\n",
    "srag.loc[srag['raca_cor'] == '-1', 'raca_cor'] = '4'\n",
    "srag.loc[srag['raca_cor'] == '9', 'raca_cor'] = '99'\n",
    "srag.loc[srag['raca_cor'].isnull(), 'raca_cor'] = '99'"
   ]
  },
  {
   "cell_type": "code",
   "execution_count": 17,
   "metadata": {},
   "outputs": [],
   "source": [
    "srag.loc[srag['febre'] == '1', 'febre'] = '1'\n",
    "srag.loc[srag['febre'] == '2', 'febre'] = '2'\n",
    "srag.loc[srag['febre'] == '9', 'febre'] = '3'\n",
    "srag.loc[srag['febre'].isnull(), 'febre'] = '3'"
   ]
  },
  {
   "cell_type": "code",
   "execution_count": 18,
   "metadata": {},
   "outputs": [],
   "source": [
    "srag.loc[srag['tosse'] == '1', 'tosse'] = '1'\n",
    "srag.loc[srag['tosse'] == '2', 'tosse'] = '2'\n",
    "srag.loc[srag['tosse'] == '9', 'tosse'] = '3'\n",
    "srag.loc[srag['tosse'].isnull(), 'tosse'] = '3'"
   ]
  },
  {
   "cell_type": "code",
   "execution_count": 19,
   "metadata": {},
   "outputs": [],
   "source": [
    "srag.loc[srag['dor_garganta'] == '1', 'dor_garganta'] = '1'\n",
    "srag.loc[srag['dor_garganta'] == '2','dor_garganta'] = '2'\n",
    "srag.loc[srag['dor_garganta'] == '9', 'dor_garganta'] = '3'\n",
    "srag.loc[srag['dor_garganta'].isnull(), 'dor_garganta'] = '3'"
   ]
  },
  {
   "cell_type": "code",
   "execution_count": 20,
   "metadata": {},
   "outputs": [],
   "source": [
    "srag.loc[(srag['dispneia'] == '1') | (srag['DESC_RESP'] == '1'), 'dispneia'] = '1'\n",
    "srag.loc[(srag['dispneia'] == '2') | (srag['DESC_RESP'] == '2'), 'dispneia'] = '2'\n",
    "srag.loc[(srag['dispneia'] == '9') | (srag['DESC_RESP'] == '9'), 'dispenia'] = '3'\n",
    "srag.loc[(srag['dispneia'].isnull()) & (srag['DESC_RESP'].isnull()), 'dispenia'] = '3'"
   ]
  },
  {
   "cell_type": "code",
   "execution_count": 21,
   "metadata": {},
   "outputs": [],
   "source": [
    "srag.loc[srag['saturacao_o2'] == '1', 'saturacao_o2'] = '1'\n",
    "srag.loc[srag['saturacao_o2'] == '2','saturacao_o2'] = '2'\n",
    "srag.loc[srag['saturacao_o2'] == '9', 'saturacao_o2'] = '3'\n",
    "srag.loc[srag['saturacao_o2'].isnull(), 'saturacao_o2'] = '3'"
   ]
  },
  {
   "cell_type": "code",
   "execution_count": 22,
   "metadata": {},
   "outputs": [],
   "source": [
    "srag.loc[srag['diarreia'] == '1', 'diarreia'] = '1'\n",
    "srag.loc[srag['diarreia'] == '2','diarreia'] = '2'\n",
    "srag.loc[srag['diarreia'] == '9', 'diarreia'] = '3'\n",
    "srag.loc[srag['diarreia'].isnull(), 'diarreia'] = '3'"
   ]
  },
  {
   "cell_type": "code",
   "execution_count": 23,
   "metadata": {},
   "outputs": [],
   "source": [
    "srag.loc[srag['nausea_vomitos'] == '1', 'nausea_vomitos'] = '1'\n",
    "srag.loc[srag['nausea_vomitos'] == '2','nausea_vomitos'] = '2'\n",
    "srag.loc[srag['nausea_vomitos'] == '9', 'nausea_vomitos'] = '3'\n",
    "srag.loc[srag['nausea_vomitos'].isnull(), 'nausea_vomitos'] = '3'"
   ]
  },
  {
   "cell_type": "code",
   "execution_count": 24,
   "metadata": {},
   "outputs": [],
   "source": [
    "srag.loc[srag['outros_sintomas'] == '1', 'outros_sintomas'] = '1'\n",
    "srag.loc[srag['outros_sintomas'] == '2','outros_sintomas'] = '2'\n",
    "srag.loc[srag['outros_sintomas'] == '9', 'outros_sintomas'] = '3'\n",
    "srag.loc[srag['outros_sintomas'].isnull(), 'outros_sintomas'] = '3'"
   ]
  },
  {
   "cell_type": "code",
   "execution_count": 25,
   "metadata": {},
   "outputs": [],
   "source": [
    "srag.loc[srag['puerperio'] == '1', 'puerperio'] = '1'\n",
    "srag.loc[srag['puerperio'] == '2','puerperio'] = '2'\n",
    "srag.loc[srag['puerperio'] == '9', 'puerperio'] = '3'\n",
    "srag.loc[srag['puerperio'].isnull(), 'puerperio'] = '3'"
   ]
  },
  {
   "cell_type": "code",
   "execution_count": 26,
   "metadata": {},
   "outputs": [],
   "source": [
    "srag.loc[srag['doenca_cardiovascular'] == '1', 'doenca_cardiovascular'] = '1'\n",
    "srag.loc[srag['doenca_cardiovascular'] == '2','doenca_cardiovascular'] = '2'\n",
    "srag.loc[srag['doenca_cardiovascular'] == '9', 'doenca_cardiovascular'] = '3'\n",
    "srag.loc[srag['doenca_cardiovascular'].isnull(), 'doenca_cardiovascular'] = '3'"
   ]
  },
  {
   "cell_type": "code",
   "execution_count": 27,
   "metadata": {},
   "outputs": [],
   "source": [
    "srag.loc[srag['doenca_hepatica'] == '1', 'doenca_hepatica'] = '1'\n",
    "srag.loc[srag['doenca_hepatica'] == '2','doenca_hepatica'] = '2'\n",
    "srag.loc[srag['doenca_hepatica'] == '9', 'doenca_hepatica'] = '3'\n",
    "srag.loc[srag['doenca_hepatica'].isnull(), 'doenca_hepatica'] = '3'"
   ]
  },
  {
   "cell_type": "code",
   "execution_count": 28,
   "metadata": {},
   "outputs": [],
   "source": [
    "srag.loc[srag['diabetes'] == '1', 'diabetes'] = '1'\n",
    "srag.loc[srag['diabetes'] == '2','diabetes'] = '2'\n",
    "srag.loc[srag['diabetes'] == '9', 'diabetes'] = '3'\n",
    "srag.loc[srag['diabetes'].isnull(), 'diabetes'] = '3'"
   ]
  },
  {
   "cell_type": "code",
   "execution_count": 29,
   "metadata": {},
   "outputs": [],
   "source": [
    "srag.loc[srag['doenca_neurologica'] == '1', 'doenca_neurologica'] = '1'\n",
    "srag.loc[srag['doenca_neurologica'] == '2','doenca_neurologica'] = '2'\n",
    "srag.loc[srag['doenca_neurologica'] == '9', 'doenca_neurologica'] = '3'\n",
    "srag.loc[srag['doenca_neurologica'].isnull(), 'doenca_neurologica'] = '3'"
   ]
  },
  {
   "cell_type": "code",
   "execution_count": 30,
   "metadata": {},
   "outputs": [],
   "source": [
    "srag.loc[srag['sindrome_down'] == '1', 'sindrome_down'] = '1'\n",
    "srag.loc[srag['sindrome_down'] == '2','sindrome_down'] = '2'\n",
    "srag.loc[srag['sindrome_down'] == '9', 'sindrome_down'] = '3'\n",
    "srag.loc[srag['sindrome_down'].isnull(), 'sindrome_down'] = '3'"
   ]
  },
  {
   "cell_type": "code",
   "execution_count": 31,
   "metadata": {},
   "outputs": [],
   "source": [
    "srag.loc[srag['doenca_pulmonar'] == '1', 'doenca_pulmonar'] = '1'\n",
    "srag.loc[srag['doenca_pulmonar'] == '2','doenca_pulmonar'] = '2'\n",
    "srag.loc[srag['doenca_pulmonar'] == '9', 'doenca_pulmonar'] = '3'\n",
    "srag.loc[srag['doenca_pulmonar'].isnull(), 'doenca_pulmonar'] = '3'"
   ]
  },
  {
   "cell_type": "code",
   "execution_count": 32,
   "metadata": {},
   "outputs": [],
   "source": [
    "srag.loc[srag['doenca_renal'] == '1', 'doenca_renal'] = '1'\n",
    "srag.loc[srag['doenca_renal'] == '2','doenca_renal'] = '2'\n",
    "srag.loc[srag['doenca_renal'] == '9', 'doenca_renal'] = '3'\n",
    "srag.loc[srag['doenca_renal'].isnull(), 'doenca_renal'] = '3'"
   ]
  },
  {
   "cell_type": "code",
   "execution_count": 33,
   "metadata": {},
   "outputs": [],
   "source": [
    "srag.loc[srag['obesidade'] == '1', 'obesidade'] = '1'\n",
    "srag.loc[srag['obesidade'] == '2','obesidade'] = '2'\n",
    "srag.loc[srag['obesidade'] == '9', 'obesidade'] = '3'\n",
    "srag.loc[srag['obesidade'].isnull(), 'obesidade'] = '3'"
   ]
  },
  {
   "cell_type": "code",
   "execution_count": 34,
   "metadata": {},
   "outputs": [],
   "source": [
    "srag.loc[srag['imunodeficiencia'] == '1', 'imunodeficiencia'] = '1'\n",
    "srag.loc[srag['imunodeficiencia'] == '2','imunodeficiencia'] = '2'\n",
    "srag.loc[srag['imunodeficiencia'] == '9', 'imunodeficiencia'] = '3'\n",
    "srag.loc[srag['imunodeficiencia'].isnull(), 'imunodeficiencia'] = '3'"
   ]
  },
  {
   "cell_type": "code",
   "execution_count": 35,
   "metadata": {},
   "outputs": [],
   "source": [
    "srag.loc[srag['outras_morbidades'] == '1', 'outras_morbidades'] = '1'\n",
    "srag.loc[srag['outras_morbidades'] == '2','outras_morbidades'] = '2'\n",
    "srag.loc[srag['outras_morbidades'] == '9', 'outras_morbidades'] = '3'\n",
    "srag.loc[srag['outras_morbidades'].isnull(), 'outras_morbidades'] = '3'"
   ]
  },
  {
   "cell_type": "code",
   "execution_count": 36,
   "metadata": {},
   "outputs": [],
   "source": [
    "srag.loc[srag['hospitalizado'] == '1', 'hospitalizado'] = '1'\n",
    "srag.loc[srag['hospitalizado'] == '2','hospitalizado'] = '2'\n",
    "srag.loc[srag['hospitalizado'] == '9', 'hospitalizado'] = '3'\n",
    "srag.loc[srag['hospitalizado'].isnull(), 'hospitalizado'] = '3'\n",
    "\n",
    "srag.loc[srag['UTI'] == '1', 'tipo_internacao'] = '2'\n",
    "srag.loc[((srag['UTI'] == '2') | (srag['UTI'] == '9') | (srag['UTI'].isnull())) & (srag['hospitalizado'] == '1'), 'tipo_internacao'] = '3'\n",
    "srag.loc[srag['hospitalizado'] != '1', 'tipo_internacao'] = '3'"
   ]
  },
  {
   "cell_type": "code",
   "execution_count": 37,
   "metadata": {},
   "outputs": [],
   "source": [
    "srag.loc[srag['coleta_amostra'] == '1', 'coleta_amostra'] = '1'\n",
    "srag.loc[srag['coleta_amostra'] == '2','coleta_amostra'] = '2'\n",
    "srag.loc[srag['coleta_amostra'] == '9', 'coleta_amostra'] = '3'\n",
    "srag.loc[srag['coleta_amostra'].isnull(), 'coleta_amostra'] = '3'"
   ]
  },
  {
   "cell_type": "code",
   "execution_count": 38,
   "metadata": {},
   "outputs": [],
   "source": [
    "srag.loc[srag['historico_viagem'] == '1', 'historico_viagem'] = '1'\n",
    "srag.loc[srag['historico_viagem'] == '2','historico_viagem'] = '2'\n",
    "srag.loc[srag['historico_viagem'].isnull(), 'historico_viagem'] = '0'"
   ]
  },
  {
   "cell_type": "code",
   "execution_count": 39,
   "metadata": {},
   "outputs": [],
   "source": [
    "srag.loc[(srag['perda_olfato_paladar'] == '1') | (srag['PERD_PALA'] == '1'), 'perda_olfato_paladar'] = '1'\n",
    "srag.loc[(srag['perda_olfato_paladar'] == '2') | (srag['PERD_PALA'] == '2'), 'perda_olfato_paladar'] = '2'\n",
    "srag.loc[(srag['perda_olfato_paladar'] == '9') | (srag['PERD_PALA'] == '9'), 'perda_olfato_paladar'] = '3'\n",
    "srag.loc[(srag['perda_olfato_paladar'].isnull()) & (srag['PERD_PALA'].isnull()), 'perda_olfato_paladar'] = '3'"
   ]
  },
  {
   "cell_type": "code",
   "execution_count": 40,
   "metadata": {},
   "outputs": [],
   "source": [
    "srag.loc[srag['sexo'] == 'M', 'sexo'] = '1'\n",
    "srag.loc[srag['sexo'] == 'F','sexo'] = '2'\n",
    "srag.loc[srag['sexo'] == 'I','sexo'] = '2'"
   ]
  },
  {
   "cell_type": "code",
   "execution_count": 41,
   "metadata": {},
   "outputs": [],
   "source": [
    "srag.loc[srag['cod_cbo'].isnull(), 'cod_cbo'] = '0'"
   ]
  },
  {
   "cell_type": "code",
   "execution_count": 42,
   "metadata": {},
   "outputs": [],
   "source": [
    "srag[\"data_notificacao\"] = srag[\"data_notificacao\"].apply(pd.to_datetime)\n",
    "srag[\"data_1o_sintomas\"] = srag[\"data_1o_sintomas\"].apply(pd.to_datetime)\n",
    "srag[\"data_nascimento\"] = srag[\"data_nascimento\"].apply(pd.to_datetime)\n",
    "srag[\"data_liberacao\"] = srag[\"data_liberacao\"].apply(pd.to_datetime)\n",
    "srag[\"data_cura_obito\"] = srag[\"data_cura_obito\"].apply(pd.to_datetime)\n",
    "srag[\"data_encerramento\"] = srag[\"data_encerramento\"].apply(pd.to_datetime)\n",
    "srag[\"data_ida_local\"] = srag[\"data_ida_local\"].apply(pd.to_datetime)\n",
    "srag[\"data_retorno_local\"] = srag[\"data_retorno_local\"].apply(pd.to_datetime)"
   ]
  },
  {
   "cell_type": "code",
   "execution_count": 43,
   "metadata": {},
   "outputs": [],
   "source": [
    "municipios = static.municipios[['cod_uf','ibge']]\n",
    "municipios = municipios.rename(columns={'ibge':'ibge_residencia', 'cod_uf': 'uf_residencia'})\n",
    "srag['ibge_residencia'] = pd.to_numeric(srag['ibge_residencia'], downcast = 'integer')\n",
    "srag = pd.merge(left=srag, right=municipios, how='left', on='ibge_residencia')\n",
    "srag.loc[srag['uf_residencia'].isnull(), 'uf_residencia'] = '0'"
   ]
  },
  {
   "cell_type": "code",
   "execution_count": 44,
   "metadata": {},
   "outputs": [],
   "source": [
    "municipios = municipios.rename(columns={'ibge_residencia':'ibge_unidade_notifica', 'uf_residencia': 'uf_unidade_notifica'})\n",
    "srag['ibge_unidade_notifica'] = pd.to_numeric(srag['ibge_unidade_notifica'], downcast = 'integer')\n",
    "srag = pd.merge(left=srag, right=municipios, how='left', on='ibge_unidade_notifica')\n",
    "srag.loc[srag['uf_unidade_notifica'].isnull(), 'uf_unidade_notifica'] = '0'"
   ]
  },
  {
   "cell_type": "code",
   "execution_count": 45,
   "metadata": {},
   "outputs": [],
   "source": [
    "pais = static.pais[['co_pais','ds_pais']]\n",
    "pais = pais.rename(columns={'ds_pais':'ID_PAIS', 'co_pais': 'pais_residencia'})\n",
    "srag['ID_PAIS'] = srag['ID_PAIS'].astype('string')\n",
    "srag = pd.merge(left=srag, right=pais, how='left', on='ID_PAIS')\n",
    "srag.loc[srag['pais_residencia'].isnull(), 'pais_residencia'] = '0'"
   ]
  },
  {
   "cell_type": "code",
   "execution_count": 46,
   "metadata": {},
   "outputs": [],
   "source": [
    "etnia = static.etnia[['co_etnia','etnia']]\n",
    "etnia = etnia.rename(columns={'etnia':'CS_ETINIA', 'co_etnia': 'etnia'})\n",
    "srag['CS_ETINIA'] = srag['CS_ETINIA'].astype('string')\n",
    "srag = pd.merge(left=srag, right=etnia, how='left', on='CS_ETINIA')\n",
    "srag.loc[srag['etnia'].isnull(), 'etnia'] = '0'"
   ]
  },
  {
   "cell_type": "code",
   "execution_count": 47,
   "metadata": {},
   "outputs": [],
   "source": [
    "srag.loc[srag['nome_mae'].isnull(), 'nome_mae'] = ''\n",
    "nao = set(['NAO','CONSTA','INFO','INFORMADO','CONTEM',''])\n",
    "srag.loc[ [True if set(nome_mae.split(\" \")).intersection(nao) else False for nome_mae in srag['nome_mae'] ], 'nome_mae'] = None"
   ]
  },
  {
   "cell_type": "code",
   "execution_count": 48,
   "metadata": {},
   "outputs": [],
   "source": [
    "srag = srag[['id', 'data_notificacao', 'data_1o_sintomas', 'uf_unidade_notifica', 'ibge_unidade_notifica', 'nome_unidade_notifica',\n",
    "             'cpf', 'paciente', 'sexo', 'data_nascimento', 'idade', 'gestante', 'periodo_gestacao', 'raca_cor', 'etnia',\n",
    "             'nome_mae', 'cep_residencia', 'pais_residencia', 'uf_residencia', 'ibge_residencia', 'bairro_residencia',\n",
    "             'logradouro_residencia', 'numero_residencia', 'febre', 'tosse', 'dor_garganta', 'dispneia', 'dispneia',\n",
    "             'saturacao_o2', 'diarreia', 'nausea_vomitos', 'outros_sintomas', 'puerperio', 'doenca_cardiovascular',\n",
    "             'sindrome_down', 'doenca_hepatica', 'diabetes', 'doenca_neurologica', 'doenca_pulmonar', 'imunodeficiencia',\n",
    "             'doenca_renal', 'obesidade', 'outras_morbidades', 'uso_antiviral', 'hospitalizado', 'tipo_internacao',\n",
    "             'raiox_torax', 'coleta_amostra', 'data_coleta', 'requisicao', 'data_liberacao', 'resultado', 'lab_executor',\n",
    "             'classificacao_final', 'criterio_classificacao', 'evolucao', 'data_cura_obito', 'data_encerramento',\n",
    "             'nome_notificador', 'historico_viagem', 'local_viagem', 'data_ida_local', 'data_retorno_local',\n",
    "             'perda_olfato_paladar', 'perda_olfato_paladar', 'tomografia', 'numero_do', 'cod_cbo']]"
   ]
  },
  {
   "cell_type": "code",
   "execution_count": 49,
   "metadata": {},
   "outputs": [],
   "source": [
    "srag['sistema'] = 'SIVEP'"
   ]
  }
 ],
 "metadata": {
  "kernelspec": {
   "display_name": "Python 3",
   "language": "python",
   "name": "python3"
  },
  "language_info": {
   "codemirror_mode": {
    "name": "ipython",
    "version": 3
   },
   "file_extension": ".py",
   "mimetype": "text/x-python",
   "name": "python",
   "nbconvert_exporter": "python",
   "pygments_lexer": "ipython3",
   "version": "3.8.3"
  }
 },
 "nbformat": 4,
 "nbformat_minor": 4
}
