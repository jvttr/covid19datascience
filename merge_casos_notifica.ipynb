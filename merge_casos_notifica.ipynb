{
 "metadata": {
  "language_info": {
   "codemirror_mode": {
    "name": "ipython",
    "version": 3
   },
   "file_extension": ".py",
   "mimetype": "text/x-python",
   "name": "python",
   "nbconvert_exporter": "python",
   "pygments_lexer": "ipython3",
   "version": 3
  },
  "orig_nbformat": 2
 },
 "nbformat": 4,
 "nbformat_minor": 2,
 "cells": [
  {
   "cell_type": "code",
   "execution_count": null,
   "metadata": {},
   "outputs": [],
   "source": [
    "from sys import exit\n",
    "import numpy as np\n",
    "import pandas as pd\n",
    "from os.path import dirname, join, isfile, isdir\n",
    "from os import makedirs\n",
    "from datetime import datetime, timedelta\n",
    "from hashlib import sha256\n",
    "import codecs\n",
    "\n",
    "\n",
    "from bulletin.data.tb_pacientes import TbPacientes\n",
    "from bulletin.data.casos_confirmados import CasosConfirmados\n",
    "from bulletin.commom.utils import Timer, auto_fit_columns\n",
    "from bulletin.commom import static\n",
    "from bulletin.commom.normalize import *\n",
    "\n",
    "pd.set_option('display.max_columns', None)\n",
    "\n",
    "output = join(\"output\",\"correcoes\")\n",
    "\n",
    "if not isdir(output):\n",
    "    makedirs(output)"
   ]
  },
  {
   "cell_type": "code",
   "execution_count": null,
   "metadata": {},
   "outputs": [],
   "source": [
    "casos_confirmados_notifica = pd.read_excel(join(output,'notifica','casos_confirmados_notifica.xlsx'))\n",
    "casos_confirmados_nao_notifica = pd.read_excel(join(output,'notifica','casos_confirmados_nao_notifica.xlsx'))\n",
    "notifica_casos_confirmados pd.read_excel(join(output,'notifica_casos_confirmados.xlsx'))\n"
   ]
  }
 ]
}