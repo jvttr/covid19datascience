{
 "cells": [
  {
   "cell_type": "code",
   "execution_count": 1,
   "metadata": {},
   "outputs": [],
   "source": [
    "import pandas as pd\n",
    "from bulletin.commom import static\n",
    "from bulletin.commom.normalize import *"
   ]
  },
  {
   "cell_type": "code",
   "execution_count": 2,
   "metadata": {},
   "outputs": [],
   "source": [
    "cc = pd.read_excel('a.xlsx','cc')\n",
    "tb = pd.read_excel('a.xlsx','tb')"
   ]
  },
  {
   "cell_type": "code",
   "execution_count": 3,
   "metadata": {},
   "outputs": [],
   "source": [
    "tb['nome_hash'] = tb['Nome'].apply(lambda x: normalize_hash(normalize_text(x)))\n",
    "# tb['hash'] = tb.apply(lambda row: normalize_hash(normalize_text(row['Nome']))+str(row['Idade']), axis=1)\n",
    "# tb['hash_more'] = tb.apply(lambda row: normalize_hash(normalize_text(row['Nome']))+str(row['Idade']+1), axis=1)\n",
    "# tb['hash_less'] = tb.apply(lambda row: normalize_hash(normalize_text(row['Nome']))+str(row['Idade']-1), axis=1)"
   ]
  },
  {
   "cell_type": "code",
   "execution_count": 4,
   "metadata": {},
   "outputs": [],
   "source": [
    "cc['nome_hash'] = cc['Nome'].apply(lambda x: normalize_hash(normalize_text(x)))\n",
    "# cc['hash'] = cc.apply(lambda row: normalize_hash(normalize_text(row['Nome']))+str(row['Idade']), axis=1)\n",
    "# cc['hash_more'] = cc.apply(lambda row: normalize_hash(normalize_text(row['Nome']))+str(row['Idade']+1), axis=1)\n",
    "# cc['hash_less'] = cc.apply(lambda row: normalize_hash(normalize_text(row['Nome']))+str(row['Idade']-1), axis=1)"
   ]
  },
  {
   "cell_type": "code",
   "execution_count": 5,
   "metadata": {},
   "outputs": [],
   "source": [
    "cc = cc.sort_values('nome_hash')\n",
    "tb = tb.sort_values('nome_hash')"
   ]
  },
  {
   "cell_type": "code",
   "execution_count": 6,
   "metadata": {},
   "outputs": [],
   "source": [
    "# idx = cc.loc[cc['hash'].isin(tb['hash'])].index.tolist()\n",
    "# idx += cc.loc[cc['hash'].isin(tb['hash_less'])].index.tolist()\n",
    "# idx += cc.loc[cc['hash'].isin(tb['hash_more'])].index.tolist()\n",
    "# idx = set(cc.index) - set(idx)\n",
    "# ncc = cc.loc[idx]"
   ]
  },
  {
   "cell_type": "code",
   "execution_count": 7,
   "metadata": {},
   "outputs": [],
   "source": [
    "# idx = tb.loc[tb['hash'].isin(cc['hash'])].index.tolist()\n",
    "# idx += tb.loc[tb['hash'].isin(cc['hash_less'])].index.tolist()\n",
    "# idx += tb.loc[tb['hash'].isin(cc['hash_more'])].index.tolist()\n",
    "# idx = set(tb.index) - set(idx)\n",
    "# ntb = tb.loc[idx]"
   ]
  },
  {
   "cell_type": "code",
   "execution_count": 8,
   "metadata": {},
   "outputs": [],
   "source": [
    "writer = pd.ExcelWriter('erro.xlsx',\n",
    "                        engine='xlsxwriter')\n",
    "\n",
    "cc.to_excel(writer,sheet_name='cc')\n",
    "tb.to_excel(writer,sheet_name='tb')\n",
    "\n",
    "writer.save()"
   ]
  }
 ],
 "metadata": {
  "kernelspec": {
   "display_name": "Python 3",
   "language": "python",
   "name": "python3"
  },
  "language_info": {
   "codemirror_mode": {
    "name": "ipython",
    "version": 3
   },
   "file_extension": ".py",
   "mimetype": "text/x-python",
   "name": "python",
   "nbconvert_exporter": "python",
   "pygments_lexer": "ipython3",
   "version": "3.8.5"
  }
 },
 "nbformat": 4,
 "nbformat_minor": 4
}
