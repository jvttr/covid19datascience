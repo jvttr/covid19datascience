{
 "metadata": {
  "language_info": {
   "codemirror_mode": {
    "name": "ipython",
    "version": 3
   },
   "file_extension": ".py",
   "mimetype": "text/x-python",
   "name": "python",
   "nbconvert_exporter": "python",
   "pygments_lexer": "ipython3",
   "version": "3.8.5-final"
  },
  "orig_nbformat": 2,
  "kernelspec": {
   "name": "python3",
   "display_name": "Python 3",
   "language": "python"
  }
 },
 "nbformat": 4,
 "nbformat_minor": 2,
 "cells": [
  {
   "cell_type": "code",
   "execution_count": 1,
   "metadata": {},
   "outputs": [],
   "source": [
    "from sys import exit\n",
    "import numpy as np\n",
    "import pandas as pd\n",
    "from os.path import dirname, join, isfile, isdir\n",
    "from os import makedirs\n",
    "from datetime import datetime, timedelta, date\n",
    "\n",
    "from bulletin.data.notifica import Notifica\n",
    "from bulletin.data.casos_confirmados import CasosConfirmados\n",
    "from bulletin.commom.utils import Timer, get_better_notifica\n",
    "from bulletin.commom.static import meses\n",
    "from bulletin.metabase.request import download_metabase\n",
    "\n",
    "pd.set_option('display.max_columns', None)\n",
    "\n",
    "output = join(\"output\",\"correcoes\",\"notifica\")\n",
    "\n",
    "if not isdir(output):\n",
    "    makedirs(output)\n",
    "\n",
    "timerAll = Timer()\n",
    "timer = Timer()"
   ]
  },
  {
   "cell_type": "code",
   "execution_count": 2,
   "metadata": {},
   "outputs": [
    {
     "output_type": "stream",
     "name": "stdout",
     "text": [
      "(586944, 10728, 432271, 143945)\n",
      "(2310261, 1061440, 11001, 1235648, 2172)\n"
     ]
    }
   ],
   "source": [
    "cc = CasosConfirmados()\n",
    "# cc.read()\n",
    "# cc.save()\n",
    "cc.load()\n",
    "notifica = Notifica()\n",
    "# notifica.download_todas_notificacoes()\n",
    "# notifica.save()\n",
    "notifica.load()\n",
    "print(cc.shape())\n",
    "print(notifica.shape())"
   ]
  },
  {
   "cell_type": "code",
   "execution_count": 3,
   "metadata": {},
   "outputs": [
    {
     "output_type": "stream",
     "name": "stdout",
     "text": [
      "(2310261, 55)\n"
     ]
    }
   ],
   "source": [
    "casosc = cc.get_casos()\n",
    "casosn = notifica.get_casos()\n",
    "# casosn = casosn.loc[(casosn['duplicado']==0) | ((casosn['duplicado']==1) & (casosn['manter']==1))]\n",
    "print(casosn.shape)"
   ]
  },
  {
   "cell_type": "code",
   "execution_count": 4,
   "metadata": {},
   "outputs": [
    {
     "output_type": "execute_result",
     "data": {
      "text/plain": [
       "(28108, 23)"
      ]
     },
     "metadata": {},
     "execution_count": 4
    }
   ],
   "source": [
    "idx_casos_confirmados = casosc[casosc['hash_resid'].isin(casosn['hash_resid'])].index.tolist()\n",
    "idx_casos_confirmados += casosc[casosc['hash_atend'].isin(casosn['hash_atend'])].index.tolist()\n",
    "idx_casos_confirmados += casosc[casosc['hash_diag'].isin(casosn['hash_diag'])].index.tolist()\n",
    "\n",
    "idx_casos_confirmados = set(idx_casos_confirmados)\n",
    "casos_confirmados_nao_notifica = casosc.loc[ set(casosc.index.tolist()) - idx_casos_confirmados ].sort_values('ordem')\n",
    "casos_confirmados_nao_notifica.shape"
   ]
  },
  {
   "cell_type": "code",
   "execution_count": 5,
   "metadata": {},
   "outputs": [
    {
     "output_type": "execute_result",
     "data": {
      "text/plain": [
       "(651673, 55)"
      ]
     },
     "metadata": {},
     "execution_count": 5
    }
   ],
   "source": [
    "idx_casos_notifica = casosn[casosn['hash_resid'].isin(casosc['hash_resid'])].index.tolist()\n",
    "idx_casos_notifica += casosn[casosn['hash_atend'].isin(casosc['hash_atend'])].index.tolist()\n",
    "idx_casos_notifica += casosn[casosn['hash_diag'].isin(casosc['hash_diag'])].index.tolist()\n",
    "\n",
    "idx_casos_notifica = set(idx_casos_notifica)\n",
    "casos_confirmados_notifica = casosn.loc[ idx_casos_notifica ].sort_values('id')\n",
    "casos_confirmados_notifica.shape"
   ]
  },
  {
   "cell_type": "code",
   "execution_count": 6,
   "metadata": {},
   "outputs": [
    {
     "output_type": "stream",
     "name": "stdout",
     "text": [
      "casos_hash_resid 537408\n",
      "notifica_hash_resid 631946\n",
      "merge_hash_resid 631946\n",
      "merge_hash_resid 537408\n",
      "\n",
      "casos_hash_atend 506822\n",
      "notifica_hash_atend 578944\n",
      "merge_hash_atend 585317\n",
      "merge_hash_atend 506822\n",
      "\n",
      "casos_hash_diag 478054\n",
      "notifica_hash_diag 480465\n",
      "merge_hash_diag 486454\n",
      "merge_hash_diag 478054\n",
      "\n",
      "idx_casos_confirmados 558836\n",
      "casos_confirmados_nao_notifica 28108\n"
     ]
    }
   ],
   "source": [
    "#merge hash_resid\n",
    "casos_hash_resid = casosc.loc[casosc['hash_resid'].isin(casosn['hash_resid'])]\n",
    "print(f\"casos_hash_resid {len(casos_hash_resid)}\")\n",
    "notifica_hash_resid = casosn.loc[(casosn['hash_resid'].isin(casosc['hash_resid']))]\n",
    "print(f\"notifica_hash_resid {len(notifica_hash_resid)}\")\n",
    "merge_hash_resid = pd.merge(casos_hash_resid,notifica_hash_resid[['hash_resid','id','manter']])\n",
    "print(f\"merge_hash_resid {len(merge_hash_resid)}\")\n",
    "merge_hash_resid = merge_hash_resid.drop_duplicates('ordem')\n",
    "print(f\"merge_hash_resid {len(merge_hash_resid)}\\n\")\n",
    "\n",
    "#merge hash_atend\n",
    "casos_hash_atend = casosc.loc[casosc['hash_atend'].isin(casosn['hash_atend'])]\n",
    "print(f\"casos_hash_atend {len(casos_hash_atend)}\")\n",
    "notifica_hash_atend = casosn.loc[(casosn['hash_atend'].isin(casosc['hash_atend']))]\n",
    "print(f\"notifica_hash_atend {len(notifica_hash_atend)}\")\n",
    "merge_hash_atend = pd.merge(casos_hash_atend,notifica_hash_atend[['hash_atend','id','manter']])\n",
    "print(f\"merge_hash_atend {len(merge_hash_atend)}\")\n",
    "merge_hash_atend = merge_hash_atend.drop_duplicates('ordem')\n",
    "print(f\"merge_hash_atend {len(merge_hash_atend)}\\n\")\n",
    "\n",
    "#merge hash_diag\n",
    "casos_hash_diag = casosc.loc[casosc['hash_diag'].isin(casosn['hash_diag'])]\n",
    "print(f\"casos_hash_diag {len(casos_hash_diag)}\")\n",
    "notifica_hash_diag = casosn.loc[(casosn['hash_diag'].isin(casosc['hash_diag']))]\n",
    "print(f\"notifica_hash_diag {len(notifica_hash_diag)}\")\n",
    "merge_hash_diag = pd.merge(casos_hash_diag,notifica_hash_diag[['hash_diag','id','manter']])\n",
    "print(f\"merge_hash_diag {len(merge_hash_diag)}\")\n",
    "merge_hash_diag = merge_hash_diag.drop_duplicates('ordem')\n",
    "print(f\"merge_hash_diag {len(merge_hash_diag)}\\n\")\n",
    "\n",
    "#trasnforma essa lista de index em um conjunto, para deixar apenas os index unicos\n",
    "idx_casos_confirmados = set(casos_hash_resid.index.tolist() + casos_hash_atend.index.tolist() + casos_hash_diag.index.tolist())\n",
    "print(f\"idx_casos_confirmados {len(idx_casos_confirmados)}\")\n",
    "\n",
    "#realiza a diferença de conjunto para pegar os index dos que não foram encotrados no notifica\n",
    "casos_confirmados_nao_notifica = casosc.loc[ set(casosc.index.tolist()) - idx_casos_confirmados ].sort_values('ordem')\n",
    "print(f\"casos_confirmados_nao_notifica {len(casos_confirmados_nao_notifica)}\") ## aqui o numero total é 27910 casos não encontrados no notifica\n",
    "len(idx_casos_confirmados) + len(casos_confirmados_nao_notifica)"
   ]
  },
  {
   "cell_type": "code",
   "execution_count": 13,
   "metadata": {},
   "outputs": [
    {
     "output_type": "execute_result",
     "data": {
      "text/plain": [
       "         ordem  identificacao  ibge_resid  ibge_atend  \\\n",
       "7           33           3827     4113700     4113700   \n",
       "24          84           6946     4115200     4115200   \n",
       "31         109          10853     4109401     4109401   \n",
       "40         126          23026     4118402     4118402   \n",
       "44         141           4382     4106209     4106209   \n",
       "...        ...            ...         ...         ...   \n",
       "631910  586911         668661     4127700     4127700   \n",
       "631913  586913         668663     4115200     4115200   \n",
       "631915  586914         668664     4101002     4101002   \n",
       "631922  586917         668667     4119905     4119905   \n",
       "631924  586920         668670     4118907     4118907   \n",
       "\n",
       "                               paciente sexo  idade     mun_resid  \\\n",
       "7           ARTHUR BUFFARA VAN DEN BERG    M     37      LONDRINA   \n",
       "24                       DANILLO RONQUI    M     32       MARINGA   \n",
       "31                  FERNANDO JOSE COSTA    M     57    GUARAPUAVA   \n",
       "40             MARTA CLEMENTINA SAMPAIO    F     62     PARANAVAI   \n",
       "44                    BRUNA SCHLICHTING    F     30      CONTENDA   \n",
       "...                                 ...  ...    ...           ...   \n",
       "631910            WILLIAM QUEIROZ LOPES    M     20        TOLEDO   \n",
       "631913     WILLIAM ROBERTO VARGAS SERRA    M     48       MARINGA   \n",
       "631915  WILLIAM WILSOM SIRTOLI BARBIERI    M     22        AMPERE   \n",
       "631922          WILLIAN RAMOS GARCZAREK    M     29  PONTA GROSSA   \n",
       "631924      WILSON JOSE LEANDRO STEFANI    M     63        PEROLA   \n",
       "\n",
       "           mun_atend  rs                                        laboratorio  \\\n",
       "7           LONDRINA  17                                              SABIN   \n",
       "24           MARINGA  15                                              LACEN   \n",
       "31        GUARAPUAVA   5                                              LACEN   \n",
       "40         PARANAVAI  14                                              LACEN   \n",
       "44          CONTENDA   2                                              LACEN   \n",
       "...              ...  ..                                                ...   \n",
       "631910        TOLEDO  20                           TESTE MOLECULAR (RT-PCR)   \n",
       "631913       MARINGA  15  TESTE RAPIDO IGM/IGG NAO DISCRIMINATORIO (IMUN...   \n",
       "631915        AMPERE   8                        COVID-19 BIOLOGIA MOLECULAR   \n",
       "631922  PONTA GROSSA   3         TESTE RAPIDO ANTIGENO (IMUNOCROMATOGRAFIA)   \n",
       "631924        PEROLA  12                                      NAO INFORMADO   \n",
       "\n",
       "       data_diagnostico data_comunicacao data_1o_sintomas  obito data_obito  \\\n",
       "7            2020-03-20       2020-03-20              NaT      0        NaT   \n",
       "24           2020-03-25       2020-03-25       2020-03-13      0        NaT   \n",
       "31           2020-03-26       2020-03-27       2020-03-08      1 2020-06-15   \n",
       "40           2020-03-27       2020-03-28       2020-03-22      0        NaT   \n",
       "44           2020-03-28       2020-03-29       2020-03-14      0        NaT   \n",
       "...                 ...              ...              ...    ...        ...   \n",
       "631910       2021-02-12       2021-02-13       2021-02-06      0        NaT   \n",
       "631913       2021-01-09       2021-02-13              NaT      0        NaT   \n",
       "631915       2021-02-12       2021-02-13       2021-02-05      0        NaT   \n",
       "631922       2021-02-12       2021-02-13              NaT      0        NaT   \n",
       "631924       2021-02-11       2021-02-13       2021-02-08      0        NaT   \n",
       "\n",
       "       data_com_obito  recuperado  ativo  excluir  \\\n",
       "7                 NaT           1      0      NaN   \n",
       "24                NaT           1      0      NaN   \n",
       "31                NaT           0      0      NaN   \n",
       "40                NaT           1      0      NaN   \n",
       "44                NaT           1      0      NaN   \n",
       "...               ...         ...    ...      ...   \n",
       "631910            NaT           0      1      NaN   \n",
       "631913            NaT           1      0      NaN   \n",
       "631915            NaT           0      1      NaN   \n",
       "631922            NaT           0      1      NaN   \n",
       "631924            NaT           0      1      NaN   \n",
       "\n",
       "                                  hash_resid  \\\n",
       "7          ARTHURBUFFARAVANDENBERG37LONDRINA   \n",
       "24                    DANILLORONQUI32MARINGA   \n",
       "31             FERNANDOJOSECOSTA57GUARAPUAVA   \n",
       "40         MARTACLEMENTINASAMPAIO62PARANAVAI   \n",
       "44                BRUNASCHLICHTING30CONTENDA   \n",
       "...                                      ...   \n",
       "631910           WILLIAMQUEIROZLOPES20TOLEDO   \n",
       "631913    WILLIAMROBERTOVARGASSERRA48MARINGA   \n",
       "631915  WILLIAMWILSOMSIRTOLIBARBIERI22AMPERE   \n",
       "631922    WILLIANRAMOSGARCZAREK29PONTAGROSSA   \n",
       "631924      WILSONJOSELEANDROSTEFANI63PEROLA   \n",
       "\n",
       "                                  hash_atend  \\\n",
       "7          ARTHURBUFFARAVANDENBERG37LONDRINA   \n",
       "24                    DANILLORONQUI32MARINGA   \n",
       "31             FERNANDOJOSECOSTA57GUARAPUAVA   \n",
       "40         MARTACLEMENTINASAMPAIO62PARANAVAI   \n",
       "44                BRUNASCHLICHTING30CONTENDA   \n",
       "...                                      ...   \n",
       "631910           WILLIAMQUEIROZLOPES20TOLEDO   \n",
       "631913    WILLIAMROBERTOVARGASSERRA48MARINGA   \n",
       "631915  WILLIAMWILSOMSIRTOLIBARBIERI22AMPERE   \n",
       "631922    WILLIANRAMOSGARCZAREK29PONTAGROSSA   \n",
       "631924      WILSONJOSELEANDROSTEFANI63PEROLA   \n",
       "\n",
       "                                   hash_diag         id  manter  \n",
       "7            ARTHURBUFFARAVANDENBERG20032020   501391.0     1.0  \n",
       "24                     DANILLORONQUI25032020   186175.0     1.0  \n",
       "31                 FERNANDOJOSECOSTA26032020    83233.0     1.0  \n",
       "40            MARTACLEMENTINASAMPAIO27032020    82542.0     1.0  \n",
       "44                  BRUNASCHLICHTING28032020    80394.0     1.0  \n",
       "...                                      ...        ...     ...  \n",
       "631910           WILLIAMQUEIROZLOPES12022021  2372007.0     1.0  \n",
       "631913     WILLIAMROBERTOVARGASSERRA09012021  2372792.0     1.0  \n",
       "631915  WILLIAMWILSOMSIRTOLIBARBIERI12022021  2325475.0     1.0  \n",
       "631922         WILLIANRAMOSGARCZAREK12022021  2377614.0     1.0  \n",
       "631924      WILSONJOSELEANDROSTEFANI11022021  2343712.0     1.0  \n",
       "\n",
       "[52758 rows x 25 columns]"
      ],
      "text/html": "<div>\n<style scoped>\n    .dataframe tbody tr th:only-of-type {\n        vertical-align: middle;\n    }\n\n    .dataframe tbody tr th {\n        vertical-align: top;\n    }\n\n    .dataframe thead th {\n        text-align: right;\n    }\n</style>\n<table border=\"1\" class=\"dataframe\">\n  <thead>\n    <tr style=\"text-align: right;\">\n      <th></th>\n      <th>ordem</th>\n      <th>identificacao</th>\n      <th>ibge_resid</th>\n      <th>ibge_atend</th>\n      <th>paciente</th>\n      <th>sexo</th>\n      <th>idade</th>\n      <th>mun_resid</th>\n      <th>mun_atend</th>\n      <th>rs</th>\n      <th>laboratorio</th>\n      <th>data_diagnostico</th>\n      <th>data_comunicacao</th>\n      <th>data_1o_sintomas</th>\n      <th>obito</th>\n      <th>data_obito</th>\n      <th>data_com_obito</th>\n      <th>recuperado</th>\n      <th>ativo</th>\n      <th>excluir</th>\n      <th>hash_resid</th>\n      <th>hash_atend</th>\n      <th>hash_diag</th>\n      <th>id</th>\n      <th>manter</th>\n    </tr>\n  </thead>\n  <tbody>\n    <tr>\n      <th>7</th>\n      <td>33</td>\n      <td>3827</td>\n      <td>4113700</td>\n      <td>4113700</td>\n      <td>ARTHUR BUFFARA VAN DEN BERG</td>\n      <td>M</td>\n      <td>37</td>\n      <td>LONDRINA</td>\n      <td>LONDRINA</td>\n      <td>17</td>\n      <td>SABIN</td>\n      <td>2020-03-20</td>\n      <td>2020-03-20</td>\n      <td>NaT</td>\n      <td>0</td>\n      <td>NaT</td>\n      <td>NaT</td>\n      <td>1</td>\n      <td>0</td>\n      <td>NaN</td>\n      <td>ARTHURBUFFARAVANDENBERG37LONDRINA</td>\n      <td>ARTHURBUFFARAVANDENBERG37LONDRINA</td>\n      <td>ARTHURBUFFARAVANDENBERG20032020</td>\n      <td>501391.0</td>\n      <td>1.0</td>\n    </tr>\n    <tr>\n      <th>24</th>\n      <td>84</td>\n      <td>6946</td>\n      <td>4115200</td>\n      <td>4115200</td>\n      <td>DANILLO RONQUI</td>\n      <td>M</td>\n      <td>32</td>\n      <td>MARINGA</td>\n      <td>MARINGA</td>\n      <td>15</td>\n      <td>LACEN</td>\n      <td>2020-03-25</td>\n      <td>2020-03-25</td>\n      <td>2020-03-13</td>\n      <td>0</td>\n      <td>NaT</td>\n      <td>NaT</td>\n      <td>1</td>\n      <td>0</td>\n      <td>NaN</td>\n      <td>DANILLORONQUI32MARINGA</td>\n      <td>DANILLORONQUI32MARINGA</td>\n      <td>DANILLORONQUI25032020</td>\n      <td>186175.0</td>\n      <td>1.0</td>\n    </tr>\n    <tr>\n      <th>31</th>\n      <td>109</td>\n      <td>10853</td>\n      <td>4109401</td>\n      <td>4109401</td>\n      <td>FERNANDO JOSE COSTA</td>\n      <td>M</td>\n      <td>57</td>\n      <td>GUARAPUAVA</td>\n      <td>GUARAPUAVA</td>\n      <td>5</td>\n      <td>LACEN</td>\n      <td>2020-03-26</td>\n      <td>2020-03-27</td>\n      <td>2020-03-08</td>\n      <td>1</td>\n      <td>2020-06-15</td>\n      <td>NaT</td>\n      <td>0</td>\n      <td>0</td>\n      <td>NaN</td>\n      <td>FERNANDOJOSECOSTA57GUARAPUAVA</td>\n      <td>FERNANDOJOSECOSTA57GUARAPUAVA</td>\n      <td>FERNANDOJOSECOSTA26032020</td>\n      <td>83233.0</td>\n      <td>1.0</td>\n    </tr>\n    <tr>\n      <th>40</th>\n      <td>126</td>\n      <td>23026</td>\n      <td>4118402</td>\n      <td>4118402</td>\n      <td>MARTA CLEMENTINA SAMPAIO</td>\n      <td>F</td>\n      <td>62</td>\n      <td>PARANAVAI</td>\n      <td>PARANAVAI</td>\n      <td>14</td>\n      <td>LACEN</td>\n      <td>2020-03-27</td>\n      <td>2020-03-28</td>\n      <td>2020-03-22</td>\n      <td>0</td>\n      <td>NaT</td>\n      <td>NaT</td>\n      <td>1</td>\n      <td>0</td>\n      <td>NaN</td>\n      <td>MARTACLEMENTINASAMPAIO62PARANAVAI</td>\n      <td>MARTACLEMENTINASAMPAIO62PARANAVAI</td>\n      <td>MARTACLEMENTINASAMPAIO27032020</td>\n      <td>82542.0</td>\n      <td>1.0</td>\n    </tr>\n    <tr>\n      <th>44</th>\n      <td>141</td>\n      <td>4382</td>\n      <td>4106209</td>\n      <td>4106209</td>\n      <td>BRUNA SCHLICHTING</td>\n      <td>F</td>\n      <td>30</td>\n      <td>CONTENDA</td>\n      <td>CONTENDA</td>\n      <td>2</td>\n      <td>LACEN</td>\n      <td>2020-03-28</td>\n      <td>2020-03-29</td>\n      <td>2020-03-14</td>\n      <td>0</td>\n      <td>NaT</td>\n      <td>NaT</td>\n      <td>1</td>\n      <td>0</td>\n      <td>NaN</td>\n      <td>BRUNASCHLICHTING30CONTENDA</td>\n      <td>BRUNASCHLICHTING30CONTENDA</td>\n      <td>BRUNASCHLICHTING28032020</td>\n      <td>80394.0</td>\n      <td>1.0</td>\n    </tr>\n    <tr>\n      <th>...</th>\n      <td>...</td>\n      <td>...</td>\n      <td>...</td>\n      <td>...</td>\n      <td>...</td>\n      <td>...</td>\n      <td>...</td>\n      <td>...</td>\n      <td>...</td>\n      <td>...</td>\n      <td>...</td>\n      <td>...</td>\n      <td>...</td>\n      <td>...</td>\n      <td>...</td>\n      <td>...</td>\n      <td>...</td>\n      <td>...</td>\n      <td>...</td>\n      <td>...</td>\n      <td>...</td>\n      <td>...</td>\n      <td>...</td>\n      <td>...</td>\n      <td>...</td>\n    </tr>\n    <tr>\n      <th>631910</th>\n      <td>586911</td>\n      <td>668661</td>\n      <td>4127700</td>\n      <td>4127700</td>\n      <td>WILLIAM QUEIROZ LOPES</td>\n      <td>M</td>\n      <td>20</td>\n      <td>TOLEDO</td>\n      <td>TOLEDO</td>\n      <td>20</td>\n      <td>TESTE MOLECULAR (RT-PCR)</td>\n      <td>2021-02-12</td>\n      <td>2021-02-13</td>\n      <td>2021-02-06</td>\n      <td>0</td>\n      <td>NaT</td>\n      <td>NaT</td>\n      <td>0</td>\n      <td>1</td>\n      <td>NaN</td>\n      <td>WILLIAMQUEIROZLOPES20TOLEDO</td>\n      <td>WILLIAMQUEIROZLOPES20TOLEDO</td>\n      <td>WILLIAMQUEIROZLOPES12022021</td>\n      <td>2372007.0</td>\n      <td>1.0</td>\n    </tr>\n    <tr>\n      <th>631913</th>\n      <td>586913</td>\n      <td>668663</td>\n      <td>4115200</td>\n      <td>4115200</td>\n      <td>WILLIAM ROBERTO VARGAS SERRA</td>\n      <td>M</td>\n      <td>48</td>\n      <td>MARINGA</td>\n      <td>MARINGA</td>\n      <td>15</td>\n      <td>TESTE RAPIDO IGM/IGG NAO DISCRIMINATORIO (IMUN...</td>\n      <td>2021-01-09</td>\n      <td>2021-02-13</td>\n      <td>NaT</td>\n      <td>0</td>\n      <td>NaT</td>\n      <td>NaT</td>\n      <td>1</td>\n      <td>0</td>\n      <td>NaN</td>\n      <td>WILLIAMROBERTOVARGASSERRA48MARINGA</td>\n      <td>WILLIAMROBERTOVARGASSERRA48MARINGA</td>\n      <td>WILLIAMROBERTOVARGASSERRA09012021</td>\n      <td>2372792.0</td>\n      <td>1.0</td>\n    </tr>\n    <tr>\n      <th>631915</th>\n      <td>586914</td>\n      <td>668664</td>\n      <td>4101002</td>\n      <td>4101002</td>\n      <td>WILLIAM WILSOM SIRTOLI BARBIERI</td>\n      <td>M</td>\n      <td>22</td>\n      <td>AMPERE</td>\n      <td>AMPERE</td>\n      <td>8</td>\n      <td>COVID-19 BIOLOGIA MOLECULAR</td>\n      <td>2021-02-12</td>\n      <td>2021-02-13</td>\n      <td>2021-02-05</td>\n      <td>0</td>\n      <td>NaT</td>\n      <td>NaT</td>\n      <td>0</td>\n      <td>1</td>\n      <td>NaN</td>\n      <td>WILLIAMWILSOMSIRTOLIBARBIERI22AMPERE</td>\n      <td>WILLIAMWILSOMSIRTOLIBARBIERI22AMPERE</td>\n      <td>WILLIAMWILSOMSIRTOLIBARBIERI12022021</td>\n      <td>2325475.0</td>\n      <td>1.0</td>\n    </tr>\n    <tr>\n      <th>631922</th>\n      <td>586917</td>\n      <td>668667</td>\n      <td>4119905</td>\n      <td>4119905</td>\n      <td>WILLIAN RAMOS GARCZAREK</td>\n      <td>M</td>\n      <td>29</td>\n      <td>PONTA GROSSA</td>\n      <td>PONTA GROSSA</td>\n      <td>3</td>\n      <td>TESTE RAPIDO ANTIGENO (IMUNOCROMATOGRAFIA)</td>\n      <td>2021-02-12</td>\n      <td>2021-02-13</td>\n      <td>NaT</td>\n      <td>0</td>\n      <td>NaT</td>\n      <td>NaT</td>\n      <td>0</td>\n      <td>1</td>\n      <td>NaN</td>\n      <td>WILLIANRAMOSGARCZAREK29PONTAGROSSA</td>\n      <td>WILLIANRAMOSGARCZAREK29PONTAGROSSA</td>\n      <td>WILLIANRAMOSGARCZAREK12022021</td>\n      <td>2377614.0</td>\n      <td>1.0</td>\n    </tr>\n    <tr>\n      <th>631924</th>\n      <td>586920</td>\n      <td>668670</td>\n      <td>4118907</td>\n      <td>4118907</td>\n      <td>WILSON JOSE LEANDRO STEFANI</td>\n      <td>M</td>\n      <td>63</td>\n      <td>PEROLA</td>\n      <td>PEROLA</td>\n      <td>12</td>\n      <td>NAO INFORMADO</td>\n      <td>2021-02-11</td>\n      <td>2021-02-13</td>\n      <td>2021-02-08</td>\n      <td>0</td>\n      <td>NaT</td>\n      <td>NaT</td>\n      <td>0</td>\n      <td>1</td>\n      <td>NaN</td>\n      <td>WILSONJOSELEANDROSTEFANI63PEROLA</td>\n      <td>WILSONJOSELEANDROSTEFANI63PEROLA</td>\n      <td>WILSONJOSELEANDROSTEFANI11022021</td>\n      <td>2343712.0</td>\n      <td>1.0</td>\n    </tr>\n  </tbody>\n</table>\n<p>52758 rows × 25 columns</p>\n</div>"
     },
     "metadata": {},
     "execution_count": 13
    }
   ],
   "source": [
    "merge_casos_notifica = pd.concat([merge_hash_resid,merge_hash_atend,merge_hash_diag,casos_confirmados_nao_notifica]).drop_duplicates('ordem').sort_values('ordem')\n",
    "merge_casos_notifica = merge_casos_notifica[['ordem', 'identificacao', 'id', 'ibge_resid', 'ibge_atend', 'paciente', 'sexo', 'idade', 'mun_resid', 'mun_atend', 'rs', 'laboratorio', 'data_diagnostico', 'data_comunicacao', 'data_1o_sintomas', 'obito', 'data_obito', 'data_com_obito', 'recuperado', 'ativo', 'excluir']]"
   ]
  },
  {
   "cell_type": "code",
   "execution_count": 8,
   "metadata": {},
   "outputs": [
    {
     "output_type": "error",
     "ename": "SystemExit",
     "evalue": "",
     "traceback": [
      "An exception has occurred, use %tb to see the full traceback.\n",
      "\u001b[1;31mSystemExit\u001b[0m\n"
     ]
    }
   ],
   "source": [
    "writer = pd.ExcelWriter(\"merge_casos_notifica.xlsx\",\n",
    "                        engine='xlsxwriter',\n",
    "                        datetime_format='dd/mm/yyyy',\n",
    "                        date_format='dd/mm/yyyy')\n",
    "\n",
    "merge_casos_notifica.to_excel(writer,sheet_name='geral',index=None)\n",
    "\n",
    "writer.save()\n",
    "writer.close()"
   ]
  }
 ]
}