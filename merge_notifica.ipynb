{
 "metadata": {
  "language_info": {
   "codemirror_mode": {
    "name": "ipython",
    "version": 3
   },
   "file_extension": ".py",
   "mimetype": "text/x-python",
   "name": "python",
   "nbconvert_exporter": "python",
   "pygments_lexer": "ipython3",
   "version": "3.8.5-final"
  },
  "orig_nbformat": 2,
  "kernelspec": {
   "name": "python3",
   "display_name": "Python 3",
   "language": "python"
  }
 },
 "nbformat": 4,
 "nbformat_minor": 2,
 "cells": [
  {
   "cell_type": "code",
   "execution_count": 1,
   "metadata": {},
   "outputs": [],
   "source": [
    "from sys import exit\n",
    "import numpy as np\n",
    "import pandas as pd\n",
    "from os.path import dirname, join, isfile, isdir\n",
    "from os import makedirs\n",
    "from datetime import datetime, timedelta, date\n",
    "\n",
    "from bulletin.data.notifica import Notifica\n",
    "from bulletin.data.casos_confirmados import CasosConfirmados\n",
    "from bulletin.commom.utils import Timer, get_better_notifica\n",
    "from bulletin.commom.static import meses\n",
    "from bulletin.metabase.request import download_metabase\n",
    "\n",
    "pd.set_option('display.max_columns', None)\n",
    "\n",
    "output = join(\"output\",\"correcoes\",\"notifica\")\n",
    "\n",
    "if not isdir(output):\n",
    "    makedirs(output)\n",
    "\n",
    "timerAll = Timer()\n",
    "timer = Timer()"
   ]
  },
  {
   "cell_type": "code",
   "execution_count": 2,
   "metadata": {},
   "outputs": [
    {
     "output_type": "stream",
     "name": "stdout",
     "text": [
      "(581195, 10614, 425720, 141444)\n",
      "(2296606, 1055528, 10936, 1227993, 2149)\n"
     ]
    }
   ],
   "source": [
    "cc = CasosConfirmados()\n",
    "# cc.read()\n",
    "# cc.save()\n",
    "cc.load()\n",
    "notifica = Notifica()\n",
    "# notifica.download_todas_notificacoes()\n",
    "# notifica.save()\n",
    "notifica.load()\n",
    "print(cc.shape())\n",
    "print(notifica.shape())"
   ]
  },
  {
   "cell_type": "code",
   "execution_count": 3,
   "metadata": {},
   "outputs": [
    {
     "output_type": "stream",
     "name": "stdout",
     "text": [
      "(2296606, 55)\n"
     ]
    }
   ],
   "source": [
    "casosc = cc.get_casos()\n",
    "casosn = notifica.get_casos()\n",
    "print(casosn.shape)"
   ]
  },
  {
   "cell_type": "code",
   "execution_count": 4,
   "metadata": {},
   "outputs": [
    {
     "output_type": "stream",
     "name": "stdout",
     "text": [
      "531996\n",
      "1033553\n",
      "1506798\n",
      "553285\n"
     ]
    },
    {
     "output_type": "execute_result",
     "data": {
      "text/plain": [
       "(27910, 23)"
      ]
     },
     "metadata": {},
     "execution_count": 4
    }
   ],
   "source": [
    "#pega o index dos casos confirmados que foram encontrados no notifica utilizando um dos hash\n",
    "idx_casos_confirmados = casosc[casosc['hash_resid'].isin(casosn['hash_resid'])].index.tolist()\n",
    "print(len(idx_casos_confirmados))\n",
    "idx_casos_confirmados += casosc[casosc['hash_atend'].isin(casosn['hash_atend'])].index.tolist()\n",
    "print(len(idx_casos_confirmados))\n",
    "idx_casos_confirmados += casosc[casosc['hash_diag'].isin(casosn['hash_diag'])].index.tolist()\n",
    "print(len(idx_casos_confirmados))\n",
    "\n",
    "#trasnforma essa lista de index em um conjunto, para deixar apenas os index unicos\n",
    "idx_casos_confirmados = set(idx_casos_confirmados)\n",
    "print(len(idx_casos_confirmados))\n",
    "\n",
    "#realiza a diferença de conjunto para pegar os index dos que não foram encotrados no notifica\n",
    "casos_confirmados_nao_notifica = casosc.loc[ set(casosc.index.tolist()) - idx_casos_confirmados ].sort_values('ordem')\n",
    "casos_confirmados_nao_notifica.shape ## aqui o numero total é 27910 casos não encontrados no notifica"
   ]
  },
  {
   "cell_type": "code",
   "execution_count": 5,
   "metadata": {},
   "outputs": [],
   "source": [
    "#separa os casos confirmados que tem correspondente nos casos notifica pelo hash que encontrou essa correspondencia\n",
    "cchr = casosc.loc[casosc['hash_resid'].isin(casosn['hash_resid'])].copy()\n",
    "ccha = casosc.loc[casosc['hash_atend'].isin(casosn['hash_atend'])].copy()\n",
    "cchd = casosc.loc[casosc['hash_diag'].isin(casosn['hash_diag'])].copy()"
   ]
  },
  {
   "cell_type": "code",
   "execution_count": 7,
   "metadata": {},
   "outputs": [],
   "source": [
    "#separa os casos do notifica que tem correspondente no casos confirmados pelo hash que encontrou essa correspondencia\n",
    "cnhr = casosn.loc[casosn['hash_resid'].isin(casosc['hash_resid'])].copy()\n",
    "cnha = casosn.loc[casosn['hash_atend'].isin(casosc['hash_atend'])].copy()\n",
    "cnhd = casosn.loc[casosn['hash_diag'].isin(casosc['hash_diag'])].copy()"
   ]
  },
  {
   "cell_type": "code",
   "execution_count": 9,
   "metadata": {},
   "outputs": [
    {
     "output_type": "stream",
     "name": "stdout",
     "text": [
      "(625174, 25)\n",
      "(578885, 25)\n",
      "(481549, 25)\n",
      "1685608\n"
     ]
    }
   ],
   "source": [
    "#realiza o merge com as partes separadas\n",
    "mchr = pd.merge(cchr,cnhr[['id','hash_resid','manter']],on='hash_resid',how='left')\n",
    "mcha = pd.merge(ccha,cnha[['id','hash_atend','manter']],on='hash_atend',how='left')\n",
    "mchd = pd.merge(cchd,cnhd[['id','hash_diag','manter']],on='hash_diag',how='left')\n",
    "\n",
    "print(mchr.shape)\n",
    "print(mcha.shape)\n",
    "print(mchd.shape)\n",
    "print(mchr.shape[0] + mcha.shape[0] + mchd.shape[0])"
   ]
  },
  {
   "cell_type": "code",
   "execution_count": 10,
   "metadata": {},
   "outputs": [],
   "source": [
    "#copia essas partes, concatenando e removendo os duplicados gerados no merge separado\n",
    "mccn = mchr.copy()\n",
    "mccn = mccn.append(mcha.loc[~mcha['ordem'].isin(mchr['ordem'])].copy())\n",
    "mccn = mccn.append(mchd.loc[~mchd['ordem'].isin(mchr['ordem'].append(mcha['ordem']))].copy())"
   ]
  },
  {
   "cell_type": "code",
   "execution_count": 11,
   "metadata": {},
   "outputs": [
    {
     "output_type": "execute_result",
     "data": {
      "text/plain": [
       "(552072, 25)"
      ]
     },
     "metadata": {},
     "execution_count": 11
    }
   ],
   "source": [
    "#remove os duplicados que havia mais de 1 correspondecia no notifica\n",
    "mccn = mccn.drop(index=mccn.loc[(mccn.duplicated('ordem',keep=False)) & (mccn['manter']==0)].index)\n",
    "mccn.shape"
   ]
  },
  {
   "cell_type": "code",
   "execution_count": 12,
   "metadata": {},
   "outputs": [
    {
     "output_type": "execute_result",
     "data": {
      "text/plain": [
       "(31910, 23)"
      ]
     },
     "metadata": {},
     "execution_count": 12
    }
   ],
   "source": [
    "casosc.loc[~casosc['ordem'].isin(mccn['ordem'])].shape\n",
    "#como esse numero é maior que 27910????????????????????????????????????????????????????????????????????"
   ]
  },
  {
   "cell_type": "code",
   "execution_count": 13,
   "metadata": {},
   "outputs": [
    {
     "output_type": "execute_result",
     "data": {
      "text/plain": [
       "583982"
      ]
     },
     "metadata": {},
     "execution_count": 13
    }
   ],
   "source": [
    "mccn.shape[0] + casosc.loc[~casosc['ordem'].isin(mccn['ordem'])].shape[0] #no fim juntando tudo ficou casos a mais ???????????????????????????????"
   ]
  },
  {
   "cell_type": "code",
   "execution_count": 14,
   "metadata": {},
   "outputs": [],
   "source": [
    "writer = pd.ExcelWriter(\"mccn.xlsx\",\n",
    "                        engine='xlsxwriter',\n",
    "                        datetime_format='dd/mm/yyyy',\n",
    "                        date_format='dd/mm/yyyy')\n",
    "\n",
    "mccn.to_excel(writer,sheet_name='mccn',index=None)\n",
    "casosc.loc[~casosc['ordem'].isin(mccn['ordem'])].to_excel(writer,sheet_name='nmccn',index=None)\n",
    "casosc.loc[~casosc['ordem'].isin(mccn['ordem'])].groupby('data_comunicacao')[['ordem']].count().to_excel(writer,sheet_name='totais')\n",
    "\n",
    "writer.save()\n",
    "writer.close()"
   ]
  }
 ]
}