{
 "metadata": {
  "language_info": {
   "codemirror_mode": {
    "name": "ipython",
    "version": 3
   },
   "file_extension": ".py",
   "mimetype": "text/x-python",
   "name": "python",
   "nbconvert_exporter": "python",
   "pygments_lexer": "ipython3",
   "version": "3.8.5-final"
  },
  "orig_nbformat": 2,
  "kernelspec": {
   "name": "python3",
   "display_name": "Python 3",
   "language": "python"
  }
 },
 "nbformat": 4,
 "nbformat_minor": 2,
 "cells": [
  {
   "cell_type": "code",
   "execution_count": 1,
   "metadata": {},
   "outputs": [],
   "source": [
    "from sys import exit\n",
    "import numpy as np\n",
    "import pandas as pd\n",
    "from os.path import dirname, join, isfile, isdir\n",
    "from os import makedirs\n",
    "from datetime import datetime, timedelta, date\n",
    "\n",
    "from bulletin.data.notifica import Notifica\n",
    "from bulletin.data.casos_confirmados import CasosConfirmados\n",
    "from bulletin.commom.utils import Timer, get_better_notifica\n",
    "from bulletin.commom.static import meses\n",
    "from bulletin.metabase.request import download_metabase\n",
    "\n",
    "pd.set_option('display.max_columns', None)\n",
    "\n",
    "output = join(\"output\",\"correcoes\",\"notifica\")\n",
    "\n",
    "if not isdir(output):\n",
    "    makedirs(output)\n",
    "\n",
    "timerAll = Timer()\n",
    "timer = Timer()"
   ]
  },
  {
   "cell_type": "code",
   "execution_count": 2,
   "metadata": {},
   "outputs": [
    {
     "output_type": "stream",
     "name": "stdout",
     "text": [
      "(586944, 10728, 432271, 143945)\n",
      "(2314138, 1062658, 11033, 1238275, 2172)\n"
     ]
    }
   ],
   "source": [
    "cc = CasosConfirmados()\n",
    "# cc.read()\n",
    "# cc.save()\n",
    "cc.load()\n",
    "notifica = Notifica()\n",
    "# notifica.download_todas_notificacoes()\n",
    "# notifica.save()\n",
    "notifica.load()\n",
    "print(cc.shape())\n",
    "print(notifica.shape())"
   ]
  },
  {
   "cell_type": "code",
   "execution_count": 3,
   "metadata": {},
   "outputs": [
    {
     "output_type": "stream",
     "name": "stdout",
     "text": [
      "(2314138, 55)\n"
     ]
    }
   ],
   "source": [
    "casosc = cc.get_casos()\n",
    "casosn = notifica.get_casos()\n",
    "# casosn = casosn.loc[(casosn['duplicado']==0) | ((casosn['duplicado']==1) & (casosn['manter']==1))]\n",
    "print(casosn.shape)"
   ]
  },
  {
   "cell_type": "code",
   "execution_count": 4,
   "metadata": {},
   "outputs": [
    {
     "output_type": "execute_result",
     "data": {
      "text/plain": [
       "(27859, 23)"
      ]
     },
     "metadata": {},
     "execution_count": 4
    }
   ],
   "source": [
    "idx_casos_confirmados = casosc[casosc['hash_resid'].isin(casosn['hash_resid'])].index.tolist()\n",
    "idx_casos_confirmados += casosc[casosc['hash_atend'].isin(casosn['hash_atend'])].index.tolist()\n",
    "idx_casos_confirmados += casosc[casosc['hash_diag'].isin(casosn['hash_diag'])].index.tolist()\n",
    "\n",
    "idx_casos_confirmados = set(idx_casos_confirmados)\n",
    "casos_confirmados_nao_notifica = casosc.loc[ set(casosc.index.tolist()) - idx_casos_confirmados ].sort_values('ordem')\n",
    "casos_confirmados_nao_notifica.shape"
   ]
  },
  {
   "cell_type": "code",
   "execution_count": 5,
   "metadata": {},
   "outputs": [
    {
     "output_type": "execute_result",
     "data": {
      "text/plain": [
       "(652090, 55)"
      ]
     },
     "metadata": {},
     "execution_count": 5
    }
   ],
   "source": [
    "idx_casos_notifica = casosn[casosn['hash_resid'].isin(casosc['hash_resid'])].index.tolist()\n",
    "idx_casos_notifica += casosn[casosn['hash_atend'].isin(casosc['hash_atend'])].index.tolist()\n",
    "idx_casos_notifica += casosn[casosn['hash_diag'].isin(casosc['hash_diag'])].index.tolist()\n",
    "\n",
    "idx_casos_notifica = set(idx_casos_notifica)\n",
    "casos_confirmados_notifica = casosn.loc[ idx_casos_notifica ].sort_values('id')\n",
    "casos_confirmados_notifica.shape"
   ]
  },
  {
   "cell_type": "code",
   "execution_count": 6,
   "metadata": {},
   "outputs": [
    {
     "output_type": "stream",
     "name": "stdout",
     "text": [
      "casos_hash_resid 537647\n",
      "notifica_hash_resid 632348\n",
      "merge_hash_resid 632348\n",
      "merge_hash_resid 537647\n",
      "\n",
      "casos_hash_atend 507065\n",
      "notifica_hash_atend 579311\n",
      "merge_hash_atend 585685\n",
      "merge_hash_atend 507065\n",
      "\n",
      "casos_hash_diag 478964\n",
      "notifica_hash_diag 481380\n",
      "merge_hash_diag 487369\n",
      "merge_hash_diag 478964\n",
      "\n",
      "idx_casos_confirmados 559085\n",
      "casos_confirmados_nao_notifica 27859\n"
     ]
    },
    {
     "output_type": "execute_result",
     "data": {
      "text/plain": [
       "586944"
      ]
     },
     "metadata": {},
     "execution_count": 6
    }
   ],
   "source": [
    "#merge hash_resid\n",
    "casos_hash_resid = casosc.loc[casosc['hash_resid'].isin(casosn['hash_resid'])]\n",
    "print(f\"casos_hash_resid {len(casos_hash_resid)}\")\n",
    "notifica_hash_resid = casosn.loc[(casosn['hash_resid'].isin(casosc['hash_resid']))]\n",
    "print(f\"notifica_hash_resid {len(notifica_hash_resid)}\")\n",
    "merge_hash_resid = pd.merge(casos_hash_resid,notifica_hash_resid[['hash_resid','id','manter']])\n",
    "print(f\"merge_hash_resid {len(merge_hash_resid)}\")\n",
    "merge_hash_resid = merge_hash_resid.drop_duplicates('ordem')\n",
    "print(f\"merge_hash_resid {len(merge_hash_resid)}\\n\")\n",
    "\n",
    "#merge hash_atend\n",
    "casos_hash_atend = casosc.loc[casosc['hash_atend'].isin(casosn['hash_atend'])]\n",
    "print(f\"casos_hash_atend {len(casos_hash_atend)}\")\n",
    "notifica_hash_atend = casosn.loc[(casosn['hash_atend'].isin(casosc['hash_atend']))]\n",
    "print(f\"notifica_hash_atend {len(notifica_hash_atend)}\")\n",
    "merge_hash_atend = pd.merge(casos_hash_atend,notifica_hash_atend[['hash_atend','id','manter']])\n",
    "print(f\"merge_hash_atend {len(merge_hash_atend)}\")\n",
    "merge_hash_atend = merge_hash_atend.drop_duplicates('ordem')\n",
    "print(f\"merge_hash_atend {len(merge_hash_atend)}\\n\")\n",
    "\n",
    "#merge hash_diag\n",
    "casos_hash_diag = casosc.loc[casosc['hash_diag'].isin(casosn['hash_diag'])]\n",
    "print(f\"casos_hash_diag {len(casos_hash_diag)}\")\n",
    "notifica_hash_diag = casosn.loc[(casosn['hash_diag'].isin(casosc['hash_diag']))]\n",
    "print(f\"notifica_hash_diag {len(notifica_hash_diag)}\")\n",
    "merge_hash_diag = pd.merge(casos_hash_diag,notifica_hash_diag[['hash_diag','id','manter']])\n",
    "print(f\"merge_hash_diag {len(merge_hash_diag)}\")\n",
    "merge_hash_diag = merge_hash_diag.drop_duplicates('ordem')\n",
    "print(f\"merge_hash_diag {len(merge_hash_diag)}\\n\")\n",
    "\n",
    "#trasnforma essa lista de index em um conjunto, para deixar apenas os index unicos\n",
    "idx_casos_confirmados = set(casos_hash_resid.index.tolist() + casos_hash_atend.index.tolist() + casos_hash_diag.index.tolist())\n",
    "print(f\"idx_casos_confirmados {len(idx_casos_confirmados)}\")\n",
    "\n",
    "#realiza a diferença de conjunto para pegar os index dos que não foram encotrados no notifica\n",
    "casos_confirmados_nao_notifica = casosc.loc[ set(casosc.index.tolist()) - idx_casos_confirmados ].sort_values('ordem')\n",
    "print(f\"casos_confirmados_nao_notifica {len(casos_confirmados_nao_notifica)}\") ## aqui o numero total é 27910 casos não encontrados no notifica\n",
    "len(idx_casos_confirmados) + len(casos_confirmados_nao_notifica)"
   ]
  },
  {
   "cell_type": "code",
   "execution_count": 38,
   "metadata": {},
   "outputs": [],
   "source": [
    "merge_casos_notifica = pd.concat([merge_hash_resid,merge_hash_atend,merge_hash_diag,casos_confirmados_nao_notifica]).drop_duplicates('ordem').sort_values('ordem')\n",
    "\n",
    "merge_casos_notifica['evolucao'] = 3\n",
    "merge_casos_notifica.loc[merge_casos_notifica['obito']==1, 'evolucao'] = 2\n",
    "merge_casos_notifica.loc[merge_casos_notifica['recuperado']==1, 'evolucao'] = 1\n",
    "\n",
    "merge_casos_notifica.loc[merge_casos_notifica['obito']==1, 'data_evolucao'] = merge_casos_notifica.loc[merge_casos_notifica['obito']==1, 'data_obito'] \n",
    "merge_casos_notifica.loc[merge_casos_notifica['obito']==1, 'data_com_evolucao'] = merge_casos_notifica.loc[merge_casos_notifica['obito']==1, 'data_com_obito'] \n",
    "\n",
    "merge_casos_notifica = merge_casos_notifica[['ordem', 'identificacao', 'id', 'ibge_resid', 'ibge_atend', 'paciente', 'sexo', 'idade', 'mun_resid', 'mun_atend', 'rs', 'laboratorio', 'data_diagnostico', 'data_comunicacao', 'data_1o_sintomas', 'evolucao', 'data_evolucao', 'data_com_evolucao']]"
   ]
  },
  {
   "cell_type": "code",
   "execution_count": 39,
   "metadata": {},
   "outputs": [],
   "source": [
    "writer = pd.ExcelWriter(\"merge_casos_notifica.xlsx\",\n",
    "                        engine='xlsxwriter',\n",
    "                        datetime_format='dd/mm/yyyy',\n",
    "                        date_format='dd/mm/yyyy')\n",
    "\n",
    "merge_casos_notifica.to_excel(writer,sheet_name='geral',index=None)\n",
    "worksheet = writer.sheets[\"geral\"]\n",
    "auto_fit_columns(worksheet,merge_casos_notifica)\n",
    "\n",
    "ativos.to_excel(writer,sheet_name='ativos',index=None)\n",
    "writer.save()\n",
    "writer.close()"
   ]
  }
 ]
}