{
 "metadata": {
  "language_info": {
   "codemirror_mode": {
    "name": "ipython",
    "version": 3
   },
   "file_extension": ".py",
   "mimetype": "text/x-python",
   "name": "python",
   "nbconvert_exporter": "python",
   "pygments_lexer": "ipython3",
   "version": "3.8.5-final"
  },
  "orig_nbformat": 2,
  "kernelspec": {
   "name": "python3",
   "display_name": "Python 3",
   "language": "python"
  }
 },
 "nbformat": 4,
 "nbformat_minor": 2,
 "cells": [
  {
   "cell_type": "code",
   "execution_count": 1,
   "metadata": {},
   "outputs": [],
   "source": [
    "from sys import exit\n",
    "import numpy as np\n",
    "import pandas as pd\n",
    "from os.path import dirname, join, isfile, isdir\n",
    "from os import makedirs\n",
    "from datetime import datetime, timedelta, date\n",
    "\n",
    "from bulletin.data.notifica import Notifica\n",
    "from bulletin.data.casos_confirmados import CasosConfirmados\n",
    "from bulletin.commom.utils import Timer, get_better_notifica\n",
    "from bulletin.commom.static import meses\n",
    "from bulletin.metabase.request import download_metabase\n",
    "\n",
    "pd.set_option('display.max_columns', None)\n",
    "\n",
    "output = join(\"output\",\"correcoes\",\"notifica\")\n",
    "\n",
    "if not isdir(output):\n",
    "    makedirs(output)\n",
    "\n",
    "timerAll = Timer()\n",
    "timer = Timer()"
   ]
  },
  {
   "cell_type": "code",
   "execution_count": 2,
   "metadata": {},
   "outputs": [
    {
     "output_type": "stream",
     "name": "stdout",
     "text": [
      "(581195, 10614, 425720, 141444)\n",
      "(2296606, 1055528, 10936, 1227993, 2149)\n"
     ]
    }
   ],
   "source": [
    "cc = CasosConfirmados()\n",
    "# cc.read()\n",
    "# cc.save()\n",
    "cc.load()\n",
    "notifica = Notifica()\n",
    "# notifica.download_todas_notificacoes()\n",
    "# notifica.save()\n",
    "notifica.load()\n",
    "print(cc.shape())\n",
    "print(notifica.shape())"
   ]
  },
  {
   "cell_type": "code",
   "execution_count": 3,
   "metadata": {},
   "outputs": [
    {
     "output_type": "stream",
     "name": "stdout",
     "text": [
      "(2296606, 55)\n"
     ]
    }
   ],
   "source": [
    "casosc = cc.get_casos()\n",
    "casosn = notifica.get_casos()\n",
    "print(casosn.shape)"
   ]
  },
  {
   "cell_type": "code",
   "execution_count": 4,
   "metadata": {},
   "outputs": [
    {
     "output_type": "stream",
     "name": "stdout",
     "text": [
      "531996\n",
      "1033553\n",
      "1506798\n",
      "553285\n"
     ]
    },
    {
     "output_type": "execute_result",
     "data": {
      "text/plain": [
       "(27910, 23)"
      ]
     },
     "metadata": {},
     "execution_count": 4
    }
   ],
   "source": [
    "idx_casos_confirmados = casosc[casosc['hash_resid'].isin(casosn['hash_resid'])].index.tolist()\n",
    "print(len(idx_casos_confirmados))\n",
    "idx_casos_confirmados += casosc[casosc['hash_atend'].isin(casosn['hash_atend'])].index.tolist()\n",
    "print(len(idx_casos_confirmados))\n",
    "idx_casos_confirmados += casosc[casosc['hash_diag'].isin(casosn['hash_diag'])].index.tolist()\n",
    "print(len(idx_casos_confirmados))\n",
    "\n",
    "idx_casos_confirmados = set(idx_casos_confirmados)\n",
    "print(len(idx_casos_confirmados))\n",
    "\n",
    "casos_confirmados_nao_notifica = casosc.loc[ set(casosc.index.tolist()) - idx_casos_confirmados ].sort_values('ordem')\n",
    "casos_confirmados_nao_notifica.shape"
   ]
  },
  {
   "cell_type": "code",
   "execution_count": 5,
   "metadata": {},
   "outputs": [],
   "source": [
    "cchr = casosc.loc[casosc['hash_resid'].isin(casosn['hash_resid'])].copy()\n",
    "ccha = casosc.loc[casosc['hash_atend'].isin(casosn['hash_atend'])].copy()\n",
    "cchd = casosc.loc[casosc['hash_diag'].isin(casosn['hash_diag'])].copy()"
   ]
  },
  {
   "cell_type": "code",
   "execution_count": 6,
   "metadata": {},
   "outputs": [
    {
     "output_type": "execute_result",
     "data": {
      "text/plain": [
       "         ordem  identificacao  ibge_resid  ibge_atend  \\\n",
       "581137  581138         662792     4118402         NaN   \n",
       "\n",
       "                            paciente sexo  idade  mun_resid  mun_atend  rs  \\\n",
       "581137  WELYNGTON BEVILAQUA DA SILVA    M     28  PARANAVAI  PARANAVAI  14   \n",
       "\n",
       "                                       laboratorio data_diagnostico  \\\n",
       "581137  TESTE RAPIDO ANTIGENO (IMUNOCROMATOGRAFIA)       2021-02-11   \n",
       "\n",
       "       data_comunicacao data_1o_sintomas  obito data_obito data_com_obito  \\\n",
       "581137       2021-02-11              NaT      0        NaT            NaT   \n",
       "\n",
       "        recuperado  ativo  excluir                            hash_resid  \\\n",
       "581137         NaN    NaN      NaN  WELYNGTONBEVILAQUADASILVA28PARANAVAI   \n",
       "\n",
       "                                  hash_atend  \\\n",
       "581137  WELYNGTONBEVILAQUADASILVA28PARANAVAI   \n",
       "\n",
       "                                hash_diag  \n",
       "581137  WELYNGTONBEVILAQUADASILVA11022021  "
      ],
      "text/html": "<div>\n<style scoped>\n    .dataframe tbody tr th:only-of-type {\n        vertical-align: middle;\n    }\n\n    .dataframe tbody tr th {\n        vertical-align: top;\n    }\n\n    .dataframe thead th {\n        text-align: right;\n    }\n</style>\n<table border=\"1\" class=\"dataframe\">\n  <thead>\n    <tr style=\"text-align: right;\">\n      <th></th>\n      <th>ordem</th>\n      <th>identificacao</th>\n      <th>ibge_resid</th>\n      <th>ibge_atend</th>\n      <th>paciente</th>\n      <th>sexo</th>\n      <th>idade</th>\n      <th>mun_resid</th>\n      <th>mun_atend</th>\n      <th>rs</th>\n      <th>laboratorio</th>\n      <th>data_diagnostico</th>\n      <th>data_comunicacao</th>\n      <th>data_1o_sintomas</th>\n      <th>obito</th>\n      <th>data_obito</th>\n      <th>data_com_obito</th>\n      <th>recuperado</th>\n      <th>ativo</th>\n      <th>excluir</th>\n      <th>hash_resid</th>\n      <th>hash_atend</th>\n      <th>hash_diag</th>\n    </tr>\n  </thead>\n  <tbody>\n    <tr>\n      <th>581137</th>\n      <td>581138</td>\n      <td>662792</td>\n      <td>4118402</td>\n      <td>NaN</td>\n      <td>WELYNGTON BEVILAQUA DA SILVA</td>\n      <td>M</td>\n      <td>28</td>\n      <td>PARANAVAI</td>\n      <td>PARANAVAI</td>\n      <td>14</td>\n      <td>TESTE RAPIDO ANTIGENO (IMUNOCROMATOGRAFIA)</td>\n      <td>2021-02-11</td>\n      <td>2021-02-11</td>\n      <td>NaT</td>\n      <td>0</td>\n      <td>NaT</td>\n      <td>NaT</td>\n      <td>NaN</td>\n      <td>NaN</td>\n      <td>NaN</td>\n      <td>WELYNGTONBEVILAQUADASILVA28PARANAVAI</td>\n      <td>WELYNGTONBEVILAQUADASILVA28PARANAVAI</td>\n      <td>WELYNGTONBEVILAQUADASILVA11022021</td>\n    </tr>\n  </tbody>\n</table>\n</div>"
     },
     "metadata": {},
     "execution_count": 6
    }
   ],
   "source": [
    "ccha.loc[ccha['hash_atend']=='WELYNGTONBEVILAQUADASILVA28PARANAVAI']"
   ]
  },
  {
   "cell_type": "code",
   "execution_count": 7,
   "metadata": {},
   "outputs": [],
   "source": [
    "cnhr = casosn.loc[casosn['hash_resid'].isin(casosc['hash_resid'])].copy()\n",
    "cnha = casosn.loc[casosn['hash_atend'].isin(casosc['hash_atend'])].copy()\n",
    "cnhd = casosn.loc[casosn['hash_diag'].isin(casosc['hash_diag'])].copy()"
   ]
  },
  {
   "cell_type": "code",
   "execution_count": 8,
   "metadata": {},
   "outputs": [
    {
     "output_type": "execute_result",
     "data": {
      "text/plain": [
       "              id                      paciente data_nascimento  \\\n",
       "1505943  2356267  WELYNGTON BEVILAQUA DA SILVA      1992-04-03   \n",
       "\n",
       "                           nome_mae             cpf  cod_tipo_paciente  \\\n",
       "1505943  NEUSELI BEVILAQUA DA SILVA  086.749.109-47                  3   \n",
       "\n",
       "         tipo_paciente  idade sexo  cod_raca_cor  raca_cor  cod_etnia etnia  \\\n",
       "1505943  CPF INFORMADO     28    M            99  IGNORADO          0         \n",
       "\n",
       "         uf_residencia  ibge_residencia  cod_classificacao_final  \\\n",
       "1505943             41           412670                        2   \n",
       "\n",
       "        classificacao_final  cod_criterio_classificacao  \\\n",
       "1505943     CASO CONFIRMADO                           1   \n",
       "\n",
       "        criterio_classificacao  cod_evolucao       evolucao data_1o_sintomas  \\\n",
       "1505943           LABORATORIAL             3  NAO SE APLICA              NaT   \n",
       "\n",
       "        data_cura_obito co_seq_exame  cod_metodo        metodo  cod_exame  \\\n",
       "1505943             NaT            0           2  TESTE RAPIDO        167   \n",
       "\n",
       "                                              exame  cod_resultado resultado  \\\n",
       "1505943  TESTE RAPIDO ANTIGENO (IMUNOCROMATOGRAFIA)             12  REAGENTE   \n",
       "\n",
       "        data_coleta data_recebimento data_liberacao  cod_status_notificacao  \\\n",
       "1505943         NaT              NaT            NaT                       1   \n",
       "\n",
       "        status_notificacao  excluir_ficha  cod_origem             origem  \\\n",
       "1505943             ABERTA              2           1  NOTIFICA COVID-19   \n",
       "\n",
       "         uf_unidade_notifica  ibge_unidade_notifica data_notificacao  \\\n",
       "1505943                   41                 411840       2021-02-11   \n",
       "\n",
       "        updated_at data_diagnostico mun_resid uf_resid  rs  mun_atend  \\\n",
       "1505943 2021-02-11       2021-02-11  TAMBOARA       PR  14  PARANAVAI   \n",
       "\n",
       "        uf_atend                           hash_resid  \\\n",
       "1505943       PR  WELYNGTONBEVILAQUADASILVA28TAMBOARA   \n",
       "\n",
       "                                   hash_atend  \\\n",
       "1505943  WELYNGTONBEVILAQUADASILVA28PARANAVAI   \n",
       "\n",
       "                                                 hash_mae  \\\n",
       "1505943  WELYNGTONBEVILAQUADASILVANEUSELIBEVILAQUADASILVA   \n",
       "\n",
       "                                 hash_nasc                          hash_diag  \\\n",
       "1505943  WELYNGTONBEVILAQUADASILVA03041992  WELYNGTONBEVILAQUADASILVA11022021   \n",
       "\n",
       "         duplicado  manter  \n",
       "1505943          0       0  "
      ],
      "text/html": "<div>\n<style scoped>\n    .dataframe tbody tr th:only-of-type {\n        vertical-align: middle;\n    }\n\n    .dataframe tbody tr th {\n        vertical-align: top;\n    }\n\n    .dataframe thead th {\n        text-align: right;\n    }\n</style>\n<table border=\"1\" class=\"dataframe\">\n  <thead>\n    <tr style=\"text-align: right;\">\n      <th></th>\n      <th>id</th>\n      <th>paciente</th>\n      <th>data_nascimento</th>\n      <th>nome_mae</th>\n      <th>cpf</th>\n      <th>cod_tipo_paciente</th>\n      <th>tipo_paciente</th>\n      <th>idade</th>\n      <th>sexo</th>\n      <th>cod_raca_cor</th>\n      <th>raca_cor</th>\n      <th>cod_etnia</th>\n      <th>etnia</th>\n      <th>uf_residencia</th>\n      <th>ibge_residencia</th>\n      <th>cod_classificacao_final</th>\n      <th>classificacao_final</th>\n      <th>cod_criterio_classificacao</th>\n      <th>criterio_classificacao</th>\n      <th>cod_evolucao</th>\n      <th>evolucao</th>\n      <th>data_1o_sintomas</th>\n      <th>data_cura_obito</th>\n      <th>co_seq_exame</th>\n      <th>cod_metodo</th>\n      <th>metodo</th>\n      <th>cod_exame</th>\n      <th>exame</th>\n      <th>cod_resultado</th>\n      <th>resultado</th>\n      <th>data_coleta</th>\n      <th>data_recebimento</th>\n      <th>data_liberacao</th>\n      <th>cod_status_notificacao</th>\n      <th>status_notificacao</th>\n      <th>excluir_ficha</th>\n      <th>cod_origem</th>\n      <th>origem</th>\n      <th>uf_unidade_notifica</th>\n      <th>ibge_unidade_notifica</th>\n      <th>data_notificacao</th>\n      <th>updated_at</th>\n      <th>data_diagnostico</th>\n      <th>mun_resid</th>\n      <th>uf_resid</th>\n      <th>rs</th>\n      <th>mun_atend</th>\n      <th>uf_atend</th>\n      <th>hash_resid</th>\n      <th>hash_atend</th>\n      <th>hash_mae</th>\n      <th>hash_nasc</th>\n      <th>hash_diag</th>\n      <th>duplicado</th>\n      <th>manter</th>\n    </tr>\n  </thead>\n  <tbody>\n    <tr>\n      <th>1505943</th>\n      <td>2356267</td>\n      <td>WELYNGTON BEVILAQUA DA SILVA</td>\n      <td>1992-04-03</td>\n      <td>NEUSELI BEVILAQUA DA SILVA</td>\n      <td>086.749.109-47</td>\n      <td>3</td>\n      <td>CPF INFORMADO</td>\n      <td>28</td>\n      <td>M</td>\n      <td>99</td>\n      <td>IGNORADO</td>\n      <td>0</td>\n      <td></td>\n      <td>41</td>\n      <td>412670</td>\n      <td>2</td>\n      <td>CASO CONFIRMADO</td>\n      <td>1</td>\n      <td>LABORATORIAL</td>\n      <td>3</td>\n      <td>NAO SE APLICA</td>\n      <td>NaT</td>\n      <td>NaT</td>\n      <td>0</td>\n      <td>2</td>\n      <td>TESTE RAPIDO</td>\n      <td>167</td>\n      <td>TESTE RAPIDO ANTIGENO (IMUNOCROMATOGRAFIA)</td>\n      <td>12</td>\n      <td>REAGENTE</td>\n      <td>NaT</td>\n      <td>NaT</td>\n      <td>NaT</td>\n      <td>1</td>\n      <td>ABERTA</td>\n      <td>2</td>\n      <td>1</td>\n      <td>NOTIFICA COVID-19</td>\n      <td>41</td>\n      <td>411840</td>\n      <td>2021-02-11</td>\n      <td>2021-02-11</td>\n      <td>2021-02-11</td>\n      <td>TAMBOARA</td>\n      <td>PR</td>\n      <td>14</td>\n      <td>PARANAVAI</td>\n      <td>PR</td>\n      <td>WELYNGTONBEVILAQUADASILVA28TAMBOARA</td>\n      <td>WELYNGTONBEVILAQUADASILVA28PARANAVAI</td>\n      <td>WELYNGTONBEVILAQUADASILVANEUSELIBEVILAQUADASILVA</td>\n      <td>WELYNGTONBEVILAQUADASILVA03041992</td>\n      <td>WELYNGTONBEVILAQUADASILVA11022021</td>\n      <td>0</td>\n      <td>0</td>\n    </tr>\n  </tbody>\n</table>\n</div>"
     },
     "metadata": {},
     "execution_count": 8
    }
   ],
   "source": [
    "cnha.loc[cnha['hash_atend']=='WELYNGTONBEVILAQUADASILVA28PARANAVAI']"
   ]
  },
  {
   "cell_type": "code",
   "execution_count": 9,
   "metadata": {},
   "outputs": [
    {
     "output_type": "stream",
     "name": "stdout",
     "text": [
      "(625174, 25)\n",
      "(578885, 25)\n",
      "(481549, 25)\n",
      "1685608\n"
     ]
    }
   ],
   "source": [
    "mchr = pd.merge(cchr,cnhr[['id','hash_resid','manter']],on='hash_resid',how='left')\n",
    "mcha = pd.merge(ccha,cnha[['id','hash_atend','manter']],on='hash_atend',how='left')\n",
    "mchd = pd.merge(cchd,cnhd[['id','hash_diag','manter']],on='hash_diag',how='left')\n",
    "\n",
    "print(mchr.shape)\n",
    "print(mcha.shape)\n",
    "print(mchd.shape)\n",
    "print(mchr.shape[0] + mcha.shape[0] + mchd.shape[0])"
   ]
  },
  {
   "cell_type": "code",
   "execution_count": 10,
   "metadata": {},
   "outputs": [],
   "source": [
    "mccn = mchr.copy()\n",
    "mccn = mccn.append(mcha.loc[~mcha['ordem'].isin(mchr['ordem'])].copy())\n",
    "mccn = mccn.append(mchd.loc[~mchd['ordem'].isin(mchr['ordem'].append(mcha['ordem']))].copy())"
   ]
  },
  {
   "cell_type": "code",
   "execution_count": 11,
   "metadata": {},
   "outputs": [
    {
     "output_type": "execute_result",
     "data": {
      "text/plain": [
       "(552072, 25)"
      ]
     },
     "metadata": {},
     "execution_count": 11
    }
   ],
   "source": [
    "mccn = mccn.drop(index=mccn.loc[(mccn.duplicated('ordem',keep=False)) & (mccn['manter']==0)].index)\n",
    "mccn.shape"
   ]
  },
  {
   "cell_type": "code",
   "execution_count": 13,
   "metadata": {},
   "outputs": [
    {
     "output_type": "execute_result",
     "data": {
      "text/plain": [
       "(31910, 23)"
      ]
     },
     "metadata": {},
     "execution_count": 13
    }
   ],
   "source": [
    "casosc.loc[~casosc['ordem'].isin(mccn['ordem'])].shape"
   ]
  },
  {
   "cell_type": "code",
   "execution_count": 14,
   "metadata": {},
   "outputs": [
    {
     "output_type": "execute_result",
     "data": {
      "text/plain": [
       "583982"
      ]
     },
     "metadata": {},
     "execution_count": 14
    }
   ],
   "source": [
    "mccn.shape[0] + casosc.loc[~casosc['ordem'].isin(mccn['ordem'])].shape[0]"
   ]
  },
  {
   "cell_type": "code",
   "execution_count": 16,
   "metadata": {},
   "outputs": [],
   "source": [
    "writer = pd.ExcelWriter(\"mccn.xlsx\",\n",
    "                        engine='xlsxwriter',\n",
    "                        datetime_format='dd/mm/yyyy',\n",
    "                        date_format='dd/mm/yyyy')\n",
    "\n",
    "mccn.to_excel(writer,sheet_name='mccn',index=None)\n",
    "casosc.loc[~casosc['ordem'].isin(mccn['ordem'])].to_excel(writer,sheet_name='nmccn',index=None)\n",
    "casosc.loc[~casosc['ordem'].isin(mccn['ordem'])].groupby('data_comunicacao')[['ordem']].count().to_excel(writer,sheet_name='totais',index=None)\n",
    "\n",
    "writer.save()\n",
    "writer.close()"
   ]
  }
 ]
}