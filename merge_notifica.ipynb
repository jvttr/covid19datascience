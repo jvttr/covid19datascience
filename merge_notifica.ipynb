{
 "metadata": {
  "language_info": {
   "codemirror_mode": {
    "name": "ipython",
    "version": 3
   },
   "file_extension": ".py",
   "mimetype": "text/x-python",
   "name": "python",
   "nbconvert_exporter": "python",
   "pygments_lexer": "ipython3",
   "version": "3.8.5-final"
  },
  "orig_nbformat": 2,
  "kernelspec": {
   "name": "python3",
   "display_name": "Python 3",
   "language": "python"
  }
 },
 "nbformat": 4,
 "nbformat_minor": 2,
 "cells": [
  {
   "cell_type": "code",
   "execution_count": null,
   "metadata": {},
   "outputs": [],
   "source": [
    "from sys import exit\n",
    "import numpy as np\n",
    "import pandas as pd\n",
    "from os.path import dirname, join, isfile, isdir\n",
    "from os import makedirs\n",
    "from datetime import datetime, timedelta, date\n",
    "\n",
    "from bulletin.data.notifica import Notifica\n",
    "from bulletin.data.casos_confirmados import CasosConfirmados\n",
    "from bulletin.commom.utils import Timer, get_better_notifica\n",
    "from bulletin.commom.static import meses\n",
    "from bulletin.metabase.request import download_metabase\n",
    "\n",
    "pd.set_option('display.max_columns', None)\n",
    "\n",
    "output = join(\"output\",\"correcoes\",\"notifica\")\n",
    "\n",
    "if not isdir(output):\n",
    "    makedirs(output)\n",
    "\n",
    "timerAll = Timer()\n",
    "timer = Timer()"
   ]
  },
  {
   "cell_type": "code",
   "execution_count": null,
   "metadata": {},
   "outputs": [],
   "source": [
    "cc = CasosConfirmados()\n",
    "# cc.read()\n",
    "# cc.save()\n",
    "cc.load()\n",
    "notifica = Notifica()\n",
    "# notifica.download_todas_notificacoes()\n",
    "# notifica.save()\n",
    "notifica.load()\n",
    "print(cc.shape())\n",
    "print(notifica.shape())"
   ]
  },
  {
   "cell_type": "code",
   "execution_count": null,
   "metadata": {},
   "outputs": [],
   "source": [
    "casos_confirmados = cc.get_casos()\n",
    "casos_notifica = notifica.get_casos()\n",
    "print(casos_notifica.shape)"
   ]
  },
  {
   "cell_type": "code",
   "execution_count": null,
   "metadata": {},
   "outputs": [],
   "source": [
    "merge_casos_confirmados = pd.merge(casos_confirmados,casos_notifica[['id','mun_resid']],how='left',on='mun_resid')\n",
    "print(merge_casos_confirmados.shape)"
   ]
  },
  {
   "cell_type": "code",
   "execution_count": null,
   "metadata": {},
   "outputs": [],
   "source": [
    "cc_sem_id = merge_casos_confirmados.loc[merge_casos_confirmados['id'].isnull()].copy()\n",
    "cc_sem_id = cc_sem_id.drop(columns='id')\n",
    "\n",
    "merge_casos_confirmados = merge_casos_confirmados.loc[merge_casos_confirmados['id'].notnull()]\n",
    "id_sem_cc = casos_notifica.loc[~casos_notifica['id'].isin(merge_casos_confirmados['id'])]\n",
    "###\n",
    "merge_casos_confirmados = merge_casos_confirmados.append(pd.merge(cc_sem_id,id_sem_cc[['id','hash_atend']],how='left',on='hash_atend'))\n",
    "print(merge_casos_confirmados.shape)"
   ]
  },
  {
   "cell_type": "code",
   "execution_count": null,
   "metadata": {},
   "outputs": [],
   "source": [
    "cc_sem_id = merge_casos_confirmados.loc[merge_casos_confirmados['id'].isnull()].copy()\n",
    "cc_sem_id = cc_sem_id.drop(columns='id')\n",
    "\n",
    "merge_casos_confirmados = merge_casos_confirmados.loc[merge_casos_confirmados['id'].notnull()]\n",
    "id_sem_cc = casos_notifica.loc[~casos_notifica['id'].isin(merge_casos_confirmados['id'])]\n",
    "###\n",
    "merge_casos_confirmados = merge_casos_confirmados.append(pd.merge(cc_sem_id,id_sem_cc[['id','hash_diag']],how='left',on='hash_diag'))\n",
    "print(merge_casos_confirmados.shape)"
   ]
  }
 ]
}