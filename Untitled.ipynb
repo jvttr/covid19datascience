{
 "cells": [
  {
   "cell_type": "code",
   "execution_count": 1,
   "metadata": {},
   "outputs": [],
   "source": [
    "import pandas as pd\n",
    "import codecs\n",
    "from bulletin.commom import static"
   ]
  },
  {
   "cell_type": "code",
   "execution_count": 4,
   "metadata": {},
   "outputs": [],
   "source": [
    "exclusoes = pd.read_csv('duplicados_exclusao.csv', sep=';', parse_dates=['dt_diag'], date_parser=lambda x: pd.to_datetime(x, format=\"%d/%m/%Y\"))\n",
    "exclusoes = exclusoes.sort_values('dt_diag')\n",
    "\n",
    "with codecs.open(f\"relatorio_exclusoes.txt\",\"w\",\"utf-8-sig\") as relatorio:\n",
    "    relatorio.write('Exclusões: \\n\\n')\n",
    "    relatorio.write(f\"Foram excluidos {len(exclusoes.loc[exclusoes['rs'].notnull()])} casos do PR e {len(exclusoes.loc[exclusoes['rs'].isnull()])} fora dentre {exclusoes.iloc[0]['dt_diag'].strftime('%d/%m/%Y')} à {exclusoes.iloc[-1]['dt_diag'].strftime('%d/%m/%Y')}.Sendo:\\n\\n\")\n",
    "\n",
    "    relatorio.write('Total por municipio PR:\\n')\n",
    "    for mun, df in exclusoes.loc[exclusoes['rs'].notnull()].groupby('mun_resid'):\n",
    "        relatorio.write(f\"{mun}\\t{len(df)}\\n\")\n",
    "    relatorio.write('\\n\\n')\n",
    "    \n",
    "    relatorio.write('Total por municipio FORA:\\n')\n",
    "    for mun, df in exclusoes.loc[exclusoes['rs'].isnull()].groupby('mun_resid'):\n",
    "        relatorio.write(f\"{mun}\\t{len(df)}\\n\")\n",
    "    relatorio.write('\\n\\n')\n",
    "\n",
    "    relatorio.write('E total por mês:\\n')\n",
    "    exclusoes['month'] = exclusoes.apply(lambda x: x['dt_diag'].month, axis=1)\n",
    "    for group, value in exclusoes.groupby(by='month'):\n",
    "        relatorio.write(f\"{static.meses[int(group)-1]}\\t{len(value)}\\n\")\n",
    "    relatorio.write('\\n\\n')\n",
    "    \n",
    "    for group, value in exclusoes.groupby(by='dt_diag'):\n",
    "        relatorio.write(f\"{group.strftime('%d/%m/%Y')}\\t{len(value)}\\n\")\n",
    "    relatorio.write('\\n\\n')\n",
    "    \n",
    "    for mun, df in exclusoes.groupby('mun_resid'):\n",
    "        df = df.sort_values('dt_diag')\n",
    "        for idx, value in df.iterrows():\n",
    "            relatorio.write(f\"Um caso confirmado ({value['sexo']},{value['idade']}) no dia {value['dt_diag'].strftime('%d/%m/%Y')} em {value['mun_resid']} foi excluido por duplicidade\\n\")\n",
    "\n",
    "    \n",
    "\n",
    "        "
   ]
  },
  {
   "cell_type": "code",
   "execution_count": null,
   "metadata": {},
   "outputs": [],
   "source": []
  }
 ],
 "metadata": {
  "kernelspec": {
   "display_name": "Python 3",
   "language": "python",
   "name": "python3"
  },
  "language_info": {
   "codemirror_mode": {
    "name": "ipython",
    "version": 3
   },
   "file_extension": ".py",
   "mimetype": "text/x-python",
   "name": "python",
   "nbconvert_exporter": "python",
   "pygments_lexer": "ipython3",
   "version": "3.8.5"
  }
 },
 "nbformat": 4,
 "nbformat_minor": 4
}
