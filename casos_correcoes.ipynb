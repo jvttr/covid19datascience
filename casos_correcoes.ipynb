{
 "metadata": {
  "language_info": {
   "codemirror_mode": {
    "name": "ipython",
    "version": 3
   },
   "file_extension": ".py",
   "mimetype": "text/x-python",
   "name": "python",
   "nbconvert_exporter": "python",
   "pygments_lexer": "ipython3",
   "version": "3.8.5-final"
  },
  "orig_nbformat": 2,
  "kernelspec": {
   "name": "python3",
   "display_name": "Python 3",
   "language": "python"
  }
 },
 "nbformat": 4,
 "nbformat_minor": 2,
 "cells": [
  {
   "cell_type": "code",
   "execution_count": 1,
   "metadata": {},
   "outputs": [],
   "source": [
    "from sys import exit\n",
    "import numpy as np\n",
    "import pandas as pd\n",
    "from os.path import dirname, join, isfile, isdir\n",
    "from os import makedirs\n",
    "from datetime import datetime, timedelta\n",
    "from hashlib import sha256\n",
    "\n",
    "from bulletin.data.tb_pacientes import TbPacientes\n",
    "from bulletin.data.casos_confirmados import CasosConfirmados\n",
    "from bulletin.commom.utils import Timer\n",
    "from bulletin.commom import static\n",
    "from bulletin.commom.normalize import *\n",
    "\n",
    "pd.set_option('display.max_columns', None)\n",
    "\n",
    "output = join(\"output\",\"correcoes\",\"casos_confirmados\")\n",
    "\n",
    "if not isdir(output):\n",
    "    makedirs(output)\n",
    "\n",
    "timer = Timer()"
   ]
  },
  {
   "cell_type": "code",
   "execution_count": 2,
   "metadata": {},
   "outputs": [
    {
     "output_type": "stream",
     "name": "stdout",
     "text": [
      "Casos confirmados excluidos: 0\n",
      "Obitos confirmados excluidos: 0\n"
     ]
    },
    {
     "output_type": "execute_result",
     "data": {
      "text/plain": [
       "160.49625539779663"
      ]
     },
     "metadata": {},
     "execution_count": 2
    }
   ],
   "source": [
    "timer.reset()\n",
    "casos_confirmados = CasosConfirmados()\n",
    "casos_confirmados.update()\n",
    "timer.stop()"
   ]
  },
  {
   "cell_type": "code",
   "execution_count": 3,
   "metadata": {},
   "outputs": [
    {
     "output_type": "execute_result",
     "data": {
      "text/plain": [
       "(329782, 18)"
      ]
     },
     "metadata": {},
     "execution_count": 3
    }
   ],
   "source": [
    "casos = casos_confirmados.get_casos()\n",
    "casos.shape"
   ]
  },
  {
   "cell_type": "code",
   "execution_count": 4,
   "metadata": {},
   "outputs": [
    {
     "output_type": "execute_result",
     "data": {
      "text/plain": [
       "(6764, 11)"
      ]
     },
     "metadata": {},
     "execution_count": 4
    }
   ],
   "source": [
    "obitos = casos_confirmados.get_obitos()\n",
    "obitos.shape"
   ]
  },
  {
   "cell_type": "code",
   "execution_count": 5,
   "metadata": {},
   "outputs": [
    {
     "output_type": "stream",
     "name": "stdout",
     "text": [
      "1935\n"
     ]
    }
   ],
   "source": [
    "# duplicados = casos.loc[casos.duplicated('hash')].index.tolist()\n",
    "duplicados = casos.loc[casos['hash'].isin(casos['hash_less'])].index.tolist()\n",
    "print(len(duplicados))\n",
    "# duplicados_more = casos.loc[casos['hash'].isin(casos['hash_more'])].index.tolist()\n",
    "# print(len(duplicados_more))\n",
    "# duplicados = set(duplicados_less + duplicados_more)\n",
    "# print(len(duplicados))\n",
    "# casos_dropar = casos.loc[dropar]\n",
    "# casos_obitos_nao_dropar = casos_dropar.loc[casos_dropar['hash'].isin(obitos['hash'])].index.tolist()\n",
    "# dropar = dropar - set(casos_obitos_nao_dropar)\n",
    "\n",
    "casos = casos.rename(columns={'motivo_exclusao': 'excluir'})\n",
    "\n",
    "casos.loc[casos['excluir'].notnull(), 'excluir'] = 'SIM'\n",
    "casos.loc[casos['excluir'].isnull(), 'excluir'] = 'NAO'\n",
    "casos.loc[casos['obito'].notnull(), 'obito'] = 'SIM'\n",
    "casos.loc[casos['obito'].isnull(), 'obito'] = 'NAO'\n",
    "\n",
    "casos.loc[duplicados,'excluir'] = 'SIM'\n",
    "casos.loc[duplicados,'hash'] = None\n",
    "casos.loc[duplicados,'hash_less'] = None\n",
    "casos.loc[duplicados,'hash_more'] = None"
   ]
  },
  {
   "cell_type": "code",
   "execution_count": 6,
   "metadata": {},
   "outputs": [
    {
     "output_type": "execute_result",
     "data": {
      "text/plain": [
       "ordem                   int32\n",
       "ibge7                  object\n",
       "nome                   object\n",
       "sexo                   object\n",
       "idade                   int64\n",
       "mun_resid              object\n",
       "mun_atend              object\n",
       "rs                     object\n",
       "laboratorio            object\n",
       "dt_diag        datetime64[ns]\n",
       "comunicacao    datetime64[ns]\n",
       "is                     object\n",
       "obito                  object\n",
       "data_obito     datetime64[ns]\n",
       "excluir                object\n",
       "dtype: object"
      ]
     },
     "metadata": {},
     "execution_count": 6
    }
   ],
   "source": [
    "# obitos = obitos.rename(columns={'data_do_obito': 'data_cura_obito'})\n",
    "# obitos['evolucao'] = 'OBITO'\n",
    "# obitos = obitos[['evolucao','data_cura_obito','hash']]\n",
    "\n",
    "# casos.loc[casos['rs'].isnull(), 'mun_resid'] = casos.loc[casos['rs'].isnull(), 'mun_resid'] + '/' + casos.loc[casos['rs'].isnull(), 'uf_resid']\n",
    "\n",
    "# casos = pd.merge(left=casos, right=obitos, on='hash', how='left')\n",
    "\n",
    "# casos['rs'] = None\n",
    "# casos['is'] = None\n",
    "\n",
    "casos = casos[['ordem','ibge7','nome','sexo','idade','mun_resid','mun_atend','rs','laboratorio','dt_diag','comunicacao','is','obito','data_obito','excluir']]\n",
    "casos.dtypes"
   ]
  },
  {
   "cell_type": "code",
   "execution_count": 7,
   "metadata": {},
   "outputs": [],
   "source": [
    "writer = pd.ExcelWriter(\"novos_casos_confirmados.xlsx\",\n",
    "                        engine='xlsxwriter',\n",
    "                        datetime_format='dd/mm/yyyy',\n",
    "                        date_format='dd/mm/yyyy')\n",
    "\n",
    "casos.to_excel(writer,index=None)\n",
    "\n",
    "writer.save()\n",
    "writer.close()"
   ]
  }
 ]
}