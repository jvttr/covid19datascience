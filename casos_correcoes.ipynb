{
 "metadata": {
  "language_info": {
   "codemirror_mode": {
    "name": "ipython",
    "version": 3
   },
   "file_extension": ".py",
   "mimetype": "text/x-python",
   "name": "python",
   "nbconvert_exporter": "python",
   "pygments_lexer": "ipython3",
   "version": "3.8.5-final"
  },
  "orig_nbformat": 2,
  "kernelspec": {
   "name": "python3",
   "display_name": "Python 3",
   "language": "python"
  }
 },
 "nbformat": 4,
 "nbformat_minor": 2,
 "cells": [
  {
   "cell_type": "code",
   "execution_count": 1,
   "metadata": {},
   "outputs": [],
   "source": [
    "from sys import exit\n",
    "import numpy as np\n",
    "import pandas as pd\n",
    "from os.path import dirname, join, isfile, isdir\n",
    "from os import makedirs\n",
    "from datetime import datetime, timedelta\n",
    "from hashlib import sha256\n",
    "\n",
    "from bulletin.data.tb_pacientes import TbPacientes\n",
    "from bulletin.data.casos_confirmados import CasosConfirmados\n",
    "from bulletin.commom.utils import Timer\n",
    "from bulletin.commom import static\n",
    "from bulletin.commom.normalize import *\n",
    "\n",
    "pd.set_option('display.max_columns', None)\n",
    "\n",
    "output = join(\"output\",\"correcoes\",\"casos_confirmados\")\n",
    "\n",
    "if not isdir(output):\n",
    "    makedirs(output)\n",
    "\n",
    "timer = Timer()"
   ]
  },
  {
   "cell_type": "code",
   "execution_count": 2,
   "metadata": {},
   "outputs": [
    {
     "output_type": "execute_result",
     "data": {
      "text/plain": [
       "0.7819082736968994"
      ]
     },
     "metadata": {},
     "execution_count": 2
    }
   ],
   "source": [
    "timer.reset()\n",
    "casos_confirmados = CasosConfirmados()\n",
    "# casos_confirmados.update()\n",
    "timer.stop()"
   ]
  },
  {
   "cell_type": "code",
   "execution_count": 3,
   "metadata": {},
   "outputs": [
    {
     "output_type": "execute_result",
     "data": {
      "text/plain": [
       "(329782, 15)"
      ]
     },
     "metadata": {},
     "execution_count": 3
    }
   ],
   "source": [
    "casos = casos_confirmados.get_casos()\n",
    "casos.shape"
   ]
  },
  {
   "cell_type": "code",
   "execution_count": 4,
   "metadata": {},
   "outputs": [
    {
     "output_type": "execute_result",
     "data": {
      "text/plain": [
       "(6764, 11)"
      ]
     },
     "metadata": {},
     "execution_count": 4
    }
   ],
   "source": [
    "obitos = casos_confirmados.get_obitos()\n",
    "obitos.shape"
   ]
  },
  {
   "cell_type": "code",
   "execution_count": 5,
   "metadata": {},
   "outputs": [],
   "source": [
    "duplicados = casos.loc[casos.duplicated('hash')].index.tolist()\n",
    "# duplicados_less = casos.loc[casos['hash_less'].isin(casos['hash'])].index.tolist()\n",
    "# duplicados_more = casos.loc[casos['hash_more'].isin(casos['hash'])].index.tolist()\n",
    "# dropar = set(duplicados + duplicados_less + duplicados_more)\n",
    "# casos_dropar = casos.loc[dropar]\n",
    "# casos_obitos_nao_dropar = casos_dropar.loc[casos_dropar['hash'].isin(obitos['hash'])].index.tolist()\n",
    "# dropar = dropar - set(casos_obitos_nao_dropar)\n",
    "\n",
    "casos.loc[duplicados,'motivo_exclusao'] = 'DUPLICIDADE'\n",
    "casos.loc[duplicados,'hash'] = None\n",
    "casos.loc[duplicados,'hash_less'] = None\n",
    "casos.loc[duplicados,'hash_more'] = None"
   ]
  },
  {
   "cell_type": "code",
   "execution_count": 6,
   "metadata": {},
   "outputs": [
    {
     "output_type": "execute_result",
     "data": {
      "text/plain": [
       "(329782, 18)"
      ]
     },
     "metadata": {},
     "execution_count": 6
    }
   ],
   "source": [
    "obitos = obitos.rename(columns={'data_do_obito': 'data_cura_obito'})\n",
    "obitos['evolucao'] = 'OBITO'\n",
    "obitos = obitos[['evolucao','data_cura_obito','hash']]\n",
    "\n",
    "# casos.loc[casos['rs'].isnull(), 'mun_resid'] = casos.loc[casos['rs'].isnull(), 'mun_resid'] + '/' + casos.loc[casos['rs'].isnull(), 'uf_resid']\n",
    "\n",
    "casos = pd.merge(left=casos, right=obitos, on='hash', how='left')\n",
    "\n",
    "casos['rs'] = None\n",
    "casos['is'] = None\n",
    "\n",
    "casos = casos[['ordem','ibge7','nome','sexo','idade','mun_resid','mun_atend','rs','laboratorio','dt_diag','comunicacao','is','evolucao','data_cura_obito','motivo_exclusao']]\n",
    "casos.shape"
   ]
  },
  {
   "cell_type": "code",
   "execution_count": 11,
   "metadata": {},
   "outputs": [],
   "source": [
    "writer = pd.ExcelWriter(\"novos_casos_confirmados.xlsx\",\n",
    "                        engine='xlsxwriter',\n",
    "                        datetime_format='dd/mm/yyyy',\n",
    "                        date_format='dd/mm/yyyy')\n",
    "\n",
    "casos.to_excel(writer,index=None)\n",
    "\n",
    "writer.save()\n",
    "writer.close()"
   ]
  }
 ]
}