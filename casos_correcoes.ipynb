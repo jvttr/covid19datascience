{
 "metadata": {
  "language_info": {
   "codemirror_mode": {
    "name": "ipython",
    "version": 3
   },
   "file_extension": ".py",
   "mimetype": "text/x-python",
   "name": "python",
   "nbconvert_exporter": "python",
   "pygments_lexer": "ipython3",
   "version": "3.8.5-final"
  },
  "orig_nbformat": 2,
  "kernelspec": {
   "name": "python3",
   "display_name": "Python 3",
   "language": "python"
  }
 },
 "nbformat": 4,
 "nbformat_minor": 2,
 "cells": [
  {
   "cell_type": "code",
   "execution_count": null,
   "metadata": {},
   "outputs": [],
   "source": [
    "from sys import exit\n",
    "import numpy as np\n",
    "import pandas as pd\n",
    "from os.path import dirname, join, isfile, isdir\n",
    "from os import makedirs\n",
    "from datetime import datetime, timedelta\n",
    "from hashlib import sha256\n",
    "\n",
    "from bulletin.data.tb_pacientes import TbPacientes\n",
    "from bulletin.data.casos_confirmados import CasosConfirmados\n",
    "from bulletin.commom.utils import Timer\n",
    "from bulletin.commom import static\n",
    "from bulletin.commom.normalize import *\n",
    "\n",
    "pd.set_option('display.max_columns', None)\n",
    "\n",
    "output = join(\"output\",\"correcoes\",\"casos_confirmados\")\n",
    "\n",
    "if not isdir(output):\n",
    "    makedirs(output)\n",
    "\n",
    "timer = Timer()"
   ]
  },
  {
   "cell_type": "code",
   "execution_count": null,
   "metadata": {},
   "outputs": [],
   "source": [
    "timer.reset()\n",
    "tb = TbPacientes()\n",
    "tb.update()\n",
    "timer.stop()"
   ]
  },
  {
   "cell_type": "code",
   "execution_count": null,
   "metadata": {},
   "outputs": [],
   "source": [
    "timer.reset()\n",
    "casos_confirmados = CasosConfirmados()\n",
    "casos_confirmados.update()\n",
    "timer.stop()"
   ]
  },
  {
   "cell_type": "code",
   "execution_count": null,
   "metadata": {},
   "outputs": [],
   "source": [
    "# casos = casos_confirmados.fix_mun_resid_casos('mun_atend')\n",
    "# obitos = casos_confirmados.fix_mun_resid_obitos()\n",
    "casos = casos_confirmados.get_casos()\n",
    "casos = casos.drop(columns=['obito','data_obito','excluir'])\n",
    "obitos = casos_confirmados.get_obitos()\n",
    "\n",
    "casost = tb.get()\n",
    "\n",
    "print(f\"{len(casos)};{len(obitos)}\")\n",
    "obitos.loc[~obitos['hash'].isin(casos['hash'])]"
   ]
  },
  {
   "cell_type": "code",
   "execution_count": null,
   "metadata": {},
   "outputs": [],
   "source": [
    "obitos = obitos.rename(columns={'data_do_obito': 'data_obito'})\n",
    "obitos['obito'] = 'SIM'\n",
    "\n",
    "casos = pd.merge(left=casos, right=obitos[['obito','data_obito','hash']], on='hash', how='left')\n",
    "casos.loc[casos['obito'].isnull(), 'obito'] = 'NAO'\n",
    "# casos.loc[(casos['obito']==\"SIM\") & (casos.duplicated('hash')), 'obito'] = 'NAO'\n",
    "# casos.loc[(casos['obito']==\"SIM\") & (casos.duplicated('hash')), 'data_obito'] = pd.NaT\n",
    "\n",
    "print(f\"{len(casos)};{len(casos.loc[casos['obito']=='SIM'])}\")"
   ]
  },
  {
   "cell_type": "code",
   "execution_count": null,
   "metadata": {},
   "outputs": [],
   "source": [
    "casos['excluir'] = 'NAO'\n",
    "\n",
    "print(f\"Duplicados com a mesma idade: {casos.loc[casos.duplicated('hash', keep=False)].shape}\")\n",
    "print(f\"Duplicados com idade menos 1: {casos.loc[casos['hash_less'].isin(casos['hash'])].shape}\")\n",
    "casos.loc[casos['hash_less'].isin(casos['hash']), 'hash'] = casos.loc[casos['hash_less'].isin(casos['hash']), 'hash_less']\n",
    "print(f\"Duplicados com idade mais 1: {casos.loc[casos['hash_more'].isin(casos['hash'])].shape}\")\n",
    "casos.loc[casos['hash_more'].isin(casos['hash']), 'hash'] = casos.loc[casos['hash_more'].isin(casos['hash']), 'hash_more']\n",
    "print(f\"todos os duplicados: {casos.loc[casos.duplicated('hash', keep=False)].shape}\")\n",
    "duplicados = casos.loc[casos.duplicated('hash', keep=False)]\n",
    "print(f\"Valores unicos: {len(duplicados.groupby('hash'))}\")"
   ]
  },
  {
   "cell_type": "code",
   "execution_count": null,
   "metadata": {},
   "outputs": [],
   "source": [
    "casost['excluir'] = 'NAO'\n",
    "\n",
    "print(f\"Duplicados com a mesma idade: {casost.loc[casost.duplicated('hash', keep=False)].shape}\")\n",
    "print(f\"Duplicados com idade menos 1: {casost.loc[casost['hash_less'].isin(casost['hash'])].shape}\")\n",
    "casost.loc[casost['hash_less'].isin(casost['hash']), 'hash'] = casost.loc[casost['hash_less'].isin(casost['hash']), 'hash_less']\n",
    "print(f\"Duplicados com idade mais 1: {casost.loc[casost['hash_more'].isin(casost['hash'])].shape}\")\n",
    "casost.loc[casost['hash_more'].isin(casost['hash']), 'hash'] = casost.loc[casost['hash_more'].isin(casost['hash']), 'hash_more']\n",
    "print(f\"todos os duplicados: {casost.loc[casost.duplicated('hash', keep=False)].shape}\")\n",
    "duplicadost = casost.loc[casost.duplicated('hash', keep=False)]\n",
    "print(f\"Valores unicos: {len(duplicadost.groupby('hash'))}\")"
   ]
  },
  {
   "cell_type": "code",
   "execution_count": null,
   "metadata": {},
   "outputs": [],
   "source": [
    "if len(duplicados.groupby('hash')) > len(duplicadost.groupby('hash')):\n",
    "    print(len(duplicados.groupby('hash'))-len(duplicadost.groupby('hash')))\n",
    "    raise Exception(':/')\n",
    "elif len(duplicados.groupby('hash')) < len(duplicadost.groupby('hash')):\n",
    "    print(len(duplicadost.groupby('hash'))-len(duplicados.groupby('hash')))\n",
    "    raise Exception(':/')\n",
    "else: \n",
    "    print(':)')"
   ]
  },
  {
   "cell_type": "code",
   "execution_count": null,
   "metadata": {},
   "outputs": [],
   "source": [
    "def get_better(cc,tb):\n",
    "    if len(cc) != len(tb):\n",
    "        raise Exception('Error')\n",
    "\n",
    "    scores = np.zeros(len(cc))\n",
    "\n",
    "    for i, ((_, cc_row),(_, tb_row)) in enumerate(zip(cc.iterrows(),tb.iterrows())):\n",
    "\n",
    "        if tb_row['obito'] == 'SIM':\n",
    "            scores[i] = 10\n",
    "        elif tb_row['status'] == 'RECUPERADO':\n",
    "            scores[i] = 10\n",
    "\n",
    "    i = np.argmax(scores)\n",
    "    return cc.iloc[i].name, tb.iloc[i].name"
   ]
  },
  {
   "cell_type": "code",
   "execution_count": null,
   "metadata": {},
   "outputs": [],
   "source": [
    "manter = []\n",
    "tb_manter = []\n",
    "for cc_group, tb_group in zip(duplicados.groupby('hash'),duplicadost.groupby('hash')):\n",
    "    if cc_group[0] != tb_group[0]:\n",
    "        print(cc_group[0])\n",
    "        raise Exception(':/')\n",
    "    \n",
    "    idx, tb_idx = get_better(cc_group[1],tb_group[1])\n",
    "\n",
    "    manter.append(idx)\n",
    "    tb_manter.append(tb_idx)"
   ]
  },
  {
   "cell_type": "code",
   "execution_count": null,
   "metadata": {},
   "outputs": [],
   "source": [
    "duplicados = set(duplicados.index.tolist())\n",
    "duplicados = duplicados - set(manter)\n",
    "\n",
    "casos.loc[duplicados,'excluir'] = 'SIM'\n",
    "casos.loc[duplicados,'hash'] = None\n",
    "casos.loc[duplicados,'hash_less'] = None\n",
    "casos.loc[duplicados,'hash_more'] = None"
   ]
  },
  {
   "cell_type": "code",
   "execution_count": null,
   "metadata": {},
   "outputs": [],
   "source": [
    "duplicadost = set(duplicadost.index.tolist())\n",
    "duplicadost = duplicadost - set(tb_manter)\n",
    "\n",
    "casost.loc[duplicadost,'excluir'] = 'SIM'\n",
    "casost.loc[duplicadost,'hash'] = None\n",
    "casost.loc[duplicadost,'hash_less'] = None\n",
    "casost.loc[duplicadost,'hash_more'] = None"
   ]
  },
  {
   "cell_type": "code",
   "execution_count": null,
   "metadata": {},
   "outputs": [],
   "source": [
    "print(casos.loc[casos['excluir']=='SIM'].shape)\n",
    "print(casost.loc[casost['excluir']=='SIM'].shape)\n",
    "# exit()"
   ]
  },
  {
   "cell_type": "code",
   "execution_count": null,
   "metadata": {},
   "outputs": [],
   "source": [
    "new_casos = casos[['ordem','ibge7','nome','sexo','idade','mun_resid','mun_atend','rs','laboratorio','dt_diag','comunicacao','is','obito','data_obito','excluir']]\n",
    "new_obitos = obitos[['ordem','ibge7','nome','sexo','idade','municipio','rs','data_obito']]"
   ]
  },
  {
   "cell_type": "code",
   "execution_count": null,
   "metadata": {},
   "outputs": [],
   "source": [
    "writer = pd.ExcelWriter(join(output,\"Casos confirmados.xlsx\"),\n",
    "                        engine='xlsxwriter',\n",
    "                        datetime_format='dd/mm/yyyy',\n",
    "                        date_format='dd/mm/yyyy')\n",
    "\n",
    "new_casos.to_excel(writer,sheet_name='Casos confirmados',index=None)\n",
    "new_obitos.to_excel(writer,sheet_name='Obitos',index=None)\n",
    "\n",
    "writer.save()\n",
    "writer.close()"
   ]
  },
  {
   "cell_type": "code",
   "execution_count": 18,
   "metadata": {},
   "outputs": [],
   "source": [
    "# casost = casost.drop(columns=['hash','hash_less','hash_more','hash_atend','hash_less_atend','hash_more_atend'])\n",
    "\n",
    "casost['ibge_res_pr'] = casost['ibge_res_pr'].fillna('9999999')\n",
    "casost['ibge_atend_pr'] = casost['ibge_atend_pr'].fillna('9999999')\n",
    "\n",
    "casost = casost.loc[casost['excluir']=='NAO']\n",
    "casost = casost.drop(columns=['excluir'])\n",
    "\n",
    "writer = pd.ExcelWriter(join(output,\"novos_tb_pacientes.xlsx\"),\n",
    "                        engine='xlsxwriter',\n",
    "                        datetime_format='dd/mm/yyyy',\n",
    "                        date_format='dd/mm/yyyy')\n",
    "\n",
    "casost.to_excel(writer,index=None)\n",
    "\n",
    "writer.save()\n",
    "writer.close()"
   ]
  },
  {
   "cell_type": "code",
   "execution_count": null,
   "metadata": {},
   "outputs": [],
   "source": [
    "exit()\n",
    "# new_casos = casos[['ordem','ibge7','nome','sexo','idade','mun_resid','mun_atend','rs','laboratorio','dt_diag','comunicacao','is']]\n",
    "for grupo_casos, grupo_obitos in zip(new_casos.groupby('rs'),new_obitos.groupby('rs')):\n",
    "    writer = pd.ExcelWriter(join(output,f\"casos_confirmados_{int(grupo_casos[0])}a_regional.xlsx\"),\n",
    "                            engine='xlsxwriter',\n",
    "                            datetime_format='dd/mm/yyyy',\n",
    "                            date_format='dd/mm/yyyy')\n",
    "\n",
    "    grupo_casos[1].to_excel(writer,sheet_name='Casos confirmados',index=None)\n",
    "    grupo_obitos[1].to_excel(writer,sheet_name='Obitos',index=None)\n",
    "\n",
    "    writer.save()\n",
    "    writer.close()"
   ]
  },
  {
   "cell_type": "code",
   "execution_count": null,
   "metadata": {},
   "outputs": [],
   "source": [
    "writer = pd.ExcelWriter(join(output,f\"casos_confirmados_nao_residentes.xlsx\"),\n",
    "                        engine='xlsxwriter',\n",
    "                        datetime_format='dd/mm/yyyy',\n",
    "                        date_format='dd/mm/yyyy')\n",
    "\n",
    "new_casos.loc[new_casos['rs'].isnull()].to_excel(writer,sheet_name='Casos confirmados',index=None)\n",
    "new_obitos.loc[new_obitos['rs'].isnull()].to_excel(writer,sheet_name='Obitos',index=None)\n",
    "\n",
    "writer.save()\n",
    "writer.close()"
   ]
  }
 ]
}