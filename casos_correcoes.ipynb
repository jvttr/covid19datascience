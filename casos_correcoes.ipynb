{
 "metadata": {
  "language_info": {
   "codemirror_mode": {
    "name": "ipython",
    "version": 3
   },
   "file_extension": ".py",
   "mimetype": "text/x-python",
   "name": "python",
   "nbconvert_exporter": "python",
   "pygments_lexer": "ipython3",
   "version": "3.8.5-final"
  },
  "orig_nbformat": 2,
  "kernelspec": {
   "name": "python3",
   "display_name": "Python 3",
   "language": "python"
  }
 },
 "nbformat": 4,
 "nbformat_minor": 2,
 "cells": [
  {
   "cell_type": "code",
   "execution_count": 1,
   "metadata": {},
   "outputs": [],
   "source": [
    "from sys import exit\n",
    "import numpy as np\n",
    "import pandas as pd\n",
    "from os.path import dirname, join, isfile, isdir\n",
    "from os import makedirs\n",
    "from datetime import datetime, timedelta\n",
    "from hashlib import sha256\n",
    "\n",
    "from bulletin.data.tb_pacientes import TbPacientes\n",
    "from bulletin.data.casos_confirmados import CasosConfirmados\n",
    "from bulletin.commom.utils import Timer\n",
    "from bulletin.commom import static\n",
    "from bulletin.commom.normalize import *\n",
    "\n",
    "pd.set_option('display.max_columns', None)\n",
    "\n",
    "output = join(\"output\",\"correcoes\",\"casos_confirmados\")\n",
    "\n",
    "if not isdir(output):\n",
    "    makedirs(output)\n",
    "\n",
    "timer = Timer()"
   ]
  },
  {
   "cell_type": "code",
   "execution_count": 2,
   "metadata": {},
   "outputs": [
    {
     "output_type": "execute_result",
     "data": {
      "text/plain": [
       "1.0870769023895264"
      ]
     },
     "metadata": {},
     "execution_count": 2
    }
   ],
   "source": [
    "timer.reset()\n",
    "tb = TbPacientes()\n",
    "# tb.update()\n",
    "timer.stop()"
   ]
  },
  {
   "cell_type": "code",
   "execution_count": 3,
   "metadata": {},
   "outputs": [
    {
     "output_type": "execute_result",
     "data": {
      "text/plain": [
       "0.8776862621307373"
      ]
     },
     "metadata": {},
     "execution_count": 3
    }
   ],
   "source": [
    "timer.reset()\n",
    "casos_confirmados = CasosConfirmados()\n",
    "# casos_confirmados.update()\n",
    "timer.stop()"
   ]
  },
  {
   "cell_type": "code",
   "execution_count": 4,
   "metadata": {},
   "outputs": [
    {
     "output_type": "stream",
     "name": "stdout",
     "text": [
      "430873;8233\n"
     ]
    },
    {
     "output_type": "execute_result",
     "data": {
      "text/plain": [
       "Empty DataFrame\n",
       "Columns: [ordem, ibge7, nome, sexo, idade, municipio, rs, data_do_obito, hash, hash_less, hash_more]\n",
       "Index: []"
      ],
      "text/html": "<div>\n<style scoped>\n    .dataframe tbody tr th:only-of-type {\n        vertical-align: middle;\n    }\n\n    .dataframe tbody tr th {\n        vertical-align: top;\n    }\n\n    .dataframe thead th {\n        text-align: right;\n    }\n</style>\n<table border=\"1\" class=\"dataframe\">\n  <thead>\n    <tr style=\"text-align: right;\">\n      <th></th>\n      <th>ordem</th>\n      <th>ibge7</th>\n      <th>nome</th>\n      <th>sexo</th>\n      <th>idade</th>\n      <th>municipio</th>\n      <th>rs</th>\n      <th>data_do_obito</th>\n      <th>hash</th>\n      <th>hash_less</th>\n      <th>hash_more</th>\n    </tr>\n  </thead>\n  <tbody>\n  </tbody>\n</table>\n</div>"
     },
     "metadata": {},
     "execution_count": 4
    }
   ],
   "source": [
    "# casos = casos_confirmados.fix_mun_resid_casos('mun_atend')\n",
    "# obitos = casos_confirmados.fix_mun_resid_obitos()\n",
    "casos = casos_confirmados.get_casos()\n",
    "casos = casos.drop(columns=['obito','data_obito','excluir'])\n",
    "obitos = casos_confirmados.get_obitos()\n",
    "\n",
    "casost = tb.get()\n",
    "\n",
    "print(f\"{len(casos)};{len(obitos)}\")\n",
    "obitos.loc[~obitos['hash'].isin(casos['hash'])]"
   ]
  },
  {
   "cell_type": "code",
   "execution_count": 5,
   "metadata": {},
   "outputs": [
    {
     "output_type": "error",
     "ename": "KeyError",
     "evalue": "'obito'",
     "traceback": [
      "\u001b[1;31m---------------------------------------------------------------------------\u001b[0m",
      "\u001b[1;31mKeyError\u001b[0m                                  Traceback (most recent call last)",
      "\u001b[1;32m~\\anaconda3\\lib\\site-packages\\pandas\\core\\indexes\\base.py\u001b[0m in \u001b[0;36mget_loc\u001b[1;34m(self, key, method, tolerance)\u001b[0m\n\u001b[0;32m   2894\u001b[0m             \u001b[1;32mtry\u001b[0m\u001b[1;33m:\u001b[0m\u001b[1;33m\u001b[0m\u001b[1;33m\u001b[0m\u001b[0m\n\u001b[1;32m-> 2895\u001b[1;33m                 \u001b[1;32mreturn\u001b[0m \u001b[0mself\u001b[0m\u001b[1;33m.\u001b[0m\u001b[0m_engine\u001b[0m\u001b[1;33m.\u001b[0m\u001b[0mget_loc\u001b[0m\u001b[1;33m(\u001b[0m\u001b[0mcasted_key\u001b[0m\u001b[1;33m)\u001b[0m\u001b[1;33m\u001b[0m\u001b[1;33m\u001b[0m\u001b[0m\n\u001b[0m\u001b[0;32m   2896\u001b[0m             \u001b[1;32mexcept\u001b[0m \u001b[0mKeyError\u001b[0m \u001b[1;32mas\u001b[0m \u001b[0merr\u001b[0m\u001b[1;33m:\u001b[0m\u001b[1;33m\u001b[0m\u001b[1;33m\u001b[0m\u001b[0m\n",
      "\u001b[1;32mpandas\\_libs\\index.pyx\u001b[0m in \u001b[0;36mpandas._libs.index.IndexEngine.get_loc\u001b[1;34m()\u001b[0m\n",
      "\u001b[1;32mpandas\\_libs\\index.pyx\u001b[0m in \u001b[0;36mpandas._libs.index.IndexEngine.get_loc\u001b[1;34m()\u001b[0m\n",
      "\u001b[1;32mpandas\\_libs\\hashtable_class_helper.pxi\u001b[0m in \u001b[0;36mpandas._libs.hashtable.PyObjectHashTable.get_item\u001b[1;34m()\u001b[0m\n",
      "\u001b[1;32mpandas\\_libs\\hashtable_class_helper.pxi\u001b[0m in \u001b[0;36mpandas._libs.hashtable.PyObjectHashTable.get_item\u001b[1;34m()\u001b[0m\n",
      "\u001b[1;31mKeyError\u001b[0m: 'obito'",
      "\nThe above exception was the direct cause of the following exception:\n",
      "\u001b[1;31mKeyError\u001b[0m                                  Traceback (most recent call last)",
      "\u001b[1;32m<ipython-input-5-4523d0c176a5>\u001b[0m in \u001b[0;36m<module>\u001b[1;34m\u001b[0m\n\u001b[0;32m      5\u001b[0m \u001b[0mcasos\u001b[0m\u001b[1;33m.\u001b[0m\u001b[0mdrop\u001b[0m\u001b[1;33m(\u001b[0m\u001b[0mcolumns\u001b[0m\u001b[1;33m=\u001b[0m\u001b[1;33m[\u001b[0m\u001b[1;34m'excluir'\u001b[0m\u001b[1;33m]\u001b[0m\u001b[1;33m)\u001b[0m\u001b[1;33m\u001b[0m\u001b[1;33m\u001b[0m\u001b[0m\n\u001b[0;32m      6\u001b[0m \u001b[1;33m\u001b[0m\u001b[0m\n\u001b[1;32m----> 7\u001b[1;33m \u001b[0mcasos\u001b[0m\u001b[1;33m.\u001b[0m\u001b[0mloc\u001b[0m\u001b[1;33m[\u001b[0m\u001b[0mcasos\u001b[0m\u001b[1;33m[\u001b[0m\u001b[1;34m'obito'\u001b[0m\u001b[1;33m]\u001b[0m\u001b[1;33m.\u001b[0m\u001b[0misnull\u001b[0m\u001b[1;33m(\u001b[0m\u001b[1;33m)\u001b[0m\u001b[1;33m,\u001b[0m \u001b[1;34m'obito'\u001b[0m\u001b[1;33m]\u001b[0m \u001b[1;33m=\u001b[0m \u001b[1;34m'NAO'\u001b[0m\u001b[1;33m\u001b[0m\u001b[1;33m\u001b[0m\u001b[0m\n\u001b[0m\u001b[0;32m      8\u001b[0m \u001b[1;31m# casos.loc[(casos['obito']==\"SIM\") & (casos.duplicated('hash')), 'obito'] = 'NAO'\u001b[0m\u001b[1;33m\u001b[0m\u001b[1;33m\u001b[0m\u001b[1;33m\u001b[0m\u001b[0m\n\u001b[0;32m      9\u001b[0m \u001b[1;31m# casos.loc[(casos['obito']==\"SIM\") & (casos.duplicated('hash')), 'data_obito'] = pd.NaT\u001b[0m\u001b[1;33m\u001b[0m\u001b[1;33m\u001b[0m\u001b[1;33m\u001b[0m\u001b[0m\n",
      "\u001b[1;32m~\\anaconda3\\lib\\site-packages\\pandas\\core\\frame.py\u001b[0m in \u001b[0;36m__getitem__\u001b[1;34m(self, key)\u001b[0m\n\u001b[0;32m   2900\u001b[0m             \u001b[1;32mif\u001b[0m \u001b[0mself\u001b[0m\u001b[1;33m.\u001b[0m\u001b[0mcolumns\u001b[0m\u001b[1;33m.\u001b[0m\u001b[0mnlevels\u001b[0m \u001b[1;33m>\u001b[0m \u001b[1;36m1\u001b[0m\u001b[1;33m:\u001b[0m\u001b[1;33m\u001b[0m\u001b[1;33m\u001b[0m\u001b[0m\n\u001b[0;32m   2901\u001b[0m                 \u001b[1;32mreturn\u001b[0m \u001b[0mself\u001b[0m\u001b[1;33m.\u001b[0m\u001b[0m_getitem_multilevel\u001b[0m\u001b[1;33m(\u001b[0m\u001b[0mkey\u001b[0m\u001b[1;33m)\u001b[0m\u001b[1;33m\u001b[0m\u001b[1;33m\u001b[0m\u001b[0m\n\u001b[1;32m-> 2902\u001b[1;33m             \u001b[0mindexer\u001b[0m \u001b[1;33m=\u001b[0m \u001b[0mself\u001b[0m\u001b[1;33m.\u001b[0m\u001b[0mcolumns\u001b[0m\u001b[1;33m.\u001b[0m\u001b[0mget_loc\u001b[0m\u001b[1;33m(\u001b[0m\u001b[0mkey\u001b[0m\u001b[1;33m)\u001b[0m\u001b[1;33m\u001b[0m\u001b[1;33m\u001b[0m\u001b[0m\n\u001b[0m\u001b[0;32m   2903\u001b[0m             \u001b[1;32mif\u001b[0m \u001b[0mis_integer\u001b[0m\u001b[1;33m(\u001b[0m\u001b[0mindexer\u001b[0m\u001b[1;33m)\u001b[0m\u001b[1;33m:\u001b[0m\u001b[1;33m\u001b[0m\u001b[1;33m\u001b[0m\u001b[0m\n\u001b[0;32m   2904\u001b[0m                 \u001b[0mindexer\u001b[0m \u001b[1;33m=\u001b[0m \u001b[1;33m[\u001b[0m\u001b[0mindexer\u001b[0m\u001b[1;33m]\u001b[0m\u001b[1;33m\u001b[0m\u001b[1;33m\u001b[0m\u001b[0m\n",
      "\u001b[1;32m~\\anaconda3\\lib\\site-packages\\pandas\\core\\indexes\\base.py\u001b[0m in \u001b[0;36mget_loc\u001b[1;34m(self, key, method, tolerance)\u001b[0m\n\u001b[0;32m   2895\u001b[0m                 \u001b[1;32mreturn\u001b[0m \u001b[0mself\u001b[0m\u001b[1;33m.\u001b[0m\u001b[0m_engine\u001b[0m\u001b[1;33m.\u001b[0m\u001b[0mget_loc\u001b[0m\u001b[1;33m(\u001b[0m\u001b[0mcasted_key\u001b[0m\u001b[1;33m)\u001b[0m\u001b[1;33m\u001b[0m\u001b[1;33m\u001b[0m\u001b[0m\n\u001b[0;32m   2896\u001b[0m             \u001b[1;32mexcept\u001b[0m \u001b[0mKeyError\u001b[0m \u001b[1;32mas\u001b[0m \u001b[0merr\u001b[0m\u001b[1;33m:\u001b[0m\u001b[1;33m\u001b[0m\u001b[1;33m\u001b[0m\u001b[0m\n\u001b[1;32m-> 2897\u001b[1;33m                 \u001b[1;32mraise\u001b[0m \u001b[0mKeyError\u001b[0m\u001b[1;33m(\u001b[0m\u001b[0mkey\u001b[0m\u001b[1;33m)\u001b[0m \u001b[1;32mfrom\u001b[0m \u001b[0merr\u001b[0m\u001b[1;33m\u001b[0m\u001b[1;33m\u001b[0m\u001b[0m\n\u001b[0m\u001b[0;32m   2898\u001b[0m \u001b[1;33m\u001b[0m\u001b[0m\n\u001b[0;32m   2899\u001b[0m         \u001b[1;32mif\u001b[0m \u001b[0mtolerance\u001b[0m \u001b[1;32mis\u001b[0m \u001b[1;32mnot\u001b[0m \u001b[1;32mNone\u001b[0m\u001b[1;33m:\u001b[0m\u001b[1;33m\u001b[0m\u001b[1;33m\u001b[0m\u001b[0m\n",
      "\u001b[1;31mKeyError\u001b[0m: 'obito'"
     ]
    }
   ],
   "source": [
    "obitos = obitos.rename(columns={'data_do_obito': 'data_obito'})\n",
    "obitos['obito'] = 'SIM'\n",
    "\n",
    "casos = pd.merge(left=casos, right=obitos[['obito','data_obito','hash']], on='hash', how='left')\n",
    "casos.loc[casos['obito'].isnull(), 'obito'] = 'NAO'\n",
    "# casos.loc[(casos['obito']==\"SIM\") & (casos.duplicated('hash')), 'obito'] = 'NAO'\n",
    "# casos.loc[(casos['obito']==\"SIM\") & (casos.duplicated('hash')), 'data_obito'] = pd.NaT\n",
    "\n",
    "print(f\"{len(casos)};{len(casos.loc[casos['obito']=='SIM'])}\")"
   ]
  },
  {
   "cell_type": "code",
   "execution_count": 6,
   "metadata": {},
   "outputs": [
    {
     "output_type": "stream",
     "name": "stdout",
     "text": [
      "Duplicados com a mesma idade: (949, 21)\n",
      "Duplicados com idade menos 1: (1943, 21)\n",
      "Duplicados com idade mais 1: (4, 21)\n",
      "todos os duplicados: (4825, 21)\n",
      "Valores unicos: 2410\n"
     ]
    }
   ],
   "source": [
    "casos['excluir'] = 'NAO'\n",
    "\n",
    "print(f\"Duplicados com a mesma idade: {casos.loc[casos.duplicated('hash', keep=False)].shape}\")\n",
    "print(f\"Duplicados com idade menos 1: {casos.loc[casos['hash_less'].isin(casos['hash'])].shape}\")\n",
    "casos.loc[casos['hash_less'].isin(casos['hash']), 'hash'] = casos.loc[casos['hash_less'].isin(casos['hash']), 'hash_less']\n",
    "print(f\"Duplicados com idade mais 1: {casos.loc[casos['hash_more'].isin(casos['hash'])].shape}\")\n",
    "casos.loc[casos['hash_more'].isin(casos['hash']), 'hash'] = casos.loc[casos['hash_more'].isin(casos['hash']), 'hash_more']\n",
    "print(f\"todos os duplicados: {casos.loc[casos.duplicated('hash', keep=False)].shape}\")\n",
    "duplicados = casos.loc[casos.duplicated('hash', keep=False)]\n",
    "print(f\"Valores unicos: {len(duplicados.groupby('hash'))}\")"
   ]
  },
  {
   "cell_type": "code",
   "execution_count": 7,
   "metadata": {},
   "outputs": [
    {
     "output_type": "stream",
     "name": "stdout",
     "text": [
      "Duplicados com a mesma idade: (949, 49)\n",
      "Duplicados com idade menos 1: (1943, 49)\n",
      "Duplicados com idade mais 1: (4, 49)\n",
      "todos os duplicados: (4825, 49)\n",
      "Valores unicos: 2410\n"
     ]
    }
   ],
   "source": [
    "casost['excluir'] = 'NAO'\n",
    "\n",
    "print(f\"Duplicados com a mesma idade: {casost.loc[casost.duplicated('hash', keep=False)].shape}\")\n",
    "print(f\"Duplicados com idade menos 1: {casost.loc[casost['hash_less'].isin(casost['hash'])].shape}\")\n",
    "casost.loc[casost['hash_less'].isin(casost['hash']), 'hash'] = casost.loc[casost['hash_less'].isin(casost['hash']), 'hash_less']\n",
    "print(f\"Duplicados com idade mais 1: {casost.loc[casost['hash_more'].isin(casost['hash'])].shape}\")\n",
    "casost.loc[casost['hash_more'].isin(casost['hash']), 'hash'] = casost.loc[casost['hash_more'].isin(casost['hash']), 'hash_more']\n",
    "print(f\"todos os duplicados: {casost.loc[casost.duplicated('hash', keep=False)].shape}\")\n",
    "duplicadost = casost.loc[casost.duplicated('hash', keep=False)]\n",
    "print(f\"Valores unicos: {len(duplicadost.groupby('hash'))}\")"
   ]
  },
  {
   "cell_type": "code",
   "execution_count": 8,
   "metadata": {},
   "outputs": [
    {
     "output_type": "stream",
     "name": "stdout",
     "text": [
      ":)\n"
     ]
    }
   ],
   "source": [
    "if len(duplicados.groupby('hash')) > len(duplicadost.groupby('hash')):\n",
    "    print(len(duplicados.groupby('hash'))-len(duplicadost.groupby('hash')))\n",
    "    raise Exception(':/')\n",
    "elif len(duplicados.groupby('hash')) < len(duplicadost.groupby('hash')):\n",
    "    print(len(duplicadost.groupby('hash'))-len(duplicados.groupby('hash')))\n",
    "    raise Exception(':/')\n",
    "else: \n",
    "    print(':)')"
   ]
  },
  {
   "cell_type": "code",
   "execution_count": 9,
   "metadata": {},
   "outputs": [],
   "source": [
    "def get_better(cc,tb):\n",
    "    if len(cc) != len(tb):\n",
    "        raise Exception('Error')\n",
    "\n",
    "    scores = np.zeros(len(cc))\n",
    "\n",
    "    for i, ((_, cc_row),(_, tb_row)) in enumerate(zip(cc.iterrows(),tb.iterrows())):\n",
    "\n",
    "        if tb_row['obito'] == 'SIM':\n",
    "            scores[i] = 10\n",
    "        elif tb_row['status'] == 'RECUPERADO':\n",
    "            scores[i] = 10\n",
    "\n",
    "    i = np.argmax(scores)\n",
    "    return cc.iloc[i].name, tb.iloc[i].name"
   ]
  },
  {
   "cell_type": "code",
   "execution_count": 10,
   "metadata": {},
   "outputs": [],
   "source": [
    "manter = []\n",
    "tb_manter = []\n",
    "for cc_group, tb_group in zip(duplicados.groupby('hash'),duplicadost.groupby('hash')):\n",
    "    if cc_group[0] != tb_group[0]:\n",
    "        print(cc_group[0])\n",
    "        raise Exception(':/')\n",
    "    \n",
    "    idx, tb_idx = get_better(cc_group[1],tb_group[1])\n",
    "\n",
    "    manter.append(idx)\n",
    "    tb_manter.append(tb_idx)"
   ]
  },
  {
   "cell_type": "code",
   "execution_count": 11,
   "metadata": {},
   "outputs": [],
   "source": [
    "duplicados = set(duplicados.index.tolist())\n",
    "duplicados = duplicados - set(manter)\n",
    "\n",
    "casos.loc[duplicados,'excluir'] = 'SIM'\n",
    "casos.loc[duplicados,'hash'] = None\n",
    "casos.loc[duplicados,'hash_less'] = None\n",
    "casos.loc[duplicados,'hash_more'] = None"
   ]
  },
  {
   "cell_type": "code",
   "execution_count": 12,
   "metadata": {},
   "outputs": [],
   "source": [
    "duplicadost = set(duplicadost.index.tolist())\n",
    "duplicadost = duplicadost - set(tb_manter)\n",
    "\n",
    "casost.loc[duplicadost,'excluir'] = 'SIM'\n",
    "casost.loc[duplicadost,'hash'] = None\n",
    "casost.loc[duplicadost,'hash_less'] = None\n",
    "casost.loc[duplicadost,'hash_more'] = None"
   ]
  },
  {
   "cell_type": "code",
   "execution_count": 13,
   "metadata": {},
   "outputs": [
    {
     "output_type": "stream",
     "name": "stdout",
     "text": [
      "(2415, 21)\n(2415, 49)\n"
     ]
    }
   ],
   "source": [
    "print(casos.loc[casos['excluir']=='SIM'].shape)\n",
    "print(casost.loc[casost['excluir']=='SIM'].shape)\n",
    "# exit()"
   ]
  },
  {
   "cell_type": "code",
   "execution_count": 14,
   "metadata": {},
   "outputs": [],
   "source": [
    "new_casos = casos[['ordem','ibge7','nome','sexo','idade','mun_resid','mun_atend','rs','laboratorio','dt_diag','comunicacao','is','obito','data_obito','excluir']]\n",
    "new_obitos = obitos[['ordem','ibge7','nome','sexo','idade','municipio','rs','data_obito']]"
   ]
  },
  {
   "cell_type": "code",
   "execution_count": 15,
   "metadata": {},
   "outputs": [],
   "source": [
    "writer = pd.ExcelWriter(join(output,\"Casos confirmados.xlsx\"),\n",
    "                        engine='xlsxwriter',\n",
    "                        datetime_format='dd/mm/yyyy',\n",
    "                        date_format='dd/mm/yyyy')\n",
    "\n",
    "new_casos.to_excel(writer,sheet_name='Casos confirmados',index=None)\n",
    "new_obitos.to_excel(writer,sheet_name='Obitos',index=None)\n",
    "\n",
    "writer.save()\n",
    "writer.close()"
   ]
  },
  {
   "cell_type": "code",
   "execution_count": 16,
   "metadata": {},
   "outputs": [],
   "source": [
    "casost = casost.drop(columns=['hash','hash_less','hash_more','hash_atend','hash_less_atend','hash_more_atend'])\n",
    "\n",
    "casost['ibge_res_pr'] = casost['ibge_res_pr'].fillna('9999999')\n",
    "casost['ibge_atend_pr'] = casost['ibge_atend_pr'].fillna('9999999')\n",
    "\n",
    "casost = casost.loc[casost['excluir']=='NAO']\n",
    "casost = casost.drop(columns=['excluir'])\n",
    "\n",
    "writer = pd.ExcelWriter(join(output,\"novos_tb_pacientes.xlsx\"),\n",
    "                        engine='xlsxwriter',\n",
    "                        datetime_format='dd/mm/yyyy',\n",
    "                        date_format='dd/mm/yyyy')\n",
    "\n",
    "casost.to_excel(writer,index=None)\n",
    "\n",
    "writer.save()\n",
    "writer.close()"
   ]
  },
  {
   "cell_type": "code",
   "execution_count": 17,
   "metadata": {},
   "outputs": [
    {
     "output_type": "error",
     "ename": "SystemExit",
     "evalue": "",
     "traceback": [
      "An exception has occurred, use %tb to see the full traceback.\n",
      "\u001b[1;31mSystemExit\u001b[0m\n"
     ]
    }
   ],
   "source": [
    "exit()\n",
    "# new_casos = casos[['ordem','ibge7','nome','sexo','idade','mun_resid','mun_atend','rs','laboratorio','dt_diag','comunicacao','is']]\n",
    "for grupo_casos, grupo_obitos in zip(new_casos.groupby('rs'),new_obitos.groupby('rs')):\n",
    "    writer = pd.ExcelWriter(join(output,f\"casos_confirmados_{int(grupo_casos[0])}a_regional.xlsx\"),\n",
    "                            engine='xlsxwriter',\n",
    "                            datetime_format='dd/mm/yyyy',\n",
    "                            date_format='dd/mm/yyyy')\n",
    "\n",
    "    grupo_casos[1].to_excel(writer,sheet_name='Casos confirmados',index=None)\n",
    "    grupo_obitos[1].to_excel(writer,sheet_name='Obitos',index=None)\n",
    "\n",
    "    writer.save()\n",
    "    writer.close()"
   ]
  },
  {
   "cell_type": "code",
   "execution_count": null,
   "metadata": {},
   "outputs": [],
   "source": [
    "writer = pd.ExcelWriter(join(output,f\"casos_confirmados_nao_residentes.xlsx\"),\n",
    "                        engine='xlsxwriter',\n",
    "                        datetime_format='dd/mm/yyyy',\n",
    "                        date_format='dd/mm/yyyy')\n",
    "\n",
    "new_casos.loc[new_casos['rs'].isnull()].to_excel(writer,sheet_name='Casos confirmados',index=None)\n",
    "new_obitos.loc[new_obitos['rs'].isnull()].to_excel(writer,sheet_name='Obitos',index=None)\n",
    "\n",
    "writer.save()\n",
    "writer.close()"
   ]
  }
 ]
}