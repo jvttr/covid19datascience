{
 "metadata": {
  "language_info": {
   "codemirror_mode": {
    "name": "ipython",
    "version": 3
   },
   "file_extension": ".py",
   "mimetype": "text/x-python",
   "name": "python",
   "nbconvert_exporter": "python",
   "pygments_lexer": "ipython3",
   "version": "3.8.5-final"
  },
  "orig_nbformat": 2,
  "kernelspec": {
   "name": "python3",
   "display_name": "Python 3",
   "language": "python"
  }
 },
 "nbformat": 4,
 "nbformat_minor": 2,
 "cells": [
  {
   "cell_type": "code",
   "execution_count": null,
   "metadata": {},
   "outputs": [],
   "source": [
    "from sys import exit\n",
    "import numpy as np\n",
    "import pandas as pd\n",
    "from os.path import dirname, join, isfile, isdir\n",
    "from os import makedirs\n",
    "from datetime import datetime, timedelta\n",
    "from hashlib import sha256\n",
    "\n",
    "from bulletin.data.tb_pacientes import TbPacientes\n",
    "from bulletin.data.casos_confirmados import CasosConfirmados\n",
    "from bulletin.commom.utils import Timer\n",
    "from bulletin.commom import static\n",
    "from bulletin.commom.normalize import *\n",
    "\n",
    "pd.set_option('display.max_columns', None)\n",
    "\n",
    "output = join(\"output\",\"correcoes\",\"casos_confirmados\")\n",
    "\n",
    "if not isdir(output):\n",
    "    makedirs(output)\n",
    "\n",
    "timer = Timer()"
   ]
  },
  {
   "cell_type": "code",
   "execution_count": null,
   "metadata": {},
   "outputs": [],
   "source": [
    "timer.reset()\n",
    "casos_confirmados = CasosConfirmados()\n",
    "casos_confirmados.update()\n",
    "timer.stop()"
   ]
  },
  {
   "cell_type": "code",
   "execution_count": null,
   "metadata": {},
   "outputs": [],
   "source": [
    "casos = casos_confirmados.get_casos()\n",
    "casos.shape"
   ]
  },
  {
   "cell_type": "code",
   "execution_count": null,
   "metadata": {},
   "outputs": [],
   "source": [
    "def get_est(mun):\n",
    "    est = 'ERRO'\n",
    "    municipios = static.municipios.loc[static.municipios['uf']!='PR']\n",
    "    municipios['municipio_sesa'] = municipios['municipio_sesa'].apply(lambda x: normalize_hash(normalize_text(x)))\n",
    "    municipios['municipio_ibge'] = municipios['municipio_ibge'].apply(lambda x: normalize_hash(normalize_text(x)))\n",
    "\n",
    "    municipio = municipios.loc[municipios['municipio_sesa']==normalize_hash(mun)]\n",
    "    if len(municipio) == 0:\n",
    "        municipio = municipios.loc[municipios['municipio_ibge']==normalize_hash(mun)]\n",
    "\n",
    "    if len(municipio) != 0:\n",
    "        est = municipio.iloc[0]['uf']\n",
    "\n",
    "    return est\n",
    "    "
   ]
  },
  {
   "cell_type": "code",
   "execution_count": null,
   "metadata": {},
   "outputs": [],
   "source": [
    "obitos = casos_confirmados.get_obitos()\n",
    "\n",
    "obitos.loc[obitos['rs'].isnull(), 'uf'] = obitos.loc[obitos['rs'].isnull(), 'municipio'].apply(get_est)\n",
    "\n",
    "obitos.loc[obitos['rs'].isnull(), 'municipio'] = obitos.loc[obitos['rs'].isnull(), 'municipio'] + '/' + obitos.loc[obitos['rs'].isnull(), 'uf']\n",
    "\n",
    "obitos.to_excel(join(output,'obitos_mun_corrigidos.xlsx'))\n",
    "obitos.loc[obitos['rs'].isnull()]"
   ]
  },
  {
   "cell_type": "code",
   "execution_count": null,
   "metadata": {},
   "outputs": [],
   "source": [
    "obitos.loc[obitos.duplicated('hash')].append(obitos.loc[obitos['hash'].isin(obitos['hash_less'])],ignore_index=True).append(obitos.loc[obitos['hash'].isin(obitos['hash_more'])],ignore_index=True).to_excel(join(output,'obitos_duplicados.xlsx'))"
   ]
  },
  {
   "cell_type": "code",
   "execution_count": null,
   "metadata": {},
   "outputs": [],
   "source": [
    "# obitos_nao_em_casos = obitos.loc[~obitos['hash'].isin(casos['hash'])]\n",
    "# obitos_nao_em_casos.to_excel(join(output,'obitos_nao_em_casos.xlsx'))\n",
    "\n",
    "# len(obitos_nao_em_casos)\n",
    "\n",
    "# casos_idade_errada_less = obitos_nao_em_casos.loc[obitos['hash_less'].isin(casos['hash']), 'hash_less'].values.tolist()\n",
    "# casos_idade_errada_more = obitos_nao_em_casos.loc[obitos['hash_more'].isin(casos['hash']), 'hash_more'].values.tolist()\n",
    "\n",
    "# casos.loc[casos['hash'].isin(casos_idade_errada_less), 'idade'] -=1\n",
    "\n",
    "# casos.loc[casos['hash'].isin(casos_idade_errada_less), 'hash'] = casos.loc[casos['hash'].isin(casos_idade_errada_less)].apply(lambda row: sha256(str.encode(normalize_hash(row['nome'])+str(row['idade'])+normalize_hash(row['mun_resid']))).hexdigest(), axis=1)\n",
    "# casos.loc[casos['hash'].isin(casos_idade_errada_less), 'hash_less'] = casos.loc[casos['hash'].isin(casos_idade_errada_less)].apply(lambda row: sha256(str.encode(normalize_hash(row['nome'])+str(row['idade']-1)+normalize_hash(row['mun_resid']))).hexdigest(), axis=1)\n",
    "# casos.loc[casos['hash'].isin(casos_idade_errada_less), 'hash_more'] = casos.loc[casos['hash'].isin(casos_idade_errada_less)].apply(lambda row: sha256(str.encode(normalize_hash(row['nome'])+str(row['idade']+1)+normalize_hash(row['mun_resid']))).hexdigest(), axis=1)\n",
    "\n",
    "\n",
    "# casos.loc[casos['hash'].isin(casos_idade_errada_more), 'idade'] +=1\n",
    "# casos.loc[casos['hash'].isin(casos_idade_errada_more), 'hash'] = casos.loc[casos['hash'].isin(casos_idade_errada_more)].apply(lambda row: sha256(str.encode(normalize_hash(row['nome'])+str(row['idade'])+normalize_hash(row['mun_resid']))).hexdigest(), axis=1)\n",
    "# casos.loc[casos['hash'].isin(casos_idade_errada_more), 'hash_less'] = casos.loc[casos['hash'].isin(casos_idade_errada_more)].apply(lambda row: sha256(str.encode(normalize_hash(row['nome'])+str(row['idade']-1)+normalize_hash(row['mun_resid']))).hexdigest(), axis=1)\n",
    "# casos.loc[casos['hash'].isin(casos_idade_errada_more), 'hash_more'] = casos.loc[casos['hash'].isin(casos_idade_errada_more)].apply(lambda row: sha256(str.encode(normalize_hash(row['nome'])+str(row['idade']+1)+normalize_hash(row['mun_resid']))).hexdigest(), axis=1)\n",
    "\n",
    "# obitos.loc[~obitos['hash'].isin(casos['hash'])]"
   ]
  },
  {
   "cell_type": "code",
   "execution_count": null,
   "metadata": {},
   "outputs": [],
   "source": [
    "exit()\n",
    "duplicados = casos.loc[casos.duplicated('hash')].index.tolist()\n",
    "duplicados_less = casos.loc[casos['hash'].isin(casos['hash_less'])].index.tolist()\n",
    "duplicados_more = casos.loc[casos['hash'].isin(casos['hash_more'])].index.tolist()\n",
    "dropar = set(duplicados + duplicados_less + duplicados_more)\n",
    "casos.loc[dropar].to_excel('casos_duplicados.xlsx')\n",
    "print(len(dropar))\n",
    "casos = casos.drop(index=dropar)\n",
    "len(casos)"
   ]
  },
  {
   "cell_type": "code",
   "execution_count": null,
   "metadata": {},
   "outputs": [],
   "source": [
    "duplicados = casos.loc[casos.duplicated('hash')].index.tolist()\n",
    "duplicados_less = casos.loc[casos['hash'].isin(casos['hash_less'])].index.tolist()\n",
    "duplicados_more = casos.loc[casos['hash'].isin(casos['hash_more'])].index.tolist()\n",
    "dropar = set(duplicados + duplicados_less + duplicados_more)\n",
    "casos.loc[dropar].to_excel('obitos_duplicados_casos_confirmados.xlsx')\n",
    "len(dropar)"
   ]
  },
  {
   "cell_type": "code",
   "execution_count": null,
   "metadata": {},
   "outputs": [],
   "source": [
    "writer = pd.ExcelWriter(\"novos_casos_confirmados.xlsx\",\n",
    "                        engine='xlsxwriter',\n",
    "                        datetime_format='dd/mm/yyyy',\n",
    "                        date_format='dd/mm/yyyy')\n",
    "\n",
    "casos.sort_values('nome').to_excel(writer,index=None)\n",
    "\n",
    "writer.save()\n",
    "writer.close()"
   ]
  }
 ]
}