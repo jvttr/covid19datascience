{
 "metadata": {
  "language_info": {
   "codemirror_mode": {
    "name": "ipython",
    "version": 3
   },
   "file_extension": ".py",
   "mimetype": "text/x-python",
   "name": "python",
   "nbconvert_exporter": "python",
   "pygments_lexer": "ipython3",
   "version": "3.8.5-final"
  },
  "orig_nbformat": 2,
  "kernelspec": {
   "name": "python3",
   "display_name": "Python 3",
   "language": "python"
  }
 },
 "nbformat": 4,
 "nbformat_minor": 2,
 "cells": [
  {
   "cell_type": "code",
   "execution_count": 1,
   "metadata": {},
   "outputs": [],
   "source": [
    "from sys import exit\n",
    "import numpy as np\n",
    "import pandas as pd\n",
    "from os.path import dirname, join, isfile, isdir\n",
    "from os import makedirs\n",
    "from datetime import datetime, timedelta\n",
    "from hashlib import sha256\n",
    "\n",
    "from bulletin.data.tb_pacientes import TbPacientes\n",
    "from bulletin.data.casos_confirmados import CasosConfirmados\n",
    "from bulletin.commom.utils import Timer\n",
    "from bulletin.commom import static\n",
    "from bulletin.commom.normalize import *\n",
    "\n",
    "pd.set_option('display.max_columns', None)\n",
    "\n",
    "output = join(\"output\",\"correcoes\",\"casos_confirmados\")\n",
    "\n",
    "if not isdir(output):\n",
    "    makedirs(output)\n",
    "\n",
    "timer = Timer()"
   ]
  },
  {
   "cell_type": "code",
   "execution_count": 2,
   "metadata": {},
   "outputs": [
    {
     "output_type": "stream",
     "name": "stdout",
     "text": [
      "Casos confirmados excluidos: 0\n",
      "Obitos confirmados excluidos: 0\n"
     ]
    },
    {
     "output_type": "execute_result",
     "data": {
      "text/plain": [
       "165.62779355049133"
      ]
     },
     "metadata": {},
     "execution_count": 2
    }
   ],
   "source": [
    "timer.reset()\n",
    "casos_confirmados = CasosConfirmados()\n",
    "casos_confirmados.update()\n",
    "timer.stop()"
   ]
  },
  {
   "cell_type": "code",
   "execution_count": 3,
   "metadata": {},
   "outputs": [
    {
     "output_type": "execute_result",
     "data": {
      "text/plain": [
       "(327299, 16)"
      ]
     },
     "metadata": {},
     "execution_count": 3
    }
   ],
   "source": [
    "casos = casos_confirmados.get_casos()\n",
    "casos.shape"
   ]
  },
  {
   "cell_type": "code",
   "execution_count": 4,
   "metadata": {},
   "outputs": [],
   "source": [
    "casos = casos_confirmados.get_casos()\n",
    "\n",
    "casos['ibge7'] = casos['ibge7'].apply(lambda x: str(x) if x != 99 else None)\n",
    "casos['ibge'] = casos['ibge7'].apply(normalize_igbe)\n",
    "\n",
    "casos_sem_ibge = casos.loc[casos['ibge'].isnull()].copy()\n",
    "casos_sem_ibge = casos_sem_ibge.drop(columns=['ibge'])\n",
    "casos_sem_ibge['mun_hash'] = casos_sem_ibge['mun_resid'].apply(normalize_hash)\n",
    "\n",
    "\n",
    "municipios = static.municipios.copy()\n",
    "\n",
    "casos_com_ibge = casos.loc[casos['ibge'].notnull()].copy()\n",
    "casos_com_ibge = pd.merge(left=casos_com_ibge, right=municipios, how='left', on='ibge')\n",
    "\n",
    "municipios['mun_hash'] = municipios['municipio_sesa'].apply(lambda x: normalize_hash(normalize_text(x)))\n",
    "municipios_hash = municipios.drop_duplicates('mun_hash')\n",
    "casos_sem_ibge = pd.merge(left=casos_sem_ibge, right=municipios_hash, how='left', on='mun_hash')\n",
    "casos_sem_ibge = casos_sem_ibge.drop(columns=['mun_hash'])\n",
    "\n",
    "casos_com_ibge = casos_com_ibge.append(casos_sem_ibge.loc[casos_sem_ibge['ibge'].notnull()]).sort_values('ordem')\n",
    "\n",
    "casos_sem_ibge = casos_sem_ibge.loc[casos_sem_ibge['ibge'].isnull()].copy()\n",
    "casos_sem_ibge = casos_sem_ibge.drop(columns=[\"cod_uf\", \"uf\", \"estado\", \"ibge\", \"municipio_sesa\", \"municipio_ibge\"])\n",
    "casos_sem_ibge['mun_hash'] = casos_sem_ibge['mun_resid'].apply(normalize_hash)\n",
    "\n",
    "municipios['mun_hash'] = municipios['municipio_ibge'].apply(lambda x: normalize_hash(normalize_text(x)))\n",
    "municipios_hash = municipios.drop_duplicates('mun_hash')\n",
    "\n",
    "casos_sem_ibge = pd.merge(left=casos_sem_ibge, right=municipios_hash, how='left', on='mun_hash')\n",
    "casos = casos_com_ibge.append(casos_sem_ibge).sort_values('ordem')\n",
    "\n",
    "casos['ibge'] = casos['ibge'].fillna('99')\n",
    "casos['ibge'] = casos['ibge'].apply(lambda x: str(x).zfill(2) if x != '99' else None)\n",
    "\n",
    "casos = casos[['ordem','ibge7','ibge','nome','sexo','idade','mun_resid','uf_resid','municipio_sesa','municipio_ibge','uf','mun_atend','rs','laboratorio','dt_diag','comunicacao','is','hash','hash_less','hash_more']]"
   ]
  },
  {
   "cell_type": "code",
   "execution_count": 15,
   "metadata": {},
   "outputs": [
    {
     "output_type": "execute_result",
     "data": {
      "text/plain": [
       "       ordem ibge7    ibge                                  nome sexo  idade  \\\n",
       "0          6  None  355030         ITALO FERNANDO TROMBINI FILHO    M     28   \n",
       "1         69  None  530010                     LUCIANO PUCHALSKI    M     59   \n",
       "2         92  None  355030          JOAO HENRIQUE FONZAR BEGNINI    M     37   \n",
       "3        165  None  330330              LUCINEIA ALVES DE ANHAIA    F     38   \n",
       "4        208  None  355030                  PAULO FRANCISCO NETO    M     25   \n",
       "...      ...   ...     ...                                   ...  ...    ...   \n",
       "2845  325450  None  353440                        LUANA DA SILVA    F     28   \n",
       "2846  325867  None  420530                MARIANA MARTINS MORAIS    F     84   \n",
       "2847  326320  None  510180                  PAULO ROBERTO CARRER    M     43   \n",
       "2848  326591  None  292880                 ROQUE PEREIRA FREITAS    M     40   \n",
       "2849  326669  None  320320  ROZIANI HANTEQUESTT CORDEIRO DE LIMA    F     53   \n",
       "\n",
       "               mun_resid uf_resid    municipio_sesa    municipio_ibge  uf  \\\n",
       "0              SAO PAULO       SP          SAOPAULO          SAOPAULO  SP   \n",
       "1               BRASILIA       DF          BRASILIA          BRASILIA  DF   \n",
       "2              SAO PAULO       SP          SAOPAULO          SAOPAULO  SP   \n",
       "3                NITEROI       RJ           NITEROI           NITEROI  RJ   \n",
       "4              SAO PAULO       SP          SAOPAULO          SAOPAULO  SP   \n",
       "...                  ...      ...               ...               ...  ..   \n",
       "2845              OSASCO       SP            OSASCO            OSASCO  SP   \n",
       "2846  FAXINAL DOS GUEDES       SC  FAXINALDOSGUEDES  FAXINALDOSGUEDES  SC   \n",
       "2847     BARRA DO GARCAS       MT     BARRADOGARCAS     BARRADOGARCAS  MT   \n",
       "2848       SANTO ESTEVAO       BA      SANTOESTEVAO      SANTOESTEVAO  BA   \n",
       "2849            LINHARES       ES          LINHARES          LINHARES  ES   \n",
       "\n",
       "           mun_atend    rs                                        laboratorio  \\\n",
       "0           CURITIBA  None                                         GENOPRIMER   \n",
       "1           CURITIBA  None                                              LACEN   \n",
       "2              CAMBE  None                                              LACEN   \n",
       "3      MANFRINOPOLIS  None                                              LACEN   \n",
       "4           CURITIBA  None                                              LACEN   \n",
       "...              ...   ...                                                ...   \n",
       "2845        LONDRINA  None                        COVID-19 BIOLOGIA MOLECULAR   \n",
       "2846     BOM SUCESSO  None         TESTE RAPIDO ANTIGENO (IMUNOCROMATOGRAFIA)   \n",
       "2847      MEDIANEIRA  None  TESTE RAPIDO IGM/IGG NAO DISCRIMINATORIO (IMUN...   \n",
       "2848  TELEMACO BORBA  None         TESTE RAPIDO ANTIGENO (IMUNOCROMATOGRAFIA)   \n",
       "2849             NaN  None                           DETECT SARS-COV-2 RT-PCR   \n",
       "\n",
       "        dt_diag comunicacao                   is  \\\n",
       "0    2020-03-16         NaT                  NaN   \n",
       "1    2020-03-23  2020-03-24  2020-03-13 00:00:00   \n",
       "2    2020-03-25  2020-03-25  2020-03-17 00:00:00   \n",
       "3    2020-03-31  2020-03-31  2020-03-22 00:00:00   \n",
       "4    2020-03-31  2020-04-01  2020-03-12 00:00:00   \n",
       "...         ...         ...                  ...   \n",
       "2845 2020-12-11  2020-12-12  2020-12-06 00:00:00   \n",
       "2846 2020-12-07  2020-12-12  2020-11-30 00:00:00   \n",
       "2847 2020-12-11  2020-12-12                  NaN   \n",
       "2848 2020-12-11  2020-12-12                  NaN   \n",
       "2849 2020-12-04  2020-12-12  2020-11-28 00:00:00   \n",
       "\n",
       "                                                   hash  \\\n",
       "0     7a6331bb13dc13aeb8bf7e51304aad6abf81461c88cf3f...   \n",
       "1     a068784f769e79de5e23df41d6ef38c6b657a6cef49818...   \n",
       "2     cd1ab1706dc270c0cc2d5a37d4a6921b75c6c0a165f219...   \n",
       "3     cc8b7fcba9ef0059612a861316829d24a7e492ddb83415...   \n",
       "4     1572142b2c40cc8cdbf30b27296bbb873ca7062e1ad5c1...   \n",
       "...                                                 ...   \n",
       "2845  51c008821816ce47f3dc4c7d3cc68b9f59304e83453591...   \n",
       "2846  f3bdab11170737d02bc2437aaef91356dcddc112a0ed06...   \n",
       "2847  f446bc73c16bb9219678134bad66dbca6ad8922b5fa509...   \n",
       "2848  cc90e818a0d64e3e4579b1907aae300ab2c8391c97a391...   \n",
       "2849  ae937d06ba338dd3983a8352b18927f68b23cb6fcbd97b...   \n",
       "\n",
       "                                              hash_less  \\\n",
       "0     2659a4ba6fc7cf45e2f1765001890bffe941003d9bd95d...   \n",
       "1     f5ed75c0e3ecf244dbc8c4ca6496eec9910b16d3e11fdb...   \n",
       "2     0555f630ab144fe80c4d415d0f1341508ba7420954362d...   \n",
       "3     ac369bd6ac91cc5bdca43c21bc03dde0ee04dfcc18209b...   \n",
       "4     2e682174bba1bfe0ea7fb723710c51cc07b723ca78fbe2...   \n",
       "...                                                 ...   \n",
       "2845  3f110580973df5da8cb06e35c81a4057ee9b15b87ed422...   \n",
       "2846  ea0762fcbd642c251e962ea7d87bf93bdb2f8b5a636a49...   \n",
       "2847  a9b623c79e736591e546c0712b973dfcb9324360af58cc...   \n",
       "2848  f2a6019f37b940853394c54a0e7816274f145bec02e258...   \n",
       "2849  0e8e96cd2e59156e04107e2808392d66cb9d8318439409...   \n",
       "\n",
       "                                              hash_more  \n",
       "0     48e1eb28cbc4e32d8ebb702a2698085a0ff0dc2676805e...  \n",
       "1     04537895b26edce4b027ae7643974fae44c0e1e73baf70...  \n",
       "2     c01929a5592970483132bf7aa349eae5121a1e2463bb7d...  \n",
       "3     5f8ab5b75a44563a7e22841b044b8fa02a44311bb720b9...  \n",
       "4     be414eec9caf1f82a4c4790c67408d99ef679fbf74f2ec...  \n",
       "...                                                 ...  \n",
       "2845  e5399ea3d3e83bd69281c2a612b25cc65450b471d8ef91...  \n",
       "2846  a922bed323d8123f759cac6b5e3e5bcbc81cb653bbb35b...  \n",
       "2847  9ebe4c7b26b4be2baf38823b36d306f35ce91561e0fc5a...  \n",
       "2848  8f5320a256a2732daf27c7954f1f616f6a84ad68bdbf76...  \n",
       "2849  b06663fc590892fca1c09154c32317797a2d41d6310f38...  \n",
       "\n",
       "[2832 rows x 20 columns]"
      ],
      "text/html": "<div>\n<style scoped>\n    .dataframe tbody tr th:only-of-type {\n        vertical-align: middle;\n    }\n\n    .dataframe tbody tr th {\n        vertical-align: top;\n    }\n\n    .dataframe thead th {\n        text-align: right;\n    }\n</style>\n<table border=\"1\" class=\"dataframe\">\n  <thead>\n    <tr style=\"text-align: right;\">\n      <th></th>\n      <th>ordem</th>\n      <th>ibge7</th>\n      <th>ibge</th>\n      <th>nome</th>\n      <th>sexo</th>\n      <th>idade</th>\n      <th>mun_resid</th>\n      <th>uf_resid</th>\n      <th>municipio_sesa</th>\n      <th>municipio_ibge</th>\n      <th>uf</th>\n      <th>mun_atend</th>\n      <th>rs</th>\n      <th>laboratorio</th>\n      <th>dt_diag</th>\n      <th>comunicacao</th>\n      <th>is</th>\n      <th>hash</th>\n      <th>hash_less</th>\n      <th>hash_more</th>\n    </tr>\n  </thead>\n  <tbody>\n    <tr>\n      <th>0</th>\n      <td>6</td>\n      <td>None</td>\n      <td>355030</td>\n      <td>ITALO FERNANDO TROMBINI FILHO</td>\n      <td>M</td>\n      <td>28</td>\n      <td>SAO PAULO</td>\n      <td>SP</td>\n      <td>SAOPAULO</td>\n      <td>SAOPAULO</td>\n      <td>SP</td>\n      <td>CURITIBA</td>\n      <td>None</td>\n      <td>GENOPRIMER</td>\n      <td>2020-03-16</td>\n      <td>NaT</td>\n      <td>NaN</td>\n      <td>7a6331bb13dc13aeb8bf7e51304aad6abf81461c88cf3f...</td>\n      <td>2659a4ba6fc7cf45e2f1765001890bffe941003d9bd95d...</td>\n      <td>48e1eb28cbc4e32d8ebb702a2698085a0ff0dc2676805e...</td>\n    </tr>\n    <tr>\n      <th>1</th>\n      <td>69</td>\n      <td>None</td>\n      <td>530010</td>\n      <td>LUCIANO PUCHALSKI</td>\n      <td>M</td>\n      <td>59</td>\n      <td>BRASILIA</td>\n      <td>DF</td>\n      <td>BRASILIA</td>\n      <td>BRASILIA</td>\n      <td>DF</td>\n      <td>CURITIBA</td>\n      <td>None</td>\n      <td>LACEN</td>\n      <td>2020-03-23</td>\n      <td>2020-03-24</td>\n      <td>2020-03-13 00:00:00</td>\n      <td>a068784f769e79de5e23df41d6ef38c6b657a6cef49818...</td>\n      <td>f5ed75c0e3ecf244dbc8c4ca6496eec9910b16d3e11fdb...</td>\n      <td>04537895b26edce4b027ae7643974fae44c0e1e73baf70...</td>\n    </tr>\n    <tr>\n      <th>2</th>\n      <td>92</td>\n      <td>None</td>\n      <td>355030</td>\n      <td>JOAO HENRIQUE FONZAR BEGNINI</td>\n      <td>M</td>\n      <td>37</td>\n      <td>SAO PAULO</td>\n      <td>SP</td>\n      <td>SAOPAULO</td>\n      <td>SAOPAULO</td>\n      <td>SP</td>\n      <td>CAMBE</td>\n      <td>None</td>\n      <td>LACEN</td>\n      <td>2020-03-25</td>\n      <td>2020-03-25</td>\n      <td>2020-03-17 00:00:00</td>\n      <td>cd1ab1706dc270c0cc2d5a37d4a6921b75c6c0a165f219...</td>\n      <td>0555f630ab144fe80c4d415d0f1341508ba7420954362d...</td>\n      <td>c01929a5592970483132bf7aa349eae5121a1e2463bb7d...</td>\n    </tr>\n    <tr>\n      <th>3</th>\n      <td>165</td>\n      <td>None</td>\n      <td>330330</td>\n      <td>LUCINEIA ALVES DE ANHAIA</td>\n      <td>F</td>\n      <td>38</td>\n      <td>NITEROI</td>\n      <td>RJ</td>\n      <td>NITEROI</td>\n      <td>NITEROI</td>\n      <td>RJ</td>\n      <td>MANFRINOPOLIS</td>\n      <td>None</td>\n      <td>LACEN</td>\n      <td>2020-03-31</td>\n      <td>2020-03-31</td>\n      <td>2020-03-22 00:00:00</td>\n      <td>cc8b7fcba9ef0059612a861316829d24a7e492ddb83415...</td>\n      <td>ac369bd6ac91cc5bdca43c21bc03dde0ee04dfcc18209b...</td>\n      <td>5f8ab5b75a44563a7e22841b044b8fa02a44311bb720b9...</td>\n    </tr>\n    <tr>\n      <th>4</th>\n      <td>208</td>\n      <td>None</td>\n      <td>355030</td>\n      <td>PAULO FRANCISCO NETO</td>\n      <td>M</td>\n      <td>25</td>\n      <td>SAO PAULO</td>\n      <td>SP</td>\n      <td>SAOPAULO</td>\n      <td>SAOPAULO</td>\n      <td>SP</td>\n      <td>CURITIBA</td>\n      <td>None</td>\n      <td>LACEN</td>\n      <td>2020-03-31</td>\n      <td>2020-04-01</td>\n      <td>2020-03-12 00:00:00</td>\n      <td>1572142b2c40cc8cdbf30b27296bbb873ca7062e1ad5c1...</td>\n      <td>2e682174bba1bfe0ea7fb723710c51cc07b723ca78fbe2...</td>\n      <td>be414eec9caf1f82a4c4790c67408d99ef679fbf74f2ec...</td>\n    </tr>\n    <tr>\n      <th>...</th>\n      <td>...</td>\n      <td>...</td>\n      <td>...</td>\n      <td>...</td>\n      <td>...</td>\n      <td>...</td>\n      <td>...</td>\n      <td>...</td>\n      <td>...</td>\n      <td>...</td>\n      <td>...</td>\n      <td>...</td>\n      <td>...</td>\n      <td>...</td>\n      <td>...</td>\n      <td>...</td>\n      <td>...</td>\n      <td>...</td>\n      <td>...</td>\n      <td>...</td>\n    </tr>\n    <tr>\n      <th>2845</th>\n      <td>325450</td>\n      <td>None</td>\n      <td>353440</td>\n      <td>LUANA DA SILVA</td>\n      <td>F</td>\n      <td>28</td>\n      <td>OSASCO</td>\n      <td>SP</td>\n      <td>OSASCO</td>\n      <td>OSASCO</td>\n      <td>SP</td>\n      <td>LONDRINA</td>\n      <td>None</td>\n      <td>COVID-19 BIOLOGIA MOLECULAR</td>\n      <td>2020-12-11</td>\n      <td>2020-12-12</td>\n      <td>2020-12-06 00:00:00</td>\n      <td>51c008821816ce47f3dc4c7d3cc68b9f59304e83453591...</td>\n      <td>3f110580973df5da8cb06e35c81a4057ee9b15b87ed422...</td>\n      <td>e5399ea3d3e83bd69281c2a612b25cc65450b471d8ef91...</td>\n    </tr>\n    <tr>\n      <th>2846</th>\n      <td>325867</td>\n      <td>None</td>\n      <td>420530</td>\n      <td>MARIANA MARTINS MORAIS</td>\n      <td>F</td>\n      <td>84</td>\n      <td>FAXINAL DOS GUEDES</td>\n      <td>SC</td>\n      <td>FAXINALDOSGUEDES</td>\n      <td>FAXINALDOSGUEDES</td>\n      <td>SC</td>\n      <td>BOM SUCESSO</td>\n      <td>None</td>\n      <td>TESTE RAPIDO ANTIGENO (IMUNOCROMATOGRAFIA)</td>\n      <td>2020-12-07</td>\n      <td>2020-12-12</td>\n      <td>2020-11-30 00:00:00</td>\n      <td>f3bdab11170737d02bc2437aaef91356dcddc112a0ed06...</td>\n      <td>ea0762fcbd642c251e962ea7d87bf93bdb2f8b5a636a49...</td>\n      <td>a922bed323d8123f759cac6b5e3e5bcbc81cb653bbb35b...</td>\n    </tr>\n    <tr>\n      <th>2847</th>\n      <td>326320</td>\n      <td>None</td>\n      <td>510180</td>\n      <td>PAULO ROBERTO CARRER</td>\n      <td>M</td>\n      <td>43</td>\n      <td>BARRA DO GARCAS</td>\n      <td>MT</td>\n      <td>BARRADOGARCAS</td>\n      <td>BARRADOGARCAS</td>\n      <td>MT</td>\n      <td>MEDIANEIRA</td>\n      <td>None</td>\n      <td>TESTE RAPIDO IGM/IGG NAO DISCRIMINATORIO (IMUN...</td>\n      <td>2020-12-11</td>\n      <td>2020-12-12</td>\n      <td>NaN</td>\n      <td>f446bc73c16bb9219678134bad66dbca6ad8922b5fa509...</td>\n      <td>a9b623c79e736591e546c0712b973dfcb9324360af58cc...</td>\n      <td>9ebe4c7b26b4be2baf38823b36d306f35ce91561e0fc5a...</td>\n    </tr>\n    <tr>\n      <th>2848</th>\n      <td>326591</td>\n      <td>None</td>\n      <td>292880</td>\n      <td>ROQUE PEREIRA FREITAS</td>\n      <td>M</td>\n      <td>40</td>\n      <td>SANTO ESTEVAO</td>\n      <td>BA</td>\n      <td>SANTOESTEVAO</td>\n      <td>SANTOESTEVAO</td>\n      <td>BA</td>\n      <td>TELEMACO BORBA</td>\n      <td>None</td>\n      <td>TESTE RAPIDO ANTIGENO (IMUNOCROMATOGRAFIA)</td>\n      <td>2020-12-11</td>\n      <td>2020-12-12</td>\n      <td>NaN</td>\n      <td>cc90e818a0d64e3e4579b1907aae300ab2c8391c97a391...</td>\n      <td>f2a6019f37b940853394c54a0e7816274f145bec02e258...</td>\n      <td>8f5320a256a2732daf27c7954f1f616f6a84ad68bdbf76...</td>\n    </tr>\n    <tr>\n      <th>2849</th>\n      <td>326669</td>\n      <td>None</td>\n      <td>320320</td>\n      <td>ROZIANI HANTEQUESTT CORDEIRO DE LIMA</td>\n      <td>F</td>\n      <td>53</td>\n      <td>LINHARES</td>\n      <td>ES</td>\n      <td>LINHARES</td>\n      <td>LINHARES</td>\n      <td>ES</td>\n      <td>NaN</td>\n      <td>None</td>\n      <td>DETECT SARS-COV-2 RT-PCR</td>\n      <td>2020-12-04</td>\n      <td>2020-12-12</td>\n      <td>2020-11-28 00:00:00</td>\n      <td>ae937d06ba338dd3983a8352b18927f68b23cb6fcbd97b...</td>\n      <td>0e8e96cd2e59156e04107e2808392d66cb9d8318439409...</td>\n      <td>b06663fc590892fca1c09154c32317797a2d41d6310f38...</td>\n    </tr>\n  </tbody>\n</table>\n<p>2832 rows × 20 columns</p>\n</div>"
     },
     "metadata": {},
     "execution_count": 15
    }
   ],
   "source": [
    "# casos.loc[casos['ibge'].isnull()].to_excel(join(output,'casos_sem_ibge.xlsx'))\n",
    "# casos.loc[casos['ibge7'].isnull()].to_excel(join(output,'casos_sem_ibge7.xlsx'))\n",
    "casos.loc[(casos['uf_resid'] == 'PR') & (casos['uf'] != 'PR'), 'uf_resid'] = casos.loc[(casos['uf_resid'] == 'PR') & (casos['uf'] != 'PR'), 'uf']\n",
    "casos.loc[casos['uf']!='PR'] "
   ]
  },
  {
   "cell_type": "code",
   "execution_count": 6,
   "metadata": {},
   "outputs": [
    {
     "output_type": "execute_result",
     "data": {
      "text/plain": [
       "(6760, 7)"
      ]
     },
     "metadata": {},
     "execution_count": 6
    }
   ],
   "source": [
    "obitos = casos_confirmados.get_obitos()\n",
    "obitos.shape"
   ]
  },
  {
   "cell_type": "code",
   "execution_count": 7,
   "metadata": {},
   "outputs": [],
   "source": [
    "obitos.loc[obitos.duplicated('hash')].append(obitos.loc[obitos['hash'].isin(obitos['hash_less'])]).append(obitos.loc[obitos['hash'].isin(obitos['hash_more'])]).to_excel(join(output,'obitos_duplicados.xlsx'))"
   ]
  },
  {
   "cell_type": "code",
   "execution_count": 8,
   "metadata": {},
   "outputs": [],
   "source": [
    "# obitos_nao_em_casos = obitos.loc[~obitos['hash'].isin(casos['hash'])]\n",
    "# obitos_nao_em_casos.to_excel(join(output,'obitos_nao_em_casos.xlsx'))\n",
    "\n",
    "# len(obitos_nao_em_casos)\n",
    "\n",
    "# casos_idade_errada_less = obitos_nao_em_casos.loc[obitos['hash_less'].isin(casos['hash']), 'hash_less'].values.tolist()\n",
    "# casos_idade_errada_more = obitos_nao_em_casos.loc[obitos['hash_more'].isin(casos['hash']), 'hash_more'].values.tolist()\n",
    "\n",
    "# casos.loc[casos['hash'].isin(casos_idade_errada_less), 'idade'] -=1\n",
    "\n",
    "# casos.loc[casos['hash'].isin(casos_idade_errada_less), 'hash'] = casos.loc[casos['hash'].isin(casos_idade_errada_less)].apply(lambda row: sha256(str.encode(normalize_hash(row['nome'])+str(row['idade'])+normalize_hash(row['mun_resid']))).hexdigest(), axis=1)\n",
    "# casos.loc[casos['hash'].isin(casos_idade_errada_less), 'hash_less'] = casos.loc[casos['hash'].isin(casos_idade_errada_less)].apply(lambda row: sha256(str.encode(normalize_hash(row['nome'])+str(row['idade']-1)+normalize_hash(row['mun_resid']))).hexdigest(), axis=1)\n",
    "# casos.loc[casos['hash'].isin(casos_idade_errada_less), 'hash_more'] = casos.loc[casos['hash'].isin(casos_idade_errada_less)].apply(lambda row: sha256(str.encode(normalize_hash(row['nome'])+str(row['idade']+1)+normalize_hash(row['mun_resid']))).hexdigest(), axis=1)\n",
    "\n",
    "\n",
    "# casos.loc[casos['hash'].isin(casos_idade_errada_more), 'idade'] +=1\n",
    "# casos.loc[casos['hash'].isin(casos_idade_errada_more), 'hash'] = casos.loc[casos['hash'].isin(casos_idade_errada_more)].apply(lambda row: sha256(str.encode(normalize_hash(row['nome'])+str(row['idade'])+normalize_hash(row['mun_resid']))).hexdigest(), axis=1)\n",
    "# casos.loc[casos['hash'].isin(casos_idade_errada_more), 'hash_less'] = casos.loc[casos['hash'].isin(casos_idade_errada_more)].apply(lambda row: sha256(str.encode(normalize_hash(row['nome'])+str(row['idade']-1)+normalize_hash(row['mun_resid']))).hexdigest(), axis=1)\n",
    "# casos.loc[casos['hash'].isin(casos_idade_errada_more), 'hash_more'] = casos.loc[casos['hash'].isin(casos_idade_errada_more)].apply(lambda row: sha256(str.encode(normalize_hash(row['nome'])+str(row['idade']+1)+normalize_hash(row['mun_resid']))).hexdigest(), axis=1)\n",
    "\n",
    "# obitos.loc[~obitos['hash'].isin(casos['hash'])]"
   ]
  },
  {
   "cell_type": "code",
   "execution_count": 9,
   "metadata": {},
   "outputs": [
    {
     "output_type": "error",
     "ename": "SystemExit",
     "evalue": "",
     "traceback": [
      "An exception has occurred, use %tb to see the full traceback.\n",
      "\u001b[1;31mSystemExit\u001b[0m\n"
     ]
    }
   ],
   "source": [
    "exit()\n",
    "duplicados = casos.loc[casos.duplicated('hash')].index.tolist()\n",
    "duplicados_less = casos.loc[casos['hash'].isin(casos['hash_less'])].index.tolist()\n",
    "duplicados_more = casos.loc[casos['hash'].isin(casos['hash_more'])].index.tolist()\n",
    "dropar = set(duplicados + duplicados_less + duplicados_more)\n",
    "casos.loc[dropar].to_excel('casos_duplicados.xlsx')\n",
    "print(len(dropar))\n",
    "casos = casos.drop(index=dropar)\n",
    "len(casos)"
   ]
  },
  {
   "cell_type": "code",
   "execution_count": null,
   "metadata": {},
   "outputs": [],
   "source": [
    "duplicados = casos.loc[casos.duplicated('hash')].index.tolist()\n",
    "duplicados_less = casos.loc[casos['hash'].isin(casos['hash_less'])].index.tolist()\n",
    "duplicados_more = casos.loc[casos['hash'].isin(casos['hash_more'])].index.tolist()\n",
    "dropar = set(duplicados + duplicados_less + duplicados_more)\n",
    "casos.loc[dropar].to_excel('obitos_duplicados_casos_confirmados.xlsx')\n",
    "len(dropar)"
   ]
  },
  {
   "cell_type": "code",
   "execution_count": null,
   "metadata": {},
   "outputs": [],
   "source": [
    "writer = pd.ExcelWriter(\"novos_casos_confirmados.xlsx\",\n",
    "                        engine='xlsxwriter',\n",
    "                        datetime_format='dd/mm/yyyy',\n",
    "                        date_format='dd/mm/yyyy')\n",
    "\n",
    "casos.sort_values('nome').to_excel(writer,index=None)\n",
    "\n",
    "writer.save()\n",
    "writer.close()"
   ]
  }
 ]
}