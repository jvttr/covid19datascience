{
 "metadata": {
  "language_info": {
   "codemirror_mode": {
    "name": "ipython",
    "version": 3
   },
   "file_extension": ".py",
   "mimetype": "text/x-python",
   "name": "python",
   "nbconvert_exporter": "python",
   "pygments_lexer": "ipython3",
   "version": "3.8.5-final"
  },
  "orig_nbformat": 2,
  "kernelspec": {
   "name": "python3",
   "display_name": "Python 3",
   "language": "python"
  }
 },
 "nbformat": 4,
 "nbformat_minor": 2,
 "cells": [
  {
   "cell_type": "code",
   "execution_count": 1,
   "metadata": {},
   "outputs": [],
   "source": [
    "from sys import exit\n",
    "import numpy as np\n",
    "import pandas as pd\n",
    "from os.path import dirname, join, isfile, isdir\n",
    "from os import makedirs\n",
    "from datetime import datetime, timedelta\n",
    "from hashlib import sha256\n",
    "\n",
    "from bulletin.data.tb_pacientes import TbPacientes\n",
    "from bulletin.data.casos_confirmados import CasosConfirmados\n",
    "from bulletin.commom.utils import Timer\n",
    "from bulletin.commom import static\n",
    "from bulletin.commom.normalize import *\n",
    "\n",
    "pd.set_option('display.max_columns', None)\n",
    "\n",
    "output = join(\"output\",\"correcoes\",\"casos_confirmados\")\n",
    "\n",
    "if not isdir(output):\n",
    "    makedirs(output)\n",
    "\n",
    "timer = Timer()"
   ]
  },
  {
   "cell_type": "code",
   "execution_count": 2,
   "metadata": {},
   "outputs": [
    {
     "output_type": "stream",
     "name": "stdout",
     "text": [
      "Casos confirmados excluidos: 0\n",
      "Obitos confirmados excluidos: 0\n"
     ]
    },
    {
     "output_type": "execute_result",
     "data": {
      "text/plain": [
       "173.34020805358887"
      ]
     },
     "metadata": {},
     "execution_count": 2
    }
   ],
   "source": [
    "timer.reset()\n",
    "casos_confirmados = CasosConfirmados()\n",
    "casos_confirmados.update()\n",
    "timer.stop()"
   ]
  },
  {
   "cell_type": "code",
   "execution_count": 3,
   "metadata": {},
   "outputs": [
    {
     "output_type": "stream",
     "name": "stdout",
     "text": [
      "329782;6764\n"
     ]
    }
   ],
   "source": [
    "casos = casos_confirmados.get_casos()\n",
    "obitos = casos_confirmados.get_obitos()\n",
    "\n",
    "print(f\"{len(casos)};{len(obitos)}\")"
   ]
  },
  {
   "cell_type": "code",
   "execution_count": 4,
   "metadata": {},
   "outputs": [
    {
     "output_type": "stream",
     "name": "stdout",
     "text": [
      "329782;6745\n"
     ]
    }
   ],
   "source": [
    "\n",
    "obitos = obitos.rename(columns={'data_do_obito': 'data_obito'})\n",
    "obitos['obito'] = 'SIM'\n",
    "obitos = obitos[['obito','data_obito','hash']]\n",
    "\n",
    "casos = pd.merge(left=casos, right=obitos, on='hash', how='left')\n",
    "\n",
    "casos.loc[casos['obito'].isnull(), 'obito'] = 'NAO'\n",
    "casos.loc[(casos['obito']==\"SIM\") & (casos.duplicated('hash')), 'obito'] = 'NAO'\n",
    "casos.loc[(casos['obito']==\"SIM\") & (casos.duplicated('hash')), 'data_obito'] = pd.NaT\n",
    "\n",
    "print(f\"{len(casos)};{len(casos.loc[casos['obito']=='SIM'])}\")"
   ]
  },
  {
   "cell_type": "code",
   "execution_count": 5,
   "metadata": {},
   "outputs": [
    {
     "output_type": "stream",
     "name": "stdout",
     "text": [
      "Duplicados com a mesma idade: (939, 18)\n",
      "Duplicados com idade menos 1: (1930, 18)\n",
      "Duplicados com idade mais 1: (4, 18)\n",
      "todos os duplicados: (4789, 18)\n",
      "Valores unicos: 2392\n"
     ]
    }
   ],
   "source": [
    "casos['excluir'] = 'NAO'\n",
    "\n",
    "print(f\"Duplicados com a mesma idade: {casos.loc[casos.duplicated('hash', keep=False)].shape}\")\n",
    "print(f\"Duplicados com idade menos 1: {casos.loc[casos['hash_less'].isin(casos['hash'])].shape}\")\n",
    "casos.loc[casos['hash_less'].isin(casos['hash']), 'hash'] = casos.loc[casos['hash_less'].isin(casos['hash']), 'hash_less']\n",
    "print(f\"Duplicados com idade mais 1: {casos.loc[casos['hash_more'].isin(casos['hash'])].shape}\")\n",
    "casos.loc[casos['hash_more'].isin(casos['hash']), 'hash'] = casos.loc[casos['hash_more'].isin(casos['hash']), 'hash_more']\n",
    "print(f\"todos os duplicados: {casos.loc[casos.duplicated('hash', keep=False)].shape}\")\n",
    "duplicados = casos.loc[casos.duplicated('hash', keep=False)]\n",
    "print(f\"Valores unicos: {len(duplicados.groupby('hash'))}\")"
   ]
  },
  {
   "cell_type": "code",
   "execution_count": 6,
   "metadata": {},
   "outputs": [],
   "source": [
    "def get_better(df):\n",
    "    scores = np.zeros(len(df))\n",
    "\n",
    "    for i, serie in enumerate(df.iterrows()):\n",
    "        _, row = serie\n",
    "\n",
    "        if row['obito'] == 'SIM':\n",
    "            scores[i] = 1000\n",
    "        else:\n",
    "            scores[i] = 1\n",
    "\n",
    "    i = np.argmax(scores)\n",
    "    return df.iloc[i].name"
   ]
  },
  {
   "cell_type": "code",
   "execution_count": 7,
   "metadata": {},
   "outputs": [],
   "source": [
    "manter = []\n",
    "for hash, group in duplicados.groupby('hash'):\n",
    "    idx = get_better(group)\n",
    "    manter.append(idx)"
   ]
  },
  {
   "cell_type": "code",
   "execution_count": 8,
   "metadata": {},
   "outputs": [],
   "source": [
    "duplicados = set(duplicados.index.tolist())\n",
    "duplicados = duplicados - set(manter)\n",
    "\n",
    "casos.loc[duplicados,'excluir'] = 'SIM'\n",
    "casos.loc[duplicados,'hash'] = None\n",
    "casos.loc[duplicados,'hash_less'] = None\n",
    "casos.loc[duplicados,'hash_more'] = None"
   ]
  },
  {
   "cell_type": "code",
   "execution_count": 9,
   "metadata": {},
   "outputs": [],
   "source": [
    "casos = casos[['ordem','ibge7','nome','sexo','idade','mun_resid','mun_atend','rs','laboratorio','dt_diag','comunicacao','is','obito','data_obito','excluir']]"
   ]
  },
  {
   "cell_type": "code",
   "execution_count": 10,
   "metadata": {},
   "outputs": [],
   "source": [
    "writer = pd.ExcelWriter(join(output,\"novos_casos_confirmados.xlsx\"),\n",
    "                        engine='xlsxwriter',\n",
    "                        datetime_format='dd/mm/yyyy',\n",
    "                        date_format='dd/mm/yyyy')\n",
    "\n",
    "casos.to_excel(writer,index=None)\n",
    "\n",
    "writer.save()\n",
    "writer.close()"
   ]
  }
 ]
}