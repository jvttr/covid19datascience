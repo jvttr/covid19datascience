{
 "metadata": {
  "language_info": {
   "codemirror_mode": {
    "name": "ipython",
    "version": 3
   },
   "file_extension": ".py",
   "mimetype": "text/x-python",
   "name": "python",
   "nbconvert_exporter": "python",
   "pygments_lexer": "ipython3",
   "version": "3.8.5-final"
  },
  "orig_nbformat": 2,
  "kernelspec": {
   "name": "python3",
   "display_name": "Python 3",
   "language": "python"
  }
 },
 "nbformat": 4,
 "nbformat_minor": 2,
 "cells": [
  {
   "cell_type": "code",
   "execution_count": 1,
   "metadata": {},
   "outputs": [],
   "source": [
    "from sys import exit\n",
    "import numpy as np\n",
    "import pandas as pd\n",
    "from os.path import dirname, join, isfile, isdir\n",
    "from os import makedirs\n",
    "from datetime import datetime, timedelta\n",
    "\n",
    "from bulletin.data.notifica import Notifica\n",
    "from bulletin.data.casos_confirmados import CasosConfirmados\n",
    "from bulletin.commom.utils import Timer\n",
    "\n",
    "pd.set_option('display.max_columns', None)\n",
    "\n",
    "output = join(\"output\",\"correcoes\",\"notifica\")\n",
    "\n",
    "if not isdir(output):\n",
    "    makedirs(output)"
   ]
  },
  {
   "cell_type": "code",
   "execution_count": 2,
   "metadata": {},
   "outputs": [
    {
     "output_type": "stream",
     "name": "stdout",
     "text": [
      "426.3553116321564\n"
     ]
    },
    {
     "output_type": "execute_result",
     "data": {
      "text/plain": [
       "(1709432, 755234, 7044, 945478, 1676)"
      ]
     },
     "metadata": {},
     "execution_count": 2
    }
   ],
   "source": [
    "timer = Timer()\n",
    "notifica = Notifica()\n",
    "# notifica.update()\n",
    "print(timer.stop())\n",
    "notifica.shape()"
   ]
  },
  {
   "cell_type": "code",
   "execution_count": 3,
   "metadata": {},
   "outputs": [
    {
     "output_type": "stream",
     "name": "stdout",
     "text": [
      "0.7634501457214355\n"
     ]
    },
    {
     "output_type": "execute_result",
     "data": {
      "text/plain": [
       "(370775, 7213)"
      ]
     },
     "metadata": {},
     "execution_count": 3
    }
   ],
   "source": [
    "timer.reset()\n",
    "casos_confirmados = CasosConfirmados()\n",
    "# casos_confirmados.update()\n",
    "print(timer.stop())\n",
    "casos_confirmados.shape()"
   ]
  },
  {
   "cell_type": "code",
   "execution_count": 4,
   "metadata": {},
   "outputs": [
    {
     "output_type": "execute_result",
     "data": {
      "text/plain": [
       "                                      id\n",
       "classificacao_final                     \n",
       "CASO CONFIRMADO                   368187\n",
       "CASO DESCARTADO                   565711\n",
       "CASO SUSPEITO                     767807\n",
       "IGNORADO                             700\n",
       "SINDROME GRIPAL NAO ESPECIFICADA    7027"
      ],
      "text/html": "<div>\n<style scoped>\n    .dataframe tbody tr th:only-of-type {\n        vertical-align: middle;\n    }\n\n    .dataframe tbody tr th {\n        vertical-align: top;\n    }\n\n    .dataframe thead th {\n        text-align: right;\n    }\n</style>\n<table border=\"1\" class=\"dataframe\">\n  <thead>\n    <tr style=\"text-align: right;\">\n      <th></th>\n      <th>id</th>\n    </tr>\n    <tr>\n      <th>classificacao_final</th>\n      <th></th>\n    </tr>\n  </thead>\n  <tbody>\n    <tr>\n      <th>CASO CONFIRMADO</th>\n      <td>368187</td>\n    </tr>\n    <tr>\n      <th>CASO DESCARTADO</th>\n      <td>565711</td>\n    </tr>\n    <tr>\n      <th>CASO SUSPEITO</th>\n      <td>767807</td>\n    </tr>\n    <tr>\n      <th>IGNORADO</th>\n      <td>700</td>\n    </tr>\n    <tr>\n      <th>SINDROME GRIPAL NAO ESPECIFICADA</th>\n      <td>7027</td>\n    </tr>\n  </tbody>\n</table>\n</div>"
     },
     "metadata": {},
     "execution_count": 4
    }
   ],
   "source": [
    "casosn = notifica.get_casos()\n",
    "casosc = casos_confirmados.get_casos()\n",
    "casosn.groupby('classificacao_final')[['id']].count()"
   ]
  },
  {
   "cell_type": "code",
   "execution_count": 5,
   "metadata": {},
   "outputs": [],
   "source": [
    "def get_better(df):\n",
    "    scores = np.zeros(len(df))\n",
    "\n",
    "    for i, serie in enumerate(df.iterrows()):\n",
    "        _, row = serie\n",
    "\n",
    "        if row['data_nascimento'] != pd.NaT:\n",
    "            scores[i]+=50\n",
    "\n",
    "        if row['nome_mae']:\n",
    "            scores[i]+=50\n",
    "\n",
    "        if row['cpf']:\n",
    "            scores[i]+=50\n",
    "\n",
    "        if not row['nome_mae'] and not row['cpf'] and row['data_nascimento'] == pd.NaT:\n",
    "            scores-=500\n",
    "\n",
    "        if row['cod_classificacao_final'] == 2:\n",
    "            scores[i]+=100\n",
    "\n",
    "        if row['cod_criterio_classificacao'] == 1:\n",
    "            scores[i]+=10\n",
    "\n",
    "        if row['cod_evolucao'] == 2:\n",
    "            scores[i]+=1000\n",
    "\n",
    "        if row['cod_metodo'] == 1:\n",
    "            scores[i]+=10\n",
    "\n",
    "        if row['cod_status_notificacao'] in [1, 2]:\n",
    "            scores[i]+=10\n",
    "\n",
    "        if row['excluir_ficha'] == 2:\n",
    "            scores[i]+=10\n",
    "\n",
    "        if row['cod_origem'] == 1:\n",
    "            scores[i]+=10\n",
    "\n",
    "    i = np.argmax(scores)\n",
    "    return df.iloc[i].name"
   ]
  },
  {
   "cell_type": "code",
   "execution_count": 6,
   "metadata": {},
   "outputs": [
    {
     "output_type": "stream",
     "name": "stdout",
     "text": [
      "Total de pacientes com mais de uma ocorrencia: 317579\n",
      "130654 pacientes pelo CPF que estavam com mais de uma ocorrencia\n"
     ]
    },
    {
     "output_type": "execute_result",
     "data": {
      "text/plain": [
       "                                      id\n",
       "classificacao_final                     \n",
       "CASO CONFIRMADO                     8431\n",
       "CASO DESCARTADO                    69079\n",
       "CASO SUSPEITO                     108326\n",
       "IGNORADO                              47\n",
       "SINDROME GRIPAL NAO ESPECIFICADA    1042"
      ],
      "text/html": "<div>\n<style scoped>\n    .dataframe tbody tr th:only-of-type {\n        vertical-align: middle;\n    }\n\n    .dataframe tbody tr th {\n        vertical-align: top;\n    }\n\n    .dataframe thead th {\n        text-align: right;\n    }\n</style>\n<table border=\"1\" class=\"dataframe\">\n  <thead>\n    <tr style=\"text-align: right;\">\n      <th></th>\n      <th>id</th>\n    </tr>\n    <tr>\n      <th>classificacao_final</th>\n      <th></th>\n    </tr>\n  </thead>\n  <tbody>\n    <tr>\n      <th>CASO CONFIRMADO</th>\n      <td>8431</td>\n    </tr>\n    <tr>\n      <th>CASO DESCARTADO</th>\n      <td>69079</td>\n    </tr>\n    <tr>\n      <th>CASO SUSPEITO</th>\n      <td>108326</td>\n    </tr>\n    <tr>\n      <th>IGNORADO</th>\n      <td>47</td>\n    </tr>\n    <tr>\n      <th>SINDROME GRIPAL NAO ESPECIFICADA</th>\n      <td>1042</td>\n    </tr>\n  </tbody>\n</table>\n</div>"
     },
     "metadata": {},
     "execution_count": 6
    }
   ],
   "source": [
    "casos_duplicados_cpf = casosn.loc[(casosn['cpf'].notnull()) & (casosn.duplicated('cpf',keep=False))].sort_values('cpf')\n",
    "print(f\"Total de pacientes com mais de uma ocorrencia: {len(casos_duplicados_cpf)}\")\n",
    "print(f\"{len(casos_duplicados_cpf.groupby('cpf'))} pacientes pelo CPF que estavam com mais de uma ocorrencia\")\n",
    "\n",
    "manter = []\n",
    "for hash, group in casos_duplicados_cpf.groupby('cpf'):\n",
    "    idx = get_better(group)\n",
    "    manter.append(idx)\n",
    "\n",
    "\n",
    "casos_duplicados_cpf = set(casos_duplicados_cpf.index.tolist())\n",
    "casos_duplicados_cpf = casos_duplicados_cpf - set(manter)\n",
    "casosn.loc[casos_duplicados_cpf].groupby('classificacao_final')[['id']].count()"
   ]
  },
  {
   "cell_type": "code",
   "execution_count": 7,
   "metadata": {},
   "outputs": [
    {
     "output_type": "execute_result",
     "data": {
      "text/plain": [
       "                                     id\n",
       "classificacao_final                    \n",
       "CASO CONFIRMADO                   42620\n",
       "CASO DESCARTADO                   63577\n",
       "CASO SUSPEITO                     23777\n",
       "IGNORADO                              9\n",
       "SINDROME GRIPAL NAO ESPECIFICADA    671"
      ],
      "text/html": "<div>\n<style scoped>\n    .dataframe tbody tr th:only-of-type {\n        vertical-align: middle;\n    }\n\n    .dataframe tbody tr th {\n        vertical-align: top;\n    }\n\n    .dataframe thead th {\n        text-align: right;\n    }\n</style>\n<table border=\"1\" class=\"dataframe\">\n  <thead>\n    <tr style=\"text-align: right;\">\n      <th></th>\n      <th>id</th>\n    </tr>\n    <tr>\n      <th>classificacao_final</th>\n      <th></th>\n    </tr>\n  </thead>\n  <tbody>\n    <tr>\n      <th>CASO CONFIRMADO</th>\n      <td>42620</td>\n    </tr>\n    <tr>\n      <th>CASO DESCARTADO</th>\n      <td>63577</td>\n    </tr>\n    <tr>\n      <th>CASO SUSPEITO</th>\n      <td>23777</td>\n    </tr>\n    <tr>\n      <th>IGNORADO</th>\n      <td>9</td>\n    </tr>\n    <tr>\n      <th>SINDROME GRIPAL NAO ESPECIFICADA</th>\n      <td>671</td>\n    </tr>\n  </tbody>\n</table>\n</div>"
     },
     "metadata": {},
     "execution_count": 7
    }
   ],
   "source": [
    "casosn = casosn.drop(index=casos_duplicados_cpf)\n",
    "casosn.loc[manter].groupby('classificacao_final')[['id']].count()"
   ]
  }
 ]
}