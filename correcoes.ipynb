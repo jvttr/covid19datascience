{
 "cells": [
  {
   "cell_type": "code",
   "execution_count": 1,
   "metadata": {},
   "outputs": [],
   "source": [
    "from sys import exit\n",
    "from time import sleep\n",
    "import numpy as np\n",
    "import pandas as pd\n",
    "from os.path import dirname, join, isfile, isdir\n",
    "from os import makedirs\n",
    "from datetime import datetime, timedelta, date\n",
    "\n",
    "from bulletin.data.notifica import Notifica\n",
    "from bulletin.data.casos_confirmados import CasosConfirmados\n",
    "from bulletin.commom.utils import Timer, get_better_notifica\n",
    "from bulletin.commom.static import meses\n",
    "from bulletin.metabase.request import download_metabase\n",
    "\n",
    "pd.set_option('display.max_columns', None)\n",
    "\n",
    "output = join(\"output\",\"correcoes\",\"notifica\")\n",
    "\n",
    "if not isdir(output):\n",
    "    makedirs(output)\n",
    "\n",
    "timerAll = Timer()\n",
    "timer = Timer()"
   ]
  },
  {
   "cell_type": "code",
   "execution_count": 2,
   "metadata": {
    "tags": []
   },
   "outputs": [
    {
     "output_type": "stream",
     "name": "stdout",
     "text": [
      "baixando pela primeira vez:\n",
      "Requesting notifica where classificacao_final IS NULL\n",
      "Success code 202\n",
      "Saving in input\\queries\\null.csv\n",
      "Download finish, time elapsed: 0:00:34.035515\n",
      "\n",
      "baixando pela primeira vez:\n",
      "Requesting notifica where classificacao_final = 0\n",
      "Success code 202\n",
      "Saving in input\\queries\\0.csv\n",
      "Download finish, time elapsed: 0:00:15.067080\n",
      "\n",
      "normalize notifica\n",
      "baixando pela primeira vez:\n",
      "Requesting notifica where classificacao_final = 1\n",
      "Success code 202\n",
      "Saving in input\\queries\\1.csv\n",
      "Download finish, time elapsed: 0:00:38.535774\n",
      "\n",
      "normalize notifica\n",
      "baixando pela primeira vez:\n",
      "Requesting notifica where classificacao_final = 2\n",
      "Success code 202\n",
      "Saving in input\\queries\\2.csv\n",
      "Download finish, time elapsed: 0:00:43.348071\n",
      "\n",
      "normalize notifica\n",
      "baixando pela primeira vez:\n",
      "Requesting notifica where classificacao_final = 3\n",
      "Success code 202\n",
      "Saving in input\\queries\\3.csv\n",
      "Download finish, time elapsed: 0:00:50.007422\n",
      "\n",
      "normalize notifica\n",
      "baixando pela primeira vez:\n",
      "Requesting notifica where classificacao_final = 5\n",
      "Success code 202\n",
      "Saving in input\\queries\\5.csv\n",
      "Download finish, time elapsed: 0:00:36.275722\n",
      "\n",
      "normalize notifica\n",
      "00:38:37.198\n"
     ]
    },
    {
     "output_type": "execute_result",
     "data": {
      "text/plain": [
       "(2314138, 1062658, 11033, 1238275, 2172)"
      ]
     },
     "metadata": {},
     "execution_count": 2
    }
   ],
   "source": [
    "notifica = Notifica()\n",
    "timer.start()\n",
    "\n",
    "notifica.download_todas_notificacoes()\n",
    "# notifica.read_todas_notificacoes()\n",
    "notifica.save()\n",
    "# notifica.load()\n",
    "print(timer.ftime())\n",
    "notifica.shape()"
   ]
  },
  {
   "cell_type": "code",
   "execution_count": 3,
   "metadata": {},
   "outputs": [
    {
     "output_type": "stream",
     "name": "stdout",
     "text": [
      "00:00:00.457\n"
     ]
    },
    {
     "output_type": "execute_result",
     "data": {
      "text/plain": [
       "(586944, 10728, 432271, 143945)"
      ]
     },
     "metadata": {},
     "execution_count": 3
    }
   ],
   "source": [
    "timer.start()\n",
    "casos_confirmados = CasosConfirmados()\n",
    "# casos_confirmados.read()\n",
    "# casos_confirmados.save()\n",
    "casos_confirmados.load()\n",
    "print(timer.ftime())\n",
    "casos_confirmados.shape()"
   ]
  },
  {
   "cell_type": "code",
   "execution_count": 4,
   "metadata": {},
   "outputs": [
    {
     "output_type": "execute_result",
     "data": {
      "text/plain": [
       "                                      id\n",
       "classificacao_final                     \n",
       "CASO CONFIRMADO                   560633\n",
       "CASO DESCARTADO                   789434\n",
       "CASO SUSPEITO                     956947\n",
       "IGNORADO                             112\n",
       "SINDROME GRIPAL NAO ESPECIFICADA    7012"
      ],
      "text/html": "<div>\n<style scoped>\n    .dataframe tbody tr th:only-of-type {\n        vertical-align: middle;\n    }\n\n    .dataframe tbody tr th {\n        vertical-align: top;\n    }\n\n    .dataframe thead th {\n        text-align: right;\n    }\n</style>\n<table border=\"1\" class=\"dataframe\">\n  <thead>\n    <tr style=\"text-align: right;\">\n      <th></th>\n      <th>id</th>\n    </tr>\n    <tr>\n      <th>classificacao_final</th>\n      <th></th>\n    </tr>\n  </thead>\n  <tbody>\n    <tr>\n      <th>CASO CONFIRMADO</th>\n      <td>560633</td>\n    </tr>\n    <tr>\n      <th>CASO DESCARTADO</th>\n      <td>789434</td>\n    </tr>\n    <tr>\n      <th>CASO SUSPEITO</th>\n      <td>956947</td>\n    </tr>\n    <tr>\n      <th>IGNORADO</th>\n      <td>112</td>\n    </tr>\n    <tr>\n      <th>SINDROME GRIPAL NAO ESPECIFICADA</th>\n      <td>7012</td>\n    </tr>\n  </tbody>\n</table>\n</div>"
     },
     "metadata": {},
     "execution_count": 4
    }
   ],
   "source": [
    "casosn = notifica.get_casos()\n",
    "casosn['duplicado'] = 0\n",
    "casosn['manter'] = 0\n",
    "casosc = casos_confirmados.get_casos()\n",
    "casosn.groupby('classificacao_final')[['id']].count()"
   ]
  },
  {
   "cell_type": "code",
   "execution_count": 5,
   "metadata": {},
   "outputs": [
    {
     "output_type": "stream",
     "name": "stdout",
     "text": [
      "Total de pacientes com mais de uma ocorrencia: 529033\n",
      "212617 pacientes pelo CPF que estavam com mais de uma ocorrencia\n"
     ]
    },
    {
     "output_type": "execute_result",
     "data": {
      "text/plain": [
       "                                      id\n",
       "classificacao_final                     \n",
       "CASO CONFIRMADO                    14971\n",
       "CASO DESCARTADO                   130033\n",
       "CASO SUSPEITO                     169935\n",
       "IGNORADO                              44\n",
       "SINDROME GRIPAL NAO ESPECIFICADA    1433"
      ],
      "text/html": "<div>\n<style scoped>\n    .dataframe tbody tr th:only-of-type {\n        vertical-align: middle;\n    }\n\n    .dataframe tbody tr th {\n        vertical-align: top;\n    }\n\n    .dataframe thead th {\n        text-align: right;\n    }\n</style>\n<table border=\"1\" class=\"dataframe\">\n  <thead>\n    <tr style=\"text-align: right;\">\n      <th></th>\n      <th>id</th>\n    </tr>\n    <tr>\n      <th>classificacao_final</th>\n      <th></th>\n    </tr>\n  </thead>\n  <tbody>\n    <tr>\n      <th>CASO CONFIRMADO</th>\n      <td>14971</td>\n    </tr>\n    <tr>\n      <th>CASO DESCARTADO</th>\n      <td>130033</td>\n    </tr>\n    <tr>\n      <th>CASO SUSPEITO</th>\n      <td>169935</td>\n    </tr>\n    <tr>\n      <th>IGNORADO</th>\n      <td>44</td>\n    </tr>\n    <tr>\n      <th>SINDROME GRIPAL NAO ESPECIFICADA</th>\n      <td>1433</td>\n    </tr>\n  </tbody>\n</table>\n</div>"
     },
     "metadata": {},
     "execution_count": 5
    }
   ],
   "source": [
    "casos_duplicados = casosn.loc[(casosn['cpf'].notnull()) & (casosn.duplicated('cpf',keep=False))].sort_values('cpf')\n",
    "casosn.loc[casos_duplicados, 'duplicado'] = 1 \n",
    "\n",
    "print(f\"Total de pacientes com mais de uma ocorrencia: {len(casos_duplicados)}\")\n",
    "print(f\"{len(casos_duplicados.groupby('cpf'))} pacientes pelo CPF que estavam com mais de uma ocorrencia\")\n",
    "\n",
    "all_casos_duplicados = set()\n",
    "all_duplicados_mantidos = set()\n",
    "manter = []\n",
    "\n",
    "for hash, group in casos_duplicados.groupby('cpf'):\n",
    "    idx = get_better_notifica(group)\n",
    "    manter.append(idx)\n",
    "\n",
    "\n",
    "casosn.loc[manter, 'manter'] = 1 \n",
    "\n",
    "casos_duplicados = set(casos_duplicados.index.tolist())\n",
    "casos_duplicados = casos_duplicados - set(manter)\n",
    "\n",
    "all_duplicados_mantidos |= set(manter)\n",
    "all_casos_duplicados |= casos_duplicados\n",
    "casosn.loc[casos_duplicados].to_csv(join(output,'pacientes_duplicados_cpf.csv'), index=False)\n",
    "\n",
    "casosn.loc[casos_duplicados].groupby('classificacao_final')[['id']].count()\n",
    "# casosn = casosn.drop(index=casos_duplicados)"
   ]
  },
  {
   "cell_type": "code",
   "execution_count": 7,
   "metadata": {},
   "outputs": [
    {
     "output_type": "stream",
     "name": "stdout",
     "text": [
      "Total de pacientes com mais de uma ocorrencia pelo nome+nome_mae: 570228\n",
      "208470 pacientes pelo nome+nome_mae que estavam com mais de uma ocorrencia\n"
     ]
    },
    {
     "output_type": "execute_result",
     "data": {
      "text/plain": [
       "                                      id\n",
       "classificacao_final                     \n",
       "CASO CONFIRMADO                    22204\n",
       "CASO DESCARTADO                   150229\n",
       "CASO SUSPEITO                     187701\n",
       "IGNORADO                              34\n",
       "SINDROME GRIPAL NAO ESPECIFICADA    1590"
      ],
      "text/html": "<div>\n<style scoped>\n    .dataframe tbody tr th:only-of-type {\n        vertical-align: middle;\n    }\n\n    .dataframe tbody tr th {\n        vertical-align: top;\n    }\n\n    .dataframe thead th {\n        text-align: right;\n    }\n</style>\n<table border=\"1\" class=\"dataframe\">\n  <thead>\n    <tr style=\"text-align: right;\">\n      <th></th>\n      <th>id</th>\n    </tr>\n    <tr>\n      <th>classificacao_final</th>\n      <th></th>\n    </tr>\n  </thead>\n  <tbody>\n    <tr>\n      <th>CASO CONFIRMADO</th>\n      <td>22204</td>\n    </tr>\n    <tr>\n      <th>CASO DESCARTADO</th>\n      <td>150229</td>\n    </tr>\n    <tr>\n      <th>CASO SUSPEITO</th>\n      <td>187701</td>\n    </tr>\n    <tr>\n      <th>IGNORADO</th>\n      <td>34</td>\n    </tr>\n    <tr>\n      <th>SINDROME GRIPAL NAO ESPECIFICADA</th>\n      <td>1590</td>\n    </tr>\n  </tbody>\n</table>\n</div>"
     },
     "metadata": {},
     "execution_count": 7
    }
   ],
   "source": [
    "casos_duplicados = casosn.loc[(casosn['nome_mae'].notnull()) & (casosn.duplicated('hash_mae',keep=False))].sort_values('nome_mae')\n",
    "casosn.loc[casos_duplicados, 'duplicado'] = 1 \n",
    "\n",
    "print(f\"Total de pacientes com mais de uma ocorrencia pelo nome+nome_mae: {len(casos_duplicados)}\")\n",
    "print(f\"{len(casos_duplicados.groupby('nome_mae'))} pacientes pelo nome+nome_mae que estavam com mais de uma ocorrencia\")\n",
    "\n",
    "manter = []\n",
    "for hash, group in casos_duplicados.groupby('nome_mae'):\n",
    "    idx = get_better_notifica(group)\n",
    "    manter.append(idx)\n",
    "\n",
    "casosn.loc[manter, 'manter'] = 1 \n",
    "\n",
    "casos_duplicados = set(casos_duplicados.index.tolist())\n",
    "casos_duplicados = casos_duplicados - set(manter)\n",
    "\n",
    "all_duplicados_mantidos |= set(manter)\n",
    "all_casos_duplicados |= casos_duplicados\n",
    "casosn.loc[casos_duplicados].to_csv(join(output,'pacientes_duplicados_nome_mae.csv'), index=False)\n",
    "\n",
    "casosn.loc[casos_duplicados].groupby('classificacao_final')[['id']].count()\n",
    "# casosn = casosn.drop(index=casos_duplicados)"
   ]
  },
  {
   "cell_type": "code",
   "execution_count": 9,
   "metadata": {},
   "outputs": [
    {
     "output_type": "stream",
     "name": "stdout",
     "text": [
      "Total de pacientes com mais de uma ocorrencia pelo data_nascimento: 608079\n",
      "246361 pacientes pelo data_nascimento que estavam com mais de uma ocorrencia\n"
     ]
    },
    {
     "output_type": "execute_result",
     "data": {
      "text/plain": [
       "                                      id\n",
       "classificacao_final                     \n",
       "CASO CONFIRMADO                    18202\n",
       "CASO DESCARTADO                   145690\n",
       "CASO SUSPEITO                     196175\n",
       "IGNORADO                              38\n",
       "SINDROME GRIPAL NAO ESPECIFICADA    1613"
      ],
      "text/html": "<div>\n<style scoped>\n    .dataframe tbody tr th:only-of-type {\n        vertical-align: middle;\n    }\n\n    .dataframe tbody tr th {\n        vertical-align: top;\n    }\n\n    .dataframe thead th {\n        text-align: right;\n    }\n</style>\n<table border=\"1\" class=\"dataframe\">\n  <thead>\n    <tr style=\"text-align: right;\">\n      <th></th>\n      <th>id</th>\n    </tr>\n    <tr>\n      <th>classificacao_final</th>\n      <th></th>\n    </tr>\n  </thead>\n  <tbody>\n    <tr>\n      <th>CASO CONFIRMADO</th>\n      <td>18202</td>\n    </tr>\n    <tr>\n      <th>CASO DESCARTADO</th>\n      <td>145690</td>\n    </tr>\n    <tr>\n      <th>CASO SUSPEITO</th>\n      <td>196175</td>\n    </tr>\n    <tr>\n      <th>IGNORADO</th>\n      <td>38</td>\n    </tr>\n    <tr>\n      <th>SINDROME GRIPAL NAO ESPECIFICADA</th>\n      <td>1613</td>\n    </tr>\n  </tbody>\n</table>\n</div>"
     },
     "metadata": {},
     "execution_count": 9
    }
   ],
   "source": [
    "casos_duplicados = casosn.loc[(casosn['hash_nasc'].notnull()) & (casosn.duplicated('hash_nasc',keep=False))].sort_values('data_nascimento')\n",
    "casosn.loc[casos_duplicados, 'duplicado'] = 1 \n",
    "\n",
    "print(f\"Total de pacientes com mais de uma ocorrencia pelo data_nascimento: {len(casos_duplicados)}\")\n",
    "print(f\"{len(casos_duplicados.groupby('hash_nasc'))} pacientes pelo data_nascimento que estavam com mais de uma ocorrencia\")\n",
    "\n",
    "manter = []\n",
    "for hash, group in casos_duplicados.groupby('hash_nasc'):\n",
    "    idx = get_better_notifica(group)\n",
    "    manter.append(idx)\n",
    "\n",
    "casosn.loc[manter, 'manter'] = 1 \n",
    "\n",
    "casos_duplicados = set(casos_duplicados.index.tolist())\n",
    "casos_duplicados = casos_duplicados - set(manter)\n",
    "\n",
    "all_duplicados_mantidos |= set(manter)\n",
    "all_casos_duplicados |= casos_duplicados\n",
    "casosn.loc[casos_duplicados].to_csv(join(output,'pacientes_duplicados_data_nascimento.csv'), index=False)\n",
    "\n",
    "casosn.loc[casos_duplicados].groupby('classificacao_final')[['id']].count()\n",
    "# casosn = casosn.drop(index=casos_duplicados)"
   ]
  },
  {
   "cell_type": "code",
   "execution_count": 11,
   "metadata": {},
   "outputs": [
    {
     "output_type": "stream",
     "name": "stdout",
     "text": [
      "Total de pacientes com mais de uma ocorrencia pelo hash_resid: 493914\n",
      "201440 pacientes pelo hash_resid que estavam com mais de uma ocorrencia\n"
     ]
    },
    {
     "output_type": "execute_result",
     "data": {
      "text/plain": [
       "                                      id\n",
       "classificacao_final                     \n",
       "CASO CONFIRMADO                    15637\n",
       "CASO DESCARTADO                   117865\n",
       "CASO SUSPEITO                     157730\n",
       "IGNORADO                              28\n",
       "SINDROME GRIPAL NAO ESPECIFICADA    1214"
      ],
      "text/html": "<div>\n<style scoped>\n    .dataframe tbody tr th:only-of-type {\n        vertical-align: middle;\n    }\n\n    .dataframe tbody tr th {\n        vertical-align: top;\n    }\n\n    .dataframe thead th {\n        text-align: right;\n    }\n</style>\n<table border=\"1\" class=\"dataframe\">\n  <thead>\n    <tr style=\"text-align: right;\">\n      <th></th>\n      <th>id</th>\n    </tr>\n    <tr>\n      <th>classificacao_final</th>\n      <th></th>\n    </tr>\n  </thead>\n  <tbody>\n    <tr>\n      <th>CASO CONFIRMADO</th>\n      <td>15637</td>\n    </tr>\n    <tr>\n      <th>CASO DESCARTADO</th>\n      <td>117865</td>\n    </tr>\n    <tr>\n      <th>CASO SUSPEITO</th>\n      <td>157730</td>\n    </tr>\n    <tr>\n      <th>IGNORADO</th>\n      <td>28</td>\n    </tr>\n    <tr>\n      <th>SINDROME GRIPAL NAO ESPECIFICADA</th>\n      <td>1214</td>\n    </tr>\n  </tbody>\n</table>\n</div>"
     },
     "metadata": {},
     "execution_count": 11
    }
   ],
   "source": [
    "casos_duplicados = casosn.loc[(casosn['hash_resid'].notnull()) & (casosn.duplicated('hash_resid',keep=False))].sort_values('paciente')\n",
    "casosn.loc[casos_duplicados, 'duplicado'] = 1 \n",
    "\n",
    "print(f\"Total de pacientes com mais de uma ocorrencia pelo hash_resid: {len(casos_duplicados)}\")\n",
    "print(f\"{len(casos_duplicados.groupby('hash_resid'))} pacientes pelo hash_resid que estavam com mais de uma ocorrencia\")\n",
    "\n",
    "manter = []\n",
    "for hash, group in casos_duplicados.groupby('hash_resid'):\n",
    "    idx = get_better_notifica(group)\n",
    "    manter.append(idx)\n",
    "\n",
    "casosn.loc[manter, 'manter'] = 1 \n",
    "\n",
    "casos_duplicados = set(casos_duplicados.index.tolist())\n",
    "casos_duplicados = casos_duplicados - set(manter)\n",
    "\n",
    "all_duplicados_mantidos |= set(manter)\n",
    "all_casos_duplicados |= casos_duplicados\n",
    "casosn.loc[casos_duplicados].to_csv(join(output,'pacientes_duplicados_nome_idade_mun_resid.csv'), index=False)\n",
    "\n",
    "casosn.loc[casos_duplicados].groupby('classificacao_final')[['id']].count()\n",
    "# casosn = casosn.drop(index=casos_duplicados)"
   ]
  },
  {
   "cell_type": "code",
   "execution_count": 13,
   "metadata": {},
   "outputs": [
    {
     "output_type": "stream",
     "name": "stdout",
     "text": [
      "Total de pacientes com mais de uma ocorrencia pelo hash_atend: 424731\n",
      "172315 pacientes pelo hash_atend que estavam com mais de uma ocorrencia\n"
     ]
    },
    {
     "output_type": "execute_result",
     "data": {
      "text/plain": [
       "                                      id\n",
       "classificacao_final                     \n",
       "CASO CONFIRMADO                    12241\n",
       "CASO DESCARTADO                   104927\n",
       "CASO SUSPEITO                     134084\n",
       "IGNORADO                              12\n",
       "SINDROME GRIPAL NAO ESPECIFICADA    1152"
      ],
      "text/html": "<div>\n<style scoped>\n    .dataframe tbody tr th:only-of-type {\n        vertical-align: middle;\n    }\n\n    .dataframe tbody tr th {\n        vertical-align: top;\n    }\n\n    .dataframe thead th {\n        text-align: right;\n    }\n</style>\n<table border=\"1\" class=\"dataframe\">\n  <thead>\n    <tr style=\"text-align: right;\">\n      <th></th>\n      <th>id</th>\n    </tr>\n    <tr>\n      <th>classificacao_final</th>\n      <th></th>\n    </tr>\n  </thead>\n  <tbody>\n    <tr>\n      <th>CASO CONFIRMADO</th>\n      <td>12241</td>\n    </tr>\n    <tr>\n      <th>CASO DESCARTADO</th>\n      <td>104927</td>\n    </tr>\n    <tr>\n      <th>CASO SUSPEITO</th>\n      <td>134084</td>\n    </tr>\n    <tr>\n      <th>IGNORADO</th>\n      <td>12</td>\n    </tr>\n    <tr>\n      <th>SINDROME GRIPAL NAO ESPECIFICADA</th>\n      <td>1152</td>\n    </tr>\n  </tbody>\n</table>\n</div>"
     },
     "metadata": {},
     "execution_count": 13
    }
   ],
   "source": [
    "casos_duplicados = casosn.loc[(casosn['hash_atend'].notnull()) & (casosn.duplicated('hash_atend',keep=False))].sort_values('paciente')\n",
    "casosn.loc[casos_duplicados, 'duplicado'] = 1 \n",
    "\n",
    "print(f\"Total de pacientes com mais de uma ocorrencia pelo hash_atend: {len(casos_duplicados)}\")\n",
    "print(f\"{len(casos_duplicados.groupby('hash_atend'))} pacientes pelo hash_atend que estavam com mais de uma ocorrencia\")\n",
    "\n",
    "manter = []\n",
    "for hash, group in casos_duplicados.groupby('hash_atend'):\n",
    "    idx = get_better_notifica(group)\n",
    "    manter.append(idx)\n",
    "\n",
    "casosn.loc[manter, 'manter'] = 1 \n",
    "\n",
    "casos_duplicados = set(casos_duplicados.index.tolist())\n",
    "casos_duplicados = casos_duplicados - set(manter)\n",
    "\n",
    "all_duplicados_mantidos |= set(manter)\n",
    "all_casos_duplicados |= casos_duplicados\n",
    "casosn.loc[casos_duplicados].to_csv(join(output,'pacientes_duplicados_nome_idade_mun_atend.csv'), index=False)\n",
    "\n",
    "casosn.loc[casos_duplicados].groupby('classificacao_final')[['id']].count()\n",
    "# casosn = casosn.drop(index=casos_duplicados)"
   ]
  },
  {
   "cell_type": "code",
   "execution_count": 15,
   "metadata": {},
   "outputs": [
    {
     "output_type": "stream",
     "name": "stdout",
     "text": [
      "Total de pacientes com mais de uma ocorrencia pelo hash_diag: 53525\n",
      "25664 pacientes pelo hash_diag que estavam com mais de uma ocorrencia\n"
     ]
    },
    {
     "output_type": "execute_result",
     "data": {
      "text/plain": [
       "                                     id\n",
       "classificacao_final                    \n",
       "CASO CONFIRMADO                    5092\n",
       "CASO DESCARTADO                   10282\n",
       "CASO SUSPEITO                     12438\n",
       "IGNORADO                              2\n",
       "SINDROME GRIPAL NAO ESPECIFICADA     47"
      ],
      "text/html": "<div>\n<style scoped>\n    .dataframe tbody tr th:only-of-type {\n        vertical-align: middle;\n    }\n\n    .dataframe tbody tr th {\n        vertical-align: top;\n    }\n\n    .dataframe thead th {\n        text-align: right;\n    }\n</style>\n<table border=\"1\" class=\"dataframe\">\n  <thead>\n    <tr style=\"text-align: right;\">\n      <th></th>\n      <th>id</th>\n    </tr>\n    <tr>\n      <th>classificacao_final</th>\n      <th></th>\n    </tr>\n  </thead>\n  <tbody>\n    <tr>\n      <th>CASO CONFIRMADO</th>\n      <td>5092</td>\n    </tr>\n    <tr>\n      <th>CASO DESCARTADO</th>\n      <td>10282</td>\n    </tr>\n    <tr>\n      <th>CASO SUSPEITO</th>\n      <td>12438</td>\n    </tr>\n    <tr>\n      <th>IGNORADO</th>\n      <td>2</td>\n    </tr>\n    <tr>\n      <th>SINDROME GRIPAL NAO ESPECIFICADA</th>\n      <td>47</td>\n    </tr>\n  </tbody>\n</table>\n</div>"
     },
     "metadata": {},
     "execution_count": 15
    }
   ],
   "source": [
    "casos_duplicados = casosn.loc[(casosn['hash_diag'].notnull()) & (casosn.duplicated('hash_diag',keep=False))].sort_values('paciente')\n",
    "casosn.loc[casos_duplicados, 'duplicado'] = 1 \n",
    "\n",
    "print(f\"Total de pacientes com mais de uma ocorrencia pelo hash_diag: {len(casos_duplicados)}\")\n",
    "print(f\"{len(casos_duplicados.groupby('hash_diag'))} pacientes pelo hash_diag que estavam com mais de uma ocorrencia\")\n",
    "\n",
    "manter = []\n",
    "for hash, group in casos_duplicados.groupby('hash_diag'):\n",
    "    idx = get_better_notifica(group)\n",
    "    manter.append(idx)\n",
    "\n",
    "casosn.loc[manter, 'manter'] = 1 \n",
    "\n",
    "casos_duplicados = set(casos_duplicados.index.tolist())\n",
    "casos_duplicados = casos_duplicados - set(manter)\n",
    "\n",
    "all_duplicados_mantidos |= set(manter)\n",
    "all_casos_duplicados |= casos_duplicados\n",
    "casosn.loc[casos_duplicados].to_csv(join(output,'pacientes_duplicados_hash_diag.csv'), index=False)\n",
    "\n",
    "casosn.loc[casos_duplicados].groupby('classificacao_final')[['id']].count()\n",
    "# casosn = casosn.drop(index=casos_duplicados)"
   ]
  },
  {
   "cell_type": "code",
   "execution_count": 17,
   "metadata": {},
   "outputs": [],
   "source": [
    "notifica.save(casosn)"
   ]
  }
 ],
 "metadata": {
  "kernelspec": {
   "display_name": "Python 3",
   "language": "python",
   "name": "python3"
  },
  "language_info": {
   "codemirror_mode": {
    "name": "ipython",
    "version": 3
   },
   "file_extension": ".py",
   "mimetype": "text/x-python",
   "name": "python",
   "nbconvert_exporter": "python",
   "pygments_lexer": "ipython3",
   "version": "3.8.5-final"
  }
 },
 "nbformat": 4,
 "nbformat_minor": 2
}