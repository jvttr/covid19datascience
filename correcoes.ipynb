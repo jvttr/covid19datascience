{
 "metadata": {
  "language_info": {
   "codemirror_mode": {
    "name": "ipython",
    "version": 3
   },
   "file_extension": ".py",
   "mimetype": "text/x-python",
   "name": "python",
   "nbconvert_exporter": "python",
   "pygments_lexer": "ipython3",
   "version": "3.8.5-final"
  },
  "orig_nbformat": 2,
  "kernelspec": {
   "name": "python3",
   "display_name": "Python 3",
   "language": "python"
  }
 },
 "nbformat": 4,
 "nbformat_minor": 2,
 "cells": [
  {
   "cell_type": "code",
   "execution_count": 1,
   "metadata": {},
   "outputs": [],
   "source": [
    "from sys import exit\n",
    "import numpy as np\n",
    "import pandas as pd\n",
    "from os.path import dirname, join, isfile, isdir\n",
    "from os import makedirs\n",
    "from datetime import datetime, timedelta\n",
    "\n",
    "from bulletin.data.notifica import Notifica\n",
    "from bulletin.data.casos_confirmados import CasosConfirmados\n",
    "from bulletin.commom.utils import Timer, get_better_notifica\n",
    "\n",
    "pd.set_option('display.max_columns', None)\n",
    "\n",
    "output = join(\"output\",\"correcoes\",\"notifica\")\n",
    "\n",
    "if not isdir(output):\n",
    "    makedirs(output)"
   ]
  },
  {
   "cell_type": "code",
   "execution_count": 2,
   "metadata": {},
   "outputs": [
    {
     "output_type": "stream",
     "name": "stdout",
     "text": [
      "4.935965538024902\n"
     ]
    },
    {
     "output_type": "execute_result",
     "data": {
      "text/plain": [
       "(1709432, 755234, 7044, 945478, 1676)"
      ]
     },
     "metadata": {},
     "execution_count": 2
    }
   ],
   "source": [
    "timer = Timer()\n",
    "notifica = Notifica()\n",
    "# notifica.update()\n",
    "print(timer.stop())\n",
    "notifica.shape()"
   ]
  },
  {
   "cell_type": "code",
   "execution_count": 3,
   "metadata": {},
   "outputs": [
    {
     "output_type": "stream",
     "name": "stdout",
     "text": [
      "0.7157773971557617\n"
     ]
    },
    {
     "output_type": "execute_result",
     "data": {
      "text/plain": [
       "(374349, 7271)"
      ]
     },
     "metadata": {},
     "execution_count": 3
    }
   ],
   "source": [
    "timer.reset()\n",
    "casos_confirmados = CasosConfirmados()\n",
    "# casos_confirmados.update()\n",
    "print(timer.stop())\n",
    "casos_confirmados.shape()"
   ]
  },
  {
   "cell_type": "code",
   "execution_count": 4,
   "metadata": {},
   "outputs": [
    {
     "output_type": "execute_result",
     "data": {
      "text/plain": [
       "                                      id\n",
       "classificacao_final                     \n",
       "CASO CONFIRMADO                   368187\n",
       "CASO DESCARTADO                   565711\n",
       "CASO SUSPEITO                     767807\n",
       "IGNORADO                             700\n",
       "SINDROME GRIPAL NAO ESPECIFICADA    7027"
      ],
      "text/html": "<div>\n<style scoped>\n    .dataframe tbody tr th:only-of-type {\n        vertical-align: middle;\n    }\n\n    .dataframe tbody tr th {\n        vertical-align: top;\n    }\n\n    .dataframe thead th {\n        text-align: right;\n    }\n</style>\n<table border=\"1\" class=\"dataframe\">\n  <thead>\n    <tr style=\"text-align: right;\">\n      <th></th>\n      <th>id</th>\n    </tr>\n    <tr>\n      <th>classificacao_final</th>\n      <th></th>\n    </tr>\n  </thead>\n  <tbody>\n    <tr>\n      <th>CASO CONFIRMADO</th>\n      <td>368187</td>\n    </tr>\n    <tr>\n      <th>CASO DESCARTADO</th>\n      <td>565711</td>\n    </tr>\n    <tr>\n      <th>CASO SUSPEITO</th>\n      <td>767807</td>\n    </tr>\n    <tr>\n      <th>IGNORADO</th>\n      <td>700</td>\n    </tr>\n    <tr>\n      <th>SINDROME GRIPAL NAO ESPECIFICADA</th>\n      <td>7027</td>\n    </tr>\n  </tbody>\n</table>\n</div>"
     },
     "metadata": {},
     "execution_count": 4
    }
   ],
   "source": [
    "casosn = notifica.get_casos()\n",
    "casosc = casos_confirmados.get_casos()\n",
    "casosc = casosc.loc[casosc['excluir']!='SIM']\n",
    "casosn.groupby('classificacao_final')[['id']].count()"
   ]
  },
  {
   "cell_type": "code",
   "execution_count": 5,
   "metadata": {},
   "outputs": [
    {
     "output_type": "stream",
     "name": "stdout",
     "text": [
      "Total de pacientes com mais de uma ocorrencia: 317579\n",
      "130654 pacientes pelo CPF que estavam com mais de uma ocorrencia\n"
     ]
    },
    {
     "output_type": "execute_result",
     "data": {
      "text/plain": [
       "                                      id\n",
       "classificacao_final                     \n",
       "CASO CONFIRMADO                     8431\n",
       "CASO DESCARTADO                    69079\n",
       "CASO SUSPEITO                     108326\n",
       "IGNORADO                              47\n",
       "SINDROME GRIPAL NAO ESPECIFICADA    1042"
      ],
      "text/html": "<div>\n<style scoped>\n    .dataframe tbody tr th:only-of-type {\n        vertical-align: middle;\n    }\n\n    .dataframe tbody tr th {\n        vertical-align: top;\n    }\n\n    .dataframe thead th {\n        text-align: right;\n    }\n</style>\n<table border=\"1\" class=\"dataframe\">\n  <thead>\n    <tr style=\"text-align: right;\">\n      <th></th>\n      <th>id</th>\n    </tr>\n    <tr>\n      <th>classificacao_final</th>\n      <th></th>\n    </tr>\n  </thead>\n  <tbody>\n    <tr>\n      <th>CASO CONFIRMADO</th>\n      <td>8431</td>\n    </tr>\n    <tr>\n      <th>CASO DESCARTADO</th>\n      <td>69079</td>\n    </tr>\n    <tr>\n      <th>CASO SUSPEITO</th>\n      <td>108326</td>\n    </tr>\n    <tr>\n      <th>IGNORADO</th>\n      <td>47</td>\n    </tr>\n    <tr>\n      <th>SINDROME GRIPAL NAO ESPECIFICADA</th>\n      <td>1042</td>\n    </tr>\n  </tbody>\n</table>\n</div>"
     },
     "metadata": {},
     "execution_count": 5
    }
   ],
   "source": [
    "casos_duplicados = casosn.loc[(casosn['cpf'].notnull()) & (casosn.duplicated('cpf',keep=False))].sort_values('cpf')\n",
    "print(f\"Total de pacientes com mais de uma ocorrencia: {len(casos_duplicados)}\")\n",
    "print(f\"{len(casos_duplicados.groupby('cpf'))} pacientes pelo CPF que estavam com mais de uma ocorrencia\")\n",
    "\n",
    "all_casos_duplicados = set()\n",
    "all_duplicados_mantidos = set()\n",
    "manter = []\n",
    "\n",
    "for hash, group in casos_duplicados.groupby('cpf'):\n",
    "    idx = get_better_notifica(group)\n",
    "    manter.append(idx)\n",
    "\n",
    "\n",
    "casos_duplicados = set(casos_duplicados.index.tolist())\n",
    "casos_duplicados = casos_duplicados - set(manter)\n",
    "\n",
    "all_duplicados_mantidos |= set(manter)\n",
    "all_casos_duplicados |= casos_duplicados\n",
    "casosn.loc[casos_duplicados].to_csv(join(output,'pacientes_duplicados_cpf.csv'), index=False)\n",
    "\n",
    "casosn.loc[casos_duplicados].groupby('classificacao_final')[['id']].count()"
   ]
  },
  {
   "cell_type": "code",
   "execution_count": 6,
   "metadata": {},
   "outputs": [],
   "source": [
    "casosn = casosn.drop(index=casos_duplicados)"
   ]
  },
  {
   "cell_type": "code",
   "execution_count": 7,
   "metadata": {},
   "outputs": [
    {
     "output_type": "stream",
     "name": "stdout",
     "text": [
      "Total de pacientes com mais de uma ocorrencia pelo nome+nome_mae: 54756\n23651 pacientes pelo nome+nome_mae que estavam com mais de uma ocorrencia\n"
     ]
    },
    {
     "output_type": "execute_result",
     "data": {
      "text/plain": [
       "                                     id\n",
       "classificacao_final                    \n",
       "CASO CONFIRMADO                    1911\n",
       "CASO DESCARTADO                   10782\n",
       "CASO SUSPEITO                     18245\n",
       "IGNORADO                              4\n",
       "SINDROME GRIPAL NAO ESPECIFICADA    163"
      ],
      "text/html": "<div>\n<style scoped>\n    .dataframe tbody tr th:only-of-type {\n        vertical-align: middle;\n    }\n\n    .dataframe tbody tr th {\n        vertical-align: top;\n    }\n\n    .dataframe thead th {\n        text-align: right;\n    }\n</style>\n<table border=\"1\" class=\"dataframe\">\n  <thead>\n    <tr style=\"text-align: right;\">\n      <th></th>\n      <th>id</th>\n    </tr>\n    <tr>\n      <th>classificacao_final</th>\n      <th></th>\n    </tr>\n  </thead>\n  <tbody>\n    <tr>\n      <th>CASO CONFIRMADO</th>\n      <td>1911</td>\n    </tr>\n    <tr>\n      <th>CASO DESCARTADO</th>\n      <td>10782</td>\n    </tr>\n    <tr>\n      <th>CASO SUSPEITO</th>\n      <td>18245</td>\n    </tr>\n    <tr>\n      <th>IGNORADO</th>\n      <td>4</td>\n    </tr>\n    <tr>\n      <th>SINDROME GRIPAL NAO ESPECIFICADA</th>\n      <td>163</td>\n    </tr>\n  </tbody>\n</table>\n</div>"
     },
     "metadata": {},
     "execution_count": 7
    }
   ],
   "source": [
    "casos_duplicados = casosn.loc[(casosn['nome_mae'].notnull()) & (casosn.duplicated('hash_mae',keep=False))].sort_values('nome_mae')\n",
    "# casos_duplicados_nome_mae.loc[casos_duplicados_nome_mae['nome_mae']=='0']\n",
    "\n",
    "print(f\"Total de pacientes com mais de uma ocorrencia pelo nome+nome_mae: {len(casos_duplicados)}\")\n",
    "print(f\"{len(casos_duplicados.groupby('nome_mae'))} pacientes pelo nome+nome_mae que estavam com mais de uma ocorrencia\")\n",
    "\n",
    "manter = []\n",
    "for hash, group in casos_duplicados.groupby('nome_mae'):\n",
    "    idx = get_better_notifica(group)\n",
    "    manter.append(idx)\n",
    "\n",
    "\n",
    "casos_duplicados = set(casos_duplicados.index.tolist())\n",
    "casos_duplicados = casos_duplicados - set(manter)\n",
    "\n",
    "all_duplicados_mantidos |= set(manter)\n",
    "all_casos_duplicados |= casos_duplicados\n",
    "casosn.loc[casos_duplicados].to_csv(join(output,'pacientes_duplicados_nome_mae.csv'), index=False)\n",
    "\n",
    "casosn.loc[casos_duplicados].groupby('classificacao_final')[['id']].count()"
   ]
  },
  {
   "cell_type": "code",
   "execution_count": 8,
   "metadata": {},
   "outputs": [],
   "source": [
    "casosn = casosn.drop(index=casos_duplicados)"
   ]
  },
  {
   "cell_type": "code",
   "execution_count": 9,
   "metadata": {},
   "outputs": [
    {
     "output_type": "stream",
     "name": "stdout",
     "text": [
      "Total de pacientes com mais de uma ocorrencia pelo hash_idade_resid: 13239\n6527 pacientes pelo hash_idade_resid que estavam com mais de uma ocorrencia\n"
     ]
    },
    {
     "output_type": "execute_result",
     "data": {
      "text/plain": [
       "                                    id\n",
       "classificacao_final                   \n",
       "CASO CONFIRMADO                    600\n",
       "CASO DESCARTADO                   1911\n",
       "CASO SUSPEITO                     4174\n",
       "IGNORADO                             3\n",
       "SINDROME GRIPAL NAO ESPECIFICADA    24"
      ],
      "text/html": "<div>\n<style scoped>\n    .dataframe tbody tr th:only-of-type {\n        vertical-align: middle;\n    }\n\n    .dataframe tbody tr th {\n        vertical-align: top;\n    }\n\n    .dataframe thead th {\n        text-align: right;\n    }\n</style>\n<table border=\"1\" class=\"dataframe\">\n  <thead>\n    <tr style=\"text-align: right;\">\n      <th></th>\n      <th>id</th>\n    </tr>\n    <tr>\n      <th>classificacao_final</th>\n      <th></th>\n    </tr>\n  </thead>\n  <tbody>\n    <tr>\n      <th>CASO CONFIRMADO</th>\n      <td>600</td>\n    </tr>\n    <tr>\n      <th>CASO DESCARTADO</th>\n      <td>1911</td>\n    </tr>\n    <tr>\n      <th>CASO SUSPEITO</th>\n      <td>4174</td>\n    </tr>\n    <tr>\n      <th>IGNORADO</th>\n      <td>3</td>\n    </tr>\n    <tr>\n      <th>SINDROME GRIPAL NAO ESPECIFICADA</th>\n      <td>24</td>\n    </tr>\n  </tbody>\n</table>\n</div>"
     },
     "metadata": {},
     "execution_count": 9
    }
   ],
   "source": [
    "casos_duplicados = casosn.loc[(casosn['hash_idade_resid'].notnull()) & (casosn.duplicated('hash_idade_resid',keep=False))].sort_values('paciente')\n",
    "\n",
    "print(f\"Total de pacientes com mais de uma ocorrencia pelo hash_idade_resid: {len(casos_duplicados)}\")\n",
    "print(f\"{len(casos_duplicados.groupby('hash_idade_resid'))} pacientes pelo hash_idade_resid que estavam com mais de uma ocorrencia\")\n",
    "\n",
    "manter = []\n",
    "for hash, group in casos_duplicados.groupby('hash_idade_resid'):\n",
    "    idx = get_better_notifica(group)\n",
    "    manter.append(idx)\n",
    "\n",
    "\n",
    "casos_duplicados = set(casos_duplicados.index.tolist())\n",
    "casos_duplicados = casos_duplicados - set(manter)\n",
    "\n",
    "all_duplicados_mantidos |= set(manter)\n",
    "all_casos_duplicados |= casos_duplicados\n",
    "casosn.loc[casos_duplicados].to_csv(join(output,'pacientes_duplicados_nome_idade_mun_resid.csv'), index=False)\n",
    "\n",
    "casosn.loc[casos_duplicados].groupby('classificacao_final')[['id']].count()"
   ]
  },
  {
   "cell_type": "code",
   "execution_count": 10,
   "metadata": {},
   "outputs": [],
   "source": [
    "casosn = casosn.drop(index=casos_duplicados)"
   ]
  },
  {
   "cell_type": "code",
   "execution_count": 11,
   "metadata": {},
   "outputs": [
    {
     "output_type": "stream",
     "name": "stdout",
     "text": [
      "Total de pacientes com mais de uma ocorrencia pelo hash_idade_atend: 799\n399 pacientes pelo hash_idade_atend que estavam com mais de uma ocorrencia\n"
     ]
    },
    {
     "output_type": "execute_result",
     "data": {
      "text/plain": [
       "                                   id\n",
       "classificacao_final                  \n",
       "CASO CONFIRMADO                    39\n",
       "CASO DESCARTADO                    93\n",
       "CASO SUSPEITO                     263\n",
       "IGNORADO                            4\n",
       "SINDROME GRIPAL NAO ESPECIFICADA    1"
      ],
      "text/html": "<div>\n<style scoped>\n    .dataframe tbody tr th:only-of-type {\n        vertical-align: middle;\n    }\n\n    .dataframe tbody tr th {\n        vertical-align: top;\n    }\n\n    .dataframe thead th {\n        text-align: right;\n    }\n</style>\n<table border=\"1\" class=\"dataframe\">\n  <thead>\n    <tr style=\"text-align: right;\">\n      <th></th>\n      <th>id</th>\n    </tr>\n    <tr>\n      <th>classificacao_final</th>\n      <th></th>\n    </tr>\n  </thead>\n  <tbody>\n    <tr>\n      <th>CASO CONFIRMADO</th>\n      <td>39</td>\n    </tr>\n    <tr>\n      <th>CASO DESCARTADO</th>\n      <td>93</td>\n    </tr>\n    <tr>\n      <th>CASO SUSPEITO</th>\n      <td>263</td>\n    </tr>\n    <tr>\n      <th>IGNORADO</th>\n      <td>4</td>\n    </tr>\n    <tr>\n      <th>SINDROME GRIPAL NAO ESPECIFICADA</th>\n      <td>1</td>\n    </tr>\n  </tbody>\n</table>\n</div>"
     },
     "metadata": {},
     "execution_count": 11
    }
   ],
   "source": [
    "casos_duplicados = casosn.loc[(casosn['hash_idade_atend'].notnull()) & (casosn.duplicated('hash_idade_atend',keep=False))].sort_values('paciente')\n",
    "# casos_duplicados_nome_mae.loc[casos_duplicados_nome_mae['nome_mae']=='0']\n",
    "\n",
    "print(f\"Total de pacientes com mais de uma ocorrencia pelo hash_idade_atend: {len(casos_duplicados)}\")\n",
    "print(f\"{len(casos_duplicados.groupby('hash_idade_atend'))} pacientes pelo hash_idade_atend que estavam com mais de uma ocorrencia\")\n",
    "\n",
    "manter = []\n",
    "for hash, group in casos_duplicados.groupby('hash_idade_atend'):\n",
    "    idx = get_better_notifica(group)\n",
    "    manter.append(idx)\n",
    "\n",
    "\n",
    "casos_duplicados = set(casos_duplicados.index.tolist())\n",
    "casos_duplicados = casos_duplicados - set(manter)\n",
    "\n",
    "all_duplicados_mantidos |= set(manter)\n",
    "all_casos_duplicados |= casos_duplicados\n",
    "casosn.loc[casos_duplicados].to_csv(join(output,'pacientes_duplicados_nome_idade_mun_atend.csv'), index=False)\n",
    "\n",
    "casosn.loc[casos_duplicados].groupby('classificacao_final')[['id']].count()"
   ]
  },
  {
   "cell_type": "code",
   "execution_count": 12,
   "metadata": {},
   "outputs": [],
   "source": [
    "casosn = casosn.drop(index=casos_duplicados)"
   ]
  },
  {
   "cell_type": "code",
   "execution_count": 13,
   "metadata": {},
   "outputs": [
    {
     "output_type": "stream",
     "name": "stdout",
     "text": [
      "Das 1709432 notificações baixadas, 225142 (225142) foram excluidas por serem do mesmo paciente, sendo mantida a que melhor pontuou nos critérios. Sendo assim, o novo total de notificações existente é de 1484290\n"
     ]
    }
   ],
   "source": [
    "print(f\"Das {notifica.shape()[0]} notificações baixadas, {notifica.shape()[0] - casosn.shape[0]} ({len(all_casos_duplicados)}) foram excluidas por serem do mesmo paciente, sendo mantida a que melhor pontuou nos critérios. Sendo assim, o novo total de notificações existente é de {casosn.shape[0]}\")\n",
    "allcasosn = notifica.get_casos()\n",
    "allcasosn.loc[all_casos_duplicados].to_csv(join(output,'all_casos_duplicados.csv'), index=False)\n",
    "allcasosn.loc[all_duplicados_mantidos].to_csv(join(output,'all_duplicados_mantidos.csv'), index=False)"
   ]
  },
  {
   "cell_type": "code",
   "execution_count": 14,
   "metadata": {},
   "outputs": [],
   "source": [
    "idx_casos_confirmados = casosc[casosc['hash'].isin(casosn['hash_idade_resid'])].index.tolist()\n",
    "idx_casos_confirmados += casosc[casosc['hash_less'].isin(casosn['hash_idade_resid'])].index.tolist()\n",
    "idx_casos_confirmados += casosc[casosc['hash_more'].isin(casosn['hash_idade_resid'])].index.tolist()\n",
    "idx_casos_confirmados = set(idx_casos_confirmados)\n",
    "casos_confirmados_nao_notifica = casosc.loc[ set(casosc.index.tolist()) - idx_casos_confirmados ].sort_values('ordem')\n",
    "casos_confirmados_nao_notifica.to_excel(join(output,'casos_confirmados_nao_notifica.xlsx'),index=False)"
   ]
  },
  {
   "cell_type": "code",
   "execution_count": 15,
   "metadata": {
    "tags": []
   },
   "outputs": [],
   "source": [
    "idx_casos_notifica = casosn[casosn['hash_idade_resid'].isin(casosc['hash'])].index.tolist()\n",
    "idx_casos_notifica += casosn[casosn['hash_idade_resid'].isin(casosc['hash_less'])].index.tolist()\n",
    "idx_casos_notifica += casosn[casosn['hash_idade_resid'].isin(casosc['hash_more'])].index.tolist()\n",
    "idx_casos_notifica = set(idx_casos_notifica)\n",
    "casos_confirmados_notifica = casosn.loc[ idx_casos_notifica ].sort_values('id')\n",
    "casos_confirmados_notifica.to_excel(join(output,'casos_confirmados_notifica.xlsx'),index=False)"
   ]
  },
  {
   "cell_type": "code",
   "execution_count": 17,
   "metadata": {},
   "outputs": [
    {
     "output_type": "error",
     "ename": "KeyError",
     "evalue": "'hash_idade_less'",
     "traceback": [
      "\u001b[1;31m---------------------------------------------------------------------------\u001b[0m",
      "\u001b[1;31mKeyError\u001b[0m                                  Traceback (most recent call last)",
      "\u001b[1;32m~\\anaconda3\\lib\\site-packages\\pandas\\core\\indexes\\base.py\u001b[0m in \u001b[0;36mget_loc\u001b[1;34m(self, key, method, tolerance)\u001b[0m\n\u001b[0;32m   2894\u001b[0m             \u001b[1;32mtry\u001b[0m\u001b[1;33m:\u001b[0m\u001b[1;33m\u001b[0m\u001b[1;33m\u001b[0m\u001b[0m\n\u001b[1;32m-> 2895\u001b[1;33m                 \u001b[1;32mreturn\u001b[0m \u001b[0mself\u001b[0m\u001b[1;33m.\u001b[0m\u001b[0m_engine\u001b[0m\u001b[1;33m.\u001b[0m\u001b[0mget_loc\u001b[0m\u001b[1;33m(\u001b[0m\u001b[0mcasted_key\u001b[0m\u001b[1;33m)\u001b[0m\u001b[1;33m\u001b[0m\u001b[1;33m\u001b[0m\u001b[0m\n\u001b[0m\u001b[0;32m   2896\u001b[0m             \u001b[1;32mexcept\u001b[0m \u001b[0mKeyError\u001b[0m \u001b[1;32mas\u001b[0m \u001b[0merr\u001b[0m\u001b[1;33m:\u001b[0m\u001b[1;33m\u001b[0m\u001b[1;33m\u001b[0m\u001b[0m\n",
      "\u001b[1;32mpandas\\_libs\\index.pyx\u001b[0m in \u001b[0;36mpandas._libs.index.IndexEngine.get_loc\u001b[1;34m()\u001b[0m\n",
      "\u001b[1;32mpandas\\_libs\\index.pyx\u001b[0m in \u001b[0;36mpandas._libs.index.IndexEngine.get_loc\u001b[1;34m()\u001b[0m\n",
      "\u001b[1;32mpandas\\_libs\\hashtable_class_helper.pxi\u001b[0m in \u001b[0;36mpandas._libs.hashtable.PyObjectHashTable.get_item\u001b[1;34m()\u001b[0m\n",
      "\u001b[1;32mpandas\\_libs\\hashtable_class_helper.pxi\u001b[0m in \u001b[0;36mpandas._libs.hashtable.PyObjectHashTable.get_item\u001b[1;34m()\u001b[0m\n",
      "\u001b[1;31mKeyError\u001b[0m: 'hash_idade_less'",
      "\nThe above exception was the direct cause of the following exception:\n",
      "\u001b[1;31mKeyError\u001b[0m                                  Traceback (most recent call last)",
      "\u001b[1;32m<ipython-input-17-ef799f677696>\u001b[0m in \u001b[0;36m<module>\u001b[1;34m\u001b[0m\n\u001b[0;32m      1\u001b[0m \u001b[0mnotifica_nao_casos_confirmados\u001b[0m \u001b[1;33m=\u001b[0m \u001b[0mcasosn\u001b[0m\u001b[1;33m.\u001b[0m\u001b[0mloc\u001b[0m\u001b[1;33m[\u001b[0m\u001b[0mset\u001b[0m\u001b[1;33m(\u001b[0m\u001b[0mcasosn\u001b[0m\u001b[1;33m.\u001b[0m\u001b[0mindex\u001b[0m\u001b[1;33m.\u001b[0m\u001b[0mtolist\u001b[0m\u001b[1;33m(\u001b[0m\u001b[1;33m)\u001b[0m\u001b[1;33m)\u001b[0m \u001b[1;33m-\u001b[0m \u001b[0mset\u001b[0m\u001b[1;33m(\u001b[0m\u001b[0midx_casos_notifica\u001b[0m\u001b[1;33m)\u001b[0m\u001b[1;33m]\u001b[0m\u001b[1;33m\u001b[0m\u001b[1;33m\u001b[0m\u001b[0m\n\u001b[0;32m      2\u001b[0m \u001b[0midx_casos_notifica_idade\u001b[0m \u001b[1;33m=\u001b[0m \u001b[0mnotifica_nao_casos_confirmados\u001b[0m\u001b[1;33m.\u001b[0m\u001b[0mloc\u001b[0m\u001b[1;33m[\u001b[0m\u001b[0mnotifica_nao_casos_confirmados\u001b[0m\u001b[1;33m[\u001b[0m\u001b[1;34m'hash_idade'\u001b[0m\u001b[1;33m]\u001b[0m\u001b[1;33m.\u001b[0m\u001b[0misin\u001b[0m\u001b[1;33m(\u001b[0m\u001b[0mcasos_confirmados_nao_notifica\u001b[0m\u001b[1;33m[\u001b[0m\u001b[1;34m'hash_idade'\u001b[0m\u001b[1;33m]\u001b[0m\u001b[1;33m)\u001b[0m\u001b[1;33m]\u001b[0m\u001b[1;33m.\u001b[0m\u001b[0mindex\u001b[0m\u001b[1;33m.\u001b[0m\u001b[0mtolist\u001b[0m\u001b[1;33m(\u001b[0m\u001b[1;33m)\u001b[0m\u001b[1;33m\u001b[0m\u001b[1;33m\u001b[0m\u001b[0m\n\u001b[1;32m----> 3\u001b[1;33m \u001b[0midx_casos_notifica_idade\u001b[0m \u001b[1;33m+=\u001b[0m \u001b[0mnotifica_nao_casos_confirmados\u001b[0m\u001b[1;33m.\u001b[0m\u001b[0mloc\u001b[0m\u001b[1;33m[\u001b[0m\u001b[0mnotifica_nao_casos_confirmados\u001b[0m\u001b[1;33m[\u001b[0m\u001b[1;34m'hash_idade_less'\u001b[0m\u001b[1;33m]\u001b[0m\u001b[1;33m.\u001b[0m\u001b[0misin\u001b[0m\u001b[1;33m(\u001b[0m\u001b[0mcasos_confirmados_nao_notifica\u001b[0m\u001b[1;33m[\u001b[0m\u001b[1;34m'hash_idade'\u001b[0m\u001b[1;33m]\u001b[0m\u001b[1;33m)\u001b[0m\u001b[1;33m]\u001b[0m\u001b[1;33m.\u001b[0m\u001b[0mindex\u001b[0m\u001b[1;33m.\u001b[0m\u001b[0mtolist\u001b[0m\u001b[1;33m(\u001b[0m\u001b[1;33m)\u001b[0m\u001b[1;33m\u001b[0m\u001b[1;33m\u001b[0m\u001b[0m\n\u001b[0m\u001b[0;32m      4\u001b[0m \u001b[0midx_casos_notifica_idade\u001b[0m \u001b[1;33m+=\u001b[0m \u001b[0mnotifica_nao_casos_confirmados\u001b[0m\u001b[1;33m.\u001b[0m\u001b[0mloc\u001b[0m\u001b[1;33m[\u001b[0m\u001b[0mnotifica_nao_casos_confirmados\u001b[0m\u001b[1;33m[\u001b[0m\u001b[1;34m'hash_idade_more'\u001b[0m\u001b[1;33m]\u001b[0m\u001b[1;33m.\u001b[0m\u001b[0misin\u001b[0m\u001b[1;33m(\u001b[0m\u001b[0mcasos_confirmados_nao_notifica\u001b[0m\u001b[1;33m[\u001b[0m\u001b[1;34m'hash_idade'\u001b[0m\u001b[1;33m]\u001b[0m\u001b[1;33m)\u001b[0m\u001b[1;33m]\u001b[0m\u001b[1;33m.\u001b[0m\u001b[0mindex\u001b[0m\u001b[1;33m.\u001b[0m\u001b[0mtolist\u001b[0m\u001b[1;33m(\u001b[0m\u001b[1;33m)\u001b[0m\u001b[1;33m\u001b[0m\u001b[1;33m\u001b[0m\u001b[0m\n\u001b[0;32m      5\u001b[0m \u001b[0mprint\u001b[0m\u001b[1;33m(\u001b[0m\u001b[0mlen\u001b[0m\u001b[1;33m(\u001b[0m\u001b[0midx_casos_notifica_idade\u001b[0m\u001b[1;33m)\u001b[0m\u001b[1;33m)\u001b[0m\u001b[1;33m\u001b[0m\u001b[1;33m\u001b[0m\u001b[0m\n",
      "\u001b[1;32m~\\anaconda3\\lib\\site-packages\\pandas\\core\\frame.py\u001b[0m in \u001b[0;36m__getitem__\u001b[1;34m(self, key)\u001b[0m\n\u001b[0;32m   2900\u001b[0m             \u001b[1;32mif\u001b[0m \u001b[0mself\u001b[0m\u001b[1;33m.\u001b[0m\u001b[0mcolumns\u001b[0m\u001b[1;33m.\u001b[0m\u001b[0mnlevels\u001b[0m \u001b[1;33m>\u001b[0m \u001b[1;36m1\u001b[0m\u001b[1;33m:\u001b[0m\u001b[1;33m\u001b[0m\u001b[1;33m\u001b[0m\u001b[0m\n\u001b[0;32m   2901\u001b[0m                 \u001b[1;32mreturn\u001b[0m \u001b[0mself\u001b[0m\u001b[1;33m.\u001b[0m\u001b[0m_getitem_multilevel\u001b[0m\u001b[1;33m(\u001b[0m\u001b[0mkey\u001b[0m\u001b[1;33m)\u001b[0m\u001b[1;33m\u001b[0m\u001b[1;33m\u001b[0m\u001b[0m\n\u001b[1;32m-> 2902\u001b[1;33m             \u001b[0mindexer\u001b[0m \u001b[1;33m=\u001b[0m \u001b[0mself\u001b[0m\u001b[1;33m.\u001b[0m\u001b[0mcolumns\u001b[0m\u001b[1;33m.\u001b[0m\u001b[0mget_loc\u001b[0m\u001b[1;33m(\u001b[0m\u001b[0mkey\u001b[0m\u001b[1;33m)\u001b[0m\u001b[1;33m\u001b[0m\u001b[1;33m\u001b[0m\u001b[0m\n\u001b[0m\u001b[0;32m   2903\u001b[0m             \u001b[1;32mif\u001b[0m \u001b[0mis_integer\u001b[0m\u001b[1;33m(\u001b[0m\u001b[0mindexer\u001b[0m\u001b[1;33m)\u001b[0m\u001b[1;33m:\u001b[0m\u001b[1;33m\u001b[0m\u001b[1;33m\u001b[0m\u001b[0m\n\u001b[0;32m   2904\u001b[0m                 \u001b[0mindexer\u001b[0m \u001b[1;33m=\u001b[0m \u001b[1;33m[\u001b[0m\u001b[0mindexer\u001b[0m\u001b[1;33m]\u001b[0m\u001b[1;33m\u001b[0m\u001b[1;33m\u001b[0m\u001b[0m\n",
      "\u001b[1;32m~\\anaconda3\\lib\\site-packages\\pandas\\core\\indexes\\base.py\u001b[0m in \u001b[0;36mget_loc\u001b[1;34m(self, key, method, tolerance)\u001b[0m\n\u001b[0;32m   2895\u001b[0m                 \u001b[1;32mreturn\u001b[0m \u001b[0mself\u001b[0m\u001b[1;33m.\u001b[0m\u001b[0m_engine\u001b[0m\u001b[1;33m.\u001b[0m\u001b[0mget_loc\u001b[0m\u001b[1;33m(\u001b[0m\u001b[0mcasted_key\u001b[0m\u001b[1;33m)\u001b[0m\u001b[1;33m\u001b[0m\u001b[1;33m\u001b[0m\u001b[0m\n\u001b[0;32m   2896\u001b[0m             \u001b[1;32mexcept\u001b[0m \u001b[0mKeyError\u001b[0m \u001b[1;32mas\u001b[0m \u001b[0merr\u001b[0m\u001b[1;33m:\u001b[0m\u001b[1;33m\u001b[0m\u001b[1;33m\u001b[0m\u001b[0m\n\u001b[1;32m-> 2897\u001b[1;33m                 \u001b[1;32mraise\u001b[0m \u001b[0mKeyError\u001b[0m\u001b[1;33m(\u001b[0m\u001b[0mkey\u001b[0m\u001b[1;33m)\u001b[0m \u001b[1;32mfrom\u001b[0m \u001b[0merr\u001b[0m\u001b[1;33m\u001b[0m\u001b[1;33m\u001b[0m\u001b[0m\n\u001b[0m\u001b[0;32m   2898\u001b[0m \u001b[1;33m\u001b[0m\u001b[0m\n\u001b[0;32m   2899\u001b[0m         \u001b[1;32mif\u001b[0m \u001b[0mtolerance\u001b[0m \u001b[1;32mis\u001b[0m \u001b[1;32mnot\u001b[0m \u001b[1;32mNone\u001b[0m\u001b[1;33m:\u001b[0m\u001b[1;33m\u001b[0m\u001b[1;33m\u001b[0m\u001b[0m\n",
      "\u001b[1;31mKeyError\u001b[0m: 'hash_idade_less'"
     ]
    }
   ],
   "source": [
    "notifica_nao_casos_confirmados = casosn.loc[set(casosn.index.tolist()) - set(idx_casos_notifica)]\n",
    "idx_casos_notifica_idade = notifica_nao_casos_confirmados.loc[notifica_nao_casos_confirmados['hash_idade'].isin(casos_confirmados_nao_notifica['hash_idade'])].index.tolist()\n",
    "idx_casos_notifica_idade += notifica_nao_casos_confirmados.loc[notifica_nao_casos_confirmados['hash_idade'].isin(casos_confirmados_nao_notifica['hash_idade_less'])].index.tolist()\n",
    "idx_casos_notifica_idade += notifica_nao_casos_confirmados.loc[notifica_nao_casos_confirmados['hash_idade'].isin(casos_confirmados_nao_notifica['hash_idade_more'])].index.tolist()\n",
    "print(len(idx_casos_notifica_idade))"
   ]
  }
 ]
}