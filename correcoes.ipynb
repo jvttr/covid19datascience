{
 "metadata": {
  "language_info": {
   "codemirror_mode": {
    "name": "ipython",
    "version": 3
   },
   "file_extension": ".py",
   "mimetype": "text/x-python",
   "name": "python",
   "nbconvert_exporter": "python",
   "pygments_lexer": "ipython3",
   "version": "3.8.5-final"
  },
  "orig_nbformat": 2,
  "kernelspec": {
   "name": "python3",
   "display_name": "Python 3",
   "language": "python"
  }
 },
 "nbformat": 4,
 "nbformat_minor": 2,
 "cells": [
  {
   "cell_type": "code",
   "execution_count": null,
   "metadata": {},
   "outputs": [],
   "source": [
    "from sys import exit\n",
    "import numpy as np\n",
    "import pandas as pd\n",
    "from os.path import dirname, join, isfile, isdir\n",
    "from datetime import datetime, timedelta\n",
    "\n",
    "from bulletin.data.notifica import Notifica\n",
    "from bulletin.data.casos_confirmados import CasosConfirmados\n",
    "from bulletin.commom.utils import Timer\n",
    "\n",
    "pd.set_option('display.max_columns', None)\n",
    "\n",
    "output = join(\"output\",\"correcoes\")"
   ]
  },
  {
   "cell_type": "code",
   "execution_count": null,
   "metadata": {},
   "outputs": [],
   "source": [
    "timer = Timer()\n",
    "notifica = Notifica()\n",
    "# notifica.update()\n",
    "print(timer.stop())\n",
    "notifica.shape()"
   ]
  },
  {
   "cell_type": "code",
   "execution_count": null,
   "metadata": {},
   "outputs": [],
   "source": [
    "timer.reset()\n",
    "casos_confirmados = CasosConfirmados()\n",
    "print(timer.stop())\n",
    "# casos_confirmados.update()\n",
    "casos_confirmados.shape()"
   ]
  },
  {
   "cell_type": "code",
   "execution_count": null,
   "metadata": {},
   "outputs": [],
   "source": [
    "casosn = notifica.get_casos()\n",
    "casosn = casosn.loc[casosn['cod_classificacao_final']==2]\n",
    "# casosc = casos_confirmados.get_casos()"
   ]
  },
  {
   "cell_type": "code",
   "execution_count": null,
   "metadata": {},
   "outputs": [],
   "source": [
    "# casosc_duplicados = casosc.loc[casosc.duplicated('hash')].index.tolist()\n",
    "# print(f\"casosc_duplicados: {len(casosc_duplicados)}\")\n",
    "# casosc_duplicados_less = casosc.loc[casosc['hash_less'].isin(casosc['hash'])].index.tolist()\n",
    "# print(f\"casosc_duplicados_less: {len(casosc_duplicados_less)}\")\n",
    "# casosc_duplicados_more = casosc.loc[casosc['hash_more'].isin(casosc['hash'])].index.tolist()\n",
    "# print(f\"casosc_duplicados_more: {len(casosc_duplicados_more)}\")\n",
    "# dropar = set(casosc_duplicados + casosc_duplicados_less + casosc_duplicados_more)\n",
    "# print(f\"Total duplicados {len(dropar)}\")\n",
    "# casosc = casosc.drop(index=dropar)\n",
    "# len(casosc)"
   ]
  },
  {
   "cell_type": "code",
   "execution_count": null,
   "metadata": {},
   "outputs": [],
   "source": [
    "# casosn.groupby('cod_classificacao_final')[['id']].count()\n",
    "# casosn.loc[casosn['mun_resid'].isnull()].shape\n",
    "# casosn.loc[casosn['mun_atend'].isnull()].shape"
   ]
  },
  {
   "cell_type": "code",
   "execution_count": null,
   "metadata": {},
   "outputs": [],
   "source": [
    "def find_best(df):\n",
    "    scores = np.zeros(len(df))\n",
    "    for i, row in enumerate(df.iterrows()):\n",
    "        if row['cod_metodo'] == 1:\n",
    "            scores[i] =+ 1\n",
    "        #if condições que tornam o caso duplicado mais completo que o outro\n",
    "        #if obito ou recuperado +10\n",
    "    \n",
    "    return df.iloc[np.argmax(scores)]"
   ]
  },
  {
   "cell_type": "code",
   "execution_count": null,
   "metadata": {},
   "outputs": [],
   "source": [
    "casos_duplicados_cpf = casosn.loc[(casosn['cpf']!=0) & (casosn.duplicated('cpf',keep=False))].sort_values('cpf')\n",
    "id_manter = []\n",
    "for cpf, df in casos_duplicados_cpf.groupby('cpf'):\n",
    "    idx = find_best(df)\n",
    "    id_manter.append(df.iloc[idx])\n",
    "\n",
    "print(len(id_manter))"
   ]
  },
  {
   "cell_type": "code",
   "execution_count": null,
   "metadata": {},
   "outputs": [],
   "source": [
    "casosn.loc[casosn.duplicated('hash_idade_resid')].shape"
   ]
  },
  {
   "cell_type": "code",
   "execution_count": null,
   "metadata": {},
   "outputs": [],
   "source": [
    "casosn.loc[casosn.duplicated('hash_idade_atend')].shape"
   ]
  },
  {
   "cell_type": "code",
   "execution_count": null,
   "metadata": {},
   "outputs": [],
   "source": [
    "casosn.loc[casosn.duplicated('hash_mae')].shape"
   ]
  }
 ]
}