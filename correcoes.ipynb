{
 "cells": [
  {
   "cell_type": "code",
   "execution_count": 1,
   "metadata": {},
   "outputs": [],
   "source": [
    "from sys import exit\n",
    "import numpy as np\n",
    "import pandas as pd\n",
    "from os.path import dirname, join, isfile, isdir\n",
    "from os import makedirs\n",
    "from datetime import datetime, timedelta, date\n",
    "\n",
    "from bulletin.data.notifica import Notifica\n",
    "from bulletin.data.casos_confirmados import CasosConfirmados\n",
    "from bulletin.commom.utils import Timer, get_better_notifica\n",
    "from bulletin.commom.static import meses\n",
    "from bulletin.metabase.request import download_metabase\n",
    "\n",
    "pd.set_option('display.max_columns', None)\n",
    "\n",
    "output = join(\"output\",\"correcoes\",\"notifica\")\n",
    "\n",
    "if not isdir(output):\n",
    "    makedirs(output)\n",
    "\n",
    "timerAll = Timer()\n",
    "timer = Timer()"
   ]
  },
  {
   "cell_type": "code",
   "execution_count": 2,
   "metadata": {},
   "outputs": [
    {
     "output_type": "stream",
     "name": "stdout",
     "text": [
      "Requesting notifica where classificacao_final IS NULL\n",
      "Success code 202\n",
      "Saving in input\\queries\\null.csv\n",
      "Download finish, time elapsed: 0:00:33.316461\n",
      "\n",
      "Requesting notifica where classificacao_final = 0\n",
      "Success code 202\n",
      "Saving in input\\queries\\0.csv\n",
      "Download finish, time elapsed: 0:00:17.730910\n",
      "\n",
      "Requesting notifica where classificacao_final = 1\n",
      "Success code 202\n",
      "Saving in input\\queries\\1.csv\n",
      "Download finish, time elapsed: 0:00:30.045171\n",
      "\n",
      "Requesting notifica where classificacao_final = 2\n",
      "Success code 202\n",
      "Saving in input\\queries\\2.csv\n",
      "Download finish, time elapsed: 0:00:39.701233\n",
      "\n",
      "Requesting notifica where classificacao_final = 3\n",
      "Success code 202\n",
      "Saving in input\\queries\\3.csv\n",
      "Download finish, time elapsed: 0:00:50.468389\n",
      "\n",
      "Requesting notifica where classificacao_final = 5\n",
      "Success code 202\n",
      "Saving in input\\queries\\5.csv\n",
      "Download finish, time elapsed: 0:00:40.254290\n",
      "\n",
      "00:22:42.11\n"
     ]
    },
    {
     "output_type": "execute_result",
     "data": {
      "text/plain": [
       "(2236850, 1028142, 10524, 1196095, 2089)"
      ]
     },
     "metadata": {},
     "execution_count": 2
    }
   ],
   "source": [
    "timer.start()\n",
    "classificacao_final = ['0','1','2','3','5']\n",
    "# classificacao_final = ['0','1']\n",
    "# classificacao_final = ['2']\n",
    "\n",
    "notifica = Notifica()\n",
    "notifica.read(download_metabase(filename='null.csv',where=f\"classificacao_final IS NULL\"))\n",
    "# notifica.read(join('input','queries','null.csv'))\n",
    "for cf in classificacao_final:\n",
    "    notifica.read(download_metabase(filename=f\"{cf}.csv\",where=f\"classificacao_final = {cf}\"), append=True)\n",
    "    # notifica.read(join('input','queries',f\"{cf}.csv\"), append=True)\n",
    "\n",
    "notifica.save()\n",
    "# notifica.load()\n",
    "print(timer.ftime())\n",
    "notifica.shape()"
   ]
  },
  {
   "cell_type": "code",
   "execution_count": 3,
   "metadata": {},
   "outputs": [
    {
     "output_type": "stream",
     "name": "stdout",
     "text": [
      "00:02:16.01\n"
     ]
    },
    {
     "output_type": "execute_result",
     "data": {
      "text/plain": [
       "(568350, 0, 0, 0)"
      ]
     },
     "metadata": {},
     "execution_count": 3
    }
   ],
   "source": [
    "timer.start()\n",
    "casos_confirmados = CasosConfirmados()\n",
    "casos_confirmados.read()\n",
    "casos_confirmados.save()\n",
    "# casos_confirmados.load()\n",
    "print(timer.ftime())\n",
    "casos_confirmados.shape()"
   ]
  },
  {
   "cell_type": "code",
   "execution_count": 4,
   "metadata": {},
   "outputs": [
    {
     "output_type": "execute_result",
     "data": {
      "text/plain": [
       "                                      id\n",
       "classificacao_final                     \n",
       "CASO CONFIRMADO                   541686\n",
       "CASO DESCARTADO                   762669\n",
       "CASO SUSPEITO                     924840\n",
       "IGNORADO                             643\n",
       "SINDROME GRIPAL NAO ESPECIFICADA    7012"
      ],
      "text/html": "<div>\n<style scoped>\n    .dataframe tbody tr th:only-of-type {\n        vertical-align: middle;\n    }\n\n    .dataframe tbody tr th {\n        vertical-align: top;\n    }\n\n    .dataframe thead th {\n        text-align: right;\n    }\n</style>\n<table border=\"1\" class=\"dataframe\">\n  <thead>\n    <tr style=\"text-align: right;\">\n      <th></th>\n      <th>id</th>\n    </tr>\n    <tr>\n      <th>classificacao_final</th>\n      <th></th>\n    </tr>\n  </thead>\n  <tbody>\n    <tr>\n      <th>CASO CONFIRMADO</th>\n      <td>541686</td>\n    </tr>\n    <tr>\n      <th>CASO DESCARTADO</th>\n      <td>762669</td>\n    </tr>\n    <tr>\n      <th>CASO SUSPEITO</th>\n      <td>924840</td>\n    </tr>\n    <tr>\n      <th>IGNORADO</th>\n      <td>643</td>\n    </tr>\n    <tr>\n      <th>SINDROME GRIPAL NAO ESPECIFICADA</th>\n      <td>7012</td>\n    </tr>\n  </tbody>\n</table>\n</div>"
     },
     "metadata": {},
     "execution_count": 4
    }
   ],
   "source": [
    "casosn = notifica.get_casos()\n",
    "casosc = casos_confirmados.get_casos()\n",
    "casosn.groupby('classificacao_final')[['id']].count()"
   ]
  },
  {
   "cell_type": "code",
   "execution_count": 5,
   "metadata": {},
   "outputs": [
    {
     "output_type": "stream",
     "name": "stdout",
     "text": [
      "Total de pacientes com mais de uma ocorrencia: 499891\n",
      "201394 pacientes pelo CPF que estavam com mais de uma ocorrencia\n"
     ]
    },
    {
     "output_type": "execute_result",
     "data": {
      "text/plain": [
       "                                      id\n",
       "classificacao_final                     \n",
       "CASO CONFIRMADO                    14316\n",
       "CASO DESCARTADO                   122749\n",
       "CASO SUSPEITO                     159991\n",
       "IGNORADO                              48\n",
       "SINDROME GRIPAL NAO ESPECIFICADA    1393"
      ],
      "text/html": "<div>\n<style scoped>\n    .dataframe tbody tr th:only-of-type {\n        vertical-align: middle;\n    }\n\n    .dataframe tbody tr th {\n        vertical-align: top;\n    }\n\n    .dataframe thead th {\n        text-align: right;\n    }\n</style>\n<table border=\"1\" class=\"dataframe\">\n  <thead>\n    <tr style=\"text-align: right;\">\n      <th></th>\n      <th>id</th>\n    </tr>\n    <tr>\n      <th>classificacao_final</th>\n      <th></th>\n    </tr>\n  </thead>\n  <tbody>\n    <tr>\n      <th>CASO CONFIRMADO</th>\n      <td>14316</td>\n    </tr>\n    <tr>\n      <th>CASO DESCARTADO</th>\n      <td>122749</td>\n    </tr>\n    <tr>\n      <th>CASO SUSPEITO</th>\n      <td>159991</td>\n    </tr>\n    <tr>\n      <th>IGNORADO</th>\n      <td>48</td>\n    </tr>\n    <tr>\n      <th>SINDROME GRIPAL NAO ESPECIFICADA</th>\n      <td>1393</td>\n    </tr>\n  </tbody>\n</table>\n</div>"
     },
     "metadata": {},
     "execution_count": 5
    }
   ],
   "source": [
    "casos_duplicados = casosn.loc[(casosn['cpf'].notnull()) & (casosn.duplicated('cpf',keep=False))].sort_values('cpf')\n",
    "print(f\"Total de pacientes com mais de uma ocorrencia: {len(casos_duplicados)}\")\n",
    "print(f\"{len(casos_duplicados.groupby('cpf'))} pacientes pelo CPF que estavam com mais de uma ocorrencia\")\n",
    "\n",
    "all_casos_duplicados = set()\n",
    "all_duplicados_mantidos = set()\n",
    "manter = []\n",
    "\n",
    "for hash, group in casos_duplicados.groupby('cpf'):\n",
    "    idx = get_better_notifica(group)\n",
    "    manter.append(idx)\n",
    "\n",
    "\n",
    "casos_duplicados = set(casos_duplicados.index.tolist())\n",
    "casos_duplicados = casos_duplicados - set(manter)\n",
    "\n",
    "all_duplicados_mantidos |= set(manter)\n",
    "all_casos_duplicados |= casos_duplicados\n",
    "casosn.loc[casos_duplicados].to_csv(join(output,'pacientes_duplicados_cpf.csv'), index=False)\n",
    "\n",
    "casosn.loc[casos_duplicados].groupby('classificacao_final')[['id']].count()"
   ]
  },
  {
   "cell_type": "code",
   "execution_count": 6,
   "metadata": {},
   "outputs": [],
   "source": [
    "# casosn = casosn.drop(index=casos_duplicados)"
   ]
  },
  {
   "cell_type": "code",
   "execution_count": 7,
   "metadata": {},
   "outputs": [
    {
     "output_type": "stream",
     "name": "stdout",
     "text": [
      "Total de pacientes com mais de uma ocorrencia pelo nome+nome_mae: 538600\n",
      "197876 pacientes pelo nome+nome_mae que estavam com mais de uma ocorrencia\n"
     ]
    },
    {
     "output_type": "execute_result",
     "data": {
      "text/plain": [
       "                                      id\n",
       "classificacao_final                     \n",
       "CASO CONFIRMADO                    20370\n",
       "CASO DESCARTADO                   142411\n",
       "CASO SUSPEITO                     176355\n",
       "IGNORADO                              38\n",
       "SINDROME GRIPAL NAO ESPECIFICADA    1550"
      ],
      "text/html": "<div>\n<style scoped>\n    .dataframe tbody tr th:only-of-type {\n        vertical-align: middle;\n    }\n\n    .dataframe tbody tr th {\n        vertical-align: top;\n    }\n\n    .dataframe thead th {\n        text-align: right;\n    }\n</style>\n<table border=\"1\" class=\"dataframe\">\n  <thead>\n    <tr style=\"text-align: right;\">\n      <th></th>\n      <th>id</th>\n    </tr>\n    <tr>\n      <th>classificacao_final</th>\n      <th></th>\n    </tr>\n  </thead>\n  <tbody>\n    <tr>\n      <th>CASO CONFIRMADO</th>\n      <td>20370</td>\n    </tr>\n    <tr>\n      <th>CASO DESCARTADO</th>\n      <td>142411</td>\n    </tr>\n    <tr>\n      <th>CASO SUSPEITO</th>\n      <td>176355</td>\n    </tr>\n    <tr>\n      <th>IGNORADO</th>\n      <td>38</td>\n    </tr>\n    <tr>\n      <th>SINDROME GRIPAL NAO ESPECIFICADA</th>\n      <td>1550</td>\n    </tr>\n  </tbody>\n</table>\n</div>"
     },
     "metadata": {},
     "execution_count": 7
    }
   ],
   "source": [
    "casos_duplicados = casosn.loc[(casosn['nome_mae'].notnull()) & (casosn.duplicated('hash_mae',keep=False))].sort_values('nome_mae')\n",
    "\n",
    "print(f\"Total de pacientes com mais de uma ocorrencia pelo nome+nome_mae: {len(casos_duplicados)}\")\n",
    "print(f\"{len(casos_duplicados.groupby('nome_mae'))} pacientes pelo nome+nome_mae que estavam com mais de uma ocorrencia\")\n",
    "\n",
    "manter = []\n",
    "for hash, group in casos_duplicados.groupby('nome_mae'):\n",
    "    idx = get_better_notifica(group)\n",
    "    manter.append(idx)\n",
    "\n",
    "\n",
    "casos_duplicados = set(casos_duplicados.index.tolist())\n",
    "casos_duplicados = casos_duplicados - set(manter)\n",
    "\n",
    "all_duplicados_mantidos |= set(manter)\n",
    "all_casos_duplicados |= casos_duplicados\n",
    "casosn.loc[casos_duplicados].to_csv(join(output,'pacientes_duplicados_nome_mae.csv'), index=False)\n",
    "\n",
    "casosn.loc[casos_duplicados].groupby('classificacao_final')[['id']].count()"
   ]
  },
  {
   "cell_type": "code",
   "execution_count": 8,
   "metadata": {},
   "outputs": [],
   "source": [
    "# casosn = casosn.drop(index=casos_duplicados)"
   ]
  },
  {
   "cell_type": "code",
   "execution_count": 9,
   "metadata": {},
   "outputs": [
    {
     "output_type": "stream",
     "name": "stdout",
     "text": [
      "Total de pacientes com mais de uma ocorrencia pelo data_nascimento: 575340\n",
      "233693 pacientes pelo data_nascimento que estavam com mais de uma ocorrencia\n"
     ]
    },
    {
     "output_type": "execute_result",
     "data": {
      "text/plain": [
       "                                      id\n",
       "classificacao_final                     \n",
       "CASO CONFIRMADO                    17323\n",
       "CASO DESCARTADO                   138677\n",
       "CASO SUSPEITO                     184015\n",
       "IGNORADO                              49\n",
       "SINDROME GRIPAL NAO ESPECIFICADA    1583"
      ],
      "text/html": "<div>\n<style scoped>\n    .dataframe tbody tr th:only-of-type {\n        vertical-align: middle;\n    }\n\n    .dataframe tbody tr th {\n        vertical-align: top;\n    }\n\n    .dataframe thead th {\n        text-align: right;\n    }\n</style>\n<table border=\"1\" class=\"dataframe\">\n  <thead>\n    <tr style=\"text-align: right;\">\n      <th></th>\n      <th>id</th>\n    </tr>\n    <tr>\n      <th>classificacao_final</th>\n      <th></th>\n    </tr>\n  </thead>\n  <tbody>\n    <tr>\n      <th>CASO CONFIRMADO</th>\n      <td>17323</td>\n    </tr>\n    <tr>\n      <th>CASO DESCARTADO</th>\n      <td>138677</td>\n    </tr>\n    <tr>\n      <th>CASO SUSPEITO</th>\n      <td>184015</td>\n    </tr>\n    <tr>\n      <th>IGNORADO</th>\n      <td>49</td>\n    </tr>\n    <tr>\n      <th>SINDROME GRIPAL NAO ESPECIFICADA</th>\n      <td>1583</td>\n    </tr>\n  </tbody>\n</table>\n</div>"
     },
     "metadata": {},
     "execution_count": 9
    }
   ],
   "source": [
    "casos_duplicados = casosn.loc[(casosn['hash_nasc'].notnull()) & (casosn.duplicated('hash_nasc',keep=False))].sort_values('data_nascimento')\n",
    "\n",
    "print(f\"Total de pacientes com mais de uma ocorrencia pelo data_nascimento: {len(casos_duplicados)}\")\n",
    "print(f\"{len(casos_duplicados.groupby('hash_nasc'))} pacientes pelo data_nascimento que estavam com mais de uma ocorrencia\")\n",
    "\n",
    "manter = []\n",
    "for hash, group in casos_duplicados.groupby('hash_nasc'):\n",
    "    idx = get_better_notifica(group)\n",
    "    manter.append(idx)\n",
    "\n",
    "\n",
    "casos_duplicados = set(casos_duplicados.index.tolist())\n",
    "casos_duplicados = casos_duplicados - set(manter)\n",
    "\n",
    "all_duplicados_mantidos |= set(manter)\n",
    "all_casos_duplicados |= casos_duplicados\n",
    "casosn.loc[casos_duplicados].to_csv(join(output,'pacientes_duplicados_data_nascimento.csv'), index=False)\n",
    "\n",
    "casosn.loc[casos_duplicados].groupby('classificacao_final')[['id']].count()"
   ]
  },
  {
   "cell_type": "code",
   "execution_count": 10,
   "metadata": {},
   "outputs": [],
   "source": [
    "# casosn = casosn.drop(index=casos_duplicados)"
   ]
  },
  {
   "cell_type": "code",
   "execution_count": 11,
   "metadata": {},
   "outputs": [
    {
     "output_type": "stream",
     "name": "stdout",
     "text": [
      "Total de pacientes com mais de uma ocorrencia pelo hash_resid: 469361\n",
      "191899 pacientes pelo hash_resid que estavam com mais de uma ocorrencia\n"
     ]
    },
    {
     "output_type": "execute_result",
     "data": {
      "text/plain": [
       "                                      id\n",
       "classificacao_final                     \n",
       "CASO CONFIRMADO                    14888\n",
       "CASO DESCARTADO                   112381\n",
       "CASO SUSPEITO                     148959\n",
       "IGNORADO                              35\n",
       "SINDROME GRIPAL NAO ESPECIFICADA    1199"
      ],
      "text/html": "<div>\n<style scoped>\n    .dataframe tbody tr th:only-of-type {\n        vertical-align: middle;\n    }\n\n    .dataframe tbody tr th {\n        vertical-align: top;\n    }\n\n    .dataframe thead th {\n        text-align: right;\n    }\n</style>\n<table border=\"1\" class=\"dataframe\">\n  <thead>\n    <tr style=\"text-align: right;\">\n      <th></th>\n      <th>id</th>\n    </tr>\n    <tr>\n      <th>classificacao_final</th>\n      <th></th>\n    </tr>\n  </thead>\n  <tbody>\n    <tr>\n      <th>CASO CONFIRMADO</th>\n      <td>14888</td>\n    </tr>\n    <tr>\n      <th>CASO DESCARTADO</th>\n      <td>112381</td>\n    </tr>\n    <tr>\n      <th>CASO SUSPEITO</th>\n      <td>148959</td>\n    </tr>\n    <tr>\n      <th>IGNORADO</th>\n      <td>35</td>\n    </tr>\n    <tr>\n      <th>SINDROME GRIPAL NAO ESPECIFICADA</th>\n      <td>1199</td>\n    </tr>\n  </tbody>\n</table>\n</div>"
     },
     "metadata": {},
     "execution_count": 11
    }
   ],
   "source": [
    "casos_duplicados = casosn.loc[(casosn['hash_resid'].notnull()) & (casosn.duplicated('hash_resid',keep=False))].sort_values('paciente')\n",
    "\n",
    "print(f\"Total de pacientes com mais de uma ocorrencia pelo hash_resid: {len(casos_duplicados)}\")\n",
    "print(f\"{len(casos_duplicados.groupby('hash_resid'))} pacientes pelo hash_resid que estavam com mais de uma ocorrencia\")\n",
    "\n",
    "manter = []\n",
    "for hash, group in casos_duplicados.groupby('hash_resid'):\n",
    "    idx = get_better_notifica(group)\n",
    "    manter.append(idx)\n",
    "\n",
    "\n",
    "casos_duplicados = set(casos_duplicados.index.tolist())\n",
    "casos_duplicados = casos_duplicados - set(manter)\n",
    "\n",
    "all_duplicados_mantidos |= set(manter)\n",
    "all_casos_duplicados |= casos_duplicados\n",
    "casosn.loc[casos_duplicados].to_csv(join(output,'pacientes_duplicados_nome_idade_mun_resid.csv'), index=False)\n",
    "\n",
    "casosn.loc[casos_duplicados].groupby('classificacao_final')[['id']].count()"
   ]
  },
  {
   "cell_type": "code",
   "execution_count": 12,
   "metadata": {},
   "outputs": [],
   "source": [
    "# casosn = casosn.drop(index=casos_duplicados)"
   ]
  },
  {
   "cell_type": "code",
   "execution_count": 13,
   "metadata": {},
   "outputs": [
    {
     "output_type": "stream",
     "name": "stdout",
     "text": [
      "Total de pacientes com mais de uma ocorrencia pelo hash_atend: 402980\n",
      "163855 pacientes pelo hash_atend que estavam com mais de uma ocorrencia\n"
     ]
    },
    {
     "output_type": "execute_result",
     "data": {
      "text/plain": [
       "                                      id\n",
       "classificacao_final                     \n",
       "CASO CONFIRMADO                    11614\n",
       "CASO DESCARTADO                    99733\n",
       "CASO SUSPEITO                     126626\n",
       "IGNORADO                              18\n",
       "SINDROME GRIPAL NAO ESPECIFICADA    1134"
      ],
      "text/html": "<div>\n<style scoped>\n    .dataframe tbody tr th:only-of-type {\n        vertical-align: middle;\n    }\n\n    .dataframe tbody tr th {\n        vertical-align: top;\n    }\n\n    .dataframe thead th {\n        text-align: right;\n    }\n</style>\n<table border=\"1\" class=\"dataframe\">\n  <thead>\n    <tr style=\"text-align: right;\">\n      <th></th>\n      <th>id</th>\n    </tr>\n    <tr>\n      <th>classificacao_final</th>\n      <th></th>\n    </tr>\n  </thead>\n  <tbody>\n    <tr>\n      <th>CASO CONFIRMADO</th>\n      <td>11614</td>\n    </tr>\n    <tr>\n      <th>CASO DESCARTADO</th>\n      <td>99733</td>\n    </tr>\n    <tr>\n      <th>CASO SUSPEITO</th>\n      <td>126626</td>\n    </tr>\n    <tr>\n      <th>IGNORADO</th>\n      <td>18</td>\n    </tr>\n    <tr>\n      <th>SINDROME GRIPAL NAO ESPECIFICADA</th>\n      <td>1134</td>\n    </tr>\n  </tbody>\n</table>\n</div>"
     },
     "metadata": {},
     "execution_count": 13
    }
   ],
   "source": [
    "casos_duplicados = casosn.loc[(casosn['hash_atend'].notnull()) & (casosn.duplicated('hash_atend',keep=False))].sort_values('paciente')\n",
    "# casos_duplicados_nome_mae.loc[casos_duplicados_nome_mae['nome_mae']=='0']\n",
    "\n",
    "print(f\"Total de pacientes com mais de uma ocorrencia pelo hash_atend: {len(casos_duplicados)}\")\n",
    "print(f\"{len(casos_duplicados.groupby('hash_atend'))} pacientes pelo hash_atend que estavam com mais de uma ocorrencia\")\n",
    "\n",
    "manter = []\n",
    "for hash, group in casos_duplicados.groupby('hash_atend'):\n",
    "    idx = get_better_notifica(group)\n",
    "    manter.append(idx)\n",
    "\n",
    "\n",
    "casos_duplicados = set(casos_duplicados.index.tolist())\n",
    "casos_duplicados = casos_duplicados - set(manter)\n",
    "\n",
    "all_duplicados_mantidos |= set(manter)\n",
    "all_casos_duplicados |= casos_duplicados\n",
    "casosn.loc[casos_duplicados].to_csv(join(output,'pacientes_duplicados_nome_idade_mun_atend.csv'), index=False)\n",
    "\n",
    "casosn.loc[casos_duplicados].groupby('classificacao_final')[['id']].count()"
   ]
  },
  {
   "cell_type": "code",
   "execution_count": 14,
   "metadata": {},
   "outputs": [],
   "source": [
    "# casosn = casosn.drop(index=casos_duplicados)"
   ]
  },
  {
   "cell_type": "code",
   "execution_count": 15,
   "metadata": {},
   "outputs": [
    {
     "output_type": "stream",
     "name": "stdout",
     "text": [
      "Das 2236850 notificações baixadas, 0 (385649) foram excluidas por serem do mesmo paciente, sendo mantida a que melhor pontuou nos critérios. Sendo assim, o novo total de notificações existente é de 2236850\n"
     ]
    }
   ],
   "source": [
    "print(f\"Das {notifica.shape()[0]} notificações baixadas, {notifica.shape()[0] - casosn.shape[0]} ({len(all_casos_duplicados)}) foram excluidas por serem do mesmo paciente, sendo mantida a que melhor pontuou nos critérios. Sendo assim, o novo total de notificações existente é de {casosn.shape[0]}\")\n",
    "allcasosn = notifica.get_casos()\n",
    "allcasosn.loc[all_casos_duplicados,'id'].to_csv(join(output,'casos_duplicados_removidos.csv'), index=False)\n",
    "allcasosn.loc[all_duplicados_mantidos,'id'].to_csv(join(output,'casos_duplicados_mantidos.csv'), index=False)"
   ]
  },
  {
   "cell_type": "code",
   "execution_count": 16,
   "metadata": {},
   "outputs": [
    {
     "output_type": "execute_result",
     "data": {
      "text/plain": [
       "(27978, 23)"
      ]
     },
     "metadata": {},
     "execution_count": 16
    }
   ],
   "source": [
    "idx_casos_confirmados = casosc[casosc['hash_resid'].isin(casosn['hash_resid'])].index.tolist()\n",
    "idx_casos_confirmados += casosc[casosc['hash_atend'].isin(casosn['hash_atend'])].index.tolist()\n",
    "idx_casos_confirmados += casosc[casosc['hash_diag'].isin(casosn['hash_diag'])].index.tolist()\n",
    "\n",
    "idx_casos_confirmados = set(idx_casos_confirmados)\n",
    "casos_confirmados_nao_notifica = casosc.loc[ set(casosc.index.tolist()) - idx_casos_confirmados ].sort_values('ordem')\n",
    "casos_confirmados_nao_notifica.to_excel(join(output,'casos_confirmados_nao_notifica.xlsx'),index=False)\n",
    "casos_confirmados_nao_notifica.shape"
   ]
  },
  {
   "cell_type": "code",
   "execution_count": 17,
   "metadata": {
    "tags": []
   },
   "outputs": [
    {
     "output_type": "execute_result",
     "data": {
      "text/plain": [
       "(627878, 53)"
      ]
     },
     "metadata": {},
     "execution_count": 17
    }
   ],
   "source": [
    "idx_casos_notifica = casosn[casosn['hash_resid'].isin(casosc['hash_resid'])].index.tolist()\n",
    "idx_casos_notifica += casosn[casosn['hash_atend'].isin(casosc['hash_atend'])].index.tolist()\n",
    "idx_casos_notifica += casosn[casosn['hash_diag'].isin(casosc['hash_diag'])].index.tolist()\n",
    "\n",
    "idx_casos_notifica = set(idx_casos_notifica)\n",
    "casos_confirmados_notifica = casosn.loc[ idx_casos_notifica ].sort_values('id')\n",
    "casos_confirmados_notifica.to_excel(join(output,'casos_confirmados_notifica.xlsx'),index=False)\n",
    "casos_confirmados_notifica.shape"
   ]
  },
  {
   "cell_type": "code",
   "execution_count": 24,
   "metadata": {},
   "outputs": [
    {
     "output_type": "execute_result",
     "data": {
      "text/plain": [
       "225            2  TESTE RAPIDO         11  COVID-19 IGG/IGM             13   \n",
       "355226            2  TESTE RAPIDO         11  COVID-19 IGG/IGM             13   \n",
       "355246            2  TESTE RAPIDO         11  COVID-19 IGG/IGM             13   \n",
       "355248            2  TESTE RAPIDO         11  COVID-19 IGG/IGM             13   \n",
       "355251            2  TESTE RAPIDO         11  COVID-19 IGG/IGM             13   \n",
       "1070694           2  TESTE RAPIDO         11  COVID-19 IGG/IGM             12   \n",
       "355262            2  TESTE RAPIDO         11  COVID-19 IGG/IGM             13   \n",
       "355275            2  TESTE RAPIDO         11  COVID-19 IGG/IGM             13   \n",
       "355277            2  TESTE RAPIDO         11  COVID-19 IGG/IGM             13   \n",
       "355283            2  TESTE RAPIDO         11  COVID-19 IGG/IGM             13   \n",
       "355296            2  TESTE RAPIDO         11  COVID-19 IGG/IGM             13   \n",
       "355297            2  TESTE RAPIDO         11  COVID-19 IGG/IGM             13   \n",
       "355300            2  TESTE RAPIDO         11  COVID-19 IGG/IGM             13   \n",
       "355309            2  TESTE RAPIDO         11  COVID-19 IGG/IGM             13   \n",
       "\n",
       "            resultado data_coleta data_recebimento data_liberacao  \\\n",
       "355104   NAO REAGENTE         NaT              NaT            NaT   \n",
       "355115   NAO REAGENTE         NaT              NaT            NaT   \n",
       "355147   NAO REAGENTE         NaT              NaT            NaT   \n",
       "355149   NAO REAGENTE         NaT              NaT            NaT   \n",
       "355151   NAO REAGENTE         NaT              NaT            NaT   \n",
       "355152   NAO REAGENTE         NaT              NaT            NaT   \n",
       "355153   NAO REAGENTE         NaT              NaT            NaT   \n",
       "1070671      REAGENTE         NaT              NaT            NaT   \n",
       "1070672      REAGENTE         NaT              NaT            NaT   \n",
       "355156   NAO REAGENTE         NaT              NaT            NaT   \n",
       "355157   NAO REAGENTE         NaT              NaT            NaT   \n",
       "355158   NAO REAGENTE         NaT              NaT            NaT   \n",
       "355159   NAO REAGENTE         NaT              NaT            NaT   \n",
       "355160   NAO REAGENTE         NaT              NaT            NaT   \n",
       "355162   NAO REAGENTE         NaT              NaT            NaT   \n",
       "355163   NAO REAGENTE         NaT              NaT            NaT   \n",
       "355164   NAO REAGENTE         NaT              NaT            NaT   \n",
       "1070675      REAGENTE         NaT              NaT            NaT   \n",
       "355165   NAO REAGENTE         NaT              NaT            NaT   \n",
       "355166   NAO REAGENTE         NaT              NaT            NaT   \n",
       "355167   NAO REAGENTE         NaT              NaT            NaT   \n",
       "355180   NAO REAGENTE         NaT              NaT            NaT   \n",
       "355183   NAO REAGENTE         NaT              NaT            NaT   \n",
       "355185   NAO REAGENTE         NaT              NaT            NaT   \n",
       "355186   NAO REAGENTE         NaT              NaT            NaT   \n",
       "355190   NAO REAGENTE         NaT              NaT            NaT   \n",
       "355195   NAO REAGENTE         NaT              NaT            NaT   \n",
       "355198   NAO REAGENTE         NaT              NaT            NaT   \n",
       "355206   NAO REAGENTE         NaT              NaT            NaT   \n",
       "355207   NAO REAGENTE         NaT              NaT            NaT   \n",
       "355213   NAO REAGENTE         NaT              NaT            NaT   \n",
       "355219   NAO REAGENTE         NaT              NaT            NaT   \n",
       "355224   NAO REAGENTE         NaT              NaT            NaT   \n",
       "355225   NAO REAGENTE         NaT              NaT            NaT   \n",
       "355226   NAO REAGENTE         NaT              NaT            NaT   \n",
       "355246   NAO REAGENTE         NaT              NaT            NaT   \n",
       "355248   NAO REAGENTE         NaT              NaT            NaT   \n",
       "355251   NAO REAGENTE         NaT              NaT            NaT   \n",
       "1070694      REAGENTE         NaT              NaT            NaT   \n",
       "355262   NAO REAGENTE         NaT              NaT            NaT   \n",
       "355275   NAO REAGENTE         NaT              NaT            NaT   \n",
       "355277   NAO REAGENTE         NaT              NaT            NaT   \n",
       "355283   NAO REAGENTE         NaT              NaT            NaT   \n",
       "355296   NAO REAGENTE         NaT              NaT            NaT   \n",
       "355297   NAO REAGENTE         NaT              NaT            NaT   \n",
       "355300   NAO REAGENTE         NaT              NaT            NaT   \n",
       "355309   NAO REAGENTE         NaT              NaT            NaT   \n",
       "\n",
       "         cod_status_notificacao status_notificacao  excluir_ficha  cod_origem  \\\n",
       "355104                        1             ABERTA              2          12   \n",
       "355115                        1             ABERTA              2          12   \n",
       "355147                        1             ABERTA              2          12   \n",
       "355149                        1             ABERTA              2          12   \n",
       "355151                        1             ABERTA              2          12   \n",
       "355152                        1             ABERTA              2          12   \n",
       "355153                        1             ABERTA              2          12   \n",
       "1070671                       1             ABERTA              2          12   \n",
       "1070672                       1             ABERTA              2          12   \n",
       "355156                        1             ABERTA              2          12   \n",
       "355157                        1             ABERTA              2          12   \n",
       "355158                        1             ABERTA              2          12   \n",
       "355159                        1             ABERTA              2          12   \n",
       "355160                        1             ABERTA              2          12   \n",
       "355162                        1             ABERTA              2          12   \n",
       "355163                        1             ABERTA              2          12   \n",
       "355164                        1             ABERTA              2          12   \n",
       "1070675                       1             ABERTA              2          12   \n",
       "355165                        1             ABERTA              2          12   \n",
       "355166                        1             ABERTA              2          12   \n",
       "355167                        1             ABERTA              2          12   \n",
       "355180                        1             ABERTA              2          12   \n",
       "355183                        1             ABERTA              2          12   \n",
       "355185                        1             ABERTA              2          12   \n",
       "355186                        1             ABERTA              2          12   \n",
       "355190                        1             ABERTA              2          12   \n",
       "355195                        1             ABERTA              2          12   \n",
       "355198                        1             ABERTA              2          12   \n",
       "355206                        1             ABERTA              2          12   \n",
       "355207                        1             ABERTA              2          12   \n",
       "355213                        1             ABERTA              2          12   \n",
       "355219                        1             ABERTA              2          12   \n",
       "355224                        1             ABERTA              2          12   \n",
       "355225                        1             ABERTA              2          12   \n",
       "355226                        1             ABERTA              2          12   \n",
       "355246                        1             ABERTA              2          12   \n",
       "355248                        1             ABERTA              2          12   \n",
       "355251                        1             ABERTA              2          12   \n",
       "1070694                       1             ABERTA              2          12   \n",
       "355262                        1             ABERTA              2          12   \n",
       "355275                        1             ABERTA              2          12   \n",
       "355277                        1             ABERTA              2          12   \n",
       "355283                        1             ABERTA              2          12   \n",
       "355296                        1             ABERTA              2          12   \n",
       "355297                        1             ABERTA              2          12   \n",
       "355300                        1             ABERTA              2          12   \n",
       "355309                        1             ABERTA              2          12   \n",
       "\n",
       "            origem  uf_unidade_notifica  ibge_unidade_notifica  \\\n",
       "355104   LAB HILAB                   41                 410690   \n",
       "355115   LAB HILAB                   41                 410690   \n",
       "355147   LAB HILAB                   41                 410690   \n",
       "355149   LAB HILAB                   41                 410690   \n",
       "355151   LAB HILAB                   41                 410690   \n",
       "355152   LAB HILAB                   41                 410690   \n",
       "355153   LAB HILAB                   41                 410690   \n",
       "1070671  LAB HILAB                   41                 410690   \n",
       "1070672  LAB HILAB                   41                 410690   \n",
       "355156   LAB HILAB                   41                 410690   \n",
       "355157   LAB HILAB                   41                 410690   \n",
       "355158   LAB HILAB                   41                 410690   \n",
       "355159   LAB HILAB                   41                 410690   \n",
       "355160   LAB HILAB                   41                 410690   \n",
       "355162   LAB HILAB                   41                 410690   \n",
       "355163   LAB HILAB                   41                 410690   \n",
       "355164   LAB HILAB                   41                 410690   \n",
       "1070675  LAB HILAB                   41                 410690   \n",
       "355165   LAB HILAB                   41                 410690   \n",
       "355166   LAB HILAB                   41                 410690   \n",
       "355167   LAB HILAB                   41                 410690   \n",
       "355180   LAB HILAB                   41                 410690   \n",
       "355183   LAB HILAB                   41                 410690   \n",
       "355185   LAB HILAB                   41                 410690   \n",
       "355186   LAB HILAB                   41                 410690   \n",
       "355190   LAB HILAB                   41                 410690   \n",
       "355195   LAB HILAB                   41                 410690   \n",
       "355198   LAB HILAB                   41                 410690   \n",
       "355206   LAB HILAB                   41                 410690   \n",
       "355207   LAB HILAB                   41                 410690   \n",
       "355213   LAB HILAB                   41                 410690   \n",
       "355219   LAB HILAB                   41                 410690   \n",
       "355224   LAB HILAB                   41                 410690   \n",
       "355225   LAB HILAB                   41                 410690   \n",
       "355226   LAB HILAB                   41                 410690   \n",
       "355246   LAB HILAB                   41                 410690   \n",
       "355248   LAB HILAB                   41                 410690   \n",
       "355251   LAB HILAB                   41                 410690   \n",
       "1070694  LAB HILAB                   41                 410690   \n",
       "355262   LAB HILAB                   41                 410690   \n",
       "355275   LAB HILAB                   41                 410690   \n",
       "355277   LAB HILAB                   41                 410690   \n",
       "355283   LAB HILAB                   41                 410690   \n",
       "355296   LAB HILAB                   41                 410690   \n",
       "355297   LAB HILAB                   41                 410690   \n",
       "355300   LAB HILAB                   41                 410690   \n",
       "355309   LAB HILAB                   41                 410690   \n",
       "\n",
       "        data_notificacao updated_at data_diagnostico  mun_resid uf_resid  \\\n",
       "355104        2020-08-31        NaT       2020-08-31  SAO PAULO       SP   \n",
       "355115        2020-08-31        NaT       2020-08-31  SAO PAULO       SP   \n",
       "355147        2020-08-31        NaT       2020-08-31  SAO PAULO       SP   \n",
       "355149        2020-08-31        NaT       2020-08-31  SAO PAULO       SP   \n",
       "355151        2020-08-31        NaT       2020-08-31  SAO PAULO       SP   \n",
       "355152        2020-08-31        NaT       2020-08-31  SAO PAULO       SP   \n",
       "355153        2020-08-31        NaT       2020-08-31  SAO PAULO       SP   \n",
       "1070671       2020-08-31        NaT       2020-08-31  SAO PAULO       SP   \n",
       "1070672       2020-08-31        NaT       2020-08-31  SAO PAULO       SP   \n",
       "355156        2020-08-31        NaT       2020-08-31  SAO PAULO       SP   \n",
       "355157        2020-08-31        NaT       2020-08-31  SAO PAULO       SP   \n",
       "355158        2020-08-31        NaT       2020-08-31  SAO PAULO       SP   \n",
       "355159        2020-08-31        NaT       2020-08-31  SAO PAULO       SP   \n",
       "355160        2020-08-31        NaT       2020-08-31  SAO PAULO       SP   \n",
       "355162        2020-08-31        NaT       2020-08-31  SAO PAULO       SP   \n",
       "355163        2020-08-31        NaT       2020-08-31  SAO PAULO       SP   \n",
       "355164        2020-08-31        NaT       2020-08-31  SAO PAULO       SP   \n",
       "1070675       2020-08-31        NaT       2020-08-31  SAO PAULO       SP   \n",
       "355165        2020-08-31        NaT       2020-08-31  SAO PAULO       SP   \n",
       "355166        2020-08-31        NaT       2020-08-31  SAO PAULO       SP   \n",
       "355167        2020-08-31        NaT       2020-08-31  SAO PAULO       SP   \n",
       "355180        2020-08-31        NaT       2020-08-31  SAO PAULO       SP   \n",
       "355183        2020-08-31        NaT       2020-08-31  SAO PAULO       SP   \n",
       "355185        2020-08-31        NaT       2020-08-31  SAO PAULO       SP   \n",
       "355186        2020-08-31        NaT       2020-08-31  SAO PAULO       SP   \n",
       "355190        2020-08-31        NaT       2020-08-31  SAO PAULO       SP   \n",
       "355195        2020-08-31        NaT       2020-08-31  SAO PAULO       SP   \n",
       "355198        2020-08-31        NaT       2020-08-31  SAO PAULO       SP   \n",
       "355206        2020-08-31        NaT       2020-08-31  SAO PAULO       SP   \n",
       "355207        2020-08-31        NaT       2020-08-31  SAO PAULO       SP   \n",
       "355213        2020-08-31        NaT       2020-08-31  SAO PAULO       SP   \n",
       "355219        2020-08-31        NaT       2020-08-31  SAO PAULO       SP   \n",
       "355224        2020-08-31        NaT       2020-08-31  SAO PAULO       SP   \n",
       "355225        2020-08-31        NaT       2020-08-31  SAO PAULO       SP   \n",
       "355226        2020-08-31        NaT       2020-08-31  SAO PAULO       SP   \n",
       "355246        2020-08-31        NaT       2020-08-31  SAO PAULO       SP   \n",
       "355248        2020-08-31        NaT       2020-08-31  SAO PAULO       SP   \n",
       "355251        2020-08-31        NaT       2020-08-31  SAO PAULO       SP   \n",
       "1070694       2020-08-31        NaT       2020-08-31  SAO PAULO       SP   \n",
       "355262        2020-08-31        NaT       2020-08-31  SAO PAULO       SP   \n",
       "355275        2020-08-31        NaT       2020-08-31  SAO PAULO       SP   \n",
       "355277        2020-08-31        NaT       2020-08-31  SAO PAULO       SP   \n",
       "355283        2020-08-31        NaT       2020-08-31  SAO PAULO       SP   \n",
       "355296        2020-08-31        NaT       2020-08-31  SAO PAULO       SP   \n",
       "355297        2020-08-31        NaT       2020-08-31  SAO PAULO       SP   \n",
       "355300        2020-08-31        NaT       2020-08-31  SAO PAULO       SP   \n",
       "355309        2020-08-31        NaT       2020-08-31  SAO PAULO       SP   \n",
       "\n",
       "           rs mun_atend uf_atend   hash_resid   hash_atend hash_mae hash_nasc  \\\n",
       "355104   None  CURITIBA       PR  120SAOPAULO  120CURITIBA      NaN  01011900   \n",
       "355115   None  CURITIBA       PR  120SAOPAULO  120CURITIBA      NaN  01011900   \n",
       "355147   None  CURITIBA       PR  120SAOPAULO  120CURITIBA      NaN  01011900   \n",
       "355149   None  CURITIBA       PR  120SAOPAULO  120CURITIBA      NaN  01011900   \n",
       "355151   None  CURITIBA       PR  120SAOPAULO  120CURITIBA      NaN  01011900   \n",
       "355152   None  CURITIBA       PR  120SAOPAULO  120CURITIBA      NaN  01011900   \n",
       "355153   None  CURITIBA       PR  120SAOPAULO  120CURITIBA      NaN  01011900   \n",
       "1070671  None  CURITIBA       PR  120SAOPAULO  120CURITIBA      NaN  01011900   \n",
       "1070672  None  CURITIBA       PR  120SAOPAULO  120CURITIBA      NaN  01011900   \n",
       "355156   None  CURITIBA       PR  120SAOPAULO  120CURITIBA      NaN  01011900   \n",
       "355157   None  CURITIBA       PR  120SAOPAULO  120CURITIBA      NaN  01011900   \n",
       "355158   None  CURITIBA       PR  120SAOPAULO  120CURITIBA      NaN  01011900   \n",
       "355159   None  CURITIBA       PR  120SAOPAULO  120CURITIBA      NaN  01011900   \n",
       "355160   None  CURITIBA       PR  120SAOPAULO  120CURITIBA      NaN  01011900   \n",
       "355162   None  CURITIBA       PR  120SAOPAULO  120CURITIBA      NaN  01011900   \n",
       "355163   None  CURITIBA       PR  120SAOPAULO  120CURITIBA      NaN  01011900   \n",
       "355164   None  CURITIBA       PR  120SAOPAULO  120CURITIBA      NaN  01011900   \n",
       "1070675  None  CURITIBA       PR  120SAOPAULO  120CURITIBA      NaN  01011900   \n",
       "355165   None  CURITIBA       PR  120SAOPAULO  120CURITIBA      NaN  01011900   \n",
       "355166   None  CURITIBA       PR  120SAOPAULO  120CURITIBA      NaN  01011900   \n",
       "355167   None  CURITIBA       PR  120SAOPAULO  120CURITIBA      NaN  01011900   \n",
       "355180   None  CURITIBA       PR  120SAOPAULO  120CURITIBA      NaN  01011900   \n",
       "355183   None  CURITIBA       PR  120SAOPAULO  120CURITIBA      NaN  01011900   \n",
       "355185   None  CURITIBA       PR  120SAOPAULO  120CURITIBA      NaN  01011900   \n",
       "355186   None  CURITIBA       PR  120SAOPAULO  120CURITIBA      NaN  01011900   \n",
       "355190   None  CURITIBA       PR  120SAOPAULO  120CURITIBA      NaN  01011900   \n",
       "355195   None  CURITIBA       PR  120SAOPAULO  120CURITIBA      NaN  01011900   \n",
       "355198   None  CURITIBA       PR  120SAOPAULO  120CURITIBA      NaN  01011900   \n",
       "355206   None  CURITIBA       PR  120SAOPAULO  120CURITIBA      NaN  01011900   \n",
       "355207   None  CURITIBA       PR  120SAOPAULO  120CURITIBA      NaN  01011900   \n",
       "355213   None  CURITIBA       PR  120SAOPAULO  120CURITIBA      NaN  01011900   \n",
       "355219   None  CURITIBA       PR  120SAOPAULO  120CURITIBA      NaN  01011900   \n",
       "355224   None  CURITIBA       PR  120SAOPAULO  120CURITIBA      NaN  01011900   \n",
       "355225   None  CURITIBA       PR  120SAOPAULO  120CURITIBA      NaN  01011900   \n",
       "355226   None  CURITIBA       PR  120SAOPAULO  120CURITIBA      NaN  01011900   \n",
       "355246   None  CURITIBA       PR  120SAOPAULO  120CURITIBA      NaN  01011900   \n",
       "355248   None  CURITIBA       PR  120SAOPAULO  120CURITIBA      NaN  01011900   \n",
       "355251   None  CURITIBA       PR  120SAOPAULO  120CURITIBA      NaN  01011900   \n",
       "1070694  None  CURITIBA       PR  120SAOPAULO  120CURITIBA      NaN  01011900   \n",
       "355262   None  CURITIBA       PR  120SAOPAULO  120CURITIBA      NaN  01011900   \n",
       "355275   None  CURITIBA       PR  120SAOPAULO  120CURITIBA      NaN  01011900   \n",
       "355277   None  CURITIBA       PR  120SAOPAULO  120CURITIBA      NaN  01011900   \n",
       "355283   None  CURITIBA       PR  120SAOPAULO  120CURITIBA      NaN  01011900   \n",
       "355296   None  CURITIBA       PR  120SAOPAULO  120CURITIBA      NaN  01011900   \n",
       "355297   None  CURITIBA       PR  120SAOPAULO  120CURITIBA      NaN  01011900   \n",
       "355300   None  CURITIBA       PR  120SAOPAULO  120CURITIBA      NaN  01011900   \n",
       "355309   None  CURITIBA       PR  120SAOPAULO  120CURITIBA      NaN  01011900   \n",
       "\n",
       "        hash_diag  \n",
       "355104   31082020  \n",
       "355115   31082020  \n",
       "355147   31082020  \n",
       "355149   31082020  \n",
       "355151   31082020  \n",
       "355152   31082020  \n",
       "355153   31082020  \n",
       "1070671  31082020  \n",
       "1070672  31082020  \n",
       "355156   31082020  \n",
       "355157   31082020  \n",
       "355158   31082020  \n",
       "355159   31082020  \n",
       "355160   31082020  \n",
       "355162   31082020  \n",
       "355163   31082020  \n",
       "355164   31082020  \n",
       "1070675  31082020  \n",
       "355165   31082020  \n",
       "355166   31082020  \n",
       "355167   31082020  \n",
       "355180   31082020  \n",
       "355183   31082020  \n",
       "355185   31082020  \n",
       "355186   31082020  \n",
       "355190   31082020  \n",
       "355195   31082020  \n",
       "355198   31082020  \n",
       "355206   31082020  \n",
       "355207   31082020  \n",
       "355213   31082020  \n",
       "355219   31082020  \n",
       "355224   31082020  \n",
       "355225   31082020  \n",
       "355226   31082020  \n",
       "355246   31082020  \n",
       "355248   31082020  \n",
       "355251   31082020  \n",
       "1070694  31082020  \n",
       "355262   31082020  \n",
       "355275   31082020  \n",
       "355277   31082020  \n",
       "355283   31082020  \n",
       "355296   31082020  \n",
       "355297   31082020  \n",
       "355300   31082020  \n",
       "355309   31082020  "
      ],
      "text/html": "<div>\n<style scoped>\n    .dataframe tbody tr th:only-of-type {\n        vertical-align: middle;\n    }\n\n    .dataframe tbody tr th {\n        vertical-align: top;\n    }\n\n    .dataframe thead th {\n        text-align: right;\n    }\n</style>\n<table border=\"1\" class=\"dataframe\">\n  <thead>\n    <tr style=\"text-align: right;\">\n      <th></th>\n      <th>id</th>\n      <th>paciente</th>\n      <th>data_nascimento</th>\n      <th>nome_mae</th>\n      <th>cpf</th>\n      <th>cod_tipo_paciente</th>\n      <th>tipo_paciente</th>\n      <th>idade</th>\n      <th>sexo</th>\n      <th>cod_raca_cor</th>\n      <th>raca_cor</th>\n      <th>cod_etnia</th>\n      <th>etnia</th>\n      <th>uf_residencia</th>\n      <th>ibge_residencia</th>\n      <th>cod_classificacao_final</th>\n      <th>classificacao_final</th>\n      <th>cod_criterio_classificacao</th>\n      <th>criterio_classificacao</th>\n      <th>cod_evolucao</th>\n      <th>evolucao</th>\n      <th>data_1o_sintomas</th>\n      <th>data_cura_obito</th>\n      <th>co_seq_exame</th>\n      <th>cod_metodo</th>\n      <th>metodo</th>\n      <th>cod_exame</th>\n      <th>exame</th>\n      <th>cod_resultado</th>\n      <th>resultado</th>\n      <th>data_coleta</th>\n      <th>data_recebimento</th>\n      <th>data_liberacao</th>\n      <th>cod_status_notificacao</th>\n      <th>status_notificacao</th>\n      <th>excluir_ficha</th>\n      <th>cod_origem</th>\n      <th>origem</th>\n      <th>uf_unidade_notifica</th>\n      <th>ibge_unidade_notifica</th>\n      <th>data_notificacao</th>\n      <th>updated_at</th>\n      <th>data_diagnostico</th>\n      <th>mun_resid</th>\n      <th>uf_resid</th>\n      <th>rs</th>\n      <th>mun_atend</th>\n      <th>uf_atend</th>\n      <th>hash_resid</th>\n      <th>hash_atend</th>\n      <th>hash_mae</th>\n      <th>hash_nasc</th>\n      <th>hash_diag</th>\n    </tr>\n  </thead>\n  <tbody>\n    <tr>\n      <th>355104</th>\n      <td>814450</td>\n      <td>75170970000134-113696</td>\n      <td>1900-01-01</td>\n      <td>None</td>\n      <td>None</td>\n      <td>4</td>\n      <td>CPF NAO INFORMADO</td>\n      <td>120</td>\n      <td>M</td>\n      <td>99</td>\n      <td>IGNORADO</td>\n      <td>0</td>\n      <td></td>\n      <td>35</td>\n      <td>355030</td>\n      <td>1</td>\n      <td>CASO SUSPEITO</td>\n      <td>3</td>\n      <td>EM INVESTIGACAO</td>\n      <td>3</td>\n      <td>NAO SE APLICA</td>\n      <td>NaT</td>\n      <td>NaT</td>\n      <td>0</td>\n      <td>2</td>\n      <td>TESTE RAPIDO</td>\n      <td>11</td>\n      <td>COVID-19 IGG/IGM</td>\n      <td>13</td>\n      <td>NAO REAGENTE</td>\n      <td>NaT</td>\n      <td>NaT</td>\n      <td>NaT</td>\n      <td>1</td>\n      <td>ABERTA</td>\n      <td>2</td>\n      <td>12</td>\n      <td>LAB HILAB</td>\n      <td>41</td>\n      <td>410690</td>\n      <td>2020-08-31</td>\n      <td>NaT</td>\n      <td>2020-08-31</td>\n      <td>SAO PAULO</td>\n      <td>SP</td>\n      <td>None</td>\n      <td>CURITIBA</td>\n      <td>PR</td>\n      <td>120SAOPAULO</td>\n      <td>120CURITIBA</td>\n      <td>NaN</td>\n      <td>01011900</td>\n      <td>31082020</td>\n    </tr>\n    <tr>\n      <th>355115</th>\n      <td>814472</td>\n      <td>75170970000134-113698</td>\n      <td>1900-01-01</td>\n      <td>None</td>\n      <td>None</td>\n      <td>4</td>\n      <td>CPF NAO INFORMADO</td>\n      <td>120</td>\n      <td>M</td>\n      <td>99</td>\n      <td>IGNORADO</td>\n      <td>0</td>\n      <td></td>\n      <td>35</td>\n      <td>355030</td>\n      <td>1</td>\n      <td>CASO SUSPEITO</td>\n      <td>3</td>\n      <td>EM INVESTIGACAO</td>\n      <td>3</td>\n      <td>NAO SE APLICA</td>\n      <td>NaT</td>\n      <td>NaT</td>\n      <td>0</td>\n      <td>2</td>\n      <td>TESTE RAPIDO</td>\n      <td>11</td>\n      <td>COVID-19 IGG/IGM</td>\n      <td>13</td>\n      <td>NAO REAGENTE</td>\n      <td>NaT</td>\n      <td>NaT</td>\n      <td>NaT</td>\n      <td>1</td>\n      <td>ABERTA</td>\n      <td>2</td>\n      <td>12</td>\n      <td>LAB HILAB</td>\n      <td>41</td>\n      <td>410690</td>\n      <td>2020-08-31</td>\n      <td>NaT</td>\n      <td>2020-08-31</td>\n      <td>SAO PAULO</td>\n      <td>SP</td>\n      <td>None</td>\n      <td>CURITIBA</td>\n      <td>PR</td>\n      <td>120SAOPAULO</td>\n      <td>120CURITIBA</td>\n      <td>NaN</td>\n      <td>01011900</td>\n      <td>31082020</td>\n    </tr>\n    <tr>\n      <th>355147</th>\n      <td>814574</td>\n      <td>75170970000134-113690</td>\n      <td>1900-01-01</td>\n      <td>None</td>\n      <td>None</td>\n      <td>4</td>\n      <td>CPF NAO INFORMADO</td>\n      <td>120</td>\n      <td>M</td>\n      <td>99</td>\n      <td>IGNORADO</td>\n      <td>0</td>\n      <td></td>\n      <td>35</td>\n      <td>355030</td>\n      <td>1</td>\n      <td>CASO SUSPEITO</td>\n      <td>3</td>\n      <td>EM INVESTIGACAO</td>\n      <td>3</td>\n      <td>NAO SE APLICA</td>\n      <td>NaT</td>\n      <td>NaT</td>\n      <td>0</td>\n      <td>2</td>\n      <td>TESTE RAPIDO</td>\n      <td>11</td>\n      <td>COVID-19 IGG/IGM</td>\n      <td>13</td>\n      <td>NAO REAGENTE</td>\n      <td>NaT</td>\n      <td>NaT</td>\n      <td>NaT</td>\n      <td>1</td>\n      <td>ABERTA</td>\n      <td>2</td>\n      <td>12</td>\n      <td>LAB HILAB</td>\n      <td>41</td>\n      <td>410690</td>\n      <td>2020-08-31</td>\n      <td>NaT</td>\n      <td>2020-08-31</td>\n      <td>SAO PAULO</td>\n      <td>SP</td>\n      <td>None</td>\n      <td>CURITIBA</td>\n      <td>PR</td>\n      <td>120SAOPAULO</td>\n      <td>120CURITIBA</td>\n      <td>NaN</td>\n      <td>01011900</td>\n      <td>31082020</td>\n    </tr>\n    <tr>\n      <th>355149</th>\n      <td>814576</td>\n      <td>75170970000134-113694</td>\n      <td>1900-01-01</td>\n      <td>None</td>\n      <td>None</td>\n      <td>4</td>\n      <td>CPF NAO INFORMADO</td>\n      <td>120</td>\n      <td>M</td>\n      <td>99</td>\n      <td>IGNORADO</td>\n      <td>0</td>\n      <td></td>\n      <td>35</td>\n      <td>355030</td>\n      <td>1</td>\n      <td>CASO SUSPEITO</td>\n      <td>3</td>\n      <td>EM INVESTIGACAO</td>\n      <td>3</td>\n      <td>NAO SE APLICA</td>\n      <td>NaT</td>\n      <td>NaT</td>\n      <td>0</td>\n      <td>2</td>\n      <td>TESTE RAPIDO</td>\n      <td>11</td>\n      <td>COVID-19 IGG/IGM</td>\n      <td>13</td>\n      <td>NAO REAGENTE</td>\n      <td>NaT</td>\n      <td>NaT</td>\n      <td>NaT</td>\n      <td>1</td>\n      <td>ABERTA</td>\n      <td>2</td>\n      <td>12</td>\n      <td>LAB HILAB</td>\n      <td>41</td>\n      <td>410690</td>\n      <td>2020-08-31</td>\n      <td>NaT</td>\n      <td>2020-08-31</td>\n      <td>SAO PAULO</td>\n      <td>SP</td>\n      <td>None</td>\n      <td>CURITIBA</td>\n      <td>PR</td>\n      <td>120SAOPAULO</td>\n      <td>120CURITIBA</td>\n      <td>NaN</td>\n      <td>01011900</td>\n      <td>31082020</td>\n    </tr>\n    <tr>\n      <th>355151</th>\n      <td>814580</td>\n      <td>75170970000134-113693</td>\n      <td>1900-01-01</td>\n      <td>None</td>\n      <td>None</td>\n      <td>4</td>\n      <td>CPF NAO INFORMADO</td>\n      <td>120</td>\n      <td>M</td>\n      <td>99</td>\n      <td>IGNORADO</td>\n      <td>0</td>\n      <td></td>\n      <td>35</td>\n      <td>355030</td>\n      <td>1</td>\n      <td>CASO SUSPEITO</td>\n      <td>3</td>\n      <td>EM INVESTIGACAO</td>\n      <td>3</td>\n      <td>NAO SE APLICA</td>\n      <td>NaT</td>\n      <td>NaT</td>\n      <td>0</td>\n      <td>2</td>\n      <td>TESTE RAPIDO</td>\n      <td>11</td>\n      <td>COVID-19 IGG/IGM</td>\n      <td>13</td>\n      <td>NAO REAGENTE</td>\n      <td>NaT</td>\n      <td>NaT</td>\n      <td>NaT</td>\n      <td>1</td>\n      <td>ABERTA</td>\n      <td>2</td>\n      <td>12</td>\n      <td>LAB HILAB</td>\n      <td>41</td>\n      <td>410690</td>\n      <td>2020-08-31</td>\n      <td>NaT</td>\n      <td>2020-08-31</td>\n      <td>SAO PAULO</td>\n      <td>SP</td>\n      <td>None</td>\n      <td>CURITIBA</td>\n      <td>PR</td>\n      <td>120SAOPAULO</td>\n      <td>120CURITIBA</td>\n      <td>NaN</td>\n      <td>01011900</td>\n      <td>31082020</td>\n    </tr>\n    <tr>\n      <th>355152</th>\n      <td>814581</td>\n      <td>75170970000134-113686</td>\n      <td>1900-01-01</td>\n      <td>None</td>\n      <td>None</td>\n      <td>4</td>\n      <td>CPF NAO INFORMADO</td>\n      <td>120</td>\n      <td>M</td>\n      <td>99</td>\n      <td>IGNORADO</td>\n      <td>0</td>\n      <td></td>\n      <td>35</td>\n      <td>355030</td>\n      <td>1</td>\n      <td>CASO SUSPEITO</td>\n      <td>3</td>\n      <td>EM INVESTIGACAO</td>\n      <td>3</td>\n      <td>NAO SE APLICA</td>\n      <td>NaT</td>\n      <td>NaT</td>\n      <td>0</td>\n      <td>2</td>\n      <td>TESTE RAPIDO</td>\n      <td>11</td>\n      <td>COVID-19 IGG/IGM</td>\n      <td>13</td>\n      <td>NAO REAGENTE</td>\n      <td>NaT</td>\n      <td>NaT</td>\n      <td>NaT</td>\n      <td>1</td>\n      <td>ABERTA</td>\n      <td>2</td>\n      <td>12</td>\n      <td>LAB HILAB</td>\n      <td>41</td>\n      <td>410690</td>\n      <td>2020-08-31</td>\n      <td>NaT</td>\n      <td>2020-08-31</td>\n      <td>SAO PAULO</td>\n      <td>SP</td>\n      <td>None</td>\n      <td>CURITIBA</td>\n      <td>PR</td>\n      <td>120SAOPAULO</td>\n      <td>120CURITIBA</td>\n      <td>NaN</td>\n      <td>01011900</td>\n      <td>31082020</td>\n    </tr>\n    <tr>\n      <th>355153</th>\n      <td>814584</td>\n      <td>75170970000134-113685</td>\n      <td>1900-01-01</td>\n      <td>None</td>\n      <td>None</td>\n      <td>4</td>\n      <td>CPF NAO INFORMADO</td>\n      <td>120</td>\n      <td>M</td>\n      <td>99</td>\n      <td>IGNORADO</td>\n      <td>0</td>\n      <td></td>\n      <td>35</td>\n      <td>355030</td>\n      <td>1</td>\n      <td>CASO SUSPEITO</td>\n      <td>3</td>\n      <td>EM INVESTIGACAO</td>\n      <td>3</td>\n      <td>NAO SE APLICA</td>\n      <td>NaT</td>\n      <td>NaT</td>\n      <td>0</td>\n      <td>2</td>\n      <td>TESTE RAPIDO</td>\n      <td>11</td>\n      <td>COVID-19 IGG/IGM</td>\n      <td>13</td>\n      <td>NAO REAGENTE</td>\n      <td>NaT</td>\n      <td>NaT</td>\n      <td>NaT</td>\n      <td>1</td>\n      <td>ABERTA</td>\n      <td>2</td>\n      <td>12</td>\n      <td>LAB HILAB</td>\n      <td>41</td>\n      <td>410690</td>\n      <td>2020-08-31</td>\n      <td>NaT</td>\n      <td>2020-08-31</td>\n      <td>SAO PAULO</td>\n      <td>SP</td>\n      <td>None</td>\n      <td>CURITIBA</td>\n      <td>PR</td>\n      <td>120SAOPAULO</td>\n      <td>120CURITIBA</td>\n      <td>NaN</td>\n      <td>01011900</td>\n      <td>31082020</td>\n    </tr>\n    <tr>\n      <th>1070671</th>\n      <td>814585</td>\n      <td>75170970000134-113683</td>\n      <td>1900-01-01</td>\n      <td>None</td>\n      <td>None</td>\n      <td>4</td>\n      <td>CPF NAO INFORMADO</td>\n      <td>120</td>\n      <td>M</td>\n      <td>99</td>\n      <td>IGNORADO</td>\n      <td>0</td>\n      <td></td>\n      <td>35</td>\n      <td>355030</td>\n      <td>2</td>\n      <td>CASO CONFIRMADO</td>\n      <td>1</td>\n      <td>LABORATORIAL</td>\n      <td>3</td>\n      <td>NAO SE APLICA</td>\n      <td>NaT</td>\n      <td>NaT</td>\n      <td>0</td>\n      <td>2</td>\n      <td>TESTE RAPIDO</td>\n      <td>11</td>\n      <td>COVID-19 IGG/IGM</td>\n      <td>12</td>\n      <td>REAGENTE</td>\n      <td>NaT</td>\n      <td>NaT</td>\n      <td>NaT</td>\n      <td>1</td>\n      <td>ABERTA</td>\n      <td>2</td>\n      <td>12</td>\n      <td>LAB HILAB</td>\n      <td>41</td>\n      <td>410690</td>\n      <td>2020-08-31</td>\n      <td>NaT</td>\n      <td>2020-08-31</td>\n      <td>SAO PAULO</td>\n      <td>SP</td>\n      <td>None</td>\n      <td>CURITIBA</td>\n      <td>PR</td>\n      <td>120SAOPAULO</td>\n      <td>120CURITIBA</td>\n      <td>NaN</td>\n      <td>01011900</td>\n      <td>31082020</td>\n    </tr>\n    <tr>\n      <th>1070672</th>\n      <td>814588</td>\n      <td>75170970000134-113680</td>\n      <td>1900-01-01</td>\n      <td>None</td>\n      <td>None</td>\n      <td>4</td>\n      <td>CPF NAO INFORMADO</td>\n      <td>120</td>\n      <td>M</td>\n      <td>99</td>\n      <td>IGNORADO</td>\n      <td>0</td>\n      <td></td>\n      <td>35</td>\n      <td>355030</td>\n      <td>2</td>\n      <td>CASO CONFIRMADO</td>\n      <td>1</td>\n      <td>LABORATORIAL</td>\n      <td>3</td>\n      <td>NAO SE APLICA</td>\n      <td>NaT</td>\n      <td>NaT</td>\n      <td>0</td>\n      <td>2</td>\n      <td>TESTE RAPIDO</td>\n      <td>11</td>\n      <td>COVID-19 IGG/IGM</td>\n      <td>12</td>\n      <td>REAGENTE</td>\n      <td>NaT</td>\n      <td>NaT</td>\n      <td>NaT</td>\n      <td>1</td>\n      <td>ABERTA</td>\n      <td>2</td>\n      <td>12</td>\n      <td>LAB HILAB</td>\n      <td>41</td>\n      <td>410690</td>\n      <td>2020-08-31</td>\n      <td>NaT</td>\n      <td>2020-08-31</td>\n      <td>SAO PAULO</td>\n      <td>SP</td>\n      <td>None</td>\n      <td>CURITIBA</td>\n      <td>PR</td>\n      <td>120SAOPAULO</td>\n      <td>120CURITIBA</td>\n      <td>NaN</td>\n      <td>01011900</td>\n      <td>31082020</td>\n    </tr>\n    <tr>\n      <th>355156</th>\n      <td>814589</td>\n      <td>75170970000134-113674</td>\n      <td>1900-01-01</td>\n      <td>None</td>\n      <td>None</td>\n      <td>4</td>\n      <td>CPF NAO INFORMADO</td>\n      <td>120</td>\n      <td>M</td>\n      <td>99</td>\n      <td>IGNORADO</td>\n      <td>0</td>\n      <td></td>\n      <td>35</td>\n      <td>355030</td>\n      <td>1</td>\n      <td>CASO SUSPEITO</td>\n      <td>3</td>\n      <td>EM INVESTIGACAO</td>\n      <td>3</td>\n      <td>NAO SE APLICA</td>\n      <td>NaT</td>\n      <td>NaT</td>\n      <td>0</td>\n      <td>2</td>\n      <td>TESTE RAPIDO</td>\n      <td>11</td>\n      <td>COVID-19 IGG/IGM</td>\n      <td>13</td>\n      <td>NAO REAGENTE</td>\n      <td>NaT</td>\n      <td>NaT</td>\n      <td>NaT</td>\n      <td>1</td>\n      <td>ABERTA</td>\n      <td>2</td>\n      <td>12</td>\n      <td>LAB HILAB</td>\n      <td>41</td>\n      <td>410690</td>\n      <td>2020-08-31</td>\n      <td>NaT</td>\n      <td>2020-08-31</td>\n      <td>SAO PAULO</td>\n      <td>SP</td>\n      <td>None</td>\n      <td>CURITIBA</td>\n      <td>PR</td>\n      <td>120SAOPAULO</td>\n      <td>120CURITIBA</td>\n      <td>NaN</td>\n      <td>01011900</td>\n      <td>31082020</td>\n    </tr>\n    <tr>\n      <th>355157</th>\n      <td>814590</td>\n      <td>75170970000134-113665</td>\n      <td>1900-01-01</td>\n      <td>None</td>\n      <td>None</td>\n      <td>4</td>\n      <td>CPF NAO INFORMADO</td>\n      <td>120</td>\n      <td>M</td>\n      <td>99</td>\n      <td>IGNORADO</td>\n      <td>0</td>\n      <td></td>\n      <td>35</td>\n      <td>355030</td>\n      <td>1</td>\n      <td>CASO SUSPEITO</td>\n      <td>3</td>\n      <td>EM INVESTIGACAO</td>\n      <td>3</td>\n      <td>NAO SE APLICA</td>\n      <td>NaT</td>\n      <td>NaT</td>\n      <td>0</td>\n      <td>2</td>\n      <td>TESTE RAPIDO</td>\n      <td>11</td>\n      <td>COVID-19 IGG/IGM</td>\n      <td>13</td>\n      <td>NAO REAGENTE</td>\n      <td>NaT</td>\n      <td>NaT</td>\n      <td>NaT</td>\n      <td>1</td>\n      <td>ABERTA</td>\n      <td>2</td>\n      <td>12</td>\n      <td>LAB HILAB</td>\n      <td>41</td>\n      <td>410690</td>\n      <td>2020-08-31</td>\n      <td>NaT</td>\n      <td>2020-08-31</td>\n      <td>SAO PAULO</td>\n      <td>SP</td>\n      <td>None</td>\n      <td>CURITIBA</td>\n      <td>PR</td>\n      <td>120SAOPAULO</td>\n      <td>120CURITIBA</td>\n      <td>NaN</td>\n      <td>01011900</td>\n      <td>31082020</td>\n    </tr>\n    <tr>\n      <th>355158</th>\n      <td>814591</td>\n      <td>75170970000134-113671</td>\n      <td>1900-01-01</td>\n      <td>None</td>\n      <td>None</td>\n      <td>4</td>\n      <td>CPF NAO INFORMADO</td>\n      <td>120</td>\n      <td>M</td>\n      <td>99</td>\n      <td>IGNORADO</td>\n      <td>0</td>\n      <td></td>\n      <td>35</td>\n      <td>355030</td>\n      <td>1</td>\n      <td>CASO SUSPEITO</td>\n      <td>3</td>\n      <td>EM INVESTIGACAO</td>\n      <td>3</td>\n      <td>NAO SE APLICA</td>\n      <td>NaT</td>\n      <td>NaT</td>\n      <td>0</td>\n      <td>2</td>\n      <td>TESTE RAPIDO</td>\n      <td>11</td>\n      <td>COVID-19 IGG/IGM</td>\n      <td>13</td>\n      <td>NAO REAGENTE</td>\n      <td>NaT</td>\n      <td>NaT</td>\n      <td>NaT</td>\n      <td>1</td>\n      <td>ABERTA</td>\n      <td>2</td>\n      <td>12</td>\n      <td>LAB HILAB</td>\n      <td>41</td>\n      <td>410690</td>\n      <td>2020-08-31</td>\n      <td>NaT</td>\n      <td>2020-08-31</td>\n      <td>SAO PAULO</td>\n      <td>SP</td>\n      <td>None</td>\n      <td>CURITIBA</td>\n      <td>PR</td>\n      <td>120SAOPAULO</td>\n      <td>120CURITIBA</td>\n      <td>NaN</td>\n      <td>01011900</td>\n      <td>31082020</td>\n    </tr>\n    <tr>\n      <th>355159</th>\n      <td>814593</td>\n      <td>75170970000134-113663</td>\n      <td>1900-01-01</td>\n      <td>None</td>\n      <td>None</td>\n      <td>4</td>\n      <td>CPF NAO INFORMADO</td>\n      <td>120</td>\n      <td>M</td>\n      <td>99</td>\n      <td>IGNORADO</td>\n      <td>0</td>\n      <td></td>\n      <td>35</td>\n      <td>355030</td>\n      <td>1</td>\n      <td>CASO SUSPEITO</td>\n      <td>3</td>\n      <td>EM INVESTIGACAO</td>\n      <td>3</td>\n      <td>NAO SE APLICA</td>\n      <td>NaT</td>\n      <td>NaT</td>\n      <td>0</td>\n      <td>2</td>\n      <td>TESTE RAPIDO</td>\n      <td>11</td>\n      <td>COVID-19 IGG/IGM</td>\n      <td>13</td>\n      <td>NAO REAGENTE</td>\n      <td>NaT</td>\n      <td>NaT</td>\n      <td>NaT</td>\n      <td>1</td>\n      <td>ABERTA</td>\n      <td>2</td>\n      <td>12</td>\n      <td>LAB HILAB</td>\n      <td>41</td>\n      <td>410690</td>\n      <td>2020-08-31</td>\n      <td>NaT</td>\n      <td>2020-08-31</td>\n      <td>SAO PAULO</td>\n      <td>SP</td>\n      <td>None</td>\n      <td>CURITIBA</td>\n      <td>PR</td>\n      <td>120SAOPAULO</td>\n      <td>120CURITIBA</td>\n      <td>NaN</td>\n      <td>01011900</td>\n      <td>31082020</td>\n    </tr>\n    <tr>\n      <th>355160</th>\n      <td>814595</td>\n      <td>75170970000134-113658</td>\n      <td>1900-01-01</td>\n      <td>None</td>\n      <td>None</td>\n      <td>4</td>\n      <td>CPF NAO INFORMADO</td>\n      <td>120</td>\n      <td>M</td>\n      <td>99</td>\n      <td>IGNORADO</td>\n      <td>0</td>\n      <td></td>\n      <td>35</td>\n      <td>355030</td>\n      <td>1</td>\n      <td>CASO SUSPEITO</td>\n      <td>3</td>\n      <td>EM INVESTIGACAO</td>\n      <td>3</td>\n      <td>NAO SE APLICA</td>\n      <td>NaT</td>\n      <td>NaT</td>\n      <td>0</td>\n      <td>2</td>\n      <td>TESTE RAPIDO</td>\n      <td>11</td>\n      <td>COVID-19 IGG/IGM</td>\n      <td>13</td>\n      <td>NAO REAGENTE</td>\n      <td>NaT</td>\n      <td>NaT</td>\n      <td>NaT</td>\n      <td>1</td>\n      <td>ABERTA</td>\n      <td>2</td>\n      <td>12</td>\n      <td>LAB HILAB</td>\n      <td>41</td>\n      <td>410690</td>\n      <td>2020-08-31</td>\n      <td>NaT</td>\n      <td>2020-08-31</td>\n      <td>SAO PAULO</td>\n      <td>SP</td>\n      <td>None</td>\n      <td>CURITIBA</td>\n      <td>PR</td>\n      <td>120SAOPAULO</td>\n      <td>120CURITIBA</td>\n      <td>NaN</td>\n      <td>01011900</td>\n      <td>31082020</td>\n    </tr>\n    <tr>\n      <th>355162</th>\n      <td>814597</td>\n      <td>75170970000134-113655</td>\n      <td>1900-01-01</td>\n      <td>None</td>\n      <td>None</td>\n      <td>4</td>\n      <td>CPF NAO INFORMADO</td>\n      <td>120</td>\n      <td>M</td>\n      <td>99</td>\n      <td>IGNORADO</td>\n      <td>0</td>\n      <td></td>\n      <td>35</td>\n      <td>355030</td>\n      <td>1</td>\n      <td>CASO SUSPEITO</td>\n      <td>3</td>\n      <td>EM INVESTIGACAO</td>\n      <td>3</td>\n      <td>NAO SE APLICA</td>\n      <td>NaT</td>\n      <td>NaT</td>\n      <td>0</td>\n      <td>2</td>\n      <td>TESTE RAPIDO</td>\n      <td>11</td>\n      <td>COVID-19 IGG/IGM</td>\n      <td>13</td>\n      <td>NAO REAGENTE</td>\n      <td>NaT</td>\n      <td>NaT</td>\n      <td>NaT</td>\n      <td>1</td>\n      <td>ABERTA</td>\n      <td>2</td>\n      <td>12</td>\n      <td>LAB HILAB</td>\n      <td>41</td>\n      <td>410690</td>\n      <td>2020-08-31</td>\n      <td>NaT</td>\n      <td>2020-08-31</td>\n      <td>SAO PAULO</td>\n      <td>SP</td>\n      <td>None</td>\n      <td>CURITIBA</td>\n      <td>PR</td>\n      <td>120SAOPAULO</td>\n      <td>120CURITIBA</td>\n      <td>NaN</td>\n      <td>01011900</td>\n      <td>31082020</td>\n    </tr>\n    <tr>\n      <th>355163</th>\n      <td>814598</td>\n      <td>75170970000134-113651</td>\n      <td>1900-01-01</td>\n      <td>None</td>\n      <td>None</td>\n      <td>4</td>\n      <td>CPF NAO INFORMADO</td>\n      <td>120</td>\n      <td>M</td>\n      <td>99</td>\n      <td>IGNORADO</td>\n      <td>0</td>\n      <td></td>\n      <td>35</td>\n      <td>355030</td>\n      <td>1</td>\n      <td>CASO SUSPEITO</td>\n      <td>3</td>\n      <td>EM INVESTIGACAO</td>\n      <td>3</td>\n      <td>NAO SE APLICA</td>\n      <td>NaT</td>\n      <td>NaT</td>\n      <td>0</td>\n      <td>2</td>\n      <td>TESTE RAPIDO</td>\n      <td>11</td>\n      <td>COVID-19 IGG/IGM</td>\n      <td>13</td>\n      <td>NAO REAGENTE</td>\n      <td>NaT</td>\n      <td>NaT</td>\n      <td>NaT</td>\n      <td>1</td>\n      <td>ABERTA</td>\n      <td>2</td>\n      <td>12</td>\n      <td>LAB HILAB</td>\n      <td>41</td>\n      <td>410690</td>\n      <td>2020-08-31</td>\n      <td>NaT</td>\n      <td>2020-08-31</td>\n      <td>SAO PAULO</td>\n      <td>SP</td>\n      <td>None</td>\n      <td>CURITIBA</td>\n      <td>PR</td>\n      <td>120SAOPAULO</td>\n      <td>120CURITIBA</td>\n      <td>NaN</td>\n      <td>01011900</td>\n      <td>31082020</td>\n    </tr>\n    <tr>\n      <th>355164</th>\n      <td>814600</td>\n      <td>75170970000134-113635</td>\n      <td>1900-01-01</td>\n      <td>None</td>\n      <td>None</td>\n      <td>4</td>\n      <td>CPF NAO INFORMADO</td>\n      <td>120</td>\n      <td>M</td>\n      <td>99</td>\n      <td>IGNORADO</td>\n      <td>0</td>\n      <td></td>\n      <td>35</td>\n      <td>355030</td>\n      <td>1</td>\n      <td>CASO SUSPEITO</td>\n      <td>3</td>\n      <td>EM INVESTIGACAO</td>\n      <td>3</td>\n      <td>NAO SE APLICA</td>\n      <td>NaT</td>\n      <td>NaT</td>\n      <td>0</td>\n      <td>2</td>\n      <td>TESTE RAPIDO</td>\n      <td>11</td>\n      <td>COVID-19 IGG/IGM</td>\n      <td>13</td>\n      <td>NAO REAGENTE</td>\n      <td>NaT</td>\n      <td>NaT</td>\n      <td>NaT</td>\n      <td>1</td>\n      <td>ABERTA</td>\n      <td>2</td>\n      <td>12</td>\n      <td>LAB HILAB</td>\n      <td>41</td>\n      <td>410690</td>\n      <td>2020-08-31</td>\n      <td>NaT</td>\n      <td>2020-08-31</td>\n      <td>SAO PAULO</td>\n      <td>SP</td>\n      <td>None</td>\n      <td>CURITIBA</td>\n      <td>PR</td>\n      <td>120SAOPAULO</td>\n      <td>120CURITIBA</td>\n      <td>NaN</td>\n      <td>01011900</td>\n      <td>31082020</td>\n    </tr>\n    <tr>\n      <th>1070675</th>\n      <td>814602</td>\n      <td>75170970000134-113624</td>\n      <td>1900-01-01</td>\n      <td>None</td>\n      <td>None</td>\n      <td>4</td>\n      <td>CPF NAO INFORMADO</td>\n      <td>120</td>\n      <td>M</td>\n      <td>99</td>\n      <td>IGNORADO</td>\n      <td>0</td>\n      <td></td>\n      <td>35</td>\n      <td>355030</td>\n      <td>2</td>\n      <td>CASO CONFIRMADO</td>\n      <td>1</td>\n      <td>LABORATORIAL</td>\n      <td>3</td>\n      <td>NAO SE APLICA</td>\n      <td>NaT</td>\n      <td>NaT</td>\n      <td>0</td>\n      <td>2</td>\n      <td>TESTE RAPIDO</td>\n      <td>11</td>\n      <td>COVID-19 IGG/IGM</td>\n      <td>12</td>\n      <td>REAGENTE</td>\n      <td>NaT</td>\n      <td>NaT</td>\n      <td>NaT</td>\n      <td>1</td>\n      <td>ABERTA</td>\n      <td>2</td>\n      <td>12</td>\n      <td>LAB HILAB</td>\n      <td>41</td>\n      <td>410690</td>\n      <td>2020-08-31</td>\n      <td>NaT</td>\n      <td>2020-08-31</td>\n      <td>SAO PAULO</td>\n      <td>SP</td>\n      <td>None</td>\n      <td>CURITIBA</td>\n      <td>PR</td>\n      <td>120SAOPAULO</td>\n      <td>120CURITIBA</td>\n      <td>NaN</td>\n      <td>01011900</td>\n      <td>31082020</td>\n    </tr>\n    <tr>\n      <th>355165</th>\n      <td>814604</td>\n      <td>75170970000134-113617</td>\n      <td>1900-01-01</td>\n      <td>None</td>\n      <td>None</td>\n      <td>4</td>\n      <td>CPF NAO INFORMADO</td>\n      <td>120</td>\n      <td>M</td>\n      <td>99</td>\n      <td>IGNORADO</td>\n      <td>0</td>\n      <td></td>\n      <td>35</td>\n      <td>355030</td>\n      <td>1</td>\n      <td>CASO SUSPEITO</td>\n      <td>3</td>\n      <td>EM INVESTIGACAO</td>\n      <td>3</td>\n      <td>NAO SE APLICA</td>\n      <td>NaT</td>\n      <td>NaT</td>\n      <td>0</td>\n      <td>2</td>\n      <td>TESTE RAPIDO</td>\n      <td>11</td>\n      <td>COVID-19 IGG/IGM</td>\n      <td>13</td>\n      <td>NAO REAGENTE</td>\n      <td>NaT</td>\n      <td>NaT</td>\n      <td>NaT</td>\n      <td>1</td>\n      <td>ABERTA</td>\n      <td>2</td>\n      <td>12</td>\n      <td>LAB HILAB</td>\n      <td>41</td>\n      <td>410690</td>\n      <td>2020-08-31</td>\n      <td>NaT</td>\n      <td>2020-08-31</td>\n      <td>SAO PAULO</td>\n      <td>SP</td>\n      <td>None</td>\n      <td>CURITIBA</td>\n      <td>PR</td>\n      <td>120SAOPAULO</td>\n      <td>120CURITIBA</td>\n      <td>NaN</td>\n      <td>01011900</td>\n      <td>31082020</td>\n    </tr>\n    <tr>\n      <th>355166</th>\n      <td>814605</td>\n      <td>75170970000134-113614</td>\n      <td>1900-01-01</td>\n      <td>None</td>\n      <td>None</td>\n      <td>4</td>\n      <td>CPF NAO INFORMADO</td>\n      <td>120</td>\n      <td>M</td>\n      <td>99</td>\n      <td>IGNORADO</td>\n      <td>0</td>\n      <td></td>\n      <td>35</td>\n      <td>355030</td>\n      <td>1</td>\n      <td>CASO SUSPEITO</td>\n      <td>3</td>\n      <td>EM INVESTIGACAO</td>\n      <td>3</td>\n      <td>NAO SE APLICA</td>\n      <td>NaT</td>\n      <td>NaT</td>\n      <td>0</td>\n      <td>2</td>\n      <td>TESTE RAPIDO</td>\n      <td>11</td>\n      <td>COVID-19 IGG/IGM</td>\n      <td>13</td>\n      <td>NAO REAGENTE</td>\n      <td>NaT</td>\n      <td>NaT</td>\n      <td>NaT</td>\n      <td>1</td>\n      <td>ABERTA</td>\n      <td>2</td>\n      <td>12</td>\n      <td>LAB HILAB</td>\n      <td>41</td>\n      <td>410690</td>\n      <td>2020-08-31</td>\n      <td>NaT</td>\n      <td>2020-08-31</td>\n      <td>SAO PAULO</td>\n      <td>SP</td>\n      <td>None</td>\n      <td>CURITIBA</td>\n      <td>PR</td>\n      <td>120SAOPAULO</td>\n      <td>120CURITIBA</td>\n      <td>NaN</td>\n      <td>01011900</td>\n      <td>31082020</td>\n    </tr>\n    <tr>\n      <th>355167</th>\n      <td>814608</td>\n      <td>75170970000134-113611</td>\n      <td>1900-01-01</td>\n      <td>None</td>\n      <td>None</td>\n      <td>4</td>\n      <td>CPF NAO INFORMADO</td>\n      <td>120</td>\n      <td>M</td>\n      <td>99</td>\n      <td>IGNORADO</td>\n      <td>0</td>\n      <td></td>\n      <td>35</td>\n      <td>355030</td>\n      <td>1</td>\n      <td>CASO SUSPEITO</td>\n      <td>3</td>\n      <td>EM INVESTIGACAO</td>\n      <td>3</td>\n      <td>NAO SE APLICA</td>\n      <td>NaT</td>\n      <td>NaT</td>\n      <td>0</td>\n      <td>2</td>\n      <td>TESTE RAPIDO</td>\n      <td>11</td>\n      <td>COVID-19 IGG/IGM</td>\n      <td>13</td>\n      <td>NAO REAGENTE</td>\n      <td>NaT</td>\n      <td>NaT</td>\n      <td>NaT</td>\n      <td>1</td>\n      <td>ABERTA</td>\n      <td>2</td>\n      <td>12</td>\n      <td>LAB HILAB</td>\n      <td>41</td>\n      <td>410690</td>\n      <td>2020-08-31</td>\n      <td>NaT</td>\n      <td>2020-08-31</td>\n      <td>SAO PAULO</td>\n      <td>SP</td>\n      <td>None</td>\n      <td>CURITIBA</td>\n      <td>PR</td>\n      <td>120SAOPAULO</td>\n      <td>120CURITIBA</td>\n      <td>NaN</td>\n      <td>01011900</td>\n      <td>31082020</td>\n    </tr>\n    <tr>\n      <th>355180</th>\n      <td>814629</td>\n      <td>75170970000134-113580</td>\n      <td>1900-01-01</td>\n      <td>None</td>\n      <td>None</td>\n      <td>4</td>\n      <td>CPF NAO INFORMADO</td>\n      <td>120</td>\n      <td>M</td>\n      <td>99</td>\n      <td>IGNORADO</td>\n      <td>0</td>\n      <td></td>\n      <td>35</td>\n      <td>355030</td>\n      <td>1</td>\n      <td>CASO SUSPEITO</td>\n      <td>3</td>\n      <td>EM INVESTIGACAO</td>\n      <td>3</td>\n      <td>NAO SE APLICA</td>\n      <td>NaT</td>\n      <td>NaT</td>\n      <td>0</td>\n      <td>2</td>\n      <td>TESTE RAPIDO</td>\n      <td>11</td>\n      <td>COVID-19 IGG/IGM</td>\n      <td>13</td>\n      <td>NAO REAGENTE</td>\n      <td>NaT</td>\n      <td>NaT</td>\n      <td>NaT</td>\n      <td>1</td>\n      <td>ABERTA</td>\n      <td>2</td>\n      <td>12</td>\n      <td>LAB HILAB</td>\n      <td>41</td>\n      <td>410690</td>\n      <td>2020-08-31</td>\n      <td>NaT</td>\n      <td>2020-08-31</td>\n      <td>SAO PAULO</td>\n      <td>SP</td>\n      <td>None</td>\n      <td>CURITIBA</td>\n      <td>PR</td>\n      <td>120SAOPAULO</td>\n      <td>120CURITIBA</td>\n      <td>NaN</td>\n      <td>01011900</td>\n      <td>31082020</td>\n    </tr>\n    <tr>\n      <th>355183</th>\n      <td>814637</td>\n      <td>75170970000134-113570</td>\n      <td>1900-01-01</td>\n      <td>None</td>\n      <td>None</td>\n      <td>4</td>\n      <td>CPF NAO INFORMADO</td>\n      <td>120</td>\n      <td>M</td>\n      <td>99</td>\n      <td>IGNORADO</td>\n      <td>0</td>\n      <td></td>\n      <td>35</td>\n      <td>355030</td>\n      <td>1</td>\n      <td>CASO SUSPEITO</td>\n      <td>3</td>\n      <td>EM INVESTIGACAO</td>\n      <td>3</td>\n      <td>NAO SE APLICA</td>\n      <td>NaT</td>\n      <td>NaT</td>\n      <td>0</td>\n      <td>2</td>\n      <td>TESTE RAPIDO</td>\n      <td>11</td>\n      <td>COVID-19 IGG/IGM</td>\n      <td>13</td>\n      <td>NAO REAGENTE</td>\n      <td>NaT</td>\n      <td>NaT</td>\n      <td>NaT</td>\n      <td>1</td>\n      <td>ABERTA</td>\n      <td>2</td>\n      <td>12</td>\n      <td>LAB HILAB</td>\n      <td>41</td>\n      <td>410690</td>\n      <td>2020-08-31</td>\n      <td>NaT</td>\n      <td>2020-08-31</td>\n      <td>SAO PAULO</td>\n      <td>SP</td>\n      <td>None</td>\n      <td>CURITIBA</td>\n      <td>PR</td>\n      <td>120SAOPAULO</td>\n      <td>120CURITIBA</td>\n      <td>NaN</td>\n      <td>01011900</td>\n      <td>31082020</td>\n    </tr>\n    <tr>\n      <th>355185</th>\n      <td>814639</td>\n      <td>75170970000134-113573</td>\n      <td>1900-01-01</td>\n      <td>None</td>\n      <td>None</td>\n      <td>4</td>\n      <td>CPF NAO INFORMADO</td>\n      <td>120</td>\n      <td>M</td>\n      <td>99</td>\n      <td>IGNORADO</td>\n      <td>0</td>\n      <td></td>\n      <td>35</td>\n      <td>355030</td>\n      <td>1</td>\n      <td>CASO SUSPEITO</td>\n      <td>3</td>\n      <td>EM INVESTIGACAO</td>\n      <td>3</td>\n      <td>NAO SE APLICA</td>\n      <td>NaT</td>\n      <td>NaT</td>\n      <td>0</td>\n      <td>2</td>\n      <td>TESTE RAPIDO</td>\n      <td>11</td>\n      <td>COVID-19 IGG/IGM</td>\n      <td>13</td>\n      <td>NAO REAGENTE</td>\n      <td>NaT</td>\n      <td>NaT</td>\n      <td>NaT</td>\n      <td>1</td>\n      <td>ABERTA</td>\n      <td>2</td>\n      <td>12</td>\n      <td>LAB HILAB</td>\n      <td>41</td>\n      <td>410690</td>\n      <td>2020-08-31</td>\n      <td>NaT</td>\n      <td>2020-08-31</td>\n      <td>SAO PAULO</td>\n      <td>SP</td>\n      <td>None</td>\n      <td>CURITIBA</td>\n      <td>PR</td>\n      <td>120SAOPAULO</td>\n      <td>120CURITIBA</td>\n      <td>NaN</td>\n      <td>01011900</td>\n      <td>31082020</td>\n    </tr>\n    <tr>\n      <th>355186</th>\n      <td>814640</td>\n      <td>75170970000134-113566</td>\n      <td>1900-01-01</td>\n      <td>None</td>\n      <td>None</td>\n      <td>4</td>\n      <td>CPF NAO INFORMADO</td>\n      <td>120</td>\n      <td>M</td>\n      <td>99</td>\n      <td>IGNORADO</td>\n      <td>0</td>\n      <td></td>\n      <td>35</td>\n      <td>355030</td>\n      <td>1</td>\n      <td>CASO SUSPEITO</td>\n      <td>3</td>\n      <td>EM INVESTIGACAO</td>\n      <td>3</td>\n      <td>NAO SE APLICA</td>\n      <td>NaT</td>\n      <td>NaT</td>\n      <td>0</td>\n      <td>2</td>\n      <td>TESTE RAPIDO</td>\n      <td>11</td>\n      <td>COVID-19 IGG/IGM</td>\n      <td>13</td>\n      <td>NAO REAGENTE</td>\n      <td>NaT</td>\n      <td>NaT</td>\n      <td>NaT</td>\n      <td>1</td>\n      <td>ABERTA</td>\n      <td>2</td>\n      <td>12</td>\n      <td>LAB HILAB</td>\n      <td>41</td>\n      <td>410690</td>\n      <td>2020-08-31</td>\n      <td>NaT</td>\n      <td>2020-08-31</td>\n      <td>SAO PAULO</td>\n      <td>SP</td>\n      <td>None</td>\n      <td>CURITIBA</td>\n      <td>PR</td>\n      <td>120SAOPAULO</td>\n      <td>120CURITIBA</td>\n      <td>NaN</td>\n      <td>01011900</td>\n      <td>31082020</td>\n    </tr>\n    <tr>\n      <th>355190</th>\n      <td>814645</td>\n      <td>75170970000134-113561</td>\n      <td>1900-01-01</td>\n      <td>None</td>\n      <td>None</td>\n      <td>4</td>\n      <td>CPF NAO INFORMADO</td>\n      <td>120</td>\n      <td>M</td>\n      <td>99</td>\n      <td>IGNORADO</td>\n      <td>0</td>\n      <td></td>\n      <td>35</td>\n      <td>355030</td>\n      <td>1</td>\n      <td>CASO SUSPEITO</td>\n      <td>3</td>\n      <td>EM INVESTIGACAO</td>\n      <td>3</td>\n      <td>NAO SE APLICA</td>\n      <td>NaT</td>\n      <td>NaT</td>\n      <td>0</td>\n      <td>2</td>\n      <td>TESTE RAPIDO</td>\n      <td>11</td>\n      <td>COVID-19 IGG/IGM</td>\n      <td>13</td>\n      <td>NAO REAGENTE</td>\n      <td>NaT</td>\n      <td>NaT</td>\n      <td>NaT</td>\n      <td>1</td>\n      <td>ABERTA</td>\n      <td>2</td>\n      <td>12</td>\n      <td>LAB HILAB</td>\n      <td>41</td>\n      <td>410690</td>\n      <td>2020-08-31</td>\n      <td>NaT</td>\n      <td>2020-08-31</td>\n      <td>SAO PAULO</td>\n      <td>SP</td>\n      <td>None</td>\n      <td>CURITIBA</td>\n      <td>PR</td>\n      <td>120SAOPAULO</td>\n      <td>120CURITIBA</td>\n      <td>NaN</td>\n      <td>01011900</td>\n      <td>31082020</td>\n    </tr>\n    <tr>\n      <th>355195</th>\n      <td>814656</td>\n      <td>75170970000134-113547</td>\n      <td>1900-01-01</td>\n      <td>None</td>\n      <td>None</td>\n      <td>4</td>\n      <td>CPF NAO INFORMADO</td>\n      <td>120</td>\n      <td>M</td>\n      <td>99</td>\n      <td>IGNORADO</td>\n      <td>0</td>\n      <td></td>\n      <td>35</td>\n      <td>355030</td>\n      <td>1</td>\n      <td>CASO SUSPEITO</td>\n      <td>3</td>\n      <td>EM INVESTIGACAO</td>\n      <td>3</td>\n      <td>NAO SE APLICA</td>\n      <td>NaT</td>\n      <td>NaT</td>\n      <td>0</td>\n      <td>2</td>\n      <td>TESTE RAPIDO</td>\n      <td>11</td>\n      <td>COVID-19 IGG/IGM</td>\n      <td>13</td>\n      <td>NAO REAGENTE</td>\n      <td>NaT</td>\n      <td>NaT</td>\n      <td>NaT</td>\n      <td>1</td>\n      <td>ABERTA</td>\n      <td>2</td>\n      <td>12</td>\n      <td>LAB HILAB</td>\n      <td>41</td>\n      <td>410690</td>\n      <td>2020-08-31</td>\n      <td>NaT</td>\n      <td>2020-08-31</td>\n      <td>SAO PAULO</td>\n      <td>SP</td>\n      <td>None</td>\n      <td>CURITIBA</td>\n      <td>PR</td>\n      <td>120SAOPAULO</td>\n      <td>120CURITIBA</td>\n      <td>NaN</td>\n      <td>01011900</td>\n      <td>31082020</td>\n    </tr>\n    <tr>\n      <th>355198</th>\n      <td>814659</td>\n      <td>75170970000134-113536</td>\n      <td>1900-01-01</td>\n      <td>None</td>\n      <td>None</td>\n      <td>4</td>\n      <td>CPF NAO INFORMADO</td>\n      <td>120</td>\n      <td>M</td>\n      <td>99</td>\n      <td>IGNORADO</td>\n      <td>0</td>\n      <td></td>\n      <td>35</td>\n      <td>355030</td>\n      <td>1</td>\n      <td>CASO SUSPEITO</td>\n      <td>3</td>\n      <td>EM INVESTIGACAO</td>\n      <td>3</td>\n      <td>NAO SE APLICA</td>\n      <td>NaT</td>\n      <td>NaT</td>\n      <td>0</td>\n      <td>2</td>\n      <td>TESTE RAPIDO</td>\n      <td>11</td>\n      <td>COVID-19 IGG/IGM</td>\n      <td>13</td>\n      <td>NAO REAGENTE</td>\n      <td>NaT</td>\n      <td>NaT</td>\n      <td>NaT</td>\n      <td>1</td>\n      <td>ABERTA</td>\n      <td>2</td>\n      <td>12</td>\n      <td>LAB HILAB</td>\n      <td>41</td>\n      <td>410690</td>\n      <td>2020-08-31</td>\n      <td>NaT</td>\n      <td>2020-08-31</td>\n      <td>SAO PAULO</td>\n      <td>SP</td>\n      <td>None</td>\n      <td>CURITIBA</td>\n      <td>PR</td>\n      <td>120SAOPAULO</td>\n      <td>120CURITIBA</td>\n      <td>NaN</td>\n      <td>01011900</td>\n      <td>31082020</td>\n    </tr>\n    <tr>\n      <th>355206</th>\n      <td>814670</td>\n      <td>75170970000134-113528</td>\n      <td>1900-01-01</td>\n      <td>None</td>\n      <td>None</td>\n      <td>4</td>\n      <td>CPF NAO INFORMADO</td>\n      <td>120</td>\n      <td>M</td>\n      <td>99</td>\n      <td>IGNORADO</td>\n      <td>0</td>\n      <td></td>\n      <td>35</td>\n      <td>355030</td>\n      <td>1</td>\n      <td>CASO SUSPEITO</td>\n      <td>3</td>\n      <td>EM INVESTIGACAO</td>\n      <td>3</td>\n      <td>NAO SE APLICA</td>\n      <td>NaT</td>\n      <td>NaT</td>\n      <td>0</td>\n      <td>2</td>\n      <td>TESTE RAPIDO</td>\n      <td>11</td>\n      <td>COVID-19 IGG/IGM</td>\n      <td>13</td>\n      <td>NAO REAGENTE</td>\n      <td>NaT</td>\n      <td>NaT</td>\n      <td>NaT</td>\n      <td>1</td>\n      <td>ABERTA</td>\n      <td>2</td>\n      <td>12</td>\n      <td>LAB HILAB</td>\n      <td>41</td>\n      <td>410690</td>\n      <td>2020-08-31</td>\n      <td>NaT</td>\n      <td>2020-08-31</td>\n      <td>SAO PAULO</td>\n      <td>SP</td>\n      <td>None</td>\n      <td>CURITIBA</td>\n      <td>PR</td>\n      <td>120SAOPAULO</td>\n      <td>120CURITIBA</td>\n      <td>NaN</td>\n      <td>01011900</td>\n      <td>31082020</td>\n    </tr>\n    <tr>\n      <th>355207</th>\n      <td>814671</td>\n      <td>75170970000134-113521</td>\n      <td>1900-01-01</td>\n      <td>None</td>\n      <td>None</td>\n      <td>4</td>\n      <td>CPF NAO INFORMADO</td>\n      <td>120</td>\n      <td>M</td>\n      <td>99</td>\n      <td>IGNORADO</td>\n      <td>0</td>\n      <td></td>\n      <td>35</td>\n      <td>355030</td>\n      <td>1</td>\n      <td>CASO SUSPEITO</td>\n      <td>3</td>\n      <td>EM INVESTIGACAO</td>\n      <td>3</td>\n      <td>NAO SE APLICA</td>\n      <td>NaT</td>\n      <td>NaT</td>\n      <td>0</td>\n      <td>2</td>\n      <td>TESTE RAPIDO</td>\n      <td>11</td>\n      <td>COVID-19 IGG/IGM</td>\n      <td>13</td>\n      <td>NAO REAGENTE</td>\n      <td>NaT</td>\n      <td>NaT</td>\n      <td>NaT</td>\n      <td>1</td>\n      <td>ABERTA</td>\n      <td>2</td>\n      <td>12</td>\n      <td>LAB HILAB</td>\n      <td>41</td>\n      <td>410690</td>\n      <td>2020-08-31</td>\n      <td>NaT</td>\n      <td>2020-08-31</td>\n      <td>SAO PAULO</td>\n      <td>SP</td>\n      <td>None</td>\n      <td>CURITIBA</td>\n      <td>PR</td>\n      <td>120SAOPAULO</td>\n      <td>120CURITIBA</td>\n      <td>NaN</td>\n      <td>01011900</td>\n      <td>31082020</td>\n    </tr>\n    <tr>\n      <th>355213</th>\n      <td>814682</td>\n      <td>75170970000134-113519</td>\n      <td>1900-01-01</td>\n      <td>None</td>\n      <td>None</td>\n      <td>4</td>\n      <td>CPF NAO INFORMADO</td>\n      <td>120</td>\n      <td>M</td>\n      <td>99</td>\n      <td>IGNORADO</td>\n      <td>0</td>\n      <td></td>\n      <td>35</td>\n      <td>355030</td>\n      <td>1</td>\n      <td>CASO SUSPEITO</td>\n      <td>3</td>\n      <td>EM INVESTIGACAO</td>\n      <td>3</td>\n      <td>NAO SE APLICA</td>\n      <td>NaT</td>\n      <td>NaT</td>\n      <td>0</td>\n      <td>2</td>\n      <td>TESTE RAPIDO</td>\n      <td>11</td>\n      <td>COVID-19 IGG/IGM</td>\n      <td>13</td>\n      <td>NAO REAGENTE</td>\n      <td>NaT</td>\n      <td>NaT</td>\n      <td>NaT</td>\n      <td>1</td>\n      <td>ABERTA</td>\n      <td>2</td>\n      <td>12</td>\n      <td>LAB HILAB</td>\n      <td>41</td>\n      <td>410690</td>\n      <td>2020-08-31</td>\n      <td>NaT</td>\n      <td>2020-08-31</td>\n      <td>SAO PAULO</td>\n      <td>SP</td>\n      <td>None</td>\n      <td>CURITIBA</td>\n      <td>PR</td>\n      <td>120SAOPAULO</td>\n      <td>120CURITIBA</td>\n      <td>NaN</td>\n      <td>01011900</td>\n      <td>31082020</td>\n    </tr>\n    <tr>\n      <th>355219</th>\n      <td>814693</td>\n      <td>75170970000134-113511</td>\n      <td>1900-01-01</td>\n      <td>None</td>\n      <td>None</td>\n      <td>4</td>\n      <td>CPF NAO INFORMADO</td>\n      <td>120</td>\n      <td>M</td>\n      <td>99</td>\n      <td>IGNORADO</td>\n      <td>0</td>\n      <td></td>\n      <td>35</td>\n      <td>355030</td>\n      <td>1</td>\n      <td>CASO SUSPEITO</td>\n      <td>3</td>\n      <td>EM INVESTIGACAO</td>\n      <td>3</td>\n      <td>NAO SE APLICA</td>\n      <td>NaT</td>\n      <td>NaT</td>\n      <td>0</td>\n      <td>2</td>\n      <td>TESTE RAPIDO</td>\n      <td>11</td>\n      <td>COVID-19 IGG/IGM</td>\n      <td>13</td>\n      <td>NAO REAGENTE</td>\n      <td>NaT</td>\n      <td>NaT</td>\n      <td>NaT</td>\n      <td>1</td>\n      <td>ABERTA</td>\n      <td>2</td>\n      <td>12</td>\n      <td>LAB HILAB</td>\n      <td>41</td>\n      <td>410690</td>\n      <td>2020-08-31</td>\n      <td>NaT</td>\n      <td>2020-08-31</td>\n      <td>SAO PAULO</td>\n      <td>SP</td>\n      <td>None</td>\n      <td>CURITIBA</td>\n      <td>PR</td>\n      <td>120SAOPAULO</td>\n      <td>120CURITIBA</td>\n      <td>NaN</td>\n      <td>01011900</td>\n      <td>31082020</td>\n    </tr>\n    <tr>\n      <th>355224</th>\n      <td>814700</td>\n      <td>75170970000134-113502</td>\n      <td>1900-01-01</td>\n      <td>None</td>\n      <td>None</td>\n      <td>4</td>\n      <td>CPF NAO INFORMADO</td>\n      <td>120</td>\n      <td>M</td>\n      <td>99</td>\n      <td>IGNORADO</td>\n      <td>0</td>\n      <td></td>\n      <td>35</td>\n      <td>355030</td>\n      <td>1</td>\n      <td>CASO SUSPEITO</td>\n      <td>3</td>\n      <td>EM INVESTIGACAO</td>\n      <td>3</td>\n      <td>NAO SE APLICA</td>\n      <td>NaT</td>\n      <td>NaT</td>\n      <td>0</td>\n      <td>2</td>\n      <td>TESTE RAPIDO</td>\n      <td>11</td>\n      <td>COVID-19 IGG/IGM</td>\n      <td>13</td>\n      <td>NAO REAGENTE</td>\n      <td>NaT</td>\n      <td>NaT</td>\n      <td>NaT</td>\n      <td>1</td>\n      <td>ABERTA</td>\n      <td>2</td>\n      <td>12</td>\n      <td>LAB HILAB</td>\n      <td>41</td>\n      <td>410690</td>\n      <td>2020-08-31</td>\n      <td>NaT</td>\n      <td>2020-08-31</td>\n      <td>SAO PAULO</td>\n      <td>SP</td>\n      <td>None</td>\n      <td>CURITIBA</td>\n      <td>PR</td>\n      <td>120SAOPAULO</td>\n      <td>120CURITIBA</td>\n      <td>NaN</td>\n      <td>01011900</td>\n      <td>31082020</td>\n    </tr>\n    <tr>\n      <th>355225</th>\n      <td>814702</td>\n      <td>75170970000134-113501</td>\n      <td>1900-01-01</td>\n      <td>None</td>\n      <td>None</td>\n      <td>4</td>\n      <td>CPF NAO INFORMADO</td>\n      <td>120</td>\n      <td>M</td>\n      <td>99</td>\n      <td>IGNORADO</td>\n      <td>0</td>\n      <td></td>\n      <td>35</td>\n      <td>355030</td>\n      <td>1</td>\n      <td>CASO SUSPEITO</td>\n      <td>3</td>\n      <td>EM INVESTIGACAO</td>\n      <td>3</td>\n      <td>NAO SE APLICA</td>\n      <td>NaT</td>\n      <td>NaT</td>\n      <td>0</td>\n      <td>2</td>\n      <td>TESTE RAPIDO</td>\n      <td>11</td>\n      <td>COVID-19 IGG/IGM</td>\n      <td>13</td>\n      <td>NAO REAGENTE</td>\n      <td>NaT</td>\n      <td>NaT</td>\n      <td>NaT</td>\n      <td>1</td>\n      <td>ABERTA</td>\n      <td>2</td>\n      <td>12</td>\n      <td>LAB HILAB</td>\n      <td>41</td>\n      <td>410690</td>\n      <td>2020-08-31</td>\n      <td>NaT</td>\n      <td>2020-08-31</td>\n      <td>SAO PAULO</td>\n      <td>SP</td>\n      <td>None</td>\n      <td>CURITIBA</td>\n      <td>PR</td>\n      <td>120SAOPAULO</td>\n      <td>120CURITIBA</td>\n      <td>NaN</td>\n      <td>01011900</td>\n      <td>31082020</td>\n    </tr>\n    <tr>\n      <th>355226</th>\n      <td>814704</td>\n      <td>75170970000134-113499</td>\n      <td>1900-01-01</td>\n      <td>None</td>\n      <td>None</td>\n      <td>4</td>\n      <td>CPF NAO INFORMADO</td>\n      <td>120</td>\n      <td>M</td>\n      <td>99</td>\n      <td>IGNORADO</td>\n      <td>0</td>\n      <td></td>\n      <td>35</td>\n      <td>355030</td>\n      <td>1</td>\n      <td>CASO SUSPEITO</td>\n      <td>3</td>\n      <td>EM INVESTIGACAO</td>\n      <td>3</td>\n      <td>NAO SE APLICA</td>\n      <td>NaT</td>\n      <td>NaT</td>\n      <td>0</td>\n      <td>2</td>\n      <td>TESTE RAPIDO</td>\n      <td>11</td>\n      <td>COVID-19 IGG/IGM</td>\n      <td>13</td>\n      <td>NAO REAGENTE</td>\n      <td>NaT</td>\n      <td>NaT</td>\n      <td>NaT</td>\n      <td>1</td>\n      <td>ABERTA</td>\n      <td>2</td>\n      <td>12</td>\n      <td>LAB HILAB</td>\n      <td>41</td>\n      <td>410690</td>\n      <td>2020-08-31</td>\n      <td>NaT</td>\n      <td>2020-08-31</td>\n      <td>SAO PAULO</td>\n      <td>SP</td>\n      <td>None</td>\n      <td>CURITIBA</td>\n      <td>PR</td>\n      <td>120SAOPAULO</td>\n      <td>120CURITIBA</td>\n      <td>NaN</td>\n      <td>01011900</td>\n      <td>31082020</td>\n    </tr>\n    <tr>\n      <th>355246</th>\n      <td>814741</td>\n      <td>75170970000134-113473</td>\n      <td>1900-01-01</td>\n      <td>None</td>\n      <td>None</td>\n      <td>4</td>\n      <td>CPF NAO INFORMADO</td>\n      <td>120</td>\n      <td>M</td>\n      <td>99</td>\n      <td>IGNORADO</td>\n      <td>0</td>\n      <td></td>\n      <td>35</td>\n      <td>355030</td>\n      <td>1</td>\n      <td>CASO SUSPEITO</td>\n      <td>3</td>\n      <td>EM INVESTIGACAO</td>\n      <td>3</td>\n      <td>NAO SE APLICA</td>\n      <td>NaT</td>\n      <td>NaT</td>\n      <td>0</td>\n      <td>2</td>\n      <td>TESTE RAPIDO</td>\n      <td>11</td>\n      <td>COVID-19 IGG/IGM</td>\n      <td>13</td>\n      <td>NAO REAGENTE</td>\n      <td>NaT</td>\n      <td>NaT</td>\n      <td>NaT</td>\n      <td>1</td>\n      <td>ABERTA</td>\n      <td>2</td>\n      <td>12</td>\n      <td>LAB HILAB</td>\n      <td>41</td>\n      <td>410690</td>\n      <td>2020-08-31</td>\n      <td>NaT</td>\n      <td>2020-08-31</td>\n      <td>SAO PAULO</td>\n      <td>SP</td>\n      <td>None</td>\n      <td>CURITIBA</td>\n      <td>PR</td>\n      <td>120SAOPAULO</td>\n      <td>120CURITIBA</td>\n      <td>NaN</td>\n      <td>01011900</td>\n      <td>31082020</td>\n    </tr>\n    <tr>\n      <th>355248</th>\n      <td>814745</td>\n      <td>75170970000134-113471</td>\n      <td>1900-01-01</td>\n      <td>None</td>\n      <td>None</td>\n      <td>4</td>\n      <td>CPF NAO INFORMADO</td>\n      <td>120</td>\n      <td>M</td>\n      <td>99</td>\n      <td>IGNORADO</td>\n      <td>0</td>\n      <td></td>\n      <td>35</td>\n      <td>355030</td>\n      <td>1</td>\n      <td>CASO SUSPEITO</td>\n      <td>3</td>\n      <td>EM INVESTIGACAO</td>\n      <td>3</td>\n      <td>NAO SE APLICA</td>\n      <td>NaT</td>\n      <td>NaT</td>\n      <td>0</td>\n      <td>2</td>\n      <td>TESTE RAPIDO</td>\n      <td>11</td>\n      <td>COVID-19 IGG/IGM</td>\n      <td>13</td>\n      <td>NAO REAGENTE</td>\n      <td>NaT</td>\n      <td>NaT</td>\n      <td>NaT</td>\n      <td>1</td>\n      <td>ABERTA</td>\n      <td>2</td>\n      <td>12</td>\n      <td>LAB HILAB</td>\n      <td>41</td>\n      <td>410690</td>\n      <td>2020-08-31</td>\n      <td>NaT</td>\n      <td>2020-08-31</td>\n      <td>SAO PAULO</td>\n      <td>SP</td>\n      <td>None</td>\n      <td>CURITIBA</td>\n      <td>PR</td>\n      <td>120SAOPAULO</td>\n      <td>120CURITIBA</td>\n      <td>NaN</td>\n      <td>01011900</td>\n      <td>31082020</td>\n    </tr>\n    <tr>\n      <th>355251</th>\n      <td>814749</td>\n      <td>75170970000134-113477</td>\n      <td>1900-01-01</td>\n      <td>None</td>\n      <td>None</td>\n      <td>4</td>\n      <td>CPF NAO INFORMADO</td>\n      <td>120</td>\n      <td>M</td>\n      <td>99</td>\n      <td>IGNORADO</td>\n      <td>0</td>\n      <td></td>\n      <td>35</td>\n      <td>355030</td>\n      <td>1</td>\n      <td>CASO SUSPEITO</td>\n      <td>3</td>\n      <td>EM INVESTIGACAO</td>\n      <td>3</td>\n      <td>NAO SE APLICA</td>\n      <td>NaT</td>\n      <td>NaT</td>\n      <td>0</td>\n      <td>2</td>\n      <td>TESTE RAPIDO</td>\n      <td>11</td>\n      <td>COVID-19 IGG/IGM</td>\n      <td>13</td>\n      <td>NAO REAGENTE</td>\n      <td>NaT</td>\n      <td>NaT</td>\n      <td>NaT</td>\n      <td>1</td>\n      <td>ABERTA</td>\n      <td>2</td>\n      <td>12</td>\n      <td>LAB HILAB</td>\n      <td>41</td>\n      <td>410690</td>\n      <td>2020-08-31</td>\n      <td>NaT</td>\n      <td>2020-08-31</td>\n      <td>SAO PAULO</td>\n      <td>SP</td>\n      <td>None</td>\n      <td>CURITIBA</td>\n      <td>PR</td>\n      <td>120SAOPAULO</td>\n      <td>120CURITIBA</td>\n      <td>NaN</td>\n      <td>01011900</td>\n      <td>31082020</td>\n    </tr>\n    <tr>\n      <th>1070694</th>\n      <td>814751</td>\n      <td>75170970000134-113470</td>\n      <td>1900-01-01</td>\n      <td>None</td>\n      <td>None</td>\n      <td>4</td>\n      <td>CPF NAO INFORMADO</td>\n      <td>120</td>\n      <td>M</td>\n      <td>99</td>\n      <td>IGNORADO</td>\n      <td>0</td>\n      <td></td>\n      <td>35</td>\n      <td>355030</td>\n      <td>2</td>\n      <td>CASO CONFIRMADO</td>\n      <td>1</td>\n      <td>LABORATORIAL</td>\n      <td>3</td>\n      <td>NAO SE APLICA</td>\n      <td>NaT</td>\n      <td>NaT</td>\n      <td>0</td>\n      <td>2</td>\n      <td>TESTE RAPIDO</td>\n      <td>11</td>\n      <td>COVID-19 IGG/IGM</td>\n      <td>12</td>\n      <td>REAGENTE</td>\n      <td>NaT</td>\n      <td>NaT</td>\n      <td>NaT</td>\n      <td>1</td>\n      <td>ABERTA</td>\n      <td>2</td>\n      <td>12</td>\n      <td>LAB HILAB</td>\n      <td>41</td>\n      <td>410690</td>\n      <td>2020-08-31</td>\n      <td>NaT</td>\n      <td>2020-08-31</td>\n      <td>SAO PAULO</td>\n      <td>SP</td>\n      <td>None</td>\n      <td>CURITIBA</td>\n      <td>PR</td>\n      <td>120SAOPAULO</td>\n      <td>120CURITIBA</td>\n      <td>NaN</td>\n      <td>01011900</td>\n      <td>31082020</td>\n    </tr>\n    <tr>\n      <th>355262</th>\n      <td>814770</td>\n      <td>75170970000134-113462</td>\n      <td>1900-01-01</td>\n      <td>None</td>\n      <td>None</td>\n      <td>4</td>\n      <td>CPF NAO INFORMADO</td>\n      <td>120</td>\n      <td>M</td>\n      <td>99</td>\n      <td>IGNORADO</td>\n      <td>0</td>\n      <td></td>\n      <td>35</td>\n      <td>355030</td>\n      <td>1</td>\n      <td>CASO SUSPEITO</td>\n      <td>3</td>\n      <td>EM INVESTIGACAO</td>\n      <td>3</td>\n      <td>NAO SE APLICA</td>\n      <td>NaT</td>\n      <td>NaT</td>\n      <td>0</td>\n      <td>2</td>\n      <td>TESTE RAPIDO</td>\n      <td>11</td>\n      <td>COVID-19 IGG/IGM</td>\n      <td>13</td>\n      <td>NAO REAGENTE</td>\n      <td>NaT</td>\n      <td>NaT</td>\n      <td>NaT</td>\n      <td>1</td>\n      <td>ABERTA</td>\n      <td>2</td>\n      <td>12</td>\n      <td>LAB HILAB</td>\n      <td>41</td>\n      <td>410690</td>\n      <td>2020-08-31</td>\n      <td>NaT</td>\n      <td>2020-08-31</td>\n      <td>SAO PAULO</td>\n      <td>SP</td>\n      <td>None</td>\n      <td>CURITIBA</td>\n      <td>PR</td>\n      <td>120SAOPAULO</td>\n      <td>120CURITIBA</td>\n      <td>NaN</td>\n      <td>01011900</td>\n      <td>31082020</td>\n    </tr>\n    <tr>\n      <th>355275</th>\n      <td>814788</td>\n      <td>75170970000134-113455</td>\n      <td>1900-01-01</td>\n      <td>None</td>\n      <td>None</td>\n      <td>4</td>\n      <td>CPF NAO INFORMADO</td>\n      <td>120</td>\n      <td>M</td>\n      <td>99</td>\n      <td>IGNORADO</td>\n      <td>0</td>\n      <td></td>\n      <td>35</td>\n      <td>355030</td>\n      <td>1</td>\n      <td>CASO SUSPEITO</td>\n      <td>3</td>\n      <td>EM INVESTIGACAO</td>\n      <td>3</td>\n      <td>NAO SE APLICA</td>\n      <td>NaT</td>\n      <td>NaT</td>\n      <td>0</td>\n      <td>2</td>\n      <td>TESTE RAPIDO</td>\n      <td>11</td>\n      <td>COVID-19 IGG/IGM</td>\n      <td>13</td>\n      <td>NAO REAGENTE</td>\n      <td>NaT</td>\n      <td>NaT</td>\n      <td>NaT</td>\n      <td>1</td>\n      <td>ABERTA</td>\n      <td>2</td>\n      <td>12</td>\n      <td>LAB HILAB</td>\n      <td>41</td>\n      <td>410690</td>\n      <td>2020-08-31</td>\n      <td>NaT</td>\n      <td>2020-08-31</td>\n      <td>SAO PAULO</td>\n      <td>SP</td>\n      <td>None</td>\n      <td>CURITIBA</td>\n      <td>PR</td>\n      <td>120SAOPAULO</td>\n      <td>120CURITIBA</td>\n      <td>NaN</td>\n      <td>01011900</td>\n      <td>31082020</td>\n    </tr>\n    <tr>\n      <th>355277</th>\n      <td>814792</td>\n      <td>75170970000134-113447</td>\n      <td>1900-01-01</td>\n      <td>None</td>\n      <td>None</td>\n      <td>4</td>\n      <td>CPF NAO INFORMADO</td>\n      <td>120</td>\n      <td>M</td>\n      <td>99</td>\n      <td>IGNORADO</td>\n      <td>0</td>\n      <td></td>\n      <td>35</td>\n      <td>355030</td>\n      <td>1</td>\n      <td>CASO SUSPEITO</td>\n      <td>3</td>\n      <td>EM INVESTIGACAO</td>\n      <td>3</td>\n      <td>NAO SE APLICA</td>\n      <td>NaT</td>\n      <td>NaT</td>\n      <td>0</td>\n      <td>2</td>\n      <td>TESTE RAPIDO</td>\n      <td>11</td>\n      <td>COVID-19 IGG/IGM</td>\n      <td>13</td>\n      <td>NAO REAGENTE</td>\n      <td>NaT</td>\n      <td>NaT</td>\n      <td>NaT</td>\n      <td>1</td>\n      <td>ABERTA</td>\n      <td>2</td>\n      <td>12</td>\n      <td>LAB HILAB</td>\n      <td>41</td>\n      <td>410690</td>\n      <td>2020-08-31</td>\n      <td>NaT</td>\n      <td>2020-08-31</td>\n      <td>SAO PAULO</td>\n      <td>SP</td>\n      <td>None</td>\n      <td>CURITIBA</td>\n      <td>PR</td>\n      <td>120SAOPAULO</td>\n      <td>120CURITIBA</td>\n      <td>NaN</td>\n      <td>01011900</td>\n      <td>31082020</td>\n    </tr>\n    <tr>\n      <th>355283</th>\n      <td>814801</td>\n      <td>75170970000134-113448</td>\n      <td>1900-01-01</td>\n      <td>None</td>\n      <td>None</td>\n      <td>4</td>\n      <td>CPF NAO INFORMADO</td>\n      <td>120</td>\n      <td>M</td>\n      <td>99</td>\n      <td>IGNORADO</td>\n      <td>0</td>\n      <td></td>\n      <td>35</td>\n      <td>355030</td>\n      <td>1</td>\n      <td>CASO SUSPEITO</td>\n      <td>3</td>\n      <td>EM INVESTIGACAO</td>\n      <td>3</td>\n      <td>NAO SE APLICA</td>\n      <td>NaT</td>\n      <td>NaT</td>\n      <td>0</td>\n      <td>2</td>\n      <td>TESTE RAPIDO</td>\n      <td>11</td>\n      <td>COVID-19 IGG/IGM</td>\n      <td>13</td>\n      <td>NAO REAGENTE</td>\n      <td>NaT</td>\n      <td>NaT</td>\n      <td>NaT</td>\n      <td>1</td>\n      <td>ABERTA</td>\n      <td>2</td>\n      <td>12</td>\n      <td>LAB HILAB</td>\n      <td>41</td>\n      <td>410690</td>\n      <td>2020-08-31</td>\n      <td>NaT</td>\n      <td>2020-08-31</td>\n      <td>SAO PAULO</td>\n      <td>SP</td>\n      <td>None</td>\n      <td>CURITIBA</td>\n      <td>PR</td>\n      <td>120SAOPAULO</td>\n      <td>120CURITIBA</td>\n      <td>NaN</td>\n      <td>01011900</td>\n      <td>31082020</td>\n    </tr>\n    <tr>\n      <th>355296</th>\n      <td>814821</td>\n      <td>75170970000134-113416</td>\n      <td>1900-01-01</td>\n      <td>None</td>\n      <td>None</td>\n      <td>4</td>\n      <td>CPF NAO INFORMADO</td>\n      <td>120</td>\n      <td>M</td>\n      <td>99</td>\n      <td>IGNORADO</td>\n      <td>0</td>\n      <td></td>\n      <td>35</td>\n      <td>355030</td>\n      <td>1</td>\n      <td>CASO SUSPEITO</td>\n      <td>3</td>\n      <td>EM INVESTIGACAO</td>\n      <td>3</td>\n      <td>NAO SE APLICA</td>\n      <td>NaT</td>\n      <td>NaT</td>\n      <td>0</td>\n      <td>2</td>\n      <td>TESTE RAPIDO</td>\n      <td>11</td>\n      <td>COVID-19 IGG/IGM</td>\n      <td>13</td>\n      <td>NAO REAGENTE</td>\n      <td>NaT</td>\n      <td>NaT</td>\n      <td>NaT</td>\n      <td>1</td>\n      <td>ABERTA</td>\n      <td>2</td>\n      <td>12</td>\n      <td>LAB HILAB</td>\n      <td>41</td>\n      <td>410690</td>\n      <td>2020-08-31</td>\n      <td>NaT</td>\n      <td>2020-08-31</td>\n      <td>SAO PAULO</td>\n      <td>SP</td>\n      <td>None</td>\n      <td>CURITIBA</td>\n      <td>PR</td>\n      <td>120SAOPAULO</td>\n      <td>120CURITIBA</td>\n      <td>NaN</td>\n      <td>01011900</td>\n      <td>31082020</td>\n    </tr>\n    <tr>\n      <th>355297</th>\n      <td>814823</td>\n      <td>75170970000134-113417</td>\n      <td>1900-01-01</td>\n      <td>None</td>\n      <td>None</td>\n      <td>4</td>\n      <td>CPF NAO INFORMADO</td>\n      <td>120</td>\n      <td>M</td>\n      <td>99</td>\n      <td>IGNORADO</td>\n      <td>0</td>\n      <td></td>\n      <td>35</td>\n      <td>355030</td>\n      <td>1</td>\n      <td>CASO SUSPEITO</td>\n      <td>3</td>\n      <td>EM INVESTIGACAO</td>\n      <td>3</td>\n      <td>NAO SE APLICA</td>\n      <td>NaT</td>\n      <td>NaT</td>\n      <td>0</td>\n      <td>2</td>\n      <td>TESTE RAPIDO</td>\n      <td>11</td>\n      <td>COVID-19 IGG/IGM</td>\n      <td>13</td>\n      <td>NAO REAGENTE</td>\n      <td>NaT</td>\n      <td>NaT</td>\n      <td>NaT</td>\n      <td>1</td>\n      <td>ABERTA</td>\n      <td>2</td>\n      <td>12</td>\n      <td>LAB HILAB</td>\n      <td>41</td>\n      <td>410690</td>\n      <td>2020-08-31</td>\n      <td>NaT</td>\n      <td>2020-08-31</td>\n      <td>SAO PAULO</td>\n      <td>SP</td>\n      <td>None</td>\n      <td>CURITIBA</td>\n      <td>PR</td>\n      <td>120SAOPAULO</td>\n      <td>120CURITIBA</td>\n      <td>NaN</td>\n      <td>01011900</td>\n      <td>31082020</td>\n    </tr>\n    <tr>\n      <th>355300</th>\n      <td>814827</td>\n      <td>75170970000134-113411</td>\n      <td>1900-01-01</td>\n      <td>None</td>\n      <td>None</td>\n      <td>4</td>\n      <td>CPF NAO INFORMADO</td>\n      <td>120</td>\n      <td>M</td>\n      <td>99</td>\n      <td>IGNORADO</td>\n      <td>0</td>\n      <td></td>\n      <td>35</td>\n      <td>355030</td>\n      <td>1</td>\n      <td>CASO SUSPEITO</td>\n      <td>3</td>\n      <td>EM INVESTIGACAO</td>\n      <td>3</td>\n      <td>NAO SE APLICA</td>\n      <td>NaT</td>\n      <td>NaT</td>\n      <td>0</td>\n      <td>2</td>\n      <td>TESTE RAPIDO</td>\n      <td>11</td>\n      <td>COVID-19 IGG/IGM</td>\n      <td>13</td>\n      <td>NAO REAGENTE</td>\n      <td>NaT</td>\n      <td>NaT</td>\n      <td>NaT</td>\n      <td>1</td>\n      <td>ABERTA</td>\n      <td>2</td>\n      <td>12</td>\n      <td>LAB HILAB</td>\n      <td>41</td>\n      <td>410690</td>\n      <td>2020-08-31</td>\n      <td>NaT</td>\n      <td>2020-08-31</td>\n      <td>SAO PAULO</td>\n      <td>SP</td>\n      <td>None</td>\n      <td>CURITIBA</td>\n      <td>PR</td>\n      <td>120SAOPAULO</td>\n      <td>120CURITIBA</td>\n      <td>NaN</td>\n      <td>01011900</td>\n      <td>31082020</td>\n    </tr>\n    <tr>\n      <th>355309</th>\n      <td>814840</td>\n      <td>75170970000134-113407</td>\n      <td>1900-01-01</td>\n      <td>None</td>\n      <td>None</td>\n      <td>4</td>\n      <td>CPF NAO INFORMADO</td>\n      <td>120</td>\n      <td>M</td>\n      <td>99</td>\n      <td>IGNORADO</td>\n      <td>0</td>\n      <td></td>\n      <td>35</td>\n      <td>355030</td>\n      <td>1</td>\n      <td>CASO SUSPEITO</td>\n      <td>3</td>\n      <td>EM INVESTIGACAO</td>\n      <td>3</td>\n      <td>NAO SE APLICA</td>\n      <td>NaT</td>\n      <td>NaT</td>\n      <td>0</td>\n      <td>2</td>\n      <td>TESTE RAPIDO</td>\n      <td>11</td>\n      <td>COVID-19 IGG/IGM</td>\n      <td>13</td>\n      <td>NAO REAGENTE</td>\n      <td>NaT</td>\n      <td>NaT</td>\n      <td>NaT</td>\n      <td>1</td>\n      <td>ABERTA</td>\n      <td>2</td>\n      <td>12</td>\n      <td>LAB HILAB</td>\n      <td>41</td>\n      <td>410690</td>\n      <td>2020-08-31</td>\n      <td>NaT</td>\n      <td>2020-08-31</td>\n      <td>SAO PAULO</td>\n      <td>SP</td>\n      <td>None</td>\n      <td>CURITIBA</td>\n      <td>PR</td>\n      <td>120SAOPAULO</td>\n      <td>120CURITIBA</td>\n      <td>NaN</td>\n      <td>01011900</td>\n      <td>31082020</td>\n    </tr>\n  </tbody>\n</table>\n</div>"
     },
     "metadata": {},
     "execution_count": 24
    }
   ],
   "source": [
    "casos_confirmados_notifica.loc[casos_confirmados_notifica['hash_diag']=='31082020']"
   ]
  },
  {
   "cell_type": "code",
   "execution_count": 18,
   "metadata": {},
   "outputs": [],
   "source": [
    "notifica_nao_casos_confirmados = casosn.loc[set(casosn.index.tolist()) - set(idx_casos_notifica)]"
   ]
  },
  {
   "cell_type": "code",
   "execution_count": 19,
   "metadata": {},
   "outputs": [
    {
     "output_type": "execute_result",
     "data": {
      "text/plain": [
       "        id\n",
       "jan    572\n",
       "fev    757\n",
       "mar     41\n",
       "abril  106\n",
       "mai    142\n",
       "jun    454\n",
       "jul    530\n",
       "ago    377\n",
       "set    202\n",
       "out    149\n",
       "nov    240\n",
       "dez    405"
      ],
      "text/html": "<div>\n<style scoped>\n    .dataframe tbody tr th:only-of-type {\n        vertical-align: middle;\n    }\n\n    .dataframe tbody tr th {\n        vertical-align: top;\n    }\n\n    .dataframe thead th {\n        text-align: right;\n    }\n</style>\n<table border=\"1\" class=\"dataframe\">\n  <thead>\n    <tr style=\"text-align: right;\">\n      <th></th>\n      <th>id</th>\n    </tr>\n  </thead>\n  <tbody>\n    <tr>\n      <th>jan</th>\n      <td>572</td>\n    </tr>\n    <tr>\n      <th>fev</th>\n      <td>757</td>\n    </tr>\n    <tr>\n      <th>mar</th>\n      <td>41</td>\n    </tr>\n    <tr>\n      <th>abril</th>\n      <td>106</td>\n    </tr>\n    <tr>\n      <th>mai</th>\n      <td>142</td>\n    </tr>\n    <tr>\n      <th>jun</th>\n      <td>454</td>\n    </tr>\n    <tr>\n      <th>jul</th>\n      <td>530</td>\n    </tr>\n    <tr>\n      <th>ago</th>\n      <td>377</td>\n    </tr>\n    <tr>\n      <th>set</th>\n      <td>202</td>\n    </tr>\n    <tr>\n      <th>out</th>\n      <td>149</td>\n    </tr>\n    <tr>\n      <th>nov</th>\n      <td>240</td>\n    </tr>\n    <tr>\n      <th>dez</th>\n      <td>405</td>\n    </tr>\n  </tbody>\n</table>\n</div>"
     },
     "metadata": {},
     "execution_count": 19
    }
   ],
   "source": [
    "notifica_nao_casos_confirmados = notifica_nao_casos_confirmados.loc[notifica_nao_casos_confirmados['cod_classificacao_final'] == 2]\n",
    "notifica_nao_casos_confirmados = notifica_nao_casos_confirmados.loc[notifica_nao_casos_confirmados['cod_status_notificacao'].isin([1,2])]\n",
    "\n",
    "notifica_nao_casos_confirmados['month'] = notifica_nao_casos_confirmados.apply(lambda x: x['data_notificacao'].month, axis=1)\n",
    "nnccm = notifica_nao_casos_confirmados.groupby(by='month')[['id']].count()\n",
    "nnccm.index = [ meses[int(x)-1] for x in nnccm.index] \n",
    "nnccm"
   ]
  },
  {
   "cell_type": "code",
   "execution_count": 20,
   "metadata": {},
   "outputs": [
    {
     "output_type": "execute_result",
     "data": {
      "text/plain": [
       "(3982, 54)"
      ]
     },
     "metadata": {},
     "execution_count": 20
    }
   ],
   "source": [
    "notifica_nao_casos_confirmados.to_excel(join(output,'notifica_nao_casos_confirmados.xlsx'), index=False)\n",
    "notifica_nao_casos_confirmados.shape"
   ]
  }
 ],
 "metadata": {
  "kernelspec": {
   "display_name": "Python 3",
   "language": "python",
   "name": "python3"
  },
  "language_info": {
   "codemirror_mode": {
    "name": "ipython",
    "version": 3
   },
   "file_extension": ".py",
   "mimetype": "text/x-python",
   "name": "python",
   "nbconvert_exporter": "python",
   "pygments_lexer": "ipython3",
   "version": "3.8.5-final"
  }
 },
 "nbformat": 4,
 "nbformat_minor": 2
}