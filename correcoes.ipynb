{
 "cells": [
  {
   "cell_type": "code",
   "execution_count": 1,
   "metadata": {},
   "outputs": [],
   "source": [
    "from sys import exit\n",
    "import numpy as np\n",
    "import pandas as pd\n",
    "from os.path import dirname, join, isfile, isdir\n",
    "from os import makedirs\n",
    "from datetime import datetime, timedelta, date\n",
    "\n",
    "from bulletin.data.notifica import Notifica\n",
    "from bulletin.data.casos_confirmados import CasosConfirmados\n",
    "from bulletin.commom.utils import Timer, get_better_notifica\n",
    "from bulletin.commom.static import meses\n",
    "from bulletin.metabase.request import download_metabase\n",
    "\n",
    "pd.set_option('display.max_columns', None)\n",
    "\n",
    "output = join(\"output\",\"correcoes\",\"notifica\")\n",
    "\n",
    "if not isdir(output):\n",
    "    makedirs(output)\n",
    "\n",
    "timerAll = Timer()\n",
    "timer = Timer()"
   ]
  },
  {
   "cell_type": "code",
   "execution_count": 2,
   "metadata": {},
   "outputs": [
    {
     "output_type": "stream",
     "name": "stdout",
     "text": [
      "Requesting notifica where classificacao_final IS NULL\n",
      "Success code 202\n",
      "Saving in input\\queries\\null.csv\n",
      "Download finish, time elapsed: 0:00:12.805293\n",
      "\n",
      "normalize notifica\n",
      "Requesting notifica where classificacao_final = 0\n",
      "Success code 202\n",
      "Saving in input\\queries\\0.csv\n",
      "Download finish, time elapsed: 0:00:12.597233\n",
      "\n",
      "normalize notifica\n",
      "Requesting notifica where classificacao_final = 1\n",
      "Success code 202\n",
      "Saving in input\\queries\\1.csv\n",
      "Download finish, time elapsed: 0:00:29.096022\n",
      "\n",
      "normalize notifica\n",
      "Requesting notifica where classificacao_final = 2\n",
      "Success code 202\n",
      "Saving in input\\queries\\2.csv\n",
      "Download finish, time elapsed: 0:00:23.262636\n",
      "\n",
      "normalize notifica\n",
      "Requesting notifica where classificacao_final = 3\n",
      "Success code 202\n",
      "Saving in input\\queries\\3.csv\n",
      "Download finish, time elapsed: 0:00:27.995701\n",
      "\n",
      "normalize notifica\n",
      "Requesting notifica where classificacao_final = 5\n",
      "Success code 202\n",
      "Saving in input\\queries\\5.csv\n",
      "Download finish, time elapsed: 0:00:26.327610\n",
      "\n",
      "normalize notifica\n",
      "00:23:02.810\n"
     ]
    },
    {
     "output_type": "execute_result",
     "data": {
      "text/plain": [
       "(2238828, 1028707, 10529, 1197502, 2090)"
      ]
     },
     "metadata": {},
     "execution_count": 2
    }
   ],
   "source": [
    "timer.start()\n",
    "\n",
    "notifica = Notifica()\n",
    "notifica.download_todas_notificacoes()\n",
    "notifica.save()\n",
    "# notifica.load()\n",
    "print(timer.ftime())\n",
    "notifica.shape()"
   ]
  },
  {
   "cell_type": "code",
   "execution_count": 3,
   "metadata": {},
   "outputs": [
    {
     "output_type": "stream",
     "name": "stdout",
     "text": [
      "00:02:31.338\n"
     ]
    },
    {
     "output_type": "execute_result",
     "data": {
      "text/plain": [
       "(569911, 10388, 420248, 139275)"
      ]
     },
     "metadata": {},
     "execution_count": 3
    }
   ],
   "source": [
    "timer.start()\n",
    "casos_confirmados = CasosConfirmados()\n",
    "casos_confirmados.read()\n",
    "casos_confirmados.save()\n",
    "# casos_confirmados.load()\n",
    "print(timer.ftime())\n",
    "casos_confirmados.shape()"
   ]
  },
  {
   "cell_type": "code",
   "execution_count": 4,
   "metadata": {},
   "outputs": [
    {
     "output_type": "execute_result",
     "data": {
      "text/plain": [
       "                                      id\n",
       "classificacao_final                     \n",
       "CASO CONFIRMADO                   542804\n",
       "CASO DESCARTADO                   764704\n",
       "CASO SUSPEITO                     923667\n",
       "IGNORADO                             641\n",
       "SINDROME GRIPAL NAO ESPECIFICADA    7012"
      ],
      "text/html": "<div>\n<style scoped>\n    .dataframe tbody tr th:only-of-type {\n        vertical-align: middle;\n    }\n\n    .dataframe tbody tr th {\n        vertical-align: top;\n    }\n\n    .dataframe thead th {\n        text-align: right;\n    }\n</style>\n<table border=\"1\" class=\"dataframe\">\n  <thead>\n    <tr style=\"text-align: right;\">\n      <th></th>\n      <th>id</th>\n    </tr>\n    <tr>\n      <th>classificacao_final</th>\n      <th></th>\n    </tr>\n  </thead>\n  <tbody>\n    <tr>\n      <th>CASO CONFIRMADO</th>\n      <td>542804</td>\n    </tr>\n    <tr>\n      <th>CASO DESCARTADO</th>\n      <td>764704</td>\n    </tr>\n    <tr>\n      <th>CASO SUSPEITO</th>\n      <td>923667</td>\n    </tr>\n    <tr>\n      <th>IGNORADO</th>\n      <td>641</td>\n    </tr>\n    <tr>\n      <th>SINDROME GRIPAL NAO ESPECIFICADA</th>\n      <td>7012</td>\n    </tr>\n  </tbody>\n</table>\n</div>"
     },
     "metadata": {},
     "execution_count": 4
    }
   ],
   "source": [
    "casosn = notifica.get_casos()\n",
    "casosn['duplicado'] = 0\n",
    "casosc = casos_confirmados.get_casos()\n",
    "casosn.groupby('classificacao_final')[['id']].count()"
   ]
  },
  {
   "cell_type": "code",
   "execution_count": 5,
   "metadata": {},
   "outputs": [
    {
     "output_type": "stream",
     "name": "stdout",
     "text": [
      "Total de pacientes com mais de uma ocorrencia: 499965\n",
      "201453 pacientes pelo CPF que estavam com mais de uma ocorrencia\n"
     ]
    },
    {
     "output_type": "execute_result",
     "data": {
      "text/plain": [
       "                                      id\n",
       "classificacao_final                     \n",
       "CASO CONFIRMADO                    14352\n",
       "CASO DESCARTADO                   123404\n",
       "CASO SUSPEITO                     159306\n",
       "IGNORADO                              48\n",
       "SINDROME GRIPAL NAO ESPECIFICADA    1402"
      ],
      "text/html": "<div>\n<style scoped>\n    .dataframe tbody tr th:only-of-type {\n        vertical-align: middle;\n    }\n\n    .dataframe tbody tr th {\n        vertical-align: top;\n    }\n\n    .dataframe thead th {\n        text-align: right;\n    }\n</style>\n<table border=\"1\" class=\"dataframe\">\n  <thead>\n    <tr style=\"text-align: right;\">\n      <th></th>\n      <th>id</th>\n    </tr>\n    <tr>\n      <th>classificacao_final</th>\n      <th></th>\n    </tr>\n  </thead>\n  <tbody>\n    <tr>\n      <th>CASO CONFIRMADO</th>\n      <td>14352</td>\n    </tr>\n    <tr>\n      <th>CASO DESCARTADO</th>\n      <td>123404</td>\n    </tr>\n    <tr>\n      <th>CASO SUSPEITO</th>\n      <td>159306</td>\n    </tr>\n    <tr>\n      <th>IGNORADO</th>\n      <td>48</td>\n    </tr>\n    <tr>\n      <th>SINDROME GRIPAL NAO ESPECIFICADA</th>\n      <td>1402</td>\n    </tr>\n  </tbody>\n</table>\n</div>"
     },
     "metadata": {},
     "execution_count": 5
    }
   ],
   "source": [
    "casos_duplicados = casosn.loc[(casosn['cpf'].notnull()) & (casosn.duplicated('cpf',keep=False))].sort_values('cpf')\n",
    "print(f\"Total de pacientes com mais de uma ocorrencia: {len(casos_duplicados)}\")\n",
    "print(f\"{len(casos_duplicados.groupby('cpf'))} pacientes pelo CPF que estavam com mais de uma ocorrencia\")\n",
    "\n",
    "all_casos_duplicados = set()\n",
    "all_duplicados_mantidos = set()\n",
    "manter = []\n",
    "\n",
    "for hash, group in casos_duplicados.groupby('cpf'):\n",
    "    idx = get_better_notifica(group)\n",
    "    manter.append(idx)\n",
    "\n",
    "\n",
    "casos_duplicados = set(casos_duplicados.index.tolist())\n",
    "casos_duplicados = casos_duplicados - set(manter)\n",
    "\n",
    "all_duplicados_mantidos |= set(manter)\n",
    "all_casos_duplicados |= casos_duplicados\n",
    "casosn.loc[casos_duplicados].to_csv(join(output,'pacientes_duplicados_cpf.csv'), index=False)\n",
    "\n",
    "casosn.loc[casos_duplicados].groupby('classificacao_final')[['id']].count()"
   ]
  },
  {
   "cell_type": "code",
   "execution_count": 6,
   "metadata": {},
   "outputs": [],
   "source": [
    "casosn.loc[casos_duplicados, 'duplicado'] = 1 \n",
    "# casosn = casosn.drop(index=casos_duplicados)"
   ]
  },
  {
   "cell_type": "code",
   "execution_count": 7,
   "metadata": {},
   "outputs": [
    {
     "output_type": "stream",
     "name": "stdout",
     "text": [
      "Total de pacientes com mais de uma ocorrencia pelo nome+nome_mae: 538656\n",
      "197934 pacientes pelo nome+nome_mae que estavam com mais de uma ocorrencia\n"
     ]
    },
    {
     "output_type": "execute_result",
     "data": {
      "text/plain": [
       "                                      id\n",
       "classificacao_final                     \n",
       "CASO CONFIRMADO                    20414\n",
       "CASO DESCARTADO                   143090\n",
       "CASO SUSPEITO                     175624\n",
       "IGNORADO                              39\n",
       "SINDROME GRIPAL NAO ESPECIFICADA    1555"
      ],
      "text/html": "<div>\n<style scoped>\n    .dataframe tbody tr th:only-of-type {\n        vertical-align: middle;\n    }\n\n    .dataframe tbody tr th {\n        vertical-align: top;\n    }\n\n    .dataframe thead th {\n        text-align: right;\n    }\n</style>\n<table border=\"1\" class=\"dataframe\">\n  <thead>\n    <tr style=\"text-align: right;\">\n      <th></th>\n      <th>id</th>\n    </tr>\n    <tr>\n      <th>classificacao_final</th>\n      <th></th>\n    </tr>\n  </thead>\n  <tbody>\n    <tr>\n      <th>CASO CONFIRMADO</th>\n      <td>20414</td>\n    </tr>\n    <tr>\n      <th>CASO DESCARTADO</th>\n      <td>143090</td>\n    </tr>\n    <tr>\n      <th>CASO SUSPEITO</th>\n      <td>175624</td>\n    </tr>\n    <tr>\n      <th>IGNORADO</th>\n      <td>39</td>\n    </tr>\n    <tr>\n      <th>SINDROME GRIPAL NAO ESPECIFICADA</th>\n      <td>1555</td>\n    </tr>\n  </tbody>\n</table>\n</div>"
     },
     "metadata": {},
     "execution_count": 7
    }
   ],
   "source": [
    "casos_duplicados = casosn.loc[(casosn['nome_mae'].notnull()) & (casosn.duplicated('hash_mae',keep=False))].sort_values('nome_mae')\n",
    "\n",
    "print(f\"Total de pacientes com mais de uma ocorrencia pelo nome+nome_mae: {len(casos_duplicados)}\")\n",
    "print(f\"{len(casos_duplicados.groupby('nome_mae'))} pacientes pelo nome+nome_mae que estavam com mais de uma ocorrencia\")\n",
    "\n",
    "manter = []\n",
    "for hash, group in casos_duplicados.groupby('nome_mae'):\n",
    "    idx = get_better_notifica(group)\n",
    "    manter.append(idx)\n",
    "\n",
    "\n",
    "casos_duplicados = set(casos_duplicados.index.tolist())\n",
    "casos_duplicados = casos_duplicados - set(manter)\n",
    "\n",
    "all_duplicados_mantidos |= set(manter)\n",
    "all_casos_duplicados |= casos_duplicados\n",
    "casosn.loc[casos_duplicados].to_csv(join(output,'pacientes_duplicados_nome_mae.csv'), index=False)\n",
    "\n",
    "casosn.loc[casos_duplicados].groupby('classificacao_final')[['id']].count()"
   ]
  },
  {
   "cell_type": "code",
   "execution_count": 8,
   "metadata": {},
   "outputs": [],
   "source": [
    "casosn.loc[casos_duplicados, 'duplicado'] = 1 \n",
    "# casosn = casosn.drop(index=casos_duplicados)"
   ]
  },
  {
   "cell_type": "code",
   "execution_count": 9,
   "metadata": {},
   "outputs": [
    {
     "output_type": "stream",
     "name": "stdout",
     "text": [
      "Total de pacientes com mais de uma ocorrencia pelo data_nascimento: 575415\n",
      "233749 pacientes pelo data_nascimento que estavam com mais de uma ocorrencia\n"
     ]
    },
    {
     "output_type": "execute_result",
     "data": {
      "text/plain": [
       "                                      id\n",
       "classificacao_final                     \n",
       "CASO CONFIRMADO                    17357\n",
       "CASO DESCARTADO                   139347\n",
       "CASO SUSPEITO                     183333\n",
       "IGNORADO                              50\n",
       "SINDROME GRIPAL NAO ESPECIFICADA    1579"
      ],
      "text/html": "<div>\n<style scoped>\n    .dataframe tbody tr th:only-of-type {\n        vertical-align: middle;\n    }\n\n    .dataframe tbody tr th {\n        vertical-align: top;\n    }\n\n    .dataframe thead th {\n        text-align: right;\n    }\n</style>\n<table border=\"1\" class=\"dataframe\">\n  <thead>\n    <tr style=\"text-align: right;\">\n      <th></th>\n      <th>id</th>\n    </tr>\n    <tr>\n      <th>classificacao_final</th>\n      <th></th>\n    </tr>\n  </thead>\n  <tbody>\n    <tr>\n      <th>CASO CONFIRMADO</th>\n      <td>17357</td>\n    </tr>\n    <tr>\n      <th>CASO DESCARTADO</th>\n      <td>139347</td>\n    </tr>\n    <tr>\n      <th>CASO SUSPEITO</th>\n      <td>183333</td>\n    </tr>\n    <tr>\n      <th>IGNORADO</th>\n      <td>50</td>\n    </tr>\n    <tr>\n      <th>SINDROME GRIPAL NAO ESPECIFICADA</th>\n      <td>1579</td>\n    </tr>\n  </tbody>\n</table>\n</div>"
     },
     "metadata": {},
     "execution_count": 9
    }
   ],
   "source": [
    "casos_duplicados = casosn.loc[(casosn['hash_nasc'].notnull()) & (casosn.duplicated('hash_nasc',keep=False))].sort_values('data_nascimento')\n",
    "\n",
    "print(f\"Total de pacientes com mais de uma ocorrencia pelo data_nascimento: {len(casos_duplicados)}\")\n",
    "print(f\"{len(casos_duplicados.groupby('hash_nasc'))} pacientes pelo data_nascimento que estavam com mais de uma ocorrencia\")\n",
    "\n",
    "manter = []\n",
    "for hash, group in casos_duplicados.groupby('hash_nasc'):\n",
    "    idx = get_better_notifica(group)\n",
    "    manter.append(idx)\n",
    "\n",
    "\n",
    "casos_duplicados = set(casos_duplicados.index.tolist())\n",
    "casos_duplicados = casos_duplicados - set(manter)\n",
    "\n",
    "all_duplicados_mantidos |= set(manter)\n",
    "all_casos_duplicados |= casos_duplicados\n",
    "casosn.loc[casos_duplicados].to_csv(join(output,'pacientes_duplicados_data_nascimento.csv'), index=False)\n",
    "\n",
    "casosn.loc[casos_duplicados].groupby('classificacao_final')[['id']].count()"
   ]
  },
  {
   "cell_type": "code",
   "execution_count": 10,
   "metadata": {},
   "outputs": [],
   "source": [
    "casosn.loc[casos_duplicados, 'duplicado'] = 1 \n",
    "# casosn = casosn.drop(index=casos_duplicados)"
   ]
  },
  {
   "cell_type": "code",
   "execution_count": 11,
   "metadata": {},
   "outputs": [
    {
     "output_type": "stream",
     "name": "stdout",
     "text": [
      "Total de pacientes com mais de uma ocorrencia pelo hash_resid: 469172\n",
      "191823 pacientes pelo hash_resid que estavam com mais de uma ocorrencia\n"
     ]
    },
    {
     "output_type": "execute_result",
     "data": {
      "text/plain": [
       "                                      id\n",
       "classificacao_final                     \n",
       "CASO CONFIRMADO                    14919\n",
       "CASO DESCARTADO                   112920\n",
       "CASO SUSPEITO                     148264\n",
       "IGNORADO                              34\n",
       "SINDROME GRIPAL NAO ESPECIFICADA    1212"
      ],
      "text/html": "<div>\n<style scoped>\n    .dataframe tbody tr th:only-of-type {\n        vertical-align: middle;\n    }\n\n    .dataframe tbody tr th {\n        vertical-align: top;\n    }\n\n    .dataframe thead th {\n        text-align: right;\n    }\n</style>\n<table border=\"1\" class=\"dataframe\">\n  <thead>\n    <tr style=\"text-align: right;\">\n      <th></th>\n      <th>id</th>\n    </tr>\n    <tr>\n      <th>classificacao_final</th>\n      <th></th>\n    </tr>\n  </thead>\n  <tbody>\n    <tr>\n      <th>CASO CONFIRMADO</th>\n      <td>14919</td>\n    </tr>\n    <tr>\n      <th>CASO DESCARTADO</th>\n      <td>112920</td>\n    </tr>\n    <tr>\n      <th>CASO SUSPEITO</th>\n      <td>148264</td>\n    </tr>\n    <tr>\n      <th>IGNORADO</th>\n      <td>34</td>\n    </tr>\n    <tr>\n      <th>SINDROME GRIPAL NAO ESPECIFICADA</th>\n      <td>1212</td>\n    </tr>\n  </tbody>\n</table>\n</div>"
     },
     "metadata": {},
     "execution_count": 11
    }
   ],
   "source": [
    "casos_duplicados = casosn.loc[(casosn['hash_resid'].notnull()) & (casosn.duplicated('hash_resid',keep=False))].sort_values('paciente')\n",
    "\n",
    "print(f\"Total de pacientes com mais de uma ocorrencia pelo hash_resid: {len(casos_duplicados)}\")\n",
    "print(f\"{len(casos_duplicados.groupby('hash_resid'))} pacientes pelo hash_resid que estavam com mais de uma ocorrencia\")\n",
    "\n",
    "manter = []\n",
    "for hash, group in casos_duplicados.groupby('hash_resid'):\n",
    "    idx = get_better_notifica(group)\n",
    "    manter.append(idx)\n",
    "\n",
    "\n",
    "casos_duplicados = set(casos_duplicados.index.tolist())\n",
    "casos_duplicados = casos_duplicados - set(manter)\n",
    "\n",
    "all_duplicados_mantidos |= set(manter)\n",
    "all_casos_duplicados |= casos_duplicados\n",
    "casosn.loc[casos_duplicados].to_csv(join(output,'pacientes_duplicados_nome_idade_mun_resid.csv'), index=False)\n",
    "\n",
    "casosn.loc[casos_duplicados].groupby('classificacao_final')[['id']].count()"
   ]
  },
  {
   "cell_type": "code",
   "execution_count": 12,
   "metadata": {},
   "outputs": [],
   "source": [
    "casosn.loc[casos_duplicados, 'duplicado'] = 1 \n",
    "# casosn = casosn.drop(index=casos_duplicados)"
   ]
  },
  {
   "cell_type": "code",
   "execution_count": 13,
   "metadata": {},
   "outputs": [
    {
     "output_type": "stream",
     "name": "stdout",
     "text": [
      "Total de pacientes com mais de uma ocorrencia pelo hash_atend: 402722\n",
      "163750 pacientes pelo hash_atend que estavam com mais de uma ocorrencia\n"
     ]
    },
    {
     "output_type": "execute_result",
     "data": {
      "text/plain": [
       "                                      id\n",
       "classificacao_final                     \n",
       "CASO CONFIRMADO                    11637\n",
       "CASO DESCARTADO                   100255\n",
       "CASO SUSPEITO                     125934\n",
       "IGNORADO                              18\n",
       "SINDROME GRIPAL NAO ESPECIFICADA    1128"
      ],
      "text/html": "<div>\n<style scoped>\n    .dataframe tbody tr th:only-of-type {\n        vertical-align: middle;\n    }\n\n    .dataframe tbody tr th {\n        vertical-align: top;\n    }\n\n    .dataframe thead th {\n        text-align: right;\n    }\n</style>\n<table border=\"1\" class=\"dataframe\">\n  <thead>\n    <tr style=\"text-align: right;\">\n      <th></th>\n      <th>id</th>\n    </tr>\n    <tr>\n      <th>classificacao_final</th>\n      <th></th>\n    </tr>\n  </thead>\n  <tbody>\n    <tr>\n      <th>CASO CONFIRMADO</th>\n      <td>11637</td>\n    </tr>\n    <tr>\n      <th>CASO DESCARTADO</th>\n      <td>100255</td>\n    </tr>\n    <tr>\n      <th>CASO SUSPEITO</th>\n      <td>125934</td>\n    </tr>\n    <tr>\n      <th>IGNORADO</th>\n      <td>18</td>\n    </tr>\n    <tr>\n      <th>SINDROME GRIPAL NAO ESPECIFICADA</th>\n      <td>1128</td>\n    </tr>\n  </tbody>\n</table>\n</div>"
     },
     "metadata": {},
     "execution_count": 13
    }
   ],
   "source": [
    "casos_duplicados = casosn.loc[(casosn['hash_atend'].notnull()) & (casosn.duplicated('hash_atend',keep=False))].sort_values('paciente')\n",
    "# casos_duplicados_nome_mae.loc[casos_duplicados_nome_mae['nome_mae']=='0']\n",
    "\n",
    "print(f\"Total de pacientes com mais de uma ocorrencia pelo hash_atend: {len(casos_duplicados)}\")\n",
    "print(f\"{len(casos_duplicados.groupby('hash_atend'))} pacientes pelo hash_atend que estavam com mais de uma ocorrencia\")\n",
    "\n",
    "manter = []\n",
    "for hash, group in casos_duplicados.groupby('hash_atend'):\n",
    "    idx = get_better_notifica(group)\n",
    "    manter.append(idx)\n",
    "\n",
    "\n",
    "casos_duplicados = set(casos_duplicados.index.tolist())\n",
    "casos_duplicados = casos_duplicados - set(manter)\n",
    "\n",
    "all_duplicados_mantidos |= set(manter)\n",
    "all_casos_duplicados |= casos_duplicados\n",
    "casosn.loc[casos_duplicados].to_csv(join(output,'pacientes_duplicados_nome_idade_mun_atend.csv'), index=False)\n",
    "\n",
    "casosn.loc[casos_duplicados].groupby('classificacao_final')[['id']].count()"
   ]
  },
  {
   "cell_type": "code",
   "execution_count": 14,
   "metadata": {},
   "outputs": [],
   "source": [
    "casosn.loc[casos_duplicados, 'duplicado'] = 1 \n",
    "# casosn = casosn.drop(index=casos_duplicados)"
   ]
  },
  {
   "cell_type": "code",
   "execution_count": 15,
   "metadata": {},
   "outputs": [
    {
     "output_type": "stream",
     "name": "stdout",
     "text": [
      "Total de pacientes com mais de uma ocorrencia pelo hash_diag: 51505\n",
      "24698 pacientes pelo hash_diag que estavam com mais de uma ocorrencia\n"
     ]
    },
    {
     "output_type": "execute_result",
     "data": {
      "text/plain": [
       "                                     id\n",
       "classificacao_final                    \n",
       "CASO CONFIRMADO                    4743\n",
       "CASO DESCARTADO                   10129\n",
       "CASO SUSPEITO                     11881\n",
       "IGNORADO                             11\n",
       "SINDROME GRIPAL NAO ESPECIFICADA     43"
      ],
      "text/html": "<div>\n<style scoped>\n    .dataframe tbody tr th:only-of-type {\n        vertical-align: middle;\n    }\n\n    .dataframe tbody tr th {\n        vertical-align: top;\n    }\n\n    .dataframe thead th {\n        text-align: right;\n    }\n</style>\n<table border=\"1\" class=\"dataframe\">\n  <thead>\n    <tr style=\"text-align: right;\">\n      <th></th>\n      <th>id</th>\n    </tr>\n    <tr>\n      <th>classificacao_final</th>\n      <th></th>\n    </tr>\n  </thead>\n  <tbody>\n    <tr>\n      <th>CASO CONFIRMADO</th>\n      <td>4743</td>\n    </tr>\n    <tr>\n      <th>CASO DESCARTADO</th>\n      <td>10129</td>\n    </tr>\n    <tr>\n      <th>CASO SUSPEITO</th>\n      <td>11881</td>\n    </tr>\n    <tr>\n      <th>IGNORADO</th>\n      <td>11</td>\n    </tr>\n    <tr>\n      <th>SINDROME GRIPAL NAO ESPECIFICADA</th>\n      <td>43</td>\n    </tr>\n  </tbody>\n</table>\n</div>"
     },
     "metadata": {},
     "execution_count": 15
    }
   ],
   "source": [
    "casos_duplicados = casosn.loc[(casosn['hash_diag'].notnull()) & (casosn.duplicated('hash_diag',keep=False))].sort_values('paciente')\n",
    "\n",
    "print(f\"Total de pacientes com mais de uma ocorrencia pelo hash_diag: {len(casos_duplicados)}\")\n",
    "print(f\"{len(casos_duplicados.groupby('hash_diag'))} pacientes pelo hash_diag que estavam com mais de uma ocorrencia\")\n",
    "\n",
    "manter = []\n",
    "for hash, group in casos_duplicados.groupby('hash_diag'):\n",
    "    idx = get_better_notifica(group)\n",
    "    manter.append(idx)\n",
    "\n",
    "\n",
    "casos_duplicados = set(casos_duplicados.index.tolist())\n",
    "casos_duplicados = casos_duplicados - set(manter)\n",
    "\n",
    "all_duplicados_mantidos |= set(manter)\n",
    "all_casos_duplicados |= casos_duplicados\n",
    "casosn.loc[casos_duplicados].to_csv(join(output,'pacientes_duplicados_hash_diag.csv'), index=False)\n",
    "\n",
    "casosn.loc[casos_duplicados].groupby('classificacao_final')[['id']].count()"
   ]
  },
  {
   "cell_type": "code",
   "execution_count": 16,
   "metadata": {},
   "outputs": [],
   "source": [
    "casosn.loc[casos_duplicados, 'duplicado'] = 1 \n",
    "# casosn = casosn.drop(index=casos_duplicados)"
   ]
  },
  {
   "cell_type": "code",
   "execution_count": 17,
   "metadata": {},
   "outputs": [],
   "source": [
    "notifica.save(casosn)"
   ]
  },
  {
   "cell_type": "code",
   "execution_count": 18,
   "metadata": {},
   "outputs": [
    {
     "output_type": "stream",
     "name": "stdout",
     "text": [
      "Das 2238828 notificações baixadas, 0 (389195) foram excluidas por serem do mesmo paciente, sendo mantida a que melhor pontuou nos critérios. Sendo assim, o novo total de notificações existente é de 2238828\n"
     ]
    }
   ],
   "source": [
    "print(f\"Das {notifica.shape()[0]} notificações baixadas, {notifica.shape()[0] - casosn.shape[0]} ({len(all_casos_duplicados)}) foram excluidas por serem do mesmo paciente, sendo mantida a que melhor pontuou nos critérios. Sendo assim, o novo total de notificações existente é de {casosn.shape[0]}\")\n",
    "allcasosn = notifica.get_casos()\n",
    "allcasosn.loc[all_casos_duplicados,'id'].to_csv(join(output,'casos_duplicados_removidos.csv'), index=False)\n",
    "allcasosn.loc[all_duplicados_mantidos,'id'].to_csv(join(output,'casos_duplicados_mantidos.csv'), index=False)"
   ]
  },
  {
   "cell_type": "code",
   "execution_count": 19,
   "metadata": {},
   "outputs": [
    {
     "output_type": "execute_result",
     "data": {
      "text/plain": [
       "(27977, 23)"
      ]
     },
     "metadata": {},
     "execution_count": 19
    }
   ],
   "source": [
    "idx_casos_confirmados = casosc[casosc['hash_resid'].isin(casosn['hash_resid'])].index.tolist()\n",
    "idx_casos_confirmados += casosc[casosc['hash_atend'].isin(casosn['hash_atend'])].index.tolist()\n",
    "idx_casos_confirmados += casosc[casosc['hash_diag'].isin(casosn['hash_diag'])].index.tolist()\n",
    "\n",
    "idx_casos_confirmados = set(idx_casos_confirmados)\n",
    "casos_confirmados_nao_notifica = casosc.loc[ set(casosc.index.tolist()) - idx_casos_confirmados ].sort_values('ordem')\n",
    "casos_confirmados_nao_notifica.to_excel(join(output,'casos_confirmados_nao_notifica.xlsx'),index=False)\n",
    "casos_confirmados_nao_notifica.shape"
   ]
  },
  {
   "cell_type": "code",
   "execution_count": 20,
   "metadata": {
    "tags": []
   },
   "outputs": [
    {
     "output_type": "execute_result",
     "data": {
      "text/plain": [
       "(629705, 54)"
      ]
     },
     "metadata": {},
     "execution_count": 20
    }
   ],
   "source": [
    "idx_casos_notifica = casosn[casosn['hash_resid'].isin(casosc['hash_resid'])].index.tolist()\n",
    "idx_casos_notifica += casosn[casosn['hash_atend'].isin(casosc['hash_atend'])].index.tolist()\n",
    "idx_casos_notifica += casosn[casosn['hash_diag'].isin(casosc['hash_diag'])].index.tolist()\n",
    "\n",
    "idx_casos_notifica = set(idx_casos_notifica)\n",
    "casos_confirmados_notifica = casosn.loc[ idx_casos_notifica ].sort_values('id')\n",
    "casos_confirmados_notifica.to_excel(join(output,'casos_confirmados_notifica.xlsx'),index=False)\n",
    "casos_confirmados_notifica.shape"
   ]
  },
  {
   "cell_type": "code",
   "execution_count": 21,
   "metadata": {},
   "outputs": [],
   "source": [
    "notifica_nao_casos_confirmados = casosn.loc[set(casosn.index.tolist()) - set(idx_casos_notifica)]"
   ]
  },
  {
   "cell_type": "code",
   "execution_count": 22,
   "metadata": {},
   "outputs": [
    {
     "output_type": "execute_result",
     "data": {
      "text/plain": [
       "        id\n",
       "jan    535\n",
       "fev    384\n",
       "mar     41\n",
       "abril  106\n",
       "mai    140\n",
       "jun    454\n",
       "jul    529\n",
       "ago    378\n",
       "set    204\n",
       "out    148\n",
       "nov    233\n",
       "dez    389"
      ],
      "text/html": "<div>\n<style scoped>\n    .dataframe tbody tr th:only-of-type {\n        vertical-align: middle;\n    }\n\n    .dataframe tbody tr th {\n        vertical-align: top;\n    }\n\n    .dataframe thead th {\n        text-align: right;\n    }\n</style>\n<table border=\"1\" class=\"dataframe\">\n  <thead>\n    <tr style=\"text-align: right;\">\n      <th></th>\n      <th>id</th>\n    </tr>\n  </thead>\n  <tbody>\n    <tr>\n      <th>jan</th>\n      <td>535</td>\n    </tr>\n    <tr>\n      <th>fev</th>\n      <td>384</td>\n    </tr>\n    <tr>\n      <th>mar</th>\n      <td>41</td>\n    </tr>\n    <tr>\n      <th>abril</th>\n      <td>106</td>\n    </tr>\n    <tr>\n      <th>mai</th>\n      <td>140</td>\n    </tr>\n    <tr>\n      <th>jun</th>\n      <td>454</td>\n    </tr>\n    <tr>\n      <th>jul</th>\n      <td>529</td>\n    </tr>\n    <tr>\n      <th>ago</th>\n      <td>378</td>\n    </tr>\n    <tr>\n      <th>set</th>\n      <td>204</td>\n    </tr>\n    <tr>\n      <th>out</th>\n      <td>148</td>\n    </tr>\n    <tr>\n      <th>nov</th>\n      <td>233</td>\n    </tr>\n    <tr>\n      <th>dez</th>\n      <td>389</td>\n    </tr>\n  </tbody>\n</table>\n</div>"
     },
     "metadata": {},
     "execution_count": 22
    }
   ],
   "source": [
    "notifica_nao_casos_confirmados = notifica_nao_casos_confirmados.loc[notifica_nao_casos_confirmados['cod_classificacao_final'] == 2]\n",
    "notifica_nao_casos_confirmados = notifica_nao_casos_confirmados.loc[notifica_nao_casos_confirmados['cod_status_notificacao'].isin([1,2])]\n",
    "\n",
    "notifica_nao_casos_confirmados['month'] = notifica_nao_casos_confirmados.apply(lambda x: x['data_notificacao'].month, axis=1)\n",
    "nnccm = notifica_nao_casos_confirmados.groupby(by='month')[['id']].count()\n",
    "nnccm.index = [ meses[int(x)-1] for x in nnccm.index] \n",
    "nnccm"
   ]
  },
  {
   "cell_type": "code",
   "execution_count": 23,
   "metadata": {},
   "outputs": [
    {
     "output_type": "execute_result",
     "data": {
      "text/plain": [
       "(3548, 55)"
      ]
     },
     "metadata": {},
     "execution_count": 23
    }
   ],
   "source": [
    "notifica_nao_casos_confirmados.to_excel(join(output,'notifica_nao_casos_confirmados.xlsx'), index=False)\n",
    "notifica_nao_casos_confirmados.shape"
   ]
  },
  {
   "cell_type": "code",
   "execution_count": 25,
   "metadata": {},
   "outputs": [
    {
     "output_type": "execute_result",
     "data": {
      "text/plain": [
       "              id      paciente data_nascimento                   nome_mae  \\\n",
       "1457664  2254867  WESLEI ZOLET      1996-12-14  MARIA DE LOURDES DA SILVA   \n",
       "\n",
       "                    cpf  cod_tipo_paciente  tipo_paciente  idade sexo  \\\n",
       "1457664  107.557.909-01                  3  CPF INFORMADO     24    M   \n",
       "\n",
       "         cod_raca_cor  raca_cor  cod_etnia etnia  uf_residencia  \\\n",
       "1457664            99  IGNORADO          0                   41   \n",
       "\n",
       "         ibge_residencia  cod_classificacao_final classificacao_final  \\\n",
       "1457664           412770                        2     CASO CONFIRMADO   \n",
       "\n",
       "         cod_criterio_classificacao criterio_classificacao  cod_evolucao  \\\n",
       "1457664                           1           LABORATORIAL             3   \n",
       "\n",
       "              evolucao data_1o_sintomas data_cura_obito co_seq_exame  \\\n",
       "1457664  NAO SE APLICA       2021-01-28             NaT      5538724   \n",
       "\n",
       "         cod_metodo  metodo  cod_exame                        exame  \\\n",
       "1457664           1  RT-PCR         27  COVID-19 BIOLOGIA MOLECULAR   \n",
       "\n",
       "         cod_resultado                resultado data_coleta data_recebimento  \\\n",
       "1457664              9  CORONAVIRUS (SARS-COV2)  2021-02-02       2021-02-04   \n",
       "\n",
       "        data_liberacao  cod_status_notificacao status_notificacao  \\\n",
       "1457664     2021-02-05                       1             ABERTA   \n",
       "\n",
       "         excluir_ficha  cod_origem             origem  uf_unidade_notifica  \\\n",
       "1457664              2           1  NOTIFICA COVID-19                   41   \n",
       "\n",
       "         ibge_unidade_notifica data_notificacao updated_at data_diagnostico  \\\n",
       "1457664                 412770       2021-02-02 2021-02-06       2021-02-05   \n",
       "\n",
       "        mun_resid uf_resid  rs mun_atend uf_atend           hash_resid  \\\n",
       "1457664    TOLEDO       PR  20    TOLEDO       PR  WESLEIZOLET24TOLEDO   \n",
       "\n",
       "                  hash_atend                          hash_mae  \\\n",
       "1457664  WESLEIZOLET24TOLEDO  WESLEIZOLETMARIADELOURDESDASILVA   \n",
       "\n",
       "                   hash_nasc            hash_diag  duplicado  \n",
       "1457664  WESLEIZOLET14121996  WESLEIZOLET05022021          1  "
      ],
      "text/html": "<div>\n<style scoped>\n    .dataframe tbody tr th:only-of-type {\n        vertical-align: middle;\n    }\n\n    .dataframe tbody tr th {\n        vertical-align: top;\n    }\n\n    .dataframe thead th {\n        text-align: right;\n    }\n</style>\n<table border=\"1\" class=\"dataframe\">\n  <thead>\n    <tr style=\"text-align: right;\">\n      <th></th>\n      <th>id</th>\n      <th>paciente</th>\n      <th>data_nascimento</th>\n      <th>nome_mae</th>\n      <th>cpf</th>\n      <th>cod_tipo_paciente</th>\n      <th>tipo_paciente</th>\n      <th>idade</th>\n      <th>sexo</th>\n      <th>cod_raca_cor</th>\n      <th>raca_cor</th>\n      <th>cod_etnia</th>\n      <th>etnia</th>\n      <th>uf_residencia</th>\n      <th>ibge_residencia</th>\n      <th>cod_classificacao_final</th>\n      <th>classificacao_final</th>\n      <th>cod_criterio_classificacao</th>\n      <th>criterio_classificacao</th>\n      <th>cod_evolucao</th>\n      <th>evolucao</th>\n      <th>data_1o_sintomas</th>\n      <th>data_cura_obito</th>\n      <th>co_seq_exame</th>\n      <th>cod_metodo</th>\n      <th>metodo</th>\n      <th>cod_exame</th>\n      <th>exame</th>\n      <th>cod_resultado</th>\n      <th>resultado</th>\n      <th>data_coleta</th>\n      <th>data_recebimento</th>\n      <th>data_liberacao</th>\n      <th>cod_status_notificacao</th>\n      <th>status_notificacao</th>\n      <th>excluir_ficha</th>\n      <th>cod_origem</th>\n      <th>origem</th>\n      <th>uf_unidade_notifica</th>\n      <th>ibge_unidade_notifica</th>\n      <th>data_notificacao</th>\n      <th>updated_at</th>\n      <th>data_diagnostico</th>\n      <th>mun_resid</th>\n      <th>uf_resid</th>\n      <th>rs</th>\n      <th>mun_atend</th>\n      <th>uf_atend</th>\n      <th>hash_resid</th>\n      <th>hash_atend</th>\n      <th>hash_mae</th>\n      <th>hash_nasc</th>\n      <th>hash_diag</th>\n      <th>duplicado</th>\n    </tr>\n  </thead>\n  <tbody>\n    <tr>\n      <th>1457664</th>\n      <td>2254867</td>\n      <td>WESLEI ZOLET</td>\n      <td>1996-12-14</td>\n      <td>MARIA DE LOURDES DA SILVA</td>\n      <td>107.557.909-01</td>\n      <td>3</td>\n      <td>CPF INFORMADO</td>\n      <td>24</td>\n      <td>M</td>\n      <td>99</td>\n      <td>IGNORADO</td>\n      <td>0</td>\n      <td></td>\n      <td>41</td>\n      <td>412770</td>\n      <td>2</td>\n      <td>CASO CONFIRMADO</td>\n      <td>1</td>\n      <td>LABORATORIAL</td>\n      <td>3</td>\n      <td>NAO SE APLICA</td>\n      <td>2021-01-28</td>\n      <td>NaT</td>\n      <td>5538724</td>\n      <td>1</td>\n      <td>RT-PCR</td>\n      <td>27</td>\n      <td>COVID-19 BIOLOGIA MOLECULAR</td>\n      <td>9</td>\n      <td>CORONAVIRUS (SARS-COV2)</td>\n      <td>2021-02-02</td>\n      <td>2021-02-04</td>\n      <td>2021-02-05</td>\n      <td>1</td>\n      <td>ABERTA</td>\n      <td>2</td>\n      <td>1</td>\n      <td>NOTIFICA COVID-19</td>\n      <td>41</td>\n      <td>412770</td>\n      <td>2021-02-02</td>\n      <td>2021-02-06</td>\n      <td>2021-02-05</td>\n      <td>TOLEDO</td>\n      <td>PR</td>\n      <td>20</td>\n      <td>TOLEDO</td>\n      <td>PR</td>\n      <td>WESLEIZOLET24TOLEDO</td>\n      <td>WESLEIZOLET24TOLEDO</td>\n      <td>WESLEIZOLETMARIADELOURDESDASILVA</td>\n      <td>WESLEIZOLET14121996</td>\n      <td>WESLEIZOLET05022021</td>\n      <td>1</td>\n    </tr>\n  </tbody>\n</table>\n</div>"
     },
     "metadata": {},
     "execution_count": 25
    }
   ],
   "source": [
    "casosn.loc[casosn['hash_diag']=='WESLEIZOLET05022021']"
   ]
  },
  {
   "cell_type": "code",
   "execution_count": 26,
   "metadata": {},
   "outputs": [
    {
     "output_type": "execute_result",
     "data": {
      "text/plain": [
       "              id      paciente data_nascimento                   nome_mae  \\\n",
       "1457664  2254867  WESLEI ZOLET      1996-12-14  MARIA DE LOURDES DA SILVA   \n",
       "\n",
       "                    cpf  cod_tipo_paciente  tipo_paciente  idade sexo  \\\n",
       "1457664  107.557.909-01                  3  CPF INFORMADO     24    M   \n",
       "\n",
       "         cod_raca_cor  raca_cor  cod_etnia etnia  uf_residencia  \\\n",
       "1457664            99  IGNORADO          0                   41   \n",
       "\n",
       "         ibge_residencia  cod_classificacao_final classificacao_final  \\\n",
       "1457664           412770                        2     CASO CONFIRMADO   \n",
       "\n",
       "         cod_criterio_classificacao criterio_classificacao  cod_evolucao  \\\n",
       "1457664                           1           LABORATORIAL             3   \n",
       "\n",
       "              evolucao data_1o_sintomas data_cura_obito co_seq_exame  \\\n",
       "1457664  NAO SE APLICA       2021-01-28             NaT      5538724   \n",
       "\n",
       "         cod_metodo  metodo  cod_exame                        exame  \\\n",
       "1457664           1  RT-PCR         27  COVID-19 BIOLOGIA MOLECULAR   \n",
       "\n",
       "         cod_resultado                resultado data_coleta data_recebimento  \\\n",
       "1457664              9  CORONAVIRUS (SARS-COV2)  2021-02-02       2021-02-04   \n",
       "\n",
       "        data_liberacao  cod_status_notificacao status_notificacao  \\\n",
       "1457664     2021-02-05                       1             ABERTA   \n",
       "\n",
       "         excluir_ficha  cod_origem             origem  uf_unidade_notifica  \\\n",
       "1457664              2           1  NOTIFICA COVID-19                   41   \n",
       "\n",
       "         ibge_unidade_notifica data_notificacao updated_at data_diagnostico  \\\n",
       "1457664                 412770       2021-02-02 2021-02-06       2021-02-05   \n",
       "\n",
       "        mun_resid uf_resid  rs mun_atend uf_atend           hash_resid  \\\n",
       "1457664    TOLEDO       PR  20    TOLEDO       PR  WESLEIZOLET24TOLEDO   \n",
       "\n",
       "                  hash_atend                          hash_mae  \\\n",
       "1457664  WESLEIZOLET24TOLEDO  WESLEIZOLETMARIADELOURDESDASILVA   \n",
       "\n",
       "                   hash_nasc            hash_diag  duplicado  \n",
       "1457664  WESLEIZOLET14121996  WESLEIZOLET05022021          1  "
      ],
      "text/html": "<div>\n<style scoped>\n    .dataframe tbody tr th:only-of-type {\n        vertical-align: middle;\n    }\n\n    .dataframe tbody tr th {\n        vertical-align: top;\n    }\n\n    .dataframe thead th {\n        text-align: right;\n    }\n</style>\n<table border=\"1\" class=\"dataframe\">\n  <thead>\n    <tr style=\"text-align: right;\">\n      <th></th>\n      <th>id</th>\n      <th>paciente</th>\n      <th>data_nascimento</th>\n      <th>nome_mae</th>\n      <th>cpf</th>\n      <th>cod_tipo_paciente</th>\n      <th>tipo_paciente</th>\n      <th>idade</th>\n      <th>sexo</th>\n      <th>cod_raca_cor</th>\n      <th>raca_cor</th>\n      <th>cod_etnia</th>\n      <th>etnia</th>\n      <th>uf_residencia</th>\n      <th>ibge_residencia</th>\n      <th>cod_classificacao_final</th>\n      <th>classificacao_final</th>\n      <th>cod_criterio_classificacao</th>\n      <th>criterio_classificacao</th>\n      <th>cod_evolucao</th>\n      <th>evolucao</th>\n      <th>data_1o_sintomas</th>\n      <th>data_cura_obito</th>\n      <th>co_seq_exame</th>\n      <th>cod_metodo</th>\n      <th>metodo</th>\n      <th>cod_exame</th>\n      <th>exame</th>\n      <th>cod_resultado</th>\n      <th>resultado</th>\n      <th>data_coleta</th>\n      <th>data_recebimento</th>\n      <th>data_liberacao</th>\n      <th>cod_status_notificacao</th>\n      <th>status_notificacao</th>\n      <th>excluir_ficha</th>\n      <th>cod_origem</th>\n      <th>origem</th>\n      <th>uf_unidade_notifica</th>\n      <th>ibge_unidade_notifica</th>\n      <th>data_notificacao</th>\n      <th>updated_at</th>\n      <th>data_diagnostico</th>\n      <th>mun_resid</th>\n      <th>uf_resid</th>\n      <th>rs</th>\n      <th>mun_atend</th>\n      <th>uf_atend</th>\n      <th>hash_resid</th>\n      <th>hash_atend</th>\n      <th>hash_mae</th>\n      <th>hash_nasc</th>\n      <th>hash_diag</th>\n      <th>duplicado</th>\n    </tr>\n  </thead>\n  <tbody>\n    <tr>\n      <th>1457664</th>\n      <td>2254867</td>\n      <td>WESLEI ZOLET</td>\n      <td>1996-12-14</td>\n      <td>MARIA DE LOURDES DA SILVA</td>\n      <td>107.557.909-01</td>\n      <td>3</td>\n      <td>CPF INFORMADO</td>\n      <td>24</td>\n      <td>M</td>\n      <td>99</td>\n      <td>IGNORADO</td>\n      <td>0</td>\n      <td></td>\n      <td>41</td>\n      <td>412770</td>\n      <td>2</td>\n      <td>CASO CONFIRMADO</td>\n      <td>1</td>\n      <td>LABORATORIAL</td>\n      <td>3</td>\n      <td>NAO SE APLICA</td>\n      <td>2021-01-28</td>\n      <td>NaT</td>\n      <td>5538724</td>\n      <td>1</td>\n      <td>RT-PCR</td>\n      <td>27</td>\n      <td>COVID-19 BIOLOGIA MOLECULAR</td>\n      <td>9</td>\n      <td>CORONAVIRUS (SARS-COV2)</td>\n      <td>2021-02-02</td>\n      <td>2021-02-04</td>\n      <td>2021-02-05</td>\n      <td>1</td>\n      <td>ABERTA</td>\n      <td>2</td>\n      <td>1</td>\n      <td>NOTIFICA COVID-19</td>\n      <td>41</td>\n      <td>412770</td>\n      <td>2021-02-02</td>\n      <td>2021-02-06</td>\n      <td>2021-02-05</td>\n      <td>TOLEDO</td>\n      <td>PR</td>\n      <td>20</td>\n      <td>TOLEDO</td>\n      <td>PR</td>\n      <td>WESLEIZOLET24TOLEDO</td>\n      <td>WESLEIZOLET24TOLEDO</td>\n      <td>WESLEIZOLETMARIADELOURDESDASILVA</td>\n      <td>WESLEIZOLET14121996</td>\n      <td>WESLEIZOLET05022021</td>\n      <td>1</td>\n    </tr>\n  </tbody>\n</table>\n</div>"
     },
     "metadata": {},
     "execution_count": 26
    }
   ],
   "source": [
    "casosn.loc[casosn['hash_resid']=='WESLEIZOLET24TOLEDO']"
   ]
  },
  {
   "cell_type": "code",
   "execution_count": 27,
   "metadata": {},
   "outputs": [
    {
     "output_type": "execute_result",
     "data": {
      "text/plain": [
       "              id      paciente data_nascimento                   nome_mae  \\\n",
       "1457664  2254867  WESLEI ZOLET      1996-12-14  MARIA DE LOURDES DA SILVA   \n",
       "\n",
       "                    cpf  cod_tipo_paciente  tipo_paciente  idade sexo  \\\n",
       "1457664  107.557.909-01                  3  CPF INFORMADO     24    M   \n",
       "\n",
       "         cod_raca_cor  raca_cor  cod_etnia etnia  uf_residencia  \\\n",
       "1457664            99  IGNORADO          0                   41   \n",
       "\n",
       "         ibge_residencia  cod_classificacao_final classificacao_final  \\\n",
       "1457664           412770                        2     CASO CONFIRMADO   \n",
       "\n",
       "         cod_criterio_classificacao criterio_classificacao  cod_evolucao  \\\n",
       "1457664                           1           LABORATORIAL             3   \n",
       "\n",
       "              evolucao data_1o_sintomas data_cura_obito co_seq_exame  \\\n",
       "1457664  NAO SE APLICA       2021-01-28             NaT      5538724   \n",
       "\n",
       "         cod_metodo  metodo  cod_exame                        exame  \\\n",
       "1457664           1  RT-PCR         27  COVID-19 BIOLOGIA MOLECULAR   \n",
       "\n",
       "         cod_resultado                resultado data_coleta data_recebimento  \\\n",
       "1457664              9  CORONAVIRUS (SARS-COV2)  2021-02-02       2021-02-04   \n",
       "\n",
       "        data_liberacao  cod_status_notificacao status_notificacao  \\\n",
       "1457664     2021-02-05                       1             ABERTA   \n",
       "\n",
       "         excluir_ficha  cod_origem             origem  uf_unidade_notifica  \\\n",
       "1457664              2           1  NOTIFICA COVID-19                   41   \n",
       "\n",
       "         ibge_unidade_notifica data_notificacao updated_at data_diagnostico  \\\n",
       "1457664                 412770       2021-02-02 2021-02-06       2021-02-05   \n",
       "\n",
       "        mun_resid uf_resid  rs mun_atend uf_atend           hash_resid  \\\n",
       "1457664    TOLEDO       PR  20    TOLEDO       PR  WESLEIZOLET24TOLEDO   \n",
       "\n",
       "                  hash_atend                          hash_mae  \\\n",
       "1457664  WESLEIZOLET24TOLEDO  WESLEIZOLETMARIADELOURDESDASILVA   \n",
       "\n",
       "                   hash_nasc            hash_diag  duplicado  \n",
       "1457664  WESLEIZOLET14121996  WESLEIZOLET05022021          1  "
      ],
      "text/html": "<div>\n<style scoped>\n    .dataframe tbody tr th:only-of-type {\n        vertical-align: middle;\n    }\n\n    .dataframe tbody tr th {\n        vertical-align: top;\n    }\n\n    .dataframe thead th {\n        text-align: right;\n    }\n</style>\n<table border=\"1\" class=\"dataframe\">\n  <thead>\n    <tr style=\"text-align: right;\">\n      <th></th>\n      <th>id</th>\n      <th>paciente</th>\n      <th>data_nascimento</th>\n      <th>nome_mae</th>\n      <th>cpf</th>\n      <th>cod_tipo_paciente</th>\n      <th>tipo_paciente</th>\n      <th>idade</th>\n      <th>sexo</th>\n      <th>cod_raca_cor</th>\n      <th>raca_cor</th>\n      <th>cod_etnia</th>\n      <th>etnia</th>\n      <th>uf_residencia</th>\n      <th>ibge_residencia</th>\n      <th>cod_classificacao_final</th>\n      <th>classificacao_final</th>\n      <th>cod_criterio_classificacao</th>\n      <th>criterio_classificacao</th>\n      <th>cod_evolucao</th>\n      <th>evolucao</th>\n      <th>data_1o_sintomas</th>\n      <th>data_cura_obito</th>\n      <th>co_seq_exame</th>\n      <th>cod_metodo</th>\n      <th>metodo</th>\n      <th>cod_exame</th>\n      <th>exame</th>\n      <th>cod_resultado</th>\n      <th>resultado</th>\n      <th>data_coleta</th>\n      <th>data_recebimento</th>\n      <th>data_liberacao</th>\n      <th>cod_status_notificacao</th>\n      <th>status_notificacao</th>\n      <th>excluir_ficha</th>\n      <th>cod_origem</th>\n      <th>origem</th>\n      <th>uf_unidade_notifica</th>\n      <th>ibge_unidade_notifica</th>\n      <th>data_notificacao</th>\n      <th>updated_at</th>\n      <th>data_diagnostico</th>\n      <th>mun_resid</th>\n      <th>uf_resid</th>\n      <th>rs</th>\n      <th>mun_atend</th>\n      <th>uf_atend</th>\n      <th>hash_resid</th>\n      <th>hash_atend</th>\n      <th>hash_mae</th>\n      <th>hash_nasc</th>\n      <th>hash_diag</th>\n      <th>duplicado</th>\n    </tr>\n  </thead>\n  <tbody>\n    <tr>\n      <th>1457664</th>\n      <td>2254867</td>\n      <td>WESLEI ZOLET</td>\n      <td>1996-12-14</td>\n      <td>MARIA DE LOURDES DA SILVA</td>\n      <td>107.557.909-01</td>\n      <td>3</td>\n      <td>CPF INFORMADO</td>\n      <td>24</td>\n      <td>M</td>\n      <td>99</td>\n      <td>IGNORADO</td>\n      <td>0</td>\n      <td></td>\n      <td>41</td>\n      <td>412770</td>\n      <td>2</td>\n      <td>CASO CONFIRMADO</td>\n      <td>1</td>\n      <td>LABORATORIAL</td>\n      <td>3</td>\n      <td>NAO SE APLICA</td>\n      <td>2021-01-28</td>\n      <td>NaT</td>\n      <td>5538724</td>\n      <td>1</td>\n      <td>RT-PCR</td>\n      <td>27</td>\n      <td>COVID-19 BIOLOGIA MOLECULAR</td>\n      <td>9</td>\n      <td>CORONAVIRUS (SARS-COV2)</td>\n      <td>2021-02-02</td>\n      <td>2021-02-04</td>\n      <td>2021-02-05</td>\n      <td>1</td>\n      <td>ABERTA</td>\n      <td>2</td>\n      <td>1</td>\n      <td>NOTIFICA COVID-19</td>\n      <td>41</td>\n      <td>412770</td>\n      <td>2021-02-02</td>\n      <td>2021-02-06</td>\n      <td>2021-02-05</td>\n      <td>TOLEDO</td>\n      <td>PR</td>\n      <td>20</td>\n      <td>TOLEDO</td>\n      <td>PR</td>\n      <td>WESLEIZOLET24TOLEDO</td>\n      <td>WESLEIZOLET24TOLEDO</td>\n      <td>WESLEIZOLETMARIADELOURDESDASILVA</td>\n      <td>WESLEIZOLET14121996</td>\n      <td>WESLEIZOLET05022021</td>\n      <td>1</td>\n    </tr>\n  </tbody>\n</table>\n</div>"
     },
     "metadata": {},
     "execution_count": 27
    }
   ],
   "source": [
    "casosn.loc[casosn['hash_atend']=='WESLEIZOLET24TOLEDO']"
   ]
  },
  {
   "cell_type": "code",
   "execution_count": 30,
   "metadata": {},
   "outputs": [
    {
     "output_type": "execute_result",
     "data": {
      "text/plain": [
       "              id      paciente data_nascimento                   nome_mae  \\\n",
       "1457664  2254867  WESLEI ZOLET      1996-12-14  MARIA DE LOURDES DA SILVA   \n",
       "1563111   402557  WESLEI ZOLET      1996-12-14  MARIA DE LOURDES DA SILVA   \n",
       "\n",
       "                    cpf  cod_tipo_paciente  tipo_paciente  idade sexo  \\\n",
       "1457664  107.557.909-01                  3  CPF INFORMADO     24    M   \n",
       "1563111  107.557.909-01                  3  CPF INFORMADO     23    M   \n",
       "\n",
       "         cod_raca_cor  raca_cor  cod_etnia etnia  uf_residencia  \\\n",
       "1457664            99  IGNORADO          0                   41   \n",
       "1563111             1    BRANCA          0                   41   \n",
       "\n",
       "         ibge_residencia  cod_classificacao_final classificacao_final  \\\n",
       "1457664           412770                        2     CASO CONFIRMADO   \n",
       "1563111           412770                        3     CASO DESCARTADO   \n",
       "\n",
       "         cod_criterio_classificacao criterio_classificacao  cod_evolucao  \\\n",
       "1457664                           1           LABORATORIAL             3   \n",
       "1563111                           1           LABORATORIAL             1   \n",
       "\n",
       "              evolucao data_1o_sintomas data_cura_obito co_seq_exame  \\\n",
       "1457664  NAO SE APLICA       2021-01-28             NaT      5538724   \n",
       "1563111           CURA       2020-07-10      2020-07-22            0   \n",
       "\n",
       "         cod_metodo  metodo  cod_exame                        exame  \\\n",
       "1457664           1  RT-PCR         27  COVID-19 BIOLOGIA MOLECULAR   \n",
       "1563111           1  RT-PCR         27  COVID-19 BIOLOGIA MOLECULAR   \n",
       "\n",
       "         cod_resultado                resultado data_coleta data_recebimento  \\\n",
       "1457664              9  CORONAVIRUS (SARS-COV2)  2021-02-02       2021-02-04   \n",
       "1563111             11                 NEGATIVO  2020-07-15       2020-07-18   \n",
       "\n",
       "        data_liberacao  cod_status_notificacao status_notificacao  \\\n",
       "1457664     2021-02-05                       1             ABERTA   \n",
       "1563111     2020-07-18                       3            INATIVA   \n",
       "\n",
       "         excluir_ficha  cod_origem             origem  uf_unidade_notifica  \\\n",
       "1457664              2           1  NOTIFICA COVID-19                   41   \n",
       "1563111              2           1  NOTIFICA COVID-19                   41   \n",
       "\n",
       "         ibge_unidade_notifica data_notificacao updated_at data_diagnostico  \\\n",
       "1457664                 412770       2021-02-02 2021-02-06       2021-02-05   \n",
       "1563111                 412770       2020-07-15 2020-07-22       2020-07-18   \n",
       "\n",
       "        mun_resid uf_resid  rs mun_atend uf_atend           hash_resid  \\\n",
       "1457664    TOLEDO       PR  20    TOLEDO       PR  WESLEIZOLET24TOLEDO   \n",
       "1563111    TOLEDO       PR  20    TOLEDO       PR  WESLEIZOLET23TOLEDO   \n",
       "\n",
       "                  hash_atend                          hash_mae  \\\n",
       "1457664  WESLEIZOLET24TOLEDO  WESLEIZOLETMARIADELOURDESDASILVA   \n",
       "1563111  WESLEIZOLET23TOLEDO  WESLEIZOLETMARIADELOURDESDASILVA   \n",
       "\n",
       "                   hash_nasc            hash_diag  duplicado  \n",
       "1457664  WESLEIZOLET14121996  WESLEIZOLET05022021          1  \n",
       "1563111  WESLEIZOLET14121996  WESLEIZOLET18072020          1  "
      ],
      "text/html": "<div>\n<style scoped>\n    .dataframe tbody tr th:only-of-type {\n        vertical-align: middle;\n    }\n\n    .dataframe tbody tr th {\n        vertical-align: top;\n    }\n\n    .dataframe thead th {\n        text-align: right;\n    }\n</style>\n<table border=\"1\" class=\"dataframe\">\n  <thead>\n    <tr style=\"text-align: right;\">\n      <th></th>\n      <th>id</th>\n      <th>paciente</th>\n      <th>data_nascimento</th>\n      <th>nome_mae</th>\n      <th>cpf</th>\n      <th>cod_tipo_paciente</th>\n      <th>tipo_paciente</th>\n      <th>idade</th>\n      <th>sexo</th>\n      <th>cod_raca_cor</th>\n      <th>raca_cor</th>\n      <th>cod_etnia</th>\n      <th>etnia</th>\n      <th>uf_residencia</th>\n      <th>ibge_residencia</th>\n      <th>cod_classificacao_final</th>\n      <th>classificacao_final</th>\n      <th>cod_criterio_classificacao</th>\n      <th>criterio_classificacao</th>\n      <th>cod_evolucao</th>\n      <th>evolucao</th>\n      <th>data_1o_sintomas</th>\n      <th>data_cura_obito</th>\n      <th>co_seq_exame</th>\n      <th>cod_metodo</th>\n      <th>metodo</th>\n      <th>cod_exame</th>\n      <th>exame</th>\n      <th>cod_resultado</th>\n      <th>resultado</th>\n      <th>data_coleta</th>\n      <th>data_recebimento</th>\n      <th>data_liberacao</th>\n      <th>cod_status_notificacao</th>\n      <th>status_notificacao</th>\n      <th>excluir_ficha</th>\n      <th>cod_origem</th>\n      <th>origem</th>\n      <th>uf_unidade_notifica</th>\n      <th>ibge_unidade_notifica</th>\n      <th>data_notificacao</th>\n      <th>updated_at</th>\n      <th>data_diagnostico</th>\n      <th>mun_resid</th>\n      <th>uf_resid</th>\n      <th>rs</th>\n      <th>mun_atend</th>\n      <th>uf_atend</th>\n      <th>hash_resid</th>\n      <th>hash_atend</th>\n      <th>hash_mae</th>\n      <th>hash_nasc</th>\n      <th>hash_diag</th>\n      <th>duplicado</th>\n    </tr>\n  </thead>\n  <tbody>\n    <tr>\n      <th>1457664</th>\n      <td>2254867</td>\n      <td>WESLEI ZOLET</td>\n      <td>1996-12-14</td>\n      <td>MARIA DE LOURDES DA SILVA</td>\n      <td>107.557.909-01</td>\n      <td>3</td>\n      <td>CPF INFORMADO</td>\n      <td>24</td>\n      <td>M</td>\n      <td>99</td>\n      <td>IGNORADO</td>\n      <td>0</td>\n      <td></td>\n      <td>41</td>\n      <td>412770</td>\n      <td>2</td>\n      <td>CASO CONFIRMADO</td>\n      <td>1</td>\n      <td>LABORATORIAL</td>\n      <td>3</td>\n      <td>NAO SE APLICA</td>\n      <td>2021-01-28</td>\n      <td>NaT</td>\n      <td>5538724</td>\n      <td>1</td>\n      <td>RT-PCR</td>\n      <td>27</td>\n      <td>COVID-19 BIOLOGIA MOLECULAR</td>\n      <td>9</td>\n      <td>CORONAVIRUS (SARS-COV2)</td>\n      <td>2021-02-02</td>\n      <td>2021-02-04</td>\n      <td>2021-02-05</td>\n      <td>1</td>\n      <td>ABERTA</td>\n      <td>2</td>\n      <td>1</td>\n      <td>NOTIFICA COVID-19</td>\n      <td>41</td>\n      <td>412770</td>\n      <td>2021-02-02</td>\n      <td>2021-02-06</td>\n      <td>2021-02-05</td>\n      <td>TOLEDO</td>\n      <td>PR</td>\n      <td>20</td>\n      <td>TOLEDO</td>\n      <td>PR</td>\n      <td>WESLEIZOLET24TOLEDO</td>\n      <td>WESLEIZOLET24TOLEDO</td>\n      <td>WESLEIZOLETMARIADELOURDESDASILVA</td>\n      <td>WESLEIZOLET14121996</td>\n      <td>WESLEIZOLET05022021</td>\n      <td>1</td>\n    </tr>\n    <tr>\n      <th>1563111</th>\n      <td>402557</td>\n      <td>WESLEI ZOLET</td>\n      <td>1996-12-14</td>\n      <td>MARIA DE LOURDES DA SILVA</td>\n      <td>107.557.909-01</td>\n      <td>3</td>\n      <td>CPF INFORMADO</td>\n      <td>23</td>\n      <td>M</td>\n      <td>1</td>\n      <td>BRANCA</td>\n      <td>0</td>\n      <td></td>\n      <td>41</td>\n      <td>412770</td>\n      <td>3</td>\n      <td>CASO DESCARTADO</td>\n      <td>1</td>\n      <td>LABORATORIAL</td>\n      <td>1</td>\n      <td>CURA</td>\n      <td>2020-07-10</td>\n      <td>2020-07-22</td>\n      <td>0</td>\n      <td>1</td>\n      <td>RT-PCR</td>\n      <td>27</td>\n      <td>COVID-19 BIOLOGIA MOLECULAR</td>\n      <td>11</td>\n      <td>NEGATIVO</td>\n      <td>2020-07-15</td>\n      <td>2020-07-18</td>\n      <td>2020-07-18</td>\n      <td>3</td>\n      <td>INATIVA</td>\n      <td>2</td>\n      <td>1</td>\n      <td>NOTIFICA COVID-19</td>\n      <td>41</td>\n      <td>412770</td>\n      <td>2020-07-15</td>\n      <td>2020-07-22</td>\n      <td>2020-07-18</td>\n      <td>TOLEDO</td>\n      <td>PR</td>\n      <td>20</td>\n      <td>TOLEDO</td>\n      <td>PR</td>\n      <td>WESLEIZOLET23TOLEDO</td>\n      <td>WESLEIZOLET23TOLEDO</td>\n      <td>WESLEIZOLETMARIADELOURDESDASILVA</td>\n      <td>WESLEIZOLET14121996</td>\n      <td>WESLEIZOLET18072020</td>\n      <td>1</td>\n    </tr>\n  </tbody>\n</table>\n</div>"
     },
     "metadata": {},
     "execution_count": 30
    }
   ],
   "source": [
    "casosn.loc[casosn['hash_mae']=='WESLEIZOLETMARIADELOURDESDASILVA']"
   ]
  },
  {
   "cell_type": "code",
   "execution_count": 28,
   "metadata": {},
   "outputs": [
    {
     "output_type": "execute_result",
     "data": {
      "text/plain": [
       "              id      paciente data_nascimento                   nome_mae  \\\n",
       "1457664  2254867  WESLEI ZOLET      1996-12-14  MARIA DE LOURDES DA SILVA   \n",
       "1563111   402557  WESLEI ZOLET      1996-12-14  MARIA DE LOURDES DA SILVA   \n",
       "\n",
       "                    cpf  cod_tipo_paciente  tipo_paciente  idade sexo  \\\n",
       "1457664  107.557.909-01                  3  CPF INFORMADO     24    M   \n",
       "1563111  107.557.909-01                  3  CPF INFORMADO     23    M   \n",
       "\n",
       "         cod_raca_cor  raca_cor  cod_etnia etnia  uf_residencia  \\\n",
       "1457664            99  IGNORADO          0                   41   \n",
       "1563111             1    BRANCA          0                   41   \n",
       "\n",
       "         ibge_residencia  cod_classificacao_final classificacao_final  \\\n",
       "1457664           412770                        2     CASO CONFIRMADO   \n",
       "1563111           412770                        3     CASO DESCARTADO   \n",
       "\n",
       "         cod_criterio_classificacao criterio_classificacao  cod_evolucao  \\\n",
       "1457664                           1           LABORATORIAL             3   \n",
       "1563111                           1           LABORATORIAL             1   \n",
       "\n",
       "              evolucao data_1o_sintomas data_cura_obito co_seq_exame  \\\n",
       "1457664  NAO SE APLICA       2021-01-28             NaT      5538724   \n",
       "1563111           CURA       2020-07-10      2020-07-22            0   \n",
       "\n",
       "         cod_metodo  metodo  cod_exame                        exame  \\\n",
       "1457664           1  RT-PCR         27  COVID-19 BIOLOGIA MOLECULAR   \n",
       "1563111           1  RT-PCR         27  COVID-19 BIOLOGIA MOLECULAR   \n",
       "\n",
       "         cod_resultado                resultado data_coleta data_recebimento  \\\n",
       "1457664              9  CORONAVIRUS (SARS-COV2)  2021-02-02       2021-02-04   \n",
       "1563111             11                 NEGATIVO  2020-07-15       2020-07-18   \n",
       "\n",
       "        data_liberacao  cod_status_notificacao status_notificacao  \\\n",
       "1457664     2021-02-05                       1             ABERTA   \n",
       "1563111     2020-07-18                       3            INATIVA   \n",
       "\n",
       "         excluir_ficha  cod_origem             origem  uf_unidade_notifica  \\\n",
       "1457664              2           1  NOTIFICA COVID-19                   41   \n",
       "1563111              2           1  NOTIFICA COVID-19                   41   \n",
       "\n",
       "         ibge_unidade_notifica data_notificacao updated_at data_diagnostico  \\\n",
       "1457664                 412770       2021-02-02 2021-02-06       2021-02-05   \n",
       "1563111                 412770       2020-07-15 2020-07-22       2020-07-18   \n",
       "\n",
       "        mun_resid uf_resid  rs mun_atend uf_atend           hash_resid  \\\n",
       "1457664    TOLEDO       PR  20    TOLEDO       PR  WESLEIZOLET24TOLEDO   \n",
       "1563111    TOLEDO       PR  20    TOLEDO       PR  WESLEIZOLET23TOLEDO   \n",
       "\n",
       "                  hash_atend                          hash_mae  \\\n",
       "1457664  WESLEIZOLET24TOLEDO  WESLEIZOLETMARIADELOURDESDASILVA   \n",
       "1563111  WESLEIZOLET23TOLEDO  WESLEIZOLETMARIADELOURDESDASILVA   \n",
       "\n",
       "                   hash_nasc            hash_diag  duplicado  \n",
       "1457664  WESLEIZOLET14121996  WESLEIZOLET05022021          1  \n",
       "1563111  WESLEIZOLET14121996  WESLEIZOLET18072020          1  "
      ],
      "text/html": "<div>\n<style scoped>\n    .dataframe tbody tr th:only-of-type {\n        vertical-align: middle;\n    }\n\n    .dataframe tbody tr th {\n        vertical-align: top;\n    }\n\n    .dataframe thead th {\n        text-align: right;\n    }\n</style>\n<table border=\"1\" class=\"dataframe\">\n  <thead>\n    <tr style=\"text-align: right;\">\n      <th></th>\n      <th>id</th>\n      <th>paciente</th>\n      <th>data_nascimento</th>\n      <th>nome_mae</th>\n      <th>cpf</th>\n      <th>cod_tipo_paciente</th>\n      <th>tipo_paciente</th>\n      <th>idade</th>\n      <th>sexo</th>\n      <th>cod_raca_cor</th>\n      <th>raca_cor</th>\n      <th>cod_etnia</th>\n      <th>etnia</th>\n      <th>uf_residencia</th>\n      <th>ibge_residencia</th>\n      <th>cod_classificacao_final</th>\n      <th>classificacao_final</th>\n      <th>cod_criterio_classificacao</th>\n      <th>criterio_classificacao</th>\n      <th>cod_evolucao</th>\n      <th>evolucao</th>\n      <th>data_1o_sintomas</th>\n      <th>data_cura_obito</th>\n      <th>co_seq_exame</th>\n      <th>cod_metodo</th>\n      <th>metodo</th>\n      <th>cod_exame</th>\n      <th>exame</th>\n      <th>cod_resultado</th>\n      <th>resultado</th>\n      <th>data_coleta</th>\n      <th>data_recebimento</th>\n      <th>data_liberacao</th>\n      <th>cod_status_notificacao</th>\n      <th>status_notificacao</th>\n      <th>excluir_ficha</th>\n      <th>cod_origem</th>\n      <th>origem</th>\n      <th>uf_unidade_notifica</th>\n      <th>ibge_unidade_notifica</th>\n      <th>data_notificacao</th>\n      <th>updated_at</th>\n      <th>data_diagnostico</th>\n      <th>mun_resid</th>\n      <th>uf_resid</th>\n      <th>rs</th>\n      <th>mun_atend</th>\n      <th>uf_atend</th>\n      <th>hash_resid</th>\n      <th>hash_atend</th>\n      <th>hash_mae</th>\n      <th>hash_nasc</th>\n      <th>hash_diag</th>\n      <th>duplicado</th>\n    </tr>\n  </thead>\n  <tbody>\n    <tr>\n      <th>1457664</th>\n      <td>2254867</td>\n      <td>WESLEI ZOLET</td>\n      <td>1996-12-14</td>\n      <td>MARIA DE LOURDES DA SILVA</td>\n      <td>107.557.909-01</td>\n      <td>3</td>\n      <td>CPF INFORMADO</td>\n      <td>24</td>\n      <td>M</td>\n      <td>99</td>\n      <td>IGNORADO</td>\n      <td>0</td>\n      <td></td>\n      <td>41</td>\n      <td>412770</td>\n      <td>2</td>\n      <td>CASO CONFIRMADO</td>\n      <td>1</td>\n      <td>LABORATORIAL</td>\n      <td>3</td>\n      <td>NAO SE APLICA</td>\n      <td>2021-01-28</td>\n      <td>NaT</td>\n      <td>5538724</td>\n      <td>1</td>\n      <td>RT-PCR</td>\n      <td>27</td>\n      <td>COVID-19 BIOLOGIA MOLECULAR</td>\n      <td>9</td>\n      <td>CORONAVIRUS (SARS-COV2)</td>\n      <td>2021-02-02</td>\n      <td>2021-02-04</td>\n      <td>2021-02-05</td>\n      <td>1</td>\n      <td>ABERTA</td>\n      <td>2</td>\n      <td>1</td>\n      <td>NOTIFICA COVID-19</td>\n      <td>41</td>\n      <td>412770</td>\n      <td>2021-02-02</td>\n      <td>2021-02-06</td>\n      <td>2021-02-05</td>\n      <td>TOLEDO</td>\n      <td>PR</td>\n      <td>20</td>\n      <td>TOLEDO</td>\n      <td>PR</td>\n      <td>WESLEIZOLET24TOLEDO</td>\n      <td>WESLEIZOLET24TOLEDO</td>\n      <td>WESLEIZOLETMARIADELOURDESDASILVA</td>\n      <td>WESLEIZOLET14121996</td>\n      <td>WESLEIZOLET05022021</td>\n      <td>1</td>\n    </tr>\n    <tr>\n      <th>1563111</th>\n      <td>402557</td>\n      <td>WESLEI ZOLET</td>\n      <td>1996-12-14</td>\n      <td>MARIA DE LOURDES DA SILVA</td>\n      <td>107.557.909-01</td>\n      <td>3</td>\n      <td>CPF INFORMADO</td>\n      <td>23</td>\n      <td>M</td>\n      <td>1</td>\n      <td>BRANCA</td>\n      <td>0</td>\n      <td></td>\n      <td>41</td>\n      <td>412770</td>\n      <td>3</td>\n      <td>CASO DESCARTADO</td>\n      <td>1</td>\n      <td>LABORATORIAL</td>\n      <td>1</td>\n      <td>CURA</td>\n      <td>2020-07-10</td>\n      <td>2020-07-22</td>\n      <td>0</td>\n      <td>1</td>\n      <td>RT-PCR</td>\n      <td>27</td>\n      <td>COVID-19 BIOLOGIA MOLECULAR</td>\n      <td>11</td>\n      <td>NEGATIVO</td>\n      <td>2020-07-15</td>\n      <td>2020-07-18</td>\n      <td>2020-07-18</td>\n      <td>3</td>\n      <td>INATIVA</td>\n      <td>2</td>\n      <td>1</td>\n      <td>NOTIFICA COVID-19</td>\n      <td>41</td>\n      <td>412770</td>\n      <td>2020-07-15</td>\n      <td>2020-07-22</td>\n      <td>2020-07-18</td>\n      <td>TOLEDO</td>\n      <td>PR</td>\n      <td>20</td>\n      <td>TOLEDO</td>\n      <td>PR</td>\n      <td>WESLEIZOLET23TOLEDO</td>\n      <td>WESLEIZOLET23TOLEDO</td>\n      <td>WESLEIZOLETMARIADELOURDESDASILVA</td>\n      <td>WESLEIZOLET14121996</td>\n      <td>WESLEIZOLET18072020</td>\n      <td>1</td>\n    </tr>\n  </tbody>\n</table>\n</div>"
     },
     "metadata": {},
     "execution_count": 28
    }
   ],
   "source": [
    "casosn.loc[casosn['hash_nasc']=='WESLEIZOLET14121996']"
   ]
  },
  {
   "cell_type": "code",
   "execution_count": null,
   "metadata": {},
   "outputs": [],
   "source": []
  }
 ],
 "metadata": {
  "kernelspec": {
   "display_name": "Python 3",
   "language": "python",
   "name": "python3"
  },
  "language_info": {
   "codemirror_mode": {
    "name": "ipython",
    "version": 3
   },
   "file_extension": ".py",
   "mimetype": "text/x-python",
   "name": "python",
   "nbconvert_exporter": "python",
   "pygments_lexer": "ipython3",
   "version": "3.8.5-final"
  }
 },
 "nbformat": 4,
 "nbformat_minor": 2
}