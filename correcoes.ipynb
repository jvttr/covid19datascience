{
 "cells": [
  {
   "cell_type": "code",
   "execution_count": 1,
   "metadata": {},
   "outputs": [],
   "source": [
    "from sys import exit\n",
    "import numpy as np\n",
    "import pandas as pd\n",
    "from os.path import dirname, join, isfile, isdir\n",
    "from os import makedirs\n",
    "from datetime import datetime, timedelta, date\n",
    "\n",
    "from bulletin.data.notifica import Notifica\n",
    "from bulletin.data.casos_confirmados import CasosConfirmados\n",
    "from bulletin.commom.utils import Timer, get_better_notifica\n",
    "from bulletin.commom.static import meses\n",
    "from bulletin.metabase.request import download_metabase\n",
    "\n",
    "pd.set_option('display.max_columns', None)\n",
    "\n",
    "output = join(\"output\",\"correcoes\",\"notifica\")\n",
    "\n",
    "if not isdir(output):\n",
    "    makedirs(output)\n",
    "\n",
    "timerAll = Timer()\n",
    "timer = Timer()"
   ]
  },
  {
   "cell_type": "code",
   "execution_count": 2,
   "metadata": {},
   "outputs": [
    {
     "output_type": "stream",
     "name": "stdout",
     "text": [
      "00:00:06.219\n"
     ]
    },
    {
     "output_type": "execute_result",
     "data": {
      "text/plain": [
       "(2296606, 1055528, 10936, 1227993, 2149)"
      ]
     },
     "metadata": {},
     "execution_count": 2
    }
   ],
   "source": [
    "timer.start()\n",
    "\n",
    "notifica = Notifica()\n",
    "# notifica.download_todas_notificacoes()\n",
    "notifica.read_todas_notificacoes()\n",
    "notifica.save()\n",
    "# notifica.load()\n",
    "print(timer.ftime())\n",
    "notifica.shape()"
   ]
  },
  {
   "cell_type": "code",
   "execution_count": 3,
   "metadata": {},
   "outputs": [
    {
     "output_type": "stream",
     "name": "stdout",
     "text": [
      "00:02:34.666\n"
     ]
    },
    {
     "output_type": "execute_result",
     "data": {
      "text/plain": [
       "(581195, 10614, 425720, 141444)"
      ]
     },
     "metadata": {},
     "execution_count": 3
    }
   ],
   "source": [
    "timer.start()\n",
    "casos_confirmados = CasosConfirmados()\n",
    "# casos_confirmados.read()\n",
    "# casos_confirmados.save()\n",
    "casos_confirmados.load()\n",
    "print(timer.ftime())\n",
    "casos_confirmados.shape()"
   ]
  },
  {
   "cell_type": "code",
   "execution_count": 4,
   "metadata": {},
   "outputs": [
    {
     "output_type": "execute_result",
     "data": {
      "text/plain": [
       "                                      id\n",
       "classificacao_final                     \n",
       "CASO CONFIRMADO                   556082\n",
       "CASO DESCARTADO                   782634\n",
       "CASO SUSPEITO                     950230\n",
       "IGNORADO                             648\n",
       "SINDROME GRIPAL NAO ESPECIFICADA    7012"
      ],
      "text/html": "<div>\n<style scoped>\n    .dataframe tbody tr th:only-of-type {\n        vertical-align: middle;\n    }\n\n    .dataframe tbody tr th {\n        vertical-align: top;\n    }\n\n    .dataframe thead th {\n        text-align: right;\n    }\n</style>\n<table border=\"1\" class=\"dataframe\">\n  <thead>\n    <tr style=\"text-align: right;\">\n      <th></th>\n      <th>id</th>\n    </tr>\n    <tr>\n      <th>classificacao_final</th>\n      <th></th>\n    </tr>\n  </thead>\n  <tbody>\n    <tr>\n      <th>CASO CONFIRMADO</th>\n      <td>556082</td>\n    </tr>\n    <tr>\n      <th>CASO DESCARTADO</th>\n      <td>782634</td>\n    </tr>\n    <tr>\n      <th>CASO SUSPEITO</th>\n      <td>950230</td>\n    </tr>\n    <tr>\n      <th>IGNORADO</th>\n      <td>648</td>\n    </tr>\n    <tr>\n      <th>SINDROME GRIPAL NAO ESPECIFICADA</th>\n      <td>7012</td>\n    </tr>\n  </tbody>\n</table>\n</div>"
     },
     "metadata": {},
     "execution_count": 4
    }
   ],
   "source": [
    "casosn = notifica.get_casos()\n",
    "casosn['duplicado'] = 0\n",
    "casosn['manter'] = 0\n",
    "casosc = casos_confirmados.get_casos()\n",
    "casosn.groupby('classificacao_final')[['id']].count()"
   ]
  },
  {
   "cell_type": "code",
   "execution_count": 5,
   "metadata": {},
   "outputs": [
    {
     "output_type": "stream",
     "name": "stdout",
     "text": [
      "Total de pacientes com mais de uma ocorrencia: 522056\n",
      "209922 pacientes pelo CPF que estavam com mais de uma ocorrencia\n"
     ]
    },
    {
     "output_type": "execute_result",
     "data": {
      "text/plain": [
       "                                      id\n",
       "classificacao_final                     \n",
       "CASO CONFIRMADO                    14798\n",
       "CASO DESCARTADO                   127851\n",
       "CASO SUSPEITO                     168009\n",
       "IGNORADO                              49\n",
       "SINDROME GRIPAL NAO ESPECIFICADA    1427"
      ],
      "text/html": "<div>\n<style scoped>\n    .dataframe tbody tr th:only-of-type {\n        vertical-align: middle;\n    }\n\n    .dataframe tbody tr th {\n        vertical-align: top;\n    }\n\n    .dataframe thead th {\n        text-align: right;\n    }\n</style>\n<table border=\"1\" class=\"dataframe\">\n  <thead>\n    <tr style=\"text-align: right;\">\n      <th></th>\n      <th>id</th>\n    </tr>\n    <tr>\n      <th>classificacao_final</th>\n      <th></th>\n    </tr>\n  </thead>\n  <tbody>\n    <tr>\n      <th>CASO CONFIRMADO</th>\n      <td>14798</td>\n    </tr>\n    <tr>\n      <th>CASO DESCARTADO</th>\n      <td>127851</td>\n    </tr>\n    <tr>\n      <th>CASO SUSPEITO</th>\n      <td>168009</td>\n    </tr>\n    <tr>\n      <th>IGNORADO</th>\n      <td>49</td>\n    </tr>\n    <tr>\n      <th>SINDROME GRIPAL NAO ESPECIFICADA</th>\n      <td>1427</td>\n    </tr>\n  </tbody>\n</table>\n</div>"
     },
     "metadata": {},
     "execution_count": 5
    }
   ],
   "source": [
    "casos_duplicados = casosn.loc[(casosn['cpf'].notnull()) & (casosn.duplicated('cpf',keep=False))].sort_values('cpf')\n",
    "print(f\"Total de pacientes com mais de uma ocorrencia: {len(casos_duplicados)}\")\n",
    "print(f\"{len(casos_duplicados.groupby('cpf'))} pacientes pelo CPF que estavam com mais de uma ocorrencia\")\n",
    "\n",
    "all_casos_duplicados = set()\n",
    "all_duplicados_mantidos = set()\n",
    "manter = []\n",
    "\n",
    "for hash, group in casos_duplicados.groupby('cpf'):\n",
    "    idx = get_better_notifica(group)\n",
    "    manter.append(idx)\n",
    "\n",
    "\n",
    "casos_duplicados = set(casos_duplicados.index.tolist())\n",
    "casos_duplicados = casos_duplicados - set(manter)\n",
    "\n",
    "all_duplicados_mantidos |= set(manter)\n",
    "all_casos_duplicados |= casos_duplicados\n",
    "casosn.loc[casos_duplicados].to_csv(join(output,'pacientes_duplicados_cpf.csv'), index=False)\n",
    "\n",
    "casosn.loc[casos_duplicados].groupby('classificacao_final')[['id']].count()"
   ]
  },
  {
   "cell_type": "code",
   "execution_count": 6,
   "metadata": {},
   "outputs": [],
   "source": [
    "casosn.loc[casos_duplicados, 'duplicado'] = 1 \n",
    "casosn.loc[manter, 'manter'] = 1 \n",
    "# casosn = casosn.drop(index=casos_duplicados)"
   ]
  },
  {
   "cell_type": "code",
   "execution_count": 7,
   "metadata": {},
   "outputs": [
    {
     "output_type": "stream",
     "name": "stdout",
     "text": [
      "Total de pacientes com mais de uma ocorrencia pelo nome+nome_mae: 83607\n",
      "35003 pacientes pelo nome+nome_mae que estavam com mais de uma ocorrencia\n"
     ]
    },
    {
     "output_type": "execute_result",
     "data": {
      "text/plain": [
       "                                     id\n",
       "classificacao_final                    \n",
       "CASO CONFIRMADO                    3040\n",
       "CASO DESCARTADO                   17662\n",
       "CASO SUSPEITO                     27701\n",
       "IGNORADO                              7\n",
       "SINDROME GRIPAL NAO ESPECIFICADA    194"
      ],
      "text/html": "<div>\n<style scoped>\n    .dataframe tbody tr th:only-of-type {\n        vertical-align: middle;\n    }\n\n    .dataframe tbody tr th {\n        vertical-align: top;\n    }\n\n    .dataframe thead th {\n        text-align: right;\n    }\n</style>\n<table border=\"1\" class=\"dataframe\">\n  <thead>\n    <tr style=\"text-align: right;\">\n      <th></th>\n      <th>id</th>\n    </tr>\n    <tr>\n      <th>classificacao_final</th>\n      <th></th>\n    </tr>\n  </thead>\n  <tbody>\n    <tr>\n      <th>CASO CONFIRMADO</th>\n      <td>3040</td>\n    </tr>\n    <tr>\n      <th>CASO DESCARTADO</th>\n      <td>17662</td>\n    </tr>\n    <tr>\n      <th>CASO SUSPEITO</th>\n      <td>27701</td>\n    </tr>\n    <tr>\n      <th>IGNORADO</th>\n      <td>7</td>\n    </tr>\n    <tr>\n      <th>SINDROME GRIPAL NAO ESPECIFICADA</th>\n      <td>194</td>\n    </tr>\n  </tbody>\n</table>\n</div>"
     },
     "metadata": {},
     "execution_count": 7
    }
   ],
   "source": [
    "casos_duplicados = casosn.loc[(casosn['nome_mae'].notnull()) & (casosn.duplicated('hash_mae',keep=False))].sort_values('nome_mae')\n",
    "\n",
    "print(f\"Total de pacientes com mais de uma ocorrencia pelo nome+nome_mae: {len(casos_duplicados)}\")\n",
    "print(f\"{len(casos_duplicados.groupby('nome_mae'))} pacientes pelo nome+nome_mae que estavam com mais de uma ocorrencia\")\n",
    "\n",
    "manter = []\n",
    "for hash, group in casos_duplicados.groupby('nome_mae'):\n",
    "    idx = get_better_notifica(group)\n",
    "    manter.append(idx)\n",
    "\n",
    "\n",
    "casos_duplicados = set(casos_duplicados.index.tolist())\n",
    "casos_duplicados = casos_duplicados - set(manter)\n",
    "\n",
    "all_duplicados_mantidos |= set(manter)\n",
    "all_casos_duplicados |= casos_duplicados\n",
    "casosn.loc[casos_duplicados].to_csv(join(output,'pacientes_duplicados_nome_mae.csv'), index=False)\n",
    "\n",
    "casosn.loc[casos_duplicados].groupby('classificacao_final')[['id']].count()"
   ]
  },
  {
   "cell_type": "code",
   "execution_count": 8,
   "metadata": {},
   "outputs": [],
   "source": [
    "casosn.loc[casos_duplicados, 'duplicado'] = 1 \n",
    "casosn.loc[manter, 'manter'] = 1 \n",
    "# casosn = casosn.drop(index=casos_duplicados)"
   ]
  },
  {
   "cell_type": "code",
   "execution_count": 9,
   "metadata": {},
   "outputs": [
    {
     "output_type": "stream",
     "name": "stdout",
     "text": [
      "Total de pacientes com mais de uma ocorrencia pelo data_nascimento: 20218\n",
      "9982 pacientes pelo data_nascimento que estavam com mais de uma ocorrencia\n"
     ]
    },
    {
     "output_type": "execute_result",
     "data": {
      "text/plain": [
       "                                    id\n",
       "classificacao_final                   \n",
       "CASO CONFIRMADO                    883\n",
       "CASO DESCARTADO                   2706\n",
       "CASO SUSPEITO                     6608\n",
       "IGNORADO                             9\n",
       "SINDROME GRIPAL NAO ESPECIFICADA    30"
      ],
      "text/html": "<div>\n<style scoped>\n    .dataframe tbody tr th:only-of-type {\n        vertical-align: middle;\n    }\n\n    .dataframe tbody tr th {\n        vertical-align: top;\n    }\n\n    .dataframe thead th {\n        text-align: right;\n    }\n</style>\n<table border=\"1\" class=\"dataframe\">\n  <thead>\n    <tr style=\"text-align: right;\">\n      <th></th>\n      <th>id</th>\n    </tr>\n    <tr>\n      <th>classificacao_final</th>\n      <th></th>\n    </tr>\n  </thead>\n  <tbody>\n    <tr>\n      <th>CASO CONFIRMADO</th>\n      <td>883</td>\n    </tr>\n    <tr>\n      <th>CASO DESCARTADO</th>\n      <td>2706</td>\n    </tr>\n    <tr>\n      <th>CASO SUSPEITO</th>\n      <td>6608</td>\n    </tr>\n    <tr>\n      <th>IGNORADO</th>\n      <td>9</td>\n    </tr>\n    <tr>\n      <th>SINDROME GRIPAL NAO ESPECIFICADA</th>\n      <td>30</td>\n    </tr>\n  </tbody>\n</table>\n</div>"
     },
     "metadata": {},
     "execution_count": 9
    }
   ],
   "source": [
    "casos_duplicados = casosn.loc[(casosn['hash_nasc'].notnull()) & (casosn.duplicated('hash_nasc',keep=False))].sort_values('data_nascimento')\n",
    "\n",
    "print(f\"Total de pacientes com mais de uma ocorrencia pelo data_nascimento: {len(casos_duplicados)}\")\n",
    "print(f\"{len(casos_duplicados.groupby('hash_nasc'))} pacientes pelo data_nascimento que estavam com mais de uma ocorrencia\")\n",
    "\n",
    "manter = []\n",
    "for hash, group in casos_duplicados.groupby('hash_nasc'):\n",
    "    idx = get_better_notifica(group)\n",
    "    manter.append(idx)\n",
    "\n",
    "\n",
    "casos_duplicados = set(casos_duplicados.index.tolist())\n",
    "casos_duplicados = casos_duplicados - set(manter)\n",
    "\n",
    "all_duplicados_mantidos |= set(manter)\n",
    "all_casos_duplicados |= casos_duplicados\n",
    "casosn.loc[casos_duplicados].to_csv(join(output,'pacientes_duplicados_data_nascimento.csv'), index=False)\n",
    "\n",
    "casosn.loc[casos_duplicados].groupby('classificacao_final')[['id']].count()"
   ]
  },
  {
   "cell_type": "code",
   "execution_count": 10,
   "metadata": {},
   "outputs": [],
   "source": [
    "casosn.loc[casos_duplicados, 'duplicado'] = 1 \n",
    "casosn.loc[manter, 'manter'] = 1 \n",
    "# casosn = casosn.drop(index=casos_duplicados)"
   ]
  },
  {
   "cell_type": "code",
   "execution_count": 11,
   "metadata": {},
   "outputs": [
    {
     "output_type": "stream",
     "name": "stdout",
     "text": [
      "Total de pacientes com mais de uma ocorrencia pelo hash_resid: 2660\n",
      "1302 pacientes pelo hash_resid que estavam com mais de uma ocorrencia\n"
     ]
    },
    {
     "output_type": "execute_result",
     "data": {
      "text/plain": [
       "                                    id\n",
       "classificacao_final                   \n",
       "CASO CONFIRMADO                     62\n",
       "CASO DESCARTADO                    241\n",
       "CASO SUSPEITO                     1054\n",
       "SINDROME GRIPAL NAO ESPECIFICADA     1"
      ],
      "text/html": "<div>\n<style scoped>\n    .dataframe tbody tr th:only-of-type {\n        vertical-align: middle;\n    }\n\n    .dataframe tbody tr th {\n        vertical-align: top;\n    }\n\n    .dataframe thead th {\n        text-align: right;\n    }\n</style>\n<table border=\"1\" class=\"dataframe\">\n  <thead>\n    <tr style=\"text-align: right;\">\n      <th></th>\n      <th>id</th>\n    </tr>\n    <tr>\n      <th>classificacao_final</th>\n      <th></th>\n    </tr>\n  </thead>\n  <tbody>\n    <tr>\n      <th>CASO CONFIRMADO</th>\n      <td>62</td>\n    </tr>\n    <tr>\n      <th>CASO DESCARTADO</th>\n      <td>241</td>\n    </tr>\n    <tr>\n      <th>CASO SUSPEITO</th>\n      <td>1054</td>\n    </tr>\n    <tr>\n      <th>SINDROME GRIPAL NAO ESPECIFICADA</th>\n      <td>1</td>\n    </tr>\n  </tbody>\n</table>\n</div>"
     },
     "metadata": {},
     "execution_count": 11
    }
   ],
   "source": [
    "casos_duplicados = casosn.loc[(casosn['hash_resid'].notnull()) & (casosn.duplicated('hash_resid',keep=False))].sort_values('paciente')\n",
    "\n",
    "print(f\"Total de pacientes com mais de uma ocorrencia pelo hash_resid: {len(casos_duplicados)}\")\n",
    "print(f\"{len(casos_duplicados.groupby('hash_resid'))} pacientes pelo hash_resid que estavam com mais de uma ocorrencia\")\n",
    "\n",
    "manter = []\n",
    "for hash, group in casos_duplicados.groupby('hash_resid'):\n",
    "    idx = get_better_notifica(group)\n",
    "    manter.append(idx)\n",
    "\n",
    "\n",
    "casos_duplicados = set(casos_duplicados.index.tolist())\n",
    "casos_duplicados = casos_duplicados - set(manter)\n",
    "\n",
    "all_duplicados_mantidos |= set(manter)\n",
    "all_casos_duplicados |= casos_duplicados\n",
    "casosn.loc[casos_duplicados].to_csv(join(output,'pacientes_duplicados_nome_idade_mun_resid.csv'), index=False)\n",
    "\n",
    "casosn.loc[casos_duplicados].groupby('classificacao_final')[['id']].count()"
   ]
  },
  {
   "cell_type": "code",
   "execution_count": 12,
   "metadata": {},
   "outputs": [],
   "source": [
    "casosn.loc[casos_duplicados, 'duplicado'] = 1 \n",
    "casosn.loc[manter, 'manter'] = 1 \n",
    "# casosn = casosn.drop(index=casos_duplicados)"
   ]
  },
  {
   "cell_type": "code",
   "execution_count": 13,
   "metadata": {},
   "outputs": [
    {
     "output_type": "stream",
     "name": "stdout",
     "text": [
      "Total de pacientes com mais de uma ocorrencia pelo hash_atend: 385\n",
      "192 pacientes pelo hash_atend que estavam com mais de uma ocorrencia\n"
     ]
    },
    {
     "output_type": "execute_result",
     "data": {
      "text/plain": [
       "                      id\n",
       "classificacao_final     \n",
       "CASO CONFIRMADO       16\n",
       "CASO DESCARTADO       31\n",
       "CASO SUSPEITO        144\n",
       "IGNORADO               2"
      ],
      "text/html": "<div>\n<style scoped>\n    .dataframe tbody tr th:only-of-type {\n        vertical-align: middle;\n    }\n\n    .dataframe tbody tr th {\n        vertical-align: top;\n    }\n\n    .dataframe thead th {\n        text-align: right;\n    }\n</style>\n<table border=\"1\" class=\"dataframe\">\n  <thead>\n    <tr style=\"text-align: right;\">\n      <th></th>\n      <th>id</th>\n    </tr>\n    <tr>\n      <th>classificacao_final</th>\n      <th></th>\n    </tr>\n  </thead>\n  <tbody>\n    <tr>\n      <th>CASO CONFIRMADO</th>\n      <td>16</td>\n    </tr>\n    <tr>\n      <th>CASO DESCARTADO</th>\n      <td>31</td>\n    </tr>\n    <tr>\n      <th>CASO SUSPEITO</th>\n      <td>144</td>\n    </tr>\n    <tr>\n      <th>IGNORADO</th>\n      <td>2</td>\n    </tr>\n  </tbody>\n</table>\n</div>"
     },
     "metadata": {},
     "execution_count": 13
    }
   ],
   "source": [
    "casos_duplicados = casosn.loc[(casosn['hash_atend'].notnull()) & (casosn.duplicated('hash_atend',keep=False))].sort_values('paciente')\n",
    "\n",
    "print(f\"Total de pacientes com mais de uma ocorrencia pelo hash_atend: {len(casos_duplicados)}\")\n",
    "print(f\"{len(casos_duplicados.groupby('hash_atend'))} pacientes pelo hash_atend que estavam com mais de uma ocorrencia\")\n",
    "\n",
    "manter = []\n",
    "for hash, group in casos_duplicados.groupby('hash_atend'):\n",
    "    idx = get_better_notifica(group)\n",
    "    manter.append(idx)\n",
    "\n",
    "\n",
    "casos_duplicados = set(casos_duplicados.index.tolist())\n",
    "casos_duplicados = casos_duplicados - set(manter)\n",
    "\n",
    "all_duplicados_mantidos |= set(manter)\n",
    "all_casos_duplicados |= casos_duplicados\n",
    "casosn.loc[casos_duplicados].to_csv(join(output,'pacientes_duplicados_nome_idade_mun_atend.csv'), index=False)\n",
    "\n",
    "casosn.loc[casos_duplicados].groupby('classificacao_final')[['id']].count()"
   ]
  },
  {
   "cell_type": "code",
   "execution_count": 14,
   "metadata": {},
   "outputs": [],
   "source": [
    "casosn.loc[casos_duplicados, 'duplicado'] = 1 \n",
    "casosn.loc[manter, 'manter'] = 1 \n",
    "# casosn = casosn.drop(index=casos_duplicados)"
   ]
  },
  {
   "cell_type": "code",
   "execution_count": 15,
   "metadata": {},
   "outputs": [
    {
     "output_type": "stream",
     "name": "stdout",
     "text": [
      "Total de pacientes com mais de uma ocorrencia pelo hash_diag: 6847\n",
      "3295 pacientes pelo hash_diag que estavam com mais de uma ocorrencia\n"
     ]
    },
    {
     "output_type": "execute_result",
     "data": {
      "text/plain": [
       "                                    id\n",
       "classificacao_final                   \n",
       "CASO CONFIRMADO                    499\n",
       "CASO DESCARTADO                   1303\n",
       "CASO SUSPEITO                     1737\n",
       "IGNORADO                             2\n",
       "SINDROME GRIPAL NAO ESPECIFICADA    11"
      ],
      "text/html": "<div>\n<style scoped>\n    .dataframe tbody tr th:only-of-type {\n        vertical-align: middle;\n    }\n\n    .dataframe tbody tr th {\n        vertical-align: top;\n    }\n\n    .dataframe thead th {\n        text-align: right;\n    }\n</style>\n<table border=\"1\" class=\"dataframe\">\n  <thead>\n    <tr style=\"text-align: right;\">\n      <th></th>\n      <th>id</th>\n    </tr>\n    <tr>\n      <th>classificacao_final</th>\n      <th></th>\n    </tr>\n  </thead>\n  <tbody>\n    <tr>\n      <th>CASO CONFIRMADO</th>\n      <td>499</td>\n    </tr>\n    <tr>\n      <th>CASO DESCARTADO</th>\n      <td>1303</td>\n    </tr>\n    <tr>\n      <th>CASO SUSPEITO</th>\n      <td>1737</td>\n    </tr>\n    <tr>\n      <th>IGNORADO</th>\n      <td>2</td>\n    </tr>\n    <tr>\n      <th>SINDROME GRIPAL NAO ESPECIFICADA</th>\n      <td>11</td>\n    </tr>\n  </tbody>\n</table>\n</div>"
     },
     "metadata": {},
     "execution_count": 15
    }
   ],
   "source": [
    "casos_duplicados = casosn.loc[(casosn['hash_diag'].notnull()) & (casosn.duplicated('hash_diag',keep=False))].sort_values('paciente')\n",
    "\n",
    "print(f\"Total de pacientes com mais de uma ocorrencia pelo hash_diag: {len(casos_duplicados)}\")\n",
    "print(f\"{len(casos_duplicados.groupby('hash_diag'))} pacientes pelo hash_diag que estavam com mais de uma ocorrencia\")\n",
    "\n",
    "manter = []\n",
    "for hash, group in casos_duplicados.groupby('hash_diag'):\n",
    "    idx = get_better_notifica(group)\n",
    "    manter.append(idx)\n",
    "\n",
    "\n",
    "casos_duplicados = set(casos_duplicados.index.tolist())\n",
    "casos_duplicados = casos_duplicados - set(manter)\n",
    "\n",
    "all_duplicados_mantidos |= set(manter)\n",
    "all_casos_duplicados |= casos_duplicados\n",
    "casosn.loc[casos_duplicados].to_csv(join(output,'pacientes_duplicados_hash_diag.csv'), index=False)\n",
    "\n",
    "casosn.loc[casos_duplicados].groupby('classificacao_final')[['id']].count()"
   ]
  },
  {
   "cell_type": "code",
   "execution_count": 18,
   "metadata": {},
   "outputs": [],
   "source": [
    "casosn.loc[casos_duplicados, 'duplicado'] = 1 \n",
    "casosn.loc[manter, 'manter'] = 1 \n",
    "# casosn = casosn.drop(index=casos_duplicados)"
   ]
  },
  {
   "cell_type": "code",
   "execution_count": 30,
   "metadata": {},
   "outputs": [],
   "source": [
    "notifica.save(casosn)"
   ]
  },
  {
   "cell_type": "code",
   "execution_count": 19,
   "metadata": {},
   "outputs": [
    {
     "output_type": "stream",
     "name": "stdout",
     "text": [
      "Das 2296606 notificações baixadas, 376077 (376077) foram excluidas por serem do mesmo paciente, sendo mantida a que melhor pontuou nos critérios. Sendo assim, o novo total de notificações existente é de 1920529\n"
     ]
    }
   ],
   "source": [
    "print(f\"Das {notifica.shape()[0]} notificações baixadas, {notifica.shape()[0] - casosn.shape[0]} ({len(all_casos_duplicados)}) foram excluidas por serem do mesmo paciente, sendo mantida a que melhor pontuou nos critérios. Sendo assim, o novo total de notificações existente é de {casosn.shape[0]}\")\n",
    "allcasosn = notifica.get_casos()\n",
    "allcasosn.loc[all_casos_duplicados,'id'].to_csv(join(output,'casos_duplicados_removidos.csv'), index=False)\n",
    "allcasosn.loc[all_duplicados_mantidos,'id'].to_csv(join(output,'casos_duplicados_mantidos.csv'), index=False)"
   ]
  },
  {
   "cell_type": "code",
   "execution_count": 20,
   "metadata": {},
   "outputs": [
    {
     "output_type": "execute_result",
     "data": {
      "text/plain": [
       "(30519, 23)"
      ]
     },
     "metadata": {},
     "execution_count": 20
    }
   ],
   "source": [
    "idx_casos_confirmados = casosc[casosc['hash_resid'].isin(casosn['hash_resid'])].index.tolist()\n",
    "idx_casos_confirmados += casosc[casosc['hash_atend'].isin(casosn['hash_atend'])].index.tolist()\n",
    "idx_casos_confirmados += casosc[casosc['hash_diag'].isin(casosn['hash_diag'])].index.tolist()\n",
    "\n",
    "idx_casos_confirmados = set(idx_casos_confirmados)\n",
    "casos_confirmados_nao_notifica = casosc.loc[ set(casosc.index.tolist()) - idx_casos_confirmados ].sort_values('ordem')\n",
    "casos_confirmados_nao_notifica.to_excel(join(output,'casos_confirmados_nao_notifica.xlsx'),index=False)\n",
    "casos_confirmados_nao_notifica.shape"
   ]
  },
  {
   "cell_type": "code",
   "execution_count": 21,
   "metadata": {
    "tags": []
   },
   "outputs": [
    {
     "output_type": "execute_result",
     "data": {
      "text/plain": [
       "(543769, 55)"
      ]
     },
     "metadata": {},
     "execution_count": 21
    }
   ],
   "source": [
    "idx_casos_notifica = casosn[casosn['hash_resid'].isin(casosc['hash_resid'])].index.tolist()\n",
    "idx_casos_notifica += casosn[casosn['hash_atend'].isin(casosc['hash_atend'])].index.tolist()\n",
    "idx_casos_notifica += casosn[casosn['hash_diag'].isin(casosc['hash_diag'])].index.tolist()\n",
    "\n",
    "idx_casos_notifica = set(idx_casos_notifica)\n",
    "casos_confirmados_notifica = casosn.loc[ idx_casos_notifica ].sort_values('id')\n",
    "casos_confirmados_notifica.to_excel(join(output,'casos_confirmados_notifica.xlsx'),index=False)\n",
    "casos_confirmados_notifica.shape"
   ]
  },
  {
   "cell_type": "code",
   "execution_count": 22,
   "metadata": {},
   "outputs": [],
   "source": [
    "notifica_nao_casos_confirmados = casosn.loc[set(casosn.index.tolist()) - set(idx_casos_notifica)]"
   ]
  },
  {
   "cell_type": "code",
   "execution_count": 23,
   "metadata": {},
   "outputs": [
    {
     "output_type": "execute_result",
     "data": {
      "text/plain": [
       "         id\n",
       "jan     543\n",
       "fev    1881\n",
       "mar      39\n",
       "abril   105\n",
       "mai     138\n",
       "jun     436\n",
       "jul     492\n",
       "ago     375\n",
       "set     196\n",
       "out     147\n",
       "nov     240\n",
       "dez     400"
      ],
      "text/html": "<div>\n<style scoped>\n    .dataframe tbody tr th:only-of-type {\n        vertical-align: middle;\n    }\n\n    .dataframe tbody tr th {\n        vertical-align: top;\n    }\n\n    .dataframe thead th {\n        text-align: right;\n    }\n</style>\n<table border=\"1\" class=\"dataframe\">\n  <thead>\n    <tr style=\"text-align: right;\">\n      <th></th>\n      <th>id</th>\n    </tr>\n  </thead>\n  <tbody>\n    <tr>\n      <th>jan</th>\n      <td>543</td>\n    </tr>\n    <tr>\n      <th>fev</th>\n      <td>1881</td>\n    </tr>\n    <tr>\n      <th>mar</th>\n      <td>39</td>\n    </tr>\n    <tr>\n      <th>abril</th>\n      <td>105</td>\n    </tr>\n    <tr>\n      <th>mai</th>\n      <td>138</td>\n    </tr>\n    <tr>\n      <th>jun</th>\n      <td>436</td>\n    </tr>\n    <tr>\n      <th>jul</th>\n      <td>492</td>\n    </tr>\n    <tr>\n      <th>ago</th>\n      <td>375</td>\n    </tr>\n    <tr>\n      <th>set</th>\n      <td>196</td>\n    </tr>\n    <tr>\n      <th>out</th>\n      <td>147</td>\n    </tr>\n    <tr>\n      <th>nov</th>\n      <td>240</td>\n    </tr>\n    <tr>\n      <th>dez</th>\n      <td>400</td>\n    </tr>\n  </tbody>\n</table>\n</div>"
     },
     "metadata": {},
     "execution_count": 23
    }
   ],
   "source": [
    "notifica_nao_casos_confirmados = notifica_nao_casos_confirmados.loc[notifica_nao_casos_confirmados['cod_classificacao_final'] == 2]\n",
    "notifica_nao_casos_confirmados = notifica_nao_casos_confirmados.loc[notifica_nao_casos_confirmados['cod_status_notificacao'].isin([1,2])]\n",
    "\n",
    "notifica_nao_casos_confirmados['month'] = notifica_nao_casos_confirmados.apply(lambda x: x['data_notificacao'].month, axis=1)\n",
    "nnccm = notifica_nao_casos_confirmados.groupby(by='month')[['id']].count()\n",
    "nnccm.index = [ meses[int(x)-1] for x in nnccm.index] \n",
    "nnccm"
   ]
  },
  {
   "cell_type": "code",
   "execution_count": 24,
   "metadata": {},
   "outputs": [
    {
     "output_type": "execute_result",
     "data": {
      "text/plain": [
       "(4999, 56)"
      ]
     },
     "metadata": {},
     "execution_count": 24
    }
   ],
   "source": [
    "notifica_nao_casos_confirmados.to_excel(join(output,'notifica_nao_casos_confirmados.xlsx'), index=False)\n",
    "notifica_nao_casos_confirmados.shape"
   ]
  },
  {
   "cell_type": "code",
   "execution_count": 25,
   "metadata": {},
   "outputs": [
    {
     "output_type": "execute_result",
     "data": {
      "text/plain": [
       "              id      paciente data_nascimento                   nome_mae  \\\n",
       "1485572  2254867  WESLEI ZOLET      1996-12-14  MARIA DE LOURDES DA SILVA   \n",
       "\n",
       "                    cpf  cod_tipo_paciente  tipo_paciente  idade sexo  \\\n",
       "1485572  107.557.909-01                  3  CPF INFORMADO     24    M   \n",
       "\n",
       "         cod_raca_cor  raca_cor  cod_etnia etnia  uf_residencia  \\\n",
       "1485572            99  IGNORADO          0                   41   \n",
       "\n",
       "         ibge_residencia  cod_classificacao_final classificacao_final  \\\n",
       "1485572           412770                        2     CASO CONFIRMADO   \n",
       "\n",
       "         cod_criterio_classificacao criterio_classificacao  cod_evolucao  \\\n",
       "1485572                           1           LABORATORIAL             1   \n",
       "\n",
       "        evolucao data_1o_sintomas data_cura_obito co_seq_exame  cod_metodo  \\\n",
       "1485572     CURA       2021-01-28      2021-02-10      5538724           1   \n",
       "\n",
       "         metodo  cod_exame                        exame  cod_resultado  \\\n",
       "1485572  RT-PCR         27  COVID-19 BIOLOGIA MOLECULAR              9   \n",
       "\n",
       "                       resultado data_coleta data_recebimento data_liberacao  \\\n",
       "1485572  CORONAVIRUS (SARS-COV2)  2021-02-02       2021-02-04     2021-02-05   \n",
       "\n",
       "         cod_status_notificacao status_notificacao  excluir_ficha  cod_origem  \\\n",
       "1485572                       2          ENCERRADA              2           1   \n",
       "\n",
       "                    origem  uf_unidade_notifica  ibge_unidade_notifica  \\\n",
       "1485572  NOTIFICA COVID-19                   41                 412770   \n",
       "\n",
       "        data_notificacao updated_at data_diagnostico mun_resid uf_resid  rs  \\\n",
       "1485572       2021-02-02 2021-02-08       2021-02-05    TOLEDO       PR  20   \n",
       "\n",
       "        mun_atend uf_atend           hash_resid           hash_atend  \\\n",
       "1485572    TOLEDO       PR  WESLEIZOLET24TOLEDO  WESLEIZOLET24TOLEDO   \n",
       "\n",
       "                                 hash_mae            hash_nasc  \\\n",
       "1485572  WESLEIZOLETMARIADELOURDESDASILVA  WESLEIZOLET14121996   \n",
       "\n",
       "                   hash_diag  duplicado  mantido  \n",
       "1485572  WESLEIZOLET05022021          0        0  "
      ],
      "text/html": "<div>\n<style scoped>\n    .dataframe tbody tr th:only-of-type {\n        vertical-align: middle;\n    }\n\n    .dataframe tbody tr th {\n        vertical-align: top;\n    }\n\n    .dataframe thead th {\n        text-align: right;\n    }\n</style>\n<table border=\"1\" class=\"dataframe\">\n  <thead>\n    <tr style=\"text-align: right;\">\n      <th></th>\n      <th>id</th>\n      <th>paciente</th>\n      <th>data_nascimento</th>\n      <th>nome_mae</th>\n      <th>cpf</th>\n      <th>cod_tipo_paciente</th>\n      <th>tipo_paciente</th>\n      <th>idade</th>\n      <th>sexo</th>\n      <th>cod_raca_cor</th>\n      <th>raca_cor</th>\n      <th>cod_etnia</th>\n      <th>etnia</th>\n      <th>uf_residencia</th>\n      <th>ibge_residencia</th>\n      <th>cod_classificacao_final</th>\n      <th>classificacao_final</th>\n      <th>cod_criterio_classificacao</th>\n      <th>criterio_classificacao</th>\n      <th>cod_evolucao</th>\n      <th>evolucao</th>\n      <th>data_1o_sintomas</th>\n      <th>data_cura_obito</th>\n      <th>co_seq_exame</th>\n      <th>cod_metodo</th>\n      <th>metodo</th>\n      <th>cod_exame</th>\n      <th>exame</th>\n      <th>cod_resultado</th>\n      <th>resultado</th>\n      <th>data_coleta</th>\n      <th>data_recebimento</th>\n      <th>data_liberacao</th>\n      <th>cod_status_notificacao</th>\n      <th>status_notificacao</th>\n      <th>excluir_ficha</th>\n      <th>cod_origem</th>\n      <th>origem</th>\n      <th>uf_unidade_notifica</th>\n      <th>ibge_unidade_notifica</th>\n      <th>data_notificacao</th>\n      <th>updated_at</th>\n      <th>data_diagnostico</th>\n      <th>mun_resid</th>\n      <th>uf_resid</th>\n      <th>rs</th>\n      <th>mun_atend</th>\n      <th>uf_atend</th>\n      <th>hash_resid</th>\n      <th>hash_atend</th>\n      <th>hash_mae</th>\n      <th>hash_nasc</th>\n      <th>hash_diag</th>\n      <th>duplicado</th>\n      <th>mantido</th>\n    </tr>\n  </thead>\n  <tbody>\n    <tr>\n      <th>1485572</th>\n      <td>2254867</td>\n      <td>WESLEI ZOLET</td>\n      <td>1996-12-14</td>\n      <td>MARIA DE LOURDES DA SILVA</td>\n      <td>107.557.909-01</td>\n      <td>3</td>\n      <td>CPF INFORMADO</td>\n      <td>24</td>\n      <td>M</td>\n      <td>99</td>\n      <td>IGNORADO</td>\n      <td>0</td>\n      <td></td>\n      <td>41</td>\n      <td>412770</td>\n      <td>2</td>\n      <td>CASO CONFIRMADO</td>\n      <td>1</td>\n      <td>LABORATORIAL</td>\n      <td>1</td>\n      <td>CURA</td>\n      <td>2021-01-28</td>\n      <td>2021-02-10</td>\n      <td>5538724</td>\n      <td>1</td>\n      <td>RT-PCR</td>\n      <td>27</td>\n      <td>COVID-19 BIOLOGIA MOLECULAR</td>\n      <td>9</td>\n      <td>CORONAVIRUS (SARS-COV2)</td>\n      <td>2021-02-02</td>\n      <td>2021-02-04</td>\n      <td>2021-02-05</td>\n      <td>2</td>\n      <td>ENCERRADA</td>\n      <td>2</td>\n      <td>1</td>\n      <td>NOTIFICA COVID-19</td>\n      <td>41</td>\n      <td>412770</td>\n      <td>2021-02-02</td>\n      <td>2021-02-08</td>\n      <td>2021-02-05</td>\n      <td>TOLEDO</td>\n      <td>PR</td>\n      <td>20</td>\n      <td>TOLEDO</td>\n      <td>PR</td>\n      <td>WESLEIZOLET24TOLEDO</td>\n      <td>WESLEIZOLET24TOLEDO</td>\n      <td>WESLEIZOLETMARIADELOURDESDASILVA</td>\n      <td>WESLEIZOLET14121996</td>\n      <td>WESLEIZOLET05022021</td>\n      <td>0</td>\n      <td>0</td>\n    </tr>\n  </tbody>\n</table>\n</div>"
     },
     "metadata": {},
     "execution_count": 25
    }
   ],
   "source": [
    "casosn.loc[casosn['hash_diag']=='WESLEIZOLET05022021']"
   ]
  },
  {
   "cell_type": "code",
   "execution_count": 26,
   "metadata": {},
   "outputs": [
    {
     "output_type": "execute_result",
     "data": {
      "text/plain": [
       "              id      paciente data_nascimento                   nome_mae  \\\n",
       "1485572  2254867  WESLEI ZOLET      1996-12-14  MARIA DE LOURDES DA SILVA   \n",
       "\n",
       "                    cpf  cod_tipo_paciente  tipo_paciente  idade sexo  \\\n",
       "1485572  107.557.909-01                  3  CPF INFORMADO     24    M   \n",
       "\n",
       "         cod_raca_cor  raca_cor  cod_etnia etnia  uf_residencia  \\\n",
       "1485572            99  IGNORADO          0                   41   \n",
       "\n",
       "         ibge_residencia  cod_classificacao_final classificacao_final  \\\n",
       "1485572           412770                        2     CASO CONFIRMADO   \n",
       "\n",
       "         cod_criterio_classificacao criterio_classificacao  cod_evolucao  \\\n",
       "1485572                           1           LABORATORIAL             1   \n",
       "\n",
       "        evolucao data_1o_sintomas data_cura_obito co_seq_exame  cod_metodo  \\\n",
       "1485572     CURA       2021-01-28      2021-02-10      5538724           1   \n",
       "\n",
       "         metodo  cod_exame                        exame  cod_resultado  \\\n",
       "1485572  RT-PCR         27  COVID-19 BIOLOGIA MOLECULAR              9   \n",
       "\n",
       "                       resultado data_coleta data_recebimento data_liberacao  \\\n",
       "1485572  CORONAVIRUS (SARS-COV2)  2021-02-02       2021-02-04     2021-02-05   \n",
       "\n",
       "         cod_status_notificacao status_notificacao  excluir_ficha  cod_origem  \\\n",
       "1485572                       2          ENCERRADA              2           1   \n",
       "\n",
       "                    origem  uf_unidade_notifica  ibge_unidade_notifica  \\\n",
       "1485572  NOTIFICA COVID-19                   41                 412770   \n",
       "\n",
       "        data_notificacao updated_at data_diagnostico mun_resid uf_resid  rs  \\\n",
       "1485572       2021-02-02 2021-02-08       2021-02-05    TOLEDO       PR  20   \n",
       "\n",
       "        mun_atend uf_atend           hash_resid           hash_atend  \\\n",
       "1485572    TOLEDO       PR  WESLEIZOLET24TOLEDO  WESLEIZOLET24TOLEDO   \n",
       "\n",
       "                                 hash_mae            hash_nasc  \\\n",
       "1485572  WESLEIZOLETMARIADELOURDESDASILVA  WESLEIZOLET14121996   \n",
       "\n",
       "                   hash_diag  duplicado  mantido  \n",
       "1485572  WESLEIZOLET05022021          0        0  "
      ],
      "text/html": "<div>\n<style scoped>\n    .dataframe tbody tr th:only-of-type {\n        vertical-align: middle;\n    }\n\n    .dataframe tbody tr th {\n        vertical-align: top;\n    }\n\n    .dataframe thead th {\n        text-align: right;\n    }\n</style>\n<table border=\"1\" class=\"dataframe\">\n  <thead>\n    <tr style=\"text-align: right;\">\n      <th></th>\n      <th>id</th>\n      <th>paciente</th>\n      <th>data_nascimento</th>\n      <th>nome_mae</th>\n      <th>cpf</th>\n      <th>cod_tipo_paciente</th>\n      <th>tipo_paciente</th>\n      <th>idade</th>\n      <th>sexo</th>\n      <th>cod_raca_cor</th>\n      <th>raca_cor</th>\n      <th>cod_etnia</th>\n      <th>etnia</th>\n      <th>uf_residencia</th>\n      <th>ibge_residencia</th>\n      <th>cod_classificacao_final</th>\n      <th>classificacao_final</th>\n      <th>cod_criterio_classificacao</th>\n      <th>criterio_classificacao</th>\n      <th>cod_evolucao</th>\n      <th>evolucao</th>\n      <th>data_1o_sintomas</th>\n      <th>data_cura_obito</th>\n      <th>co_seq_exame</th>\n      <th>cod_metodo</th>\n      <th>metodo</th>\n      <th>cod_exame</th>\n      <th>exame</th>\n      <th>cod_resultado</th>\n      <th>resultado</th>\n      <th>data_coleta</th>\n      <th>data_recebimento</th>\n      <th>data_liberacao</th>\n      <th>cod_status_notificacao</th>\n      <th>status_notificacao</th>\n      <th>excluir_ficha</th>\n      <th>cod_origem</th>\n      <th>origem</th>\n      <th>uf_unidade_notifica</th>\n      <th>ibge_unidade_notifica</th>\n      <th>data_notificacao</th>\n      <th>updated_at</th>\n      <th>data_diagnostico</th>\n      <th>mun_resid</th>\n      <th>uf_resid</th>\n      <th>rs</th>\n      <th>mun_atend</th>\n      <th>uf_atend</th>\n      <th>hash_resid</th>\n      <th>hash_atend</th>\n      <th>hash_mae</th>\n      <th>hash_nasc</th>\n      <th>hash_diag</th>\n      <th>duplicado</th>\n      <th>mantido</th>\n    </tr>\n  </thead>\n  <tbody>\n    <tr>\n      <th>1485572</th>\n      <td>2254867</td>\n      <td>WESLEI ZOLET</td>\n      <td>1996-12-14</td>\n      <td>MARIA DE LOURDES DA SILVA</td>\n      <td>107.557.909-01</td>\n      <td>3</td>\n      <td>CPF INFORMADO</td>\n      <td>24</td>\n      <td>M</td>\n      <td>99</td>\n      <td>IGNORADO</td>\n      <td>0</td>\n      <td></td>\n      <td>41</td>\n      <td>412770</td>\n      <td>2</td>\n      <td>CASO CONFIRMADO</td>\n      <td>1</td>\n      <td>LABORATORIAL</td>\n      <td>1</td>\n      <td>CURA</td>\n      <td>2021-01-28</td>\n      <td>2021-02-10</td>\n      <td>5538724</td>\n      <td>1</td>\n      <td>RT-PCR</td>\n      <td>27</td>\n      <td>COVID-19 BIOLOGIA MOLECULAR</td>\n      <td>9</td>\n      <td>CORONAVIRUS (SARS-COV2)</td>\n      <td>2021-02-02</td>\n      <td>2021-02-04</td>\n      <td>2021-02-05</td>\n      <td>2</td>\n      <td>ENCERRADA</td>\n      <td>2</td>\n      <td>1</td>\n      <td>NOTIFICA COVID-19</td>\n      <td>41</td>\n      <td>412770</td>\n      <td>2021-02-02</td>\n      <td>2021-02-08</td>\n      <td>2021-02-05</td>\n      <td>TOLEDO</td>\n      <td>PR</td>\n      <td>20</td>\n      <td>TOLEDO</td>\n      <td>PR</td>\n      <td>WESLEIZOLET24TOLEDO</td>\n      <td>WESLEIZOLET24TOLEDO</td>\n      <td>WESLEIZOLETMARIADELOURDESDASILVA</td>\n      <td>WESLEIZOLET14121996</td>\n      <td>WESLEIZOLET05022021</td>\n      <td>0</td>\n      <td>0</td>\n    </tr>\n  </tbody>\n</table>\n</div>"
     },
     "metadata": {},
     "execution_count": 26
    }
   ],
   "source": [
    "casosn.loc[casosn['hash_resid']=='WESLEIZOLET24TOLEDO']"
   ]
  },
  {
   "cell_type": "code",
   "execution_count": 27,
   "metadata": {},
   "outputs": [
    {
     "output_type": "execute_result",
     "data": {
      "text/plain": [
       "              id      paciente data_nascimento                   nome_mae  \\\n",
       "1485572  2254867  WESLEI ZOLET      1996-12-14  MARIA DE LOURDES DA SILVA   \n",
       "\n",
       "                    cpf  cod_tipo_paciente  tipo_paciente  idade sexo  \\\n",
       "1485572  107.557.909-01                  3  CPF INFORMADO     24    M   \n",
       "\n",
       "         cod_raca_cor  raca_cor  cod_etnia etnia  uf_residencia  \\\n",
       "1485572            99  IGNORADO          0                   41   \n",
       "\n",
       "         ibge_residencia  cod_classificacao_final classificacao_final  \\\n",
       "1485572           412770                        2     CASO CONFIRMADO   \n",
       "\n",
       "         cod_criterio_classificacao criterio_classificacao  cod_evolucao  \\\n",
       "1485572                           1           LABORATORIAL             1   \n",
       "\n",
       "        evolucao data_1o_sintomas data_cura_obito co_seq_exame  cod_metodo  \\\n",
       "1485572     CURA       2021-01-28      2021-02-10      5538724           1   \n",
       "\n",
       "         metodo  cod_exame                        exame  cod_resultado  \\\n",
       "1485572  RT-PCR         27  COVID-19 BIOLOGIA MOLECULAR              9   \n",
       "\n",
       "                       resultado data_coleta data_recebimento data_liberacao  \\\n",
       "1485572  CORONAVIRUS (SARS-COV2)  2021-02-02       2021-02-04     2021-02-05   \n",
       "\n",
       "         cod_status_notificacao status_notificacao  excluir_ficha  cod_origem  \\\n",
       "1485572                       2          ENCERRADA              2           1   \n",
       "\n",
       "                    origem  uf_unidade_notifica  ibge_unidade_notifica  \\\n",
       "1485572  NOTIFICA COVID-19                   41                 412770   \n",
       "\n",
       "        data_notificacao updated_at data_diagnostico mun_resid uf_resid  rs  \\\n",
       "1485572       2021-02-02 2021-02-08       2021-02-05    TOLEDO       PR  20   \n",
       "\n",
       "        mun_atend uf_atend           hash_resid           hash_atend  \\\n",
       "1485572    TOLEDO       PR  WESLEIZOLET24TOLEDO  WESLEIZOLET24TOLEDO   \n",
       "\n",
       "                                 hash_mae            hash_nasc  \\\n",
       "1485572  WESLEIZOLETMARIADELOURDESDASILVA  WESLEIZOLET14121996   \n",
       "\n",
       "                   hash_diag  duplicado  mantido  \n",
       "1485572  WESLEIZOLET05022021          0        0  "
      ],
      "text/html": "<div>\n<style scoped>\n    .dataframe tbody tr th:only-of-type {\n        vertical-align: middle;\n    }\n\n    .dataframe tbody tr th {\n        vertical-align: top;\n    }\n\n    .dataframe thead th {\n        text-align: right;\n    }\n</style>\n<table border=\"1\" class=\"dataframe\">\n  <thead>\n    <tr style=\"text-align: right;\">\n      <th></th>\n      <th>id</th>\n      <th>paciente</th>\n      <th>data_nascimento</th>\n      <th>nome_mae</th>\n      <th>cpf</th>\n      <th>cod_tipo_paciente</th>\n      <th>tipo_paciente</th>\n      <th>idade</th>\n      <th>sexo</th>\n      <th>cod_raca_cor</th>\n      <th>raca_cor</th>\n      <th>cod_etnia</th>\n      <th>etnia</th>\n      <th>uf_residencia</th>\n      <th>ibge_residencia</th>\n      <th>cod_classificacao_final</th>\n      <th>classificacao_final</th>\n      <th>cod_criterio_classificacao</th>\n      <th>criterio_classificacao</th>\n      <th>cod_evolucao</th>\n      <th>evolucao</th>\n      <th>data_1o_sintomas</th>\n      <th>data_cura_obito</th>\n      <th>co_seq_exame</th>\n      <th>cod_metodo</th>\n      <th>metodo</th>\n      <th>cod_exame</th>\n      <th>exame</th>\n      <th>cod_resultado</th>\n      <th>resultado</th>\n      <th>data_coleta</th>\n      <th>data_recebimento</th>\n      <th>data_liberacao</th>\n      <th>cod_status_notificacao</th>\n      <th>status_notificacao</th>\n      <th>excluir_ficha</th>\n      <th>cod_origem</th>\n      <th>origem</th>\n      <th>uf_unidade_notifica</th>\n      <th>ibge_unidade_notifica</th>\n      <th>data_notificacao</th>\n      <th>updated_at</th>\n      <th>data_diagnostico</th>\n      <th>mun_resid</th>\n      <th>uf_resid</th>\n      <th>rs</th>\n      <th>mun_atend</th>\n      <th>uf_atend</th>\n      <th>hash_resid</th>\n      <th>hash_atend</th>\n      <th>hash_mae</th>\n      <th>hash_nasc</th>\n      <th>hash_diag</th>\n      <th>duplicado</th>\n      <th>mantido</th>\n    </tr>\n  </thead>\n  <tbody>\n    <tr>\n      <th>1485572</th>\n      <td>2254867</td>\n      <td>WESLEI ZOLET</td>\n      <td>1996-12-14</td>\n      <td>MARIA DE LOURDES DA SILVA</td>\n      <td>107.557.909-01</td>\n      <td>3</td>\n      <td>CPF INFORMADO</td>\n      <td>24</td>\n      <td>M</td>\n      <td>99</td>\n      <td>IGNORADO</td>\n      <td>0</td>\n      <td></td>\n      <td>41</td>\n      <td>412770</td>\n      <td>2</td>\n      <td>CASO CONFIRMADO</td>\n      <td>1</td>\n      <td>LABORATORIAL</td>\n      <td>1</td>\n      <td>CURA</td>\n      <td>2021-01-28</td>\n      <td>2021-02-10</td>\n      <td>5538724</td>\n      <td>1</td>\n      <td>RT-PCR</td>\n      <td>27</td>\n      <td>COVID-19 BIOLOGIA MOLECULAR</td>\n      <td>9</td>\n      <td>CORONAVIRUS (SARS-COV2)</td>\n      <td>2021-02-02</td>\n      <td>2021-02-04</td>\n      <td>2021-02-05</td>\n      <td>2</td>\n      <td>ENCERRADA</td>\n      <td>2</td>\n      <td>1</td>\n      <td>NOTIFICA COVID-19</td>\n      <td>41</td>\n      <td>412770</td>\n      <td>2021-02-02</td>\n      <td>2021-02-08</td>\n      <td>2021-02-05</td>\n      <td>TOLEDO</td>\n      <td>PR</td>\n      <td>20</td>\n      <td>TOLEDO</td>\n      <td>PR</td>\n      <td>WESLEIZOLET24TOLEDO</td>\n      <td>WESLEIZOLET24TOLEDO</td>\n      <td>WESLEIZOLETMARIADELOURDESDASILVA</td>\n      <td>WESLEIZOLET14121996</td>\n      <td>WESLEIZOLET05022021</td>\n      <td>0</td>\n      <td>0</td>\n    </tr>\n  </tbody>\n</table>\n</div>"
     },
     "metadata": {},
     "execution_count": 27
    }
   ],
   "source": [
    "casosn.loc[casosn['hash_atend']=='WESLEIZOLET24TOLEDO']"
   ]
  },
  {
   "cell_type": "code",
   "execution_count": 28,
   "metadata": {},
   "outputs": [
    {
     "output_type": "execute_result",
     "data": {
      "text/plain": [
       "              id      paciente data_nascimento                   nome_mae  \\\n",
       "1485572  2254867  WESLEI ZOLET      1996-12-14  MARIA DE LOURDES DA SILVA   \n",
       "\n",
       "                    cpf  cod_tipo_paciente  tipo_paciente  idade sexo  \\\n",
       "1485572  107.557.909-01                  3  CPF INFORMADO     24    M   \n",
       "\n",
       "         cod_raca_cor  raca_cor  cod_etnia etnia  uf_residencia  \\\n",
       "1485572            99  IGNORADO          0                   41   \n",
       "\n",
       "         ibge_residencia  cod_classificacao_final classificacao_final  \\\n",
       "1485572           412770                        2     CASO CONFIRMADO   \n",
       "\n",
       "         cod_criterio_classificacao criterio_classificacao  cod_evolucao  \\\n",
       "1485572                           1           LABORATORIAL             1   \n",
       "\n",
       "        evolucao data_1o_sintomas data_cura_obito co_seq_exame  cod_metodo  \\\n",
       "1485572     CURA       2021-01-28      2021-02-10      5538724           1   \n",
       "\n",
       "         metodo  cod_exame                        exame  cod_resultado  \\\n",
       "1485572  RT-PCR         27  COVID-19 BIOLOGIA MOLECULAR              9   \n",
       "\n",
       "                       resultado data_coleta data_recebimento data_liberacao  \\\n",
       "1485572  CORONAVIRUS (SARS-COV2)  2021-02-02       2021-02-04     2021-02-05   \n",
       "\n",
       "         cod_status_notificacao status_notificacao  excluir_ficha  cod_origem  \\\n",
       "1485572                       2          ENCERRADA              2           1   \n",
       "\n",
       "                    origem  uf_unidade_notifica  ibge_unidade_notifica  \\\n",
       "1485572  NOTIFICA COVID-19                   41                 412770   \n",
       "\n",
       "        data_notificacao updated_at data_diagnostico mun_resid uf_resid  rs  \\\n",
       "1485572       2021-02-02 2021-02-08       2021-02-05    TOLEDO       PR  20   \n",
       "\n",
       "        mun_atend uf_atend           hash_resid           hash_atend  \\\n",
       "1485572    TOLEDO       PR  WESLEIZOLET24TOLEDO  WESLEIZOLET24TOLEDO   \n",
       "\n",
       "                                 hash_mae            hash_nasc  \\\n",
       "1485572  WESLEIZOLETMARIADELOURDESDASILVA  WESLEIZOLET14121996   \n",
       "\n",
       "                   hash_diag  duplicado  mantido  \n",
       "1485572  WESLEIZOLET05022021          0        0  "
      ],
      "text/html": "<div>\n<style scoped>\n    .dataframe tbody tr th:only-of-type {\n        vertical-align: middle;\n    }\n\n    .dataframe tbody tr th {\n        vertical-align: top;\n    }\n\n    .dataframe thead th {\n        text-align: right;\n    }\n</style>\n<table border=\"1\" class=\"dataframe\">\n  <thead>\n    <tr style=\"text-align: right;\">\n      <th></th>\n      <th>id</th>\n      <th>paciente</th>\n      <th>data_nascimento</th>\n      <th>nome_mae</th>\n      <th>cpf</th>\n      <th>cod_tipo_paciente</th>\n      <th>tipo_paciente</th>\n      <th>idade</th>\n      <th>sexo</th>\n      <th>cod_raca_cor</th>\n      <th>raca_cor</th>\n      <th>cod_etnia</th>\n      <th>etnia</th>\n      <th>uf_residencia</th>\n      <th>ibge_residencia</th>\n      <th>cod_classificacao_final</th>\n      <th>classificacao_final</th>\n      <th>cod_criterio_classificacao</th>\n      <th>criterio_classificacao</th>\n      <th>cod_evolucao</th>\n      <th>evolucao</th>\n      <th>data_1o_sintomas</th>\n      <th>data_cura_obito</th>\n      <th>co_seq_exame</th>\n      <th>cod_metodo</th>\n      <th>metodo</th>\n      <th>cod_exame</th>\n      <th>exame</th>\n      <th>cod_resultado</th>\n      <th>resultado</th>\n      <th>data_coleta</th>\n      <th>data_recebimento</th>\n      <th>data_liberacao</th>\n      <th>cod_status_notificacao</th>\n      <th>status_notificacao</th>\n      <th>excluir_ficha</th>\n      <th>cod_origem</th>\n      <th>origem</th>\n      <th>uf_unidade_notifica</th>\n      <th>ibge_unidade_notifica</th>\n      <th>data_notificacao</th>\n      <th>updated_at</th>\n      <th>data_diagnostico</th>\n      <th>mun_resid</th>\n      <th>uf_resid</th>\n      <th>rs</th>\n      <th>mun_atend</th>\n      <th>uf_atend</th>\n      <th>hash_resid</th>\n      <th>hash_atend</th>\n      <th>hash_mae</th>\n      <th>hash_nasc</th>\n      <th>hash_diag</th>\n      <th>duplicado</th>\n      <th>mantido</th>\n    </tr>\n  </thead>\n  <tbody>\n    <tr>\n      <th>1485572</th>\n      <td>2254867</td>\n      <td>WESLEI ZOLET</td>\n      <td>1996-12-14</td>\n      <td>MARIA DE LOURDES DA SILVA</td>\n      <td>107.557.909-01</td>\n      <td>3</td>\n      <td>CPF INFORMADO</td>\n      <td>24</td>\n      <td>M</td>\n      <td>99</td>\n      <td>IGNORADO</td>\n      <td>0</td>\n      <td></td>\n      <td>41</td>\n      <td>412770</td>\n      <td>2</td>\n      <td>CASO CONFIRMADO</td>\n      <td>1</td>\n      <td>LABORATORIAL</td>\n      <td>1</td>\n      <td>CURA</td>\n      <td>2021-01-28</td>\n      <td>2021-02-10</td>\n      <td>5538724</td>\n      <td>1</td>\n      <td>RT-PCR</td>\n      <td>27</td>\n      <td>COVID-19 BIOLOGIA MOLECULAR</td>\n      <td>9</td>\n      <td>CORONAVIRUS (SARS-COV2)</td>\n      <td>2021-02-02</td>\n      <td>2021-02-04</td>\n      <td>2021-02-05</td>\n      <td>2</td>\n      <td>ENCERRADA</td>\n      <td>2</td>\n      <td>1</td>\n      <td>NOTIFICA COVID-19</td>\n      <td>41</td>\n      <td>412770</td>\n      <td>2021-02-02</td>\n      <td>2021-02-08</td>\n      <td>2021-02-05</td>\n      <td>TOLEDO</td>\n      <td>PR</td>\n      <td>20</td>\n      <td>TOLEDO</td>\n      <td>PR</td>\n      <td>WESLEIZOLET24TOLEDO</td>\n      <td>WESLEIZOLET24TOLEDO</td>\n      <td>WESLEIZOLETMARIADELOURDESDASILVA</td>\n      <td>WESLEIZOLET14121996</td>\n      <td>WESLEIZOLET05022021</td>\n      <td>0</td>\n      <td>0</td>\n    </tr>\n  </tbody>\n</table>\n</div>"
     },
     "metadata": {},
     "execution_count": 28
    }
   ],
   "source": [
    "casosn.loc[casosn['hash_mae']=='WESLEIZOLETMARIADELOURDESDASILVA']"
   ]
  },
  {
   "cell_type": "code",
   "execution_count": 29,
   "metadata": {},
   "outputs": [
    {
     "output_type": "execute_result",
     "data": {
      "text/plain": [
       "              id      paciente data_nascimento                   nome_mae  \\\n",
       "1485572  2254867  WESLEI ZOLET      1996-12-14  MARIA DE LOURDES DA SILVA   \n",
       "\n",
       "                    cpf  cod_tipo_paciente  tipo_paciente  idade sexo  \\\n",
       "1485572  107.557.909-01                  3  CPF INFORMADO     24    M   \n",
       "\n",
       "         cod_raca_cor  raca_cor  cod_etnia etnia  uf_residencia  \\\n",
       "1485572            99  IGNORADO          0                   41   \n",
       "\n",
       "         ibge_residencia  cod_classificacao_final classificacao_final  \\\n",
       "1485572           412770                        2     CASO CONFIRMADO   \n",
       "\n",
       "         cod_criterio_classificacao criterio_classificacao  cod_evolucao  \\\n",
       "1485572                           1           LABORATORIAL             1   \n",
       "\n",
       "        evolucao data_1o_sintomas data_cura_obito co_seq_exame  cod_metodo  \\\n",
       "1485572     CURA       2021-01-28      2021-02-10      5538724           1   \n",
       "\n",
       "         metodo  cod_exame                        exame  cod_resultado  \\\n",
       "1485572  RT-PCR         27  COVID-19 BIOLOGIA MOLECULAR              9   \n",
       "\n",
       "                       resultado data_coleta data_recebimento data_liberacao  \\\n",
       "1485572  CORONAVIRUS (SARS-COV2)  2021-02-02       2021-02-04     2021-02-05   \n",
       "\n",
       "         cod_status_notificacao status_notificacao  excluir_ficha  cod_origem  \\\n",
       "1485572                       2          ENCERRADA              2           1   \n",
       "\n",
       "                    origem  uf_unidade_notifica  ibge_unidade_notifica  \\\n",
       "1485572  NOTIFICA COVID-19                   41                 412770   \n",
       "\n",
       "        data_notificacao updated_at data_diagnostico mun_resid uf_resid  rs  \\\n",
       "1485572       2021-02-02 2021-02-08       2021-02-05    TOLEDO       PR  20   \n",
       "\n",
       "        mun_atend uf_atend           hash_resid           hash_atend  \\\n",
       "1485572    TOLEDO       PR  WESLEIZOLET24TOLEDO  WESLEIZOLET24TOLEDO   \n",
       "\n",
       "                                 hash_mae            hash_nasc  \\\n",
       "1485572  WESLEIZOLETMARIADELOURDESDASILVA  WESLEIZOLET14121996   \n",
       "\n",
       "                   hash_diag  duplicado  mantido  \n",
       "1485572  WESLEIZOLET05022021          0        0  "
      ],
      "text/html": "<div>\n<style scoped>\n    .dataframe tbody tr th:only-of-type {\n        vertical-align: middle;\n    }\n\n    .dataframe tbody tr th {\n        vertical-align: top;\n    }\n\n    .dataframe thead th {\n        text-align: right;\n    }\n</style>\n<table border=\"1\" class=\"dataframe\">\n  <thead>\n    <tr style=\"text-align: right;\">\n      <th></th>\n      <th>id</th>\n      <th>paciente</th>\n      <th>data_nascimento</th>\n      <th>nome_mae</th>\n      <th>cpf</th>\n      <th>cod_tipo_paciente</th>\n      <th>tipo_paciente</th>\n      <th>idade</th>\n      <th>sexo</th>\n      <th>cod_raca_cor</th>\n      <th>raca_cor</th>\n      <th>cod_etnia</th>\n      <th>etnia</th>\n      <th>uf_residencia</th>\n      <th>ibge_residencia</th>\n      <th>cod_classificacao_final</th>\n      <th>classificacao_final</th>\n      <th>cod_criterio_classificacao</th>\n      <th>criterio_classificacao</th>\n      <th>cod_evolucao</th>\n      <th>evolucao</th>\n      <th>data_1o_sintomas</th>\n      <th>data_cura_obito</th>\n      <th>co_seq_exame</th>\n      <th>cod_metodo</th>\n      <th>metodo</th>\n      <th>cod_exame</th>\n      <th>exame</th>\n      <th>cod_resultado</th>\n      <th>resultado</th>\n      <th>data_coleta</th>\n      <th>data_recebimento</th>\n      <th>data_liberacao</th>\n      <th>cod_status_notificacao</th>\n      <th>status_notificacao</th>\n      <th>excluir_ficha</th>\n      <th>cod_origem</th>\n      <th>origem</th>\n      <th>uf_unidade_notifica</th>\n      <th>ibge_unidade_notifica</th>\n      <th>data_notificacao</th>\n      <th>updated_at</th>\n      <th>data_diagnostico</th>\n      <th>mun_resid</th>\n      <th>uf_resid</th>\n      <th>rs</th>\n      <th>mun_atend</th>\n      <th>uf_atend</th>\n      <th>hash_resid</th>\n      <th>hash_atend</th>\n      <th>hash_mae</th>\n      <th>hash_nasc</th>\n      <th>hash_diag</th>\n      <th>duplicado</th>\n      <th>mantido</th>\n    </tr>\n  </thead>\n  <tbody>\n    <tr>\n      <th>1485572</th>\n      <td>2254867</td>\n      <td>WESLEI ZOLET</td>\n      <td>1996-12-14</td>\n      <td>MARIA DE LOURDES DA SILVA</td>\n      <td>107.557.909-01</td>\n      <td>3</td>\n      <td>CPF INFORMADO</td>\n      <td>24</td>\n      <td>M</td>\n      <td>99</td>\n      <td>IGNORADO</td>\n      <td>0</td>\n      <td></td>\n      <td>41</td>\n      <td>412770</td>\n      <td>2</td>\n      <td>CASO CONFIRMADO</td>\n      <td>1</td>\n      <td>LABORATORIAL</td>\n      <td>1</td>\n      <td>CURA</td>\n      <td>2021-01-28</td>\n      <td>2021-02-10</td>\n      <td>5538724</td>\n      <td>1</td>\n      <td>RT-PCR</td>\n      <td>27</td>\n      <td>COVID-19 BIOLOGIA MOLECULAR</td>\n      <td>9</td>\n      <td>CORONAVIRUS (SARS-COV2)</td>\n      <td>2021-02-02</td>\n      <td>2021-02-04</td>\n      <td>2021-02-05</td>\n      <td>2</td>\n      <td>ENCERRADA</td>\n      <td>2</td>\n      <td>1</td>\n      <td>NOTIFICA COVID-19</td>\n      <td>41</td>\n      <td>412770</td>\n      <td>2021-02-02</td>\n      <td>2021-02-08</td>\n      <td>2021-02-05</td>\n      <td>TOLEDO</td>\n      <td>PR</td>\n      <td>20</td>\n      <td>TOLEDO</td>\n      <td>PR</td>\n      <td>WESLEIZOLET24TOLEDO</td>\n      <td>WESLEIZOLET24TOLEDO</td>\n      <td>WESLEIZOLETMARIADELOURDESDASILVA</td>\n      <td>WESLEIZOLET14121996</td>\n      <td>WESLEIZOLET05022021</td>\n      <td>0</td>\n      <td>0</td>\n    </tr>\n  </tbody>\n</table>\n</div>"
     },
     "metadata": {},
     "execution_count": 29
    }
   ],
   "source": [
    "casosn.loc[casosn['hash_nasc']=='WESLEIZOLET14121996']"
   ]
  },
  {
   "cell_type": "code",
   "execution_count": null,
   "metadata": {},
   "outputs": [],
   "source": []
  }
 ],
 "metadata": {
  "kernelspec": {
   "display_name": "Python 3",
   "language": "python",
   "name": "python3"
  },
  "language_info": {
   "codemirror_mode": {
    "name": "ipython",
    "version": 3
   },
   "file_extension": ".py",
   "mimetype": "text/x-python",
   "name": "python",
   "nbconvert_exporter": "python",
   "pygments_lexer": "ipython3",
   "version": "3.8.5-final"
  }
 },
 "nbformat": 4,
 "nbformat_minor": 2
}