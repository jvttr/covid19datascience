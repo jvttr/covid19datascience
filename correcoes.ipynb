{
 "metadata": {
  "language_info": {
   "codemirror_mode": {
    "name": "ipython",
    "version": 3
   },
   "file_extension": ".py",
   "mimetype": "text/x-python",
   "name": "python",
   "nbconvert_exporter": "python",
   "pygments_lexer": "ipython3",
   "version": "3.8.5-final"
  },
  "orig_nbformat": 2,
  "kernelspec": {
   "name": "python3",
   "display_name": "Python 3"
  }
 },
 "nbformat": 4,
 "nbformat_minor": 2,
 "cells": [
  {
   "cell_type": "code",
   "execution_count": 1,
   "metadata": {},
   "outputs": [],
   "source": [
    "from sys import exit\n",
    "import numpy as np\n",
    "import pandas as pd\n",
    "from os.path import dirname, join, isfile, isdir\n",
    "from datetime import datetime, timedelta\n",
    "\n",
    "from bulletin.data.notifica import Notifica\n",
    "from bulletin.data.casos_confirmados import CasosConfirmados\n",
    "from bulletin.commom import static, normalize\n",
    "\n",
    "pd.set_option('display.max_columns', None)"
   ]
  },
  {
   "cell_type": "code",
   "execution_count": 2,
   "metadata": {},
   "outputs": [
    {
     "output_type": "stream",
     "name": "stdout",
     "text": [
      " reading input\\notifica.csv\n"
     ]
    },
    {
     "output_type": "execute_result",
     "data": {
      "text/plain": [
       "(1412438, 593068, 6189, 561522, 1502)"
      ]
     },
     "metadata": {},
     "execution_count": 2
    }
   ],
   "source": [
    "notifica = Notifica()\n",
    "# notifica.update()\n",
    "notifica.shape()"
   ]
  },
  {
   "cell_type": "code",
   "execution_count": 3,
   "metadata": {},
   "outputs": [
    {
     "output_type": "execute_result",
     "data": {
      "text/plain": [
       "(313891, 6621)"
      ]
     },
     "metadata": {},
     "execution_count": 3
    }
   ],
   "source": [
    "casos_confirmados = CasosConfirmados()\n",
    "# casos_confirmados.update()\n",
    "casos_confirmados.shape()"
   ]
  },
  {
   "cell_type": "code",
   "execution_count": 4,
   "metadata": {},
   "outputs": [
    {
     "output_type": "stream",
     "name": "stdout",
     "text": [
      "Casos confirmados excluidos: 11\n"
     ]
    }
   ],
   "source": [
    "casosn = notifica.get_casos()\n",
    "casosc = casos_confirmados.get_casos()"
   ]
  },
  {
   "cell_type": "code",
   "execution_count": 5,
   "metadata": {},
   "outputs": [
    {
     "output_type": "stream",
     "name": "stdout",
     "text": [
      "casosc_duplicados: 440\ncasosc_duplicados_less: 1939\ncasosc_duplicados_more: 1942\nTotal duplicados 4313\n"
     ]
    },
    {
     "output_type": "execute_result",
     "data": {
      "text/plain": [
       "309567"
      ]
     },
     "metadata": {},
     "execution_count": 5
    }
   ],
   "source": [
    "casosc_duplicados = casosc.loc[casosc.duplicated('hash')].index.tolist()\n",
    "print(f\"casosc_duplicados: {len(casosc_duplicados)}\")\n",
    "casosc_duplicados_less = casosc.loc[casosc['hash_less'].isin(casosc['hash'])].index.tolist()\n",
    "print(f\"casosc_duplicados_less: {len(casosc_duplicados_less)}\")\n",
    "casosc_duplicados_more = casosc.loc[casosc['hash_more'].isin(casosc['hash'])].index.tolist()\n",
    "print(f\"casosc_duplicados_more: {len(casosc_duplicados_more)}\")\n",
    "dropar = set(casosc_duplicados + casosc_duplicados_less + casosc_duplicados_more)\n",
    "print(f\"Total duplicados {len(dropar)}\")\n",
    "casosc = casosc.drop(index=dropar)\n",
    "len(casosc)"
   ]
  },
  {
   "cell_type": "code",
   "execution_count": 6,
   "metadata": {},
   "outputs": [
    {
     "output_type": "execute_result",
     "data": {
      "text/plain": [
       "                             id\n",
       "cod_classificacao_final        \n",
       "0                           641\n",
       "1                        690697\n",
       "2                        276857\n",
       "3                        438130\n",
       "5                          6113"
      ],
      "text/html": "<div>\n<style scoped>\n    .dataframe tbody tr th:only-of-type {\n        vertical-align: middle;\n    }\n\n    .dataframe tbody tr th {\n        vertical-align: top;\n    }\n\n    .dataframe thead th {\n        text-align: right;\n    }\n</style>\n<table border=\"1\" class=\"dataframe\">\n  <thead>\n    <tr style=\"text-align: right;\">\n      <th></th>\n      <th>id</th>\n    </tr>\n    <tr>\n      <th>cod_classificacao_final</th>\n      <th></th>\n    </tr>\n  </thead>\n  <tbody>\n    <tr>\n      <th>0</th>\n      <td>641</td>\n    </tr>\n    <tr>\n      <th>1</th>\n      <td>690697</td>\n    </tr>\n    <tr>\n      <th>2</th>\n      <td>276857</td>\n    </tr>\n    <tr>\n      <th>3</th>\n      <td>438130</td>\n    </tr>\n    <tr>\n      <th>5</th>\n      <td>6113</td>\n    </tr>\n  </tbody>\n</table>\n</div>"
     },
     "metadata": {},
     "execution_count": 6
    }
   ],
   "source": [
    "casosn.groupby('cod_classificacao_final')[['id']].count()"
   ]
  },
  {
   "cell_type": "code",
   "execution_count": 9,
   "metadata": {},
   "outputs": [
    {
     "output_type": "execute_result",
     "data": {
      "text/plain": [
       "(467, 56)"
      ]
     },
     "metadata": {},
     "execution_count": 9
    }
   ],
   "source": [
    "casosn.loc[casosn['mun_resid'].isnull()].shape"
   ]
  },
  {
   "cell_type": "code",
   "execution_count": 10,
   "metadata": {},
   "outputs": [
    {
     "output_type": "execute_result",
     "data": {
      "text/plain": [
       "(40766, 56)"
      ]
     },
     "metadata": {},
     "execution_count": 10
    }
   ],
   "source": [
    "casosn.loc[casosn['mun_atend'].isnull()].shape"
   ]
  }
 ]
}