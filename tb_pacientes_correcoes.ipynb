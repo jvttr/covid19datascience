{
 "metadata": {
  "language_info": {
   "codemirror_mode": {
    "name": "ipython",
    "version": 3
   },
   "file_extension": ".py",
   "mimetype": "text/x-python",
   "name": "python",
   "nbconvert_exporter": "python",
   "pygments_lexer": "ipython3",
   "version": "3.8.5-final"
  },
  "orig_nbformat": 2,
  "kernelspec": {
   "name": "python3",
   "display_name": "Python 3",
   "language": "python"
  }
 },
 "nbformat": 4,
 "nbformat_minor": 2,
 "cells": [
  {
   "cell_type": "code",
   "execution_count": 1,
   "metadata": {},
   "outputs": [],
   "source": [
    "from sys import exit\n",
    "import numpy as np\n",
    "import pandas as pd\n",
    "from os.path import dirname, join, isfile, isdir\n",
    "from datetime import datetime, timedelta\n",
    "\n",
    "from bulletin.data.tb_pacientes import TbPacientes\n",
    "from bulletin.data.casos_confirmados import CasosConfirmados\n",
    "from bulletin.commom.utils import Timer\n",
    "\n",
    "pd.set_option('display.max_columns', None)\n",
    "\n",
    "output = join(\"output\",\"correcoes\")\n",
    "\n",
    "timer = Timer()"
   ]
  },
  {
   "cell_type": "code",
   "execution_count": 2,
   "metadata": {},
   "outputs": [
    {
     "output_type": "execute_result",
     "data": {
      "text/plain": [
       "68.45608854293823"
      ]
     },
     "metadata": {},
     "execution_count": 2
    }
   ],
   "source": [
    "timer.reset()\n",
    "tb = TbPacientes()\n",
    "tb.update()\n",
    "timer.stop()"
   ]
  },
  {
   "cell_type": "code",
   "execution_count": null,
   "metadata": {},
   "outputs": [],
   "source": [
    "casos = tb.get()\n",
    "len(casos)"
   ]
  },
  {
   "cell_type": "code",
   "execution_count": null,
   "metadata": {},
   "outputs": [],
   "source": [
    "duplicados = casos.loc[((casos.duplicated('hash')) & (casos['Obito'] == 'NAO'))].index.tolist()\n",
    "duplicados_less = casos.loc[(casos['hash'].isin(casos['hash_less'])) & (casos['Obito'] == 'NAO')].index.tolist()\n",
    "duplicados_more = casos.loc[(casos['hash'].isin(casos['hash_more'])) & (casos['Obito'] == 'NAO')].index.tolist()\n",
    "dropar = set(duplicados + duplicados_less + duplicados_more)\n",
    "casos.loc[dropar].to_excel('casos_duplicados.xlsx')\n",
    "print(len(dropar))\n",
    "casos = casos.drop(index=dropar)\n",
    "len(casos)"
   ]
  },
  {
   "cell_type": "code",
   "execution_count": null,
   "metadata": {},
   "outputs": [],
   "source": [
    "duplicados = casos.loc[casos.duplicated('hash')].index.tolist()\n",
    "duplicados_less = casos.loc[casos['hash'].isin(casos['hash_less'])].index.tolist()\n",
    "duplicados_more = casos.loc[casos['hash'].isin(casos['hash_more'])].index.tolist()\n",
    "dropar = set(duplicados + duplicados_less + duplicados_more)\n",
    "casos.loc[dropar].to_excel('obitos_duplicados.xlsx')\n",
    "len(dropar)"
   ]
  },
  {
   "cell_type": "code",
   "execution_count": null,
   "metadata": {},
   "outputs": [],
   "source": [
    "writer = pd.ExcelWriter(\"novos_tb_pacientes.xlsx\",\n",
    "                        engine='xlsxwriter',\n",
    "                        datetime_format='dd/mm/yyyy',\n",
    "                        date_format='dd/mm/yyyy')\n",
    "\n",
    "casos.sort_values('Nome').to_excel(writer,index=None)\n",
    "\n",
    "writer.save()\n",
    "writer.close()"
   ]
  }
 ]
}