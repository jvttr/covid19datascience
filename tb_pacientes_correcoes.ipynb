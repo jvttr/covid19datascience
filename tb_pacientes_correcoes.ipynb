{
 "metadata": {
  "language_info": {
   "codemirror_mode": {
    "name": "ipython",
    "version": 3
   },
   "file_extension": ".py",
   "mimetype": "text/x-python",
   "name": "python",
   "nbconvert_exporter": "python",
   "pygments_lexer": "ipython3",
   "version": "3.8.5-final"
  },
  "orig_nbformat": 2,
  "kernelspec": {
   "name": "python3",
   "display_name": "Python 3",
   "language": "python"
  }
 },
 "nbformat": 4,
 "nbformat_minor": 2,
 "cells": [
  {
   "cell_type": "code",
   "execution_count": null,
   "metadata": {},
   "outputs": [],
   "source": [
    "from sys import exit\n",
    "import numpy as np\n",
    "import pandas as pd\n",
    "from os.path import dirname, join, isfile, isdir\n",
    "from os import makedirs\n",
    "from datetime import datetime, timedelta\n",
    "\n",
    "from bulletin.data.tb_pacientes import TbPacientes\n",
    "from bulletin.data.casos_confirmados import CasosConfirmados\n",
    "from bulletin.commom.utils import Timer\n",
    "\n",
    "from hashlib import sha256\n",
    "from bulletin.commom.normalize import normalize_text, normalize_number, normalize_hash, normalize_cpf\n",
    "\n",
    "pd.set_option('display.max_columns', None)\n",
    "\n",
    "output = join(\"output\",\"correcoes\",\"tb_pacientes\")\n",
    "\n",
    "if not isdir(output):\n",
    "    makedirs(output)\n",
    "\n",
    "timer = Timer()"
   ]
  },
  {
   "cell_type": "code",
   "execution_count": null,
   "metadata": {},
   "outputs": [],
   "source": [
    "timer_all = Timer()\n",
    "timer_all.reset()"
   ]
  },
  {
   "cell_type": "code",
   "execution_count": null,
   "metadata": {},
   "outputs": [],
   "source": [
    "timer.reset()\n",
    "tb = TbPacientes()\n",
    "tb.update()\n",
    "timer.stop()"
   ]
  },
  {
   "cell_type": "code",
   "execution_count": null,
   "metadata": {},
   "outputs": [],
   "source": [
    "timer.reset()\n",
    "casos_confirmados = CasosConfirmados()\n",
    "casos_confirmados.update()\n",
    "timer.stop()"
   ]
  },
  {
   "cell_type": "code",
   "execution_count": null,
   "metadata": {},
   "outputs": [],
   "source": [
    "casost = tb.get()\n",
    "casosc = casos_confirmados.get_casos()\n",
    "print(f\"casos casos_confirmados: {casosc.shape}\")\n",
    "print(f\"casos tb_pacientes: {casost.shape}\")"
   ]
  },
  {
   "cell_type": "code",
   "execution_count": null,
   "metadata": {},
   "outputs": [],
   "source": [
    "idx_casos_confirmados = casosc[casosc['hash'].isin(casost['hash'])].index.tolist()\n",
    "idx_casos_confirmados += casosc[casosc['hash_less'].isin(casost['hash'])].index.tolist()\n",
    "idx_casos_confirmados += casosc[casosc['hash_more'].isin(casost['hash'])].index.tolist()\n",
    "idx_casos_confirmados += casosc[casosc['hash_atend'].isin(casost['hash_atend'])].index.tolist()\n",
    "idx_casos_confirmados += casosc[casosc['hash_less_atend'].isin(casost['hash_atend'])].index.tolist()\n",
    "idx_casos_confirmados += casosc[casosc['hash_more_atend'].isin(casost['hash_atend'])].index.tolist()\n",
    "idx_casos_confirmados = set(idx_casos_confirmados)\n",
    "casos_confirmados_nao_tb_pacientes = casosc.loc[ set(casosc.index.tolist()) - idx_casos_confirmados ].sort_values('ordem')"
   ]
  },
  {
   "cell_type": "code",
   "execution_count": null,
   "metadata": {},
   "outputs": [],
   "source": [
    "idx_tb_pacientes = casost[casost['hash'].isin(casosc['hash'])].index.tolist()\n",
    "idx_tb_pacientes += casost[casost['hash'].isin(casosc['hash_less'])].index.tolist()\n",
    "idx_tb_pacientes += casost[casost['hash'].isin(casosc['hash_more'])].index.tolist()\n",
    "idx_tb_pacientes += casost[casost['hash_atend'].isin(casosc['hash_atend'])].index.tolist()\n",
    "idx_tb_pacientes += casost[casost['hash_atend'].isin(casosc['hash_less_atend'])].index.tolist()\n",
    "idx_tb_pacientes += casost[casost['hash_atend'].isin(casosc['hash_more_atend'])].index.tolist()\n",
    "idx_tb_pacientes = set(idx_tb_pacientes)\n",
    "tb_pacientes_nao_casos_confirmados = casost.loc[ set(casost.index.tolist()) - idx_tb_pacientes ].sort_values('identificacao')\n"
   ]
  },
  {
   "cell_type": "code",
   "execution_count": null,
   "metadata": {},
   "outputs": [],
   "source": [
    "print(f\"casos_confirmados_nao_tb_pacientes: {casos_confirmados_nao_tb_pacientes.shape}\")\n",
    "if len(casos_confirmados_nao_tb_pacientes) > 0:\n",
    "    casos_confirmados_nao_tb_pacientes.sort_values('nome').to_excel(join(output,'casos_confirmados_nao_tb_pacientes.xlsx'), index=False)\n",
    "print(f\"tb_pacientes_nao_casos_confirmados: {tb_pacientes_nao_casos_confirmados.shape}\")\n",
    "if len(tb_pacientes_nao_casos_confirmados) > 0:\n",
    "    tb_pacientes_nao_casos_confirmados.sort_values('nome').to_excel(join(output,'tb_pacientes_nao_casos_confirmados.xlsx'), index=False)"
   ]
  },
  {
   "cell_type": "code",
   "execution_count": null,
   "metadata": {},
   "outputs": [],
   "source": [
    "casost['ibge_res_pr'] = casost['ibge_res_pr'].fillna('9999999')\n",
    "casosc['ibge7'] = casosc['ibge7'].fillna('9999999')"
   ]
  },
  {
   "cell_type": "code",
   "execution_count": null,
   "metadata": {},
   "outputs": [],
   "source": [
    "casosc['nome_hash'] = casosc['nome'].apply(normalize_hash)\n",
    "casost['nome_hash'] = casost['nome'].apply(normalize_hash)"
   ]
  },
  {
   "cell_type": "code",
   "execution_count": null,
   "metadata": {},
   "outputs": [],
   "source": [
    "print(all(casosc['nome_hash'].values == casost['nome_hash'].values))\n",
    "print(all(casosc['ibge7'].values == casost['ibge_res_pr'].values))\n",
    "# exit()"
   ]
  },
  {
   "cell_type": "code",
   "execution_count": null,
   "metadata": {},
   "outputs": [],
   "source": [
    "timer.reset()\n",
    "\n",
    "sorted_casosc = pd.DataFrame(columns=casosc.columns, dtype=casosc.dtypes.values)\n",
    "for mun, df_mun in casosc.groupby('ibge7'):\n",
    "    sorted_casosc = sorted_casosc.append(df_mun.sort_values('nome_hash'))\n",
    "\n",
    "sorted_casost = pd.DataFrame(columns=casost.columns, dtype=casost.dtypes.values)\n",
    "for mun, df_mun in casost.groupby('ibge_res_pr'):\n",
    "    sorted_casost = sorted_casost.append(df_mun.sort_values('nome_hash'))\n",
    "\n",
    "casosc = sorted_casosc\n",
    "print(f\"casos casos_confirmados: {sorted_casosc.shape}\")\n",
    "casost = sorted_casost\n",
    "print(f\"casos tb_pacientes: {casost.shape}\")\n",
    "print(timer.stop())"
   ]
  },
  {
   "cell_type": "code",
   "execution_count": null,
   "metadata": {},
   "outputs": [],
   "source": [
    "print(all(casosc['nome_hash'].values == casost['nome_hash'].values))\n",
    "print(all(casosc['ibge7'].values == casost['ibge_res_pr'].values))"
   ]
  },
  {
   "cell_type": "code",
   "execution_count": null,
   "metadata": {},
   "outputs": [],
   "source": [
    "casosc = casosc.drop(columns=['hash','hash_less','hash_more','hash_atend','hash_less_atend','hash_more_atend'])\n",
    "casost = casost.drop(columns=['hash','hash_less','hash_more','hash_atend','hash_less_atend','hash_more_atend'])"
   ]
  },
  {
   "cell_type": "code",
   "execution_count": null,
   "metadata": {},
   "outputs": [],
   "source": [
    "casosc['idade_mais1'] = casosc['idade'] + 1\n",
    "casosc['idade_menos1'] = casosc['idade'] - 1"
   ]
  },
  {
   "cell_type": "code",
   "execution_count": null,
   "metadata": {},
   "outputs": [],
   "source": [
    "writer = pd.ExcelWriter(join(output,\"novos_tb_pacientes.xlsx\"),\n",
    "                        engine='xlsxwriter',\n",
    "                        datetime_format='dd/mm/yyyy',\n",
    "                        date_format='dd/mm/yyyy')\n",
    "\n",
    "casost.to_excel(writer,index=None)\n",
    "\n",
    "writer.save()\n",
    "writer.close()"
   ]
  },
  {
   "cell_type": "code",
   "execution_count": null,
   "metadata": {},
   "outputs": [],
   "source": [
    "writer = pd.ExcelWriter(join(output,\"casos_ordenados.xlsx\"),\n",
    "                        engine='xlsxwriter',\n",
    "                        datetime_format='dd/mm/yyyy',\n",
    "                        date_format='dd/mm/yyyy')\n",
    "\n",
    "casosc.to_excel(writer,index=None)\n",
    "\n",
    "writer.save()\n",
    "writer.close()"
   ]
  },
  {
   "cell_type": "code",
   "execution_count": null,
   "metadata": {},
   "outputs": [],
   "source": [
    "print(timedelta(seconds=timer_all.stop()))\n",
    "exit()"
   ]
  },
  {
   "cell_type": "code",
   "execution_count": 30,
   "metadata": {
    "tags": []
   },
   "outputs": [],
   "source": [
    "\n",
    "writer = pd.ExcelWriter(\"obitos_tb.xlsx\",\n",
    "                        engine='xlsxwriter',\n",
    "                        datetime_format='dd/mm/yyyy',\n",
    "                        date_format='dd/mm/yyyy')\n",
    "\n",
    "\n",
    "obitos_tb = pd.DataFrame(columns=casost.columns, dtype=casost.dtypes.values)\n",
    "\n",
    "for dt, df in casost.loc[casost['obito']=='SIM'].sort_values('dt_obito').groupby('dt_obito'):\n",
    "    obitos_tb = obitos_tb.append(df.sort_values('nome_hash'))\n",
    "\n",
    "obitos_tb[['nome','sexo','idade','mun_resid','telefone','dt_obito']].to_excel(writer,index=None)\n",
    "writer.save()\n",
    "writer.close()"
   ]
  },
  {
   "cell_type": "code",
   "execution_count": 31,
   "metadata": {},
   "outputs": [
    {
     "output_type": "execute_result",
     "data": {
      "text/plain": [
       "       identificacao ibge_res_pr ibge_atend_pr                          nome  \\\n",
       "291600         27696     4115200       4126256  ROSANGELA ANTUNES MACHADO DA   \n",
       "274981          4062     4115200       4115200              BELCHIOR MARTINS   \n",
       "69690          24247     4104808       4104808            NEI SEUTER MARTINS   \n",
       "52491          11387     4104303       4104303                 GABRIEL GOLIN   \n",
       "112214        179699     4106902       4106902      DENISE STANKEVICZ CORREA   \n",
       "...              ...         ...           ...                           ...   \n",
       "216786        485807     4109807       4109807                  JOSE SHIROMA   \n",
       "13323         501235     4101507       4101507          MARIA ELIETE DE LIMA   \n",
       "175377        476328     4107603       4107603         MARIA RIBEIRO DE LIMA   \n",
       "323093        501970     4118402       4126256                  RICARDO AUDI   \n",
       "9879          502609     4101408       4101408           VALMIQUI DE ALMEIDA   \n",
       "\n",
       "       sexo idade     mun_resid     mun_atend                  laboratorio  \\\n",
       "291600    F    54       MARINGA       SARANDI                        LACEN   \n",
       "274981    M    84       MARINGA       MARINGA                        LACEN   \n",
       "69690     M    66      CASCAVEL      CASCAVEL                        LACEN   \n",
       "52491     M    72  CAMPO MOURAO  CAMPO MOURAO                        LACEN   \n",
       "112214    F    40      CURITIBA      CURITIBA                         HSNG   \n",
       "...     ...   ...           ...           ...                          ...   \n",
       "216786    M    82       IBIPORA       IBIPORA  COVID-19 BIOLOGIA MOLECULAR   \n",
       "13323     F    61     ARAPONGAS     ARAPONGAS  COVID-19 BIOLOGIA MOLECULAR   \n",
       "175377    F    70       FAXINAL       FAXINAL  COVID-19 BIOLOGIA MOLECULAR   \n",
       "323093    M    66     PARANAVAI       SARANDI  COVID-19 BIOLOGIA MOLECULAR   \n",
       "9879      M    65     APUCARANA     APUCARANA           VIRUS RESPIRATORIO   \n",
       "\n",
       "          dt_diag dt_notificacao dt_inicio_sintomas 15_dia_isolamento  \\\n",
       "291600 2020-03-27     2020-03-27         2020-03-14               NaT   \n",
       "274981 2020-03-27     2020-03-27         2020-03-15               NaT   \n",
       "69690  2020-03-29     2020-03-29         2020-03-14               NaT   \n",
       "52491  2020-04-02     2020-04-02         2020-03-18               NaT   \n",
       "112214 2020-04-03     2020-08-27                NaT               NaT   \n",
       "...           ...            ...                ...               ...   \n",
       "216786 2020-12-23     2020-12-30         2020-12-20               NaT   \n",
       "13323  2021-01-04     2021-01-05         2020-12-24               NaT   \n",
       "175377 2020-12-27     2020-12-27         2020-12-16               NaT   \n",
       "323093 2020-12-21     2021-01-05         2020-11-30               NaT   \n",
       "9879   2020-12-13     2021-01-05                NaT               NaT   \n",
       "\n",
       "       dt_viagem_retorno local_viagem exposicao data_de_internamento local  \\\n",
       "291600               NaN          NaN       NaN                  NaT   NaN   \n",
       "274981               NaN          NaN       NaN                  NaT   NaN   \n",
       "69690                NaN          NaN       NaN                  NaT   NaN   \n",
       "52491                NaN          NaN       NaN                  NaT   NaN   \n",
       "112214               NaN          NaN       NaN                  NaT   NaN   \n",
       "...                  ...          ...       ...                  ...   ...   \n",
       "216786               NaN          NaN       NaN                  NaT   NaN   \n",
       "13323                NaN          NaN       NaN                  NaT   NaN   \n",
       "175377               NaN          NaN       NaN                  NaT   NaN   \n",
       "323093               NaN          NaN       NaN                  NaT   NaN   \n",
       "9879                 NaN          NaN       NaN                  NaT   NaN   \n",
       "\n",
       "       clinico_uti dt_alta obito   dt_obito muni_res_pr hist_viagem  \\\n",
       "291600         NaN     NaT   SIM 2020-03-25         NaN         NaN   \n",
       "274981         NaN     NaT   SIM 2020-03-26         NaN         NaN   \n",
       "69690          NaN     NaT   SIM 2020-03-30         NaN         NaN   \n",
       "52491          NaN     NaT   SIM 2020-03-31         NaN         NaN   \n",
       "112214         NaN     NaT   SIM 2020-04-02         NaN         NaN   \n",
       "...            ...     ...   ...        ...         ...         ...   \n",
       "216786         NaN     NaT   SIM 2021-01-05         NaN         NaN   \n",
       "13323          NaN     NaT   SIM 2021-01-05         NaN         NaN   \n",
       "175377         NaN     NaT   SIM 2021-01-05         NaN         NaN   \n",
       "323093         NaN     NaT   SIM 2021-01-05         NaN         NaN   \n",
       "9879           NaN     NaT   SIM 2021-01-05         NaN         NaN   \n",
       "\n",
       "       casos_novos telefone dt_atualizacao fonte status  eas privado_sus  uti  \\\n",
       "291600         NaN      NaN            NaT          NaN  NaN         NaN  NaN   \n",
       "274981         NaN      NaN            NaT          NaN  NaN         NaN  NaN   \n",
       "69690          NaN      NaN            NaT          NaN  NaN         NaN  NaN   \n",
       "52491          NaN      NaN            NaT          NaN  NaN         NaN  NaN   \n",
       "112214         NaN      NaN            NaT          NaN  NaN         NaN  NaN   \n",
       "...            ...      ...            ...   ...    ...  ...         ...  ...   \n",
       "216786         NaN      NaN            NaT          NaN  NaN         NaN  NaN   \n",
       "13323          NaN      NaN            NaT          NaN  NaN         NaN  NaN   \n",
       "175377         NaN      NaN            NaT          NaN  NaN         NaN  NaN   \n",
       "323093         NaN      NaN            NaT          NaN  NaN         NaN  NaN   \n",
       "9879           NaN      NaN            NaT          NaN  NaN         NaN  NaN   \n",
       "\n",
       "       dt_internamento evolucao dt_evolucao temp_permanencia cod_laboratorio  \\\n",
       "291600             NaT      NaN         NaN              NaN              23   \n",
       "274981             NaT      NaN         NaN              NaN              23   \n",
       "69690              NaT      NaN         NaN              NaN              23   \n",
       "52491              NaT      NaN         NaN              NaN              23   \n",
       "112214             NaT      NaN         NaN              NaN              43   \n",
       "...                ...      ...         ...              ...             ...   \n",
       "216786             NaT      NaN         NaN              NaN             130   \n",
       "13323              NaT      NaN         NaN              NaN             130   \n",
       "175377             NaT      NaN         NaN              NaN             130   \n",
       "323093             NaT      NaN         NaN              NaN             130   \n",
       "9879               NaT      NaN         NaN              NaN             144   \n",
       "\n",
       "       idade_original dt_com_obito dt_com_recuperado idade_mais1 idade_menos1  \\\n",
       "291600             54          NaT               NaT          55           53   \n",
       "274981             84          NaT               NaT          85           83   \n",
       "69690              66          NaT               NaT          67           65   \n",
       "52491              72          NaT               NaT          73           71   \n",
       "112214             40   2020-08-27               NaT          41           39   \n",
       "...               ...          ...               ...         ...          ...   \n",
       "216786             82   2021-01-05               NaT          83           81   \n",
       "13323              61   2021-01-05               NaT          62           60   \n",
       "175377             70   2021-01-05               NaT          71           69   \n",
       "323093             66   2021-01-05               NaT          67           65   \n",
       "9879               65   2021-01-05               NaT          66           64   \n",
       "\n",
       "                        nome_hash  \n",
       "291600  ROSANGELAANTUNESMACHADODA  \n",
       "274981            BELCHIORMARTINS  \n",
       "69690            NEISEUTERMARTINS  \n",
       "52491                GABRIELGOLIN  \n",
       "112214     DENISESTANKEVICZCORREA  \n",
       "...                           ...  \n",
       "216786                JOSESHIROMA  \n",
       "13323           MARIAELIETEDELIMA  \n",
       "175377         MARIARIBEIRODELIMA  \n",
       "323093                RICARDOAUDI  \n",
       "9879            VALMIQUIDEALMEIDA  \n",
       "\n",
       "[8155 rows x 43 columns]"
      ],
      "text/html": "<div>\n<style scoped>\n    .dataframe tbody tr th:only-of-type {\n        vertical-align: middle;\n    }\n\n    .dataframe tbody tr th {\n        vertical-align: top;\n    }\n\n    .dataframe thead th {\n        text-align: right;\n    }\n</style>\n<table border=\"1\" class=\"dataframe\">\n  <thead>\n    <tr style=\"text-align: right;\">\n      <th></th>\n      <th>identificacao</th>\n      <th>ibge_res_pr</th>\n      <th>ibge_atend_pr</th>\n      <th>nome</th>\n      <th>sexo</th>\n      <th>idade</th>\n      <th>mun_resid</th>\n      <th>mun_atend</th>\n      <th>laboratorio</th>\n      <th>dt_diag</th>\n      <th>dt_notificacao</th>\n      <th>dt_inicio_sintomas</th>\n      <th>15_dia_isolamento</th>\n      <th>dt_viagem_retorno</th>\n      <th>local_viagem</th>\n      <th>exposicao</th>\n      <th>data_de_internamento</th>\n      <th>local</th>\n      <th>clinico_uti</th>\n      <th>dt_alta</th>\n      <th>obito</th>\n      <th>dt_obito</th>\n      <th>muni_res_pr</th>\n      <th>hist_viagem</th>\n      <th>casos_novos</th>\n      <th>telefone</th>\n      <th>dt_atualizacao</th>\n      <th>fonte</th>\n      <th>status</th>\n      <th>eas</th>\n      <th>privado_sus</th>\n      <th>uti</th>\n      <th>dt_internamento</th>\n      <th>evolucao</th>\n      <th>dt_evolucao</th>\n      <th>temp_permanencia</th>\n      <th>cod_laboratorio</th>\n      <th>idade_original</th>\n      <th>dt_com_obito</th>\n      <th>dt_com_recuperado</th>\n      <th>idade_mais1</th>\n      <th>idade_menos1</th>\n      <th>nome_hash</th>\n    </tr>\n  </thead>\n  <tbody>\n    <tr>\n      <th>291600</th>\n      <td>27696</td>\n      <td>4115200</td>\n      <td>4126256</td>\n      <td>ROSANGELA ANTUNES MACHADO DA</td>\n      <td>F</td>\n      <td>54</td>\n      <td>MARINGA</td>\n      <td>SARANDI</td>\n      <td>LACEN</td>\n      <td>2020-03-27</td>\n      <td>2020-03-27</td>\n      <td>2020-03-14</td>\n      <td>NaT</td>\n      <td>NaN</td>\n      <td>NaN</td>\n      <td>NaN</td>\n      <td>NaT</td>\n      <td>NaN</td>\n      <td>NaN</td>\n      <td>NaT</td>\n      <td>SIM</td>\n      <td>2020-03-25</td>\n      <td>NaN</td>\n      <td>NaN</td>\n      <td>NaN</td>\n      <td>NaN</td>\n      <td>NaT</td>\n      <td></td>\n      <td>NaN</td>\n      <td>NaN</td>\n      <td>NaN</td>\n      <td>NaN</td>\n      <td>NaT</td>\n      <td>NaN</td>\n      <td>NaN</td>\n      <td>NaN</td>\n      <td>23</td>\n      <td>54</td>\n      <td>NaT</td>\n      <td>NaT</td>\n      <td>55</td>\n      <td>53</td>\n      <td>ROSANGELAANTUNESMACHADODA</td>\n    </tr>\n    <tr>\n      <th>274981</th>\n      <td>4062</td>\n      <td>4115200</td>\n      <td>4115200</td>\n      <td>BELCHIOR MARTINS</td>\n      <td>M</td>\n      <td>84</td>\n      <td>MARINGA</td>\n      <td>MARINGA</td>\n      <td>LACEN</td>\n      <td>2020-03-27</td>\n      <td>2020-03-27</td>\n      <td>2020-03-15</td>\n      <td>NaT</td>\n      <td>NaN</td>\n      <td>NaN</td>\n      <td>NaN</td>\n      <td>NaT</td>\n      <td>NaN</td>\n      <td>NaN</td>\n      <td>NaT</td>\n      <td>SIM</td>\n      <td>2020-03-26</td>\n      <td>NaN</td>\n      <td>NaN</td>\n      <td>NaN</td>\n      <td>NaN</td>\n      <td>NaT</td>\n      <td></td>\n      <td>NaN</td>\n      <td>NaN</td>\n      <td>NaN</td>\n      <td>NaN</td>\n      <td>NaT</td>\n      <td>NaN</td>\n      <td>NaN</td>\n      <td>NaN</td>\n      <td>23</td>\n      <td>84</td>\n      <td>NaT</td>\n      <td>NaT</td>\n      <td>85</td>\n      <td>83</td>\n      <td>BELCHIORMARTINS</td>\n    </tr>\n    <tr>\n      <th>69690</th>\n      <td>24247</td>\n      <td>4104808</td>\n      <td>4104808</td>\n      <td>NEI SEUTER MARTINS</td>\n      <td>M</td>\n      <td>66</td>\n      <td>CASCAVEL</td>\n      <td>CASCAVEL</td>\n      <td>LACEN</td>\n      <td>2020-03-29</td>\n      <td>2020-03-29</td>\n      <td>2020-03-14</td>\n      <td>NaT</td>\n      <td>NaN</td>\n      <td>NaN</td>\n      <td>NaN</td>\n      <td>NaT</td>\n      <td>NaN</td>\n      <td>NaN</td>\n      <td>NaT</td>\n      <td>SIM</td>\n      <td>2020-03-30</td>\n      <td>NaN</td>\n      <td>NaN</td>\n      <td>NaN</td>\n      <td>NaN</td>\n      <td>NaT</td>\n      <td></td>\n      <td>NaN</td>\n      <td>NaN</td>\n      <td>NaN</td>\n      <td>NaN</td>\n      <td>NaT</td>\n      <td>NaN</td>\n      <td>NaN</td>\n      <td>NaN</td>\n      <td>23</td>\n      <td>66</td>\n      <td>NaT</td>\n      <td>NaT</td>\n      <td>67</td>\n      <td>65</td>\n      <td>NEISEUTERMARTINS</td>\n    </tr>\n    <tr>\n      <th>52491</th>\n      <td>11387</td>\n      <td>4104303</td>\n      <td>4104303</td>\n      <td>GABRIEL GOLIN</td>\n      <td>M</td>\n      <td>72</td>\n      <td>CAMPO MOURAO</td>\n      <td>CAMPO MOURAO</td>\n      <td>LACEN</td>\n      <td>2020-04-02</td>\n      <td>2020-04-02</td>\n      <td>2020-03-18</td>\n      <td>NaT</td>\n      <td>NaN</td>\n      <td>NaN</td>\n      <td>NaN</td>\n      <td>NaT</td>\n      <td>NaN</td>\n      <td>NaN</td>\n      <td>NaT</td>\n      <td>SIM</td>\n      <td>2020-03-31</td>\n      <td>NaN</td>\n      <td>NaN</td>\n      <td>NaN</td>\n      <td>NaN</td>\n      <td>NaT</td>\n      <td></td>\n      <td>NaN</td>\n      <td>NaN</td>\n      <td>NaN</td>\n      <td>NaN</td>\n      <td>NaT</td>\n      <td>NaN</td>\n      <td>NaN</td>\n      <td>NaN</td>\n      <td>23</td>\n      <td>72</td>\n      <td>NaT</td>\n      <td>NaT</td>\n      <td>73</td>\n      <td>71</td>\n      <td>GABRIELGOLIN</td>\n    </tr>\n    <tr>\n      <th>112214</th>\n      <td>179699</td>\n      <td>4106902</td>\n      <td>4106902</td>\n      <td>DENISE STANKEVICZ CORREA</td>\n      <td>F</td>\n      <td>40</td>\n      <td>CURITIBA</td>\n      <td>CURITIBA</td>\n      <td>HSNG</td>\n      <td>2020-04-03</td>\n      <td>2020-08-27</td>\n      <td>NaT</td>\n      <td>NaT</td>\n      <td>NaN</td>\n      <td>NaN</td>\n      <td>NaN</td>\n      <td>NaT</td>\n      <td>NaN</td>\n      <td>NaN</td>\n      <td>NaT</td>\n      <td>SIM</td>\n      <td>2020-04-02</td>\n      <td>NaN</td>\n      <td>NaN</td>\n      <td>NaN</td>\n      <td>NaN</td>\n      <td>NaT</td>\n      <td></td>\n      <td>NaN</td>\n      <td>NaN</td>\n      <td>NaN</td>\n      <td>NaN</td>\n      <td>NaT</td>\n      <td>NaN</td>\n      <td>NaN</td>\n      <td>NaN</td>\n      <td>43</td>\n      <td>40</td>\n      <td>2020-08-27</td>\n      <td>NaT</td>\n      <td>41</td>\n      <td>39</td>\n      <td>DENISESTANKEVICZCORREA</td>\n    </tr>\n    <tr>\n      <th>...</th>\n      <td>...</td>\n      <td>...</td>\n      <td>...</td>\n      <td>...</td>\n      <td>...</td>\n      <td>...</td>\n      <td>...</td>\n      <td>...</td>\n      <td>...</td>\n      <td>...</td>\n      <td>...</td>\n      <td>...</td>\n      <td>...</td>\n      <td>...</td>\n      <td>...</td>\n      <td>...</td>\n      <td>...</td>\n      <td>...</td>\n      <td>...</td>\n      <td>...</td>\n      <td>...</td>\n      <td>...</td>\n      <td>...</td>\n      <td>...</td>\n      <td>...</td>\n      <td>...</td>\n      <td>...</td>\n      <td>...</td>\n      <td>...</td>\n      <td>...</td>\n      <td>...</td>\n      <td>...</td>\n      <td>...</td>\n      <td>...</td>\n      <td>...</td>\n      <td>...</td>\n      <td>...</td>\n      <td>...</td>\n      <td>...</td>\n      <td>...</td>\n      <td>...</td>\n      <td>...</td>\n      <td>...</td>\n    </tr>\n    <tr>\n      <th>216786</th>\n      <td>485807</td>\n      <td>4109807</td>\n      <td>4109807</td>\n      <td>JOSE SHIROMA</td>\n      <td>M</td>\n      <td>82</td>\n      <td>IBIPORA</td>\n      <td>IBIPORA</td>\n      <td>COVID-19 BIOLOGIA MOLECULAR</td>\n      <td>2020-12-23</td>\n      <td>2020-12-30</td>\n      <td>2020-12-20</td>\n      <td>NaT</td>\n      <td>NaN</td>\n      <td>NaN</td>\n      <td>NaN</td>\n      <td>NaT</td>\n      <td>NaN</td>\n      <td>NaN</td>\n      <td>NaT</td>\n      <td>SIM</td>\n      <td>2021-01-05</td>\n      <td>NaN</td>\n      <td>NaN</td>\n      <td>NaN</td>\n      <td>NaN</td>\n      <td>NaT</td>\n      <td></td>\n      <td>NaN</td>\n      <td>NaN</td>\n      <td>NaN</td>\n      <td>NaN</td>\n      <td>NaT</td>\n      <td>NaN</td>\n      <td>NaN</td>\n      <td>NaN</td>\n      <td>130</td>\n      <td>82</td>\n      <td>2021-01-05</td>\n      <td>NaT</td>\n      <td>83</td>\n      <td>81</td>\n      <td>JOSESHIROMA</td>\n    </tr>\n    <tr>\n      <th>13323</th>\n      <td>501235</td>\n      <td>4101507</td>\n      <td>4101507</td>\n      <td>MARIA ELIETE DE LIMA</td>\n      <td>F</td>\n      <td>61</td>\n      <td>ARAPONGAS</td>\n      <td>ARAPONGAS</td>\n      <td>COVID-19 BIOLOGIA MOLECULAR</td>\n      <td>2021-01-04</td>\n      <td>2021-01-05</td>\n      <td>2020-12-24</td>\n      <td>NaT</td>\n      <td>NaN</td>\n      <td>NaN</td>\n      <td>NaN</td>\n      <td>NaT</td>\n      <td>NaN</td>\n      <td>NaN</td>\n      <td>NaT</td>\n      <td>SIM</td>\n      <td>2021-01-05</td>\n      <td>NaN</td>\n      <td>NaN</td>\n      <td>NaN</td>\n      <td>NaN</td>\n      <td>NaT</td>\n      <td></td>\n      <td>NaN</td>\n      <td>NaN</td>\n      <td>NaN</td>\n      <td>NaN</td>\n      <td>NaT</td>\n      <td>NaN</td>\n      <td>NaN</td>\n      <td>NaN</td>\n      <td>130</td>\n      <td>61</td>\n      <td>2021-01-05</td>\n      <td>NaT</td>\n      <td>62</td>\n      <td>60</td>\n      <td>MARIAELIETEDELIMA</td>\n    </tr>\n    <tr>\n      <th>175377</th>\n      <td>476328</td>\n      <td>4107603</td>\n      <td>4107603</td>\n      <td>MARIA RIBEIRO DE LIMA</td>\n      <td>F</td>\n      <td>70</td>\n      <td>FAXINAL</td>\n      <td>FAXINAL</td>\n      <td>COVID-19 BIOLOGIA MOLECULAR</td>\n      <td>2020-12-27</td>\n      <td>2020-12-27</td>\n      <td>2020-12-16</td>\n      <td>NaT</td>\n      <td>NaN</td>\n      <td>NaN</td>\n      <td>NaN</td>\n      <td>NaT</td>\n      <td>NaN</td>\n      <td>NaN</td>\n      <td>NaT</td>\n      <td>SIM</td>\n      <td>2021-01-05</td>\n      <td>NaN</td>\n      <td>NaN</td>\n      <td>NaN</td>\n      <td>NaN</td>\n      <td>NaT</td>\n      <td></td>\n      <td>NaN</td>\n      <td>NaN</td>\n      <td>NaN</td>\n      <td>NaN</td>\n      <td>NaT</td>\n      <td>NaN</td>\n      <td>NaN</td>\n      <td>NaN</td>\n      <td>130</td>\n      <td>70</td>\n      <td>2021-01-05</td>\n      <td>NaT</td>\n      <td>71</td>\n      <td>69</td>\n      <td>MARIARIBEIRODELIMA</td>\n    </tr>\n    <tr>\n      <th>323093</th>\n      <td>501970</td>\n      <td>4118402</td>\n      <td>4126256</td>\n      <td>RICARDO AUDI</td>\n      <td>M</td>\n      <td>66</td>\n      <td>PARANAVAI</td>\n      <td>SARANDI</td>\n      <td>COVID-19 BIOLOGIA MOLECULAR</td>\n      <td>2020-12-21</td>\n      <td>2021-01-05</td>\n      <td>2020-11-30</td>\n      <td>NaT</td>\n      <td>NaN</td>\n      <td>NaN</td>\n      <td>NaN</td>\n      <td>NaT</td>\n      <td>NaN</td>\n      <td>NaN</td>\n      <td>NaT</td>\n      <td>SIM</td>\n      <td>2021-01-05</td>\n      <td>NaN</td>\n      <td>NaN</td>\n      <td>NaN</td>\n      <td>NaN</td>\n      <td>NaT</td>\n      <td></td>\n      <td>NaN</td>\n      <td>NaN</td>\n      <td>NaN</td>\n      <td>NaN</td>\n      <td>NaT</td>\n      <td>NaN</td>\n      <td>NaN</td>\n      <td>NaN</td>\n      <td>130</td>\n      <td>66</td>\n      <td>2021-01-05</td>\n      <td>NaT</td>\n      <td>67</td>\n      <td>65</td>\n      <td>RICARDOAUDI</td>\n    </tr>\n    <tr>\n      <th>9879</th>\n      <td>502609</td>\n      <td>4101408</td>\n      <td>4101408</td>\n      <td>VALMIQUI DE ALMEIDA</td>\n      <td>M</td>\n      <td>65</td>\n      <td>APUCARANA</td>\n      <td>APUCARANA</td>\n      <td>VIRUS RESPIRATORIO</td>\n      <td>2020-12-13</td>\n      <td>2021-01-05</td>\n      <td>NaT</td>\n      <td>NaT</td>\n      <td>NaN</td>\n      <td>NaN</td>\n      <td>NaN</td>\n      <td>NaT</td>\n      <td>NaN</td>\n      <td>NaN</td>\n      <td>NaT</td>\n      <td>SIM</td>\n      <td>2021-01-05</td>\n      <td>NaN</td>\n      <td>NaN</td>\n      <td>NaN</td>\n      <td>NaN</td>\n      <td>NaT</td>\n      <td></td>\n      <td>NaN</td>\n      <td>NaN</td>\n      <td>NaN</td>\n      <td>NaN</td>\n      <td>NaT</td>\n      <td>NaN</td>\n      <td>NaN</td>\n      <td>NaN</td>\n      <td>144</td>\n      <td>65</td>\n      <td>2021-01-05</td>\n      <td>NaT</td>\n      <td>66</td>\n      <td>64</td>\n      <td>VALMIQUIDEALMEIDA</td>\n    </tr>\n  </tbody>\n</table>\n<p>8155 rows × 43 columns</p>\n</div>"
     },
     "metadata": {},
     "execution_count": 31
    }
   ],
   "source": [
    "obitos_tb"
   ]
  },
  {
   "cell_type": "code",
   "execution_count": null,
   "metadata": {},
   "outputs": [],
   "source": []
  }
 ]
}