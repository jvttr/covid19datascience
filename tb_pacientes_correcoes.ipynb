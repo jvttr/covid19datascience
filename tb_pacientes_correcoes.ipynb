{
 "metadata": {
  "language_info": {
   "codemirror_mode": {
    "name": "ipython",
    "version": 3
   },
   "file_extension": ".py",
   "mimetype": "text/x-python",
   "name": "python",
   "nbconvert_exporter": "python",
   "pygments_lexer": "ipython3",
   "version": "3.8.5-final"
  },
  "orig_nbformat": 2,
  "kernelspec": {
   "name": "python3",
   "display_name": "Python 3",
   "language": "python"
  }
 },
 "nbformat": 4,
 "nbformat_minor": 2,
 "cells": [
  {
   "cell_type": "code",
   "execution_count": 1,
   "metadata": {},
   "outputs": [],
   "source": [
    "from sys import exit\n",
    "import numpy as np\n",
    "import pandas as pd\n",
    "from os.path import dirname, join, isfile, isdir\n",
    "from os import makedirs\n",
    "from datetime import datetime, timedelta\n",
    "\n",
    "from bulletin.data.tb_pacientes import TbPacientes\n",
    "from bulletin.data.casos_confirmados import CasosConfirmados\n",
    "from bulletin.commom.utils import Timer\n",
    "\n",
    "from hashlib import sha256\n",
    "from bulletin.commom.normalize import normalize_text, normalize_number, normalize_hash, normalize_cpf\n",
    "\n",
    "pd.set_option('display.max_columns', None)\n",
    "\n",
    "output = join(\"output\",\"correcoes\",\"tb_pacientes\")\n",
    "\n",
    "if not isdir(output):\n",
    "    makedirs(output)\n",
    "\n",
    "timer = Timer()"
   ]
  },
  {
   "cell_type": "code",
   "execution_count": 2,
   "metadata": {},
   "outputs": [],
   "source": [
    "timer_all = Timer()\n",
    "timer_all.reset()"
   ]
  },
  {
   "cell_type": "code",
   "execution_count": 3,
   "metadata": {},
   "outputs": [
    {
     "output_type": "execute_result",
     "data": {
      "text/plain": [
       "125.2616195678711"
      ]
     },
     "metadata": {},
     "execution_count": 3
    }
   ],
   "source": [
    "timer.reset()\n",
    "tb = TbPacientes()\n",
    "tb.update()\n",
    "timer.stop()"
   ]
  },
  {
   "cell_type": "code",
   "execution_count": 4,
   "metadata": {},
   "outputs": [
    {
     "output_type": "stream",
     "name": "stdout",
     "text": [
      "Casos confirmados excluidos: 0\n",
      "Obitos confirmados excluidos: 0\n"
     ]
    },
    {
     "output_type": "execute_result",
     "data": {
      "text/plain": [
       "192.8892707824707"
      ]
     },
     "metadata": {},
     "execution_count": 4
    }
   ],
   "source": [
    "timer.reset()\n",
    "casos_confirmados = CasosConfirmados()\n",
    "casos_confirmados.update()\n",
    "timer.stop()"
   ]
  },
  {
   "cell_type": "code",
   "execution_count": 5,
   "metadata": {},
   "outputs": [
    {
     "output_type": "stream",
     "name": "stdout",
     "text": [
      "casos casos_confirmados: (430873, 21)\ncasos tb_pacientes: (430873, 48)\n"
     ]
    }
   ],
   "source": [
    "casost = tb.get()\n",
    "casosc = casos_confirmados.get_casos()\n",
    "print(f\"casos casos_confirmados: {casosc.shape}\")\n",
    "print(f\"casos tb_pacientes: {casost.shape}\")"
   ]
  },
  {
   "cell_type": "code",
   "execution_count": 6,
   "metadata": {},
   "outputs": [],
   "source": [
    "idx_casos_confirmados = casosc[casosc['hash'].isin(casost['hash'])].index.tolist()\n",
    "idx_casos_confirmados += casosc[casosc['hash_less'].isin(casost['hash'])].index.tolist()\n",
    "idx_casos_confirmados += casosc[casosc['hash_more'].isin(casost['hash'])].index.tolist()\n",
    "idx_casos_confirmados += casosc[casosc['hash_atend'].isin(casost['hash_atend'])].index.tolist()\n",
    "idx_casos_confirmados += casosc[casosc['hash_less_atend'].isin(casost['hash_atend'])].index.tolist()\n",
    "idx_casos_confirmados += casosc[casosc['hash_more_atend'].isin(casost['hash_atend'])].index.tolist()\n",
    "idx_casos_confirmados = set(idx_casos_confirmados)\n",
    "casos_confirmados_nao_tb_pacientes = casosc.loc[ set(casosc.index.tolist()) - idx_casos_confirmados ].sort_values('ordem')"
   ]
  },
  {
   "cell_type": "code",
   "execution_count": 7,
   "metadata": {},
   "outputs": [],
   "source": [
    "idx_tb_pacientes = casost[casost['hash'].isin(casosc['hash'])].index.tolist()\n",
    "idx_tb_pacientes += casost[casost['hash'].isin(casosc['hash_less'])].index.tolist()\n",
    "idx_tb_pacientes += casost[casost['hash'].isin(casosc['hash_more'])].index.tolist()\n",
    "idx_tb_pacientes += casost[casost['hash_atend'].isin(casosc['hash_atend'])].index.tolist()\n",
    "idx_tb_pacientes += casost[casost['hash_atend'].isin(casosc['hash_less_atend'])].index.tolist()\n",
    "idx_tb_pacientes += casost[casost['hash_atend'].isin(casosc['hash_more_atend'])].index.tolist()\n",
    "idx_tb_pacientes = set(idx_tb_pacientes)\n",
    "tb_pacientes_nao_casos_confirmados = casost.loc[ set(casost.index.tolist()) - idx_tb_pacientes ].sort_values('identificacao')\n"
   ]
  },
  {
   "cell_type": "code",
   "execution_count": 8,
   "metadata": {},
   "outputs": [
    {
     "output_type": "stream",
     "name": "stdout",
     "text": [
      "casos_confirmados_nao_tb_pacientes: (0, 21)\ntb_pacientes_nao_casos_confirmados: (0, 48)\n"
     ]
    }
   ],
   "source": [
    "print(f\"casos_confirmados_nao_tb_pacientes: {casos_confirmados_nao_tb_pacientes.shape}\")\n",
    "if len(casos_confirmados_nao_tb_pacientes) > 0:\n",
    "    casos_confirmados_nao_tb_pacientes.sort_values('nome').to_excel(join(output,'casos_confirmados_nao_tb_pacientes.xlsx'), index=False)\n",
    "print(f\"tb_pacientes_nao_casos_confirmados: {tb_pacientes_nao_casos_confirmados.shape}\")\n",
    "if len(tb_pacientes_nao_casos_confirmados) > 0:\n",
    "    tb_pacientes_nao_casos_confirmados.sort_values('nome').to_excel(join(output,'tb_pacientes_nao_casos_confirmados.xlsx'), index=False)"
   ]
  },
  {
   "cell_type": "code",
   "execution_count": 9,
   "metadata": {},
   "outputs": [],
   "source": [
    "casost['ibge_res_pr'] = casost['ibge_res_pr'].fillna('9999999')\n",
    "casosc['ibge7'] = casosc['ibge7'].fillna('9999999')"
   ]
  },
  {
   "cell_type": "code",
   "execution_count": 10,
   "metadata": {},
   "outputs": [],
   "source": [
    "casosc['nome_hash'] = casosc['nome'].apply(normalize_hash)\n",
    "casost['nome_hash'] = casost['nome'].apply(normalize_hash)"
   ]
  },
  {
   "cell_type": "code",
   "execution_count": 11,
   "metadata": {},
   "outputs": [
    {
     "output_type": "stream",
     "name": "stdout",
     "text": [
      "True\nTrue\n"
     ]
    },
    {
     "output_type": "error",
     "ename": "SystemExit",
     "evalue": "",
     "traceback": [
      "An exception has occurred, use %tb to see the full traceback.\n",
      "\u001b[1;31mSystemExit\u001b[0m\n"
     ]
    }
   ],
   "source": [
    "print(all(casosc['nome_hash'].values == casost['nome_hash'].values))\n",
    "print(all(casosc['ibge7'].values == casost['ibge_res_pr'].values))\n",
    "# exit()"
   ]
  },
  {
   "cell_type": "code",
   "execution_count": 12,
   "metadata": {},
   "outputs": [
    {
     "output_type": "stream",
     "name": "stdout",
     "text": [
      "casos casos_confirmados: (430873, 22)\ncasos tb_pacientes: (430873, 49)\n482.1813042163849\n"
     ]
    }
   ],
   "source": [
    "timer.reset()\n",
    "\n",
    "sorted_casosc = pd.DataFrame(columns=casosc.columns, dtype=casosc.dtypes.values)\n",
    "for mun, df_mun in casosc.groupby('ibge7'):\n",
    "    sorted_casosc = sorted_casosc.append(df_mun.sort_values('nome_hash'))\n",
    "\n",
    "sorted_casost = pd.DataFrame(columns=casost.columns, dtype=casost.dtypes.values)\n",
    "for mun, df_mun in casost.groupby('ibge_res_pr'):\n",
    "    sorted_casost = sorted_casost.append(df_mun.sort_values('nome_hash'))\n",
    "\n",
    "casosc = sorted_casosc\n",
    "print(f\"casos casos_confirmados: {sorted_casosc.shape}\")\n",
    "casost = sorted_casost\n",
    "print(f\"casos tb_pacientes: {casost.shape}\")\n",
    "print(timer.stop())"
   ]
  },
  {
   "cell_type": "code",
   "execution_count": 13,
   "metadata": {},
   "outputs": [
    {
     "output_type": "stream",
     "name": "stdout",
     "text": [
      "True\nTrue\n"
     ]
    }
   ],
   "source": [
    "print(all(casosc['nome_hash'].values == casost['nome_hash'].values))\n",
    "print(all(casosc['ibge7'].values == casost['ibge_res_pr'].values))"
   ]
  },
  {
   "cell_type": "code",
   "execution_count": 14,
   "metadata": {},
   "outputs": [],
   "source": [
    "casosc = casosc.drop(columns=['hash','hash_less','hash_more','hash_atend','hash_less_atend','hash_more_atend'])\n",
    "casost = casost.drop(columns=['hash','hash_less','hash_more','hash_atend','hash_less_atend','hash_more_atend'])"
   ]
  },
  {
   "cell_type": "code",
   "execution_count": 15,
   "metadata": {},
   "outputs": [],
   "source": [
    "casosc['idade_mais1'] = casosc['idade'] + 1\n",
    "casosc['idade_menos1'] = casosc['idade'] - 1"
   ]
  },
  {
   "cell_type": "code",
   "execution_count": 16,
   "metadata": {},
   "outputs": [],
   "source": [
    "writer = pd.ExcelWriter(join(output,\"novos_tb_pacientes.xlsx\"),\n",
    "                        engine='xlsxwriter',\n",
    "                        datetime_format='dd/mm/yyyy',\n",
    "                        date_format='dd/mm/yyyy')\n",
    "\n",
    "casost.to_excel(writer,index=None)\n",
    "\n",
    "writer.save()\n",
    "writer.close()"
   ]
  },
  {
   "cell_type": "code",
   "execution_count": 17,
   "metadata": {},
   "outputs": [],
   "source": [
    "writer = pd.ExcelWriter(join(output,\"casos_ordenados.xlsx\"),\n",
    "                        engine='xlsxwriter',\n",
    "                        datetime_format='dd/mm/yyyy',\n",
    "                        date_format='dd/mm/yyyy')\n",
    "\n",
    "casosc.to_excel(writer,index=None)\n",
    "\n",
    "writer.save()\n",
    "writer.close()"
   ]
  },
  {
   "cell_type": "code",
   "execution_count": 18,
   "metadata": {},
   "outputs": [
    {
     "output_type": "stream",
     "name": "stdout",
     "text": [
      "0:20:30.798044\n"
     ]
    },
    {
     "output_type": "error",
     "ename": "SystemExit",
     "evalue": "",
     "traceback": [
      "An exception has occurred, use %tb to see the full traceback.\n",
      "\u001b[1;31mSystemExit\u001b[0m\n"
     ]
    }
   ],
   "source": [
    "print(timedelta(seconds=timer_all.stop()))\n",
    "exit()"
   ]
  },
  {
   "cell_type": "code",
   "execution_count": 6,
   "metadata": {
    "tags": []
   },
   "outputs": [],
   "source": [
    "# casost = tb.get()\n",
    "# casost['nome_hash'] = casost['nome'].apply(normalize_hash)\n",
    "writer = pd.ExcelWriter(\"obitos_tb.xlsx\",\n",
    "                        engine='xlsxwriter',\n",
    "                        datetime_format='dd/mm/yyyy',\n",
    "                        date_format='dd/mm/yyyy')\n",
    "\n",
    "\n",
    "obitos_tb = pd.DataFrame(columns=casost.columns, dtype=casost.dtypes.values)\n",
    "\n",
    "for dt, df in casost.loc[casost['obito']=='SIM'].sort_values('dt_obito').groupby('dt_obito'):\n",
    "    obitos_tb = obitos_tb.append(df.sort_values('nome_hash'))\n",
    "\n",
    "obitos_tb[['nome','sexo','idade','mun_resid','telefone','dt_obito']].to_excel(writer,index=None)\n",
    "writer.save()\n",
    "writer.close()"
   ]
  },
  {
   "cell_type": "code",
   "execution_count": 7,
   "metadata": {},
   "outputs": [
    {
     "output_type": "execute_result",
     "data": {
      "text/plain": [
       "       identificacao ibge_res_pr ibge_atend_pr                          nome  \\\n",
       "293481         27696     4115200       4126256  ROSANGELA ANTUNES MACHADO DA   \n",
       "276763          4062     4115200       4115200              BELCHIOR MARTINS   \n",
       "70183          24247     4104808       4104808            NEI SEUTER MARTINS   \n",
       "52878          11387     4104303       4104303                 GABRIEL GOLIN   \n",
       "112941        179699     4106902       4106902      DENISE STANKEVICZ CORREA   \n",
       "...              ...         ...           ...                           ...   \n",
       "325227        501970     4118402       4126256                  RICARDO AUDI   \n",
       "9824          505558     4101408       4101408              SIDNEI DE CAMPOS   \n",
       "9983          502609     4101408       4101408           VALMIQUI DE ALMEIDA   \n",
       "416116        505791     4127700       4127700                 VICENTE ROCHA   \n",
       "309342        501211     4117453       4127700       MARIA DE LOURDES CHAGAS   \n",
       "\n",
       "       sexo idade            mun_resid     mun_atend  \\\n",
       "293481    F    54              MARINGA       SARANDI   \n",
       "276763    M    84              MARINGA       MARINGA   \n",
       "70183     M    66             CASCAVEL      CASCAVEL   \n",
       "52878     M    72         CAMPO MOURAO  CAMPO MOURAO   \n",
       "112941    F    40             CURITIBA      CURITIBA   \n",
       "...     ...   ...                  ...           ...   \n",
       "325227    M    66            PARANAVAI       SARANDI   \n",
       "9824      M    50            APUCARANA     APUCARANA   \n",
       "9983      M    65            APUCARANA     APUCARANA   \n",
       "416116    M    71               TOLEDO        TOLEDO   \n",
       "309342    F    86  OURO VERDE DO OESTE        TOLEDO   \n",
       "\n",
       "                        laboratorio    dt_diag dt_notificacao  \\\n",
       "293481                        LACEN 2020-03-27     2020-03-27   \n",
       "276763                        LACEN 2020-03-27     2020-03-27   \n",
       "70183                         LACEN 2020-03-29     2020-03-29   \n",
       "52878                         LACEN 2020-04-02     2020-04-02   \n",
       "112941                         HSNG 2020-04-03     2020-08-27   \n",
       "...                             ...        ...            ...   \n",
       "325227  COVID-19 BIOLOGIA MOLECULAR 2020-12-21     2021-01-05   \n",
       "9824             VIRUS RESPIRATORIO 2020-12-21     2021-01-06   \n",
       "9983             VIRUS RESPIRATORIO 2020-12-13     2021-01-05   \n",
       "416116           VIRUS RESPIRATORIO 2020-12-06     2021-01-06   \n",
       "309342           VIRUS RESPIRATORIO 2021-01-01     2021-01-05   \n",
       "\n",
       "       dt_inicio_sintomas 15_dia_isolamento dt_viagem_retorno local_viagem  \\\n",
       "293481         2020-03-14               NaT               NaN          NaN   \n",
       "276763         2020-03-15               NaT               NaN          NaN   \n",
       "70183          2020-03-14               NaT               NaN          NaN   \n",
       "52878          2020-03-18               NaT               NaN          NaN   \n",
       "112941                NaT               NaT               NaN          NaN   \n",
       "...                   ...               ...               ...          ...   \n",
       "325227         2020-11-30               NaT               NaN          NaN   \n",
       "9824                  NaT               NaT               NaN          NaN   \n",
       "9983                  NaT               NaT               NaN          NaN   \n",
       "416116         2020-11-28               NaT               NaN          NaN   \n",
       "309342         2020-12-31               NaT               NaN          NaN   \n",
       "\n",
       "       exposicao data_de_internamento local clinico_uti dt_alta obito  \\\n",
       "293481       NaN                  NaT   NaN         NaN     NaT   SIM   \n",
       "276763       NaN                  NaT   NaN         NaN     NaT   SIM   \n",
       "70183        NaN                  NaT   NaN         NaN     NaT   SIM   \n",
       "52878        NaN                  NaT   NaN         NaN     NaT   SIM   \n",
       "112941       NaN                  NaT   NaN         NaN     NaT   SIM   \n",
       "...          ...                  ...   ...         ...     ...   ...   \n",
       "325227       NaN                  NaT   NaN         NaN     NaT   SIM   \n",
       "9824         NaN                  NaT   NaN         NaN     NaT   SIM   \n",
       "9983         NaN                  NaT   NaN         NaN     NaT   SIM   \n",
       "416116       NaN                  NaT   NaN         NaN     NaT   SIM   \n",
       "309342       NaN                  NaT   NaN         NaN     NaT   SIM   \n",
       "\n",
       "         dt_obito muni_res_pr hist_viagem casos_novos telefone dt_atualizacao  \\\n",
       "293481 2020-03-25         NaN         NaN         NaN      NaN            NaT   \n",
       "276763 2020-03-26         NaN         NaN         NaN      NaN            NaT   \n",
       "70183  2020-03-30         NaN         NaN         NaN      NaN            NaT   \n",
       "52878  2020-03-31         NaN         NaN         NaN      NaN            NaT   \n",
       "112941 2020-04-02         NaN         NaN         NaN      NaN            NaT   \n",
       "...           ...         ...         ...         ...      ...            ...   \n",
       "325227 2021-01-05         NaN         NaN         NaN      NaN            NaT   \n",
       "9824   2021-01-05         NaN         NaN         NaN      NaN            NaT   \n",
       "9983   2021-01-05         NaN         NaN         NaN      NaN            NaT   \n",
       "416116 2021-01-05         NaN         NaN         NaN      NaN            NaT   \n",
       "309342 2021-01-06         NaN         NaN         NaN      NaN            NaT   \n",
       "\n",
       "       fonte status  eas privado_sus  uti dt_internamento evolucao  \\\n",
       "293481          NaN  NaN         NaN  NaN             NaT      NaN   \n",
       "276763          NaN  NaN         NaN  NaN             NaT      NaN   \n",
       "70183           NaN  NaN         NaN  NaN             NaT      NaN   \n",
       "52878           NaN  NaN         NaN  NaN             NaT      NaN   \n",
       "112941          NaN  NaN         NaN  NaN             NaT      NaN   \n",
       "...      ...    ...  ...         ...  ...             ...      ...   \n",
       "325227          NaN  NaN         NaN  NaN             NaT      NaN   \n",
       "9824            NaN  NaN         NaN  NaN             NaT      NaN   \n",
       "9983            NaN  NaN         NaN  NaN             NaT      NaN   \n",
       "416116          NaN  NaN         NaN  NaN             NaT      NaN   \n",
       "309342          NaN  NaN         NaN  NaN             NaT      NaN   \n",
       "\n",
       "       dt_evolucao temp_permanencia cod_laboratorio idade_original  \\\n",
       "293481         NaN              NaN              23             54   \n",
       "276763         NaN              NaN              23             84   \n",
       "70183          NaN              NaN              23             66   \n",
       "52878          NaN              NaN              23             72   \n",
       "112941         NaN              NaN              43             40   \n",
       "...            ...              ...             ...            ...   \n",
       "325227         NaN              NaN             130             66   \n",
       "9824           NaN              NaN             144             50   \n",
       "9983           NaN              NaN             144             65   \n",
       "416116         NaN              NaN             144             71   \n",
       "309342         NaN              NaN             144             86   \n",
       "\n",
       "       dt_com_obito dt_com_recuperado idade_mais1 idade_menos1  \\\n",
       "293481          NaT               NaT          55           53   \n",
       "276763          NaT               NaT          85           83   \n",
       "70183           NaT               NaT          67           65   \n",
       "52878           NaT               NaT          73           71   \n",
       "112941   2020-08-27               NaT          41           39   \n",
       "...             ...               ...         ...          ...   \n",
       "325227   2021-01-05               NaT          67           65   \n",
       "9824     2021-01-06               NaT          51           49   \n",
       "9983     2021-01-05               NaT          66           64   \n",
       "416116   2021-01-06               NaT          72           70   \n",
       "309342   2021-01-06               NaT          87           85   \n",
       "\n",
       "                                                     hash  \\\n",
       "293481  59ddac8129df2d9e339ecc671d36e53a53f812cba174e7...   \n",
       "276763  85ac0220b22d0ab62805b5f67d04bb9a462261ac5bfb1d...   \n",
       "70183   c9e6c2af63c81a31de8c998fc6f91febb96021499aa4ba...   \n",
       "52878   e1e0944bb26f111441f1971caf03e742544eeb2d50ac4f...   \n",
       "112941  49b518777958059c93e1ff35155c60475ac9808c0c12a4...   \n",
       "...                                                   ...   \n",
       "325227  c1fb3abc07f67e039af0c4362321e06747754741a221b4...   \n",
       "9824    9b23b6113151f6a9798df04ba1496319d84e43d884d21e...   \n",
       "9983    8bb37d68cf0228e33c134869ed43ce388ad8f05e0aaf35...   \n",
       "416116  d781015b4302df416a3618b5bc3dcc7fc30fd1b25c847b...   \n",
       "309342  43a1fe25b999f051188f77ab38b772478c3f4728ae007e...   \n",
       "\n",
       "                                                hash_less  \\\n",
       "293481  9827fb8afb6f465e768d7f0a09e52e62355a3e4a54d6b8...   \n",
       "276763  ddefa6d9385b2c7157f6adb012cc70d6004bf0c74179f5...   \n",
       "70183   5ffbd5c6a02f08c47c80d877e0767bc10682fbbbba8bca...   \n",
       "52878   61728a5540431f80de24ea030516462aa6434b7f8500ca...   \n",
       "112941  88f05f92ea8cf7fb96ff5302ad0a32e7af5747591ff002...   \n",
       "...                                                   ...   \n",
       "325227  3597032f2228f9ade74bc814912e31ba8fa3bf9783f9c6...   \n",
       "9824    6d957493c4f0a9d5fe5ee77759de9a80dcdb0adee66330...   \n",
       "9983    9a1a66fde3c17a0ab44374dd79d172c936f0edb6992d62...   \n",
       "416116  4e9262c729ca290cdbc351776c419e305eda56ddb70d7a...   \n",
       "309342  01120a9c13700eec909b85ce448c552ffe43a3157ecf43...   \n",
       "\n",
       "                                                hash_more  \\\n",
       "293481  5b0b700a486c9659c49d856e09ee02eb2ff297cc26ac79...   \n",
       "276763  d4abd6637cc2194cd01e3639567592309bb2043f918071...   \n",
       "70183   120921da96f334c132444ecaaa5314e2c03bba78201054...   \n",
       "52878   e7ae21cfb4abde4364af06d95d63741cc85e2ddaf01c88...   \n",
       "112941  820e78062fd5f1ef4610b0290ba346458ffae5ccf6685f...   \n",
       "...                                                   ...   \n",
       "325227  9a2234045bb6e1d907caaa4c40fe2262836c58ff495c34...   \n",
       "9824    fb2fc13bb9f7eb120c3053dc7826f1fdebe25f5ed3e3aa...   \n",
       "9983    ae0fe213214e5f4e56d1f61114cccdd49765b361aff463...   \n",
       "416116  ebaba1f9afb75a112236bca59b23e1df8d7490368d8baf...   \n",
       "309342  bdb448bb35b7699c8fab7a45b880ea3219b104bc6b5f74...   \n",
       "\n",
       "                                               hash_atend  \\\n",
       "293481  e8488ec6367efb1127b722b5c09a68ed4e90d03f7ec172...   \n",
       "276763  85ac0220b22d0ab62805b5f67d04bb9a462261ac5bfb1d...   \n",
       "70183   c9e6c2af63c81a31de8c998fc6f91febb96021499aa4ba...   \n",
       "52878   e1e0944bb26f111441f1971caf03e742544eeb2d50ac4f...   \n",
       "112941  49b518777958059c93e1ff35155c60475ac9808c0c12a4...   \n",
       "...                                                   ...   \n",
       "325227  479d0aa59723a8cf84d4e8d2db47e58b892b8bec6249f2...   \n",
       "9824    9b23b6113151f6a9798df04ba1496319d84e43d884d21e...   \n",
       "9983    8bb37d68cf0228e33c134869ed43ce388ad8f05e0aaf35...   \n",
       "416116  d781015b4302df416a3618b5bc3dcc7fc30fd1b25c847b...   \n",
       "309342  ffee123f5bbc992dbfc51bca835de31c60bdd05b0be638...   \n",
       "\n",
       "                                          hash_less_atend  \\\n",
       "293481  6d82d6f8db00afc3869d928155eb1035174b2755465280...   \n",
       "276763  ddefa6d9385b2c7157f6adb012cc70d6004bf0c74179f5...   \n",
       "70183   5ffbd5c6a02f08c47c80d877e0767bc10682fbbbba8bca...   \n",
       "52878   61728a5540431f80de24ea030516462aa6434b7f8500ca...   \n",
       "112941  88f05f92ea8cf7fb96ff5302ad0a32e7af5747591ff002...   \n",
       "...                                                   ...   \n",
       "325227  e8c357e74c97d256bc7c78c870212506f24b66ff5009bd...   \n",
       "9824    6d957493c4f0a9d5fe5ee77759de9a80dcdb0adee66330...   \n",
       "9983    9a1a66fde3c17a0ab44374dd79d172c936f0edb6992d62...   \n",
       "416116  4e9262c729ca290cdbc351776c419e305eda56ddb70d7a...   \n",
       "309342  38e9e2ebd26b46fc4d0e5ea813b43a72ba341a77fa23fe...   \n",
       "\n",
       "                                          hash_more_atend  \\\n",
       "293481  fa47ef968b5d880fc8530fb7475370fb92afb295c5b581...   \n",
       "276763  d4abd6637cc2194cd01e3639567592309bb2043f918071...   \n",
       "70183   120921da96f334c132444ecaaa5314e2c03bba78201054...   \n",
       "52878   e7ae21cfb4abde4364af06d95d63741cc85e2ddaf01c88...   \n",
       "112941  820e78062fd5f1ef4610b0290ba346458ffae5ccf6685f...   \n",
       "...                                                   ...   \n",
       "325227  f4fbe623036cecf408f5238027d082c9318839f8c22a22...   \n",
       "9824    fb2fc13bb9f7eb120c3053dc7826f1fdebe25f5ed3e3aa...   \n",
       "9983    ae0fe213214e5f4e56d1f61114cccdd49765b361aff463...   \n",
       "416116  ebaba1f9afb75a112236bca59b23e1df8d7490368d8baf...   \n",
       "309342  0c996134adb3b2267d3cc269a1de6e3d2c7f4d03204e17...   \n",
       "\n",
       "                        nome_hash  \n",
       "293481  ROSANGELAANTUNESMACHADODA  \n",
       "276763            BELCHIORMARTINS  \n",
       "70183            NEISEUTERMARTINS  \n",
       "52878                GABRIELGOLIN  \n",
       "112941     DENISESTANKEVICZCORREA  \n",
       "...                           ...  \n",
       "325227                RICARDOAUDI  \n",
       "9824               SIDNEIDECAMPOS  \n",
       "9983            VALMIQUIDEALMEIDA  \n",
       "416116               VICENTEROCHA  \n",
       "309342       MARIADELOURDESCHAGAS  \n",
       "\n",
       "[8233 rows x 49 columns]"
      ],
      "text/html": "<div>\n<style scoped>\n    .dataframe tbody tr th:only-of-type {\n        vertical-align: middle;\n    }\n\n    .dataframe tbody tr th {\n        vertical-align: top;\n    }\n\n    .dataframe thead th {\n        text-align: right;\n    }\n</style>\n<table border=\"1\" class=\"dataframe\">\n  <thead>\n    <tr style=\"text-align: right;\">\n      <th></th>\n      <th>identificacao</th>\n      <th>ibge_res_pr</th>\n      <th>ibge_atend_pr</th>\n      <th>nome</th>\n      <th>sexo</th>\n      <th>idade</th>\n      <th>mun_resid</th>\n      <th>mun_atend</th>\n      <th>laboratorio</th>\n      <th>dt_diag</th>\n      <th>dt_notificacao</th>\n      <th>dt_inicio_sintomas</th>\n      <th>15_dia_isolamento</th>\n      <th>dt_viagem_retorno</th>\n      <th>local_viagem</th>\n      <th>exposicao</th>\n      <th>data_de_internamento</th>\n      <th>local</th>\n      <th>clinico_uti</th>\n      <th>dt_alta</th>\n      <th>obito</th>\n      <th>dt_obito</th>\n      <th>muni_res_pr</th>\n      <th>hist_viagem</th>\n      <th>casos_novos</th>\n      <th>telefone</th>\n      <th>dt_atualizacao</th>\n      <th>fonte</th>\n      <th>status</th>\n      <th>eas</th>\n      <th>privado_sus</th>\n      <th>uti</th>\n      <th>dt_internamento</th>\n      <th>evolucao</th>\n      <th>dt_evolucao</th>\n      <th>temp_permanencia</th>\n      <th>cod_laboratorio</th>\n      <th>idade_original</th>\n      <th>dt_com_obito</th>\n      <th>dt_com_recuperado</th>\n      <th>idade_mais1</th>\n      <th>idade_menos1</th>\n      <th>hash</th>\n      <th>hash_less</th>\n      <th>hash_more</th>\n      <th>hash_atend</th>\n      <th>hash_less_atend</th>\n      <th>hash_more_atend</th>\n      <th>nome_hash</th>\n    </tr>\n  </thead>\n  <tbody>\n    <tr>\n      <th>293481</th>\n      <td>27696</td>\n      <td>4115200</td>\n      <td>4126256</td>\n      <td>ROSANGELA ANTUNES MACHADO DA</td>\n      <td>F</td>\n      <td>54</td>\n      <td>MARINGA</td>\n      <td>SARANDI</td>\n      <td>LACEN</td>\n      <td>2020-03-27</td>\n      <td>2020-03-27</td>\n      <td>2020-03-14</td>\n      <td>NaT</td>\n      <td>NaN</td>\n      <td>NaN</td>\n      <td>NaN</td>\n      <td>NaT</td>\n      <td>NaN</td>\n      <td>NaN</td>\n      <td>NaT</td>\n      <td>SIM</td>\n      <td>2020-03-25</td>\n      <td>NaN</td>\n      <td>NaN</td>\n      <td>NaN</td>\n      <td>NaN</td>\n      <td>NaT</td>\n      <td></td>\n      <td>NaN</td>\n      <td>NaN</td>\n      <td>NaN</td>\n      <td>NaN</td>\n      <td>NaT</td>\n      <td>NaN</td>\n      <td>NaN</td>\n      <td>NaN</td>\n      <td>23</td>\n      <td>54</td>\n      <td>NaT</td>\n      <td>NaT</td>\n      <td>55</td>\n      <td>53</td>\n      <td>59ddac8129df2d9e339ecc671d36e53a53f812cba174e7...</td>\n      <td>9827fb8afb6f465e768d7f0a09e52e62355a3e4a54d6b8...</td>\n      <td>5b0b700a486c9659c49d856e09ee02eb2ff297cc26ac79...</td>\n      <td>e8488ec6367efb1127b722b5c09a68ed4e90d03f7ec172...</td>\n      <td>6d82d6f8db00afc3869d928155eb1035174b2755465280...</td>\n      <td>fa47ef968b5d880fc8530fb7475370fb92afb295c5b581...</td>\n      <td>ROSANGELAANTUNESMACHADODA</td>\n    </tr>\n    <tr>\n      <th>276763</th>\n      <td>4062</td>\n      <td>4115200</td>\n      <td>4115200</td>\n      <td>BELCHIOR MARTINS</td>\n      <td>M</td>\n      <td>84</td>\n      <td>MARINGA</td>\n      <td>MARINGA</td>\n      <td>LACEN</td>\n      <td>2020-03-27</td>\n      <td>2020-03-27</td>\n      <td>2020-03-15</td>\n      <td>NaT</td>\n      <td>NaN</td>\n      <td>NaN</td>\n      <td>NaN</td>\n      <td>NaT</td>\n      <td>NaN</td>\n      <td>NaN</td>\n      <td>NaT</td>\n      <td>SIM</td>\n      <td>2020-03-26</td>\n      <td>NaN</td>\n      <td>NaN</td>\n      <td>NaN</td>\n      <td>NaN</td>\n      <td>NaT</td>\n      <td></td>\n      <td>NaN</td>\n      <td>NaN</td>\n      <td>NaN</td>\n      <td>NaN</td>\n      <td>NaT</td>\n      <td>NaN</td>\n      <td>NaN</td>\n      <td>NaN</td>\n      <td>23</td>\n      <td>84</td>\n      <td>NaT</td>\n      <td>NaT</td>\n      <td>85</td>\n      <td>83</td>\n      <td>85ac0220b22d0ab62805b5f67d04bb9a462261ac5bfb1d...</td>\n      <td>ddefa6d9385b2c7157f6adb012cc70d6004bf0c74179f5...</td>\n      <td>d4abd6637cc2194cd01e3639567592309bb2043f918071...</td>\n      <td>85ac0220b22d0ab62805b5f67d04bb9a462261ac5bfb1d...</td>\n      <td>ddefa6d9385b2c7157f6adb012cc70d6004bf0c74179f5...</td>\n      <td>d4abd6637cc2194cd01e3639567592309bb2043f918071...</td>\n      <td>BELCHIORMARTINS</td>\n    </tr>\n    <tr>\n      <th>70183</th>\n      <td>24247</td>\n      <td>4104808</td>\n      <td>4104808</td>\n      <td>NEI SEUTER MARTINS</td>\n      <td>M</td>\n      <td>66</td>\n      <td>CASCAVEL</td>\n      <td>CASCAVEL</td>\n      <td>LACEN</td>\n      <td>2020-03-29</td>\n      <td>2020-03-29</td>\n      <td>2020-03-14</td>\n      <td>NaT</td>\n      <td>NaN</td>\n      <td>NaN</td>\n      <td>NaN</td>\n      <td>NaT</td>\n      <td>NaN</td>\n      <td>NaN</td>\n      <td>NaT</td>\n      <td>SIM</td>\n      <td>2020-03-30</td>\n      <td>NaN</td>\n      <td>NaN</td>\n      <td>NaN</td>\n      <td>NaN</td>\n      <td>NaT</td>\n      <td></td>\n      <td>NaN</td>\n      <td>NaN</td>\n      <td>NaN</td>\n      <td>NaN</td>\n      <td>NaT</td>\n      <td>NaN</td>\n      <td>NaN</td>\n      <td>NaN</td>\n      <td>23</td>\n      <td>66</td>\n      <td>NaT</td>\n      <td>NaT</td>\n      <td>67</td>\n      <td>65</td>\n      <td>c9e6c2af63c81a31de8c998fc6f91febb96021499aa4ba...</td>\n      <td>5ffbd5c6a02f08c47c80d877e0767bc10682fbbbba8bca...</td>\n      <td>120921da96f334c132444ecaaa5314e2c03bba78201054...</td>\n      <td>c9e6c2af63c81a31de8c998fc6f91febb96021499aa4ba...</td>\n      <td>5ffbd5c6a02f08c47c80d877e0767bc10682fbbbba8bca...</td>\n      <td>120921da96f334c132444ecaaa5314e2c03bba78201054...</td>\n      <td>NEISEUTERMARTINS</td>\n    </tr>\n    <tr>\n      <th>52878</th>\n      <td>11387</td>\n      <td>4104303</td>\n      <td>4104303</td>\n      <td>GABRIEL GOLIN</td>\n      <td>M</td>\n      <td>72</td>\n      <td>CAMPO MOURAO</td>\n      <td>CAMPO MOURAO</td>\n      <td>LACEN</td>\n      <td>2020-04-02</td>\n      <td>2020-04-02</td>\n      <td>2020-03-18</td>\n      <td>NaT</td>\n      <td>NaN</td>\n      <td>NaN</td>\n      <td>NaN</td>\n      <td>NaT</td>\n      <td>NaN</td>\n      <td>NaN</td>\n      <td>NaT</td>\n      <td>SIM</td>\n      <td>2020-03-31</td>\n      <td>NaN</td>\n      <td>NaN</td>\n      <td>NaN</td>\n      <td>NaN</td>\n      <td>NaT</td>\n      <td></td>\n      <td>NaN</td>\n      <td>NaN</td>\n      <td>NaN</td>\n      <td>NaN</td>\n      <td>NaT</td>\n      <td>NaN</td>\n      <td>NaN</td>\n      <td>NaN</td>\n      <td>23</td>\n      <td>72</td>\n      <td>NaT</td>\n      <td>NaT</td>\n      <td>73</td>\n      <td>71</td>\n      <td>e1e0944bb26f111441f1971caf03e742544eeb2d50ac4f...</td>\n      <td>61728a5540431f80de24ea030516462aa6434b7f8500ca...</td>\n      <td>e7ae21cfb4abde4364af06d95d63741cc85e2ddaf01c88...</td>\n      <td>e1e0944bb26f111441f1971caf03e742544eeb2d50ac4f...</td>\n      <td>61728a5540431f80de24ea030516462aa6434b7f8500ca...</td>\n      <td>e7ae21cfb4abde4364af06d95d63741cc85e2ddaf01c88...</td>\n      <td>GABRIELGOLIN</td>\n    </tr>\n    <tr>\n      <th>112941</th>\n      <td>179699</td>\n      <td>4106902</td>\n      <td>4106902</td>\n      <td>DENISE STANKEVICZ CORREA</td>\n      <td>F</td>\n      <td>40</td>\n      <td>CURITIBA</td>\n      <td>CURITIBA</td>\n      <td>HSNG</td>\n      <td>2020-04-03</td>\n      <td>2020-08-27</td>\n      <td>NaT</td>\n      <td>NaT</td>\n      <td>NaN</td>\n      <td>NaN</td>\n      <td>NaN</td>\n      <td>NaT</td>\n      <td>NaN</td>\n      <td>NaN</td>\n      <td>NaT</td>\n      <td>SIM</td>\n      <td>2020-04-02</td>\n      <td>NaN</td>\n      <td>NaN</td>\n      <td>NaN</td>\n      <td>NaN</td>\n      <td>NaT</td>\n      <td></td>\n      <td>NaN</td>\n      <td>NaN</td>\n      <td>NaN</td>\n      <td>NaN</td>\n      <td>NaT</td>\n      <td>NaN</td>\n      <td>NaN</td>\n      <td>NaN</td>\n      <td>43</td>\n      <td>40</td>\n      <td>2020-08-27</td>\n      <td>NaT</td>\n      <td>41</td>\n      <td>39</td>\n      <td>49b518777958059c93e1ff35155c60475ac9808c0c12a4...</td>\n      <td>88f05f92ea8cf7fb96ff5302ad0a32e7af5747591ff002...</td>\n      <td>820e78062fd5f1ef4610b0290ba346458ffae5ccf6685f...</td>\n      <td>49b518777958059c93e1ff35155c60475ac9808c0c12a4...</td>\n      <td>88f05f92ea8cf7fb96ff5302ad0a32e7af5747591ff002...</td>\n      <td>820e78062fd5f1ef4610b0290ba346458ffae5ccf6685f...</td>\n      <td>DENISESTANKEVICZCORREA</td>\n    </tr>\n    <tr>\n      <th>...</th>\n      <td>...</td>\n      <td>...</td>\n      <td>...</td>\n      <td>...</td>\n      <td>...</td>\n      <td>...</td>\n      <td>...</td>\n      <td>...</td>\n      <td>...</td>\n      <td>...</td>\n      <td>...</td>\n      <td>...</td>\n      <td>...</td>\n      <td>...</td>\n      <td>...</td>\n      <td>...</td>\n      <td>...</td>\n      <td>...</td>\n      <td>...</td>\n      <td>...</td>\n      <td>...</td>\n      <td>...</td>\n      <td>...</td>\n      <td>...</td>\n      <td>...</td>\n      <td>...</td>\n      <td>...</td>\n      <td>...</td>\n      <td>...</td>\n      <td>...</td>\n      <td>...</td>\n      <td>...</td>\n      <td>...</td>\n      <td>...</td>\n      <td>...</td>\n      <td>...</td>\n      <td>...</td>\n      <td>...</td>\n      <td>...</td>\n      <td>...</td>\n      <td>...</td>\n      <td>...</td>\n      <td>...</td>\n      <td>...</td>\n      <td>...</td>\n      <td>...</td>\n      <td>...</td>\n      <td>...</td>\n      <td>...</td>\n    </tr>\n    <tr>\n      <th>325227</th>\n      <td>501970</td>\n      <td>4118402</td>\n      <td>4126256</td>\n      <td>RICARDO AUDI</td>\n      <td>M</td>\n      <td>66</td>\n      <td>PARANAVAI</td>\n      <td>SARANDI</td>\n      <td>COVID-19 BIOLOGIA MOLECULAR</td>\n      <td>2020-12-21</td>\n      <td>2021-01-05</td>\n      <td>2020-11-30</td>\n      <td>NaT</td>\n      <td>NaN</td>\n      <td>NaN</td>\n      <td>NaN</td>\n      <td>NaT</td>\n      <td>NaN</td>\n      <td>NaN</td>\n      <td>NaT</td>\n      <td>SIM</td>\n      <td>2021-01-05</td>\n      <td>NaN</td>\n      <td>NaN</td>\n      <td>NaN</td>\n      <td>NaN</td>\n      <td>NaT</td>\n      <td></td>\n      <td>NaN</td>\n      <td>NaN</td>\n      <td>NaN</td>\n      <td>NaN</td>\n      <td>NaT</td>\n      <td>NaN</td>\n      <td>NaN</td>\n      <td>NaN</td>\n      <td>130</td>\n      <td>66</td>\n      <td>2021-01-05</td>\n      <td>NaT</td>\n      <td>67</td>\n      <td>65</td>\n      <td>c1fb3abc07f67e039af0c4362321e06747754741a221b4...</td>\n      <td>3597032f2228f9ade74bc814912e31ba8fa3bf9783f9c6...</td>\n      <td>9a2234045bb6e1d907caaa4c40fe2262836c58ff495c34...</td>\n      <td>479d0aa59723a8cf84d4e8d2db47e58b892b8bec6249f2...</td>\n      <td>e8c357e74c97d256bc7c78c870212506f24b66ff5009bd...</td>\n      <td>f4fbe623036cecf408f5238027d082c9318839f8c22a22...</td>\n      <td>RICARDOAUDI</td>\n    </tr>\n    <tr>\n      <th>9824</th>\n      <td>505558</td>\n      <td>4101408</td>\n      <td>4101408</td>\n      <td>SIDNEI DE CAMPOS</td>\n      <td>M</td>\n      <td>50</td>\n      <td>APUCARANA</td>\n      <td>APUCARANA</td>\n      <td>VIRUS RESPIRATORIO</td>\n      <td>2020-12-21</td>\n      <td>2021-01-06</td>\n      <td>NaT</td>\n      <td>NaT</td>\n      <td>NaN</td>\n      <td>NaN</td>\n      <td>NaN</td>\n      <td>NaT</td>\n      <td>NaN</td>\n      <td>NaN</td>\n      <td>NaT</td>\n      <td>SIM</td>\n      <td>2021-01-05</td>\n      <td>NaN</td>\n      <td>NaN</td>\n      <td>NaN</td>\n      <td>NaN</td>\n      <td>NaT</td>\n      <td></td>\n      <td>NaN</td>\n      <td>NaN</td>\n      <td>NaN</td>\n      <td>NaN</td>\n      <td>NaT</td>\n      <td>NaN</td>\n      <td>NaN</td>\n      <td>NaN</td>\n      <td>144</td>\n      <td>50</td>\n      <td>2021-01-06</td>\n      <td>NaT</td>\n      <td>51</td>\n      <td>49</td>\n      <td>9b23b6113151f6a9798df04ba1496319d84e43d884d21e...</td>\n      <td>6d957493c4f0a9d5fe5ee77759de9a80dcdb0adee66330...</td>\n      <td>fb2fc13bb9f7eb120c3053dc7826f1fdebe25f5ed3e3aa...</td>\n      <td>9b23b6113151f6a9798df04ba1496319d84e43d884d21e...</td>\n      <td>6d957493c4f0a9d5fe5ee77759de9a80dcdb0adee66330...</td>\n      <td>fb2fc13bb9f7eb120c3053dc7826f1fdebe25f5ed3e3aa...</td>\n      <td>SIDNEIDECAMPOS</td>\n    </tr>\n    <tr>\n      <th>9983</th>\n      <td>502609</td>\n      <td>4101408</td>\n      <td>4101408</td>\n      <td>VALMIQUI DE ALMEIDA</td>\n      <td>M</td>\n      <td>65</td>\n      <td>APUCARANA</td>\n      <td>APUCARANA</td>\n      <td>VIRUS RESPIRATORIO</td>\n      <td>2020-12-13</td>\n      <td>2021-01-05</td>\n      <td>NaT</td>\n      <td>NaT</td>\n      <td>NaN</td>\n      <td>NaN</td>\n      <td>NaN</td>\n      <td>NaT</td>\n      <td>NaN</td>\n      <td>NaN</td>\n      <td>NaT</td>\n      <td>SIM</td>\n      <td>2021-01-05</td>\n      <td>NaN</td>\n      <td>NaN</td>\n      <td>NaN</td>\n      <td>NaN</td>\n      <td>NaT</td>\n      <td></td>\n      <td>NaN</td>\n      <td>NaN</td>\n      <td>NaN</td>\n      <td>NaN</td>\n      <td>NaT</td>\n      <td>NaN</td>\n      <td>NaN</td>\n      <td>NaN</td>\n      <td>144</td>\n      <td>65</td>\n      <td>2021-01-05</td>\n      <td>NaT</td>\n      <td>66</td>\n      <td>64</td>\n      <td>8bb37d68cf0228e33c134869ed43ce388ad8f05e0aaf35...</td>\n      <td>9a1a66fde3c17a0ab44374dd79d172c936f0edb6992d62...</td>\n      <td>ae0fe213214e5f4e56d1f61114cccdd49765b361aff463...</td>\n      <td>8bb37d68cf0228e33c134869ed43ce388ad8f05e0aaf35...</td>\n      <td>9a1a66fde3c17a0ab44374dd79d172c936f0edb6992d62...</td>\n      <td>ae0fe213214e5f4e56d1f61114cccdd49765b361aff463...</td>\n      <td>VALMIQUIDEALMEIDA</td>\n    </tr>\n    <tr>\n      <th>416116</th>\n      <td>505791</td>\n      <td>4127700</td>\n      <td>4127700</td>\n      <td>VICENTE ROCHA</td>\n      <td>M</td>\n      <td>71</td>\n      <td>TOLEDO</td>\n      <td>TOLEDO</td>\n      <td>VIRUS RESPIRATORIO</td>\n      <td>2020-12-06</td>\n      <td>2021-01-06</td>\n      <td>2020-11-28</td>\n      <td>NaT</td>\n      <td>NaN</td>\n      <td>NaN</td>\n      <td>NaN</td>\n      <td>NaT</td>\n      <td>NaN</td>\n      <td>NaN</td>\n      <td>NaT</td>\n      <td>SIM</td>\n      <td>2021-01-05</td>\n      <td>NaN</td>\n      <td>NaN</td>\n      <td>NaN</td>\n      <td>NaN</td>\n      <td>NaT</td>\n      <td></td>\n      <td>NaN</td>\n      <td>NaN</td>\n      <td>NaN</td>\n      <td>NaN</td>\n      <td>NaT</td>\n      <td>NaN</td>\n      <td>NaN</td>\n      <td>NaN</td>\n      <td>144</td>\n      <td>71</td>\n      <td>2021-01-06</td>\n      <td>NaT</td>\n      <td>72</td>\n      <td>70</td>\n      <td>d781015b4302df416a3618b5bc3dcc7fc30fd1b25c847b...</td>\n      <td>4e9262c729ca290cdbc351776c419e305eda56ddb70d7a...</td>\n      <td>ebaba1f9afb75a112236bca59b23e1df8d7490368d8baf...</td>\n      <td>d781015b4302df416a3618b5bc3dcc7fc30fd1b25c847b...</td>\n      <td>4e9262c729ca290cdbc351776c419e305eda56ddb70d7a...</td>\n      <td>ebaba1f9afb75a112236bca59b23e1df8d7490368d8baf...</td>\n      <td>VICENTEROCHA</td>\n    </tr>\n    <tr>\n      <th>309342</th>\n      <td>501211</td>\n      <td>4117453</td>\n      <td>4127700</td>\n      <td>MARIA DE LOURDES CHAGAS</td>\n      <td>F</td>\n      <td>86</td>\n      <td>OURO VERDE DO OESTE</td>\n      <td>TOLEDO</td>\n      <td>VIRUS RESPIRATORIO</td>\n      <td>2021-01-01</td>\n      <td>2021-01-05</td>\n      <td>2020-12-31</td>\n      <td>NaT</td>\n      <td>NaN</td>\n      <td>NaN</td>\n      <td>NaN</td>\n      <td>NaT</td>\n      <td>NaN</td>\n      <td>NaN</td>\n      <td>NaT</td>\n      <td>SIM</td>\n      <td>2021-01-06</td>\n      <td>NaN</td>\n      <td>NaN</td>\n      <td>NaN</td>\n      <td>NaN</td>\n      <td>NaT</td>\n      <td></td>\n      <td>NaN</td>\n      <td>NaN</td>\n      <td>NaN</td>\n      <td>NaN</td>\n      <td>NaT</td>\n      <td>NaN</td>\n      <td>NaN</td>\n      <td>NaN</td>\n      <td>144</td>\n      <td>86</td>\n      <td>2021-01-06</td>\n      <td>NaT</td>\n      <td>87</td>\n      <td>85</td>\n      <td>43a1fe25b999f051188f77ab38b772478c3f4728ae007e...</td>\n      <td>01120a9c13700eec909b85ce448c552ffe43a3157ecf43...</td>\n      <td>bdb448bb35b7699c8fab7a45b880ea3219b104bc6b5f74...</td>\n      <td>ffee123f5bbc992dbfc51bca835de31c60bdd05b0be638...</td>\n      <td>38e9e2ebd26b46fc4d0e5ea813b43a72ba341a77fa23fe...</td>\n      <td>0c996134adb3b2267d3cc269a1de6e3d2c7f4d03204e17...</td>\n      <td>MARIADELOURDESCHAGAS</td>\n    </tr>\n  </tbody>\n</table>\n<p>8233 rows × 49 columns</p>\n</div>"
     },
     "metadata": {},
     "execution_count": 7
    }
   ],
   "source": [
    "obitos_tb"
   ]
  },
  {
   "cell_type": "code",
   "execution_count": null,
   "metadata": {},
   "outputs": [],
   "source": []
  }
 ]
}