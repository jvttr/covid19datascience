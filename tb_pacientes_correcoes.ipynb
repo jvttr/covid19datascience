{
 "metadata": {
  "language_info": {
   "codemirror_mode": {
    "name": "ipython",
    "version": 3
   },
   "file_extension": ".py",
   "mimetype": "text/x-python",
   "name": "python",
   "nbconvert_exporter": "python",
   "pygments_lexer": "ipython3",
   "version": "3.8.5-final"
  },
  "orig_nbformat": 2,
  "kernelspec": {
   "name": "python3",
   "display_name": "Python 3",
   "language": "python"
  }
 },
 "nbformat": 4,
 "nbformat_minor": 2,
 "cells": [
  {
   "cell_type": "code",
   "execution_count": 1,
   "metadata": {},
   "outputs": [],
   "source": [
    "from sys import exit\n",
    "import numpy as np\n",
    "import pandas as pd\n",
    "from os.path import dirname, join, isfile, isdir\n",
    "from os import makedirs\n",
    "from datetime import datetime, timedelta\n",
    "\n",
    "from bulletin.data.tb_pacientes import TbPacientes\n",
    "from bulletin.data.casos_confirmados import CasosConfirmados\n",
    "from bulletin.commom.utils import Timer\n",
    "\n",
    "from hashlib import sha256\n",
    "from bulletin.commom.normalize import normalize_text, normalize_number, normalize_hash, normalize_cpf\n",
    "\n",
    "pd.set_option('display.max_columns', None)\n",
    "\n",
    "output = join(\"output\",\"correcoes\",\"tb_pacientes\")\n",
    "\n",
    "if not isdir(output):\n",
    "    makedirs(output)\n",
    "\n",
    "timer = Timer()"
   ]
  },
  {
   "cell_type": "code",
   "execution_count": 2,
   "metadata": {},
   "outputs": [],
   "source": [
    "timer_all = Timer()\n",
    "timer_all.reset()"
   ]
  },
  {
   "cell_type": "code",
   "execution_count": 3,
   "metadata": {},
   "outputs": [
    {
     "output_type": "execute_result",
     "data": {
      "text/plain": [
       "133.48810982704163"
      ]
     },
     "metadata": {},
     "execution_count": 3
    }
   ],
   "source": [
    "timer.reset()\n",
    "tb = TbPacientes()\n",
    "# tb.update()\n",
    "timer.stop()"
   ]
  },
  {
   "cell_type": "code",
   "execution_count": 4,
   "metadata": {},
   "outputs": [
    {
     "output_type": "stream",
     "name": "stdout",
     "text": [
      "Casos confirmados excluidos: 1\n",
      "Obitos confirmados excluidos: 2\n"
     ]
    },
    {
     "output_type": "execute_result",
     "data": {
      "text/plain": [
       "226.73935651779175"
      ]
     },
     "metadata": {},
     "execution_count": 4
    }
   ],
   "source": [
    "timer.reset()\n",
    "casos_confirmados = CasosConfirmados()\n",
    "casos_confirmados.update()\n",
    "timer.stop()"
   ]
  },
  {
   "cell_type": "code",
   "execution_count": 5,
   "metadata": {},
   "outputs": [
    {
     "output_type": "stream",
     "name": "stdout",
     "text": [
      "casos casos_confirmados: (474056, 21)\ncasos tb_pacientes: (471640, 48)\n"
     ]
    }
   ],
   "source": [
    "casost = tb.get()\n",
    "casosc = casos_confirmados.get_casos()\n",
    "print(f\"casos casos_confirmados: {casosc.shape}\")\n",
    "print(f\"casos tb_pacientes: {casost.shape}\")"
   ]
  },
  {
   "cell_type": "code",
   "execution_count": 6,
   "metadata": {},
   "outputs": [],
   "source": [
    "idx_casos_confirmados = casosc[casosc['hash'].isin(casost['hash'])].index.tolist()\n",
    "idx_casos_confirmados += casosc[casosc['hash_less'].isin(casost['hash'])].index.tolist()\n",
    "idx_casos_confirmados += casosc[casosc['hash_more'].isin(casost['hash'])].index.tolist()\n",
    "idx_casos_confirmados += casosc[casosc['hash_atend'].isin(casost['hash_atend'])].index.tolist()\n",
    "idx_casos_confirmados += casosc[casosc['hash_less_atend'].isin(casost['hash_atend'])].index.tolist()\n",
    "idx_casos_confirmados += casosc[casosc['hash_more_atend'].isin(casost['hash_atend'])].index.tolist()\n",
    "idx_casos_confirmados = set(idx_casos_confirmados)\n",
    "casos_confirmados_nao_tb_pacientes = casosc.loc[ set(casosc.index.tolist()) - idx_casos_confirmados ].sort_values('ordem')"
   ]
  },
  {
   "cell_type": "code",
   "execution_count": 7,
   "metadata": {},
   "outputs": [],
   "source": [
    "idx_tb_pacientes = casost[casost['hash'].isin(casosc['hash'])].index.tolist()\n",
    "idx_tb_pacientes += casost[casost['hash'].isin(casosc['hash_less'])].index.tolist()\n",
    "idx_tb_pacientes += casost[casost['hash'].isin(casosc['hash_more'])].index.tolist()\n",
    "idx_tb_pacientes += casost[casost['hash_atend'].isin(casosc['hash_atend'])].index.tolist()\n",
    "idx_tb_pacientes += casost[casost['hash_atend'].isin(casosc['hash_less_atend'])].index.tolist()\n",
    "idx_tb_pacientes += casost[casost['hash_atend'].isin(casosc['hash_more_atend'])].index.tolist()\n",
    "idx_tb_pacientes = set(idx_tb_pacientes)\n",
    "tb_pacientes_nao_casos_confirmados = casost.loc[ set(casost.index.tolist()) - idx_tb_pacientes ].sort_values('identificacao')\n"
   ]
  },
  {
   "cell_type": "code",
   "execution_count": 8,
   "metadata": {},
   "outputs": [
    {
     "output_type": "stream",
     "name": "stdout",
     "text": [
      "casos_confirmados_nao_tb_pacientes: (12, 21)\ntb_pacientes_nao_casos_confirmados: (1, 48)\n"
     ]
    }
   ],
   "source": [
    "print(f\"casos_confirmados_nao_tb_pacientes: {casos_confirmados_nao_tb_pacientes.shape}\")\n",
    "if len(casos_confirmados_nao_tb_pacientes) > 0:\n",
    "    casos_confirmados_nao_tb_pacientes.sort_values('nome').to_excel(join(output,'casos_confirmados_nao_tb_pacientes.xlsx'), index=False)\n",
    "print(f\"tb_pacientes_nao_casos_confirmados: {tb_pacientes_nao_casos_confirmados.shape}\")\n",
    "if len(tb_pacientes_nao_casos_confirmados) > 0:\n",
    "    tb_pacientes_nao_casos_confirmados.sort_values('nome').to_excel(join(output,'tb_pacientes_nao_casos_confirmados.xlsx'), index=False)"
   ]
  },
  {
   "cell_type": "code",
   "execution_count": 9,
   "metadata": {},
   "outputs": [],
   "source": [
    "casost['ibge_res_pr'] = casost['ibge_res_pr'].fillna('9999999')\n",
    "casosc['ibge7'] = casosc['ibge7'].fillna('9999999')"
   ]
  },
  {
   "cell_type": "code",
   "execution_count": 10,
   "metadata": {},
   "outputs": [],
   "source": [
    "casosc['nome_hash'] = casosc['nome'].apply(normalize_hash)\n",
    "casost['nome_hash'] = casost['nome'].apply(normalize_hash)"
   ]
  },
  {
   "cell_type": "code",
   "execution_count": 11,
   "metadata": {},
   "outputs": [
    {
     "output_type": "error",
     "ename": "TypeError",
     "evalue": "'bool' object is not iterable",
     "traceback": [
      "\u001b[1;31m---------------------------------------------------------------------------\u001b[0m",
      "\u001b[1;31mTypeError\u001b[0m                                 Traceback (most recent call last)",
      "\u001b[1;32m<ipython-input-11-517a5fb6a564>\u001b[0m in \u001b[0;36m<module>\u001b[1;34m\u001b[0m\n\u001b[1;32m----> 1\u001b[1;33m \u001b[0mprint\u001b[0m\u001b[1;33m(\u001b[0m\u001b[0mall\u001b[0m\u001b[1;33m(\u001b[0m\u001b[0mcasosc\u001b[0m\u001b[1;33m[\u001b[0m\u001b[1;34m'nome_hash'\u001b[0m\u001b[1;33m]\u001b[0m\u001b[1;33m.\u001b[0m\u001b[0mvalues\u001b[0m \u001b[1;33m==\u001b[0m \u001b[0mcasost\u001b[0m\u001b[1;33m[\u001b[0m\u001b[1;34m'nome_hash'\u001b[0m\u001b[1;33m]\u001b[0m\u001b[1;33m.\u001b[0m\u001b[0mvalues\u001b[0m\u001b[1;33m)\u001b[0m\u001b[1;33m)\u001b[0m\u001b[1;33m\u001b[0m\u001b[1;33m\u001b[0m\u001b[0m\n\u001b[0m\u001b[0;32m      2\u001b[0m \u001b[0mprint\u001b[0m\u001b[1;33m(\u001b[0m\u001b[0mall\u001b[0m\u001b[1;33m(\u001b[0m\u001b[0mcasosc\u001b[0m\u001b[1;33m[\u001b[0m\u001b[1;34m'ibge7'\u001b[0m\u001b[1;33m]\u001b[0m\u001b[1;33m.\u001b[0m\u001b[0mvalues\u001b[0m \u001b[1;33m==\u001b[0m \u001b[0mcasost\u001b[0m\u001b[1;33m[\u001b[0m\u001b[1;34m'ibge_res_pr'\u001b[0m\u001b[1;33m]\u001b[0m\u001b[1;33m.\u001b[0m\u001b[0mvalues\u001b[0m\u001b[1;33m)\u001b[0m\u001b[1;33m)\u001b[0m\u001b[1;33m\u001b[0m\u001b[1;33m\u001b[0m\u001b[0m\n\u001b[0;32m      3\u001b[0m \u001b[1;31m# exit()\u001b[0m\u001b[1;33m\u001b[0m\u001b[1;33m\u001b[0m\u001b[1;33m\u001b[0m\u001b[0m\n",
      "\u001b[1;31mTypeError\u001b[0m: 'bool' object is not iterable"
     ]
    }
   ],
   "source": [
    "print(all(casosc['nome_hash'].values == casost['nome_hash'].values))\n",
    "print(all(casosc['ibge7'].values == casost['ibge_res_pr'].values))\n",
    "# exit()"
   ]
  },
  {
   "cell_type": "code",
   "execution_count": null,
   "metadata": {},
   "outputs": [],
   "source": [
    "timer.reset()\n",
    "\n",
    "sorted_casosc = pd.DataFrame(columns=casosc.columns, dtype=casosc.dtypes.values)\n",
    "for mun, df_mun in casosc.groupby('ibge7'):\n",
    "    sorted_casosc = sorted_casosc.append(df_mun.sort_values('nome_hash'))\n",
    "\n",
    "sorted_casost = pd.DataFrame(columns=casost.columns, dtype=casost.dtypes.values)\n",
    "for mun, df_mun in casost.groupby('ibge_res_pr'):\n",
    "    sorted_casost = sorted_casost.append(df_mun.sort_values('nome_hash'))\n",
    "\n",
    "casosc = sorted_casosc\n",
    "print(f\"casos casos_confirmados: {sorted_casosc.shape}\")\n",
    "casost = sorted_casost\n",
    "print(f\"casos tb_pacientes: {casost.shape}\")\n",
    "print(timer.stop())"
   ]
  },
  {
   "cell_type": "code",
   "execution_count": null,
   "metadata": {},
   "outputs": [],
   "source": [
    "print(all(casosc['nome_hash'].values == casost['nome_hash'].values))\n",
    "print(all(casosc['ibge7'].values == casost['ibge_res_pr'].values))"
   ]
  },
  {
   "cell_type": "code",
   "execution_count": null,
   "metadata": {},
   "outputs": [],
   "source": [
    "casosc = casosc.drop(columns=['hash','hash_less','hash_more','hash_atend','hash_less_atend','hash_more_atend'])\n",
    "casost = casost.drop(columns=['hash','hash_less','hash_more','hash_atend','hash_less_atend','hash_more_atend'])"
   ]
  },
  {
   "cell_type": "code",
   "execution_count": null,
   "metadata": {},
   "outputs": [],
   "source": [
    "casosc['idade_mais1'] = casosc['idade'] + 1\n",
    "casosc['idade_menos1'] = casosc['idade'] - 1"
   ]
  },
  {
   "cell_type": "code",
   "execution_count": null,
   "metadata": {},
   "outputs": [],
   "source": [
    "writer = pd.ExcelWriter(join(output,\"novos_tb_pacientes.xlsx\"),\n",
    "                        engine='xlsxwriter',\n",
    "                        datetime_format='dd/mm/yyyy',\n",
    "                        date_format='dd/mm/yyyy')\n",
    "\n",
    "casost.to_excel(writer,index=None)\n",
    "\n",
    "writer.save()\n",
    "writer.close()"
   ]
  },
  {
   "cell_type": "code",
   "execution_count": null,
   "metadata": {},
   "outputs": [],
   "source": [
    "writer = pd.ExcelWriter(join(output,\"casos_ordenados.xlsx\"),\n",
    "                        engine='xlsxwriter',\n",
    "                        datetime_format='dd/mm/yyyy',\n",
    "                        date_format='dd/mm/yyyy')\n",
    "\n",
    "casosc.to_excel(writer,index=None)\n",
    "\n",
    "writer.save()\n",
    "writer.close()"
   ]
  },
  {
   "cell_type": "code",
   "execution_count": null,
   "metadata": {},
   "outputs": [],
   "source": [
    "print(timedelta(seconds=timer_all.stop()))\n",
    "exit()"
   ]
  },
  {
   "cell_type": "code",
   "execution_count": null,
   "metadata": {
    "tags": []
   },
   "outputs": [],
   "source": [
    "# casost = tb.get()\n",
    "# casost['nome_hash'] = casost['nome'].apply(normalize_hash)\n",
    "writer = pd.ExcelWriter(\"obitos_tb.xlsx\",\n",
    "                        engine='xlsxwriter',\n",
    "                        datetime_format='dd/mm/yyyy',\n",
    "                        date_format='dd/mm/yyyy')\n",
    "\n",
    "\n",
    "obitos_tb = pd.DataFrame(columns=casost.columns, dtype=casost.dtypes.values)\n",
    "\n",
    "for dt, df in casost.loc[casost['obito']=='SIM'].sort_values('dt_obito').groupby('dt_obito'):\n",
    "    obitos_tb = obitos_tb.append(df.sort_values('nome_hash'))\n",
    "\n",
    "obitos_tb[['nome','sexo','idade','mun_resid','telefone','dt_obito']].to_excel(writer,index=None)\n",
    "writer.save()\n",
    "writer.close()"
   ]
  },
  {
   "cell_type": "code",
   "execution_count": null,
   "metadata": {},
   "outputs": [],
   "source": [
    "obitos_tb"
   ]
  },
  {
   "cell_type": "code",
   "execution_count": null,
   "metadata": {},
   "outputs": [],
   "source": []
  }
 ]
}