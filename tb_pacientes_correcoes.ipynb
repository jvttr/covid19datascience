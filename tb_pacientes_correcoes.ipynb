{
 "cells": [
  {
   "cell_type": "code",
   "execution_count": 1,
   "metadata": {},
   "outputs": [],
   "source": [
    "from sys import exit\n",
    "import numpy as np\n",
    "import pandas as pd\n",
    "from os.path import dirname, join, isfile, isdir\n",
    "from os import makedirs\n",
    "from datetime import datetime, timedelta\n",
    "\n",
    "from bulletin.data.tb_pacientes import TbPacientes\n",
    "from bulletin.data.casos_confirmados import CasosConfirmados\n",
    "from bulletin.commom.utils import Timer\n",
    "\n",
    "from hashlib import sha256\n",
    "from bulletin.commom.normalize import normalize_text, normalize_number, normalize_hash, normalize_cpf\n",
    "\n",
    "pd.set_option('display.max_columns', None)\n",
    "\n",
    "output = join(\"output\",\"correcoes\",\"tb_pacientes\")\n",
    "\n",
    "if not isdir(output):\n",
    "    makedirs(output)\n",
    "\n",
    "timer = Timer()"
   ]
  },
  {
   "cell_type": "code",
   "execution_count": 2,
   "metadata": {},
   "outputs": [],
   "source": [
    "timer_all = Timer()\n",
    "timer_all.reset()"
   ]
  },
  {
   "cell_type": "code",
   "execution_count": 3,
   "metadata": {},
   "outputs": [
    {
     "output_type": "execute_result",
     "data": {
      "text/plain": [
       "1.2067456245422363"
      ]
     },
     "metadata": {},
     "execution_count": 3
    }
   ],
   "source": [
    "timer.reset()\n",
    "tb = TbPacientes()\n",
    "tb.update()\n",
    "timer.stop()"
   ]
  },
  {
   "cell_type": "code",
   "execution_count": 4,
   "metadata": {},
   "outputs": [
    {
     "output_type": "stream",
     "name": "stdout",
     "text": [
      "Index(['ordem', 'ibge_res_pr', 'rs_res_pr', 'nome', 'sexo', 'idade',\n",
      "       'mun_resid', 'mun_atend', 'rs', 'laboratorio', 'dt_diag', 'comunicacao',\n",
      "       'is', 'obito', 'data_obito', 'excluir'],\n",
      "      dtype='object')\n",
      "Casos confirmados excluidos: 0\n",
      "Obitos confirmados excluidos: 0\n"
     ]
    },
    {
     "output_type": "execute_result",
     "data": {
      "text/plain": [
       "259.28191232681274"
      ]
     },
     "metadata": {},
     "execution_count": 4
    }
   ],
   "source": [
    "timer.reset()\n",
    "casos_confirmados = CasosConfirmados()\n",
    "casos_confirmados.update()\n",
    "timer.stop()"
   ]
  },
  {
   "cell_type": "code",
   "execution_count": 5,
   "metadata": {},
   "outputs": [
    {
     "output_type": "stream",
     "name": "stdout",
     "text": [
      "casos casos_confirmados: (515464, 23)\ncasos tb_pacientes: (515464, 48)\n"
     ]
    }
   ],
   "source": [
    "casost = tb.get()\n",
    "casosc = casos_confirmados.get_casos()\n",
    "print(f\"casos casos_confirmados: {casosc.shape}\")\n",
    "print(f\"casos tb_pacientes: {casost.shape}\")"
   ]
  },
  {
   "cell_type": "code",
   "execution_count": 6,
   "metadata": {},
   "outputs": [],
   "source": [
    "idx_casos_confirmados = casosc[casosc['hash'].isin(casost['hash'])].index.tolist()\n",
    "idx_casos_confirmados += casosc[casosc['hash_less'].isin(casost['hash'])].index.tolist()\n",
    "idx_casos_confirmados += casosc[casosc['hash_more'].isin(casost['hash'])].index.tolist()\n",
    "idx_casos_confirmados += casosc[casosc['hash_atend'].isin(casost['hash_atend'])].index.tolist()\n",
    "idx_casos_confirmados += casosc[casosc['hash_less_atend'].isin(casost['hash_atend'])].index.tolist()\n",
    "idx_casos_confirmados += casosc[casosc['hash_more_atend'].isin(casost['hash_atend'])].index.tolist()\n",
    "idx_casos_confirmados = set(idx_casos_confirmados)\n",
    "casos_confirmados_nao_tb_pacientes = casosc.loc[ set(casosc.index.tolist()) - idx_casos_confirmados ].sort_values('ordem')"
   ]
  },
  {
   "cell_type": "code",
   "execution_count": 7,
   "metadata": {},
   "outputs": [],
   "source": [
    "idx_tb_pacientes = casost[casost['hash'].isin(casosc['hash'])].index.tolist()\n",
    "idx_tb_pacientes += casost[casost['hash'].isin(casosc['hash_less'])].index.tolist()\n",
    "idx_tb_pacientes += casost[casost['hash'].isin(casosc['hash_more'])].index.tolist()\n",
    "idx_tb_pacientes += casost[casost['hash_atend'].isin(casosc['hash_atend'])].index.tolist()\n",
    "idx_tb_pacientes += casost[casost['hash_atend'].isin(casosc['hash_less_atend'])].index.tolist()\n",
    "idx_tb_pacientes += casost[casost['hash_atend'].isin(casosc['hash_more_atend'])].index.tolist()\n",
    "idx_tb_pacientes = set(idx_tb_pacientes)\n",
    "tb_pacientes_nao_casos_confirmados = casost.loc[ set(casost.index.tolist()) - idx_tb_pacientes ].sort_values('identificacao')\n"
   ]
  },
  {
   "cell_type": "code",
   "execution_count": 8,
   "metadata": {},
   "outputs": [
    {
     "output_type": "stream",
     "name": "stdout",
     "text": [
      "casos_confirmados_nao_tb_pacientes: (9, 23)\ntb_pacientes_nao_casos_confirmados: (0, 48)\n"
     ]
    },
    {
     "output_type": "error",
     "ename": "SystemExit",
     "evalue": "",
     "traceback": [
      "An exception has occurred, use %tb to see the full traceback.\n",
      "\u001b[1;31mSystemExit\u001b[0m\n"
     ]
    }
   ],
   "source": [
    "print(f\"casos_confirmados_nao_tb_pacientes: {casos_confirmados_nao_tb_pacientes.shape}\")\n",
    "if len(casos_confirmados_nao_tb_pacientes) > 0:\n",
    "    casos_confirmados_nao_tb_pacientes.sort_values('nome').to_excel(join(output,'casos_confirmados_nao_tb_pacientes.xlsx'), index=False)\n",
    "print(f\"tb_pacientes_nao_casos_confirmados: {tb_pacientes_nao_casos_confirmados.shape}\")\n",
    "if len(tb_pacientes_nao_casos_confirmados) > 0:\n",
    "    tb_pacientes_nao_casos_confirmados.sort_values('nome').to_excel(join(output,'tb_pacientes_nao_casos_confirmados.xlsx'), index=False)\n",
    "exit()"
   ]
  },
  {
   "cell_type": "code",
   "execution_count": 17,
   "metadata": {},
   "outputs": [],
   "source": [
    "casost['ibge_res_pr'] = casost['ibge_res_pr'].fillna('9999999')\n",
    "casosc['ibge7'] = casosc['ibge7'].fillna('9999999')"
   ]
  },
  {
   "cell_type": "code",
   "execution_count": 18,
   "metadata": {},
   "outputs": [],
   "source": [
    "casosc['nome_hash'] = casosc['nome'].apply(normalize_hash)\n",
    "casost['nome_hash'] = casost['nome'].apply(normalize_hash)"
   ]
  },
  {
   "cell_type": "code",
   "execution_count": 19,
   "metadata": {},
   "outputs": [
    {
     "output_type": "stream",
     "name": "stdout",
     "text": [
      "False\nFalse\n"
     ]
    }
   ],
   "source": [
    "print(all(casosc['nome_hash'].values == casost['nome_hash'].values))\n",
    "print(all(casosc['ibge7'].values == casost['ibge_res_pr'].values))\n",
    "# exit()"
   ]
  },
  {
   "cell_type": "code",
   "execution_count": 20,
   "metadata": {},
   "outputs": [
    {
     "output_type": "error",
     "ename": "SyntaxError",
     "evalue": "invalid syntax (<ipython-input-20-c12129e84a2a>, line 5)",
     "traceback": [
      "\u001b[1;36m  File \u001b[1;32m\"<ipython-input-20-c12129e84a2a>\"\u001b[1;36m, line \u001b[1;32m5\u001b[0m\n\u001b[1;33m    for nome, df_nome in df_mun.groupby('nome_hash')\u001b[0m\n\u001b[1;37m                                                    ^\u001b[0m\n\u001b[1;31mSyntaxError\u001b[0m\u001b[1;31m:\u001b[0m invalid syntax\n"
     ]
    }
   ],
   "source": [
    "timer.reset()\n",
    "\n",
    "sorted_casosc = pd.DataFrame(columns=casosc.columns, dtype=casosc.dtypes.values)\n",
    "for mun, df_mun in casosc.groupby('ibge7'):\n",
    "    for nome, df_nome in df_mun.groupby('nome_hash')\n",
    "        sorted_casosc = sorted_casosc.append(df_nome.sort_values('idade'))\n",
    "\n",
    "sorted_casost = pd.DataFrame(columns=casost.columns, dtype=casost.dtypes.values)\n",
    "for mun, df_mun in casost.groupby('ibge_res_pr'):\n",
    "    for nome, df_nome in df_mun.groupby('nome_hash')\n",
    "        sorted_casost = sorted_casost.append(df_nome.sort_values('idade'))\n",
    "\n",
    "casosc = sorted_casosc\n",
    "print(f\"casos casos_confirmados: {sorted_casosc.shape}\")\n",
    "casost = sorted_casost\n",
    "print(f\"casos tb_pacientes: {casost.shape}\")\n",
    "print(timer.stop())"
   ]
  },
  {
   "cell_type": "code",
   "execution_count": null,
   "metadata": {},
   "outputs": [],
   "source": [
    "print(all(casosc['nome_hash'].values == casost['nome_hash'].values))\n",
    "print(all(casosc['ibge7'].values == casost['ibge_res_pr'].values))"
   ]
  },
  {
   "cell_type": "code",
   "execution_count": null,
   "metadata": {},
   "outputs": [],
   "source": [
    "casosc = casosc.drop(columns=['hash','hash_less','hash_more','hash_atend','hash_less_atend','hash_more_atend'])\n",
    "casost = casost.drop(columns=['hash','hash_less','hash_more','hash_atend','hash_less_atend','hash_more_atend'])"
   ]
  },
  {
   "cell_type": "code",
   "execution_count": null,
   "metadata": {},
   "outputs": [],
   "source": [
    "casosc['idade_mais1'] = casosc['idade'] + 1\n",
    "casosc['idade_menos1'] = casosc['idade'] - 1"
   ]
  },
  {
   "cell_type": "code",
   "execution_count": null,
   "metadata": {},
   "outputs": [],
   "source": [
    "writer = pd.ExcelWriter(join(output,\"novos_tb_pacientes.xlsx\"),\n",
    "                        engine='xlsxwriter',\n",
    "                        datetime_format='dd/mm/yyyy',\n",
    "                        date_format='dd/mm/yyyy')\n",
    "\n",
    "casost.to_excel(writer,index=None)\n",
    "\n",
    "writer.save()\n",
    "writer.close()"
   ]
  },
  {
   "cell_type": "code",
   "execution_count": null,
   "metadata": {},
   "outputs": [],
   "source": [
    "writer = pd.ExcelWriter(join(output,\"casos_ordenados.xlsx\"),\n",
    "                        engine='xlsxwriter',\n",
    "                        datetime_format='dd/mm/yyyy',\n",
    "                        date_format='dd/mm/yyyy')\n",
    "\n",
    "casosc.to_excel(writer,index=None)\n",
    "\n",
    "writer.save()\n",
    "writer.close()"
   ]
  },
  {
   "cell_type": "code",
   "execution_count": null,
   "metadata": {},
   "outputs": [],
   "source": [
    "print(timedelta(seconds=timer_all.stop()))"
   ]
  },
  {
   "cell_type": "code",
   "execution_count": null,
   "metadata": {},
   "outputs": [],
   "source": [
    "writer = pd.ExcelWriter(join(output,\"id_access.xlsx\"),\n",
    "                        engine='xlsxwriter')\n",
    "\n",
    "pd.DataFrame.from_dict({'ordem':casosc['ordem'],'identificacao':casost['identificacao']}).sort_values('ordem').to_excel(writer,index=None)\n",
    "\n",
    "writer.save()\n",
    "writer.close()"
   ]
  }
 ],
 "metadata": {
  "kernelspec": {
   "display_name": "Python 3",
   "language": "python",
   "name": "python3"
  },
  "language_info": {
   "codemirror_mode": {
    "name": "ipython",
    "version": 3
   },
   "file_extension": ".py",
   "mimetype": "text/x-python",
   "name": "python",
   "nbconvert_exporter": "python",
   "pygments_lexer": "ipython3",
   "version": "3.8.5-final"
  }
 },
 "nbformat": 4,
 "nbformat_minor": 2
}